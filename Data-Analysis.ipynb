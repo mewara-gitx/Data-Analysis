{
 "cells": [
  {
   "cell_type": "markdown",
   "source": "# Television Data Analysis",
   "metadata": {
    "formattedRanges": [],
    "is_collapsed": false,
    "cell_id": "a737177e86cf4491be9db8ad4f55532e",
    "tags": [],
    "deepnote_cell_type": "text-cell-h1"
   }
  },
  {
   "cell_type": "markdown",
   "source": "### Importing Necessary libraires",
   "metadata": {
    "formattedRanges": [],
    "is_collapsed": false,
    "cell_id": "c874dca169144f61bf4d50404cd8f080",
    "tags": [],
    "deepnote_cell_type": "text-cell-h3"
   }
  },
  {
   "cell_type": "code",
   "metadata": {
    "tags": [],
    "cell_id": "8e8d0831-d448-4f58-b693-62638c957b1e",
    "deepnote_to_be_reexecuted": false,
    "source_hash": "f00ead9c",
    "execution_start": 1660822401959,
    "execution_millis": 1993,
    "deepnote_cell_type": "code",
    "deepnote_cell_height": 148
   },
   "source": "import pandas as pd\nimport numpy as np\nimport seaborn as sns\nimport matplotlib.pyplot as plt\n%matplotlib inline",
   "outputs": [],
   "execution_count": null
  },
  {
   "cell_type": "markdown",
   "source": "### Reading the Data from csv",
   "metadata": {
    "formattedRanges": [],
    "is_collapsed": false,
    "cell_id": "65bb9548210049e68eb68035ad233a44",
    "tags": [],
    "deepnote_cell_type": "text-cell-h3"
   }
  },
  {
   "cell_type": "code",
   "metadata": {
    "cell_id": "6404d5dfdd204fc58efbe09dc7095174",
    "tags": [],
    "deepnote_to_be_reexecuted": false,
    "source_hash": "ef784e12",
    "execution_start": 1660822403955,
    "execution_millis": 20,
    "deepnote_cell_type": "code",
    "deepnote_cell_height": 111.53125
   },
   "source": "df_tele = pd.read_csv('dataset/television.csv',error_bad_lines=False)",
   "outputs": [
    {
     "name": "stderr",
     "text": "b'Skipping line 276: expected 12 fields, saw 14\\nSkipping line 366: expected 12 fields, saw 13\\nSkipping line 595: expected 12 fields, saw 13\\n'\n",
     "output_type": "stream"
    }
   ],
   "execution_count": null
  },
  {
   "cell_type": "markdown",
   "source": "### Getting the information about the data",
   "metadata": {
    "formattedRanges": [],
    "is_collapsed": false,
    "cell_id": "b4faa0b0faa548a5a5002ffdf5abf07d",
    "tags": [],
    "deepnote_cell_type": "text-cell-h3"
   }
  },
  {
   "cell_type": "code",
   "metadata": {
    "cell_id": "1822a9a4a16e45479f74cf617f7bd11d",
    "tags": [],
    "deepnote_to_be_reexecuted": false,
    "source_hash": "28ea4784",
    "execution_start": 1660822403993,
    "execution_millis": 36,
    "deepnote_cell_type": "code",
    "deepnote_cell_height": 406.65625
   },
   "source": "df_tele.head()",
   "outputs": [
    {
     "output_type": "execute_result",
     "execution_count": 3,
     "data": {
      "application/vnd.deepnote.dataframe.v3+json": {
       "column_count": 12,
       "row_count": 5,
       "columns": [
        {
         "name": "Product_Name",
         "dtype": "object",
         "stats": {
          "unique_count": 5,
          "nan_count": 0,
          "categories": [
           {
            "name": "Croma",
            "count": 1
           },
           {
            "name": "Adsun",
            "count": 1
           },
           {
            "name": "3 others",
            "count": 3
           }
          ]
         }
        },
        {
         "name": "Stars",
         "dtype": "float64",
         "stats": {
          "unique_count": 4,
          "nan_count": 0,
          "min": "3.8",
          "max": "4.4",
          "histogram": [
           {
            "bin_start": 3.8,
            "bin_end": 3.86,
            "count": 1
           },
           {
            "bin_start": 3.86,
            "bin_end": 3.92,
            "count": 0
           },
           {
            "bin_start": 3.92,
            "bin_end": 3.98,
            "count": 0
           },
           {
            "bin_start": 3.98,
            "bin_end": 4.04,
            "count": 0
           },
           {
            "bin_start": 4.04,
            "bin_end": 4.1,
            "count": 0
           },
           {
            "bin_start": 4.1,
            "bin_end": 4.16,
            "count": 0
           },
           {
            "bin_start": 4.16,
            "bin_end": 4.220000000000001,
            "count": 1
           },
           {
            "bin_start": 4.220000000000001,
            "bin_end": 4.28,
            "count": 0
           },
           {
            "bin_start": 4.28,
            "bin_end": 4.34,
            "count": 2
           },
           {
            "bin_start": 4.34,
            "bin_end": 4.4,
            "count": 1
           }
          ]
         }
        },
        {
         "name": "Ratings",
         "dtype": "int64",
         "stats": {
          "unique_count": 5,
          "nan_count": 0,
          "min": "1773",
          "max": "101256",
          "histogram": [
           {
            "bin_start": 1773,
            "bin_end": 11721.3,
            "count": 3
           },
           {
            "bin_start": 11721.3,
            "bin_end": 21669.6,
            "count": 0
           },
           {
            "bin_start": 21669.6,
            "bin_end": 31617.899999999998,
            "count": 0
           },
           {
            "bin_start": 31617.899999999998,
            "bin_end": 41566.2,
            "count": 1
           },
           {
            "bin_start": 41566.2,
            "bin_end": 51514.5,
            "count": 0
           },
           {
            "bin_start": 51514.5,
            "bin_end": 61462.799999999996,
            "count": 0
           },
           {
            "bin_start": 61462.799999999996,
            "bin_end": 71411.09999999999,
            "count": 0
           },
           {
            "bin_start": 71411.09999999999,
            "bin_end": 81359.4,
            "count": 0
           },
           {
            "bin_start": 81359.4,
            "bin_end": 91307.7,
            "count": 0
           },
           {
            "bin_start": 91307.7,
            "bin_end": 101256,
            "count": 1
           }
          ]
         }
        },
        {
         "name": "Reviews",
         "dtype": "int64",
         "stats": {
          "unique_count": 5,
          "nan_count": 0,
          "min": "217",
          "max": "9189",
          "histogram": [
           {
            "bin_start": 217,
            "bin_end": 1114.2,
            "count": 3
           },
           {
            "bin_start": 1114.2,
            "bin_end": 2011.4,
            "count": 0
           },
           {
            "bin_start": 2011.4,
            "bin_end": 2908.6000000000004,
            "count": 0
           },
           {
            "bin_start": 2908.6000000000004,
            "bin_end": 3805.8,
            "count": 1
           },
           {
            "bin_start": 3805.8,
            "bin_end": 4703,
            "count": 0
           },
           {
            "bin_start": 4703,
            "bin_end": 5600.200000000001,
            "count": 0
           },
           {
            "bin_start": 5600.200000000001,
            "bin_end": 6497.400000000001,
            "count": 0
           },
           {
            "bin_start": 6497.400000000001,
            "bin_end": 7394.6,
            "count": 0
           },
           {
            "bin_start": 7394.6,
            "bin_end": 8291.8,
            "count": 0
           },
           {
            "bin_start": 8291.8,
            "bin_end": 9189,
            "count": 1
           }
          ]
         }
        },
        {
         "name": "current_price",
         "dtype": "object",
         "stats": {
          "unique_count": 4,
          "nan_count": 0,
          "categories": [
           {
            "name": "₹16499",
            "count": 2
           },
           {
            "name": "₹7990",
            "count": 1
           },
           {
            "name": "2 others",
            "count": 2
           }
          ]
         }
        },
        {
         "name": "MRP",
         "dtype": "object",
         "stats": {
          "unique_count": 4,
          "nan_count": 0,
          "categories": [
           {
            "name": "₹21999",
            "count": 2
           },
           {
            "name": "₹20000",
            "count": 1
           },
           {
            "name": "2 others",
            "count": 2
           }
          ]
         }
        },
        {
         "name": "channel",
         "dtype": "object",
         "stats": {
          "unique_count": 3,
          "nan_count": 0,
          "categories": [
           {
            "name": "Netflix|Prime Video|Disney+Hotstar|Youtube",
            "count": 3
           },
           {
            "name": "HD Ready 1366 x 768 Pixels",
            "count": 1
           },
           {
            "name": "Netflix|Disney+Hotstar|Youtube",
            "count": 1
           }
          ]
         }
        },
        {
         "name": "Operating_system",
         "dtype": "object",
         "stats": {
          "unique_count": 4,
          "nan_count": 0,
          "categories": [
           {
            "name": "Operating System: Android",
            "count": 2
           },
           {
            "name": "20 Speaker Output",
            "count": 1
           },
           {
            "name": "2 others",
            "count": 2
           }
          ]
         }
        },
        {
         "name": "Picture_qualtiy",
         "dtype": "object",
         "stats": {
          "unique_count": 2,
          "nan_count": 0,
          "categories": [
           {
            "name": "HD Ready 1366 x 768 Pixels",
            "count": 4
           },
           {
            "name": "60 Hz Refresh Rate",
            "count": 1
           }
          ]
         }
        },
        {
         "name": "Speaker",
         "dtype": "object",
         "stats": {
          "unique_count": 3,
          "nan_count": 0,
          "categories": [
           {
            "name": "20 W Speaker Output",
            "count": 3
           },
           {
            "name": "2 x HDMI | 2 x USB",
            "count": 1
           },
           {
            "name": "10 W Speaker Output",
            "count": 1
           }
          ]
         }
        },
        {
         "name": "Frequency",
         "dtype": "object",
         "stats": {
          "unique_count": 3,
          "nan_count": 0,
          "categories": [
           {
            "name": "60 Hz Refresh Rate",
            "count": 3
           },
           {
            "name": "1 Year Warranty",
            "count": 1
           },
           {
            "name": "50 Hz Refresh Rate",
            "count": 1
           }
          ]
         }
        },
        {
         "name": "Image_url",
         "dtype": "object",
         "stats": {
          "unique_count": 5,
          "nan_count": 0,
          "categories": [
           {
            "name": "https://rukminim1.flixcart.com/image/312/312/ku1k4280/television/p/f/6/crel7369-croma-original-imag7969pxhrwp2k.jpeg?q=70",
            "count": 1
           },
           {
            "name": "https://rukminim1.flixcart.com/image/312/312/krntoy80/television/u/d/y/a-3200s-adsun-original-imag5edguuyn54fh.jpeg?q=70",
            "count": 1
           },
           {
            "name": "3 others",
            "count": 3
           }
          ]
         }
        },
        {
         "name": "_deepnote_index_column",
         "dtype": "int64"
        }
       ],
       "rows": [
        {
         "Product_Name": "Croma",
         "Stars": 4.2,
         "Ratings": 1773,
         "Reviews": 217,
         "current_price": "₹7990",
         "MRP": "₹20000",
         "channel": "HD Ready 1366 x 768 Pixels",
         "Operating_system": "20 Speaker Output",
         "Picture_qualtiy": "60 Hz Refresh Rate",
         "Speaker": "2 x HDMI | 2 x USB",
         "Frequency": "1 Year Warranty",
         "Image_url": "https://rukminim1.flixcart.com/image/312/312/ku1k4280/television/p/f/6/crel7369-croma-original-imag7969pxhrwp2k.jpeg?q=70",
         "_deepnote_index_column": 0
        },
        {
         "Product_Name": "Adsun",
         "Stars": 3.8,
         "Ratings": 6742,
         "Reviews": 930,
         "current_price": "₹8699",
         "MRP": "₹21999",
         "channel": "Netflix|Disney+Hotstar|Youtube",
         "Operating_system": "Operating System: Android Based",
         "Picture_qualtiy": "HD Ready 1366 x 768 Pixels",
         "Speaker": "20 W Speaker Output",
         "Frequency": "60 Hz Refresh Rate",
         "Image_url": "https://rukminim1.flixcart.com/image/312/312/krntoy80/television/u/d/y/a-3200s-adsun-original-imag5edguuyn54fh.jpeg?q=70",
         "_deepnote_index_column": 1
        },
        {
         "Product_Name": "LG",
         "Stars": 4.4,
         "Ratings": 38870,
         "Reviews": 3443,
         "current_price": "₹16499",
         "MRP": "₹21990",
         "channel": "Netflix|Prime Video|Disney+Hotstar|Youtube",
         "Operating_system": "Operating System: WebOS",
         "Picture_qualtiy": "HD Ready 1366 x 768 Pixels",
         "Speaker": "10 W Speaker Output",
         "Frequency": "50 Hz Refresh Rate",
         "Image_url": "https://rukminim1.flixcart.com/image/312/312/l0fm07k0/television/7/x/9/-original-imagc8fnpx39evgc.jpeg?q=70",
         "_deepnote_index_column": 2
        },
        {
         "Product_Name": "OnePlus",
         "Stars": 4.3,
         "Ratings": 101256,
         "Reviews": 9189,
         "current_price": "₹16499",
         "MRP": "₹21999",
         "channel": "Netflix|Prime Video|Disney+Hotstar|Youtube",
         "Operating_system": "Operating System: Android",
         "Picture_qualtiy": "HD Ready 1366 x 768 Pixels",
         "Speaker": "20 W Speaker Output",
         "Frequency": "60 Hz Refresh Rate",
         "Image_url": "https://rukminim1.flixcart.com/image/312/312/kzfvzww0/television/e/b/b/32hd2a00-32-y1s-oneplus-original-imagbgcewfqywgk7.jpeg?q=70",
         "_deepnote_index_column": 3
        },
        {
         "Product_Name": "Xiaomi",
         "Stars": 4.3,
         "Ratings": 3120,
         "Reviews": 305,
         "current_price": "₹15499",
         "MRP": "₹24999",
         "channel": "Netflix|Prime Video|Disney+Hotstar|Youtube",
         "Operating_system": "Operating System: Android",
         "Picture_qualtiy": "HD Ready 1366 x 768 Pixels",
         "Speaker": "20 W Speaker Output",
         "Frequency": "60 Hz Refresh Rate",
         "Image_url": "https://rukminim1.flixcart.com/image/312/312/l2ghgnk0/television/u/a/c/l32m7-5ain-mi-original-imagdsdwqf6bkmkz.jpeg?q=70",
         "_deepnote_index_column": 4
        }
       ]
      },
      "text/plain": "  Product_Name  Stars  Ratings  Reviews current_price     MRP  \\\n0        Croma    4.2     1773      217         ₹7990  ₹20000   \n1        Adsun    3.8     6742      930         ₹8699  ₹21999   \n2           LG    4.4    38870     3443        ₹16499  ₹21990   \n3      OnePlus    4.3   101256     9189        ₹16499  ₹21999   \n4       Xiaomi    4.3     3120      305        ₹15499  ₹24999   \n\n                                      channel  \\\n0                  HD Ready 1366 x 768 Pixels   \n1              Netflix|Disney+Hotstar|Youtube   \n2  Netflix|Prime Video|Disney+Hotstar|Youtube   \n3  Netflix|Prime Video|Disney+Hotstar|Youtube   \n4  Netflix|Prime Video|Disney+Hotstar|Youtube   \n\n                  Operating_system             Picture_qualtiy  \\\n0                20 Speaker Output          60 Hz Refresh Rate   \n1  Operating System: Android Based  HD Ready 1366 x 768 Pixels   \n2          Operating System: WebOS  HD Ready 1366 x 768 Pixels   \n3        Operating System: Android  HD Ready 1366 x 768 Pixels   \n4        Operating System: Android  HD Ready 1366 x 768 Pixels   \n\n               Speaker           Frequency  \\\n0   2 x HDMI | 2 x USB     1 Year Warranty   \n1  20 W Speaker Output  60 Hz Refresh Rate   \n2  10 W Speaker Output  50 Hz Refresh Rate   \n3  20 W Speaker Output  60 Hz Refresh Rate   \n4  20 W Speaker Output  60 Hz Refresh Rate   \n\n                                           Image_url  \n0  https://rukminim1.flixcart.com/image/312/312/k...  \n1  https://rukminim1.flixcart.com/image/312/312/k...  \n2  https://rukminim1.flixcart.com/image/312/312/l...  \n3  https://rukminim1.flixcart.com/image/312/312/k...  \n4  https://rukminim1.flixcart.com/image/312/312/l...  ",
      "text/html": "<div>\n<style scoped>\n    .dataframe tbody tr th:only-of-type {\n        vertical-align: middle;\n    }\n\n    .dataframe tbody tr th {\n        vertical-align: top;\n    }\n\n    .dataframe thead th {\n        text-align: right;\n    }\n</style>\n<table border=\"1\" class=\"dataframe\">\n  <thead>\n    <tr style=\"text-align: right;\">\n      <th></th>\n      <th>Product_Name</th>\n      <th>Stars</th>\n      <th>Ratings</th>\n      <th>Reviews</th>\n      <th>current_price</th>\n      <th>MRP</th>\n      <th>channel</th>\n      <th>Operating_system</th>\n      <th>Picture_qualtiy</th>\n      <th>Speaker</th>\n      <th>Frequency</th>\n      <th>Image_url</th>\n    </tr>\n  </thead>\n  <tbody>\n    <tr>\n      <th>0</th>\n      <td>Croma</td>\n      <td>4.2</td>\n      <td>1773</td>\n      <td>217</td>\n      <td>₹7990</td>\n      <td>₹20000</td>\n      <td>HD Ready 1366 x 768 Pixels</td>\n      <td>20 Speaker Output</td>\n      <td>60 Hz Refresh Rate</td>\n      <td>2 x HDMI | 2 x USB</td>\n      <td>1 Year Warranty</td>\n      <td>https://rukminim1.flixcart.com/image/312/312/k...</td>\n    </tr>\n    <tr>\n      <th>1</th>\n      <td>Adsun</td>\n      <td>3.8</td>\n      <td>6742</td>\n      <td>930</td>\n      <td>₹8699</td>\n      <td>₹21999</td>\n      <td>Netflix|Disney+Hotstar|Youtube</td>\n      <td>Operating System: Android Based</td>\n      <td>HD Ready 1366 x 768 Pixels</td>\n      <td>20 W Speaker Output</td>\n      <td>60 Hz Refresh Rate</td>\n      <td>https://rukminim1.flixcart.com/image/312/312/k...</td>\n    </tr>\n    <tr>\n      <th>2</th>\n      <td>LG</td>\n      <td>4.4</td>\n      <td>38870</td>\n      <td>3443</td>\n      <td>₹16499</td>\n      <td>₹21990</td>\n      <td>Netflix|Prime Video|Disney+Hotstar|Youtube</td>\n      <td>Operating System: WebOS</td>\n      <td>HD Ready 1366 x 768 Pixels</td>\n      <td>10 W Speaker Output</td>\n      <td>50 Hz Refresh Rate</td>\n      <td>https://rukminim1.flixcart.com/image/312/312/l...</td>\n    </tr>\n    <tr>\n      <th>3</th>\n      <td>OnePlus</td>\n      <td>4.3</td>\n      <td>101256</td>\n      <td>9189</td>\n      <td>₹16499</td>\n      <td>₹21999</td>\n      <td>Netflix|Prime Video|Disney+Hotstar|Youtube</td>\n      <td>Operating System: Android</td>\n      <td>HD Ready 1366 x 768 Pixels</td>\n      <td>20 W Speaker Output</td>\n      <td>60 Hz Refresh Rate</td>\n      <td>https://rukminim1.flixcart.com/image/312/312/k...</td>\n    </tr>\n    <tr>\n      <th>4</th>\n      <td>Xiaomi</td>\n      <td>4.3</td>\n      <td>3120</td>\n      <td>305</td>\n      <td>₹15499</td>\n      <td>₹24999</td>\n      <td>Netflix|Prime Video|Disney+Hotstar|Youtube</td>\n      <td>Operating System: Android</td>\n      <td>HD Ready 1366 x 768 Pixels</td>\n      <td>20 W Speaker Output</td>\n      <td>60 Hz Refresh Rate</td>\n      <td>https://rukminim1.flixcart.com/image/312/312/l...</td>\n    </tr>\n  </tbody>\n</table>\n</div>"
     },
     "metadata": {}
    }
   ],
   "execution_count": null
  },
  {
   "cell_type": "code",
   "metadata": {
    "cell_id": "ecccadd7325e44ea9db2b96c4578d028",
    "tags": [],
    "deepnote_to_be_reexecuted": false,
    "source_hash": "df0750b9",
    "execution_start": 1660822404039,
    "execution_millis": 37,
    "deepnote_cell_type": "code",
    "deepnote_cell_height": 611.65625
   },
   "source": "df_tele.isnull()",
   "outputs": [
    {
     "output_type": "execute_result",
     "execution_count": 4,
     "data": {
      "application/vnd.deepnote.dataframe.v3+json": {
       "column_count": 12,
       "row_count": 882,
       "columns": [
        {
         "name": "Product_Name",
         "dtype": "bool",
         "stats": {
          "unique_count": 1,
          "nan_count": 0,
          "categories": [
           {
            "name": "False",
            "count": 882
           }
          ]
         }
        },
        {
         "name": "Stars",
         "dtype": "bool",
         "stats": {
          "unique_count": 1,
          "nan_count": 0,
          "categories": [
           {
            "name": "False",
            "count": 882
           }
          ]
         }
        },
        {
         "name": "Ratings",
         "dtype": "bool",
         "stats": {
          "unique_count": 1,
          "nan_count": 0,
          "categories": [
           {
            "name": "False",
            "count": 882
           }
          ]
         }
        },
        {
         "name": "Reviews",
         "dtype": "bool",
         "stats": {
          "unique_count": 1,
          "nan_count": 0,
          "categories": [
           {
            "name": "False",
            "count": 882
           }
          ]
         }
        },
        {
         "name": "current_price",
         "dtype": "bool",
         "stats": {
          "unique_count": 1,
          "nan_count": 0,
          "categories": [
           {
            "name": "False",
            "count": 882
           }
          ]
         }
        },
        {
         "name": "MRP",
         "dtype": "bool",
         "stats": {
          "unique_count": 1,
          "nan_count": 0,
          "categories": [
           {
            "name": "False",
            "count": 882
           }
          ]
         }
        },
        {
         "name": "channel",
         "dtype": "bool",
         "stats": {
          "unique_count": 1,
          "nan_count": 0,
          "categories": [
           {
            "name": "False",
            "count": 882
           }
          ]
         }
        },
        {
         "name": "Operating_system",
         "dtype": "bool",
         "stats": {
          "unique_count": 1,
          "nan_count": 0,
          "categories": [
           {
            "name": "False",
            "count": 882
           }
          ]
         }
        },
        {
         "name": "Picture_qualtiy",
         "dtype": "bool",
         "stats": {
          "unique_count": 1,
          "nan_count": 0,
          "categories": [
           {
            "name": "False",
            "count": 882
           }
          ]
         }
        },
        {
         "name": "Speaker",
         "dtype": "bool",
         "stats": {
          "unique_count": 1,
          "nan_count": 0,
          "categories": [
           {
            "name": "False",
            "count": 882
           }
          ]
         }
        },
        {
         "name": "Frequency",
         "dtype": "bool",
         "stats": {
          "unique_count": 1,
          "nan_count": 0,
          "categories": [
           {
            "name": "False",
            "count": 882
           }
          ]
         }
        },
        {
         "name": "Image_url",
         "dtype": "bool",
         "stats": {
          "unique_count": 1,
          "nan_count": 0,
          "categories": [
           {
            "name": "False",
            "count": 882
           }
          ]
         }
        },
        {
         "name": "_deepnote_index_column",
         "dtype": "int64"
        }
       ],
       "rows": [
        {
         "Product_Name": false,
         "Stars": false,
         "Ratings": false,
         "Reviews": false,
         "current_price": false,
         "MRP": false,
         "channel": false,
         "Operating_system": false,
         "Picture_qualtiy": false,
         "Speaker": false,
         "Frequency": false,
         "Image_url": false,
         "_deepnote_index_column": 0
        },
        {
         "Product_Name": false,
         "Stars": false,
         "Ratings": false,
         "Reviews": false,
         "current_price": false,
         "MRP": false,
         "channel": false,
         "Operating_system": false,
         "Picture_qualtiy": false,
         "Speaker": false,
         "Frequency": false,
         "Image_url": false,
         "_deepnote_index_column": 1
        },
        {
         "Product_Name": false,
         "Stars": false,
         "Ratings": false,
         "Reviews": false,
         "current_price": false,
         "MRP": false,
         "channel": false,
         "Operating_system": false,
         "Picture_qualtiy": false,
         "Speaker": false,
         "Frequency": false,
         "Image_url": false,
         "_deepnote_index_column": 2
        },
        {
         "Product_Name": false,
         "Stars": false,
         "Ratings": false,
         "Reviews": false,
         "current_price": false,
         "MRP": false,
         "channel": false,
         "Operating_system": false,
         "Picture_qualtiy": false,
         "Speaker": false,
         "Frequency": false,
         "Image_url": false,
         "_deepnote_index_column": 3
        },
        {
         "Product_Name": false,
         "Stars": false,
         "Ratings": false,
         "Reviews": false,
         "current_price": false,
         "MRP": false,
         "channel": false,
         "Operating_system": false,
         "Picture_qualtiy": false,
         "Speaker": false,
         "Frequency": false,
         "Image_url": false,
         "_deepnote_index_column": 4
        },
        {
         "Product_Name": false,
         "Stars": false,
         "Ratings": false,
         "Reviews": false,
         "current_price": false,
         "MRP": false,
         "channel": false,
         "Operating_system": false,
         "Picture_qualtiy": false,
         "Speaker": false,
         "Frequency": false,
         "Image_url": false,
         "_deepnote_index_column": 5
        },
        {
         "Product_Name": false,
         "Stars": false,
         "Ratings": false,
         "Reviews": false,
         "current_price": false,
         "MRP": false,
         "channel": false,
         "Operating_system": false,
         "Picture_qualtiy": false,
         "Speaker": false,
         "Frequency": false,
         "Image_url": false,
         "_deepnote_index_column": 6
        },
        {
         "Product_Name": false,
         "Stars": false,
         "Ratings": false,
         "Reviews": false,
         "current_price": false,
         "MRP": false,
         "channel": false,
         "Operating_system": false,
         "Picture_qualtiy": false,
         "Speaker": false,
         "Frequency": false,
         "Image_url": false,
         "_deepnote_index_column": 7
        },
        {
         "Product_Name": false,
         "Stars": false,
         "Ratings": false,
         "Reviews": false,
         "current_price": false,
         "MRP": false,
         "channel": false,
         "Operating_system": false,
         "Picture_qualtiy": false,
         "Speaker": false,
         "Frequency": false,
         "Image_url": false,
         "_deepnote_index_column": 8
        },
        {
         "Product_Name": false,
         "Stars": false,
         "Ratings": false,
         "Reviews": false,
         "current_price": false,
         "MRP": false,
         "channel": false,
         "Operating_system": false,
         "Picture_qualtiy": false,
         "Speaker": false,
         "Frequency": false,
         "Image_url": false,
         "_deepnote_index_column": 9
        }
       ]
      },
      "text/plain": "     Product_Name  Stars  Ratings  Reviews  current_price    MRP  channel  \\\n0           False  False    False    False          False  False    False   \n1           False  False    False    False          False  False    False   \n2           False  False    False    False          False  False    False   \n3           False  False    False    False          False  False    False   \n4           False  False    False    False          False  False    False   \n..            ...    ...      ...      ...            ...    ...      ...   \n877         False  False    False    False          False  False    False   \n878         False  False    False    False          False  False    False   \n879         False  False    False    False          False  False    False   \n880         False  False    False    False          False  False    False   \n881         False  False    False    False          False  False    False   \n\n     Operating_system  Picture_qualtiy  Speaker  Frequency  Image_url  \n0               False            False    False      False      False  \n1               False            False    False      False      False  \n2               False            False    False      False      False  \n3               False            False    False      False      False  \n4               False            False    False      False      False  \n..                ...              ...      ...        ...        ...  \n877             False            False    False      False      False  \n878             False            False    False      False      False  \n879             False            False    False      False      False  \n880             False            False    False      False      False  \n881             False            False    False      False      False  \n\n[882 rows x 12 columns]",
      "text/html": "<div>\n<style scoped>\n    .dataframe tbody tr th:only-of-type {\n        vertical-align: middle;\n    }\n\n    .dataframe tbody tr th {\n        vertical-align: top;\n    }\n\n    .dataframe thead th {\n        text-align: right;\n    }\n</style>\n<table border=\"1\" class=\"dataframe\">\n  <thead>\n    <tr style=\"text-align: right;\">\n      <th></th>\n      <th>Product_Name</th>\n      <th>Stars</th>\n      <th>Ratings</th>\n      <th>Reviews</th>\n      <th>current_price</th>\n      <th>MRP</th>\n      <th>channel</th>\n      <th>Operating_system</th>\n      <th>Picture_qualtiy</th>\n      <th>Speaker</th>\n      <th>Frequency</th>\n      <th>Image_url</th>\n    </tr>\n  </thead>\n  <tbody>\n    <tr>\n      <th>0</th>\n      <td>False</td>\n      <td>False</td>\n      <td>False</td>\n      <td>False</td>\n      <td>False</td>\n      <td>False</td>\n      <td>False</td>\n      <td>False</td>\n      <td>False</td>\n      <td>False</td>\n      <td>False</td>\n      <td>False</td>\n    </tr>\n    <tr>\n      <th>1</th>\n      <td>False</td>\n      <td>False</td>\n      <td>False</td>\n      <td>False</td>\n      <td>False</td>\n      <td>False</td>\n      <td>False</td>\n      <td>False</td>\n      <td>False</td>\n      <td>False</td>\n      <td>False</td>\n      <td>False</td>\n    </tr>\n    <tr>\n      <th>2</th>\n      <td>False</td>\n      <td>False</td>\n      <td>False</td>\n      <td>False</td>\n      <td>False</td>\n      <td>False</td>\n      <td>False</td>\n      <td>False</td>\n      <td>False</td>\n      <td>False</td>\n      <td>False</td>\n      <td>False</td>\n    </tr>\n    <tr>\n      <th>3</th>\n      <td>False</td>\n      <td>False</td>\n      <td>False</td>\n      <td>False</td>\n      <td>False</td>\n      <td>False</td>\n      <td>False</td>\n      <td>False</td>\n      <td>False</td>\n      <td>False</td>\n      <td>False</td>\n      <td>False</td>\n    </tr>\n    <tr>\n      <th>4</th>\n      <td>False</td>\n      <td>False</td>\n      <td>False</td>\n      <td>False</td>\n      <td>False</td>\n      <td>False</td>\n      <td>False</td>\n      <td>False</td>\n      <td>False</td>\n      <td>False</td>\n      <td>False</td>\n      <td>False</td>\n    </tr>\n    <tr>\n      <th>...</th>\n      <td>...</td>\n      <td>...</td>\n      <td>...</td>\n      <td>...</td>\n      <td>...</td>\n      <td>...</td>\n      <td>...</td>\n      <td>...</td>\n      <td>...</td>\n      <td>...</td>\n      <td>...</td>\n      <td>...</td>\n    </tr>\n    <tr>\n      <th>877</th>\n      <td>False</td>\n      <td>False</td>\n      <td>False</td>\n      <td>False</td>\n      <td>False</td>\n      <td>False</td>\n      <td>False</td>\n      <td>False</td>\n      <td>False</td>\n      <td>False</td>\n      <td>False</td>\n      <td>False</td>\n    </tr>\n    <tr>\n      <th>878</th>\n      <td>False</td>\n      <td>False</td>\n      <td>False</td>\n      <td>False</td>\n      <td>False</td>\n      <td>False</td>\n      <td>False</td>\n      <td>False</td>\n      <td>False</td>\n      <td>False</td>\n      <td>False</td>\n      <td>False</td>\n    </tr>\n    <tr>\n      <th>879</th>\n      <td>False</td>\n      <td>False</td>\n      <td>False</td>\n      <td>False</td>\n      <td>False</td>\n      <td>False</td>\n      <td>False</td>\n      <td>False</td>\n      <td>False</td>\n      <td>False</td>\n      <td>False</td>\n      <td>False</td>\n    </tr>\n    <tr>\n      <th>880</th>\n      <td>False</td>\n      <td>False</td>\n      <td>False</td>\n      <td>False</td>\n      <td>False</td>\n      <td>False</td>\n      <td>False</td>\n      <td>False</td>\n      <td>False</td>\n      <td>False</td>\n      <td>False</td>\n      <td>False</td>\n    </tr>\n    <tr>\n      <th>881</th>\n      <td>False</td>\n      <td>False</td>\n      <td>False</td>\n      <td>False</td>\n      <td>False</td>\n      <td>False</td>\n      <td>False</td>\n      <td>False</td>\n      <td>False</td>\n      <td>False</td>\n      <td>False</td>\n      <td>False</td>\n    </tr>\n  </tbody>\n</table>\n<p>882 rows × 12 columns</p>\n</div>"
     },
     "metadata": {}
    }
   ],
   "execution_count": null
  },
  {
   "cell_type": "code",
   "metadata": {
    "cell_id": "187b64566c2e43fda35770cc6dc2adb7",
    "tags": [],
    "deepnote_to_be_reexecuted": false,
    "source_hash": "f1cd99a9",
    "execution_start": 1660822404081,
    "execution_millis": 5,
    "deepnote_cell_type": "code",
    "deepnote_cell_height": 342.5625,
    "deepnote_output_heights": [
     250.5625
    ]
   },
   "source": "df_tele.isnull().sum()",
   "outputs": [
    {
     "output_type": "execute_result",
     "execution_count": 5,
     "data": {
      "text/plain": "Product_Name        0\nStars               0\nRatings             0\nReviews             0\ncurrent_price       0\nMRP                 0\nchannel             0\nOperating_system    0\nPicture_qualtiy     0\nSpeaker             0\nFrequency           0\nImage_url           0\ndtype: int64"
     },
     "metadata": {}
    }
   ],
   "execution_count": null
  },
  {
   "cell_type": "code",
   "metadata": {
    "cell_id": "e4911c32e68944b4b52e5928fbd6ef79",
    "tags": [],
    "deepnote_to_be_reexecuted": false,
    "source_hash": "7866c893",
    "execution_start": 1660822404130,
    "execution_millis": 2,
    "deepnote_cell_type": "code",
    "deepnote_cell_height": 464.421875
   },
   "source": "df_tele.info()",
   "outputs": [
    {
     "name": "stdout",
     "text": "<class 'pandas.core.frame.DataFrame'>\nRangeIndex: 882 entries, 0 to 881\nData columns (total 12 columns):\n #   Column            Non-Null Count  Dtype  \n---  ------            --------------  -----  \n 0   Product_Name      882 non-null    object \n 1   Stars             882 non-null    float64\n 2   Ratings           882 non-null    int64  \n 3   Reviews           882 non-null    int64  \n 4   current_price     882 non-null    object \n 5   MRP               882 non-null    object \n 6   channel           882 non-null    object \n 7   Operating_system  882 non-null    object \n 8   Picture_qualtiy   882 non-null    object \n 9   Speaker           882 non-null    object \n 10  Frequency         882 non-null    object \n 11  Image_url         882 non-null    object \ndtypes: float64(1), int64(2), object(9)\nmemory usage: 82.8+ KB\n",
     "output_type": "stream"
    }
   ],
   "execution_count": null
  },
  {
   "cell_type": "code",
   "metadata": {
    "cell_id": "44df9c3cdfdf4f0087690effb3651fe0",
    "tags": [],
    "deepnote_to_be_reexecuted": false,
    "source_hash": "f545de45",
    "execution_start": 1660822404131,
    "execution_millis": 270,
    "deepnote_cell_type": "code",
    "deepnote_cell_height": 392.1875,
    "deepnote_output_heights": [
     20.1875,
     249
    ]
   },
   "source": "df_tele.boxplot(column='Stars')",
   "outputs": [
    {
     "output_type": "execute_result",
     "execution_count": 7,
     "data": {
      "text/plain": "<AxesSubplot:>"
     },
     "metadata": {}
    },
    {
     "data": {
      "text/plain": "<Figure size 432x288 with 1 Axes>",
      "image/png": "[encoded data removed]"
     },
     "metadata": {
      "needs_background": "light",
      "image/png": {
       "width": 362,
       "height": 248
      }
     },
     "output_type": "display_data"
    }
   ],
   "execution_count": null
  },
  {
   "cell_type": "code",
   "metadata": {
    "cell_id": "802ef02616cb47979ddbd54bf5f10498",
    "tags": [],
    "deepnote_to_be_reexecuted": false,
    "source_hash": "c73475d7",
    "execution_start": 1660822404412,
    "execution_millis": 183,
    "deepnote_cell_type": "code",
    "deepnote_cell_height": 392.1875,
    "deepnote_output_heights": [
     20.1875,
     249
    ]
   },
   "source": "df_tele.boxplot(column='Ratings')",
   "outputs": [
    {
     "output_type": "execute_result",
     "execution_count": 8,
     "data": {
      "text/plain": "<AxesSubplot:>"
     },
     "metadata": {}
    },
    {
     "data": {
      "text/plain": "<Figure size 432x288 with 1 Axes>",
      "image/png": "[encoded data removed]"
     },
     "metadata": {
      "needs_background": "light",
      "image/png": {
       "width": 393,
       "height": 248
      }
     },
     "output_type": "display_data"
    }
   ],
   "execution_count": null
  },
  {
   "cell_type": "code",
   "metadata": {
    "cell_id": "b895e3dd3144479a91f96dc64c08ad2a",
    "tags": [],
    "deepnote_to_be_reexecuted": false,
    "source_hash": "21ab8761",
    "execution_start": 1660822404594,
    "execution_millis": 202,
    "deepnote_cell_type": "code",
    "deepnote_cell_height": 395.1875,
    "deepnote_output_heights": [
     20.1875,
     252
    ]
   },
   "source": "df_tele.boxplot(column='Reviews')",
   "outputs": [
    {
     "output_type": "execute_result",
     "execution_count": 9,
     "data": {
      "text/plain": "<AxesSubplot:>"
     },
     "metadata": {}
    },
    {
     "data": {
      "text/plain": "<Figure size 432x288 with 1 Axes>",
      "image/png": "[encoded data removed]"
     },
     "metadata": {
      "needs_background": "light",
      "image/png": {
       "width": 387,
       "height": 251
      }
     },
     "output_type": "display_data"
    }
   ],
   "execution_count": null
  },
  {
   "cell_type": "code",
   "metadata": {
    "cell_id": "bdb264f857c649aebaf8a53fe25f371b",
    "tags": [],
    "deepnote_to_be_reexecuted": false,
    "source_hash": "86624092",
    "execution_start": 1660822404795,
    "execution_millis": 1041,
    "deepnote_cell_type": "code",
    "deepnote_cell_height": 465.78125,
    "deepnote_output_heights": [
     77.78125,
     265
    ]
   },
   "source": "df_tele.hist()",
   "outputs": [
    {
     "output_type": "execute_result",
     "execution_count": 10,
     "data": {
      "text/plain": "array([[<AxesSubplot:title={'center':'Stars'}>,\n        <AxesSubplot:title={'center':'Ratings'}>],\n       [<AxesSubplot:title={'center':'Reviews'}>, <AxesSubplot:>]],\n      dtype=object)"
     },
     "metadata": {}
    },
    {
     "data": {
      "text/plain": "<Figure size 432x288 with 4 Axes>",
      "image/png": "[encoded data removed]"
     },
     "metadata": {
      "needs_background": "light",
      "image/png": {
       "width": 375,
       "height": 264
      }
     },
     "output_type": "display_data"
    }
   ],
   "execution_count": null
  },
  {
   "cell_type": "code",
   "metadata": {
    "cell_id": "272d58044c934c408ff25939e2355423",
    "tags": [],
    "deepnote_to_be_reexecuted": false,
    "source_hash": "d83b6514",
    "execution_start": 1660822405166,
    "execution_millis": 679,
    "deepnote_cell_type": "code",
    "deepnote_cell_height": 513
   },
   "source": "df_tele.describe()",
   "outputs": [
    {
     "output_type": "execute_result",
     "execution_count": 11,
     "data": {
      "application/vnd.deepnote.dataframe.v3+json": {
       "column_count": 3,
       "row_count": 8,
       "columns": [
        {
         "name": "Stars",
         "dtype": "float64",
         "stats": {
          "unique_count": 8,
          "nan_count": 0,
          "min": "0.0",
          "max": "882.0",
          "histogram": [
           {
            "bin_start": 0,
            "bin_end": 88.2,
            "count": 7
           },
           {
            "bin_start": 88.2,
            "bin_end": 176.4,
            "count": 0
           },
           {
            "bin_start": 176.4,
            "bin_end": 264.6,
            "count": 0
           },
           {
            "bin_start": 264.6,
            "bin_end": 352.8,
            "count": 0
           },
           {
            "bin_start": 352.8,
            "bin_end": 441,
            "count": 0
           },
           {
            "bin_start": 441,
            "bin_end": 529.2,
            "count": 0
           },
           {
            "bin_start": 529.2,
            "bin_end": 617.4,
            "count": 0
           },
           {
            "bin_start": 617.4,
            "bin_end": 705.6,
            "count": 0
           },
           {
            "bin_start": 705.6,
            "bin_end": 793.8000000000001,
            "count": 0
           },
           {
            "bin_start": 793.8000000000001,
            "bin_end": 882,
            "count": 1
           }
          ]
         }
        },
        {
         "name": "Ratings",
         "dtype": "float64",
         "stats": {
          "unique_count": 6,
          "nan_count": 0,
          "min": "0.0",
          "max": "663035.0",
          "histogram": [
           {
            "bin_start": 0,
            "bin_end": 66303.5,
            "count": 7
           },
           {
            "bin_start": 66303.5,
            "bin_end": 132607,
            "count": 0
           },
           {
            "bin_start": 132607,
            "bin_end": 198910.5,
            "count": 0
           },
           {
            "bin_start": 198910.5,
            "bin_end": 265214,
            "count": 0
           },
           {
            "bin_start": 265214,
            "bin_end": 331517.5,
            "count": 0
           },
           {
            "bin_start": 331517.5,
            "bin_end": 397821,
            "count": 0
           },
           {
            "bin_start": 397821,
            "bin_end": 464124.5,
            "count": 0
           },
           {
            "bin_start": 464124.5,
            "bin_end": 530428,
            "count": 0
           },
           {
            "bin_start": 530428,
            "bin_end": 596731.5,
            "count": 0
           },
           {
            "bin_start": 596731.5,
            "bin_end": 663035,
            "count": 1
           }
          ]
         }
        },
        {
         "name": "Reviews",
         "dtype": "float64",
         "stats": {
          "unique_count": 6,
          "nan_count": 0,
          "min": "0.0",
          "max": "67204.0",
          "histogram": [
           {
            "bin_start": 0,
            "bin_end": 6720.4,
            "count": 7
           },
           {
            "bin_start": 6720.4,
            "bin_end": 13440.8,
            "count": 0
           },
           {
            "bin_start": 13440.8,
            "bin_end": 20161.199999999997,
            "count": 0
           },
           {
            "bin_start": 20161.199999999997,
            "bin_end": 26881.6,
            "count": 0
           },
           {
            "bin_start": 26881.6,
            "bin_end": 33602,
            "count": 0
           },
           {
            "bin_start": 33602,
            "bin_end": 40322.399999999994,
            "count": 0
           },
           {
            "bin_start": 40322.399999999994,
            "bin_end": 47042.799999999996,
            "count": 0
           },
           {
            "bin_start": 47042.799999999996,
            "bin_end": 53763.2,
            "count": 0
           },
           {
            "bin_start": 53763.2,
            "bin_end": 60483.6,
            "count": 0
           },
           {
            "bin_start": 60483.6,
            "bin_end": 67204,
            "count": 1
           }
          ]
         }
        },
        {
         "name": "_deepnote_index_column",
         "dtype": "object"
        }
       ],
       "rows": [
        {
         "Stars": 882,
         "Ratings": 882,
         "Reviews": 882,
         "_deepnote_index_column": "count"
        },
        {
         "Stars": 3.302834467120182,
         "Ratings": 5675.442176870748,
         "Reviews": 773.125850340136,
         "_deepnote_index_column": "mean"
        },
        {
         "Stars": 1.7367245495443457,
         "Ratings": 27135.069069382727,
         "Reviews": 2975.6917167269344,
         "_deepnote_index_column": "std"
        },
        {
         "Stars": 0,
         "Ratings": 0,
         "Reviews": 0,
         "_deepnote_index_column": "min"
        },
        {
         "Stars": 3.8,
         "Ratings": 0,
         "Reviews": 0,
         "_deepnote_index_column": "25%"
        },
        {
         "Stars": 4.2,
         "Ratings": 0,
         "Reviews": 0,
         "_deepnote_index_column": "50%"
        },
        {
         "Stars": 4.3,
         "Ratings": 6712.25,
         "Reviews": 904,
         "_deepnote_index_column": "75%"
        },
        {
         "Stars": 5,
         "Ratings": 663035,
         "Reviews": 67204,
         "_deepnote_index_column": "max"
        }
       ]
      },
      "text/plain": "            Stars        Ratings       Reviews\ncount  882.000000     882.000000    882.000000\nmean     3.302834    5675.442177    773.125850\nstd      1.736725   27135.069069   2975.691717\nmin      0.000000       0.000000      0.000000\n25%      3.800000       0.000000      0.000000\n50%      4.200000       0.000000      0.000000\n75%      4.300000    6712.250000    904.000000\nmax      5.000000  663035.000000  67204.000000",
      "text/html": "<div>\n<style scoped>\n    .dataframe tbody tr th:only-of-type {\n        vertical-align: middle;\n    }\n\n    .dataframe tbody tr th {\n        vertical-align: top;\n    }\n\n    .dataframe thead th {\n        text-align: right;\n    }\n</style>\n<table border=\"1\" class=\"dataframe\">\n  <thead>\n    <tr style=\"text-align: right;\">\n      <th></th>\n      <th>Stars</th>\n      <th>Ratings</th>\n      <th>Reviews</th>\n    </tr>\n  </thead>\n  <tbody>\n    <tr>\n      <th>count</th>\n      <td>882.000000</td>\n      <td>882.000000</td>\n      <td>882.000000</td>\n    </tr>\n    <tr>\n      <th>mean</th>\n      <td>3.302834</td>\n      <td>5675.442177</td>\n      <td>773.125850</td>\n    </tr>\n    <tr>\n      <th>std</th>\n      <td>1.736725</td>\n      <td>27135.069069</td>\n      <td>2975.691717</td>\n    </tr>\n    <tr>\n      <th>min</th>\n      <td>0.000000</td>\n      <td>0.000000</td>\n      <td>0.000000</td>\n    </tr>\n    <tr>\n      <th>25%</th>\n      <td>3.800000</td>\n      <td>0.000000</td>\n      <td>0.000000</td>\n    </tr>\n    <tr>\n      <th>50%</th>\n      <td>4.200000</td>\n      <td>0.000000</td>\n      <td>0.000000</td>\n    </tr>\n    <tr>\n      <th>75%</th>\n      <td>4.300000</td>\n      <td>6712.250000</td>\n      <td>904.000000</td>\n    </tr>\n    <tr>\n      <th>max</th>\n      <td>5.000000</td>\n      <td>663035.000000</td>\n      <td>67204.000000</td>\n    </tr>\n  </tbody>\n</table>\n</div>"
     },
     "metadata": {}
    }
   ],
   "execution_count": null
  },
  {
   "cell_type": "markdown",
   "source": "### Cleaning the data",
   "metadata": {
    "formattedRanges": [],
    "is_collapsed": false,
    "cell_id": "d023c0d26f7f4294b7431589ec8b0c38",
    "tags": [],
    "deepnote_cell_type": "text-cell-h3"
   }
  },
  {
   "cell_type": "code",
   "metadata": {
    "cell_id": "ecf8a301891a40b780eecb35f933b509",
    "tags": [],
    "deepnote_to_be_reexecuted": false,
    "source_hash": "e931e9c0",
    "execution_start": 1660822405238,
    "execution_millis": 0,
    "deepnote_cell_type": "code",
    "deepnote_cell_height": 94
   },
   "source": "#dropping the columns which are not required\ndf_tele.drop(['channel','Picture_qualtiy','Speaker', 'Frequency', 'Image_url'],inplace=True, axis=1)",
   "outputs": [],
   "execution_count": null
  },
  {
   "cell_type": "code",
   "metadata": {
    "tags": [],
    "deepnote_variable_name": "df_1",
    "sql_integration_id": "deepnote-dataframe-sql",
    "cell_id": "8ece87593a5a4e1bbdba76e997888b45",
    "deepnote_to_be_reexecuted": false,
    "source_hash": "f668ab29",
    "execution_start": 1660822405238,
    "execution_millis": 613,
    "deepnote_sql_source": "SELECT *\nFROM df_tele\nLIMIT 15;",
    "deepnote_cell_type": "sql",
    "deepnote_cell_height": 687.65625
   },
   "source": "\n\ndf_1 = _deepnote_execute_sql(\"\"\"SELECT *\nFROM df_tele\nLIMIT 15;\n\"\"\", 'SQL_DEEPNOTE_DATAFRAME_SQL')\ndf_1",
   "outputs": [
    {
     "output_type": "execute_result",
     "execution_count": 13,
     "data": {
      "application/vnd.deepnote.dataframe.v3+json": {
       "column_count": 7,
       "row_count": 15,
       "columns": [
        {
         "name": "Product_Name",
         "dtype": "object",
         "stats": {
          "unique_count": 8,
          "nan_count": 0,
          "categories": [
           {
            "name": "OnePlus",
            "count": 5
           },
           {
            "name": "Croma",
            "count": 2
           },
           {
            "name": "6 others",
            "count": 8
           }
          ]
         }
        },
        {
         "name": "Stars",
         "dtype": "float64",
         "stats": {
          "unique_count": 4,
          "nan_count": 0,
          "min": "3.8",
          "max": "4.4",
          "histogram": [
           {
            "bin_start": 3.8,
            "bin_end": 3.86,
            "count": 2
           },
           {
            "bin_start": 3.86,
            "bin_end": 3.92,
            "count": 0
           },
           {
            "bin_start": 3.92,
            "bin_end": 3.98,
            "count": 0
           },
           {
            "bin_start": 3.98,
            "bin_end": 4.04,
            "count": 0
           },
           {
            "bin_start": 4.04,
            "bin_end": 4.1,
            "count": 0
           },
           {
            "bin_start": 4.1,
            "bin_end": 4.16,
            "count": 0
           },
           {
            "bin_start": 4.16,
            "bin_end": 4.220000000000001,
            "count": 3
           },
           {
            "bin_start": 4.220000000000001,
            "bin_end": 4.28,
            "count": 0
           },
           {
            "bin_start": 4.28,
            "bin_end": 4.34,
            "count": 6
           },
           {
            "bin_start": 4.34,
            "bin_end": 4.4,
            "count": 4
           }
          ]
         }
        },
        {
         "name": "Ratings",
         "dtype": "int64",
         "stats": {
          "unique_count": 10,
          "nan_count": 0,
          "min": "0",
          "max": "101256",
          "histogram": [
           {
            "bin_start": 0,
            "bin_end": 10125.6,
            "count": 7
           },
           {
            "bin_start": 10125.6,
            "bin_end": 20251.2,
            "count": 0
           },
           {
            "bin_start": 20251.2,
            "bin_end": 30376.800000000003,
            "count": 0
           },
           {
            "bin_start": 30376.800000000003,
            "bin_end": 40502.4,
            "count": 2
           },
           {
            "bin_start": 40502.4,
            "bin_end": 50628,
            "count": 0
           },
           {
            "bin_start": 50628,
            "bin_end": 60753.600000000006,
            "count": 1
           },
           {
            "bin_start": 60753.600000000006,
            "bin_end": 70879.2,
            "count": 0
           },
           {
            "bin_start": 70879.2,
            "bin_end": 81004.8,
            "count": 0
           },
           {
            "bin_start": 81004.8,
            "bin_end": 91130.40000000001,
            "count": 0
           },
           {
            "bin_start": 91130.40000000001,
            "bin_end": 101256,
            "count": 5
           }
          ]
         }
        },
        {
         "name": "Reviews",
         "dtype": "int64",
         "stats": {
          "unique_count": 10,
          "nan_count": 0,
          "min": "0",
          "max": "9189",
          "histogram": [
           {
            "bin_start": 0,
            "bin_end": 918.9,
            "count": 5
           },
           {
            "bin_start": 918.9,
            "bin_end": 1837.8,
            "count": 2
           },
           {
            "bin_start": 1837.8,
            "bin_end": 2756.7,
            "count": 0
           },
           {
            "bin_start": 2756.7,
            "bin_end": 3675.6,
            "count": 1
           },
           {
            "bin_start": 3675.6,
            "bin_end": 4594.5,
            "count": 0
           },
           {
            "bin_start": 4594.5,
            "bin_end": 5513.4,
            "count": 2
           },
           {
            "bin_start": 5513.4,
            "bin_end": 6432.3,
            "count": 0
           },
           {
            "bin_start": 6432.3,
            "bin_end": 7351.2,
            "count": 0
           },
           {
            "bin_start": 7351.2,
            "bin_end": 8270.1,
            "count": 0
           },
           {
            "bin_start": 8270.1,
            "bin_end": 9189,
            "count": 5
           }
          ]
         }
        },
        {
         "name": "current_price",
         "dtype": "object",
         "stats": {
          "unique_count": 12,
          "nan_count": 0,
          "categories": [
           {
            "name": "₹16499",
            "count": 2
           },
           {
            "name": "₹15499",
            "count": 2
           },
           {
            "name": "10 others",
            "count": 11
           }
          ]
         }
        },
        {
         "name": "MRP",
         "dtype": "object",
         "stats": {
          "unique_count": 12,
          "nan_count": 0,
          "categories": [
           {
            "name": "₹21999",
            "count": 2
           },
           {
            "name": "₹19999",
            "count": 2
           },
           {
            "name": "10 others",
            "count": 11
           }
          ]
         }
        },
        {
         "name": "Operating_system",
         "dtype": "object",
         "stats": {
          "unique_count": 6,
          "nan_count": 0,
          "categories": [
           {
            "name": "Operating System: Android",
            "count": 8
           },
           {
            "name": "Operating System: Android Based",
            "count": 2
           },
           {
            "name": "4 others",
            "count": 5
           }
          ]
         }
        },
        {
         "name": "_deepnote_index_column",
         "dtype": "int64"
        }
       ],
       "rows": [
        {
         "Product_Name": "Croma",
         "Stars": 4.2,
         "Ratings": 1773,
         "Reviews": 217,
         "current_price": "₹7990",
         "MRP": "₹20000",
         "Operating_system": "20 Speaker Output",
         "_deepnote_index_column": 0
        },
        {
         "Product_Name": "Adsun",
         "Stars": 3.8,
         "Ratings": 6742,
         "Reviews": 930,
         "current_price": "₹8699",
         "MRP": "₹21999",
         "Operating_system": "Operating System: Android Based",
         "_deepnote_index_column": 1
        },
        {
         "Product_Name": "LG",
         "Stars": 4.4,
         "Ratings": 38870,
         "Reviews": 3443,
         "current_price": "₹16499",
         "MRP": "₹21990",
         "Operating_system": "Operating System: WebOS",
         "_deepnote_index_column": 2
        },
        {
         "Product_Name": "OnePlus",
         "Stars": 4.3,
         "Ratings": 101256,
         "Reviews": 9189,
         "current_price": "₹16499",
         "MRP": "₹21999",
         "Operating_system": "Operating System: Android",
         "_deepnote_index_column": 3
        },
        {
         "Product_Name": "Xiaomi",
         "Stars": 4.3,
         "Ratings": 3120,
         "Reviews": 305,
         "current_price": "₹15499",
         "MRP": "₹24999",
         "Operating_system": "Operating System: Android",
         "_deepnote_index_column": 4
        },
        {
         "Product_Name": "SAMSUNG",
         "Stars": 4.4,
         "Ratings": 53639,
         "Reviews": 4811,
         "current_price": "₹15999",
         "MRP": "₹22900",
         "Operating_system": "Operating System: Tizen",
         "_deepnote_index_column": 5
        },
        {
         "Product_Name": "OnePlus",
         "Stars": 4.3,
         "Ratings": 101256,
         "Reviews": 9189,
         "current_price": "₹15499",
         "MRP": "₹19999",
         "Operating_system": "Operating System: Android",
         "_deepnote_index_column": 6
        },
        {
         "Product_Name": "Croma",
         "Stars": 4.2,
         "Ratings": 0,
         "Reviews": 0,
         "current_price": "₹11990",
         "MRP": "₹25000",
         "Operating_system": "Operating System: Android",
         "_deepnote_index_column": 7
        },
        {
         "Product_Name": "LG",
         "Stars": 4.4,
         "Ratings": 5830,
         "Reviews": 698,
         "current_price": "₹32990",
         "MRP": "₹59990",
         "Operating_system": "Operating System: WebOS",
         "_deepnote_index_column": 8
        },
        {
         "Product_Name": "OnePlus",
         "Stars": 4.3,
         "Ratings": 101256,
         "Reviews": 9189,
         "current_price": "₹25999",
         "MRP": "₹31999",
         "Operating_system": "Operating System: Android",
         "_deepnote_index_column": 9
        }
       ]
      },
      "text/plain": "   Product_Name  Stars  Ratings  Reviews current_price     MRP  \\\n0         Croma    4.2     1773      217         ₹7990  ₹20000   \n1         Adsun    3.8     6742      930         ₹8699  ₹21999   \n2            LG    4.4    38870     3443        ₹16499  ₹21990   \n3       OnePlus    4.3   101256     9189        ₹16499  ₹21999   \n4        Xiaomi    4.3     3120      305        ₹15499  ₹24999   \n5       SAMSUNG    4.4    53639     4811        ₹15999  ₹22900   \n6       OnePlus    4.3   101256     9189        ₹15499  ₹19999   \n7         Croma    4.2        0        0        ₹11990  ₹25000   \n8            LG    4.4     5830      698        ₹32990  ₹59990   \n9       OnePlus    4.3   101256     9189        ₹25999  ₹31999   \n10           Vu    4.4    32043     4978        ₹30990  ₹45000   \n11        Adsun    3.8     6742      930         ₹8999  ₹29999   \n12      OnePlus    4.3   101256     9189        ₹22999  ₹27999   \n13         MarQ    4.2     6251      764         ₹8999  ₹19999   \n14      OnePlus    4.3   101256     9189        ₹24999  ₹29999   \n\n                   Operating_system  \n0                 20 Speaker Output  \n1   Operating System: Android Based  \n2           Operating System: WebOS  \n3         Operating System: Android  \n4         Operating System: Android  \n5           Operating System: Tizen  \n6         Operating System: Android  \n7         Operating System: Android  \n8           Operating System: WebOS  \n9         Operating System: Android  \n10        Operating System: Android  \n11  Operating System: Android Based  \n12        Operating System: Android  \n13              20 W Speaker Output  \n14        Operating System: Android  ",
      "text/html": "<div>\n<style scoped>\n    .dataframe tbody tr th:only-of-type {\n        vertical-align: middle;\n    }\n\n    .dataframe tbody tr th {\n        vertical-align: top;\n    }\n\n    .dataframe thead th {\n        text-align: right;\n    }\n</style>\n<table border=\"1\" class=\"dataframe\">\n  <thead>\n    <tr style=\"text-align: right;\">\n      <th></th>\n      <th>Product_Name</th>\n      <th>Stars</th>\n      <th>Ratings</th>\n      <th>Reviews</th>\n      <th>current_price</th>\n      <th>MRP</th>\n      <th>Operating_system</th>\n    </tr>\n  </thead>\n  <tbody>\n    <tr>\n      <th>0</th>\n      <td>Croma</td>\n      <td>4.2</td>\n      <td>1773</td>\n      <td>217</td>\n      <td>₹7990</td>\n      <td>₹20000</td>\n      <td>20 Speaker Output</td>\n    </tr>\n    <tr>\n      <th>1</th>\n      <td>Adsun</td>\n      <td>3.8</td>\n      <td>6742</td>\n      <td>930</td>\n      <td>₹8699</td>\n      <td>₹21999</td>\n      <td>Operating System: Android Based</td>\n    </tr>\n    <tr>\n      <th>2</th>\n      <td>LG</td>\n      <td>4.4</td>\n      <td>38870</td>\n      <td>3443</td>\n      <td>₹16499</td>\n      <td>₹21990</td>\n      <td>Operating System: WebOS</td>\n    </tr>\n    <tr>\n      <th>3</th>\n      <td>OnePlus</td>\n      <td>4.3</td>\n      <td>101256</td>\n      <td>9189</td>\n      <td>₹16499</td>\n      <td>₹21999</td>\n      <td>Operating System: Android</td>\n    </tr>\n    <tr>\n      <th>4</th>\n      <td>Xiaomi</td>\n      <td>4.3</td>\n      <td>3120</td>\n      <td>305</td>\n      <td>₹15499</td>\n      <td>₹24999</td>\n      <td>Operating System: Android</td>\n    </tr>\n    <tr>\n      <th>5</th>\n      <td>SAMSUNG</td>\n      <td>4.4</td>\n      <td>53639</td>\n      <td>4811</td>\n      <td>₹15999</td>\n      <td>₹22900</td>\n      <td>Operating System: Tizen</td>\n    </tr>\n    <tr>\n      <th>6</th>\n      <td>OnePlus</td>\n      <td>4.3</td>\n      <td>101256</td>\n      <td>9189</td>\n      <td>₹15499</td>\n      <td>₹19999</td>\n      <td>Operating System: Android</td>\n    </tr>\n    <tr>\n      <th>7</th>\n      <td>Croma</td>\n      <td>4.2</td>\n      <td>0</td>\n      <td>0</td>\n      <td>₹11990</td>\n      <td>₹25000</td>\n      <td>Operating System: Android</td>\n    </tr>\n    <tr>\n      <th>8</th>\n      <td>LG</td>\n      <td>4.4</td>\n      <td>5830</td>\n      <td>698</td>\n      <td>₹32990</td>\n      <td>₹59990</td>\n      <td>Operating System: WebOS</td>\n    </tr>\n    <tr>\n      <th>9</th>\n      <td>OnePlus</td>\n      <td>4.3</td>\n      <td>101256</td>\n      <td>9189</td>\n      <td>₹25999</td>\n      <td>₹31999</td>\n      <td>Operating System: Android</td>\n    </tr>\n    <tr>\n      <th>10</th>\n      <td>Vu</td>\n      <td>4.4</td>\n      <td>32043</td>\n      <td>4978</td>\n      <td>₹30990</td>\n      <td>₹45000</td>\n      <td>Operating System: Android</td>\n    </tr>\n    <tr>\n      <th>11</th>\n      <td>Adsun</td>\n      <td>3.8</td>\n      <td>6742</td>\n      <td>930</td>\n      <td>₹8999</td>\n      <td>₹29999</td>\n      <td>Operating System: Android Based</td>\n    </tr>\n    <tr>\n      <th>12</th>\n      <td>OnePlus</td>\n      <td>4.3</td>\n      <td>101256</td>\n      <td>9189</td>\n      <td>₹22999</td>\n      <td>₹27999</td>\n      <td>Operating System: Android</td>\n    </tr>\n    <tr>\n      <th>13</th>\n      <td>MarQ</td>\n      <td>4.2</td>\n      <td>6251</td>\n      <td>764</td>\n      <td>₹8999</td>\n      <td>₹19999</td>\n      <td>20 W Speaker Output</td>\n    </tr>\n    <tr>\n      <th>14</th>\n      <td>OnePlus</td>\n      <td>4.3</td>\n      <td>101256</td>\n      <td>9189</td>\n      <td>₹24999</td>\n      <td>₹29999</td>\n      <td>Operating System: Android</td>\n    </tr>\n  </tbody>\n</table>\n</div>"
     },
     "metadata": {}
    }
   ],
   "execution_count": null
  },
  {
   "cell_type": "code",
   "metadata": {
    "cell_id": "8e51b8fdb80542d78dfe705bc5b9d446",
    "tags": [],
    "deepnote_to_be_reexecuted": false,
    "source_hash": "caf697f9",
    "execution_start": 1660822405749,
    "execution_millis": 8,
    "deepnote_cell_type": "code",
    "deepnote_cell_height": 94
   },
   "source": "#renaming the columns in the dataframe to be consistent \ndf_tele.rename(columns = {'current_price':'Current_price', 'MRP':'Marked_price'}, inplace = True)",
   "outputs": [],
   "execution_count": null
  },
  {
   "cell_type": "code",
   "metadata": {
    "cell_id": "6b06b045a8224780b11f39677b233d0e",
    "tags": [],
    "deepnote_to_be_reexecuted": false,
    "source_hash": "561a3f6a",
    "execution_start": 1660822405759,
    "execution_millis": 97,
    "deepnote_cell_type": "code",
    "deepnote_cell_height": 406.65625
   },
   "source": "df_tele.head(5)",
   "outputs": [
    {
     "output_type": "execute_result",
     "execution_count": 15,
     "data": {
      "application/vnd.deepnote.dataframe.v3+json": {
       "column_count": 7,
       "row_count": 5,
       "columns": [
        {
         "name": "Product_Name",
         "dtype": "object",
         "stats": {
          "unique_count": 5,
          "nan_count": 0,
          "categories": [
           {
            "name": "Croma",
            "count": 1
           },
           {
            "name": "Adsun",
            "count": 1
           },
           {
            "name": "3 others",
            "count": 3
           }
          ]
         }
        },
        {
         "name": "Stars",
         "dtype": "float64",
         "stats": {
          "unique_count": 4,
          "nan_count": 0,
          "min": "3.8",
          "max": "4.4",
          "histogram": [
           {
            "bin_start": 3.8,
            "bin_end": 3.86,
            "count": 1
           },
           {
            "bin_start": 3.86,
            "bin_end": 3.92,
            "count": 0
           },
           {
            "bin_start": 3.92,
            "bin_end": 3.98,
            "count": 0
           },
           {
            "bin_start": 3.98,
            "bin_end": 4.04,
            "count": 0
           },
           {
            "bin_start": 4.04,
            "bin_end": 4.1,
            "count": 0
           },
           {
            "bin_start": 4.1,
            "bin_end": 4.16,
            "count": 0
           },
           {
            "bin_start": 4.16,
            "bin_end": 4.220000000000001,
            "count": 1
           },
           {
            "bin_start": 4.220000000000001,
            "bin_end": 4.28,
            "count": 0
           },
           {
            "bin_start": 4.28,
            "bin_end": 4.34,
            "count": 2
           },
           {
            "bin_start": 4.34,
            "bin_end": 4.4,
            "count": 1
           }
          ]
         }
        },
        {
         "name": "Ratings",
         "dtype": "int64",
         "stats": {
          "unique_count": 5,
          "nan_count": 0,
          "min": "1773",
          "max": "101256",
          "histogram": [
           {
            "bin_start": 1773,
            "bin_end": 11721.3,
            "count": 3
           },
           {
            "bin_start": 11721.3,
            "bin_end": 21669.6,
            "count": 0
           },
           {
            "bin_start": 21669.6,
            "bin_end": 31617.899999999998,
            "count": 0
           },
           {
            "bin_start": 31617.899999999998,
            "bin_end": 41566.2,
            "count": 1
           },
           {
            "bin_start": 41566.2,
            "bin_end": 51514.5,
            "count": 0
           },
           {
            "bin_start": 51514.5,
            "bin_end": 61462.799999999996,
            "count": 0
           },
           {
            "bin_start": 61462.799999999996,
            "bin_end": 71411.09999999999,
            "count": 0
           },
           {
            "bin_start": 71411.09999999999,
            "bin_end": 81359.4,
            "count": 0
           },
           {
            "bin_start": 81359.4,
            "bin_end": 91307.7,
            "count": 0
           },
           {
            "bin_start": 91307.7,
            "bin_end": 101256,
            "count": 1
           }
          ]
         }
        },
        {
         "name": "Reviews",
         "dtype": "int64",
         "stats": {
          "unique_count": 5,
          "nan_count": 0,
          "min": "217",
          "max": "9189",
          "histogram": [
           {
            "bin_start": 217,
            "bin_end": 1114.2,
            "count": 3
           },
           {
            "bin_start": 1114.2,
            "bin_end": 2011.4,
            "count": 0
           },
           {
            "bin_start": 2011.4,
            "bin_end": 2908.6000000000004,
            "count": 0
           },
           {
            "bin_start": 2908.6000000000004,
            "bin_end": 3805.8,
            "count": 1
           },
           {
            "bin_start": 3805.8,
            "bin_end": 4703,
            "count": 0
           },
           {
            "bin_start": 4703,
            "bin_end": 5600.200000000001,
            "count": 0
           },
           {
            "bin_start": 5600.200000000001,
            "bin_end": 6497.400000000001,
            "count": 0
           },
           {
            "bin_start": 6497.400000000001,
            "bin_end": 7394.6,
            "count": 0
           },
           {
            "bin_start": 7394.6,
            "bin_end": 8291.8,
            "count": 0
           },
           {
            "bin_start": 8291.8,
            "bin_end": 9189,
            "count": 1
           }
          ]
         }
        },
        {
         "name": "Current_price",
         "dtype": "object",
         "stats": {
          "unique_count": 4,
          "nan_count": 0,
          "categories": [
           {
            "name": "₹16499",
            "count": 2
           },
           {
            "name": "₹7990",
            "count": 1
           },
           {
            "name": "2 others",
            "count": 2
           }
          ]
         }
        },
        {
         "name": "Marked_price",
         "dtype": "object",
         "stats": {
          "unique_count": 4,
          "nan_count": 0,
          "categories": [
           {
            "name": "₹21999",
            "count": 2
           },
           {
            "name": "₹20000",
            "count": 1
           },
           {
            "name": "2 others",
            "count": 2
           }
          ]
         }
        },
        {
         "name": "Operating_system",
         "dtype": "object",
         "stats": {
          "unique_count": 4,
          "nan_count": 0,
          "categories": [
           {
            "name": "Operating System: Android",
            "count": 2
           },
           {
            "name": "20 Speaker Output",
            "count": 1
           },
           {
            "name": "2 others",
            "count": 2
           }
          ]
         }
        },
        {
         "name": "_deepnote_index_column",
         "dtype": "int64"
        }
       ],
       "rows": [
        {
         "Product_Name": "Croma",
         "Stars": 4.2,
         "Ratings": 1773,
         "Reviews": 217,
         "Current_price": "₹7990",
         "Marked_price": "₹20000",
         "Operating_system": "20 Speaker Output",
         "_deepnote_index_column": 0
        },
        {
         "Product_Name": "Adsun",
         "Stars": 3.8,
         "Ratings": 6742,
         "Reviews": 930,
         "Current_price": "₹8699",
         "Marked_price": "₹21999",
         "Operating_system": "Operating System: Android Based",
         "_deepnote_index_column": 1
        },
        {
         "Product_Name": "LG",
         "Stars": 4.4,
         "Ratings": 38870,
         "Reviews": 3443,
         "Current_price": "₹16499",
         "Marked_price": "₹21990",
         "Operating_system": "Operating System: WebOS",
         "_deepnote_index_column": 2
        },
        {
         "Product_Name": "OnePlus",
         "Stars": 4.3,
         "Ratings": 101256,
         "Reviews": 9189,
         "Current_price": "₹16499",
         "Marked_price": "₹21999",
         "Operating_system": "Operating System: Android",
         "_deepnote_index_column": 3
        },
        {
         "Product_Name": "Xiaomi",
         "Stars": 4.3,
         "Ratings": 3120,
         "Reviews": 305,
         "Current_price": "₹15499",
         "Marked_price": "₹24999",
         "Operating_system": "Operating System: Android",
         "_deepnote_index_column": 4
        }
       ]
      },
      "text/plain": "  Product_Name  Stars  Ratings  Reviews Current_price Marked_price  \\\n0        Croma    4.2     1773      217         ₹7990       ₹20000   \n1        Adsun    3.8     6742      930         ₹8699       ₹21999   \n2           LG    4.4    38870     3443        ₹16499       ₹21990   \n3      OnePlus    4.3   101256     9189        ₹16499       ₹21999   \n4       Xiaomi    4.3     3120      305        ₹15499       ₹24999   \n\n                  Operating_system  \n0                20 Speaker Output  \n1  Operating System: Android Based  \n2          Operating System: WebOS  \n3        Operating System: Android  \n4        Operating System: Android  ",
      "text/html": "<div>\n<style scoped>\n    .dataframe tbody tr th:only-of-type {\n        vertical-align: middle;\n    }\n\n    .dataframe tbody tr th {\n        vertical-align: top;\n    }\n\n    .dataframe thead th {\n        text-align: right;\n    }\n</style>\n<table border=\"1\" class=\"dataframe\">\n  <thead>\n    <tr style=\"text-align: right;\">\n      <th></th>\n      <th>Product_Name</th>\n      <th>Stars</th>\n      <th>Ratings</th>\n      <th>Reviews</th>\n      <th>Current_price</th>\n      <th>Marked_price</th>\n      <th>Operating_system</th>\n    </tr>\n  </thead>\n  <tbody>\n    <tr>\n      <th>0</th>\n      <td>Croma</td>\n      <td>4.2</td>\n      <td>1773</td>\n      <td>217</td>\n      <td>₹7990</td>\n      <td>₹20000</td>\n      <td>20 Speaker Output</td>\n    </tr>\n    <tr>\n      <th>1</th>\n      <td>Adsun</td>\n      <td>3.8</td>\n      <td>6742</td>\n      <td>930</td>\n      <td>₹8699</td>\n      <td>₹21999</td>\n      <td>Operating System: Android Based</td>\n    </tr>\n    <tr>\n      <th>2</th>\n      <td>LG</td>\n      <td>4.4</td>\n      <td>38870</td>\n      <td>3443</td>\n      <td>₹16499</td>\n      <td>₹21990</td>\n      <td>Operating System: WebOS</td>\n    </tr>\n    <tr>\n      <th>3</th>\n      <td>OnePlus</td>\n      <td>4.3</td>\n      <td>101256</td>\n      <td>9189</td>\n      <td>₹16499</td>\n      <td>₹21999</td>\n      <td>Operating System: Android</td>\n    </tr>\n    <tr>\n      <th>4</th>\n      <td>Xiaomi</td>\n      <td>4.3</td>\n      <td>3120</td>\n      <td>305</td>\n      <td>₹15499</td>\n      <td>₹24999</td>\n      <td>Operating System: Android</td>\n    </tr>\n  </tbody>\n</table>\n</div>"
     },
     "metadata": {}
    }
   ],
   "execution_count": null
  },
  {
   "cell_type": "code",
   "metadata": {
    "cell_id": "44948876a40c45b691872f96a286d0f8",
    "tags": [],
    "deepnote_to_be_reexecuted": false,
    "source_hash": "5cc74e",
    "execution_start": 1660822405803,
    "execution_millis": 10,
    "deepnote_cell_type": "code",
    "deepnote_cell_height": 189
   },
   "source": "#converting the current_price and marked_price into numerical data\ndf_tele['Current_price'] = df_tele['Current_price'].apply(lambda x: str(x).replace('₹','') if '₹' in str(x) else str(x))\ndf_tele['Current_price'] = df_tele['Current_price'].apply(lambda x: int(x))\n\ndf_tele['Marked_price'] = df_tele['Marked_price'].apply(lambda x: str(x).replace('₹','') if '₹' in str(x) else str(x))\ndf_tele['Marked_price'] = df_tele['Marked_price'].apply(lambda x: int(x))\n",
   "outputs": [],
   "execution_count": null
  },
  {
   "cell_type": "code",
   "metadata": {
    "cell_id": "c678aba921dc49ed8a0c3c32d632760c",
    "tags": [],
    "deepnote_to_be_reexecuted": false,
    "source_hash": "7866c893",
    "execution_start": 1660822405820,
    "execution_millis": 65,
    "deepnote_cell_type": "code",
    "deepnote_cell_height": 365.09375
   },
   "source": "df_tele.info()",
   "outputs": [
    {
     "name": "stdout",
     "text": "<class 'pandas.core.frame.DataFrame'>\nRangeIndex: 882 entries, 0 to 881\nData columns (total 7 columns):\n #   Column            Non-Null Count  Dtype  \n---  ------            --------------  -----  \n 0   Product_Name      882 non-null    object \n 1   Stars             882 non-null    float64\n 2   Ratings           882 non-null    int64  \n 3   Reviews           882 non-null    int64  \n 4   Current_price     882 non-null    int64  \n 5   Marked_price      882 non-null    int64  \n 6   Operating_system  882 non-null    object \ndtypes: float64(1), int64(4), object(2)\nmemory usage: 48.4+ KB\n",
     "output_type": "stream"
    }
   ],
   "execution_count": null
  },
  {
   "cell_type": "code",
   "metadata": {
    "cell_id": "c0b82c24f7bb4b568d776232225d36b5",
    "tags": [],
    "deepnote_to_be_reexecuted": false,
    "source_hash": "6d7e5e94",
    "execution_start": 1660822405874,
    "execution_millis": 0,
    "deepnote_cell_type": "code",
    "deepnote_cell_height": 99
   },
   "source": "#removing the noise from Operating_system\ndf_tele['Operating_system'] = df_tele['Operating_system'].str.replace('20 Speaker Output','Operating System: Android')",
   "outputs": [],
   "execution_count": null
  },
  {
   "cell_type": "code",
   "metadata": {
    "cell_id": "c311f2674473411caaf9c29ea79f486a",
    "tags": [],
    "deepnote_to_be_reexecuted": false,
    "source_hash": "58a49283",
    "execution_start": 1660822405875,
    "execution_millis": 28,
    "deepnote_cell_type": "code",
    "deepnote_cell_height": 647.65625
   },
   "source": "#checking if marked price contain value equal to zero\nfilt = (df_tele['Marked_price'] == 0)\ndf_tele[filt]",
   "outputs": [
    {
     "output_type": "execute_result",
     "execution_count": 19,
     "data": {
      "application/vnd.deepnote.dataframe.v3+json": {
       "column_count": 7,
       "row_count": 60,
       "columns": [
        {
         "name": "Product_Name",
         "dtype": "object",
         "stats": {
          "unique_count": 12,
          "nan_count": 0,
          "categories": [
           {
            "name": "SAMSUNG",
            "count": 32
           },
           {
            "name": "LG",
            "count": 13
           },
           {
            "name": "10 others",
            "count": 15
           }
          ]
         }
        },
        {
         "name": "Stars",
         "dtype": "float64",
         "stats": {
          "unique_count": 18,
          "nan_count": 0,
          "min": "0.0",
          "max": "5.0",
          "histogram": [
           {
            "bin_start": 0,
            "bin_end": 0.5,
            "count": 11
           },
           {
            "bin_start": 0.5,
            "bin_end": 1,
            "count": 0
           },
           {
            "bin_start": 1,
            "bin_end": 1.5,
            "count": 0
           },
           {
            "bin_start": 1.5,
            "bin_end": 2,
            "count": 0
           },
           {
            "bin_start": 2,
            "bin_end": 2.5,
            "count": 0
           },
           {
            "bin_start": 2.5,
            "bin_end": 3,
            "count": 1
           },
           {
            "bin_start": 3,
            "bin_end": 3.5,
            "count": 2
           },
           {
            "bin_start": 3.5,
            "bin_end": 4,
            "count": 7
           },
           {
            "bin_start": 4,
            "bin_end": 4.5,
            "count": 28
           },
           {
            "bin_start": 4.5,
            "bin_end": 5,
            "count": 11
           }
          ]
         }
        },
        {
         "name": "Ratings",
         "dtype": "int64",
         "stats": {
          "unique_count": 10,
          "nan_count": 0,
          "min": "0",
          "max": "57944",
          "histogram": [
           {
            "bin_start": 0,
            "bin_end": 5794.4,
            "count": 54
           },
           {
            "bin_start": 5794.4,
            "bin_end": 11588.8,
            "count": 2
           },
           {
            "bin_start": 11588.8,
            "bin_end": 17383.199999999997,
            "count": 3
           },
           {
            "bin_start": 17383.199999999997,
            "bin_end": 23177.6,
            "count": 0
           },
           {
            "bin_start": 23177.6,
            "bin_end": 28972,
            "count": 0
           },
           {
            "bin_start": 28972,
            "bin_end": 34766.399999999994,
            "count": 0
           },
           {
            "bin_start": 34766.399999999994,
            "bin_end": 40560.799999999996,
            "count": 0
           },
           {
            "bin_start": 40560.799999999996,
            "bin_end": 46355.2,
            "count": 0
           },
           {
            "bin_start": 46355.2,
            "bin_end": 52149.6,
            "count": 0
           },
           {
            "bin_start": 52149.6,
            "bin_end": 57944,
            "count": 1
           }
          ]
         }
        },
        {
         "name": "Reviews",
         "dtype": "int64",
         "stats": {
          "unique_count": 10,
          "nan_count": 0,
          "min": "0",
          "max": "6362",
          "histogram": [
           {
            "bin_start": 0,
            "bin_end": 636.2,
            "count": 53
           },
           {
            "bin_start": 636.2,
            "bin_end": 1272.4,
            "count": 2
           },
           {
            "bin_start": 1272.4,
            "bin_end": 1908.6000000000001,
            "count": 0
           },
           {
            "bin_start": 1908.6000000000001,
            "bin_end": 2544.8,
            "count": 3
           },
           {
            "bin_start": 2544.8,
            "bin_end": 3181,
            "count": 1
           },
           {
            "bin_start": 3181,
            "bin_end": 3817.2000000000003,
            "count": 0
           },
           {
            "bin_start": 3817.2000000000003,
            "bin_end": 4453.400000000001,
            "count": 0
           },
           {
            "bin_start": 4453.400000000001,
            "bin_end": 5089.6,
            "count": 0
           },
           {
            "bin_start": 5089.6,
            "bin_end": 5725.8,
            "count": 0
           },
           {
            "bin_start": 5725.8,
            "bin_end": 6362,
            "count": 1
           }
          ]
         }
        },
        {
         "name": "Current_price",
         "dtype": "int64",
         "stats": {
          "unique_count": 57,
          "nan_count": 0,
          "min": "15200",
          "max": "599900",
          "histogram": [
           {
            "bin_start": 15200,
            "bin_end": 73670,
            "count": 24
           },
           {
            "bin_start": 73670,
            "bin_end": 132140,
            "count": 16
           },
           {
            "bin_start": 132140,
            "bin_end": 190610,
            "count": 7
           },
           {
            "bin_start": 190610,
            "bin_end": 249080,
            "count": 3
           },
           {
            "bin_start": 249080,
            "bin_end": 307550,
            "count": 3
           },
           {
            "bin_start": 307550,
            "bin_end": 366020,
            "count": 3
           },
           {
            "bin_start": 366020,
            "bin_end": 424490,
            "count": 0
           },
           {
            "bin_start": 424490,
            "bin_end": 482960,
            "count": 2
           },
           {
            "bin_start": 482960,
            "bin_end": 541430,
            "count": 1
           },
           {
            "bin_start": 541430,
            "bin_end": 599900,
            "count": 1
           }
          ]
         }
        },
        {
         "name": "Marked_price",
         "dtype": "int64",
         "stats": {
          "unique_count": 1,
          "nan_count": 0,
          "min": "0",
          "max": "0",
          "histogram": [
           {
            "bin_start": -0.5,
            "bin_end": -0.4,
            "count": 0
           },
           {
            "bin_start": -0.4,
            "bin_end": -0.3,
            "count": 0
           },
           {
            "bin_start": -0.3,
            "bin_end": -0.19999999999999996,
            "count": 0
           },
           {
            "bin_start": -0.19999999999999996,
            "bin_end": -0.09999999999999998,
            "count": 0
           },
           {
            "bin_start": -0.09999999999999998,
            "bin_end": 0,
            "count": 0
           },
           {
            "bin_start": 0,
            "bin_end": 0.10000000000000009,
            "count": 60
           },
           {
            "bin_start": 0.10000000000000009,
            "bin_end": 0.20000000000000007,
            "count": 0
           },
           {
            "bin_start": 0.20000000000000007,
            "bin_end": 0.30000000000000004,
            "count": 0
           },
           {
            "bin_start": 0.30000000000000004,
            "bin_end": 0.4,
            "count": 0
           },
           {
            "bin_start": 0.4,
            "bin_end": 0.5,
            "count": 0
           }
          ]
         }
        },
        {
         "name": "Operating_system",
         "dtype": "object",
         "stats": {
          "unique_count": 14,
          "nan_count": 0,
          "categories": [
           {
            "name": "Operating System: Tizen",
            "count": 19
           },
           {
            "name": "Operating System: Android",
            "count": 7
           },
           {
            "name": "12 others",
            "count": 34
           }
          ]
         }
        },
        {
         "name": "_deepnote_index_column",
         "dtype": "int64"
        }
       ],
       "rows": [
        {
         "Product_Name": "Mi",
         "Stars": 4.4,
         "Ratings": 4600,
         "Reviews": 619,
         "Current_price": 59999,
         "Marked_price": 0,
         "Operating_system": "Operating System: Android",
         "_deepnote_index_column": 150
        },
        {
         "Product_Name": "Coocaa",
         "Stars": 4.2,
         "Ratings": 14827,
         "Reviews": 2328,
         "Current_price": 39999,
         "Marked_price": 0,
         "Operating_system": "Operating System: Coolita",
         "_deepnote_index_column": 208
        },
        {
         "Product_Name": "Infinix",
         "Stars": 4.2,
         "Ratings": 14818,
         "Reviews": 2281,
         "Current_price": 24999,
         "Marked_price": 0,
         "Operating_system": "Operating System: Android",
         "_deepnote_index_column": 233
        },
        {
         "Product_Name": "LG",
         "Stars": 0,
         "Ratings": 0,
         "Reviews": 0,
         "Current_price": 499990,
         "Marked_price": 0,
         "Operating_system": "Operating System: WebOS",
         "_deepnote_index_column": 332
        },
        {
         "Product_Name": "Sansui",
         "Stars": 4.3,
         "Ratings": 0,
         "Reviews": 0,
         "Current_price": 34999,
         "Marked_price": 0,
         "Operating_system": "Operating System: Android Based",
         "_deepnote_index_column": 363
        },
        {
         "Product_Name": "SAMSUNG",
         "Stars": 0,
         "Ratings": 0,
         "Reviews": 0,
         "Current_price": 599900,
         "Marked_price": 0,
         "Operating_system": "Operating System: Tizen",
         "_deepnote_index_column": 383
        },
        {
         "Product_Name": "SAMSUNG",
         "Stars": 0,
         "Ratings": 0,
         "Reviews": 0,
         "Current_price": 470900,
         "Marked_price": 0,
         "Operating_system": "Operating System: Tizen",
         "_deepnote_index_column": 406
        },
        {
         "Product_Name": "SAMSUNG",
         "Stars": 4.7,
         "Ratings": 0,
         "Reviews": 0,
         "Current_price": 294900,
         "Marked_price": 0,
         "Operating_system": "Operating System: Tizen",
         "_deepnote_index_column": 411
        },
        {
         "Product_Name": "SAMSUNG",
         "Stars": 0,
         "Ratings": 0,
         "Reviews": 0,
         "Current_price": 314900,
         "Marked_price": 0,
         "Operating_system": "Operating System: Tizen",
         "_deepnote_index_column": 424
        },
        {
         "Product_Name": "SAMSUNG",
         "Stars": 3.9,
         "Ratings": 0,
         "Reviews": 0,
         "Current_price": 241900,
         "Marked_price": 0,
         "Operating_system": "Ultra HD (4K) 3840x2160 Pixels",
         "_deepnote_index_column": 436
        }
       ]
      },
      "text/plain": "    Product_Name  Stars  Ratings  Reviews  Current_price  Marked_price  \\\n150           Mi    4.4     4600      619          59999             0   \n208       Coocaa    4.2    14827     2328          39999             0   \n233      Infinix    4.2    14818     2281          24999             0   \n332           LG    0.0        0        0         499990             0   \n363       Sansui    4.3        0        0          34999             0   \n383      SAMSUNG    0.0        0        0         599900             0   \n406      SAMSUNG    0.0        0        0         470900             0   \n411      SAMSUNG    4.7        0        0         294900             0   \n424      SAMSUNG    0.0        0        0         314900             0   \n436      SAMSUNG    3.9        0        0         241900             0   \n443     Micromax    4.0     2677      763          91990             0   \n448           LG    5.0        0        0         356990             0   \n471       Sansui    3.7        0        0          69200             0   \n474      SAMSUNG    3.0        0        0         204900             0   \n476           LG    4.6        0        0         324990             0   \n492           Vu    4.2        0        0         116000             0   \n495      SAMSUNG    4.4        0        0         129900             0   \n511      SAMSUNG    5.0        0        0         154900             0   \n514      SAMSUNG    4.4        0        0         179900             0   \n515      SAMSUNG    3.4        0        0         129900             0   \n516      SAMSUNG    0.0        0        0         440900             0   \n523           LG    4.4        0        0          54990             0   \n527       Sansui    4.3        0        0         119990             0   \n532      SAMSUNG    3.9        0        0          62900             0   \n536      SAMSUNG    4.0        0        0          26900             0   \n543           LG    4.5        0        0          80990             0   \n548      SAMSUNG    4.3        0        0          69500             0   \n549           LG    4.8        0        0          77990             0   \n551      SAMSUNG    4.3        0        0          69500             0   \n554      SAMSUNG    3.6        0        0         284900             0   \n555           LG    4.4        0        0          68990             0   \n558      SAMSUNG    4.2      625      131          48900             0   \n563           LG    4.2        0        0         103990             0   \n564      SAMSUNG    0.0        0        0         229900             0   \n575      SAMSUNG    3.7        0        0         155900             0   \n576      SAMSUNG    0.0        0        0         295900             0   \n578      SAMSUNG    4.5        0        0         104900             0   \n583           LG    4.4        0        0          79990             0   \n588      SAMSUNG    4.5        0        0         146900             0   \n627           LG    4.1        0        0          77900             0   \n634    Panasonic    4.3     8389     1179          24990             0   \n642      SAMSUNG    4.4        0        0          50900             0   \n658      SAMSUNG    4.8        0        0         145900             0   \n671           Mi    4.4    57944     6362          28999             0   \n674      SAMSUNG    2.8        0        0         145900             0   \n675      SAMSUNG    0.0        0        0         149900             0   \n682           LG    4.8        0        0         104990             0   \n691           LG    4.5        0        0          67990             0   \n717      Thomson    4.1     8625     2685          16999             0   \n759      SAMSUNG    0.0        0        0         110900             0   \n790        Lloyd    0.0        0        0          60990             0   \n798        Lloyd    0.0        0        0          99990             0   \n799           LG    4.3        0        0          58900             0   \n801      SAMSUNG    3.8        0        0          29900             0   \n805      SAMSUNG    4.2    11881     1983          15200             0   \n809        Haier    4.0        0        0          36990             0   \n821      SAMSUNG    4.1        0        0          92500             0   \n825      SAMSUNG    3.8        0        0          25900             0   \n842      SAMSUNG    4.3        0        0         125900             0   \n866     Micromax    4.2        0        0          71990             0   \n\n                     Operating_system  \n150         Operating System: Android  \n208         Operating System: Coolita  \n233         Operating System: Android  \n332           Operating System: WebOS  \n363   Operating System: Android Based  \n383           Operating System: Tizen  \n406           Operating System: Tizen  \n411           Operating System: Tizen  \n424           Operating System: Tizen  \n436    Ultra HD (4K) 3840x2160 Pixels  \n443               20 W Speaker Output  \n448  Ultra HD (4K) 3840 x 2160 Pixels  \n471               20 W Speaker Output  \n474           Operating System: Tizen  \n476           Operating System: WebOS  \n492         Operating System: Android  \n495           Operating System: Tizen  \n511           Operating System: Tizen  \n514    Ultra HD (4K) 3840x2160 Pixels  \n515           Operating System: Tizen  \n516           Operating System: Tizen  \n523           Operating System: WebOS  \n527               20 W Speaker Output  \n532           Operating System: Tizen  \n536               40 W Speaker Output  \n543  Ultra HD (4K) 3840 x 2160 Pixels  \n548               20 w Speaker Output  \n549        Full HD 1920 x 1080 Pixels  \n551               20 w Speaker Output  \n554           Operating System: Tizen  \n555           Operating System: WebOS  \n558               14 W Speaker Output  \n563           Operating System: WebOS  \n564           Operating System: Tizen  \n575           Operating System: Tizen  \n576  Ultra HD (4K) 3840 x 2160 Pixels  \n578           Operating System: Tizen  \n583  Ultra HD (4K) 3840 x 2160 Pixels  \n588    Ultra HD (4K) 3840x2160 Pixels  \n627        Full HD 1920 x 1080 Pixels  \n634         Operating System: Android  \n642               20 W Speaker Output  \n658           Operating System: Tizen  \n671         Operating System: Android  \n674           Operating System: Tizen  \n675           Operating System: Tizen  \n682           Operating System: WebOS  \n691           Operating System: WebOS  \n717   Operating System: Android Based  \n759           Operating System: Tizen  \n790         Operating System: Android  \n798         Operating System: Android  \n799               20 W Speaker Output  \n801               10 W Speaker Output  \n805               10 W Speaker Output  \n809               16 W Speaker Output  \n821           Operating System: Tizen  \n825               10 W Speaker Output  \n842    Ultra HD (4K) 3840x2160 Pixels  \n866               20 W Speaker Output  ",
      "text/html": "<div>\n<style scoped>\n    .dataframe tbody tr th:only-of-type {\n        vertical-align: middle;\n    }\n\n    .dataframe tbody tr th {\n        vertical-align: top;\n    }\n\n    .dataframe thead th {\n        text-align: right;\n    }\n</style>\n<table border=\"1\" class=\"dataframe\">\n  <thead>\n    <tr style=\"text-align: right;\">\n      <th></th>\n      <th>Product_Name</th>\n      <th>Stars</th>\n      <th>Ratings</th>\n      <th>Reviews</th>\n      <th>Current_price</th>\n      <th>Marked_price</th>\n      <th>Operating_system</th>\n    </tr>\n  </thead>\n  <tbody>\n    <tr>\n      <th>150</th>\n      <td>Mi</td>\n      <td>4.4</td>\n      <td>4600</td>\n      <td>619</td>\n      <td>59999</td>\n      <td>0</td>\n      <td>Operating System: Android</td>\n    </tr>\n    <tr>\n      <th>208</th>\n      <td>Coocaa</td>\n      <td>4.2</td>\n      <td>14827</td>\n      <td>2328</td>\n      <td>39999</td>\n      <td>0</td>\n      <td>Operating System: Coolita</td>\n    </tr>\n    <tr>\n      <th>233</th>\n      <td>Infinix</td>\n      <td>4.2</td>\n      <td>14818</td>\n      <td>2281</td>\n      <td>24999</td>\n      <td>0</td>\n      <td>Operating System: Android</td>\n    </tr>\n    <tr>\n      <th>332</th>\n      <td>LG</td>\n      <td>0.0</td>\n      <td>0</td>\n      <td>0</td>\n      <td>499990</td>\n      <td>0</td>\n      <td>Operating System: WebOS</td>\n    </tr>\n    <tr>\n      <th>363</th>\n      <td>Sansui</td>\n      <td>4.3</td>\n      <td>0</td>\n      <td>0</td>\n      <td>34999</td>\n      <td>0</td>\n      <td>Operating System: Android Based</td>\n    </tr>\n    <tr>\n      <th>383</th>\n      <td>SAMSUNG</td>\n      <td>0.0</td>\n      <td>0</td>\n      <td>0</td>\n      <td>599900</td>\n      <td>0</td>\n      <td>Operating System: Tizen</td>\n    </tr>\n    <tr>\n      <th>406</th>\n      <td>SAMSUNG</td>\n      <td>0.0</td>\n      <td>0</td>\n      <td>0</td>\n      <td>470900</td>\n      <td>0</td>\n      <td>Operating System: Tizen</td>\n    </tr>\n    <tr>\n      <th>411</th>\n      <td>SAMSUNG</td>\n      <td>4.7</td>\n      <td>0</td>\n      <td>0</td>\n      <td>294900</td>\n      <td>0</td>\n      <td>Operating System: Tizen</td>\n    </tr>\n    <tr>\n      <th>424</th>\n      <td>SAMSUNG</td>\n      <td>0.0</td>\n      <td>0</td>\n      <td>0</td>\n      <td>314900</td>\n      <td>0</td>\n      <td>Operating System: Tizen</td>\n    </tr>\n    <tr>\n      <th>436</th>\n      <td>SAMSUNG</td>\n      <td>3.9</td>\n      <td>0</td>\n      <td>0</td>\n      <td>241900</td>\n      <td>0</td>\n      <td>Ultra HD (4K) 3840x2160 Pixels</td>\n    </tr>\n    <tr>\n      <th>443</th>\n      <td>Micromax</td>\n      <td>4.0</td>\n      <td>2677</td>\n      <td>763</td>\n      <td>91990</td>\n      <td>0</td>\n      <td>20 W Speaker Output</td>\n    </tr>\n    <tr>\n      <th>448</th>\n      <td>LG</td>\n      <td>5.0</td>\n      <td>0</td>\n      <td>0</td>\n      <td>356990</td>\n      <td>0</td>\n      <td>Ultra HD (4K) 3840 x 2160 Pixels</td>\n    </tr>\n    <tr>\n      <th>471</th>\n      <td>Sansui</td>\n      <td>3.7</td>\n      <td>0</td>\n      <td>0</td>\n      <td>69200</td>\n      <td>0</td>\n      <td>20 W Speaker Output</td>\n    </tr>\n    <tr>\n      <th>474</th>\n      <td>SAMSUNG</td>\n      <td>3.0</td>\n      <td>0</td>\n      <td>0</td>\n      <td>204900</td>\n      <td>0</td>\n      <td>Operating System: Tizen</td>\n    </tr>\n    <tr>\n      <th>476</th>\n      <td>LG</td>\n      <td>4.6</td>\n      <td>0</td>\n      <td>0</td>\n      <td>324990</td>\n      <td>0</td>\n      <td>Operating System: WebOS</td>\n    </tr>\n    <tr>\n      <th>492</th>\n      <td>Vu</td>\n      <td>4.2</td>\n      <td>0</td>\n      <td>0</td>\n      <td>116000</td>\n      <td>0</td>\n      <td>Operating System: Android</td>\n    </tr>\n    <tr>\n      <th>495</th>\n      <td>SAMSUNG</td>\n      <td>4.4</td>\n      <td>0</td>\n      <td>0</td>\n      <td>129900</td>\n      <td>0</td>\n      <td>Operating System: Tizen</td>\n    </tr>\n    <tr>\n      <th>511</th>\n      <td>SAMSUNG</td>\n      <td>5.0</td>\n      <td>0</td>\n      <td>0</td>\n      <td>154900</td>\n      <td>0</td>\n      <td>Operating System: Tizen</td>\n    </tr>\n    <tr>\n      <th>514</th>\n      <td>SAMSUNG</td>\n      <td>4.4</td>\n      <td>0</td>\n      <td>0</td>\n      <td>179900</td>\n      <td>0</td>\n      <td>Ultra HD (4K) 3840x2160 Pixels</td>\n    </tr>\n    <tr>\n      <th>515</th>\n      <td>SAMSUNG</td>\n      <td>3.4</td>\n      <td>0</td>\n      <td>0</td>\n      <td>129900</td>\n      <td>0</td>\n      <td>Operating System: Tizen</td>\n    </tr>\n    <tr>\n      <th>516</th>\n      <td>SAMSUNG</td>\n      <td>0.0</td>\n      <td>0</td>\n      <td>0</td>\n      <td>440900</td>\n      <td>0</td>\n      <td>Operating System: Tizen</td>\n    </tr>\n    <tr>\n      <th>523</th>\n      <td>LG</td>\n      <td>4.4</td>\n      <td>0</td>\n      <td>0</td>\n      <td>54990</td>\n      <td>0</td>\n      <td>Operating System: WebOS</td>\n    </tr>\n    <tr>\n      <th>527</th>\n      <td>Sansui</td>\n      <td>4.3</td>\n      <td>0</td>\n      <td>0</td>\n      <td>119990</td>\n      <td>0</td>\n      <td>20 W Speaker Output</td>\n    </tr>\n    <tr>\n      <th>532</th>\n      <td>SAMSUNG</td>\n      <td>3.9</td>\n      <td>0</td>\n      <td>0</td>\n      <td>62900</td>\n      <td>0</td>\n      <td>Operating System: Tizen</td>\n    </tr>\n    <tr>\n      <th>536</th>\n      <td>SAMSUNG</td>\n      <td>4.0</td>\n      <td>0</td>\n      <td>0</td>\n      <td>26900</td>\n      <td>0</td>\n      <td>40 W Speaker Output</td>\n    </tr>\n    <tr>\n      <th>543</th>\n      <td>LG</td>\n      <td>4.5</td>\n      <td>0</td>\n      <td>0</td>\n      <td>80990</td>\n      <td>0</td>\n      <td>Ultra HD (4K) 3840 x 2160 Pixels</td>\n    </tr>\n    <tr>\n      <th>548</th>\n      <td>SAMSUNG</td>\n      <td>4.3</td>\n      <td>0</td>\n      <td>0</td>\n      <td>69500</td>\n      <td>0</td>\n      <td>20 w Speaker Output</td>\n    </tr>\n    <tr>\n      <th>549</th>\n      <td>LG</td>\n      <td>4.8</td>\n      <td>0</td>\n      <td>0</td>\n      <td>77990</td>\n      <td>0</td>\n      <td>Full HD 1920 x 1080 Pixels</td>\n    </tr>\n    <tr>\n      <th>551</th>\n      <td>SAMSUNG</td>\n      <td>4.3</td>\n      <td>0</td>\n      <td>0</td>\n      <td>69500</td>\n      <td>0</td>\n      <td>20 w Speaker Output</td>\n    </tr>\n    <tr>\n      <th>554</th>\n      <td>SAMSUNG</td>\n      <td>3.6</td>\n      <td>0</td>\n      <td>0</td>\n      <td>284900</td>\n      <td>0</td>\n      <td>Operating System: Tizen</td>\n    </tr>\n    <tr>\n      <th>555</th>\n      <td>LG</td>\n      <td>4.4</td>\n      <td>0</td>\n      <td>0</td>\n      <td>68990</td>\n      <td>0</td>\n      <td>Operating System: WebOS</td>\n    </tr>\n    <tr>\n      <th>558</th>\n      <td>SAMSUNG</td>\n      <td>4.2</td>\n      <td>625</td>\n      <td>131</td>\n      <td>48900</td>\n      <td>0</td>\n      <td>14 W Speaker Output</td>\n    </tr>\n    <tr>\n      <th>563</th>\n      <td>LG</td>\n      <td>4.2</td>\n      <td>0</td>\n      <td>0</td>\n      <td>103990</td>\n      <td>0</td>\n      <td>Operating System: WebOS</td>\n    </tr>\n    <tr>\n      <th>564</th>\n      <td>SAMSUNG</td>\n      <td>0.0</td>\n      <td>0</td>\n      <td>0</td>\n      <td>229900</td>\n      <td>0</td>\n      <td>Operating System: Tizen</td>\n    </tr>\n    <tr>\n      <th>575</th>\n      <td>SAMSUNG</td>\n      <td>3.7</td>\n      <td>0</td>\n      <td>0</td>\n      <td>155900</td>\n      <td>0</td>\n      <td>Operating System: Tizen</td>\n    </tr>\n    <tr>\n      <th>576</th>\n      <td>SAMSUNG</td>\n      <td>0.0</td>\n      <td>0</td>\n      <td>0</td>\n      <td>295900</td>\n      <td>0</td>\n      <td>Ultra HD (4K) 3840 x 2160 Pixels</td>\n    </tr>\n    <tr>\n      <th>578</th>\n      <td>SAMSUNG</td>\n      <td>4.5</td>\n      <td>0</td>\n      <td>0</td>\n      <td>104900</td>\n      <td>0</td>\n      <td>Operating System: Tizen</td>\n    </tr>\n    <tr>\n      <th>583</th>\n      <td>LG</td>\n      <td>4.4</td>\n      <td>0</td>\n      <td>0</td>\n      <td>79990</td>\n      <td>0</td>\n      <td>Ultra HD (4K) 3840 x 2160 Pixels</td>\n    </tr>\n    <tr>\n      <th>588</th>\n      <td>SAMSUNG</td>\n      <td>4.5</td>\n      <td>0</td>\n      <td>0</td>\n      <td>146900</td>\n      <td>0</td>\n      <td>Ultra HD (4K) 3840x2160 Pixels</td>\n    </tr>\n    <tr>\n      <th>627</th>\n      <td>LG</td>\n      <td>4.1</td>\n      <td>0</td>\n      <td>0</td>\n      <td>77900</td>\n      <td>0</td>\n      <td>Full HD 1920 x 1080 Pixels</td>\n    </tr>\n    <tr>\n      <th>634</th>\n      <td>Panasonic</td>\n      <td>4.3</td>\n      <td>8389</td>\n      <td>1179</td>\n      <td>24990</td>\n      <td>0</td>\n      <td>Operating System: Android</td>\n    </tr>\n    <tr>\n      <th>642</th>\n      <td>SAMSUNG</td>\n      <td>4.4</td>\n      <td>0</td>\n      <td>0</td>\n      <td>50900</td>\n      <td>0</td>\n      <td>20 W Speaker Output</td>\n    </tr>\n    <tr>\n      <th>658</th>\n      <td>SAMSUNG</td>\n      <td>4.8</td>\n      <td>0</td>\n      <td>0</td>\n      <td>145900</td>\n      <td>0</td>\n      <td>Operating System: Tizen</td>\n    </tr>\n    <tr>\n      <th>671</th>\n      <td>Mi</td>\n      <td>4.4</td>\n      <td>57944</td>\n      <td>6362</td>\n      <td>28999</td>\n      <td>0</td>\n      <td>Operating System: Android</td>\n    </tr>\n    <tr>\n      <th>674</th>\n      <td>SAMSUNG</td>\n      <td>2.8</td>\n      <td>0</td>\n      <td>0</td>\n      <td>145900</td>\n      <td>0</td>\n      <td>Operating System: Tizen</td>\n    </tr>\n    <tr>\n      <th>675</th>\n      <td>SAMSUNG</td>\n      <td>0.0</td>\n      <td>0</td>\n      <td>0</td>\n      <td>149900</td>\n      <td>0</td>\n      <td>Operating System: Tizen</td>\n    </tr>\n    <tr>\n      <th>682</th>\n      <td>LG</td>\n      <td>4.8</td>\n      <td>0</td>\n      <td>0</td>\n      <td>104990</td>\n      <td>0</td>\n      <td>Operating System: WebOS</td>\n    </tr>\n    <tr>\n      <th>691</th>\n      <td>LG</td>\n      <td>4.5</td>\n      <td>0</td>\n      <td>0</td>\n      <td>67990</td>\n      <td>0</td>\n      <td>Operating System: WebOS</td>\n    </tr>\n    <tr>\n      <th>717</th>\n      <td>Thomson</td>\n      <td>4.1</td>\n      <td>8625</td>\n      <td>2685</td>\n      <td>16999</td>\n      <td>0</td>\n      <td>Operating System: Android Based</td>\n    </tr>\n    <tr>\n      <th>759</th>\n      <td>SAMSUNG</td>\n      <td>0.0</td>\n      <td>0</td>\n      <td>0</td>\n      <td>110900</td>\n      <td>0</td>\n      <td>Operating System: Tizen</td>\n    </tr>\n    <tr>\n      <th>790</th>\n      <td>Lloyd</td>\n      <td>0.0</td>\n      <td>0</td>\n      <td>0</td>\n      <td>60990</td>\n      <td>0</td>\n      <td>Operating System: Android</td>\n    </tr>\n    <tr>\n      <th>798</th>\n      <td>Lloyd</td>\n      <td>0.0</td>\n      <td>0</td>\n      <td>0</td>\n      <td>99990</td>\n      <td>0</td>\n      <td>Operating System: Android</td>\n    </tr>\n    <tr>\n      <th>799</th>\n      <td>LG</td>\n      <td>4.3</td>\n      <td>0</td>\n      <td>0</td>\n      <td>58900</td>\n      <td>0</td>\n      <td>20 W Speaker Output</td>\n    </tr>\n    <tr>\n      <th>801</th>\n      <td>SAMSUNG</td>\n      <td>3.8</td>\n      <td>0</td>\n      <td>0</td>\n      <td>29900</td>\n      <td>0</td>\n      <td>10 W Speaker Output</td>\n    </tr>\n    <tr>\n      <th>805</th>\n      <td>SAMSUNG</td>\n      <td>4.2</td>\n      <td>11881</td>\n      <td>1983</td>\n      <td>15200</td>\n      <td>0</td>\n      <td>10 W Speaker Output</td>\n    </tr>\n    <tr>\n      <th>809</th>\n      <td>Haier</td>\n      <td>4.0</td>\n      <td>0</td>\n      <td>0</td>\n      <td>36990</td>\n      <td>0</td>\n      <td>16 W Speaker Output</td>\n    </tr>\n    <tr>\n      <th>821</th>\n      <td>SAMSUNG</td>\n      <td>4.1</td>\n      <td>0</td>\n      <td>0</td>\n      <td>92500</td>\n      <td>0</td>\n      <td>Operating System: Tizen</td>\n    </tr>\n    <tr>\n      <th>825</th>\n      <td>SAMSUNG</td>\n      <td>3.8</td>\n      <td>0</td>\n      <td>0</td>\n      <td>25900</td>\n      <td>0</td>\n      <td>10 W Speaker Output</td>\n    </tr>\n    <tr>\n      <th>842</th>\n      <td>SAMSUNG</td>\n      <td>4.3</td>\n      <td>0</td>\n      <td>0</td>\n      <td>125900</td>\n      <td>0</td>\n      <td>Ultra HD (4K) 3840x2160 Pixels</td>\n    </tr>\n    <tr>\n      <th>866</th>\n      <td>Micromax</td>\n      <td>4.2</td>\n      <td>0</td>\n      <td>0</td>\n      <td>71990</td>\n      <td>0</td>\n      <td>20 W Speaker Output</td>\n    </tr>\n  </tbody>\n</table>\n</div>"
     },
     "metadata": {}
    }
   ],
   "execution_count": null
  },
  {
   "cell_type": "code",
   "metadata": {
    "cell_id": "e71b4d81f44745d68b0fcd8585f423f6",
    "tags": [],
    "deepnote_to_be_reexecuted": false,
    "source_hash": "a317781",
    "execution_start": 1660822405885,
    "execution_millis": 4,
    "deepnote_cell_type": "code",
    "deepnote_cell_height": 117
   },
   "source": "#replacing the zero value in marked price with current price\ndf_tele['Marked_price'] = np.where(df_tele['Marked_price'] == 0, df_tele['Current_price'],df_tele['Marked_price'])\n",
   "outputs": [],
   "execution_count": null
  },
  {
   "cell_type": "code",
   "metadata": {
    "cell_id": "6c40a2127d6842ba8623694ebdcba80f",
    "tags": [],
    "deepnote_to_be_reexecuted": false,
    "source_hash": "8f9ec582",
    "execution_start": 1660822405892,
    "execution_millis": 37,
    "deepnote_cell_type": "code",
    "deepnote_cell_height": 629.65625
   },
   "source": "#we can see that Marked price zero's are replaced with current price\ndf_tele[filt]",
   "outputs": [
    {
     "output_type": "execute_result",
     "execution_count": 21,
     "data": {
      "application/vnd.deepnote.dataframe.v3+json": {
       "column_count": 7,
       "row_count": 60,
       "columns": [
        {
         "name": "Product_Name",
         "dtype": "object",
         "stats": {
          "unique_count": 12,
          "nan_count": 0,
          "categories": [
           {
            "name": "SAMSUNG",
            "count": 32
           },
           {
            "name": "LG",
            "count": 13
           },
           {
            "name": "10 others",
            "count": 15
           }
          ]
         }
        },
        {
         "name": "Stars",
         "dtype": "float64",
         "stats": {
          "unique_count": 18,
          "nan_count": 0,
          "min": "0.0",
          "max": "5.0",
          "histogram": [
           {
            "bin_start": 0,
            "bin_end": 0.5,
            "count": 11
           },
           {
            "bin_start": 0.5,
            "bin_end": 1,
            "count": 0
           },
           {
            "bin_start": 1,
            "bin_end": 1.5,
            "count": 0
           },
           {
            "bin_start": 1.5,
            "bin_end": 2,
            "count": 0
           },
           {
            "bin_start": 2,
            "bin_end": 2.5,
            "count": 0
           },
           {
            "bin_start": 2.5,
            "bin_end": 3,
            "count": 1
           },
           {
            "bin_start": 3,
            "bin_end": 3.5,
            "count": 2
           },
           {
            "bin_start": 3.5,
            "bin_end": 4,
            "count": 7
           },
           {
            "bin_start": 4,
            "bin_end": 4.5,
            "count": 28
           },
           {
            "bin_start": 4.5,
            "bin_end": 5,
            "count": 11
           }
          ]
         }
        },
        {
         "name": "Ratings",
         "dtype": "int64",
         "stats": {
          "unique_count": 10,
          "nan_count": 0,
          "min": "0",
          "max": "57944",
          "histogram": [
           {
            "bin_start": 0,
            "bin_end": 5794.4,
            "count": 54
           },
           {
            "bin_start": 5794.4,
            "bin_end": 11588.8,
            "count": 2
           },
           {
            "bin_start": 11588.8,
            "bin_end": 17383.199999999997,
            "count": 3
           },
           {
            "bin_start": 17383.199999999997,
            "bin_end": 23177.6,
            "count": 0
           },
           {
            "bin_start": 23177.6,
            "bin_end": 28972,
            "count": 0
           },
           {
            "bin_start": 28972,
            "bin_end": 34766.399999999994,
            "count": 0
           },
           {
            "bin_start": 34766.399999999994,
            "bin_end": 40560.799999999996,
            "count": 0
           },
           {
            "bin_start": 40560.799999999996,
            "bin_end": 46355.2,
            "count": 0
           },
           {
            "bin_start": 46355.2,
            "bin_end": 52149.6,
            "count": 0
           },
           {
            "bin_start": 52149.6,
            "bin_end": 57944,
            "count": 1
           }
          ]
         }
        },
        {
         "name": "Reviews",
         "dtype": "int64",
         "stats": {
          "unique_count": 10,
          "nan_count": 0,
          "min": "0",
          "max": "6362",
          "histogram": [
           {
            "bin_start": 0,
            "bin_end": 636.2,
            "count": 53
           },
           {
            "bin_start": 636.2,
            "bin_end": 1272.4,
            "count": 2
           },
           {
            "bin_start": 1272.4,
            "bin_end": 1908.6000000000001,
            "count": 0
           },
           {
            "bin_start": 1908.6000000000001,
            "bin_end": 2544.8,
            "count": 3
           },
           {
            "bin_start": 2544.8,
            "bin_end": 3181,
            "count": 1
           },
           {
            "bin_start": 3181,
            "bin_end": 3817.2000000000003,
            "count": 0
           },
           {
            "bin_start": 3817.2000000000003,
            "bin_end": 4453.400000000001,
            "count": 0
           },
           {
            "bin_start": 4453.400000000001,
            "bin_end": 5089.6,
            "count": 0
           },
           {
            "bin_start": 5089.6,
            "bin_end": 5725.8,
            "count": 0
           },
           {
            "bin_start": 5725.8,
            "bin_end": 6362,
            "count": 1
           }
          ]
         }
        },
        {
         "name": "Current_price",
         "dtype": "int64",
         "stats": {
          "unique_count": 57,
          "nan_count": 0,
          "min": "15200",
          "max": "599900",
          "histogram": [
           {
            "bin_start": 15200,
            "bin_end": 73670,
            "count": 24
           },
           {
            "bin_start": 73670,
            "bin_end": 132140,
            "count": 16
           },
           {
            "bin_start": 132140,
            "bin_end": 190610,
            "count": 7
           },
           {
            "bin_start": 190610,
            "bin_end": 249080,
            "count": 3
           },
           {
            "bin_start": 249080,
            "bin_end": 307550,
            "count": 3
           },
           {
            "bin_start": 307550,
            "bin_end": 366020,
            "count": 3
           },
           {
            "bin_start": 366020,
            "bin_end": 424490,
            "count": 0
           },
           {
            "bin_start": 424490,
            "bin_end": 482960,
            "count": 2
           },
           {
            "bin_start": 482960,
            "bin_end": 541430,
            "count": 1
           },
           {
            "bin_start": 541430,
            "bin_end": 599900,
            "count": 1
           }
          ]
         }
        },
        {
         "name": "Marked_price",
         "dtype": "int64",
         "stats": {
          "unique_count": 57,
          "nan_count": 0,
          "min": "15200",
          "max": "599900",
          "histogram": [
           {
            "bin_start": 15200,
            "bin_end": 73670,
            "count": 24
           },
           {
            "bin_start": 73670,
            "bin_end": 132140,
            "count": 16
           },
           {
            "bin_start": 132140,
            "bin_end": 190610,
            "count": 7
           },
           {
            "bin_start": 190610,
            "bin_end": 249080,
            "count": 3
           },
           {
            "bin_start": 249080,
            "bin_end": 307550,
            "count": 3
           },
           {
            "bin_start": 307550,
            "bin_end": 366020,
            "count": 3
           },
           {
            "bin_start": 366020,
            "bin_end": 424490,
            "count": 0
           },
           {
            "bin_start": 424490,
            "bin_end": 482960,
            "count": 2
           },
           {
            "bin_start": 482960,
            "bin_end": 541430,
            "count": 1
           },
           {
            "bin_start": 541430,
            "bin_end": 599900,
            "count": 1
           }
          ]
         }
        },
        {
         "name": "Operating_system",
         "dtype": "object",
         "stats": {
          "unique_count": 14,
          "nan_count": 0,
          "categories": [
           {
            "name": "Operating System: Tizen",
            "count": 19
           },
           {
            "name": "Operating System: Android",
            "count": 7
           },
           {
            "name": "12 others",
            "count": 34
           }
          ]
         }
        },
        {
         "name": "_deepnote_index_column",
         "dtype": "int64"
        }
       ],
       "rows": [
        {
         "Product_Name": "Mi",
         "Stars": 4.4,
         "Ratings": 4600,
         "Reviews": 619,
         "Current_price": 59999,
         "Marked_price": 59999,
         "Operating_system": "Operating System: Android",
         "_deepnote_index_column": 150
        },
        {
         "Product_Name": "Coocaa",
         "Stars": 4.2,
         "Ratings": 14827,
         "Reviews": 2328,
         "Current_price": 39999,
         "Marked_price": 39999,
         "Operating_system": "Operating System: Coolita",
         "_deepnote_index_column": 208
        },
        {
         "Product_Name": "Infinix",
         "Stars": 4.2,
         "Ratings": 14818,
         "Reviews": 2281,
         "Current_price": 24999,
         "Marked_price": 24999,
         "Operating_system": "Operating System: Android",
         "_deepnote_index_column": 233
        },
        {
         "Product_Name": "LG",
         "Stars": 0,
         "Ratings": 0,
         "Reviews": 0,
         "Current_price": 499990,
         "Marked_price": 499990,
         "Operating_system": "Operating System: WebOS",
         "_deepnote_index_column": 332
        },
        {
         "Product_Name": "Sansui",
         "Stars": 4.3,
         "Ratings": 0,
         "Reviews": 0,
         "Current_price": 34999,
         "Marked_price": 34999,
         "Operating_system": "Operating System: Android Based",
         "_deepnote_index_column": 363
        },
        {
         "Product_Name": "SAMSUNG",
         "Stars": 0,
         "Ratings": 0,
         "Reviews": 0,
         "Current_price": 599900,
         "Marked_price": 599900,
         "Operating_system": "Operating System: Tizen",
         "_deepnote_index_column": 383
        },
        {
         "Product_Name": "SAMSUNG",
         "Stars": 0,
         "Ratings": 0,
         "Reviews": 0,
         "Current_price": 470900,
         "Marked_price": 470900,
         "Operating_system": "Operating System: Tizen",
         "_deepnote_index_column": 406
        },
        {
         "Product_Name": "SAMSUNG",
         "Stars": 4.7,
         "Ratings": 0,
         "Reviews": 0,
         "Current_price": 294900,
         "Marked_price": 294900,
         "Operating_system": "Operating System: Tizen",
         "_deepnote_index_column": 411
        },
        {
         "Product_Name": "SAMSUNG",
         "Stars": 0,
         "Ratings": 0,
         "Reviews": 0,
         "Current_price": 314900,
         "Marked_price": 314900,
         "Operating_system": "Operating System: Tizen",
         "_deepnote_index_column": 424
        },
        {
         "Product_Name": "SAMSUNG",
         "Stars": 3.9,
         "Ratings": 0,
         "Reviews": 0,
         "Current_price": 241900,
         "Marked_price": 241900,
         "Operating_system": "Ultra HD (4K) 3840x2160 Pixels",
         "_deepnote_index_column": 436
        }
       ]
      },
      "text/plain": "    Product_Name  Stars  Ratings  Reviews  Current_price  Marked_price  \\\n150           Mi    4.4     4600      619          59999         59999   \n208       Coocaa    4.2    14827     2328          39999         39999   \n233      Infinix    4.2    14818     2281          24999         24999   \n332           LG    0.0        0        0         499990        499990   \n363       Sansui    4.3        0        0          34999         34999   \n383      SAMSUNG    0.0        0        0         599900        599900   \n406      SAMSUNG    0.0        0        0         470900        470900   \n411      SAMSUNG    4.7        0        0         294900        294900   \n424      SAMSUNG    0.0        0        0         314900        314900   \n436      SAMSUNG    3.9        0        0         241900        241900   \n443     Micromax    4.0     2677      763          91990         91990   \n448           LG    5.0        0        0         356990        356990   \n471       Sansui    3.7        0        0          69200         69200   \n474      SAMSUNG    3.0        0        0         204900        204900   \n476           LG    4.6        0        0         324990        324990   \n492           Vu    4.2        0        0         116000        116000   \n495      SAMSUNG    4.4        0        0         129900        129900   \n511      SAMSUNG    5.0        0        0         154900        154900   \n514      SAMSUNG    4.4        0        0         179900        179900   \n515      SAMSUNG    3.4        0        0         129900        129900   \n516      SAMSUNG    0.0        0        0         440900        440900   \n523           LG    4.4        0        0          54990         54990   \n527       Sansui    4.3        0        0         119990        119990   \n532      SAMSUNG    3.9        0        0          62900         62900   \n536      SAMSUNG    4.0        0        0          26900         26900   \n543           LG    4.5        0        0          80990         80990   \n548      SAMSUNG    4.3        0        0          69500         69500   \n549           LG    4.8        0        0          77990         77990   \n551      SAMSUNG    4.3        0        0          69500         69500   \n554      SAMSUNG    3.6        0        0         284900        284900   \n555           LG    4.4        0        0          68990         68990   \n558      SAMSUNG    4.2      625      131          48900         48900   \n563           LG    4.2        0        0         103990        103990   \n564      SAMSUNG    0.0        0        0         229900        229900   \n575      SAMSUNG    3.7        0        0         155900        155900   \n576      SAMSUNG    0.0        0        0         295900        295900   \n578      SAMSUNG    4.5        0        0         104900        104900   \n583           LG    4.4        0        0          79990         79990   \n588      SAMSUNG    4.5        0        0         146900        146900   \n627           LG    4.1        0        0          77900         77900   \n634    Panasonic    4.3     8389     1179          24990         24990   \n642      SAMSUNG    4.4        0        0          50900         50900   \n658      SAMSUNG    4.8        0        0         145900        145900   \n671           Mi    4.4    57944     6362          28999         28999   \n674      SAMSUNG    2.8        0        0         145900        145900   \n675      SAMSUNG    0.0        0        0         149900        149900   \n682           LG    4.8        0        0         104990        104990   \n691           LG    4.5        0        0          67990         67990   \n717      Thomson    4.1     8625     2685          16999         16999   \n759      SAMSUNG    0.0        0        0         110900        110900   \n790        Lloyd    0.0        0        0          60990         60990   \n798        Lloyd    0.0        0        0          99990         99990   \n799           LG    4.3        0        0          58900         58900   \n801      SAMSUNG    3.8        0        0          29900         29900   \n805      SAMSUNG    4.2    11881     1983          15200         15200   \n809        Haier    4.0        0        0          36990         36990   \n821      SAMSUNG    4.1        0        0          92500         92500   \n825      SAMSUNG    3.8        0        0          25900         25900   \n842      SAMSUNG    4.3        0        0         125900        125900   \n866     Micromax    4.2        0        0          71990         71990   \n\n                     Operating_system  \n150         Operating System: Android  \n208         Operating System: Coolita  \n233         Operating System: Android  \n332           Operating System: WebOS  \n363   Operating System: Android Based  \n383           Operating System: Tizen  \n406           Operating System: Tizen  \n411           Operating System: Tizen  \n424           Operating System: Tizen  \n436    Ultra HD (4K) 3840x2160 Pixels  \n443               20 W Speaker Output  \n448  Ultra HD (4K) 3840 x 2160 Pixels  \n471               20 W Speaker Output  \n474           Operating System: Tizen  \n476           Operating System: WebOS  \n492         Operating System: Android  \n495           Operating System: Tizen  \n511           Operating System: Tizen  \n514    Ultra HD (4K) 3840x2160 Pixels  \n515           Operating System: Tizen  \n516           Operating System: Tizen  \n523           Operating System: WebOS  \n527               20 W Speaker Output  \n532           Operating System: Tizen  \n536               40 W Speaker Output  \n543  Ultra HD (4K) 3840 x 2160 Pixels  \n548               20 w Speaker Output  \n549        Full HD 1920 x 1080 Pixels  \n551               20 w Speaker Output  \n554           Operating System: Tizen  \n555           Operating System: WebOS  \n558               14 W Speaker Output  \n563           Operating System: WebOS  \n564           Operating System: Tizen  \n575           Operating System: Tizen  \n576  Ultra HD (4K) 3840 x 2160 Pixels  \n578           Operating System: Tizen  \n583  Ultra HD (4K) 3840 x 2160 Pixels  \n588    Ultra HD (4K) 3840x2160 Pixels  \n627        Full HD 1920 x 1080 Pixels  \n634         Operating System: Android  \n642               20 W Speaker Output  \n658           Operating System: Tizen  \n671         Operating System: Android  \n674           Operating System: Tizen  \n675           Operating System: Tizen  \n682           Operating System: WebOS  \n691           Operating System: WebOS  \n717   Operating System: Android Based  \n759           Operating System: Tizen  \n790         Operating System: Android  \n798         Operating System: Android  \n799               20 W Speaker Output  \n801               10 W Speaker Output  \n805               10 W Speaker Output  \n809               16 W Speaker Output  \n821           Operating System: Tizen  \n825               10 W Speaker Output  \n842    Ultra HD (4K) 3840x2160 Pixels  \n866               20 W Speaker Output  ",
      "text/html": "<div>\n<style scoped>\n    .dataframe tbody tr th:only-of-type {\n        vertical-align: middle;\n    }\n\n    .dataframe tbody tr th {\n        vertical-align: top;\n    }\n\n    .dataframe thead th {\n        text-align: right;\n    }\n</style>\n<table border=\"1\" class=\"dataframe\">\n  <thead>\n    <tr style=\"text-align: right;\">\n      <th></th>\n      <th>Product_Name</th>\n      <th>Stars</th>\n      <th>Ratings</th>\n      <th>Reviews</th>\n      <th>Current_price</th>\n      <th>Marked_price</th>\n      <th>Operating_system</th>\n    </tr>\n  </thead>\n  <tbody>\n    <tr>\n      <th>150</th>\n      <td>Mi</td>\n      <td>4.4</td>\n      <td>4600</td>\n      <td>619</td>\n      <td>59999</td>\n      <td>59999</td>\n      <td>Operating System: Android</td>\n    </tr>\n    <tr>\n      <th>208</th>\n      <td>Coocaa</td>\n      <td>4.2</td>\n      <td>14827</td>\n      <td>2328</td>\n      <td>39999</td>\n      <td>39999</td>\n      <td>Operating System: Coolita</td>\n    </tr>\n    <tr>\n      <th>233</th>\n      <td>Infinix</td>\n      <td>4.2</td>\n      <td>14818</td>\n      <td>2281</td>\n      <td>24999</td>\n      <td>24999</td>\n      <td>Operating System: Android</td>\n    </tr>\n    <tr>\n      <th>332</th>\n      <td>LG</td>\n      <td>0.0</td>\n      <td>0</td>\n      <td>0</td>\n      <td>499990</td>\n      <td>499990</td>\n      <td>Operating System: WebOS</td>\n    </tr>\n    <tr>\n      <th>363</th>\n      <td>Sansui</td>\n      <td>4.3</td>\n      <td>0</td>\n      <td>0</td>\n      <td>34999</td>\n      <td>34999</td>\n      <td>Operating System: Android Based</td>\n    </tr>\n    <tr>\n      <th>383</th>\n      <td>SAMSUNG</td>\n      <td>0.0</td>\n      <td>0</td>\n      <td>0</td>\n      <td>599900</td>\n      <td>599900</td>\n      <td>Operating System: Tizen</td>\n    </tr>\n    <tr>\n      <th>406</th>\n      <td>SAMSUNG</td>\n      <td>0.0</td>\n      <td>0</td>\n      <td>0</td>\n      <td>470900</td>\n      <td>470900</td>\n      <td>Operating System: Tizen</td>\n    </tr>\n    <tr>\n      <th>411</th>\n      <td>SAMSUNG</td>\n      <td>4.7</td>\n      <td>0</td>\n      <td>0</td>\n      <td>294900</td>\n      <td>294900</td>\n      <td>Operating System: Tizen</td>\n    </tr>\n    <tr>\n      <th>424</th>\n      <td>SAMSUNG</td>\n      <td>0.0</td>\n      <td>0</td>\n      <td>0</td>\n      <td>314900</td>\n      <td>314900</td>\n      <td>Operating System: Tizen</td>\n    </tr>\n    <tr>\n      <th>436</th>\n      <td>SAMSUNG</td>\n      <td>3.9</td>\n      <td>0</td>\n      <td>0</td>\n      <td>241900</td>\n      <td>241900</td>\n      <td>Ultra HD (4K) 3840x2160 Pixels</td>\n    </tr>\n    <tr>\n      <th>443</th>\n      <td>Micromax</td>\n      <td>4.0</td>\n      <td>2677</td>\n      <td>763</td>\n      <td>91990</td>\n      <td>91990</td>\n      <td>20 W Speaker Output</td>\n    </tr>\n    <tr>\n      <th>448</th>\n      <td>LG</td>\n      <td>5.0</td>\n      <td>0</td>\n      <td>0</td>\n      <td>356990</td>\n      <td>356990</td>\n      <td>Ultra HD (4K) 3840 x 2160 Pixels</td>\n    </tr>\n    <tr>\n      <th>471</th>\n      <td>Sansui</td>\n      <td>3.7</td>\n      <td>0</td>\n      <td>0</td>\n      <td>69200</td>\n      <td>69200</td>\n      <td>20 W Speaker Output</td>\n    </tr>\n    <tr>\n      <th>474</th>\n      <td>SAMSUNG</td>\n      <td>3.0</td>\n      <td>0</td>\n      <td>0</td>\n      <td>204900</td>\n      <td>204900</td>\n      <td>Operating System: Tizen</td>\n    </tr>\n    <tr>\n      <th>476</th>\n      <td>LG</td>\n      <td>4.6</td>\n      <td>0</td>\n      <td>0</td>\n      <td>324990</td>\n      <td>324990</td>\n      <td>Operating System: WebOS</td>\n    </tr>\n    <tr>\n      <th>492</th>\n      <td>Vu</td>\n      <td>4.2</td>\n      <td>0</td>\n      <td>0</td>\n      <td>116000</td>\n      <td>116000</td>\n      <td>Operating System: Android</td>\n    </tr>\n    <tr>\n      <th>495</th>\n      <td>SAMSUNG</td>\n      <td>4.4</td>\n      <td>0</td>\n      <td>0</td>\n      <td>129900</td>\n      <td>129900</td>\n      <td>Operating System: Tizen</td>\n    </tr>\n    <tr>\n      <th>511</th>\n      <td>SAMSUNG</td>\n      <td>5.0</td>\n      <td>0</td>\n      <td>0</td>\n      <td>154900</td>\n      <td>154900</td>\n      <td>Operating System: Tizen</td>\n    </tr>\n    <tr>\n      <th>514</th>\n      <td>SAMSUNG</td>\n      <td>4.4</td>\n      <td>0</td>\n      <td>0</td>\n      <td>179900</td>\n      <td>179900</td>\n      <td>Ultra HD (4K) 3840x2160 Pixels</td>\n    </tr>\n    <tr>\n      <th>515</th>\n      <td>SAMSUNG</td>\n      <td>3.4</td>\n      <td>0</td>\n      <td>0</td>\n      <td>129900</td>\n      <td>129900</td>\n      <td>Operating System: Tizen</td>\n    </tr>\n    <tr>\n      <th>516</th>\n      <td>SAMSUNG</td>\n      <td>0.0</td>\n      <td>0</td>\n      <td>0</td>\n      <td>440900</td>\n      <td>440900</td>\n      <td>Operating System: Tizen</td>\n    </tr>\n    <tr>\n      <th>523</th>\n      <td>LG</td>\n      <td>4.4</td>\n      <td>0</td>\n      <td>0</td>\n      <td>54990</td>\n      <td>54990</td>\n      <td>Operating System: WebOS</td>\n    </tr>\n    <tr>\n      <th>527</th>\n      <td>Sansui</td>\n      <td>4.3</td>\n      <td>0</td>\n      <td>0</td>\n      <td>119990</td>\n      <td>119990</td>\n      <td>20 W Speaker Output</td>\n    </tr>\n    <tr>\n      <th>532</th>\n      <td>SAMSUNG</td>\n      <td>3.9</td>\n      <td>0</td>\n      <td>0</td>\n      <td>62900</td>\n      <td>62900</td>\n      <td>Operating System: Tizen</td>\n    </tr>\n    <tr>\n      <th>536</th>\n      <td>SAMSUNG</td>\n      <td>4.0</td>\n      <td>0</td>\n      <td>0</td>\n      <td>26900</td>\n      <td>26900</td>\n      <td>40 W Speaker Output</td>\n    </tr>\n    <tr>\n      <th>543</th>\n      <td>LG</td>\n      <td>4.5</td>\n      <td>0</td>\n      <td>0</td>\n      <td>80990</td>\n      <td>80990</td>\n      <td>Ultra HD (4K) 3840 x 2160 Pixels</td>\n    </tr>\n    <tr>\n      <th>548</th>\n      <td>SAMSUNG</td>\n      <td>4.3</td>\n      <td>0</td>\n      <td>0</td>\n      <td>69500</td>\n      <td>69500</td>\n      <td>20 w Speaker Output</td>\n    </tr>\n    <tr>\n      <th>549</th>\n      <td>LG</td>\n      <td>4.8</td>\n      <td>0</td>\n      <td>0</td>\n      <td>77990</td>\n      <td>77990</td>\n      <td>Full HD 1920 x 1080 Pixels</td>\n    </tr>\n    <tr>\n      <th>551</th>\n      <td>SAMSUNG</td>\n      <td>4.3</td>\n      <td>0</td>\n      <td>0</td>\n      <td>69500</td>\n      <td>69500</td>\n      <td>20 w Speaker Output</td>\n    </tr>\n    <tr>\n      <th>554</th>\n      <td>SAMSUNG</td>\n      <td>3.6</td>\n      <td>0</td>\n      <td>0</td>\n      <td>284900</td>\n      <td>284900</td>\n      <td>Operating System: Tizen</td>\n    </tr>\n    <tr>\n      <th>555</th>\n      <td>LG</td>\n      <td>4.4</td>\n      <td>0</td>\n      <td>0</td>\n      <td>68990</td>\n      <td>68990</td>\n      <td>Operating System: WebOS</td>\n    </tr>\n    <tr>\n      <th>558</th>\n      <td>SAMSUNG</td>\n      <td>4.2</td>\n      <td>625</td>\n      <td>131</td>\n      <td>48900</td>\n      <td>48900</td>\n      <td>14 W Speaker Output</td>\n    </tr>\n    <tr>\n      <th>563</th>\n      <td>LG</td>\n      <td>4.2</td>\n      <td>0</td>\n      <td>0</td>\n      <td>103990</td>\n      <td>103990</td>\n      <td>Operating System: WebOS</td>\n    </tr>\n    <tr>\n      <th>564</th>\n      <td>SAMSUNG</td>\n      <td>0.0</td>\n      <td>0</td>\n      <td>0</td>\n      <td>229900</td>\n      <td>229900</td>\n      <td>Operating System: Tizen</td>\n    </tr>\n    <tr>\n      <th>575</th>\n      <td>SAMSUNG</td>\n      <td>3.7</td>\n      <td>0</td>\n      <td>0</td>\n      <td>155900</td>\n      <td>155900</td>\n      <td>Operating System: Tizen</td>\n    </tr>\n    <tr>\n      <th>576</th>\n      <td>SAMSUNG</td>\n      <td>0.0</td>\n      <td>0</td>\n      <td>0</td>\n      <td>295900</td>\n      <td>295900</td>\n      <td>Ultra HD (4K) 3840 x 2160 Pixels</td>\n    </tr>\n    <tr>\n      <th>578</th>\n      <td>SAMSUNG</td>\n      <td>4.5</td>\n      <td>0</td>\n      <td>0</td>\n      <td>104900</td>\n      <td>104900</td>\n      <td>Operating System: Tizen</td>\n    </tr>\n    <tr>\n      <th>583</th>\n      <td>LG</td>\n      <td>4.4</td>\n      <td>0</td>\n      <td>0</td>\n      <td>79990</td>\n      <td>79990</td>\n      <td>Ultra HD (4K) 3840 x 2160 Pixels</td>\n    </tr>\n    <tr>\n      <th>588</th>\n      <td>SAMSUNG</td>\n      <td>4.5</td>\n      <td>0</td>\n      <td>0</td>\n      <td>146900</td>\n      <td>146900</td>\n      <td>Ultra HD (4K) 3840x2160 Pixels</td>\n    </tr>\n    <tr>\n      <th>627</th>\n      <td>LG</td>\n      <td>4.1</td>\n      <td>0</td>\n      <td>0</td>\n      <td>77900</td>\n      <td>77900</td>\n      <td>Full HD 1920 x 1080 Pixels</td>\n    </tr>\n    <tr>\n      <th>634</th>\n      <td>Panasonic</td>\n      <td>4.3</td>\n      <td>8389</td>\n      <td>1179</td>\n      <td>24990</td>\n      <td>24990</td>\n      <td>Operating System: Android</td>\n    </tr>\n    <tr>\n      <th>642</th>\n      <td>SAMSUNG</td>\n      <td>4.4</td>\n      <td>0</td>\n      <td>0</td>\n      <td>50900</td>\n      <td>50900</td>\n      <td>20 W Speaker Output</td>\n    </tr>\n    <tr>\n      <th>658</th>\n      <td>SAMSUNG</td>\n      <td>4.8</td>\n      <td>0</td>\n      <td>0</td>\n      <td>145900</td>\n      <td>145900</td>\n      <td>Operating System: Tizen</td>\n    </tr>\n    <tr>\n      <th>671</th>\n      <td>Mi</td>\n      <td>4.4</td>\n      <td>57944</td>\n      <td>6362</td>\n      <td>28999</td>\n      <td>28999</td>\n      <td>Operating System: Android</td>\n    </tr>\n    <tr>\n      <th>674</th>\n      <td>SAMSUNG</td>\n      <td>2.8</td>\n      <td>0</td>\n      <td>0</td>\n      <td>145900</td>\n      <td>145900</td>\n      <td>Operating System: Tizen</td>\n    </tr>\n    <tr>\n      <th>675</th>\n      <td>SAMSUNG</td>\n      <td>0.0</td>\n      <td>0</td>\n      <td>0</td>\n      <td>149900</td>\n      <td>149900</td>\n      <td>Operating System: Tizen</td>\n    </tr>\n    <tr>\n      <th>682</th>\n      <td>LG</td>\n      <td>4.8</td>\n      <td>0</td>\n      <td>0</td>\n      <td>104990</td>\n      <td>104990</td>\n      <td>Operating System: WebOS</td>\n    </tr>\n    <tr>\n      <th>691</th>\n      <td>LG</td>\n      <td>4.5</td>\n      <td>0</td>\n      <td>0</td>\n      <td>67990</td>\n      <td>67990</td>\n      <td>Operating System: WebOS</td>\n    </tr>\n    <tr>\n      <th>717</th>\n      <td>Thomson</td>\n      <td>4.1</td>\n      <td>8625</td>\n      <td>2685</td>\n      <td>16999</td>\n      <td>16999</td>\n      <td>Operating System: Android Based</td>\n    </tr>\n    <tr>\n      <th>759</th>\n      <td>SAMSUNG</td>\n      <td>0.0</td>\n      <td>0</td>\n      <td>0</td>\n      <td>110900</td>\n      <td>110900</td>\n      <td>Operating System: Tizen</td>\n    </tr>\n    <tr>\n      <th>790</th>\n      <td>Lloyd</td>\n      <td>0.0</td>\n      <td>0</td>\n      <td>0</td>\n      <td>60990</td>\n      <td>60990</td>\n      <td>Operating System: Android</td>\n    </tr>\n    <tr>\n      <th>798</th>\n      <td>Lloyd</td>\n      <td>0.0</td>\n      <td>0</td>\n      <td>0</td>\n      <td>99990</td>\n      <td>99990</td>\n      <td>Operating System: Android</td>\n    </tr>\n    <tr>\n      <th>799</th>\n      <td>LG</td>\n      <td>4.3</td>\n      <td>0</td>\n      <td>0</td>\n      <td>58900</td>\n      <td>58900</td>\n      <td>20 W Speaker Output</td>\n    </tr>\n    <tr>\n      <th>801</th>\n      <td>SAMSUNG</td>\n      <td>3.8</td>\n      <td>0</td>\n      <td>0</td>\n      <td>29900</td>\n      <td>29900</td>\n      <td>10 W Speaker Output</td>\n    </tr>\n    <tr>\n      <th>805</th>\n      <td>SAMSUNG</td>\n      <td>4.2</td>\n      <td>11881</td>\n      <td>1983</td>\n      <td>15200</td>\n      <td>15200</td>\n      <td>10 W Speaker Output</td>\n    </tr>\n    <tr>\n      <th>809</th>\n      <td>Haier</td>\n      <td>4.0</td>\n      <td>0</td>\n      <td>0</td>\n      <td>36990</td>\n      <td>36990</td>\n      <td>16 W Speaker Output</td>\n    </tr>\n    <tr>\n      <th>821</th>\n      <td>SAMSUNG</td>\n      <td>4.1</td>\n      <td>0</td>\n      <td>0</td>\n      <td>92500</td>\n      <td>92500</td>\n      <td>Operating System: Tizen</td>\n    </tr>\n    <tr>\n      <th>825</th>\n      <td>SAMSUNG</td>\n      <td>3.8</td>\n      <td>0</td>\n      <td>0</td>\n      <td>25900</td>\n      <td>25900</td>\n      <td>10 W Speaker Output</td>\n    </tr>\n    <tr>\n      <th>842</th>\n      <td>SAMSUNG</td>\n      <td>4.3</td>\n      <td>0</td>\n      <td>0</td>\n      <td>125900</td>\n      <td>125900</td>\n      <td>Ultra HD (4K) 3840x2160 Pixels</td>\n    </tr>\n    <tr>\n      <th>866</th>\n      <td>Micromax</td>\n      <td>4.2</td>\n      <td>0</td>\n      <td>0</td>\n      <td>71990</td>\n      <td>71990</td>\n      <td>20 W Speaker Output</td>\n    </tr>\n  </tbody>\n</table>\n</div>"
     },
     "metadata": {}
    }
   ],
   "execution_count": null
  },
  {
   "cell_type": "code",
   "metadata": {
    "cell_id": "210e9616505b469abd294e888f66abc9",
    "tags": [],
    "deepnote_to_be_reexecuted": false,
    "source_hash": "c708e93d",
    "execution_start": 1660822405934,
    "execution_millis": 3,
    "deepnote_cell_type": "code",
    "deepnote_cell_height": 117
   },
   "source": "df_tele['Operating_system'] = df_tele['Operating_system'].apply(lambda x: str(x).replace('Operating System: ','') if 'Operating System: ' in str(x) else str(x))\ndf_tele['Operating_system'] = df_tele['Operating_system'].apply(lambda x: str(x).replace('Android Based','Android') if 'Android Based' in str(x) else str(x))\ndf_tele['Operating_system'] = df_tele['Operating_system'].apply(lambda x: str(x).replace('Linux based','Linux') if 'Linux based' in str(x) else str(x))",
   "outputs": [],
   "execution_count": null
  },
  {
   "cell_type": "code",
   "metadata": {
    "tags": [],
    "deepnote_variable_name": "df_2",
    "sql_integration_id": "deepnote-dataframe-sql",
    "cell_id": "a4903c71e3e2407e87556f4820cccc20",
    "deepnote_to_be_reexecuted": false,
    "source_hash": "afaf7459",
    "execution_start": 1660822405946,
    "execution_millis": 88,
    "deepnote_table_state": {
     "pageSize": 10,
     "pageIndex": 1,
     "filters": [],
     "sortBy": []
    },
    "deepnote_table_loading": false,
    "deepnote_sql_source": "SELECT *\nfrom df_tele\nLIMIT 15",
    "deepnote_cell_type": "sql",
    "deepnote_cell_height": 482.65625
   },
   "source": "\n\ndf_2 = _deepnote_execute_sql(\"\"\"SELECT *\nfrom df_tele\nLIMIT 15\n\"\"\", 'SQL_DEEPNOTE_DATAFRAME_SQL')\ndf_2",
   "outputs": [
    {
     "output_type": "execute_result",
     "execution_count": 23,
     "data": {
      "application/vnd.deepnote.dataframe.v3+json": {
       "column_count": 7,
       "row_count": 15,
       "columns": [
        {
         "name": "Product_Name",
         "dtype": "object",
         "stats": {
          "unique_count": 8,
          "nan_count": 0,
          "categories": [
           {
            "name": "OnePlus",
            "count": 5
           },
           {
            "name": "Croma",
            "count": 2
           },
           {
            "name": "6 others",
            "count": 8
           }
          ]
         }
        },
        {
         "name": "Stars",
         "dtype": "float64",
         "stats": {
          "unique_count": 4,
          "nan_count": 0,
          "min": "3.8",
          "max": "4.4",
          "histogram": [
           {
            "bin_start": 3.8,
            "bin_end": 3.86,
            "count": 2
           },
           {
            "bin_start": 3.86,
            "bin_end": 3.92,
            "count": 0
           },
           {
            "bin_start": 3.92,
            "bin_end": 3.98,
            "count": 0
           },
           {
            "bin_start": 3.98,
            "bin_end": 4.04,
            "count": 0
           },
           {
            "bin_start": 4.04,
            "bin_end": 4.1,
            "count": 0
           },
           {
            "bin_start": 4.1,
            "bin_end": 4.16,
            "count": 0
           },
           {
            "bin_start": 4.16,
            "bin_end": 4.220000000000001,
            "count": 3
           },
           {
            "bin_start": 4.220000000000001,
            "bin_end": 4.28,
            "count": 0
           },
           {
            "bin_start": 4.28,
            "bin_end": 4.34,
            "count": 6
           },
           {
            "bin_start": 4.34,
            "bin_end": 4.4,
            "count": 4
           }
          ]
         }
        },
        {
         "name": "Ratings",
         "dtype": "int64",
         "stats": {
          "unique_count": 10,
          "nan_count": 0,
          "min": "0",
          "max": "101256",
          "histogram": [
           {
            "bin_start": 0,
            "bin_end": 10125.6,
            "count": 7
           },
           {
            "bin_start": 10125.6,
            "bin_end": 20251.2,
            "count": 0
           },
           {
            "bin_start": 20251.2,
            "bin_end": 30376.800000000003,
            "count": 0
           },
           {
            "bin_start": 30376.800000000003,
            "bin_end": 40502.4,
            "count": 2
           },
           {
            "bin_start": 40502.4,
            "bin_end": 50628,
            "count": 0
           },
           {
            "bin_start": 50628,
            "bin_end": 60753.600000000006,
            "count": 1
           },
           {
            "bin_start": 60753.600000000006,
            "bin_end": 70879.2,
            "count": 0
           },
           {
            "bin_start": 70879.2,
            "bin_end": 81004.8,
            "count": 0
           },
           {
            "bin_start": 81004.8,
            "bin_end": 91130.40000000001,
            "count": 0
           },
           {
            "bin_start": 91130.40000000001,
            "bin_end": 101256,
            "count": 5
           }
          ]
         }
        },
        {
         "name": "Reviews",
         "dtype": "int64",
         "stats": {
          "unique_count": 10,
          "nan_count": 0,
          "min": "0",
          "max": "9189",
          "histogram": [
           {
            "bin_start": 0,
            "bin_end": 918.9,
            "count": 5
           },
           {
            "bin_start": 918.9,
            "bin_end": 1837.8,
            "count": 2
           },
           {
            "bin_start": 1837.8,
            "bin_end": 2756.7,
            "count": 0
           },
           {
            "bin_start": 2756.7,
            "bin_end": 3675.6,
            "count": 1
           },
           {
            "bin_start": 3675.6,
            "bin_end": 4594.5,
            "count": 0
           },
           {
            "bin_start": 4594.5,
            "bin_end": 5513.4,
            "count": 2
           },
           {
            "bin_start": 5513.4,
            "bin_end": 6432.3,
            "count": 0
           },
           {
            "bin_start": 6432.3,
            "bin_end": 7351.2,
            "count": 0
           },
           {
            "bin_start": 7351.2,
            "bin_end": 8270.1,
            "count": 0
           },
           {
            "bin_start": 8270.1,
            "bin_end": 9189,
            "count": 5
           }
          ]
         }
        },
        {
         "name": "Current_price",
         "dtype": "int64",
         "stats": {
          "unique_count": 12,
          "nan_count": 0,
          "min": "7990",
          "max": "32990",
          "histogram": [
           {
            "bin_start": 7990,
            "bin_end": 10490,
            "count": 4
           },
           {
            "bin_start": 10490,
            "bin_end": 12990,
            "count": 1
           },
           {
            "bin_start": 12990,
            "bin_end": 15490,
            "count": 0
           },
           {
            "bin_start": 15490,
            "bin_end": 17990,
            "count": 5
           },
           {
            "bin_start": 17990,
            "bin_end": 20490,
            "count": 0
           },
           {
            "bin_start": 20490,
            "bin_end": 22990,
            "count": 0
           },
           {
            "bin_start": 22990,
            "bin_end": 25490,
            "count": 2
           },
           {
            "bin_start": 25490,
            "bin_end": 27990,
            "count": 1
           },
           {
            "bin_start": 27990,
            "bin_end": 30490,
            "count": 0
           },
           {
            "bin_start": 30490,
            "bin_end": 32990,
            "count": 2
           }
          ]
         }
        },
        {
         "name": "Marked_price",
         "dtype": "int64",
         "stats": {
          "unique_count": 12,
          "nan_count": 0,
          "min": "19999",
          "max": "59990",
          "histogram": [
           {
            "bin_start": 19999,
            "bin_end": 23998.1,
            "count": 7
           },
           {
            "bin_start": 23998.1,
            "bin_end": 27997.2,
            "count": 2
           },
           {
            "bin_start": 27997.2,
            "bin_end": 31996.3,
            "count": 3
           },
           {
            "bin_start": 31996.3,
            "bin_end": 35995.4,
            "count": 1
           },
           {
            "bin_start": 35995.4,
            "bin_end": 39994.5,
            "count": 0
           },
           {
            "bin_start": 39994.5,
            "bin_end": 43993.6,
            "count": 0
           },
           {
            "bin_start": 43993.6,
            "bin_end": 47992.7,
            "count": 1
           },
           {
            "bin_start": 47992.7,
            "bin_end": 51991.8,
            "count": 0
           },
           {
            "bin_start": 51991.8,
            "bin_end": 55990.9,
            "count": 0
           },
           {
            "bin_start": 55990.9,
            "bin_end": 59990,
            "count": 1
           }
          ]
         }
        },
        {
         "name": "Operating_system",
         "dtype": "object",
         "stats": {
          "unique_count": 4,
          "nan_count": 0,
          "categories": [
           {
            "name": "Android",
            "count": 11
           },
           {
            "name": "WebOS",
            "count": 2
           },
           {
            "name": "2 others",
            "count": 2
           }
          ]
         }
        },
        {
         "name": "_deepnote_index_column",
         "dtype": "int64"
        }
       ],
       "rows": [
        {
         "Product_Name": "Vu",
         "Stars": 4.4,
         "Ratings": 32043,
         "Reviews": 4978,
         "Current_price": 30990,
         "Marked_price": 45000,
         "Operating_system": "Android",
         "_deepnote_index_column": 10
        },
        {
         "Product_Name": "Adsun",
         "Stars": 3.8,
         "Ratings": 6742,
         "Reviews": 930,
         "Current_price": 8999,
         "Marked_price": 29999,
         "Operating_system": "Android",
         "_deepnote_index_column": 11
        },
        {
         "Product_Name": "OnePlus",
         "Stars": 4.3,
         "Ratings": 101256,
         "Reviews": 9189,
         "Current_price": 22999,
         "Marked_price": 27999,
         "Operating_system": "Android",
         "_deepnote_index_column": 12
        },
        {
         "Product_Name": "MarQ",
         "Stars": 4.2,
         "Ratings": 6251,
         "Reviews": 764,
         "Current_price": 8999,
         "Marked_price": 19999,
         "Operating_system": "20 W Speaker Output",
         "_deepnote_index_column": 13
        },
        {
         "Product_Name": "OnePlus",
         "Stars": 4.3,
         "Ratings": 101256,
         "Reviews": 9189,
         "Current_price": 24999,
         "Marked_price": 29999,
         "Operating_system": "Android",
         "_deepnote_index_column": 14
        }
       ]
      },
      "text/plain": "   Product_Name  Stars  Ratings  Reviews  Current_price  Marked_price  \\\n0         Croma    4.2     1773      217           7990         20000   \n1         Adsun    3.8     6742      930           8699         21999   \n2            LG    4.4    38870     3443          16499         21990   \n3       OnePlus    4.3   101256     9189          16499         21999   \n4        Xiaomi    4.3     3120      305          15499         24999   \n5       SAMSUNG    4.4    53639     4811          15999         22900   \n6       OnePlus    4.3   101256     9189          15499         19999   \n7         Croma    4.2        0        0          11990         25000   \n8            LG    4.4     5830      698          32990         59990   \n9       OnePlus    4.3   101256     9189          25999         31999   \n10           Vu    4.4    32043     4978          30990         45000   \n11        Adsun    3.8     6742      930           8999         29999   \n12      OnePlus    4.3   101256     9189          22999         27999   \n13         MarQ    4.2     6251      764           8999         19999   \n14      OnePlus    4.3   101256     9189          24999         29999   \n\n       Operating_system  \n0               Android  \n1               Android  \n2                 WebOS  \n3               Android  \n4               Android  \n5                 Tizen  \n6               Android  \n7               Android  \n8                 WebOS  \n9               Android  \n10              Android  \n11              Android  \n12              Android  \n13  20 W Speaker Output  \n14              Android  ",
      "text/html": "<div>\n<style scoped>\n    .dataframe tbody tr th:only-of-type {\n        vertical-align: middle;\n    }\n\n    .dataframe tbody tr th {\n        vertical-align: top;\n    }\n\n    .dataframe thead th {\n        text-align: right;\n    }\n</style>\n<table border=\"1\" class=\"dataframe\">\n  <thead>\n    <tr style=\"text-align: right;\">\n      <th></th>\n      <th>Product_Name</th>\n      <th>Stars</th>\n      <th>Ratings</th>\n      <th>Reviews</th>\n      <th>Current_price</th>\n      <th>Marked_price</th>\n      <th>Operating_system</th>\n    </tr>\n  </thead>\n  <tbody>\n    <tr>\n      <th>0</th>\n      <td>Croma</td>\n      <td>4.2</td>\n      <td>1773</td>\n      <td>217</td>\n      <td>7990</td>\n      <td>20000</td>\n      <td>Android</td>\n    </tr>\n    <tr>\n      <th>1</th>\n      <td>Adsun</td>\n      <td>3.8</td>\n      <td>6742</td>\n      <td>930</td>\n      <td>8699</td>\n      <td>21999</td>\n      <td>Android</td>\n    </tr>\n    <tr>\n      <th>2</th>\n      <td>LG</td>\n      <td>4.4</td>\n      <td>38870</td>\n      <td>3443</td>\n      <td>16499</td>\n      <td>21990</td>\n      <td>WebOS</td>\n    </tr>\n    <tr>\n      <th>3</th>\n      <td>OnePlus</td>\n      <td>4.3</td>\n      <td>101256</td>\n      <td>9189</td>\n      <td>16499</td>\n      <td>21999</td>\n      <td>Android</td>\n    </tr>\n    <tr>\n      <th>4</th>\n      <td>Xiaomi</td>\n      <td>4.3</td>\n      <td>3120</td>\n      <td>305</td>\n      <td>15499</td>\n      <td>24999</td>\n      <td>Android</td>\n    </tr>\n    <tr>\n      <th>5</th>\n      <td>SAMSUNG</td>\n      <td>4.4</td>\n      <td>53639</td>\n      <td>4811</td>\n      <td>15999</td>\n      <td>22900</td>\n      <td>Tizen</td>\n    </tr>\n    <tr>\n      <th>6</th>\n      <td>OnePlus</td>\n      <td>4.3</td>\n      <td>101256</td>\n      <td>9189</td>\n      <td>15499</td>\n      <td>19999</td>\n      <td>Android</td>\n    </tr>\n    <tr>\n      <th>7</th>\n      <td>Croma</td>\n      <td>4.2</td>\n      <td>0</td>\n      <td>0</td>\n      <td>11990</td>\n      <td>25000</td>\n      <td>Android</td>\n    </tr>\n    <tr>\n      <th>8</th>\n      <td>LG</td>\n      <td>4.4</td>\n      <td>5830</td>\n      <td>698</td>\n      <td>32990</td>\n      <td>59990</td>\n      <td>WebOS</td>\n    </tr>\n    <tr>\n      <th>9</th>\n      <td>OnePlus</td>\n      <td>4.3</td>\n      <td>101256</td>\n      <td>9189</td>\n      <td>25999</td>\n      <td>31999</td>\n      <td>Android</td>\n    </tr>\n    <tr>\n      <th>10</th>\n      <td>Vu</td>\n      <td>4.4</td>\n      <td>32043</td>\n      <td>4978</td>\n      <td>30990</td>\n      <td>45000</td>\n      <td>Android</td>\n    </tr>\n    <tr>\n      <th>11</th>\n      <td>Adsun</td>\n      <td>3.8</td>\n      <td>6742</td>\n      <td>930</td>\n      <td>8999</td>\n      <td>29999</td>\n      <td>Android</td>\n    </tr>\n    <tr>\n      <th>12</th>\n      <td>OnePlus</td>\n      <td>4.3</td>\n      <td>101256</td>\n      <td>9189</td>\n      <td>22999</td>\n      <td>27999</td>\n      <td>Android</td>\n    </tr>\n    <tr>\n      <th>13</th>\n      <td>MarQ</td>\n      <td>4.2</td>\n      <td>6251</td>\n      <td>764</td>\n      <td>8999</td>\n      <td>19999</td>\n      <td>20 W Speaker Output</td>\n    </tr>\n    <tr>\n      <th>14</th>\n      <td>OnePlus</td>\n      <td>4.3</td>\n      <td>101256</td>\n      <td>9189</td>\n      <td>24999</td>\n      <td>29999</td>\n      <td>Android</td>\n    </tr>\n  </tbody>\n</table>\n</div>"
     },
     "metadata": {}
    }
   ],
   "execution_count": null
  },
  {
   "cell_type": "code",
   "metadata": {
    "cell_id": "79617b6792f84e70b20d8747eeb2e887",
    "tags": [],
    "deepnote_to_be_reexecuted": false,
    "source_hash": "c76a687e",
    "execution_start": 1660822406036,
    "execution_millis": 13,
    "deepnote_cell_type": "code",
    "deepnote_cell_height": 117
   },
   "source": "#removing the inconsistent data from the operating system\no_system = ['Android', 'WebOS', 'Tizen', 'Linux', 'Coolita', 'Google TV', 'VIDAA', 'FireTv OS 7', 'FireTv OS 6']\ndf=(~df_tele['Operating_system'].isin(o_system))",
   "outputs": [],
   "execution_count": null
  },
  {
   "cell_type": "code",
   "metadata": {
    "cell_id": "2698195c5ba441cfbabc01a0a1e6c61d",
    "tags": [],
    "deepnote_to_be_reexecuted": false,
    "source_hash": "2d645b3a",
    "execution_start": 1660822406054,
    "execution_millis": 2,
    "deepnote_cell_type": "code",
    "deepnote_cell_height": 94
   },
   "source": "#replacing incosistent data with Linux\ndf_tele.loc[df,'Operating_system'] = 'Linux'",
   "outputs": [],
   "execution_count": null
  },
  {
   "cell_type": "code",
   "metadata": {
    "cell_id": "ced2257378ec4ac9ba89740a706c9ec1",
    "tags": [],
    "deepnote_to_be_reexecuted": false,
    "source_hash": "277dc24a",
    "execution_start": 1660822406082,
    "execution_millis": 13,
    "deepnote_table_state": {
     "pageSize": 10,
     "pageIndex": 1,
     "filters": [],
     "sortBy": []
    },
    "deepnote_table_loading": false,
    "deepnote_cell_type": "code",
    "deepnote_cell_height": 406.65625
   },
   "source": "df_tele.head(15)",
   "outputs": [
    {
     "output_type": "execute_result",
     "execution_count": 26,
     "data": {
      "application/vnd.deepnote.dataframe.v3+json": {
       "column_count": 7,
       "row_count": 15,
       "columns": [
        {
         "name": "Product_Name",
         "dtype": "object",
         "stats": {
          "unique_count": 8,
          "nan_count": 0,
          "categories": [
           {
            "name": "OnePlus",
            "count": 5
           },
           {
            "name": "Croma",
            "count": 2
           },
           {
            "name": "6 others",
            "count": 8
           }
          ]
         }
        },
        {
         "name": "Stars",
         "dtype": "float64",
         "stats": {
          "unique_count": 4,
          "nan_count": 0,
          "min": "3.8",
          "max": "4.4",
          "histogram": [
           {
            "bin_start": 3.8,
            "bin_end": 3.86,
            "count": 2
           },
           {
            "bin_start": 3.86,
            "bin_end": 3.92,
            "count": 0
           },
           {
            "bin_start": 3.92,
            "bin_end": 3.98,
            "count": 0
           },
           {
            "bin_start": 3.98,
            "bin_end": 4.04,
            "count": 0
           },
           {
            "bin_start": 4.04,
            "bin_end": 4.1,
            "count": 0
           },
           {
            "bin_start": 4.1,
            "bin_end": 4.16,
            "count": 0
           },
           {
            "bin_start": 4.16,
            "bin_end": 4.220000000000001,
            "count": 3
           },
           {
            "bin_start": 4.220000000000001,
            "bin_end": 4.28,
            "count": 0
           },
           {
            "bin_start": 4.28,
            "bin_end": 4.34,
            "count": 6
           },
           {
            "bin_start": 4.34,
            "bin_end": 4.4,
            "count": 4
           }
          ]
         }
        },
        {
         "name": "Ratings",
         "dtype": "int64",
         "stats": {
          "unique_count": 10,
          "nan_count": 0,
          "min": "0",
          "max": "101256",
          "histogram": [
           {
            "bin_start": 0,
            "bin_end": 10125.6,
            "count": 7
           },
           {
            "bin_start": 10125.6,
            "bin_end": 20251.2,
            "count": 0
           },
           {
            "bin_start": 20251.2,
            "bin_end": 30376.800000000003,
            "count": 0
           },
           {
            "bin_start": 30376.800000000003,
            "bin_end": 40502.4,
            "count": 2
           },
           {
            "bin_start": 40502.4,
            "bin_end": 50628,
            "count": 0
           },
           {
            "bin_start": 50628,
            "bin_end": 60753.600000000006,
            "count": 1
           },
           {
            "bin_start": 60753.600000000006,
            "bin_end": 70879.2,
            "count": 0
           },
           {
            "bin_start": 70879.2,
            "bin_end": 81004.8,
            "count": 0
           },
           {
            "bin_start": 81004.8,
            "bin_end": 91130.40000000001,
            "count": 0
           },
           {
            "bin_start": 91130.40000000001,
            "bin_end": 101256,
            "count": 5
           }
          ]
         }
        },
        {
         "name": "Reviews",
         "dtype": "int64",
         "stats": {
          "unique_count": 10,
          "nan_count": 0,
          "min": "0",
          "max": "9189",
          "histogram": [
           {
            "bin_start": 0,
            "bin_end": 918.9,
            "count": 5
           },
           {
            "bin_start": 918.9,
            "bin_end": 1837.8,
            "count": 2
           },
           {
            "bin_start": 1837.8,
            "bin_end": 2756.7,
            "count": 0
           },
           {
            "bin_start": 2756.7,
            "bin_end": 3675.6,
            "count": 1
           },
           {
            "bin_start": 3675.6,
            "bin_end": 4594.5,
            "count": 0
           },
           {
            "bin_start": 4594.5,
            "bin_end": 5513.4,
            "count": 2
           },
           {
            "bin_start": 5513.4,
            "bin_end": 6432.3,
            "count": 0
           },
           {
            "bin_start": 6432.3,
            "bin_end": 7351.2,
            "count": 0
           },
           {
            "bin_start": 7351.2,
            "bin_end": 8270.1,
            "count": 0
           },
           {
            "bin_start": 8270.1,
            "bin_end": 9189,
            "count": 5
           }
          ]
         }
        },
        {
         "name": "Current_price",
         "dtype": "int64",
         "stats": {
          "unique_count": 12,
          "nan_count": 0,
          "min": "7990",
          "max": "32990",
          "histogram": [
           {
            "bin_start": 7990,
            "bin_end": 10490,
            "count": 4
           },
           {
            "bin_start": 10490,
            "bin_end": 12990,
            "count": 1
           },
           {
            "bin_start": 12990,
            "bin_end": 15490,
            "count": 0
           },
           {
            "bin_start": 15490,
            "bin_end": 17990,
            "count": 5
           },
           {
            "bin_start": 17990,
            "bin_end": 20490,
            "count": 0
           },
           {
            "bin_start": 20490,
            "bin_end": 22990,
            "count": 0
           },
           {
            "bin_start": 22990,
            "bin_end": 25490,
            "count": 2
           },
           {
            "bin_start": 25490,
            "bin_end": 27990,
            "count": 1
           },
           {
            "bin_start": 27990,
            "bin_end": 30490,
            "count": 0
           },
           {
            "bin_start": 30490,
            "bin_end": 32990,
            "count": 2
           }
          ]
         }
        },
        {
         "name": "Marked_price",
         "dtype": "int64",
         "stats": {
          "unique_count": 12,
          "nan_count": 0,
          "min": "19999",
          "max": "59990",
          "histogram": [
           {
            "bin_start": 19999,
            "bin_end": 23998.1,
            "count": 7
           },
           {
            "bin_start": 23998.1,
            "bin_end": 27997.2,
            "count": 2
           },
           {
            "bin_start": 27997.2,
            "bin_end": 31996.3,
            "count": 3
           },
           {
            "bin_start": 31996.3,
            "bin_end": 35995.4,
            "count": 1
           },
           {
            "bin_start": 35995.4,
            "bin_end": 39994.5,
            "count": 0
           },
           {
            "bin_start": 39994.5,
            "bin_end": 43993.6,
            "count": 0
           },
           {
            "bin_start": 43993.6,
            "bin_end": 47992.7,
            "count": 1
           },
           {
            "bin_start": 47992.7,
            "bin_end": 51991.8,
            "count": 0
           },
           {
            "bin_start": 51991.8,
            "bin_end": 55990.9,
            "count": 0
           },
           {
            "bin_start": 55990.9,
            "bin_end": 59990,
            "count": 1
           }
          ]
         }
        },
        {
         "name": "Operating_system",
         "dtype": "object",
         "stats": {
          "unique_count": 4,
          "nan_count": 0,
          "categories": [
           {
            "name": "Android",
            "count": 11
           },
           {
            "name": "WebOS",
            "count": 2
           },
           {
            "name": "2 others",
            "count": 2
           }
          ]
         }
        },
        {
         "name": "_deepnote_index_column",
         "dtype": "int64"
        }
       ],
       "rows": [
        {
         "Product_Name": "Vu",
         "Stars": 4.4,
         "Ratings": 32043,
         "Reviews": 4978,
         "Current_price": 30990,
         "Marked_price": 45000,
         "Operating_system": "Android",
         "_deepnote_index_column": 10
        },
        {
         "Product_Name": "Adsun",
         "Stars": 3.8,
         "Ratings": 6742,
         "Reviews": 930,
         "Current_price": 8999,
         "Marked_price": 29999,
         "Operating_system": "Android",
         "_deepnote_index_column": 11
        },
        {
         "Product_Name": "OnePlus",
         "Stars": 4.3,
         "Ratings": 101256,
         "Reviews": 9189,
         "Current_price": 22999,
         "Marked_price": 27999,
         "Operating_system": "Android",
         "_deepnote_index_column": 12
        },
        {
         "Product_Name": "MarQ",
         "Stars": 4.2,
         "Ratings": 6251,
         "Reviews": 764,
         "Current_price": 8999,
         "Marked_price": 19999,
         "Operating_system": "Linux",
         "_deepnote_index_column": 13
        },
        {
         "Product_Name": "OnePlus",
         "Stars": 4.3,
         "Ratings": 101256,
         "Reviews": 9189,
         "Current_price": 24999,
         "Marked_price": 29999,
         "Operating_system": "Android",
         "_deepnote_index_column": 14
        }
       ]
      },
      "text/plain": "   Product_Name  Stars  Ratings  Reviews  Current_price  Marked_price  \\\n0         Croma    4.2     1773      217           7990         20000   \n1         Adsun    3.8     6742      930           8699         21999   \n2            LG    4.4    38870     3443          16499         21990   \n3       OnePlus    4.3   101256     9189          16499         21999   \n4        Xiaomi    4.3     3120      305          15499         24999   \n5       SAMSUNG    4.4    53639     4811          15999         22900   \n6       OnePlus    4.3   101256     9189          15499         19999   \n7         Croma    4.2        0        0          11990         25000   \n8            LG    4.4     5830      698          32990         59990   \n9       OnePlus    4.3   101256     9189          25999         31999   \n10           Vu    4.4    32043     4978          30990         45000   \n11        Adsun    3.8     6742      930           8999         29999   \n12      OnePlus    4.3   101256     9189          22999         27999   \n13         MarQ    4.2     6251      764           8999         19999   \n14      OnePlus    4.3   101256     9189          24999         29999   \n\n   Operating_system  \n0           Android  \n1           Android  \n2             WebOS  \n3           Android  \n4           Android  \n5             Tizen  \n6           Android  \n7           Android  \n8             WebOS  \n9           Android  \n10          Android  \n11          Android  \n12          Android  \n13            Linux  \n14          Android  ",
      "text/html": "<div>\n<style scoped>\n    .dataframe tbody tr th:only-of-type {\n        vertical-align: middle;\n    }\n\n    .dataframe tbody tr th {\n        vertical-align: top;\n    }\n\n    .dataframe thead th {\n        text-align: right;\n    }\n</style>\n<table border=\"1\" class=\"dataframe\">\n  <thead>\n    <tr style=\"text-align: right;\">\n      <th></th>\n      <th>Product_Name</th>\n      <th>Stars</th>\n      <th>Ratings</th>\n      <th>Reviews</th>\n      <th>Current_price</th>\n      <th>Marked_price</th>\n      <th>Operating_system</th>\n    </tr>\n  </thead>\n  <tbody>\n    <tr>\n      <th>0</th>\n      <td>Croma</td>\n      <td>4.2</td>\n      <td>1773</td>\n      <td>217</td>\n      <td>7990</td>\n      <td>20000</td>\n      <td>Android</td>\n    </tr>\n    <tr>\n      <th>1</th>\n      <td>Adsun</td>\n      <td>3.8</td>\n      <td>6742</td>\n      <td>930</td>\n      <td>8699</td>\n      <td>21999</td>\n      <td>Android</td>\n    </tr>\n    <tr>\n      <th>2</th>\n      <td>LG</td>\n      <td>4.4</td>\n      <td>38870</td>\n      <td>3443</td>\n      <td>16499</td>\n      <td>21990</td>\n      <td>WebOS</td>\n    </tr>\n    <tr>\n      <th>3</th>\n      <td>OnePlus</td>\n      <td>4.3</td>\n      <td>101256</td>\n      <td>9189</td>\n      <td>16499</td>\n      <td>21999</td>\n      <td>Android</td>\n    </tr>\n    <tr>\n      <th>4</th>\n      <td>Xiaomi</td>\n      <td>4.3</td>\n      <td>3120</td>\n      <td>305</td>\n      <td>15499</td>\n      <td>24999</td>\n      <td>Android</td>\n    </tr>\n    <tr>\n      <th>5</th>\n      <td>SAMSUNG</td>\n      <td>4.4</td>\n      <td>53639</td>\n      <td>4811</td>\n      <td>15999</td>\n      <td>22900</td>\n      <td>Tizen</td>\n    </tr>\n    <tr>\n      <th>6</th>\n      <td>OnePlus</td>\n      <td>4.3</td>\n      <td>101256</td>\n      <td>9189</td>\n      <td>15499</td>\n      <td>19999</td>\n      <td>Android</td>\n    </tr>\n    <tr>\n      <th>7</th>\n      <td>Croma</td>\n      <td>4.2</td>\n      <td>0</td>\n      <td>0</td>\n      <td>11990</td>\n      <td>25000</td>\n      <td>Android</td>\n    </tr>\n    <tr>\n      <th>8</th>\n      <td>LG</td>\n      <td>4.4</td>\n      <td>5830</td>\n      <td>698</td>\n      <td>32990</td>\n      <td>59990</td>\n      <td>WebOS</td>\n    </tr>\n    <tr>\n      <th>9</th>\n      <td>OnePlus</td>\n      <td>4.3</td>\n      <td>101256</td>\n      <td>9189</td>\n      <td>25999</td>\n      <td>31999</td>\n      <td>Android</td>\n    </tr>\n    <tr>\n      <th>10</th>\n      <td>Vu</td>\n      <td>4.4</td>\n      <td>32043</td>\n      <td>4978</td>\n      <td>30990</td>\n      <td>45000</td>\n      <td>Android</td>\n    </tr>\n    <tr>\n      <th>11</th>\n      <td>Adsun</td>\n      <td>3.8</td>\n      <td>6742</td>\n      <td>930</td>\n      <td>8999</td>\n      <td>29999</td>\n      <td>Android</td>\n    </tr>\n    <tr>\n      <th>12</th>\n      <td>OnePlus</td>\n      <td>4.3</td>\n      <td>101256</td>\n      <td>9189</td>\n      <td>22999</td>\n      <td>27999</td>\n      <td>Android</td>\n    </tr>\n    <tr>\n      <th>13</th>\n      <td>MarQ</td>\n      <td>4.2</td>\n      <td>6251</td>\n      <td>764</td>\n      <td>8999</td>\n      <td>19999</td>\n      <td>Linux</td>\n    </tr>\n    <tr>\n      <th>14</th>\n      <td>OnePlus</td>\n      <td>4.3</td>\n      <td>101256</td>\n      <td>9189</td>\n      <td>24999</td>\n      <td>29999</td>\n      <td>Android</td>\n    </tr>\n  </tbody>\n</table>\n</div>"
     },
     "metadata": {}
    }
   ],
   "execution_count": null
  },
  {
   "cell_type": "markdown",
   "source": "### Data Visualization",
   "metadata": {
    "formattedRanges": [],
    "is_collapsed": false,
    "cell_id": "a8987b3718574a24b578102711bbffb8",
    "tags": [],
    "deepnote_cell_type": "text-cell-h3"
   }
  },
  {
   "cell_type": "code",
   "metadata": {
    "tags": [],
    "deepnote_variable_name": "df_3",
    "sql_integration_id": "deepnote-dataframe-sql",
    "cell_id": "7260d0742166412a90043e2917a292a1",
    "deepnote_to_be_reexecuted": false,
    "source_hash": "e9f2b9c",
    "execution_start": 1660822406099,
    "execution_millis": 82,
    "deepnote_sql_source": "SELECT *\nFROM df_tele",
    "deepnote_cell_type": "sql",
    "deepnote_cell_height": 669.65625
   },
   "source": "\n\ndf_3 = _deepnote_execute_sql(\"\"\"SELECT *\nFROM df_tele\n\"\"\", 'SQL_DEEPNOTE_DATAFRAME_SQL')\ndf_3",
   "outputs": [
    {
     "output_type": "execute_result",
     "execution_count": 27,
     "data": {
      "application/vnd.deepnote.dataframe.v3+json": {
       "column_count": 7,
       "row_count": 882,
       "columns": [
        {
         "name": "Product_Name",
         "dtype": "object",
         "stats": {
          "unique_count": 56,
          "nan_count": 0,
          "categories": [
           {
            "name": "Croma",
            "count": 116
           },
           {
            "name": "Adsun",
            "count": 116
           },
           {
            "name": "54 others",
            "count": 650
           }
          ]
         }
        },
        {
         "name": "Stars",
         "dtype": "float64",
         "stats": {
          "unique_count": 24,
          "nan_count": 0,
          "min": "0.0",
          "max": "5.0",
          "histogram": [
           {
            "bin_start": 0,
            "bin_end": 0.5,
            "count": 186
           },
           {
            "bin_start": 0.5,
            "bin_end": 1,
            "count": 0
           },
           {
            "bin_start": 1,
            "bin_end": 1.5,
            "count": 0
           },
           {
            "bin_start": 1.5,
            "bin_end": 2,
            "count": 1
           },
           {
            "bin_start": 2,
            "bin_end": 2.5,
            "count": 2
           },
           {
            "bin_start": 2.5,
            "bin_end": 3,
            "count": 2
           },
           {
            "bin_start": 3,
            "bin_end": 3.5,
            "count": 7
           },
           {
            "bin_start": 3.5,
            "bin_end": 4,
            "count": 174
           },
           {
            "bin_start": 4,
            "bin_end": 4.5,
            "count": 404
           },
           {
            "bin_start": 4.5,
            "bin_end": 5,
            "count": 106
           }
          ]
         }
        },
        {
         "name": "Ratings",
         "dtype": "int64",
         "stats": {
          "unique_count": 135,
          "nan_count": 0,
          "min": "0",
          "max": "663035",
          "histogram": [
           {
            "bin_start": 0,
            "bin_end": 66303.5,
            "count": 871
           },
           {
            "bin_start": 66303.5,
            "bin_end": 132607,
            "count": 7
           },
           {
            "bin_start": 132607,
            "bin_end": 198910.5,
            "count": 3
           },
           {
            "bin_start": 198910.5,
            "bin_end": 265214,
            "count": 0
           },
           {
            "bin_start": 265214,
            "bin_end": 331517.5,
            "count": 0
           },
           {
            "bin_start": 331517.5,
            "bin_end": 397821,
            "count": 0
           },
           {
            "bin_start": 397821,
            "bin_end": 464124.5,
            "count": 0
           },
           {
            "bin_start": 464124.5,
            "bin_end": 530428,
            "count": 0
           },
           {
            "bin_start": 530428,
            "bin_end": 596731.5,
            "count": 0
           },
           {
            "bin_start": 596731.5,
            "bin_end": 663035,
            "count": 1
           }
          ]
         }
        },
        {
         "name": "Reviews",
         "dtype": "int64",
         "stats": {
          "unique_count": 124,
          "nan_count": 0,
          "min": "0",
          "max": "67204",
          "histogram": [
           {
            "bin_start": 0,
            "bin_end": 6720.4,
            "count": 866
           },
           {
            "bin_start": 6720.4,
            "bin_end": 13440.8,
            "count": 10
           },
           {
            "bin_start": 13440.8,
            "bin_end": 20161.199999999997,
            "count": 2
           },
           {
            "bin_start": 20161.199999999997,
            "bin_end": 26881.6,
            "count": 3
           },
           {
            "bin_start": 26881.6,
            "bin_end": 33602,
            "count": 0
           },
           {
            "bin_start": 33602,
            "bin_end": 40322.399999999994,
            "count": 0
           },
           {
            "bin_start": 40322.399999999994,
            "bin_end": 47042.799999999996,
            "count": 0
           },
           {
            "bin_start": 47042.799999999996,
            "bin_end": 53763.2,
            "count": 0
           },
           {
            "bin_start": 53763.2,
            "bin_end": 60483.6,
            "count": 0
           },
           {
            "bin_start": 60483.6,
            "bin_end": 67204,
            "count": 1
           }
          ]
         }
        },
        {
         "name": "Current_price",
         "dtype": "int64",
         "stats": {
          "unique_count": 359,
          "nan_count": 0,
          "min": "5490",
          "max": "599900",
          "histogram": [
           {
            "bin_start": 5490,
            "bin_end": 64931,
            "count": 713
           },
           {
            "bin_start": 64931,
            "bin_end": 124372,
            "count": 95
           },
           {
            "bin_start": 124372,
            "bin_end": 183813,
            "count": 37
           },
           {
            "bin_start": 183813,
            "bin_end": 243254,
            "count": 13
           },
           {
            "bin_start": 243254,
            "bin_end": 302695,
            "count": 10
           },
           {
            "bin_start": 302695,
            "bin_end": 362136,
            "count": 8
           },
           {
            "bin_start": 362136,
            "bin_end": 421577,
            "count": 1
           },
           {
            "bin_start": 421577,
            "bin_end": 481018,
            "count": 3
           },
           {
            "bin_start": 481018,
            "bin_end": 540459,
            "count": 1
           },
           {
            "bin_start": 540459,
            "bin_end": 599900,
            "count": 1
           }
          ]
         }
        },
        {
         "name": "Marked_price",
         "dtype": "int64",
         "stats": {
          "unique_count": 342,
          "nan_count": 0,
          "min": "7999",
          "max": "599900",
          "histogram": [
           {
            "bin_start": 7999,
            "bin_end": 67189.1,
            "count": 632
           },
           {
            "bin_start": 67189.1,
            "bin_end": 126379.2,
            "count": 126
           },
           {
            "bin_start": 126379.2,
            "bin_end": 185569.3,
            "count": 50
           },
           {
            "bin_start": 185569.3,
            "bin_end": 244759.4,
            "count": 28
           },
           {
            "bin_start": 244759.4,
            "bin_end": 303949.5,
            "count": 19
           },
           {
            "bin_start": 303949.5,
            "bin_end": 363139.6,
            "count": 7
           },
           {
            "bin_start": 363139.6,
            "bin_end": 422329.7,
            "count": 9
           },
           {
            "bin_start": 422329.7,
            "bin_end": 481519.8,
            "count": 4
           },
           {
            "bin_start": 481519.8,
            "bin_end": 540709.9,
            "count": 5
           },
           {
            "bin_start": 540709.9,
            "bin_end": 599900,
            "count": 2
           }
          ]
         }
        },
        {
         "name": "Operating_system",
         "dtype": "object",
         "stats": {
          "unique_count": 9,
          "nan_count": 0,
          "categories": [
           {
            "name": "Android",
            "count": 537
           },
           {
            "name": "Linux",
            "count": 152
           },
           {
            "name": "7 others",
            "count": 193
           }
          ]
         }
        },
        {
         "name": "_deepnote_index_column",
         "dtype": "int64"
        }
       ],
       "rows": [
        {
         "Product_Name": "Croma",
         "Stars": 4.2,
         "Ratings": 1773,
         "Reviews": 217,
         "Current_price": 7990,
         "Marked_price": 20000,
         "Operating_system": "Android",
         "_deepnote_index_column": 0
        },
        {
         "Product_Name": "Adsun",
         "Stars": 3.8,
         "Ratings": 6742,
         "Reviews": 930,
         "Current_price": 8699,
         "Marked_price": 21999,
         "Operating_system": "Android",
         "_deepnote_index_column": 1
        },
        {
         "Product_Name": "LG",
         "Stars": 4.4,
         "Ratings": 38870,
         "Reviews": 3443,
         "Current_price": 16499,
         "Marked_price": 21990,
         "Operating_system": "WebOS",
         "_deepnote_index_column": 2
        },
        {
         "Product_Name": "OnePlus",
         "Stars": 4.3,
         "Ratings": 101256,
         "Reviews": 9189,
         "Current_price": 16499,
         "Marked_price": 21999,
         "Operating_system": "Android",
         "_deepnote_index_column": 3
        },
        {
         "Product_Name": "Xiaomi",
         "Stars": 4.3,
         "Ratings": 3120,
         "Reviews": 305,
         "Current_price": 15499,
         "Marked_price": 24999,
         "Operating_system": "Android",
         "_deepnote_index_column": 4
        },
        {
         "Product_Name": "SAMSUNG",
         "Stars": 4.4,
         "Ratings": 53639,
         "Reviews": 4811,
         "Current_price": 15999,
         "Marked_price": 22900,
         "Operating_system": "Tizen",
         "_deepnote_index_column": 5
        },
        {
         "Product_Name": "OnePlus",
         "Stars": 4.3,
         "Ratings": 101256,
         "Reviews": 9189,
         "Current_price": 15499,
         "Marked_price": 19999,
         "Operating_system": "Android",
         "_deepnote_index_column": 6
        },
        {
         "Product_Name": "Croma",
         "Stars": 4.2,
         "Ratings": 0,
         "Reviews": 0,
         "Current_price": 11990,
         "Marked_price": 25000,
         "Operating_system": "Android",
         "_deepnote_index_column": 7
        },
        {
         "Product_Name": "LG",
         "Stars": 4.4,
         "Ratings": 5830,
         "Reviews": 698,
         "Current_price": 32990,
         "Marked_price": 59990,
         "Operating_system": "WebOS",
         "_deepnote_index_column": 8
        },
        {
         "Product_Name": "OnePlus",
         "Stars": 4.3,
         "Ratings": 101256,
         "Reviews": 9189,
         "Current_price": 25999,
         "Marked_price": 31999,
         "Operating_system": "Android",
         "_deepnote_index_column": 9
        }
       ]
      },
      "text/plain": "    Product_Name  Stars  Ratings  Reviews  Current_price  Marked_price  \\\n0          Croma    4.2     1773      217           7990         20000   \n1          Adsun    3.8     6742      930           8699         21999   \n2             LG    4.4    38870     3443          16499         21990   \n3        OnePlus    4.3   101256     9189          16499         21999   \n4         Xiaomi    4.3     3120      305          15499         24999   \n..           ...    ...      ...      ...            ...           ...   \n877         SONY    4.5     6056     1082          34184         68400   \n878        Croma    0.0        0        0           9194         20000   \n879     T-Series    0.0        0        0          26999         33990   \n880        Adsun    3.8     6742      930           6199         12999   \n881         SONY    4.4        0        0          52949         72990   \n\n    Operating_system  \n0            Android  \n1            Android  \n2              WebOS  \n3            Android  \n4            Android  \n..               ...  \n877            Linux  \n878          Android  \n879            Linux  \n880            Linux  \n881            Linux  \n\n[882 rows x 7 columns]",
      "text/html": "<div>\n<style scoped>\n    .dataframe tbody tr th:only-of-type {\n        vertical-align: middle;\n    }\n\n    .dataframe tbody tr th {\n        vertical-align: top;\n    }\n\n    .dataframe thead th {\n        text-align: right;\n    }\n</style>\n<table border=\"1\" class=\"dataframe\">\n  <thead>\n    <tr style=\"text-align: right;\">\n      <th></th>\n      <th>Product_Name</th>\n      <th>Stars</th>\n      <th>Ratings</th>\n      <th>Reviews</th>\n      <th>Current_price</th>\n      <th>Marked_price</th>\n      <th>Operating_system</th>\n    </tr>\n  </thead>\n  <tbody>\n    <tr>\n      <th>0</th>\n      <td>Croma</td>\n      <td>4.2</td>\n      <td>1773</td>\n      <td>217</td>\n      <td>7990</td>\n      <td>20000</td>\n      <td>Android</td>\n    </tr>\n    <tr>\n      <th>1</th>\n      <td>Adsun</td>\n      <td>3.8</td>\n      <td>6742</td>\n      <td>930</td>\n      <td>8699</td>\n      <td>21999</td>\n      <td>Android</td>\n    </tr>\n    <tr>\n      <th>2</th>\n      <td>LG</td>\n      <td>4.4</td>\n      <td>38870</td>\n      <td>3443</td>\n      <td>16499</td>\n      <td>21990</td>\n      <td>WebOS</td>\n    </tr>\n    <tr>\n      <th>3</th>\n      <td>OnePlus</td>\n      <td>4.3</td>\n      <td>101256</td>\n      <td>9189</td>\n      <td>16499</td>\n      <td>21999</td>\n      <td>Android</td>\n    </tr>\n    <tr>\n      <th>4</th>\n      <td>Xiaomi</td>\n      <td>4.3</td>\n      <td>3120</td>\n      <td>305</td>\n      <td>15499</td>\n      <td>24999</td>\n      <td>Android</td>\n    </tr>\n    <tr>\n      <th>...</th>\n      <td>...</td>\n      <td>...</td>\n      <td>...</td>\n      <td>...</td>\n      <td>...</td>\n      <td>...</td>\n      <td>...</td>\n    </tr>\n    <tr>\n      <th>877</th>\n      <td>SONY</td>\n      <td>4.5</td>\n      <td>6056</td>\n      <td>1082</td>\n      <td>34184</td>\n      <td>68400</td>\n      <td>Linux</td>\n    </tr>\n    <tr>\n      <th>878</th>\n      <td>Croma</td>\n      <td>0.0</td>\n      <td>0</td>\n      <td>0</td>\n      <td>9194</td>\n      <td>20000</td>\n      <td>Android</td>\n    </tr>\n    <tr>\n      <th>879</th>\n      <td>T-Series</td>\n      <td>0.0</td>\n      <td>0</td>\n      <td>0</td>\n      <td>26999</td>\n      <td>33990</td>\n      <td>Linux</td>\n    </tr>\n    <tr>\n      <th>880</th>\n      <td>Adsun</td>\n      <td>3.8</td>\n      <td>6742</td>\n      <td>930</td>\n      <td>6199</td>\n      <td>12999</td>\n      <td>Linux</td>\n    </tr>\n    <tr>\n      <th>881</th>\n      <td>SONY</td>\n      <td>4.4</td>\n      <td>0</td>\n      <td>0</td>\n      <td>52949</td>\n      <td>72990</td>\n      <td>Linux</td>\n    </tr>\n  </tbody>\n</table>\n<p>882 rows × 7 columns</p>\n</div>"
     },
     "metadata": {}
    }
   ],
   "execution_count": null
  },
  {
   "cell_type": "code",
   "source": "_deepnote_run_altair(df_3, \"\"\"{\"$schema\":\"https://vega.github.io/schema/vega-lite/v4.json\",\"mark\":{\"type\":\"bar\",\"tooltip\":true},\"height\":220,\"autosize\":{\"type\":\"fit\"},\"data\":{\"name\":\"placeholder\"},\"encoding\":{\"x\":{\"field\":\"Product_Name\",\"type\":\"nominal\",\"sort\":null,\"scale\":{\"type\":\"linear\",\"zero\":false}},\"y\":{\"field\":\"Ratings\",\"type\":\"quantitative\",\"sort\":null,\"scale\":{\"type\":\"linear\",\"zero\":true}},\"color\":{\"field\":\"Reviews\",\"type\":\"quantitative\",\"sort\":null,\"scale\":{\"type\":\"linear\",\"zero\":false}}}}\"\"\")",
   "metadata": {
    "cell_id": "26cc250629864f86a6c0a62e90b686ff",
    "deepnote_variable_name": "df_3",
    "deepnote_visualization_spec": {
     "$schema": "https://vega.github.io/schema/vega-lite/v4.json",
     "mark": {
      "type": "bar",
      "tooltip": true
     },
     "height": 220,
     "autosize": {
      "type": "fit"
     },
     "data": {
      "name": "placeholder"
     },
     "encoding": {
      "x": {
       "field": "Product_Name",
       "type": "nominal",
       "sort": null,
       "scale": {
        "type": "linear",
        "zero": false
       }
      },
      "y": {
       "field": "Ratings",
       "type": "quantitative",
       "sort": null,
       "scale": {
        "type": "linear",
        "zero": true
       }
      },
      "color": {
       "field": "Reviews",
       "type": "quantitative",
       "sort": null,
       "scale": {
        "type": "linear",
        "zero": false
       }
      }
     }
    },
    "deepnote_to_be_reexecuted": false,
    "source_hash": "b8d8c436",
    "execution_start": 1660822406279,
    "execution_millis": 483,
    "deepnote_cell_type": "visualization"
   },
   "outputs": [
    {
     "output_type": "execute_result",
     "execution_count": 29,
     "data": {
      "text/html": "\n<div id=\"altair-viz-a4b7ac58cf614f70a3ff8e2e60d44334\"></div>\n<script type=\"text/javascript\">\n  (function(spec, embedOpt){\n    let outputDiv = document.currentScript.previousElementSibling;\n    if (outputDiv.id !== \"altair-viz-a4b7ac58cf614f70a3ff8e2e60d44334\") {\n      outputDiv = document.getElementById(\"altair-viz-a4b7ac58cf614f70a3ff8e2e60d44334\");\n    }\n    const paths = {\n      \"vega\": \"https://cdn.jsdelivr.net/npm//vega@5?noext\",\n      \"vega-lib\": \"https://cdn.jsdelivr.net/npm//vega-lib?noext\",\n      \"vega-lite\": \"https://cdn.jsdelivr.net/npm//vega-lite@4.8.1?noext\",\n      \"vega-embed\": \"https://cdn.jsdelivr.net/npm//vega-embed@6?noext\",\n    };\n\n    function loadScript(lib) {\n      return new Promise(function(resolve, reject) {\n        var s = document.createElement('script');\n        s.src = paths[lib];\n        s.async = true;\n        s.onload = () => resolve(paths[lib]);\n        s.onerror = () => reject(`Error loading script: ${paths[lib]}`);\n        document.getElementsByTagName(\"head\")[0].appendChild(s);\n      });\n    }\n\n    function showError(err) {\n      outputDiv.innerHTML = `<div class=\"error\" style=\"color:red;\">${err}</div>`;\n      throw err;\n    }\n\n    function displayChart(vegaEmbed) {\n      vegaEmbed(outputDiv, spec, embedOpt)\n        .catch(err => showError(`Javascript Error: ${err.message}<br>This usually means there's a typo in your chart specification. See the javascript console for the full traceback.`));\n    }\n\n    if(typeof define === \"function\" && define.amd) {\n      requirejs.config({paths});\n      require([\"vega-embed\"], displayChart, err => showError(`Error loading script: ${err.message}`));\n    } else if (typeof vegaEmbed === \"function\") {\n      displayChart(vegaEmbed);\n    } else {\n      loadScript(\"vega\")\n        .then(() => loadScript(\"vega-lite\"))\n        .then(() => loadScript(\"vega-embed\"))\n        .catch(showError)\n        .then(() => displayChart(vegaEmbed));\n    }\n  })({\"config\": {\"view\": {\"continuousWidth\": 400, \"continuousHeight\": 300}, \"area\": {\"fill\": \"#51C0E9\"}, \"axis\": {\"labelFont\": \"Inter, sans-serif\", \"labelFontSize\": 12, \"labelFontWeight\": \"normal\", \"labelLimit\": 60, \"labelOverlap\": \"greedy\", \"titleFont\": \"Inter, sans-serif\", \"titleFontSize\": 12, \"titleFontWeight\": \"bold\"}, \"background\": \"#ffffff\", \"legend\": {\"labelFont\": \"Inter, sans-serif\", \"labelFontSize\": 12, \"titleFont\": \"Inter, sans-serif\", \"titleFontSize\": 12, \"titleFontWeight\": \"bold\"}, \"line\": {\"stroke\": \"#51C0E9\", \"strokeWidth\": 2}, \"rect\": {\"fill\": \"#51C0E9\"}, \"title\": {\"anchor\": \"start\", \"color\": \"#000000\", \"font\": \"Inter, sans-serif\", \"fontSize\": 22, \"fontWeight\": \"normal\"}}, \"data\": {\"name\": \"data-666df74709079a082d13fb621687179f\"}, \"mark\": {\"type\": \"bar\", \"tooltip\": true}, \"autosize\": {\"type\": \"fit\"}, \"encoding\": {\"color\": {\"type\": \"quantitative\", \"field\": \"Reviews\", \"scale\": {\"type\": \"linear\", \"zero\": false}, \"sort\": null}, \"x\": {\"type\": \"nominal\", \"field\": \"Product_Name\", \"scale\": {\"type\": \"linear\", \"zero\": false}, \"sort\": null}, \"y\": {\"type\": \"quantitative\", \"field\": \"Ratings\", \"scale\": {\"type\": \"linear\", \"zero\": true}, \"sort\": null}}, \"height\": 300, \"width\": \"container\", \"$schema\": \"https://vega.github.io/schema/vega-lite/v4.json\", \"datasets\": {\"data-666df74709079a082d13fb621687179f\": [{\"Product_Name\": \"Croma\", \"Stars\": 4.2, \"Ratings\": 1773, \"Reviews\": 217, \"Current_price\": 7990, \"Marked_price\": 20000, \"Operating_system\": \"Android\"}, {\"Product_Name\": \"Adsun\", \"Stars\": 3.8, \"Ratings\": 6742, \"Reviews\": 930, \"Current_price\": 8699, \"Marked_price\": 21999, \"Operating_system\": \"Android\"}, {\"Product_Name\": \"LG\", \"Stars\": 4.4, \"Ratings\": 38870, \"Reviews\": 3443, \"Current_price\": 16499, \"Marked_price\": 21990, \"Operating_system\": \"WebOS\"}, {\"Product_Name\": \"OnePlus\", \"Stars\": 4.3, \"Ratings\": 101256, \"Reviews\": 9189, \"Current_price\": 16499, \"Marked_price\": 21999, \"Operating_system\": \"Android\"}, {\"Product_Name\": \"Xiaomi\", \"Stars\": 4.3, \"Ratings\": 3120, \"Reviews\": 305, \"Current_price\": 15499, \"Marked_price\": 24999, \"Operating_system\": \"Android\"}, {\"Product_Name\": \"SAMSUNG\", \"Stars\": 4.4, \"Ratings\": 53639, \"Reviews\": 4811, \"Current_price\": 15999, \"Marked_price\": 22900, \"Operating_system\": \"Tizen\"}, {\"Product_Name\": \"OnePlus\", \"Stars\": 4.3, \"Ratings\": 101256, \"Reviews\": 9189, \"Current_price\": 15499, \"Marked_price\": 19999, \"Operating_system\": \"Android\"}, {\"Product_Name\": \"Croma\", \"Stars\": 4.2, \"Ratings\": 0, \"Reviews\": 0, \"Current_price\": 11990, \"Marked_price\": 25000, \"Operating_system\": \"Android\"}, {\"Product_Name\": \"LG\", \"Stars\": 4.4, \"Ratings\": 5830, \"Reviews\": 698, \"Current_price\": 32990, \"Marked_price\": 59990, \"Operating_system\": \"WebOS\"}, {\"Product_Name\": \"OnePlus\", \"Stars\": 4.3, \"Ratings\": 101256, \"Reviews\": 9189, \"Current_price\": 25999, \"Marked_price\": 31999, \"Operating_system\": \"Android\"}, {\"Product_Name\": \"Vu\", \"Stars\": 4.4, \"Ratings\": 32043, \"Reviews\": 4978, \"Current_price\": 30990, \"Marked_price\": 45000, \"Operating_system\": \"Android\"}, {\"Product_Name\": \"Adsun\", \"Stars\": 3.8, \"Ratings\": 6742, \"Reviews\": 930, \"Current_price\": 8999, \"Marked_price\": 29999, \"Operating_system\": \"Android\"}, {\"Product_Name\": \"OnePlus\", \"Stars\": 4.3, \"Ratings\": 101256, \"Reviews\": 9189, \"Current_price\": 22999, \"Marked_price\": 27999, \"Operating_system\": \"Android\"}, {\"Product_Name\": \"MarQ\", \"Stars\": 4.2, \"Ratings\": 6251, \"Reviews\": 764, \"Current_price\": 8999, \"Marked_price\": 19999, \"Operating_system\": \"Linux\"}, {\"Product_Name\": \"OnePlus\", \"Stars\": 4.3, \"Ratings\": 101256, \"Reviews\": 9189, \"Current_price\": 24999, \"Marked_price\": 29999, \"Operating_system\": \"Android\"}, {\"Product_Name\": \"Croma\", \"Stars\": 3.9, \"Ratings\": 0, \"Reviews\": 0, \"Current_price\": 18990, \"Marked_price\": 30000, \"Operating_system\": \"Android\"}, {\"Product_Name\": \"Xiaomi\", \"Stars\": 4.3, \"Ratings\": 3120, \"Reviews\": 305, \"Current_price\": 22999, \"Marked_price\": 29999, \"Operating_system\": \"Android\"}, {\"Product_Name\": \"Vu\", \"Stars\": 4.2, \"Ratings\": 5635, \"Reviews\": 632, \"Current_price\": 12999, \"Marked_price\": 20000, \"Operating_system\": \"Linux\"}, {\"Product_Name\": \"Mi\", \"Stars\": 4.3, \"Ratings\": 40877, \"Reviews\": 3658, \"Current_price\": 31999, \"Marked_price\": 49999, \"Operating_system\": \"Android\"}, {\"Product_Name\": \"Adsun\", \"Stars\": 3.8, \"Ratings\": 6742, \"Reviews\": 930, \"Current_price\": 16999, \"Marked_price\": 39999, \"Operating_system\": \"Android\"}, {\"Product_Name\": \"realme\", \"Stars\": 4.3, \"Ratings\": 26103, \"Reviews\": 2299, \"Current_price\": 13499, \"Marked_price\": 21999, \"Operating_system\": \"Linux\"}, {\"Product_Name\": \"realme\", \"Stars\": 4.3, \"Ratings\": 197035, \"Reviews\": 22679, \"Current_price\": 15499, \"Marked_price\": 17999, \"Operating_system\": \"Android\"}, {\"Product_Name\": \"acer\", \"Stars\": 4.4, \"Ratings\": 5449, \"Reviews\": 897, \"Current_price\": 13999, \"Marked_price\": 22990, \"Operating_system\": \"Android\"}, {\"Product_Name\": \"SAMSUNG\", \"Stars\": 4.4, \"Ratings\": 7344, \"Reviews\": 883, \"Current_price\": 35999, \"Marked_price\": 47900, \"Operating_system\": \"Tizen\"}, {\"Product_Name\": \"Thomson\", \"Stars\": 4.4, \"Ratings\": 67598, \"Reviews\": 14655, \"Current_price\": 20999, \"Marked_price\": 27999, \"Operating_system\": \"Android\"}, {\"Product_Name\": \"iFFALCON\", \"Stars\": 4.3, \"Ratings\": 18688, \"Reviews\": 2568, \"Current_price\": 33999, \"Marked_price\": 70990, \"Operating_system\": \"Android\"}, {\"Product_Name\": \"Mi\", \"Stars\": 4.3, \"Ratings\": 34983, \"Reviews\": 3067, \"Current_price\": 21999, \"Marked_price\": 29999, \"Operating_system\": \"Android\"}, {\"Product_Name\": \"Adsun\", \"Stars\": 3.8, \"Ratings\": 6742, \"Reviews\": 930, \"Current_price\": 8699, \"Marked_price\": 21999, \"Operating_system\": \"Android\"}, {\"Product_Name\": \"Vu\", \"Stars\": 4.4, \"Ratings\": 32043, \"Reviews\": 4978, \"Current_price\": 27999, \"Marked_price\": 45000, \"Operating_system\": \"Android\"}, {\"Product_Name\": \"OnePlus\", \"Stars\": 4.4, \"Ratings\": 8883, \"Reviews\": 989, \"Current_price\": 40990, \"Marked_price\": 49999, \"Operating_system\": \"Android\"}, {\"Product_Name\": \"Xiaomi\", \"Stars\": 4.3, \"Ratings\": 3120, \"Reviews\": 305, \"Current_price\": 25999, \"Marked_price\": 35999, \"Operating_system\": \"Android\"}, {\"Product_Name\": \"Croma\", \"Stars\": 4.2, \"Ratings\": 0, \"Reviews\": 0, \"Current_price\": 11990, \"Marked_price\": 25000, \"Operating_system\": \"Android\"}, {\"Product_Name\": \"Thomson\", \"Stars\": 4.2, \"Ratings\": 0, \"Reviews\": 0, \"Current_price\": 9999, \"Marked_price\": 14999, \"Operating_system\": \"Linux\"}, {\"Product_Name\": \"iFFALCON\", \"Stars\": 4.3, \"Ratings\": 15277, \"Reviews\": 2435, \"Current_price\": 18999, \"Marked_price\": 36990, \"Operating_system\": \"Android\"}, {\"Product_Name\": \"Croma\", \"Stars\": 4.2, \"Ratings\": 1773, \"Reviews\": 217, \"Current_price\": 7990, \"Marked_price\": 20000, \"Operating_system\": \"Android\"}, {\"Product_Name\": \"Adsun\", \"Stars\": 3.8, \"Ratings\": 6742, \"Reviews\": 930, \"Current_price\": 8999, \"Marked_price\": 29999, \"Operating_system\": \"Android\"}, {\"Product_Name\": \"Yuwa\", \"Stars\": 0.0, \"Ratings\": 0, \"Reviews\": 0, \"Current_price\": 8449, \"Marked_price\": 21990, \"Operating_system\": \"Android\"}, {\"Product_Name\": \"acer\", \"Stars\": 4.4, \"Ratings\": 5449, \"Reviews\": 897, \"Current_price\": 25999, \"Marked_price\": 31990, \"Operating_system\": \"Android\"}, {\"Product_Name\": \"Mi\", \"Stars\": 4.3, \"Ratings\": 34983, \"Reviews\": 3067, \"Current_price\": 16499, \"Marked_price\": 19999, \"Operating_system\": \"Android\"}, {\"Product_Name\": \"Croma\", \"Stars\": 3.9, \"Ratings\": 0, \"Reviews\": 0, \"Current_price\": 18990, \"Marked_price\": 30000, \"Operating_system\": \"Android\"}, {\"Product_Name\": \"realme\", \"Stars\": 4.3, \"Ratings\": 197035, \"Reviews\": 22679, \"Current_price\": 21999, \"Marked_price\": 31999, \"Operating_system\": \"Android\"}, {\"Product_Name\": \"SONY\", \"Stars\": 4.6, \"Ratings\": 844, \"Reviews\": 174, \"Current_price\": 23990, \"Marked_price\": 34900, \"Operating_system\": \"Android\"}, {\"Product_Name\": \"realme\", \"Stars\": 4.2, \"Ratings\": 7279, \"Reviews\": 982, \"Current_price\": 17999, \"Marked_price\": 23999, \"Operating_system\": \"Android\"}, {\"Product_Name\": \"Adsun\", \"Stars\": 3.8, \"Ratings\": 6742, \"Reviews\": 930, \"Current_price\": 16999, \"Marked_price\": 39999, \"Operating_system\": \"Android\"}, {\"Product_Name\": \"Mi\", \"Stars\": 4.3, \"Ratings\": 40877, \"Reviews\": 3658, \"Current_price\": 40999, \"Marked_price\": 59999, \"Operating_system\": \"Android\"}, {\"Product_Name\": \"SAMSUNG\", \"Stars\": 4.4, \"Ratings\": 7344, \"Reviews\": 883, \"Current_price\": 55490, \"Marked_price\": 80900, \"Operating_system\": \"Tizen\"}, {\"Product_Name\": \"MarQ\", \"Stars\": 4.2, \"Ratings\": 6251, \"Reviews\": 764, \"Current_price\": 6999, \"Marked_price\": 14999, \"Operating_system\": \"Linux\"}, {\"Product_Name\": \"SAMSUNG\", \"Stars\": 4.4, \"Ratings\": 7344, \"Reviews\": 883, \"Current_price\": 35999, \"Marked_price\": 47900, \"Operating_system\": \"Tizen\"}, {\"Product_Name\": \"Mi\", \"Stars\": 4.3, \"Ratings\": 40871, \"Reviews\": 3658, \"Current_price\": 35999, \"Marked_price\": 41999, \"Operating_system\": \"Android\"}, {\"Product_Name\": \"SAMSUNG\", \"Stars\": 4.3, \"Ratings\": 6698, \"Reviews\": 705, \"Current_price\": 49990, \"Marked_price\": 69900, \"Operating_system\": \"Tizen\"}, {\"Product_Name\": \"LG\", \"Stars\": 4.4, \"Ratings\": 7541, \"Reviews\": 658, \"Current_price\": 29999, \"Marked_price\": 40990, \"Operating_system\": \"WebOS\"}, {\"Product_Name\": \"Croma\", \"Stars\": 4.2, \"Ratings\": 1773, \"Reviews\": 217, \"Current_price\": 7990, \"Marked_price\": 20000, \"Operating_system\": \"Android\"}, {\"Product_Name\": \"acer\", \"Stars\": 4.4, \"Ratings\": 5445, \"Reviews\": 897, \"Current_price\": 25999, \"Marked_price\": 34990, \"Operating_system\": \"Android\"}, {\"Product_Name\": \"realme\", \"Stars\": 4.3, \"Ratings\": 25089, \"Reviews\": 2931, \"Current_price\": 29999, \"Marked_price\": 32999, \"Operating_system\": \"Android\"}, {\"Product_Name\": \"SAMSUNG\", \"Stars\": 4.3, \"Ratings\": 7540, \"Reviews\": 798, \"Current_price\": 17490, \"Marked_price\": 20900, \"Operating_system\": \"Tizen\"}, {\"Product_Name\": \"Adsun\", \"Stars\": 3.8, \"Ratings\": 6730, \"Reviews\": 929, \"Current_price\": 8699, \"Marked_price\": 21999, \"Operating_system\": \"Android\"}, {\"Product_Name\": \"Coocaa\", \"Stars\": 4.2, \"Ratings\": 14815, \"Reviews\": 2326, \"Current_price\": 10499, \"Marked_price\": 36990, \"Operating_system\": \"Coolita\"}, {\"Product_Name\": \"realme\", \"Stars\": 4.3, \"Ratings\": 197032, \"Reviews\": 22678, \"Current_price\": 24999, \"Marked_price\": 35999, \"Operating_system\": \"Android\"}, {\"Product_Name\": \"SAMSUNG\", \"Stars\": 4.4, \"Ratings\": 7341, \"Reviews\": 883, \"Current_price\": 35999, \"Marked_price\": 47900, \"Operating_system\": \"Tizen\"}, {\"Product_Name\": \"Croma\", \"Stars\": 4.3, \"Ratings\": 0, \"Reviews\": 0, \"Current_price\": 11990, \"Marked_price\": 25000, \"Operating_system\": \"Android\"}, {\"Product_Name\": \"OnePlus\", \"Stars\": 4.4, \"Ratings\": 8883, \"Reviews\": 989, \"Current_price\": 63990, \"Marked_price\": 69999, \"Operating_system\": \"Android\"}, {\"Product_Name\": \"SAMSUNG\", \"Stars\": 4.4, \"Ratings\": 7341, \"Reviews\": 883, \"Current_price\": 47990, \"Marked_price\": 71400, \"Operating_system\": \"Tizen\"}, {\"Product_Name\": \"TOSHIBA\", \"Stars\": 4.6, \"Ratings\": 0, \"Reviews\": 0, \"Current_price\": 22990, \"Marked_price\": 34990, \"Operating_system\": \"Android\"}, {\"Product_Name\": \"Adsun\", \"Stars\": 3.8, \"Ratings\": 6730, \"Reviews\": 929, \"Current_price\": 8999, \"Marked_price\": 29999, \"Operating_system\": \"Android\"}, {\"Product_Name\": \"Mi\", \"Stars\": 4.4, \"Ratings\": 663035, \"Reviews\": 67204, \"Current_price\": 14999, \"Marked_price\": 19999, \"Operating_system\": \"Android\"}, {\"Product_Name\": \"Sansui\", \"Stars\": 0.0, \"Ratings\": 0, \"Reviews\": 0, \"Current_price\": 10999, \"Marked_price\": 17990, \"Operating_system\": \"Linux\"}, {\"Product_Name\": \"Hisense\", \"Stars\": 4.2, \"Ratings\": 0, \"Reviews\": 0, \"Current_price\": 13990, \"Marked_price\": 24990, \"Operating_system\": \"Android\"}, {\"Product_Name\": \"Croma\", \"Stars\": 3.9, \"Ratings\": 0, \"Reviews\": 0, \"Current_price\": 18990, \"Marked_price\": 30000, \"Operating_system\": \"Android\"}, {\"Product_Name\": \"MOTOROLA\", \"Stars\": 0.0, \"Ratings\": 0, \"Reviews\": 0, \"Current_price\": 54999, \"Marked_price\": 63999, \"Operating_system\": \"Android\"}, {\"Product_Name\": \"InnoQ\", \"Stars\": 4.1, \"Ratings\": 0, \"Reviews\": 0, \"Current_price\": 7690, \"Marked_price\": 21990, \"Operating_system\": \"Linux\"}, {\"Product_Name\": \"SAMSUNG\", \"Stars\": 4.3, \"Ratings\": 6698, \"Reviews\": 705, \"Current_price\": 45990, \"Marked_price\": 68400, \"Operating_system\": \"Tizen\"}, {\"Product_Name\": \"Adsun\", \"Stars\": 3.8, \"Ratings\": 6730, \"Reviews\": 929, \"Current_price\": 16999, \"Marked_price\": 39999, \"Operating_system\": \"Android\"}, {\"Product_Name\": \"Vu\", \"Stars\": 4.2, \"Ratings\": 5635, \"Reviews\": 632, \"Current_price\": 22999, \"Marked_price\": 35000, \"Operating_system\": \"Android\"}, {\"Product_Name\": \"Mi\", \"Stars\": 4.3, \"Ratings\": 5490, \"Reviews\": 400, \"Current_price\": 14999, \"Marked_price\": 19999, \"Operating_system\": \"Android\"}, {\"Product_Name\": \"MOTOROLA\", \"Stars\": 4.4, \"Ratings\": 9687, \"Reviews\": 1532, \"Current_price\": 22499, \"Marked_price\": 30000, \"Operating_system\": \"Android\"}, {\"Product_Name\": \"Croma\", \"Stars\": 4.2, \"Ratings\": 1773, \"Reviews\": 217, \"Current_price\": 7990, \"Marked_price\": 20000, \"Operating_system\": \"Android\"}, {\"Product_Name\": \"Thomson\", \"Stars\": 4.1, \"Ratings\": 54251, \"Reviews\": 7937, \"Current_price\": 9999, \"Marked_price\": 14990, \"Operating_system\": \"Linux\"}, {\"Product_Name\": \"Coocaa\", \"Stars\": 4.3, \"Ratings\": 2662, \"Reviews\": 600, \"Current_price\": 32999, \"Marked_price\": 73990, \"Operating_system\": \"Android\"}, {\"Product_Name\": \"Coocaa\", \"Stars\": 4.4, \"Ratings\": 0, \"Reviews\": 0, \"Current_price\": 11999, \"Marked_price\": 25999, \"Operating_system\": \"Android\"}, {\"Product_Name\": \"Adsun\", \"Stars\": 3.8, \"Ratings\": 6742, \"Reviews\": 930, \"Current_price\": 8699, \"Marked_price\": 21999, \"Operating_system\": \"Android\"}, {\"Product_Name\": \"Thomson\", \"Stars\": 4.6, \"Ratings\": 2427, \"Reviews\": 585, \"Current_price\": 37999, \"Marked_price\": 54999, \"Operating_system\": \"Android\"}, {\"Product_Name\": \"Mi\", \"Stars\": 4.3, \"Ratings\": 40877, \"Reviews\": 3658, \"Current_price\": 42999, \"Marked_price\": 49999, \"Operating_system\": \"Android\"}, {\"Product_Name\": \"Thomson\", \"Stars\": 4.1, \"Ratings\": 54251, \"Reviews\": 7937, \"Current_price\": 7999, \"Marked_price\": 10499, \"Operating_system\": \"Linux\"}, {\"Product_Name\": \"Adsun\", \"Stars\": 3.8, \"Ratings\": 6742, \"Reviews\": 930, \"Current_price\": 8999, \"Marked_price\": 29999, \"Operating_system\": \"Android\"}, {\"Product_Name\": \"Nokia\", \"Stars\": 4.3, \"Ratings\": 23271, \"Reviews\": 3975, \"Current_price\": 49999, \"Marked_price\": 59999, \"Operating_system\": \"Android\"}, {\"Product_Name\": \"Hisense\", \"Stars\": 4.4, \"Ratings\": 0, \"Reviews\": 0, \"Current_price\": 31999, \"Marked_price\": 54990, \"Operating_system\": \"Android\"}, {\"Product_Name\": \"Hyundai\", \"Stars\": 4.2, \"Ratings\": 0, \"Reviews\": 0, \"Current_price\": 11999, \"Marked_price\": 22990, \"Operating_system\": \"Android\"}, {\"Product_Name\": \"Croma\", \"Stars\": 3.9, \"Ratings\": 0, \"Reviews\": 0, \"Current_price\": 18990, \"Marked_price\": 30000, \"Operating_system\": \"Android\"}, {\"Product_Name\": \"Thomson\", \"Stars\": 4.4, \"Ratings\": 22032, \"Reviews\": 5954, \"Current_price\": 32999, \"Marked_price\": 40999, \"Operating_system\": \"Android\"}, {\"Product_Name\": \"KODAK\", \"Stars\": 4.1, \"Ratings\": 14221, \"Reviews\": 2269, \"Current_price\": 8990, \"Marked_price\": 15999, \"Operating_system\": \"Linux\"}, {\"Product_Name\": \"Nokia\", \"Stars\": 4.3, \"Ratings\": 11336, \"Reviews\": 1966, \"Current_price\": 33999, \"Marked_price\": 45999, \"Operating_system\": \"Android\"}, {\"Product_Name\": \"Adsun\", \"Stars\": 3.8, \"Ratings\": 6742, \"Reviews\": 930, \"Current_price\": 16999, \"Marked_price\": 39999, \"Operating_system\": \"Android\"}, {\"Product_Name\": \"Croma\", \"Stars\": 4.2, \"Ratings\": 0, \"Reviews\": 0, \"Current_price\": 11990, \"Marked_price\": 25000, \"Operating_system\": \"Android\"}, {\"Product_Name\": \"Blaupunkt\", \"Stars\": 4.4, \"Ratings\": 6977, \"Reviews\": 1601, \"Current_price\": 15999, \"Marked_price\": 23999, \"Operating_system\": \"Android\"}, {\"Product_Name\": \"SONY\", \"Stars\": 4.7, \"Ratings\": 621, \"Reviews\": 131, \"Current_price\": 46999, \"Marked_price\": 66900, \"Operating_system\": \"Android\"}, {\"Product_Name\": \"SAMSUNG\", \"Stars\": 4.4, \"Ratings\": 7344, \"Reviews\": 883, \"Current_price\": 35999, \"Marked_price\": 47900, \"Operating_system\": \"Tizen\"}, {\"Product_Name\": \"Sansui\", \"Stars\": 4.2, \"Ratings\": 0, \"Reviews\": 0, \"Current_price\": 13999, \"Marked_price\": 20990, \"Operating_system\": \"Android\"}, {\"Product_Name\": \"LG\", \"Stars\": 4.4, \"Ratings\": 0, \"Reviews\": 0, \"Current_price\": 59999, \"Marked_price\": 109990, \"Operating_system\": \"WebOS\"}, {\"Product_Name\": \"LG\", \"Stars\": 4.5, \"Ratings\": 801, \"Reviews\": 121, \"Current_price\": 39999, \"Marked_price\": 59990, \"Operating_system\": \"WebOS\"}, {\"Product_Name\": \"Croma\", \"Stars\": 4.2, \"Ratings\": 1773, \"Reviews\": 217, \"Current_price\": 7990, \"Marked_price\": 20000, \"Operating_system\": \"Android\"}, {\"Product_Name\": \"MOTOROLA\", \"Stars\": 4.4, \"Ratings\": 0, \"Reviews\": 0, \"Current_price\": 28999, \"Marked_price\": 39000, \"Operating_system\": \"Android\"}, {\"Product_Name\": \"Yuwa\", \"Stars\": 1.8, \"Ratings\": 0, \"Reviews\": 0, \"Current_price\": 8449, \"Marked_price\": 20999, \"Operating_system\": \"Android\"}, {\"Product_Name\": \"Coocaa\", \"Stars\": 4.4, \"Ratings\": 0, \"Reviews\": 0, \"Current_price\": 20999, \"Marked_price\": 35999, \"Operating_system\": \"Android\"}, {\"Product_Name\": \"Adsun\", \"Stars\": 3.8, \"Ratings\": 6742, \"Reviews\": 930, \"Current_price\": 8699, \"Marked_price\": 21999, \"Operating_system\": \"Android\"}, {\"Product_Name\": \"Thomson\", \"Stars\": 4.4, \"Ratings\": 4207, \"Reviews\": 868, \"Current_price\": 33999, \"Marked_price\": 46999, \"Operating_system\": \"Android\"}, {\"Product_Name\": \"SONY\", \"Stars\": 4.6, \"Ratings\": 838, \"Reviews\": 147, \"Current_price\": 35999, \"Marked_price\": 44900, \"Operating_system\": \"Linux\"}, {\"Product_Name\": \"Croma\", \"Stars\": 4.2, \"Ratings\": 0, \"Reviews\": 0, \"Current_price\": 6990, \"Marked_price\": 15000, \"Operating_system\": \"Linux\"}, {\"Product_Name\": \"Croma\", \"Stars\": 4.2, \"Ratings\": 0, \"Reviews\": 0, \"Current_price\": 11990, \"Marked_price\": 25000, \"Operating_system\": \"Android\"}, {\"Product_Name\": \"KODAK\", \"Stars\": 4.4, \"Ratings\": 31763, \"Reviews\": 7301, \"Current_price\": 17999, \"Marked_price\": 20999, \"Operating_system\": \"Android\"}, {\"Product_Name\": \"Dyanora\", \"Stars\": 4.1, \"Ratings\": 0, \"Reviews\": 0, \"Current_price\": 6399, \"Marked_price\": 10999, \"Operating_system\": \"Linux\"}, {\"Product_Name\": \"HUIDI\", \"Stars\": 4.0, \"Ratings\": 4864, \"Reviews\": 558, \"Current_price\": 9299, \"Marked_price\": 15599, \"Operating_system\": \"Android\"}, {\"Product_Name\": \"Adsun\", \"Stars\": 3.8, \"Ratings\": 6742, \"Reviews\": 930, \"Current_price\": 8999, \"Marked_price\": 29999, \"Operating_system\": \"Android\"}, {\"Product_Name\": \"SONY\", \"Stars\": 4.8, \"Ratings\": 0, \"Reviews\": 0, \"Current_price\": 72990, \"Marked_price\": 109900, \"Operating_system\": \"Google TV\"}, {\"Product_Name\": \"Blaupunkt\", \"Stars\": 4.6, \"Ratings\": 3380, \"Reviews\": 928, \"Current_price\": 28999, \"Marked_price\": 41999, \"Operating_system\": \"Android\"}, {\"Product_Name\": \"KODAK\", \"Stars\": 4.4, \"Ratings\": 31763, \"Reviews\": 7301, \"Current_price\": 20499, \"Marked_price\": 27999, \"Operating_system\": \"Android\"}, {\"Product_Name\": \"Croma\", \"Stars\": 3.9, \"Ratings\": 0, \"Reviews\": 0, \"Current_price\": 18990, \"Marked_price\": 30000, \"Operating_system\": \"Android\"}, {\"Product_Name\": \"SAMSUNG\", \"Stars\": 4.3, \"Ratings\": 6717, \"Reviews\": 707, \"Current_price\": 81990, \"Marked_price\": 116900, \"Operating_system\": \"Tizen\"}, {\"Product_Name\": \"Hyundai\", \"Stars\": 4.8, \"Ratings\": 0, \"Reviews\": 0, \"Current_price\": 13999, \"Marked_price\": 26990, \"Operating_system\": \"WebOS\"}, {\"Product_Name\": \"Hisense\", \"Stars\": 4.3, \"Ratings\": 913, \"Reviews\": 147, \"Current_price\": 27990, \"Marked_price\": 36990, \"Operating_system\": \"Android\"}, {\"Product_Name\": \"Adsun\", \"Stars\": 3.8, \"Ratings\": 6742, \"Reviews\": 930, \"Current_price\": 16999, \"Marked_price\": 39999, \"Operating_system\": \"Android\"}, {\"Product_Name\": \"SAMSUNG\", \"Stars\": 4.6, \"Ratings\": 0, \"Reviews\": 0, \"Current_price\": 75999, \"Marked_price\": 134900, \"Operating_system\": \"Tizen\"}, {\"Product_Name\": \"ONIDA\", \"Stars\": 4.4, \"Ratings\": 591, \"Reviews\": 102, \"Current_price\": 26999, \"Marked_price\": 41990, \"Operating_system\": \"VIDAA\"}, {\"Product_Name\": \"SONY\", \"Stars\": 4.8, \"Ratings\": 0, \"Reviews\": 0, \"Current_price\": 72990, \"Marked_price\": 109900, \"Operating_system\": \"Google TV\"}, {\"Product_Name\": \"Croma\", \"Stars\": 4.2, \"Ratings\": 1773, \"Reviews\": 217, \"Current_price\": 7990, \"Marked_price\": 20000, \"Operating_system\": \"Android\"}, {\"Product_Name\": \"Hyundai\", \"Stars\": 4.2, \"Ratings\": 0, \"Reviews\": 0, \"Current_price\": 11999, \"Marked_price\": 22990, \"Operating_system\": \"Android\"}, {\"Product_Name\": \"iFFALCON\", \"Stars\": 4.3, \"Ratings\": 18688, \"Reviews\": 2568, \"Current_price\": 49990, \"Marked_price\": 106990, \"Operating_system\": \"Android\"}, {\"Product_Name\": \"KODAK\", \"Stars\": 4.6, \"Ratings\": 597, \"Reviews\": 160, \"Current_price\": 32999, \"Marked_price\": 46499, \"Operating_system\": \"Android\"}, {\"Product_Name\": \"Adsun\", \"Stars\": 3.8, \"Ratings\": 6742, \"Reviews\": 930, \"Current_price\": 8699, \"Marked_price\": 21999, \"Operating_system\": \"Android\"}, {\"Product_Name\": \"InnoQ\", \"Stars\": 4.1, \"Ratings\": 0, \"Reviews\": 0, \"Current_price\": 6190, \"Marked_price\": 17990, \"Operating_system\": \"Linux\"}, {\"Product_Name\": \"SONY\", \"Stars\": 4.6, \"Ratings\": 4341, \"Reviews\": 738, \"Current_price\": 23999, \"Marked_price\": 29900, \"Operating_system\": \"Linux\"}, {\"Product_Name\": \"Nokia\", \"Stars\": 4.3, \"Ratings\": 23271, \"Reviews\": 3975, \"Current_price\": 15499, \"Marked_price\": 20000, \"Operating_system\": \"Android\"}, {\"Product_Name\": \"Croma\", \"Stars\": 4.2, \"Ratings\": 0, \"Reviews\": 0, \"Current_price\": 11990, \"Marked_price\": 25000, \"Operating_system\": \"Android\"}, {\"Product_Name\": \"MOTOROLA\", \"Stars\": 4.4, \"Ratings\": 9687, \"Reviews\": 1532, \"Current_price\": 26999, \"Marked_price\": 39999, \"Operating_system\": \"Android\"}, {\"Product_Name\": \"Candes\", \"Stars\": 4.1, \"Ratings\": 0, \"Reviews\": 0, \"Current_price\": 8299, \"Marked_price\": 22690, \"Operating_system\": \"Android\"}, {\"Product_Name\": \"Croma\", \"Stars\": 0.0, \"Ratings\": 0, \"Reviews\": 0, \"Current_price\": 21990, \"Marked_price\": 40000, \"Operating_system\": \"Android\"}, {\"Product_Name\": \"Adsun\", \"Stars\": 3.8, \"Ratings\": 6742, \"Reviews\": 930, \"Current_price\": 8999, \"Marked_price\": 29999, \"Operating_system\": \"Android\"}, {\"Product_Name\": \"TCL\", \"Stars\": 4.3, \"Ratings\": 0, \"Reviews\": 0, \"Current_price\": 31990, \"Marked_price\": 59990, \"Operating_system\": \"Android\"}, {\"Product_Name\": \"iFFALCON\", \"Stars\": 4.3, \"Ratings\": 18688, \"Reviews\": 2568, \"Current_price\": 30999, \"Marked_price\": 58990, \"Operating_system\": \"Android\"}, {\"Product_Name\": \"Thomson\", \"Stars\": 4.6, \"Ratings\": 2427, \"Reviews\": 585, \"Current_price\": 33999, \"Marked_price\": 46999, \"Operating_system\": \"Android\"}, {\"Product_Name\": \"Croma\", \"Stars\": 3.9, \"Ratings\": 0, \"Reviews\": 0, \"Current_price\": 18990, \"Marked_price\": 30000, \"Operating_system\": \"Android\"}, {\"Product_Name\": \"Sansui\", \"Stars\": 4.1, \"Ratings\": 0, \"Reviews\": 0, \"Current_price\": 26999, \"Marked_price\": 35390, \"Operating_system\": \"Android\"}, {\"Product_Name\": \"TCL\", \"Stars\": 4.3, \"Ratings\": 0, \"Reviews\": 0, \"Current_price\": 15990, \"Marked_price\": 29990, \"Operating_system\": \"Android\"}, {\"Product_Name\": \"Nokia\", \"Stars\": 4.3, \"Ratings\": 11336, \"Reviews\": 1966, \"Current_price\": 37999, \"Marked_price\": 54999, \"Operating_system\": \"Android\"}, {\"Product_Name\": \"Adsun\", \"Stars\": 3.8, \"Ratings\": 6742, \"Reviews\": 930, \"Current_price\": 16999, \"Marked_price\": 39999, \"Operating_system\": \"Android\"}, {\"Product_Name\": \"Nokia\", \"Stars\": 4.3, \"Ratings\": 23243, \"Reviews\": 3975, \"Current_price\": 32999, \"Marked_price\": 45999, \"Operating_system\": \"Android\"}, {\"Product_Name\": \"MOTOROLA\", \"Stars\": 4.3, \"Ratings\": 20879, \"Reviews\": 3410, \"Current_price\": 45999, \"Marked_price\": 60999, \"Operating_system\": \"Android\"}, {\"Product_Name\": \"Mi\", \"Stars\": 4.3, \"Ratings\": 34983, \"Reviews\": 3067, \"Current_price\": 26999, \"Marked_price\": 31999, \"Operating_system\": \"Android\"}, {\"Product_Name\": \"Croma\", \"Stars\": 4.2, \"Ratings\": 1773, \"Reviews\": 217, \"Current_price\": 7990, \"Marked_price\": 20000, \"Operating_system\": \"Android\"}, {\"Product_Name\": \"SAMSUNG\", \"Stars\": 4.4, \"Ratings\": 4261, \"Reviews\": 460, \"Current_price\": 29990, \"Marked_price\": 38900, \"Operating_system\": \"Tizen\"}, {\"Product_Name\": \"Thomson\", \"Stars\": 4.4, \"Ratings\": 22022, \"Reviews\": 5952, \"Current_price\": 36999, \"Marked_price\": 49999, \"Operating_system\": \"Android\"}, {\"Product_Name\": \"Mi\", \"Stars\": 4.4, \"Ratings\": 4600, \"Reviews\": 619, \"Current_price\": 59999, \"Marked_price\": 59999, \"Operating_system\": \"Android\"}, {\"Product_Name\": \"Adsun\", \"Stars\": 3.8, \"Ratings\": 6730, \"Reviews\": 929, \"Current_price\": 8699, \"Marked_price\": 21999, \"Operating_system\": \"Android\"}, {\"Product_Name\": \"Nokia\", \"Stars\": 4.3, \"Ratings\": 2900, \"Reviews\": 500, \"Current_price\": 33999, \"Marked_price\": 48999, \"Operating_system\": \"Android\"}, {\"Product_Name\": \"Dyanora\", \"Stars\": 0.0, \"Ratings\": 0, \"Reviews\": 0, \"Current_price\": 7299, \"Marked_price\": 12499, \"Operating_system\": \"Android\"}, {\"Product_Name\": \"SAMSUNG\", \"Stars\": 0.0, \"Ratings\": 0, \"Reviews\": 0, \"Current_price\": 15230, \"Marked_price\": 16400, \"Operating_system\": \"Linux\"}, {\"Product_Name\": \"Croma\", \"Stars\": 4.3, \"Ratings\": 0, \"Reviews\": 0, \"Current_price\": 11990, \"Marked_price\": 25000, \"Operating_system\": \"Android\"}, {\"Product_Name\": \"Blaupunkt\", \"Stars\": 4.6, \"Ratings\": 3381, \"Reviews\": 929, \"Current_price\": 39999, \"Marked_price\": 55999, \"Operating_system\": \"Android\"}, {\"Product_Name\": \"Vu\", \"Stars\": 4.4, \"Ratings\": 31993, \"Reviews\": 4975, \"Current_price\": 54999, \"Marked_price\": 75000, \"Operating_system\": \"Android\"}, {\"Product_Name\": \"Hyundai\", \"Stars\": 4.4, \"Ratings\": 0, \"Reviews\": 0, \"Current_price\": 11990, \"Marked_price\": 18990, \"Operating_system\": \"Linux\"}, {\"Product_Name\": \"Adsun\", \"Stars\": 3.8, \"Ratings\": 6730, \"Reviews\": 929, \"Current_price\": 8999, \"Marked_price\": 29999, \"Operating_system\": \"Android\"}, {\"Product_Name\": \"TCL\", \"Stars\": 0.0, \"Ratings\": 0, \"Reviews\": 0, \"Current_price\": 15990, \"Marked_price\": 29990, \"Operating_system\": \"Android\"}, {\"Product_Name\": \"Adsun\", \"Stars\": 3.8, \"Ratings\": 6730, \"Reviews\": 929, \"Current_price\": 6199, \"Marked_price\": 12999, \"Operating_system\": \"Linux\"}, {\"Product_Name\": \"PHILIPS\", \"Stars\": 4.1, \"Ratings\": 0, \"Reviews\": 0, \"Current_price\": 43999, \"Marked_price\": 89990, \"Operating_system\": \"Linux\"}, {\"Product_Name\": \"Croma\", \"Stars\": 3.9, \"Ratings\": 0, \"Reviews\": 0, \"Current_price\": 18990, \"Marked_price\": 30000, \"Operating_system\": \"Android\"}, {\"Product_Name\": \"SONY\", \"Stars\": 4.7, \"Ratings\": 0, \"Reviews\": 0, \"Current_price\": 97900, \"Marked_price\": 179900, \"Operating_system\": \"Google TV\"}, {\"Product_Name\": \"TCL\", \"Stars\": 0.0, \"Ratings\": 0, \"Reviews\": 0, \"Current_price\": 41349, \"Marked_price\": 75990, \"Operating_system\": \"Android\"}, {\"Product_Name\": \"Vu\", \"Stars\": 4.4, \"Ratings\": 31993, \"Reviews\": 4975, \"Current_price\": 36999, \"Marked_price\": 75000, \"Operating_system\": \"Android\"}, {\"Product_Name\": \"Adsun\", \"Stars\": 3.8, \"Ratings\": 6730, \"Reviews\": 929, \"Current_price\": 16999, \"Marked_price\": 39999, \"Operating_system\": \"Android\"}, {\"Product_Name\": \"iFFALCON\", \"Stars\": 4.3, \"Ratings\": 18688, \"Reviews\": 2568, \"Current_price\": 49990, \"Marked_price\": 106990, \"Operating_system\": \"Android\"}, {\"Product_Name\": \"TOSHIBA\", \"Stars\": 4.3, \"Ratings\": 1090, \"Reviews\": 164, \"Current_price\": 33999, \"Marked_price\": 46990, \"Operating_system\": \"VIDAA\"}, {\"Product_Name\": \"MOTOROLA\", \"Stars\": 4.3, \"Ratings\": 796, \"Reviews\": 148, \"Current_price\": 49999, \"Marked_price\": 59999, \"Operating_system\": \"Android\"}, {\"Product_Name\": \"Croma\", \"Stars\": 4.2, \"Ratings\": 1773, \"Reviews\": 217, \"Current_price\": 7990, \"Marked_price\": 20000, \"Operating_system\": \"Android\"}, {\"Product_Name\": \"Thomson\", \"Stars\": 4.3, \"Ratings\": 6421, \"Reviews\": 1797, \"Current_price\": 34999, \"Marked_price\": 46999, \"Operating_system\": \"Android\"}, {\"Product_Name\": \"realme\", \"Stars\": 4.3, \"Ratings\": 2104, \"Reviews\": 291, \"Current_price\": 48999, \"Marked_price\": 69999, \"Operating_system\": \"Android\"}, {\"Product_Name\": \"MOTOROLA\", \"Stars\": 4.4, \"Ratings\": 9687, \"Reviews\": 1532, \"Current_price\": 14999, \"Marked_price\": 20000, \"Operating_system\": \"Android\"}, {\"Product_Name\": \"Adsun\", \"Stars\": 3.8, \"Ratings\": 6742, \"Reviews\": 930, \"Current_price\": 8699, \"Marked_price\": 21999, \"Operating_system\": \"Android\"}, {\"Product_Name\": \"MOTOROLA\", \"Stars\": 4.4, \"Ratings\": 0, \"Reviews\": 0, \"Current_price\": 41999, \"Marked_price\": 72000, \"Operating_system\": \"Android\"}, {\"Product_Name\": \"MOTOROLA\", \"Stars\": 4.3, \"Ratings\": 20879, \"Reviews\": 3410, \"Current_price\": 45999, \"Marked_price\": 61999, \"Operating_system\": \"Android\"}, {\"Product_Name\": \"Hyundai\", \"Stars\": 4.9, \"Ratings\": 0, \"Reviews\": 0, \"Current_price\": 13499, \"Marked_price\": 23990, \"Operating_system\": \"Android\"}, {\"Product_Name\": \"Croma\", \"Stars\": 4.2, \"Ratings\": 0, \"Reviews\": 0, \"Current_price\": 11990, \"Marked_price\": 25000, \"Operating_system\": \"Android\"}, {\"Product_Name\": \"MOTOROLA\", \"Stars\": 4.4, \"Ratings\": 9687, \"Reviews\": 1532, \"Current_price\": 19999, \"Marked_price\": 29999, \"Operating_system\": \"Android\"}, {\"Product_Name\": \"MOTOROLA\", \"Stars\": 4.5, \"Ratings\": 0, \"Reviews\": 0, \"Current_price\": 25499, \"Marked_price\": 33000, \"Operating_system\": \"Android\"}, {\"Product_Name\": \"Vu\", \"Stars\": 4.3, \"Ratings\": 34845, \"Reviews\": 4762, \"Current_price\": 23999, \"Marked_price\": 40000, \"Operating_system\": \"Android\"}, {\"Product_Name\": \"Adsun\", \"Stars\": 3.8, \"Ratings\": 6742, \"Reviews\": 930, \"Current_price\": 8999, \"Marked_price\": 29999, \"Operating_system\": \"Android\"}, {\"Product_Name\": \"MOTOROLA\", \"Stars\": 4.4, \"Ratings\": 9687, \"Reviews\": 1532, \"Current_price\": 62999, \"Marked_price\": 79999, \"Operating_system\": \"Android\"}, {\"Product_Name\": \"Yuwa\", \"Stars\": 3.5, \"Ratings\": 0, \"Reviews\": 0, \"Current_price\": 5999, \"Marked_price\": 10192, \"Operating_system\": \"Linux\"}, {\"Product_Name\": \"Blaupunkt\", \"Stars\": 4.6, \"Ratings\": 3380, \"Reviews\": 928, \"Current_price\": 35999, \"Marked_price\": 47999, \"Operating_system\": \"Android\"}, {\"Product_Name\": \"Croma\", \"Stars\": 3.9, \"Ratings\": 0, \"Reviews\": 0, \"Current_price\": 18990, \"Marked_price\": 30000, \"Operating_system\": \"Android\"}, {\"Product_Name\": \"KODAK\", \"Stars\": 4.5, \"Ratings\": 17462, \"Reviews\": 5306, \"Current_price\": 31999, \"Marked_price\": 42999, \"Operating_system\": \"Android\"}, {\"Product_Name\": \"LG\", \"Stars\": 4.4, \"Ratings\": 5830, \"Reviews\": 698, \"Current_price\": 44990, \"Marked_price\": 64990, \"Operating_system\": \"WebOS\"}, {\"Product_Name\": \"Thomson\", \"Stars\": 4.3, \"Ratings\": 6421, \"Reviews\": 1797, \"Current_price\": 23999, \"Marked_price\": 29999, \"Operating_system\": \"Android\"}, {\"Product_Name\": \"Adsun\", \"Stars\": 3.8, \"Ratings\": 6742, \"Reviews\": 930, \"Current_price\": 16999, \"Marked_price\": 39999, \"Operating_system\": \"Android\"}, {\"Product_Name\": \"Nokia\", \"Stars\": 4.3, \"Ratings\": 11336, \"Reviews\": 1966, \"Current_price\": 42999, \"Marked_price\": 70000, \"Operating_system\": \"Android\"}, {\"Product_Name\": \"Blaupunkt\", \"Stars\": 4.4, \"Ratings\": 6977, \"Reviews\": 1601, \"Current_price\": 13499, \"Marked_price\": 19499, \"Operating_system\": \"Android\"}, {\"Product_Name\": \"ONIDA\", \"Stars\": 4.4, \"Ratings\": 591, \"Reviews\": 102, \"Current_price\": 13999, \"Marked_price\": 23490, \"Operating_system\": \"VIDAA\"}, {\"Product_Name\": \"Croma\", \"Stars\": 4.2, \"Ratings\": 1773, \"Reviews\": 217, \"Current_price\": 7990, \"Marked_price\": 20000, \"Operating_system\": \"Android\"}, {\"Product_Name\": \"KODAK\", \"Stars\": 4.3, \"Ratings\": 3192, \"Reviews\": 770, \"Current_price\": 32999, \"Marked_price\": 39990, \"Operating_system\": \"Android\"}, {\"Product_Name\": \"CORNEA\", \"Stars\": 0.0, \"Ratings\": 0, \"Reviews\": 0, \"Current_price\": 10999, \"Marked_price\": 19999, \"Operating_system\": \"Android\"}, {\"Product_Name\": \"Xiaomi\", \"Stars\": 4.7, \"Ratings\": 0, \"Reviews\": 0, \"Current_price\": 89999, \"Marked_price\": 199999, \"Operating_system\": \"Android\"}, {\"Product_Name\": \"Adsun\", \"Stars\": 3.8, \"Ratings\": 6742, \"Reviews\": 930, \"Current_price\": 8699, \"Marked_price\": 21999, \"Operating_system\": \"Android\"}, {\"Product_Name\": \"LG\", \"Stars\": 4.4, \"Ratings\": 0, \"Reviews\": 0, \"Current_price\": 39990, \"Marked_price\": 59990, \"Operating_system\": \"WebOS\"}, {\"Product_Name\": \"Vu\", \"Stars\": 4.3, \"Ratings\": 0, \"Reviews\": 0, \"Current_price\": 35999, \"Marked_price\": 60000, \"Operating_system\": \"Android\"}, {\"Product_Name\": \"acer\", \"Stars\": 4.4, \"Ratings\": 1722, \"Reviews\": 265, \"Current_price\": 13999, \"Marked_price\": 19990, \"Operating_system\": \"Android\"}, {\"Product_Name\": \"Croma\", \"Stars\": 4.2, \"Ratings\": 0, \"Reviews\": 0, \"Current_price\": 11990, \"Marked_price\": 25000, \"Operating_system\": \"Android\"}, {\"Product_Name\": \"TCL\", \"Stars\": 4.4, \"Ratings\": 0, \"Reviews\": 0, \"Current_price\": 34990, \"Marked_price\": 62990, \"Operating_system\": \"Linux\"}, {\"Product_Name\": \"LG\", \"Stars\": 4.5, \"Ratings\": 799, \"Reviews\": 121, \"Current_price\": 55990, \"Marked_price\": 89990, \"Operating_system\": \"WebOS\"}, {\"Product_Name\": \"TCL\", \"Stars\": 4.9, \"Ratings\": 0, \"Reviews\": 0, \"Current_price\": 36990, \"Marked_price\": 50990, \"Operating_system\": \"Android\"}, {\"Product_Name\": \"Adsun\", \"Stars\": 3.8, \"Ratings\": 6742, \"Reviews\": 930, \"Current_price\": 8999, \"Marked_price\": 29999, \"Operating_system\": \"Android\"}, {\"Product_Name\": \"Coocaa\", \"Stars\": 4.2, \"Ratings\": 14827, \"Reviews\": 2328, \"Current_price\": 39999, \"Marked_price\": 39999, \"Operating_system\": \"Coolita\"}, {\"Product_Name\": \"Nokia\", \"Stars\": 4.3, \"Ratings\": 23271, \"Reviews\": 3975, \"Current_price\": 22999, \"Marked_price\": 29000, \"Operating_system\": \"Android\"}, {\"Product_Name\": \"TCL\", \"Stars\": 4.7, \"Ratings\": 0, \"Reviews\": 0, \"Current_price\": 25390, \"Marked_price\": 47990, \"Operating_system\": \"Android\"}, {\"Product_Name\": \"Croma\", \"Stars\": 3.9, \"Ratings\": 0, \"Reviews\": 0, \"Current_price\": 18990, \"Marked_price\": 30000, \"Operating_system\": \"Android\"}, {\"Product_Name\": \"Sansui\", \"Stars\": 0.0, \"Ratings\": 0, \"Reviews\": 0, \"Current_price\": 13479, \"Marked_price\": 19990, \"Operating_system\": \"Android\"}, {\"Product_Name\": \"Blaupunkt\", \"Stars\": 4.6, \"Ratings\": 3380, \"Reviews\": 928, \"Current_price\": 55999, \"Marked_price\": 75999, \"Operating_system\": \"Android\"}, {\"Product_Name\": \"ONIDA\", \"Stars\": 4.4, \"Ratings\": 591, \"Reviews\": 102, \"Current_price\": 35999, \"Marked_price\": 68990, \"Operating_system\": \"VIDAA\"}, {\"Product_Name\": \"Adsun\", \"Stars\": 3.8, \"Ratings\": 6742, \"Reviews\": 930, \"Current_price\": 16999, \"Marked_price\": 39999, \"Operating_system\": \"Android\"}, {\"Product_Name\": \"Nokia\", \"Stars\": 4.3, \"Ratings\": 11336, \"Reviews\": 1966, \"Current_price\": 36999, \"Marked_price\": 50000, \"Operating_system\": \"Android\"}, {\"Product_Name\": \"SAMSUNG\", \"Stars\": 4.2, \"Ratings\": 1035, \"Reviews\": 144, \"Current_price\": 69990, \"Marked_price\": 119900, \"Operating_system\": \"Tizen\"}, {\"Product_Name\": \"SONY\", \"Stars\": 0.0, \"Ratings\": 0, \"Reviews\": 0, \"Current_price\": 70990, \"Marked_price\": 99900, \"Operating_system\": \"Google TV\"}, {\"Product_Name\": \"Croma\", \"Stars\": 4.2, \"Ratings\": 1773, \"Reviews\": 217, \"Current_price\": 7990, \"Marked_price\": 20000, \"Operating_system\": \"Android\"}, {\"Product_Name\": \"KODAK\", \"Stars\": 4.5, \"Ratings\": 17462, \"Reviews\": 5306, \"Current_price\": 54999, \"Marked_price\": 69999, \"Operating_system\": \"Android\"}, {\"Product_Name\": \"realme\", \"Stars\": 4.3, \"Ratings\": 25107, \"Reviews\": 2932, \"Current_price\": 41999, \"Marked_price\": 42999, \"Operating_system\": \"Android\"}, {\"Product_Name\": \"Nokia\", \"Stars\": 4.3, \"Ratings\": 23271, \"Reviews\": 3975, \"Current_price\": 42999, \"Marked_price\": 54990, \"Operating_system\": \"Android\"}, {\"Product_Name\": \"Adsun\", \"Stars\": 3.8, \"Ratings\": 6742, \"Reviews\": 930, \"Current_price\": 8699, \"Marked_price\": 21999, \"Operating_system\": \"Android\"}, {\"Product_Name\": \"Yuwa\", \"Stars\": 0.0, \"Ratings\": 0, \"Reviews\": 0, \"Current_price\": 30499, \"Marked_price\": 47448, \"Operating_system\": \"Android\"}, {\"Product_Name\": \"SAMSUNG\", \"Stars\": 4.2, \"Ratings\": 1035, \"Reviews\": 144, \"Current_price\": 82990, \"Marked_price\": 144900, \"Operating_system\": \"Tizen\"}, {\"Product_Name\": \"Compaq\", \"Stars\": 4.4, \"Ratings\": 0, \"Reviews\": 0, \"Current_price\": 14499, \"Marked_price\": 21999, \"Operating_system\": \"Android\"}, {\"Product_Name\": \"Croma\", \"Stars\": 4.2, \"Ratings\": 0, \"Reviews\": 0, \"Current_price\": 11990, \"Marked_price\": 25000, \"Operating_system\": \"Android\"}, {\"Product_Name\": \"SAMSUNG\", \"Stars\": 4.3, \"Ratings\": 0, \"Reviews\": 0, \"Current_price\": 19590, \"Marked_price\": 26490, \"Operating_system\": \"Tizen\"}, {\"Product_Name\": \"Infinix\", \"Stars\": 4.2, \"Ratings\": 14818, \"Reviews\": 2281, \"Current_price\": 15999, \"Marked_price\": 17999, \"Operating_system\": \"Android\"}, {\"Product_Name\": \"Hisense\", \"Stars\": 4.3, \"Ratings\": 0, \"Reviews\": 0, \"Current_price\": 77990, \"Marked_price\": 119990, \"Operating_system\": \"Android\"}, {\"Product_Name\": \"Adsun\", \"Stars\": 3.8, \"Ratings\": 6742, \"Reviews\": 930, \"Current_price\": 8999, \"Marked_price\": 29999, \"Operating_system\": \"Android\"}, {\"Product_Name\": \"Thomson\", \"Stars\": 4.3, \"Ratings\": 8779, \"Reviews\": 2004, \"Current_price\": 21999, \"Marked_price\": 29999, \"Operating_system\": \"Android\"}, {\"Product_Name\": \"Infinix\", \"Stars\": 4.2, \"Ratings\": 14818, \"Reviews\": 2281, \"Current_price\": 24999, \"Marked_price\": 24999, \"Operating_system\": \"Android\"}, {\"Product_Name\": \"iFFALCON\", \"Stars\": 4.2, \"Ratings\": 1198, \"Reviews\": 115, \"Current_price\": 11999, \"Marked_price\": 18990, \"Operating_system\": \"Linux\"}, {\"Product_Name\": \"Croma\", \"Stars\": 3.9, \"Ratings\": 0, \"Reviews\": 0, \"Current_price\": 18990, \"Marked_price\": 30000, \"Operating_system\": \"Android\"}, {\"Product_Name\": \"KODAK\", \"Stars\": 4.5, \"Ratings\": 17462, \"Reviews\": 5306, \"Current_price\": 25999, \"Marked_price\": 37999, \"Operating_system\": \"Android\"}, {\"Product_Name\": \"Nokia\", \"Stars\": 4.3, \"Ratings\": 2900, \"Reviews\": 500, \"Current_price\": 42999, \"Marked_price\": 59999, \"Operating_system\": \"Android\"}, {\"Product_Name\": \"LG\", \"Stars\": 4.4, \"Ratings\": 5830, \"Reviews\": 698, \"Current_price\": 74990, \"Marked_price\": 119990, \"Operating_system\": \"WebOS\"}, {\"Product_Name\": \"Adsun\", \"Stars\": 3.8, \"Ratings\": 6742, \"Reviews\": 930, \"Current_price\": 16999, \"Marked_price\": 39999, \"Operating_system\": \"Android\"}, {\"Product_Name\": \"TCL\", \"Stars\": 4.4, \"Ratings\": 0, \"Reviews\": 0, \"Current_price\": 66490, \"Marked_price\": 189990, \"Operating_system\": \"Android\"}, {\"Product_Name\": \"SONY\", \"Stars\": 4.7, \"Ratings\": 1424, \"Reviews\": 290, \"Current_price\": 62999, \"Marked_price\": 84900, \"Operating_system\": \"Android\"}, {\"Product_Name\": \"Nokia\", \"Stars\": 4.4, \"Ratings\": 1378, \"Reviews\": 252, \"Current_price\": 49999, \"Marked_price\": 69999, \"Operating_system\": \"Android\"}, {\"Product_Name\": \"iFFALCON\", \"Stars\": 4.5, \"Ratings\": 0, \"Reviews\": 0, \"Current_price\": 79999, \"Marked_price\": 156990, \"Operating_system\": \"Android\"}, {\"Product_Name\": \"MarQ\", \"Stars\": 4.3, \"Ratings\": 5279, \"Reviews\": 988, \"Current_price\": 28999, \"Marked_price\": 34999, \"Operating_system\": \"Android\"}, {\"Product_Name\": \"MOTOROLA\", \"Stars\": 4.3, \"Ratings\": 20879, \"Reviews\": 3410, \"Current_price\": 30999, \"Marked_price\": 46050, \"Operating_system\": \"Android\"}, {\"Product_Name\": \"SONY\", \"Stars\": 4.6, \"Ratings\": 0, \"Reviews\": 0, \"Current_price\": 53999, \"Marked_price\": 66900, \"Operating_system\": \"Android\"}, {\"Product_Name\": \"KODAK\", \"Stars\": 4.5, \"Ratings\": 17462, \"Reviews\": 5306, \"Current_price\": 25999, \"Marked_price\": 37999, \"Operating_system\": \"Android\"}, {\"Product_Name\": \"Yuwa\", \"Stars\": 0.0, \"Ratings\": 0, \"Reviews\": 0, \"Current_price\": 24899, \"Marked_price\": 52990, \"Operating_system\": \"Android\"}, {\"Product_Name\": \"Coocaa\", \"Stars\": 4.3, \"Ratings\": 2662, \"Reviews\": 600, \"Current_price\": 31999, \"Marked_price\": 64990, \"Operating_system\": \"Android\"}, {\"Product_Name\": \"TCL\", \"Stars\": 4.6, \"Ratings\": 0, \"Reviews\": 0, \"Current_price\": 15990, \"Marked_price\": 29990, \"Operating_system\": \"Android\"}, {\"Product_Name\": \"Sansui\", \"Stars\": 0.0, \"Ratings\": 0, \"Reviews\": 0, \"Current_price\": 13479, \"Marked_price\": 19990, \"Operating_system\": \"Android\"}, {\"Product_Name\": \"PHILIPS\", \"Stars\": 4.2, \"Ratings\": 0, \"Reviews\": 0, \"Current_price\": 42999, \"Marked_price\": 79990, \"Operating_system\": \"Android\"}, {\"Product_Name\": \"TCL\", \"Stars\": 4.4, \"Ratings\": 0, \"Reviews\": 0, \"Current_price\": 28215, \"Marked_price\": 51990, \"Operating_system\": \"Linux\"}, {\"Product_Name\": \"Hisense\", \"Stars\": 4.5, \"Ratings\": 2252, \"Reviews\": 458, \"Current_price\": 45990, \"Marked_price\": 59990, \"Operating_system\": \"Android\"}, {\"Product_Name\": \"LG\", \"Stars\": 4.6, \"Ratings\": 0, \"Reviews\": 0, \"Current_price\": 55500, \"Marked_price\": 89990, \"Operating_system\": \"WebOS\"}, {\"Product_Name\": \"iFFALCON\", \"Stars\": 4.8, \"Ratings\": 0, \"Reviews\": 0, \"Current_price\": 23999, \"Marked_price\": 44900, \"Operating_system\": \"Android\"}, {\"Product_Name\": \"ONIDA\", \"Stars\": 4.4, \"Ratings\": 591, \"Reviews\": 102, \"Current_price\": 23999, \"Marked_price\": 37990, \"Operating_system\": \"VIDAA\"}, {\"Product_Name\": \"Vu\", \"Stars\": 4.4, \"Ratings\": 0, \"Reviews\": 0, \"Current_price\": 119999, \"Marked_price\": 150000, \"Operating_system\": \"Android\"}, {\"Product_Name\": \"SAMSUNG\", \"Stars\": 4.2, \"Ratings\": 0, \"Reviews\": 0, \"Current_price\": 38990, \"Marked_price\": 49990, \"Operating_system\": \"Tizen\"}, {\"Product_Name\": \"LG\", \"Stars\": 4.6, \"Ratings\": 0, \"Reviews\": 0, \"Current_price\": 36200, \"Marked_price\": 57990, \"Operating_system\": \"WebOS\"}, {\"Product_Name\": \"iFFALCON\", \"Stars\": 4.5, \"Ratings\": 0, \"Reviews\": 0, \"Current_price\": 56999, \"Marked_price\": 113990, \"Operating_system\": \"Android\"}, {\"Product_Name\": \"TOSHIBA\", \"Stars\": 4.2, \"Ratings\": 1110, \"Reviews\": 177, \"Current_price\": 28490, \"Marked_price\": 39990, \"Operating_system\": \"VIDAA\"}, {\"Product_Name\": \"LG\", \"Stars\": 4.1, \"Ratings\": 0, \"Reviews\": 0, \"Current_price\": 42750, \"Marked_price\": 64990, \"Operating_system\": \"Linux\"}, {\"Product_Name\": \"Vu\", \"Stars\": 4.2, \"Ratings\": 3275, \"Reviews\": 467, \"Current_price\": 39999, \"Marked_price\": 57000, \"Operating_system\": \"Android\"}, {\"Product_Name\": \"Hyundai\", \"Stars\": 0.0, \"Ratings\": 0, \"Reviews\": 0, \"Current_price\": 32990, \"Marked_price\": 77990, \"Operating_system\": \"WebOS\"}, {\"Product_Name\": \"LG\", \"Stars\": 0.0, \"Ratings\": 0, \"Reviews\": 0, \"Current_price\": 98780, \"Marked_price\": 149990, \"Operating_system\": \"WebOS\"}, {\"Product_Name\": \"Croma\", \"Stars\": 4.2, \"Ratings\": 1773, \"Reviews\": 217, \"Current_price\": 7990, \"Marked_price\": 20000, \"Operating_system\": \"Android\"}, {\"Product_Name\": \"SAMSUNG\", \"Stars\": 4.3, \"Ratings\": 0, \"Reviews\": 0, \"Current_price\": 42990, \"Marked_price\": 54900, \"Operating_system\": \"Tizen\"}, {\"Product_Name\": \"Micromax\", \"Stars\": 4.0, \"Ratings\": 0, \"Reviews\": 0, \"Current_price\": 21999, \"Marked_price\": 26990, \"Operating_system\": \"Android\"}, {\"Product_Name\": \"SAMSUNG\", \"Stars\": 4.5, \"Ratings\": 0, \"Reviews\": 0, \"Current_price\": 84990, \"Marked_price\": 119900, \"Operating_system\": \"Tizen\"}, {\"Product_Name\": \"Adsun\", \"Stars\": 3.8, \"Ratings\": 6730, \"Reviews\": 929, \"Current_price\": 8699, \"Marked_price\": 21999, \"Operating_system\": \"Android\"}, {\"Product_Name\": \"LG\", \"Stars\": 4.1, \"Ratings\": 0, \"Reviews\": 0, \"Current_price\": 146300, \"Marked_price\": 269990, \"Operating_system\": \"Linux\"}, {\"Product_Name\": \"SAMSUNG\", \"Stars\": 0.0, \"Ratings\": 0, \"Reviews\": 0, \"Current_price\": 54990, \"Marked_price\": 89900, \"Operating_system\": \"Tizen\"}, {\"Product_Name\": \"Croma\", \"Stars\": 4.3, \"Ratings\": 0, \"Reviews\": 0, \"Current_price\": 11990, \"Marked_price\": 25000, \"Operating_system\": \"Android\"}, {\"Product_Name\": \"KODAK\", \"Stars\": 0.0, \"Ratings\": 0, \"Reviews\": 0, \"Current_price\": 23999, \"Marked_price\": 28999, \"Operating_system\": \"Android\"}, {\"Product_Name\": \"Hyundai\", \"Stars\": 4.8, \"Ratings\": 0, \"Reviews\": 0, \"Current_price\": 8999, \"Marked_price\": 15000, \"Operating_system\": \"Linux\"}, {\"Product_Name\": \"Thomson\", \"Stars\": 4.4, \"Ratings\": 22022, \"Reviews\": 5952, \"Current_price\": 27999, \"Marked_price\": 37999, \"Operating_system\": \"Android\"}, {\"Product_Name\": \"Adsun\", \"Stars\": 3.8, \"Ratings\": 6730, \"Reviews\": 929, \"Current_price\": 8999, \"Marked_price\": 29999, \"Operating_system\": \"Android\"}, {\"Product_Name\": \"Mi\", \"Stars\": 0.0, \"Ratings\": 0, \"Reviews\": 0, \"Current_price\": 18499, \"Marked_price\": 18999, \"Operating_system\": \"Android\"}, {\"Product_Name\": \"LG\", \"Stars\": 5.0, \"Ratings\": 0, \"Reviews\": 0, \"Current_price\": 61990, \"Marked_price\": 94990, \"Operating_system\": \"WebOS\"}, {\"Product_Name\": \"Dyanora\", \"Stars\": 4.1, \"Ratings\": 0, \"Reviews\": 0, \"Current_price\": 14399, \"Marked_price\": 23999, \"Operating_system\": \"Android\"}, {\"Product_Name\": \"Croma\", \"Stars\": 3.9, \"Ratings\": 0, \"Reviews\": 0, \"Current_price\": 18990, \"Marked_price\": 30000, \"Operating_system\": \"Android\"}, {\"Product_Name\": \"Compaq\", \"Stars\": 4.4, \"Ratings\": 0, \"Reviews\": 0, \"Current_price\": 31999, \"Marked_price\": 54999, \"Operating_system\": \"Android\"}, {\"Product_Name\": \"SAMSUNG\", \"Stars\": 4.2, \"Ratings\": 0, \"Reviews\": 0, \"Current_price\": 19590, \"Marked_price\": 26490, \"Operating_system\": \"Tizen\"}, {\"Product_Name\": \"MarQ\", \"Stars\": 4.1, \"Ratings\": 6765, \"Reviews\": 896, \"Current_price\": 16999, \"Marked_price\": 19999, \"Operating_system\": \"Android\"}, {\"Product_Name\": \"Adsun\", \"Stars\": 3.8, \"Ratings\": 6730, \"Reviews\": 929, \"Current_price\": 16999, \"Marked_price\": 39999, \"Operating_system\": \"Android\"}, {\"Product_Name\": \"TCL\", \"Stars\": 4.4, \"Ratings\": 0, \"Reviews\": 0, \"Current_price\": 86990, \"Marked_price\": 269990, \"Operating_system\": \"Android\"}, {\"Product_Name\": \"TCL\", \"Stars\": 4.3, \"Ratings\": 0, \"Reviews\": 0, \"Current_price\": 12990, \"Marked_price\": 22990, \"Operating_system\": \"Linux\"}, {\"Product_Name\": \"Vu\", \"Stars\": 4.4, \"Ratings\": 2881, \"Reviews\": 411, \"Current_price\": 39999, \"Marked_price\": 65000, \"Operating_system\": \"Android\"}, {\"Product_Name\": \"Croma\", \"Stars\": 4.2, \"Ratings\": 1773, \"Reviews\": 217, \"Current_price\": 7990, \"Marked_price\": 20000, \"Operating_system\": \"Android\"}, {\"Product_Name\": \"Vu\", \"Stars\": 4.3, \"Ratings\": 0, \"Reviews\": 0, \"Current_price\": 28999, \"Marked_price\": 50000, \"Operating_system\": \"Android\"}, {\"Product_Name\": \"Bush\", \"Stars\": 4.1, \"Ratings\": 0, \"Reviews\": 0, \"Current_price\": 6499, \"Marked_price\": 8999, \"Operating_system\": \"Linux\"}, {\"Product_Name\": \"LG\", \"Stars\": 0.0, \"Ratings\": 0, \"Reviews\": 0, \"Current_price\": 45253, \"Marked_price\": 69990, \"Operating_system\": \"WebOS\"}, {\"Product_Name\": \"Adsun\", \"Stars\": 3.8, \"Ratings\": 6742, \"Reviews\": 930, \"Current_price\": 8699, \"Marked_price\": 21999, \"Operating_system\": \"Android\"}, {\"Product_Name\": \"LG\", \"Stars\": 4.3, \"Ratings\": 865, \"Reviews\": 123, \"Current_price\": 22990, \"Marked_price\": 24990, \"Operating_system\": \"WebOS\"}, {\"Product_Name\": \"Croma\", \"Stars\": 0.0, \"Ratings\": 0, \"Reviews\": 0, \"Current_price\": 27990, \"Marked_price\": 50000, \"Operating_system\": \"Android\"}, {\"Product_Name\": \"SONY\", \"Stars\": 0.0, \"Ratings\": 0, \"Reviews\": 0, \"Current_price\": 28990, \"Marked_price\": 34900, \"Operating_system\": \"Google TV\"}, {\"Product_Name\": \"Croma\", \"Stars\": 4.2, \"Ratings\": 0, \"Reviews\": 0, \"Current_price\": 11990, \"Marked_price\": 25000, \"Operating_system\": \"Android\"}, {\"Product_Name\": \"SAMSUNG\", \"Stars\": 0.0, \"Ratings\": 0, \"Reviews\": 0, \"Current_price\": 149990, \"Marked_price\": 254900, \"Operating_system\": \"Tizen\"}, {\"Product_Name\": \"LG\", \"Stars\": 3.7, \"Ratings\": 0, \"Reviews\": 0, \"Current_price\": 99999, \"Marked_price\": 189990, \"Operating_system\": \"WebOS\"}, {\"Product_Name\": \"acer\", \"Stars\": 4.4, \"Ratings\": 1722, \"Reviews\": 265, \"Current_price\": 21999, \"Marked_price\": 29990, \"Operating_system\": \"Android\"}, {\"Product_Name\": \"Adsun\", \"Stars\": 3.8, \"Ratings\": 6742, \"Reviews\": 930, \"Current_price\": 8999, \"Marked_price\": 29999, \"Operating_system\": \"Android\"}, {\"Product_Name\": \"MOTOROLA\", \"Stars\": 4.3, \"Ratings\": 20879, \"Reviews\": 3410, \"Current_price\": 33999, \"Marked_price\": 46999, \"Operating_system\": \"Android\"}, {\"Product_Name\": \"LG\", \"Stars\": 3.7, \"Ratings\": 0, \"Reviews\": 0, \"Current_price\": 74990, \"Marked_price\": 169990, \"Operating_system\": \"WebOS\"}, {\"Product_Name\": \"SAMSUNG\", \"Stars\": 4.4, \"Ratings\": 7344, \"Reviews\": 883, \"Current_price\": 87990, \"Marked_price\": 125900, \"Operating_system\": \"Tizen\"}, {\"Product_Name\": \"Croma\", \"Stars\": 3.9, \"Ratings\": 0, \"Reviews\": 0, \"Current_price\": 18990, \"Marked_price\": 30000, \"Operating_system\": \"Android\"}, {\"Product_Name\": \"LG\", \"Stars\": 0.0, \"Ratings\": 0, \"Reviews\": 0, \"Current_price\": 44000, \"Marked_price\": 74990, \"Operating_system\": \"WebOS\"}, {\"Product_Name\": \"SONY\", \"Stars\": 5.0, \"Ratings\": 0, \"Reviews\": 0, \"Current_price\": 62990, \"Marked_price\": 84990, \"Operating_system\": \"Linux\"}, {\"Product_Name\": \"Hyundai\", \"Stars\": 4.2, \"Ratings\": 0, \"Reviews\": 0, \"Current_price\": 35999, \"Marked_price\": 97990, \"Operating_system\": \"WebOS\"}, {\"Product_Name\": \"Adsun\", \"Stars\": 3.8, \"Ratings\": 6742, \"Reviews\": 930, \"Current_price\": 16999, \"Marked_price\": 39999, \"Operating_system\": \"Android\"}, {\"Product_Name\": \"LG\", \"Stars\": 4.3, \"Ratings\": 1124, \"Reviews\": 111, \"Current_price\": 18999, \"Marked_price\": 20490, \"Operating_system\": \"Linux\"}, {\"Product_Name\": \"Thomson\", \"Stars\": 0.0, \"Ratings\": 0, \"Reviews\": 0, \"Current_price\": 18499, \"Marked_price\": 21499, \"Operating_system\": \"Android\"}, {\"Product_Name\": \"LG\", \"Stars\": 4.6, \"Ratings\": 0, \"Reviews\": 0, \"Current_price\": 99999, \"Marked_price\": 219990, \"Operating_system\": \"WebOS\"}, {\"Product_Name\": \"Croma\", \"Stars\": 4.2, \"Ratings\": 1773, \"Reviews\": 217, \"Current_price\": 7990, \"Marked_price\": 20000, \"Operating_system\": \"Android\"}, {\"Product_Name\": \"TCL\", \"Stars\": 4.3, \"Ratings\": 0, \"Reviews\": 0, \"Current_price\": 43990, \"Marked_price\": 109990, \"Operating_system\": \"Android\"}, {\"Product_Name\": \"SONY\", \"Stars\": 0.0, \"Ratings\": 0, \"Reviews\": 0, \"Current_price\": 98960, \"Marked_price\": 139900, \"Operating_system\": \"Google TV\"}, {\"Product_Name\": \"Hisense\", \"Stars\": 4.5, \"Ratings\": 0, \"Reviews\": 0, \"Current_price\": 77990, \"Marked_price\": 109990, \"Operating_system\": \"Android\"}, {\"Product_Name\": \"Adsun\", \"Stars\": 3.8, \"Ratings\": 6730, \"Reviews\": 929, \"Current_price\": 8699, \"Marked_price\": 21999, \"Operating_system\": \"Android\"}, {\"Product_Name\": \"Infinix\", \"Stars\": 4.2, \"Ratings\": 14811, \"Reviews\": 2279, \"Current_price\": 13499, \"Marked_price\": 17999, \"Operating_system\": \"Android\"}, {\"Product_Name\": \"LG\", \"Stars\": 4.3, \"Ratings\": 865, \"Reviews\": 123, \"Current_price\": 22990, \"Marked_price\": 24990, \"Operating_system\": \"WebOS\"}, {\"Product_Name\": \"PHILIPS\", \"Stars\": 4.5, \"Ratings\": 0, \"Reviews\": 0, \"Current_price\": 19659, \"Marked_price\": 22990, \"Operating_system\": \"Android\"}, {\"Product_Name\": \"Croma\", \"Stars\": 4.3, \"Ratings\": 0, \"Reviews\": 0, \"Current_price\": 11990, \"Marked_price\": 25000, \"Operating_system\": \"Android\"}, {\"Product_Name\": \"Vu\", \"Stars\": 0.0, \"Ratings\": 0, \"Reviews\": 0, \"Current_price\": 104990, \"Marked_price\": 120000, \"Operating_system\": \"Android\"}, {\"Product_Name\": \"TCL\", \"Stars\": 4.3, \"Ratings\": 0, \"Reviews\": 0, \"Current_price\": 49990, \"Marked_price\": 110990, \"Operating_system\": \"Android\"}, {\"Product_Name\": \"SAMSUNG\", \"Stars\": 0.0, \"Ratings\": 0, \"Reviews\": 0, \"Current_price\": 74990, \"Marked_price\": 129900, \"Operating_system\": \"Tizen\"}, {\"Product_Name\": \"Adsun\", \"Stars\": 3.8, \"Ratings\": 6730, \"Reviews\": 929, \"Current_price\": 8999, \"Marked_price\": 29999, \"Operating_system\": \"Android\"}, {\"Product_Name\": \"SAMSUNG\", \"Stars\": 4.4, \"Ratings\": 0, \"Reviews\": 0, \"Current_price\": 63990, \"Marked_price\": 86900, \"Operating_system\": \"Tizen\"}, {\"Product_Name\": \"Vu\", \"Stars\": 0.0, \"Ratings\": 0, \"Reviews\": 0, \"Current_price\": 74990, \"Marked_price\": 80000, \"Operating_system\": \"Android\"}, {\"Product_Name\": \"SONY\", \"Stars\": 0.0, \"Ratings\": 0, \"Reviews\": 0, \"Current_price\": 77390, \"Marked_price\": 109900, \"Operating_system\": \"Google TV\"}, {\"Product_Name\": \"Croma\", \"Stars\": 3.9, \"Ratings\": 0, \"Reviews\": 0, \"Current_price\": 18990, \"Marked_price\": 30000, \"Operating_system\": \"Android\"}, {\"Product_Name\": \"Dyanora\", \"Stars\": 4.1, \"Ratings\": 0, \"Reviews\": 0, \"Current_price\": 28499, \"Marked_price\": 43999, \"Operating_system\": \"Android\"}, {\"Product_Name\": \"LG\", \"Stars\": 0.0, \"Ratings\": 0, \"Reviews\": 0, \"Current_price\": 499990, \"Marked_price\": 499990, \"Operating_system\": \"WebOS\"}, {\"Product_Name\": \"Coocaa\", \"Stars\": 4.2, \"Ratings\": 14815, \"Reviews\": 2326, \"Current_price\": 12499, \"Marked_price\": 25990, \"Operating_system\": \"Linux\"}, {\"Product_Name\": \"Adsun\", \"Stars\": 3.8, \"Ratings\": 6730, \"Reviews\": 929, \"Current_price\": 16999, \"Marked_price\": 39999, \"Operating_system\": \"Android\"}, {\"Product_Name\": \"Sansui\", \"Stars\": 0.0, \"Ratings\": 0, \"Reviews\": 0, \"Current_price\": 13999, \"Marked_price\": 19999, \"Operating_system\": \"Android\"}, {\"Product_Name\": \"TOSHIBA\", \"Stars\": 4.3, \"Ratings\": 0, \"Reviews\": 0, \"Current_price\": 22499, \"Marked_price\": 26990, \"Operating_system\": \"VIDAA\"}, {\"Product_Name\": \"SONY\", \"Stars\": 3.7, \"Ratings\": 0, \"Reviews\": 0, \"Current_price\": 107990, \"Marked_price\": 159990, \"Operating_system\": \"Google TV\"}, {\"Product_Name\": \"Croma\", \"Stars\": 4.2, \"Ratings\": 1773, \"Reviews\": 217, \"Current_price\": 7990, \"Marked_price\": 20000, \"Operating_system\": \"Android\"}, {\"Product_Name\": \"KODAK\", \"Stars\": 4.5, \"Ratings\": 17459, \"Reviews\": 5305, \"Current_price\": 99999, \"Marked_price\": 149999, \"Operating_system\": \"Android\"}, {\"Product_Name\": \"SONY\", \"Stars\": 3.7, \"Ratings\": 0, \"Reviews\": 0, \"Current_price\": 259999, \"Marked_price\": 499900, \"Operating_system\": \"Android\"}, {\"Product_Name\": \"TCL\", \"Stars\": 4.4, \"Ratings\": 0, \"Reviews\": 0, \"Current_price\": 51990, \"Marked_price\": 129990, \"Operating_system\": \"Android\"}, {\"Product_Name\": \"Adsun\", \"Stars\": 3.8, \"Ratings\": 6730, \"Reviews\": 929, \"Current_price\": 8699, \"Marked_price\": 21999, \"Operating_system\": \"Android\"}, {\"Product_Name\": \"SAMSUNG\", \"Stars\": 4.5, \"Ratings\": 4501, \"Reviews\": 661, \"Current_price\": 73999, \"Marked_price\": 129900, \"Operating_system\": \"Tizen\"}, {\"Product_Name\": \"Croma\", \"Stars\": 4.0, \"Ratings\": 0, \"Reviews\": 0, \"Current_price\": 34990, \"Marked_price\": 60000, \"Operating_system\": \"FireTv OS 6\"}, {\"Product_Name\": \"Coocaa\", \"Stars\": 4.2, \"Ratings\": 0, \"Reviews\": 0, \"Current_price\": 27999, \"Marked_price\": 53990, \"Operating_system\": \"Linux\"}, {\"Product_Name\": \"Croma\", \"Stars\": 4.3, \"Ratings\": 0, \"Reviews\": 0, \"Current_price\": 11990, \"Marked_price\": 25000, \"Operating_system\": \"Android\"}, {\"Product_Name\": \"SONY\", \"Stars\": 0.0, \"Ratings\": 0, \"Reviews\": 0, \"Current_price\": 151900, \"Marked_price\": 239900, \"Operating_system\": \"Google TV\"}, {\"Product_Name\": \"KODAK\", \"Stars\": 4.5, \"Ratings\": 17459, \"Reviews\": 5305, \"Current_price\": 36999, \"Marked_price\": 47999, \"Operating_system\": \"Android\"}, {\"Product_Name\": \"SAMSUNG\", \"Stars\": 3.0, \"Ratings\": 0, \"Reviews\": 0, \"Current_price\": 57980, \"Marked_price\": 79400, \"Operating_system\": \"Tizen\"}, {\"Product_Name\": \"Adsun\", \"Stars\": 3.8, \"Ratings\": 6730, \"Reviews\": 929, \"Current_price\": 8999, \"Marked_price\": 29999, \"Operating_system\": \"Android\"}, {\"Product_Name\": \"Vu\", \"Stars\": 4.4, \"Ratings\": 2879, \"Reviews\": 411, \"Current_price\": 59999, \"Marked_price\": 100000, \"Operating_system\": \"Android\"}, {\"Product_Name\": \"iFFALCON\", \"Stars\": 4.4, \"Ratings\": 5287, \"Reviews\": 822, \"Current_price\": 24999, \"Marked_price\": 76990, \"Operating_system\": \"Android\"}, {\"Product_Name\": \"LG\", \"Stars\": 4.6, \"Ratings\": 0, \"Reviews\": 0, \"Current_price\": 87999, \"Marked_price\": 149990, \"Operating_system\": \"WebOS\"}, {\"Product_Name\": \"Croma\", \"Stars\": 0.0, \"Ratings\": 0, \"Reviews\": 0, \"Current_price\": 18990, \"Marked_price\": 30000, \"Operating_system\": \"Android\"}, {\"Product_Name\": \"LG\", \"Stars\": 4.5, \"Ratings\": 801, \"Reviews\": 121, \"Current_price\": 84990, \"Marked_price\": 129990, \"Operating_system\": \"WebOS\"}, {\"Product_Name\": \"Hyundai\", \"Stars\": 0.0, \"Ratings\": 0, \"Reviews\": 0, \"Current_price\": 23990, \"Marked_price\": 46490, \"Operating_system\": \"Android\"}, {\"Product_Name\": \"Mi\", \"Stars\": 5.0, \"Ratings\": 0, \"Reviews\": 0, \"Current_price\": 47214, \"Marked_price\": 49990, \"Operating_system\": \"Android\"}, {\"Product_Name\": \"Adsun\", \"Stars\": 3.8, \"Ratings\": 6730, \"Reviews\": 929, \"Current_price\": 6199, \"Marked_price\": 12999, \"Operating_system\": \"Linux\"}, {\"Product_Name\": \"LG\", \"Stars\": 4.6, \"Ratings\": 0, \"Reviews\": 0, \"Current_price\": 87999, \"Marked_price\": 149990, \"Operating_system\": \"WebOS\"}, {\"Product_Name\": \"Compaq\", \"Stars\": 4.5, \"Ratings\": 0, \"Reviews\": 0, \"Current_price\": 40999, \"Marked_price\": 64999, \"Operating_system\": \"Android\"}, {\"Product_Name\": \"TOSHIBA\", \"Stars\": 4.3, \"Ratings\": 1073, \"Reviews\": 139, \"Current_price\": 38990, \"Marked_price\": 54990, \"Operating_system\": \"VIDAA\"}, {\"Product_Name\": \"Croma\", \"Stars\": 4.2, \"Ratings\": 1773, \"Reviews\": 217, \"Current_price\": 7990, \"Marked_price\": 20000, \"Operating_system\": \"Android\"}, {\"Product_Name\": \"Sansui\", \"Stars\": 4.3, \"Ratings\": 0, \"Reviews\": 0, \"Current_price\": 34999, \"Marked_price\": 34999, \"Operating_system\": \"Android\"}, {\"Product_Name\": \"SONY\", \"Stars\": 4.4, \"Ratings\": 1495, \"Reviews\": 394, \"Current_price\": 21299, \"Marked_price\": 36900, \"Operating_system\": \"Linux\"}, {\"Product_Name\": \"Adsun\", \"Stars\": 3.8, \"Ratings\": 6742, \"Reviews\": 930, \"Current_price\": 8699, \"Marked_price\": 21999, \"Operating_system\": \"Android\"}, {\"Product_Name\": \"SONY\", \"Stars\": 4.7, \"Ratings\": 0, \"Reviews\": 0, \"Current_price\": 164999, \"Marked_price\": 329900, \"Operating_system\": \"Android\"}, {\"Product_Name\": \"LG\", \"Stars\": 3.6, \"Ratings\": 0, \"Reviews\": 0, \"Current_price\": 27399, \"Marked_price\": 34499, \"Operating_system\": \"WebOS\"}, {\"Product_Name\": \"LG\", \"Stars\": 0.0, \"Ratings\": 0, \"Reviews\": 0, \"Current_price\": 399564, \"Marked_price\": 529990, \"Operating_system\": \"WebOS\"}, {\"Product_Name\": \"Croma\", \"Stars\": 4.2, \"Ratings\": 0, \"Reviews\": 0, \"Current_price\": 11990, \"Marked_price\": 25000, \"Operating_system\": \"Android\"}, {\"Product_Name\": \"SONY\", \"Stars\": 4.9, \"Ratings\": 0, \"Reviews\": 0, \"Current_price\": 179999, \"Marked_price\": 224900, \"Operating_system\": \"Android\"}, {\"Product_Name\": \"LG\", \"Stars\": 4.2, \"Ratings\": 0, \"Reviews\": 0, \"Current_price\": 35690, \"Marked_price\": 49990, \"Operating_system\": \"WebOS\"}, {\"Product_Name\": \"iFFALCON\", \"Stars\": 4.5, \"Ratings\": 0, \"Reviews\": 0, \"Current_price\": 84999, \"Marked_price\": 186990, \"Operating_system\": \"Android\"}, {\"Product_Name\": \"Adsun\", \"Stars\": 3.8, \"Ratings\": 6742, \"Reviews\": 930, \"Current_price\": 8999, \"Marked_price\": 29999, \"Operating_system\": \"Android\"}, {\"Product_Name\": \"LG\", \"Stars\": 0.0, \"Ratings\": 0, \"Reviews\": 0, \"Current_price\": 104999, \"Marked_price\": 169990, \"Operating_system\": \"WebOS\"}, {\"Product_Name\": \"SAMSUNG\", \"Stars\": 4.5, \"Ratings\": 6879, \"Reviews\": 1027, \"Current_price\": 36999, \"Marked_price\": 52990, \"Operating_system\": \"Tizen\"}, {\"Product_Name\": \"TOSHIBA\", \"Stars\": 4.3, \"Ratings\": 1983, \"Reviews\": 315, \"Current_price\": 17499, \"Marked_price\": 18990, \"Operating_system\": \"VIDAA\"}, {\"Product_Name\": \"Croma\", \"Stars\": 3.9, \"Ratings\": 0, \"Reviews\": 0, \"Current_price\": 18990, \"Marked_price\": 30000, \"Operating_system\": \"Android\"}, {\"Product_Name\": \"SONY\", \"Stars\": 0.0, \"Ratings\": 0, \"Reviews\": 0, \"Current_price\": 90205, \"Marked_price\": 139990, \"Operating_system\": \"Linux\"}, {\"Product_Name\": \"TCL\", \"Stars\": 4.3, \"Ratings\": 0, \"Reviews\": 0, \"Current_price\": 39990, \"Marked_price\": 89990, \"Operating_system\": \"Android\"}, {\"Product_Name\": \"PHILIPS\", \"Stars\": 4.0, \"Ratings\": 0, \"Reviews\": 0, \"Current_price\": 28999, \"Marked_price\": 35990, \"Operating_system\": \"Linux\"}, {\"Product_Name\": \"Adsun\", \"Stars\": 3.8, \"Ratings\": 6742, \"Reviews\": 930, \"Current_price\": 16999, \"Marked_price\": 39999, \"Operating_system\": \"Android\"}, {\"Product_Name\": \"SAMSUNG\", \"Stars\": 0.0, \"Ratings\": 0, \"Reviews\": 0, \"Current_price\": 239999, \"Marked_price\": 394900, \"Operating_system\": \"Tizen\"}, {\"Product_Name\": \"SAMSUNG\", \"Stars\": 0.0, \"Ratings\": 0, \"Reviews\": 0, \"Current_price\": 599900, \"Marked_price\": 599900, \"Operating_system\": \"Tizen\"}, {\"Product_Name\": \"TCL\", \"Stars\": 5.0, \"Ratings\": 0, \"Reviews\": 0, \"Current_price\": 109990, \"Marked_price\": 239990, \"Operating_system\": \"Android\"}, {\"Product_Name\": \"Croma\", \"Stars\": 4.2, \"Ratings\": 1773, \"Reviews\": 217, \"Current_price\": 7990, \"Marked_price\": 20000, \"Operating_system\": \"Android\"}, {\"Product_Name\": \"TCL\", \"Stars\": 4.2, \"Ratings\": 0, \"Reviews\": 0, \"Current_price\": 55499, \"Marked_price\": 89900, \"Operating_system\": \"Linux\"}, {\"Product_Name\": \"SAMSUNG\", \"Stars\": 4.3, \"Ratings\": 0, \"Reviews\": 0, \"Current_price\": 39490, \"Marked_price\": 54900, \"Operating_system\": \"Tizen\"}, {\"Product_Name\": \"Micromax\", \"Stars\": 4.0, \"Ratings\": 0, \"Reviews\": 0, \"Current_price\": 21999, \"Marked_price\": 26990, \"Operating_system\": \"Android\"}, {\"Product_Name\": \"Adsun\", \"Stars\": 3.8, \"Ratings\": 6742, \"Reviews\": 930, \"Current_price\": 8699, \"Marked_price\": 21999, \"Operating_system\": \"Android\"}, {\"Product_Name\": \"LG\", \"Stars\": 4.6, \"Ratings\": 0, \"Reviews\": 0, \"Current_price\": 39490, \"Marked_price\": 59990, \"Operating_system\": \"Linux\"}, {\"Product_Name\": \"Vu\", \"Stars\": 0.0, \"Ratings\": 0, \"Reviews\": 0, \"Current_price\": 184990, \"Marked_price\": 200000, \"Operating_system\": \"Android\"}, {\"Product_Name\": \"SAMSUNG\", \"Stars\": 4.3, \"Ratings\": 0, \"Reviews\": 0, \"Current_price\": 19599, \"Marked_price\": 25900, \"Operating_system\": \"Linux\"}, {\"Product_Name\": \"Croma\", \"Stars\": 4.2, \"Ratings\": 0, \"Reviews\": 0, \"Current_price\": 11990, \"Marked_price\": 25000, \"Operating_system\": \"Android\"}, {\"Product_Name\": \"PHILIPS\", \"Stars\": 4.0, \"Ratings\": 0, \"Reviews\": 0, \"Current_price\": 18999, \"Marked_price\": 20990, \"Operating_system\": \"Linux\"}, {\"Product_Name\": \"SONY\", \"Stars\": 4.7, \"Ratings\": 0, \"Reviews\": 0, \"Current_price\": 169768, \"Marked_price\": 299900, \"Operating_system\": \"Google TV\"}, {\"Product_Name\": \"SAMSUNG\", \"Stars\": 4.4, \"Ratings\": 0, \"Reviews\": 0, \"Current_price\": 39699, \"Marked_price\": 53900, \"Operating_system\": \"Linux\"}, {\"Product_Name\": \"Adsun\", \"Stars\": 3.8, \"Ratings\": 6742, \"Reviews\": 930, \"Current_price\": 8999, \"Marked_price\": 29999, \"Operating_system\": \"Android\"}, {\"Product_Name\": \"SAMSUNG\", \"Stars\": 0.0, \"Ratings\": 0, \"Reviews\": 0, \"Current_price\": 57989, \"Marked_price\": 88990, \"Operating_system\": \"Tizen\"}, {\"Product_Name\": \"iFFALCON\", \"Stars\": 4.2, \"Ratings\": 0, \"Reviews\": 0, \"Current_price\": 149999, \"Marked_price\": 239999, \"Operating_system\": \"Android\"}, {\"Product_Name\": \"PHILIPS\", \"Stars\": 4.2, \"Ratings\": 0, \"Reviews\": 0, \"Current_price\": 38999, \"Marked_price\": 105990, \"Operating_system\": \"Linux\"}, {\"Product_Name\": \"Croma\", \"Stars\": 3.9, \"Ratings\": 0, \"Reviews\": 0, \"Current_price\": 18990, \"Marked_price\": 30000, \"Operating_system\": \"Android\"}, {\"Product_Name\": \"SONY\", \"Stars\": 4.6, \"Ratings\": 0, \"Reviews\": 0, \"Current_price\": 29000, \"Marked_price\": 37990, \"Operating_system\": \"Android\"}, {\"Product_Name\": \"SAMSUNG\", \"Stars\": 4.5, \"Ratings\": 6879, \"Reviews\": 1027, \"Current_price\": 81999, \"Marked_price\": 129900, \"Operating_system\": \"Tizen\"}, {\"Product_Name\": \"MarQ\", \"Stars\": 4.4, \"Ratings\": 22778, \"Reviews\": 4027, \"Current_price\": 64999, \"Marked_price\": 89499, \"Operating_system\": \"Linux\"}, {\"Product_Name\": \"Adsun\", \"Stars\": 3.8, \"Ratings\": 6742, \"Reviews\": 930, \"Current_price\": 6199, \"Marked_price\": 12999, \"Operating_system\": \"Linux\"}, {\"Product_Name\": \"SAMSUNG\", \"Stars\": 0.0, \"Ratings\": 0, \"Reviews\": 0, \"Current_price\": 470900, \"Marked_price\": 470900, \"Operating_system\": \"Tizen\"}, {\"Product_Name\": \"SONY\", \"Stars\": 3.6, \"Ratings\": 0, \"Reviews\": 0, \"Current_price\": 109999, \"Marked_price\": 164900, \"Operating_system\": \"Linux\"}, {\"Product_Name\": \"SAMSUNG\", \"Stars\": 5.0, \"Ratings\": 0, \"Reviews\": 0, \"Current_price\": 34450, \"Marked_price\": 57720, \"Operating_system\": \"Tizen\"}, {\"Product_Name\": \"Croma\", \"Stars\": 4.2, \"Ratings\": 1773, \"Reviews\": 217, \"Current_price\": 7990, \"Marked_price\": 20000, \"Operating_system\": \"Android\"}, {\"Product_Name\": \"LG\", \"Stars\": 4.3, \"Ratings\": 0, \"Reviews\": 0, \"Current_price\": 64999, \"Marked_price\": 93990, \"Operating_system\": \"Linux\"}, {\"Product_Name\": \"SAMSUNG\", \"Stars\": 4.7, \"Ratings\": 0, \"Reviews\": 0, \"Current_price\": 294900, \"Marked_price\": 294900, \"Operating_system\": \"Tizen\"}, {\"Product_Name\": \"LG\", \"Stars\": 5.0, \"Ratings\": 0, \"Reviews\": 0, \"Current_price\": 194990, \"Marked_price\": 379990, \"Operating_system\": \"WebOS\"}, {\"Product_Name\": \"Adsun\", \"Stars\": 3.8, \"Ratings\": 6730, \"Reviews\": 929, \"Current_price\": 8699, \"Marked_price\": 21999, \"Operating_system\": \"Android\"}, {\"Product_Name\": \"SONY\", \"Stars\": 0.0, \"Ratings\": 0, \"Reviews\": 0, \"Current_price\": 77500, \"Marked_price\": 99900, \"Operating_system\": \"Google TV\"}, {\"Product_Name\": \"SONY\", \"Stars\": 4.6, \"Ratings\": 0, \"Reviews\": 0, \"Current_price\": 60999, \"Marked_price\": 76900, \"Operating_system\": \"Android\"}, {\"Product_Name\": \"TCL\", \"Stars\": 5.0, \"Ratings\": 0, \"Reviews\": 0, \"Current_price\": 157490, \"Marked_price\": 299990, \"Operating_system\": \"Android\"}, {\"Product_Name\": \"Croma\", \"Stars\": 4.3, \"Ratings\": 0, \"Reviews\": 0, \"Current_price\": 11990, \"Marked_price\": 25000, \"Operating_system\": \"Android\"}, {\"Product_Name\": \"SONY\", \"Stars\": 4.7, \"Ratings\": 0, \"Reviews\": 0, \"Current_price\": 149999, \"Marked_price\": 244900, \"Operating_system\": \"Android\"}, {\"Product_Name\": \"Croma\", \"Stars\": 0.0, \"Ratings\": 0, \"Reviews\": 0, \"Current_price\": 59990, \"Marked_price\": 150000, \"Operating_system\": \"Android\"}, {\"Product_Name\": \"Haier\", \"Stars\": 4.7, \"Ratings\": 0, \"Reviews\": 0, \"Current_price\": 28590, \"Marked_price\": 46990, \"Operating_system\": \"Android\"}, {\"Product_Name\": \"Adsun\", \"Stars\": 3.8, \"Ratings\": 6730, \"Reviews\": 929, \"Current_price\": 8999, \"Marked_price\": 29999, \"Operating_system\": \"Android\"}, {\"Product_Name\": \"SONY\", \"Stars\": 4.3, \"Ratings\": 0, \"Reviews\": 0, \"Current_price\": 259999, \"Marked_price\": 449900, \"Operating_system\": \"Android\"}, {\"Product_Name\": \"Lloyd\", \"Stars\": 0.0, \"Ratings\": 0, \"Reviews\": 0, \"Current_price\": 48900, \"Marked_price\": 70490, \"Operating_system\": \"Android\"}, {\"Product_Name\": \"SAMSUNG\", \"Stars\": 0.0, \"Ratings\": 0, \"Reviews\": 0, \"Current_price\": 314900, \"Marked_price\": 314900, \"Operating_system\": \"Tizen\"}, {\"Product_Name\": \"Croma\", \"Stars\": 3.9, \"Ratings\": 0, \"Reviews\": 0, \"Current_price\": 18990, \"Marked_price\": 30000, \"Operating_system\": \"Android\"}, {\"Product_Name\": \"SAMSUNG\", \"Stars\": 4.1, \"Ratings\": 0, \"Reviews\": 0, \"Current_price\": 37490, \"Marked_price\": 40400, \"Operating_system\": \"Tizen\"}, {\"Product_Name\": \"SAMSUNG\", \"Stars\": 0.0, \"Ratings\": 0, \"Reviews\": 0, \"Current_price\": 167199, \"Marked_price\": 269900, \"Operating_system\": \"Tizen\"}, {\"Product_Name\": \"SAMSUNG\", \"Stars\": 0.0, \"Ratings\": 0, \"Reviews\": 0, \"Current_price\": 198599, \"Marked_price\": 219900, \"Operating_system\": \"Tizen\"}, {\"Product_Name\": \"Adsun\", \"Stars\": 3.8, \"Ratings\": 6730, \"Reviews\": 929, \"Current_price\": 16999, \"Marked_price\": 39999, \"Operating_system\": \"Android\"}, {\"Product_Name\": \"SAMSUNG\", \"Stars\": 4.3, \"Ratings\": 0, \"Reviews\": 0, \"Current_price\": 22499, \"Marked_price\": 24900, \"Operating_system\": \"Tizen\"}, {\"Product_Name\": \"LG\", \"Stars\": 0.0, \"Ratings\": 0, \"Reviews\": 0, \"Current_price\": 139990, \"Marked_price\": 269900, \"Operating_system\": \"WebOS\"}, {\"Product_Name\": \"IMPEX\", \"Stars\": 0.0, \"Ratings\": 0, \"Reviews\": 0, \"Current_price\": 22222, \"Marked_price\": 29790, \"Operating_system\": \"Linux\"}, {\"Product_Name\": \"Croma\", \"Stars\": 4.2, \"Ratings\": 1773, \"Reviews\": 217, \"Current_price\": 7990, \"Marked_price\": 20000, \"Operating_system\": \"Android\"}, {\"Product_Name\": \"KODAK\", \"Stars\": 4.4, \"Ratings\": 1693, \"Reviews\": 368, \"Current_price\": 23999, \"Marked_price\": 33999, \"Operating_system\": \"Android\"}, {\"Product_Name\": \"LG\", \"Stars\": 0.0, \"Ratings\": 0, \"Reviews\": 0, \"Current_price\": 91564, \"Marked_price\": 139990, \"Operating_system\": \"WebOS\"}, {\"Product_Name\": \"SAMSUNG\", \"Stars\": 3.9, \"Ratings\": 0, \"Reviews\": 0, \"Current_price\": 241900, \"Marked_price\": 241900, \"Operating_system\": \"Linux\"}, {\"Product_Name\": \"Adsun\", \"Stars\": 3.8, \"Ratings\": 6742, \"Reviews\": 930, \"Current_price\": 8699, \"Marked_price\": 21999, \"Operating_system\": \"Android\"}, {\"Product_Name\": \"LG\", \"Stars\": 4.3, \"Ratings\": 0, \"Reviews\": 0, \"Current_price\": 57500, \"Marked_price\": 84990, \"Operating_system\": \"WebOS\"}, {\"Product_Name\": \"LG\", \"Stars\": 0.0, \"Ratings\": 0, \"Reviews\": 0, \"Current_price\": 296474, \"Marked_price\": 549990, \"Operating_system\": \"WebOS\"}, {\"Product_Name\": \"MarQ\", \"Stars\": 4.4, \"Ratings\": 0, \"Reviews\": 0, \"Current_price\": 64999, \"Marked_price\": 94499, \"Operating_system\": \"Android\"}, {\"Product_Name\": \"Croma\", \"Stars\": 4.2, \"Ratings\": 0, \"Reviews\": 0, \"Current_price\": 11990, \"Marked_price\": 25000, \"Operating_system\": \"Android\"}, {\"Product_Name\": \"Croma\", \"Stars\": 4.3, \"Ratings\": 0, \"Reviews\": 0, \"Current_price\": 29990, \"Marked_price\": 50000, \"Operating_system\": \"FireTv OS 6\"}, {\"Product_Name\": \"Micromax\", \"Stars\": 4.0, \"Ratings\": 2677, \"Reviews\": 763, \"Current_price\": 91990, \"Marked_price\": 91990, \"Operating_system\": \"Linux\"}, {\"Product_Name\": \"LG\", \"Stars\": 0.0, \"Ratings\": 0, \"Reviews\": 0, \"Current_price\": 349999, \"Marked_price\": 499990, \"Operating_system\": \"WebOS\"}, {\"Product_Name\": \"Adsun\", \"Stars\": 3.8, \"Ratings\": 6742, \"Reviews\": 930, \"Current_price\": 8999, \"Marked_price\": 29999, \"Operating_system\": \"Android\"}, {\"Product_Name\": \"LG\", \"Stars\": 4.8, \"Ratings\": 0, \"Reviews\": 0, \"Current_price\": 249999, \"Marked_price\": 409990, \"Operating_system\": \"WebOS\"}, {\"Product_Name\": \"Croma\", \"Stars\": 2.3, \"Ratings\": 0, \"Reviews\": 0, \"Current_price\": 25990, \"Marked_price\": 40000, \"Operating_system\": \"FireTv OS 6\"}, {\"Product_Name\": \"LG\", \"Stars\": 5.0, \"Ratings\": 0, \"Reviews\": 0, \"Current_price\": 356990, \"Marked_price\": 356990, \"Operating_system\": \"Linux\"}, {\"Product_Name\": \"Croma\", \"Stars\": 3.9, \"Ratings\": 0, \"Reviews\": 0, \"Current_price\": 18990, \"Marked_price\": 30000, \"Operating_system\": \"Android\"}, {\"Product_Name\": \"SONY\", \"Stars\": 4.4, \"Ratings\": 0, \"Reviews\": 0, \"Current_price\": 75099, \"Marked_price\": 89900, \"Operating_system\": \"Android\"}, {\"Product_Name\": \"LG\", \"Stars\": 0.0, \"Ratings\": 0, \"Reviews\": 0, \"Current_price\": 86559, \"Marked_price\": 149990, \"Operating_system\": \"WebOS\"}, {\"Product_Name\": \"Micromax\", \"Stars\": 3.9, \"Ratings\": 0, \"Reviews\": 0, \"Current_price\": 12999, \"Marked_price\": 24990, \"Operating_system\": \"Android\"}, {\"Product_Name\": \"Adsun\", \"Stars\": 3.8, \"Ratings\": 6742, \"Reviews\": 930, \"Current_price\": 6199, \"Marked_price\": 12999, \"Operating_system\": \"Linux\"}, {\"Product_Name\": \"TOSHIBA\", \"Stars\": 4.3, \"Ratings\": 0, \"Reviews\": 0, \"Current_price\": 25999, \"Marked_price\": 31990, \"Operating_system\": \"VIDAA\"}, {\"Product_Name\": \"IGO\", \"Stars\": 4.1, \"Ratings\": 0, \"Reviews\": 0, \"Current_price\": 17999, \"Marked_price\": 29990, \"Operating_system\": \"Android\"}, {\"Product_Name\": \"MOTOROLA\", \"Stars\": 4.3, \"Ratings\": 2857, \"Reviews\": 482, \"Current_price\": 32999, \"Marked_price\": 35999, \"Operating_system\": \"Android\"}, {\"Product_Name\": \"Croma\", \"Stars\": 4.2, \"Ratings\": 1773, \"Reviews\": 217, \"Current_price\": 7990, \"Marked_price\": 20000, \"Operating_system\": \"Android\"}, {\"Product_Name\": \"SAMSUNG\", \"Stars\": 0.0, \"Ratings\": 0, \"Reviews\": 0, \"Current_price\": 45785, \"Marked_price\": 45900, \"Operating_system\": \"Tizen\"}, {\"Product_Name\": \"SONY\", \"Stars\": 4.7, \"Ratings\": 0, \"Reviews\": 0, \"Current_price\": 46799, \"Marked_price\": 52900, \"Operating_system\": \"Android\"}, {\"Product_Name\": \"SAMSUNG\", \"Stars\": 0.0, \"Ratings\": 0, \"Reviews\": 0, \"Current_price\": 93899, \"Marked_price\": 135900, \"Operating_system\": \"Tizen\"}, {\"Product_Name\": \"Adsun\", \"Stars\": 3.8, \"Ratings\": 6742, \"Reviews\": 930, \"Current_price\": 8699, \"Marked_price\": 21999, \"Operating_system\": \"Android\"}, {\"Product_Name\": \"LG\", \"Stars\": 0.0, \"Ratings\": 0, \"Reviews\": 0, \"Current_price\": 141520, \"Marked_price\": 166990, \"Operating_system\": \"WebOS\"}, {\"Product_Name\": \"SAMSUNG\", \"Stars\": 5.0, \"Ratings\": 0, \"Reviews\": 0, \"Current_price\": 58990, \"Marked_price\": 82400, \"Operating_system\": \"Tizen\"}, {\"Product_Name\": \"SAMSUNG\", \"Stars\": 0.0, \"Ratings\": 0, \"Reviews\": 0, \"Current_price\": 81990, \"Marked_price\": 115999, \"Operating_system\": \"Tizen\"}, {\"Product_Name\": \"Croma\", \"Stars\": 4.2, \"Ratings\": 0, \"Reviews\": 0, \"Current_price\": 11990, \"Marked_price\": 25000, \"Operating_system\": \"Android\"}, {\"Product_Name\": \"Hisense\", \"Stars\": 4.3, \"Ratings\": 0, \"Reviews\": 0, \"Current_price\": 40990, \"Marked_price\": 59990, \"Operating_system\": \"Android\"}, {\"Product_Name\": \"SAMSUNG\", \"Stars\": 0.0, \"Ratings\": 0, \"Reviews\": 0, \"Current_price\": 109990, \"Marked_price\": 169990, \"Operating_system\": \"Tizen\"}, {\"Product_Name\": \"SAMSUNG\", \"Stars\": 3.0, \"Ratings\": 0, \"Reviews\": 0, \"Current_price\": 258999, \"Marked_price\": 419900, \"Operating_system\": \"Tizen\"}, {\"Product_Name\": \"Adsun\", \"Stars\": 3.8, \"Ratings\": 6742, \"Reviews\": 930, \"Current_price\": 8999, \"Marked_price\": 29999, \"Operating_system\": \"Android\"}, {\"Product_Name\": \"LG\", \"Stars\": 4.7, \"Ratings\": 0, \"Reviews\": 0, \"Current_price\": 60990, \"Marked_price\": 91990, \"Operating_system\": \"WebOS\"}, {\"Product_Name\": \"Sansui\", \"Stars\": 3.7, \"Ratings\": 0, \"Reviews\": 0, \"Current_price\": 69200, \"Marked_price\": 69200, \"Operating_system\": \"Linux\"}, {\"Product_Name\": \"Hisense\", \"Stars\": 4.2, \"Ratings\": 3884, \"Reviews\": 735, \"Current_price\": 17499, \"Marked_price\": 17990, \"Operating_system\": \"Android\"}, {\"Product_Name\": \"Croma\", \"Stars\": 3.9, \"Ratings\": 0, \"Reviews\": 0, \"Current_price\": 18990, \"Marked_price\": 30000, \"Operating_system\": \"Android\"}, {\"Product_Name\": \"SAMSUNG\", \"Stars\": 3.0, \"Ratings\": 0, \"Reviews\": 0, \"Current_price\": 204900, \"Marked_price\": 204900, \"Operating_system\": \"Tizen\"}, {\"Product_Name\": \"LG\", \"Stars\": 4.8, \"Ratings\": 0, \"Reviews\": 0, \"Current_price\": 146620, \"Marked_price\": 209990, \"Operating_system\": \"WebOS\"}, {\"Product_Name\": \"LG\", \"Stars\": 4.6, \"Ratings\": 0, \"Reviews\": 0, \"Current_price\": 324990, \"Marked_price\": 324990, \"Operating_system\": \"WebOS\"}, {\"Product_Name\": \"Adsun\", \"Stars\": 3.8, \"Ratings\": 6742, \"Reviews\": 930, \"Current_price\": 16999, \"Marked_price\": 39999, \"Operating_system\": \"Android\"}, {\"Product_Name\": \"IMPEX\", \"Stars\": 0.0, \"Ratings\": 0, \"Reviews\": 0, \"Current_price\": 49679, \"Marked_price\": 49690, \"Operating_system\": \"Linux\"}, {\"Product_Name\": \"MarQ\", \"Stars\": 4.1, \"Ratings\": 6767, \"Reviews\": 896, \"Current_price\": 23999, \"Marked_price\": 28999, \"Operating_system\": \"Android\"}, {\"Product_Name\": \"SAMSUNG\", \"Stars\": 0.0, \"Ratings\": 0, \"Reviews\": 0, \"Current_price\": 56450, \"Marked_price\": 80000, \"Operating_system\": \"Tizen\"}, {\"Product_Name\": \"Croma\", \"Stars\": 4.2, \"Ratings\": 1773, \"Reviews\": 217, \"Current_price\": 7990, \"Marked_price\": 20000, \"Operating_system\": \"Android\"}, {\"Product_Name\": \"Croma\", \"Stars\": 5.0, \"Ratings\": 0, \"Reviews\": 0, \"Current_price\": 16990, \"Marked_price\": 25000, \"Operating_system\": \"FireTv OS 6\"}, {\"Product_Name\": \"LG\", \"Stars\": 0.0, \"Ratings\": 0, \"Reviews\": 0, \"Current_price\": 125390, \"Marked_price\": 209990, \"Operating_system\": \"WebOS\"}, {\"Product_Name\": \"LG\", \"Stars\": 4.7, \"Ratings\": 0, \"Reviews\": 0, \"Current_price\": 159999, \"Marked_price\": 214990, \"Operating_system\": \"WebOS\"}, {\"Product_Name\": \"Adsun\", \"Stars\": 3.8, \"Ratings\": 6742, \"Reviews\": 930, \"Current_price\": 8699, \"Marked_price\": 21999, \"Operating_system\": \"Android\"}, {\"Product_Name\": \"LG\", \"Stars\": 4.5, \"Ratings\": 0, \"Reviews\": 0, \"Current_price\": 64999, \"Marked_price\": 99990, \"Operating_system\": \"WebOS\"}, {\"Product_Name\": \"LG\", \"Stars\": 4.2, \"Ratings\": 0, \"Reviews\": 0, \"Current_price\": 19900, \"Marked_price\": 21900, \"Operating_system\": \"Linux\"}, {\"Product_Name\": \"LG\", \"Stars\": 0.0, \"Ratings\": 0, \"Reviews\": 0, \"Current_price\": 56440, \"Marked_price\": 84990, \"Operating_system\": \"WebOS\"}, {\"Product_Name\": \"Croma\", \"Stars\": 4.2, \"Ratings\": 0, \"Reviews\": 0, \"Current_price\": 11990, \"Marked_price\": 25000, \"Operating_system\": \"Android\"}, {\"Product_Name\": \"SAMSUNG\", \"Stars\": 4.5, \"Ratings\": 0, \"Reviews\": 0, \"Current_price\": 144990, \"Marked_price\": 211900, \"Operating_system\": \"Linux\"}, {\"Product_Name\": \"SAMSUNG\", \"Stars\": 0.0, \"Ratings\": 0, \"Reviews\": 0, \"Current_price\": 318700, \"Marked_price\": 399900, \"Operating_system\": \"Tizen\"}, {\"Product_Name\": \"Vu\", \"Stars\": 4.2, \"Ratings\": 0, \"Reviews\": 0, \"Current_price\": 116000, \"Marked_price\": 116000, \"Operating_system\": \"Android\"}, {\"Product_Name\": \"Adsun\", \"Stars\": 3.8, \"Ratings\": 6742, \"Reviews\": 930, \"Current_price\": 8999, \"Marked_price\": 29999, \"Operating_system\": \"Android\"}, {\"Product_Name\": \"ONIDA\", \"Stars\": 0.0, \"Ratings\": 0, \"Reviews\": 0, \"Current_price\": 28999, \"Marked_price\": 33490, \"Operating_system\": \"Linux\"}, {\"Product_Name\": \"SAMSUNG\", \"Stars\": 4.4, \"Ratings\": 0, \"Reviews\": 0, \"Current_price\": 129900, \"Marked_price\": 129900, \"Operating_system\": \"Tizen\"}, {\"Product_Name\": \"Adsun\", \"Stars\": 3.8, \"Ratings\": 6742, \"Reviews\": 930, \"Current_price\": 6999, \"Marked_price\": 18999, \"Operating_system\": \"Android\"}, {\"Product_Name\": \"Croma\", \"Stars\": 3.9, \"Ratings\": 0, \"Reviews\": 0, \"Current_price\": 18990, \"Marked_price\": 30000, \"Operating_system\": \"Android\"}, {\"Product_Name\": \"SAMSUNG\", \"Stars\": 4.7, \"Ratings\": 0, \"Reviews\": 0, \"Current_price\": 122299, \"Marked_price\": 209900, \"Operating_system\": \"Tizen\"}, {\"Product_Name\": \"SONY\", \"Stars\": 4.7, \"Ratings\": 0, \"Reviews\": 0, \"Current_price\": 63500, \"Marked_price\": 82900, \"Operating_system\": \"Google TV\"}, {\"Product_Name\": \"SAMSUNG\", \"Stars\": 4.0, \"Ratings\": 0, \"Reviews\": 0, \"Current_price\": 18740, \"Marked_price\": 21900, \"Operating_system\": \"Tizen\"}, {\"Product_Name\": \"Adsun\", \"Stars\": 3.8, \"Ratings\": 6742, \"Reviews\": 930, \"Current_price\": 6199, \"Marked_price\": 12999, \"Operating_system\": \"Linux\"}, {\"Product_Name\": \"Panasonic\", \"Stars\": 0.0, \"Ratings\": 0, \"Reviews\": 0, \"Current_price\": 87439, \"Marked_price\": 119990, \"Operating_system\": \"Android\"}, {\"Product_Name\": \"SAMSUNG\", \"Stars\": 2.3, \"Ratings\": 0, \"Reviews\": 0, \"Current_price\": 341900, \"Marked_price\": 399900, \"Operating_system\": \"Tizen\"}, {\"Product_Name\": \"LG\", \"Stars\": 0.0, \"Ratings\": 0, \"Reviews\": 0, \"Current_price\": 217000, \"Marked_price\": 254990, \"Operating_system\": \"WebOS\"}, {\"Product_Name\": \"Croma\", \"Stars\": 4.2, \"Ratings\": 1773, \"Reviews\": 217, \"Current_price\": 7990, \"Marked_price\": 20000, \"Operating_system\": \"Android\"}, {\"Product_Name\": \"kinger\", \"Stars\": 0.0, \"Ratings\": 0, \"Reviews\": 0, \"Current_price\": 12999, \"Marked_price\": 22490, \"Operating_system\": \"Android\"}, {\"Product_Name\": \"LG\", \"Stars\": 0.0, \"Ratings\": 0, \"Reviews\": 0, \"Current_price\": 269999, \"Marked_price\": 339990, \"Operating_system\": \"WebOS\"}, {\"Product_Name\": \"SAMSUNG\", \"Stars\": 0.0, \"Ratings\": 0, \"Reviews\": 0, \"Current_price\": 341990, \"Marked_price\": 441900, \"Operating_system\": \"Tizen\"}, {\"Product_Name\": \"Adsun\", \"Stars\": 3.8, \"Ratings\": 6730, \"Reviews\": 929, \"Current_price\": 8699, \"Marked_price\": 21999, \"Operating_system\": \"Android\"}, {\"Product_Name\": \"LG\", \"Stars\": 0.0, \"Ratings\": 0, \"Reviews\": 0, \"Current_price\": 174999, \"Marked_price\": 209990, \"Operating_system\": \"WebOS\"}, {\"Product_Name\": \"SAMSUNG\", \"Stars\": 5.0, \"Ratings\": 0, \"Reviews\": 0, \"Current_price\": 154900, \"Marked_price\": 154900, \"Operating_system\": \"Tizen\"}, {\"Product_Name\": \"BPL\", \"Stars\": 0.0, \"Ratings\": 0, \"Reviews\": 0, \"Current_price\": 34990, \"Marked_price\": 60000, \"Operating_system\": \"Linux\"}, {\"Product_Name\": \"Croma\", \"Stars\": 4.3, \"Ratings\": 0, \"Reviews\": 0, \"Current_price\": 11990, \"Marked_price\": 25000, \"Operating_system\": \"Android\"}, {\"Product_Name\": \"SAMSUNG\", \"Stars\": 4.4, \"Ratings\": 0, \"Reviews\": 0, \"Current_price\": 179900, \"Marked_price\": 179900, \"Operating_system\": \"Linux\"}, {\"Product_Name\": \"SAMSUNG\", \"Stars\": 3.4, \"Ratings\": 0, \"Reviews\": 0, \"Current_price\": 129900, \"Marked_price\": 129900, \"Operating_system\": \"Tizen\"}, {\"Product_Name\": \"SAMSUNG\", \"Stars\": 0.0, \"Ratings\": 0, \"Reviews\": 0, \"Current_price\": 440900, \"Marked_price\": 440900, \"Operating_system\": \"Tizen\"}, {\"Product_Name\": \"Adsun\", \"Stars\": 3.8, \"Ratings\": 6730, \"Reviews\": 929, \"Current_price\": 8999, \"Marked_price\": 29999, \"Operating_system\": \"Android\"}, {\"Product_Name\": \"MOTOROLA\", \"Stars\": 4.4, \"Ratings\": 2762, \"Reviews\": 508, \"Current_price\": 44999, \"Marked_price\": 49999, \"Operating_system\": \"Android\"}, {\"Product_Name\": \"Adsun\", \"Stars\": 0.0, \"Ratings\": 0, \"Reviews\": 0, \"Current_price\": 27999, \"Marked_price\": 43999, \"Operating_system\": \"Android\"}, {\"Product_Name\": \"TCL\", \"Stars\": 3.9, \"Ratings\": 0, \"Reviews\": 0, \"Current_price\": 47499, \"Marked_price\": 79990, \"Operating_system\": \"Linux\"}, {\"Product_Name\": \"Croma\", \"Stars\": 3.9, \"Ratings\": 0, \"Reviews\": 0, \"Current_price\": 18990, \"Marked_price\": 30000, \"Operating_system\": \"Android\"}, {\"Product_Name\": \"SAMSUNG\", \"Stars\": 0.0, \"Ratings\": 0, \"Reviews\": 0, \"Current_price\": 50990, \"Marked_price\": 64900, \"Operating_system\": \"Tizen\"}, {\"Product_Name\": \"LG\", \"Stars\": 4.4, \"Ratings\": 0, \"Reviews\": 0, \"Current_price\": 54990, \"Marked_price\": 54990, \"Operating_system\": \"WebOS\"}, {\"Product_Name\": \"Nokia\", \"Stars\": 4.3, \"Ratings\": 23243, \"Reviews\": 3975, \"Current_price\": 16999, \"Marked_price\": 19999, \"Operating_system\": \"Android\"}, {\"Product_Name\": \"Adsun\", \"Stars\": 3.8, \"Ratings\": 6730, \"Reviews\": 929, \"Current_price\": 16999, \"Marked_price\": 39999, \"Operating_system\": \"Android\"}, {\"Product_Name\": \"SONY\", \"Stars\": 0.0, \"Ratings\": 0, \"Reviews\": 0, \"Current_price\": 122000, \"Marked_price\": 199990, \"Operating_system\": \"Linux\"}, {\"Product_Name\": \"Sansui\", \"Stars\": 4.3, \"Ratings\": 0, \"Reviews\": 0, \"Current_price\": 119990, \"Marked_price\": 119990, \"Operating_system\": \"Linux\"}, {\"Product_Name\": \"Croma\", \"Stars\": 0.0, \"Ratings\": 0, \"Reviews\": 0, \"Current_price\": 32990, \"Marked_price\": 60000, \"Operating_system\": \"Android\"}, {\"Product_Name\": \"Vu\", \"Stars\": 4.1, \"Ratings\": 0, \"Reviews\": 0, \"Current_price\": 50851, \"Marked_price\": 51000, \"Operating_system\": \"Android\"}, {\"Product_Name\": \"SAMSUNG\", \"Stars\": 0.0, \"Ratings\": 0, \"Reviews\": 0, \"Current_price\": 149990, \"Marked_price\": 257900, \"Operating_system\": \"Tizen\"}, {\"Product_Name\": \"SAMSUNG\", \"Stars\": 0.0, \"Ratings\": 0, \"Reviews\": 0, \"Current_price\": 119990, \"Marked_price\": 192990, \"Operating_system\": \"Linux\"}, {\"Product_Name\": \"SAMSUNG\", \"Stars\": 3.9, \"Ratings\": 0, \"Reviews\": 0, \"Current_price\": 62900, \"Marked_price\": 62900, \"Operating_system\": \"Tizen\"}, {\"Product_Name\": \"LG\", \"Stars\": 4.7, \"Ratings\": 0, \"Reviews\": 0, \"Current_price\": 164999, \"Marked_price\": 264990, \"Operating_system\": \"WebOS\"}, {\"Product_Name\": \"LG\", \"Stars\": 4.6, \"Ratings\": 0, \"Reviews\": 0, \"Current_price\": 149999, \"Marked_price\": 229990, \"Operating_system\": \"WebOS\"}, {\"Product_Name\": \"LG\", \"Stars\": 4.6, \"Ratings\": 0, \"Reviews\": 0, \"Current_price\": 49990, \"Marked_price\": 74990, \"Operating_system\": \"WebOS\"}, {\"Product_Name\": \"SAMSUNG\", \"Stars\": 4.0, \"Ratings\": 0, \"Reviews\": 0, \"Current_price\": 26900, \"Marked_price\": 26900, \"Operating_system\": \"Linux\"}, {\"Product_Name\": \"SAMSUNG\", \"Stars\": 4.6, \"Ratings\": 0, \"Reviews\": 0, \"Current_price\": 85000, \"Marked_price\": 134900, \"Operating_system\": \"Tizen\"}, {\"Product_Name\": \"Adsun\", \"Stars\": 3.8, \"Ratings\": 6730, \"Reviews\": 929, \"Current_price\": 7999, \"Marked_price\": 16999, \"Operating_system\": \"Linux\"}, {\"Product_Name\": \"SAMSUNG\", \"Stars\": 5.0, \"Ratings\": 0, \"Reviews\": 0, \"Current_price\": 179999, \"Marked_price\": 374900, \"Operating_system\": \"Tizen\"}, {\"Product_Name\": \"Panasonic\", \"Stars\": 0.0, \"Ratings\": 0, \"Reviews\": 0, \"Current_price\": 55915, \"Marked_price\": 73990, \"Operating_system\": \"Android\"}, {\"Product_Name\": \"LG\", \"Stars\": 4.4, \"Ratings\": 0, \"Reviews\": 0, \"Current_price\": 89990, \"Marked_price\": 159990, \"Operating_system\": \"WebOS\"}, {\"Product_Name\": \"Compaq\", \"Stars\": 4.3, \"Ratings\": 0, \"Reviews\": 0, \"Current_price\": 99999, \"Marked_price\": 229990, \"Operating_system\": \"Android\"}, {\"Product_Name\": \"LG\", \"Stars\": 4.5, \"Ratings\": 0, \"Reviews\": 0, \"Current_price\": 80990, \"Marked_price\": 80990, \"Operating_system\": \"Linux\"}, {\"Product_Name\": \"TCL\", \"Stars\": 0.0, \"Ratings\": 0, \"Reviews\": 0, \"Current_price\": 58999, \"Marked_price\": 119900, \"Operating_system\": \"Android\"}, {\"Product_Name\": \"InnoQ\", \"Stars\": 4.1, \"Ratings\": 0, \"Reviews\": 0, \"Current_price\": 13790, \"Marked_price\": 35990, \"Operating_system\": \"Android\"}, {\"Product_Name\": \"SONY\", \"Stars\": 4.3, \"Ratings\": 0, \"Reviews\": 0, \"Current_price\": 27489, \"Marked_price\": 29900, \"Operating_system\": \"Linux\"}, {\"Product_Name\": \"Blaupunkt\", \"Stars\": 4.4, \"Ratings\": 6977, \"Reviews\": 1601, \"Current_price\": 19999, \"Marked_price\": 28999, \"Operating_system\": \"Android\"}, {\"Product_Name\": \"SAMSUNG\", \"Stars\": 4.3, \"Ratings\": 0, \"Reviews\": 0, \"Current_price\": 69500, \"Marked_price\": 69500, \"Operating_system\": \"Linux\"}, {\"Product_Name\": \"LG\", \"Stars\": 4.8, \"Ratings\": 0, \"Reviews\": 0, \"Current_price\": 77990, \"Marked_price\": 77990, \"Operating_system\": \"Linux\"}, {\"Product_Name\": \"SONY\", \"Stars\": 4.3, \"Ratings\": 0, \"Reviews\": 0, \"Current_price\": 27489, \"Marked_price\": 29900, \"Operating_system\": \"Linux\"}, {\"Product_Name\": \"SAMSUNG\", \"Stars\": 4.3, \"Ratings\": 0, \"Reviews\": 0, \"Current_price\": 69500, \"Marked_price\": 69500, \"Operating_system\": \"Linux\"}, {\"Product_Name\": \"SAMSUNG\", \"Stars\": 0.0, \"Ratings\": 0, \"Reviews\": 0, \"Current_price\": 109990, \"Marked_price\": 145900, \"Operating_system\": \"Tizen\"}, {\"Product_Name\": \"Croma\", \"Stars\": 4.2, \"Ratings\": 1773, \"Reviews\": 217, \"Current_price\": 7990, \"Marked_price\": 20000, \"Operating_system\": \"Android\"}, {\"Product_Name\": \"SAMSUNG\", \"Stars\": 3.6, \"Ratings\": 0, \"Reviews\": 0, \"Current_price\": 284900, \"Marked_price\": 284900, \"Operating_system\": \"Tizen\"}, {\"Product_Name\": \"LG\", \"Stars\": 4.4, \"Ratings\": 0, \"Reviews\": 0, \"Current_price\": 68990, \"Marked_price\": 68990, \"Operating_system\": \"WebOS\"}, {\"Product_Name\": \"PHILIPS\", \"Stars\": 4.2, \"Ratings\": 0, \"Reviews\": 0, \"Current_price\": 48999, \"Marked_price\": 89900, \"Operating_system\": \"Android\"}, {\"Product_Name\": \"Adsun\", \"Stars\": 3.8, \"Ratings\": 6742, \"Reviews\": 930, \"Current_price\": 8699, \"Marked_price\": 21999, \"Operating_system\": \"Android\"}, {\"Product_Name\": \"SAMSUNG\", \"Stars\": 4.2, \"Ratings\": 625, \"Reviews\": 131, \"Current_price\": 48900, \"Marked_price\": 48900, \"Operating_system\": \"Linux\"}, {\"Product_Name\": \"Dyanora\", \"Stars\": 3.8, \"Ratings\": 0, \"Reviews\": 0, \"Current_price\": 9499, \"Marked_price\": 18999, \"Operating_system\": \"Android\"}, {\"Product_Name\": \"kinger\", \"Stars\": 0.0, \"Ratings\": 0, \"Reviews\": 0, \"Current_price\": 12999, \"Marked_price\": 22490, \"Operating_system\": \"Android\"}, {\"Product_Name\": \"Croma\", \"Stars\": 4.2, \"Ratings\": 0, \"Reviews\": 0, \"Current_price\": 11990, \"Marked_price\": 25000, \"Operating_system\": \"Android\"}, {\"Product_Name\": \"LG\", \"Stars\": 4.3, \"Ratings\": 0, \"Reviews\": 0, \"Current_price\": 64990, \"Marked_price\": 102990, \"Operating_system\": \"WebOS\"}, {\"Product_Name\": \"LG\", \"Stars\": 4.2, \"Ratings\": 0, \"Reviews\": 0, \"Current_price\": 103990, \"Marked_price\": 103990, \"Operating_system\": \"WebOS\"}, {\"Product_Name\": \"SAMSUNG\", \"Stars\": 0.0, \"Ratings\": 0, \"Reviews\": 0, \"Current_price\": 229900, \"Marked_price\": 229900, \"Operating_system\": \"Tizen\"}, {\"Product_Name\": \"Adsun\", \"Stars\": 3.8, \"Ratings\": 6742, \"Reviews\": 930, \"Current_price\": 8999, \"Marked_price\": 29999, \"Operating_system\": \"Android\"}, {\"Product_Name\": \"Sansui\", \"Stars\": 0.0, \"Ratings\": 0, \"Reviews\": 0, \"Current_price\": 13290, \"Marked_price\": 17990, \"Operating_system\": \"Linux\"}, {\"Product_Name\": \"IMPEX\", \"Stars\": 0.0, \"Ratings\": 0, \"Reviews\": 0, \"Current_price\": 21549, \"Marked_price\": 33990, \"Operating_system\": \"Android\"}, {\"Product_Name\": \"SAMSUNG\", \"Stars\": 0.0, \"Ratings\": 0, \"Reviews\": 0, \"Current_price\": 104950, \"Marked_price\": 209900, \"Operating_system\": \"Tizen\"}, {\"Product_Name\": \"Croma\", \"Stars\": 3.9, \"Ratings\": 0, \"Reviews\": 0, \"Current_price\": 18990, \"Marked_price\": 30000, \"Operating_system\": \"Android\"}, {\"Product_Name\": \"LG\", \"Stars\": 0.0, \"Ratings\": 0, \"Reviews\": 0, \"Current_price\": 74990, \"Marked_price\": 149990, \"Operating_system\": \"WebOS\"}, {\"Product_Name\": \"kinger\", \"Stars\": 0.0, \"Ratings\": 0, \"Reviews\": 0, \"Current_price\": 12999, \"Marked_price\": 22490, \"Operating_system\": \"Android\"}, {\"Product_Name\": \"Thomson\", \"Stars\": 4.4, \"Ratings\": 4207, \"Reviews\": 868, \"Current_price\": 23999, \"Marked_price\": 33999, \"Operating_system\": \"Android\"}, {\"Product_Name\": \"Adsun\", \"Stars\": 3.8, \"Ratings\": 6742, \"Reviews\": 930, \"Current_price\": 16999, \"Marked_price\": 39999, \"Operating_system\": \"Android\"}, {\"Product_Name\": \"LG\", \"Stars\": 0.0, \"Ratings\": 0, \"Reviews\": 0, \"Current_price\": 189990, \"Marked_price\": 379990, \"Operating_system\": \"WebOS\"}, {\"Product_Name\": \"SAMSUNG\", \"Stars\": 3.7, \"Ratings\": 0, \"Reviews\": 0, \"Current_price\": 155900, \"Marked_price\": 155900, \"Operating_system\": \"Tizen\"}, {\"Product_Name\": \"SAMSUNG\", \"Stars\": 0.0, \"Ratings\": 0, \"Reviews\": 0, \"Current_price\": 295900, \"Marked_price\": 295900, \"Operating_system\": \"Linux\"}, {\"Product_Name\": \"Croma\", \"Stars\": 4.2, \"Ratings\": 1773, \"Reviews\": 217, \"Current_price\": 7990, \"Marked_price\": 20000, \"Operating_system\": \"Android\"}, {\"Product_Name\": \"SAMSUNG\", \"Stars\": 4.5, \"Ratings\": 0, \"Reviews\": 0, \"Current_price\": 104900, \"Marked_price\": 104900, \"Operating_system\": \"Tizen\"}, {\"Product_Name\": \"PHILIPS\", \"Stars\": 0.0, \"Ratings\": 0, \"Reviews\": 0, \"Current_price\": 48900, \"Marked_price\": 89990, \"Operating_system\": \"Android\"}, {\"Product_Name\": \"SAMSUNG\", \"Stars\": 4.0, \"Ratings\": 0, \"Reviews\": 0, \"Current_price\": 53999, \"Marked_price\": 70900, \"Operating_system\": \"Tizen\"}, {\"Product_Name\": \"Croma\", \"Stars\": 4.3, \"Ratings\": 0, \"Reviews\": 0, \"Current_price\": 11990, \"Marked_price\": 25000, \"Operating_system\": \"Android\"}, {\"Product_Name\": \"Panasonic\", \"Stars\": 4.4, \"Ratings\": 0, \"Reviews\": 0, \"Current_price\": 69999, \"Marked_price\": 139900, \"Operating_system\": \"Linux\"}, {\"Product_Name\": \"LG\", \"Stars\": 4.4, \"Ratings\": 0, \"Reviews\": 0, \"Current_price\": 79990, \"Marked_price\": 79990, \"Operating_system\": \"Linux\"}, {\"Product_Name\": \"CORNEA\", \"Stars\": 0.0, \"Ratings\": 0, \"Reviews\": 0, \"Current_price\": 228999, \"Marked_price\": 299999, \"Operating_system\": \"Android\"}, {\"Product_Name\": \"Adsun\", \"Stars\": 3.8, \"Ratings\": 6730, \"Reviews\": 929, \"Current_price\": 8999, \"Marked_price\": 29999, \"Operating_system\": \"Android\"}, {\"Product_Name\": \"LG\", \"Stars\": 0.0, \"Ratings\": 0, \"Reviews\": 0, \"Current_price\": 170400, \"Marked_price\": 299990, \"Operating_system\": \"WebOS\"}, {\"Product_Name\": \"Adsun\", \"Stars\": 3.8, \"Ratings\": 6730, \"Reviews\": 929, \"Current_price\": 8699, \"Marked_price\": 21999, \"Operating_system\": \"Android\"}, {\"Product_Name\": \"SAMSUNG\", \"Stars\": 4.5, \"Ratings\": 0, \"Reviews\": 0, \"Current_price\": 146900, \"Marked_price\": 146900, \"Operating_system\": \"Linux\"}, {\"Product_Name\": \"Croma\", \"Stars\": 3.9, \"Ratings\": 0, \"Reviews\": 0, \"Current_price\": 18990, \"Marked_price\": 30000, \"Operating_system\": \"Android\"}, {\"Product_Name\": \"iMEE\", \"Stars\": 0.0, \"Ratings\": 0, \"Reviews\": 0, \"Current_price\": 9899, \"Marked_price\": 18999, \"Operating_system\": \"Android\"}, {\"Product_Name\": \"kinger\", \"Stars\": 0.0, \"Ratings\": 0, \"Reviews\": 0, \"Current_price\": 12999, \"Marked_price\": 22490, \"Operating_system\": \"Android\"}, {\"Product_Name\": \"Adsun\", \"Stars\": 3.8, \"Ratings\": 6730, \"Reviews\": 929, \"Current_price\": 6199, \"Marked_price\": 12999, \"Operating_system\": \"Linux\"}, {\"Product_Name\": \"Panasonic\", \"Stars\": 0.0, \"Ratings\": 0, \"Reviews\": 0, \"Current_price\": 56990, \"Marked_price\": 69990, \"Operating_system\": \"Android\"}, {\"Product_Name\": \"Panasonic\", \"Stars\": 0.0, \"Ratings\": 0, \"Reviews\": 0, \"Current_price\": 62990, \"Marked_price\": 82990, \"Operating_system\": \"Linux\"}, {\"Product_Name\": \"iMEE\", \"Stars\": 0.0, \"Ratings\": 0, \"Reviews\": 0, \"Current_price\": 9899, \"Marked_price\": 18999, \"Operating_system\": \"Android\"}, {\"Product_Name\": \"Adsun\", \"Stars\": 3.8, \"Ratings\": 6730, \"Reviews\": 929, \"Current_price\": 16999, \"Marked_price\": 39999, \"Operating_system\": \"Android\"}, {\"Product_Name\": \"Panasonic\", \"Stars\": 3.7, \"Ratings\": 0, \"Reviews\": 0, \"Current_price\": 43805, \"Marked_price\": 56990, \"Operating_system\": \"Android\"}, {\"Product_Name\": \"HUIDI\", \"Stars\": 0.0, \"Ratings\": 0, \"Reviews\": 0, \"Current_price\": 7399, \"Marked_price\": 16599, \"Operating_system\": \"Linux\"}, {\"Product_Name\": \"LumX\", \"Stars\": 4.1, \"Ratings\": 0, \"Reviews\": 0, \"Current_price\": 7349, \"Marked_price\": 16890, \"Operating_system\": \"Linux\"}, {\"Product_Name\": \"Croma\", \"Stars\": 4.2, \"Ratings\": 1773, \"Reviews\": 217, \"Current_price\": 7990, \"Marked_price\": 20000, \"Operating_system\": \"Android\"}, {\"Product_Name\": \"CloudWalker\", \"Stars\": 4.3, \"Ratings\": 1706, \"Reviews\": 466, \"Current_price\": 17999, \"Marked_price\": 32990, \"Operating_system\": \"Linux\"}, {\"Product_Name\": \"iMEE\", \"Stars\": 0.0, \"Ratings\": 0, \"Reviews\": 0, \"Current_price\": 10399, \"Marked_price\": 19999, \"Operating_system\": \"Android\"}, {\"Product_Name\": \"DETEL\", \"Stars\": 4.1, \"Ratings\": 0, \"Reviews\": 0, \"Current_price\": 23499, \"Marked_price\": 44900, \"Operating_system\": \"Android\"}, {\"Product_Name\": \"Adsun\", \"Stars\": 3.8, \"Ratings\": 6730, \"Reviews\": 929, \"Current_price\": 8699, \"Marked_price\": 21999, \"Operating_system\": \"Android\"}, {\"Product_Name\": \"Nokia\", \"Stars\": 0.0, \"Ratings\": 0, \"Reviews\": 0, \"Current_price\": 49999, \"Marked_price\": 79999, \"Operating_system\": \"Android\"}, {\"Product_Name\": \"Nokia\", \"Stars\": 4.1, \"Ratings\": 5890, \"Reviews\": 1028, \"Current_price\": 29999, \"Marked_price\": 41999, \"Operating_system\": \"Android\"}, {\"Product_Name\": \"CloudWalker\", \"Stars\": 3.9, \"Ratings\": 2746, \"Reviews\": 952, \"Current_price\": 24999, \"Marked_price\": 37990, \"Operating_system\": \"Android\"}, {\"Product_Name\": \"Croma\", \"Stars\": 4.3, \"Ratings\": 0, \"Reviews\": 0, \"Current_price\": 11990, \"Marked_price\": 25000, \"Operating_system\": \"Android\"}, {\"Product_Name\": \"IMPEX\", \"Stars\": 0.0, \"Ratings\": 0, \"Reviews\": 0, \"Current_price\": 19999, \"Marked_price\": 28690, \"Operating_system\": \"Linux\"}, {\"Product_Name\": \"SAMSUNG\", \"Stars\": 0.0, \"Ratings\": 0, \"Reviews\": 0, \"Current_price\": 222999, \"Marked_price\": 264900, \"Operating_system\": \"Tizen\"}, {\"Product_Name\": \"kinger\", \"Stars\": 0.0, \"Ratings\": 0, \"Reviews\": 0, \"Current_price\": 12999, \"Marked_price\": 22490, \"Operating_system\": \"Android\"}, {\"Product_Name\": \"Adsun\", \"Stars\": 3.8, \"Ratings\": 6730, \"Reviews\": 929, \"Current_price\": 8999, \"Marked_price\": 29999, \"Operating_system\": \"Android\"}, {\"Product_Name\": \"Panasonic\", \"Stars\": 4.4, \"Ratings\": 0, \"Reviews\": 0, \"Current_price\": 41999, \"Marked_price\": 84900, \"Operating_system\": \"Linux\"}, {\"Product_Name\": \"kinger\", \"Stars\": 0.0, \"Ratings\": 0, \"Reviews\": 0, \"Current_price\": 12999, \"Marked_price\": 22490, \"Operating_system\": \"Android\"}, {\"Product_Name\": \"kinger\", \"Stars\": 0.0, \"Ratings\": 0, \"Reviews\": 0, \"Current_price\": 12999, \"Marked_price\": 22490, \"Operating_system\": \"Android\"}, {\"Product_Name\": \"Croma\", \"Stars\": 3.9, \"Ratings\": 0, \"Reviews\": 0, \"Current_price\": 18990, \"Marked_price\": 30000, \"Operating_system\": \"Android\"}, {\"Product_Name\": \"LG\", \"Stars\": 0.0, \"Ratings\": 0, \"Reviews\": 0, \"Current_price\": 317480, \"Marked_price\": 399990, \"Operating_system\": \"WebOS\"}, {\"Product_Name\": \"KODAK\", \"Stars\": 0.0, \"Ratings\": 0, \"Reviews\": 0, \"Current_price\": 29999, \"Marked_price\": 33999, \"Operating_system\": \"Android\"}, {\"Product_Name\": \"MOTOROLA\", \"Stars\": 4.4, \"Ratings\": 9686, \"Reviews\": 1532, \"Current_price\": 48999, \"Marked_price\": 59999, \"Operating_system\": \"Android\"}, {\"Product_Name\": \"Adsun\", \"Stars\": 3.8, \"Ratings\": 6730, \"Reviews\": 929, \"Current_price\": 6199, \"Marked_price\": 12999, \"Operating_system\": \"Linux\"}, {\"Product_Name\": \"HUIDI\", \"Stars\": 4.0, \"Ratings\": 4864, \"Reviews\": 558, \"Current_price\": 5999, \"Marked_price\": 10999, \"Operating_system\": \"Linux\"}, {\"Product_Name\": \"iMEE\", \"Stars\": 0.0, \"Ratings\": 0, \"Reviews\": 0, \"Current_price\": 14499, \"Marked_price\": 19999, \"Operating_system\": \"Android\"}, {\"Product_Name\": \"JVC\", \"Stars\": 4.1, \"Ratings\": 799, \"Reviews\": 210, \"Current_price\": 37999, \"Marked_price\": 59999, \"Operating_system\": \"Android\"}, {\"Product_Name\": \"Croma\", \"Stars\": 4.2, \"Ratings\": 1773, \"Reviews\": 217, \"Current_price\": 7990, \"Marked_price\": 20000, \"Operating_system\": \"Android\"}, {\"Product_Name\": \"JVC\", \"Stars\": 0.0, \"Ratings\": 0, \"Reviews\": 0, \"Current_price\": 24990, \"Marked_price\": 27990, \"Operating_system\": \"Android\"}, {\"Product_Name\": \"MOTOROLA\", \"Stars\": 4.4, \"Ratings\": 9687, \"Reviews\": 1532, \"Current_price\": 48999, \"Marked_price\": 59999, \"Operating_system\": \"Android\"}, {\"Product_Name\": \"LG\", \"Stars\": 4.1, \"Ratings\": 0, \"Reviews\": 0, \"Current_price\": 77900, \"Marked_price\": 77900, \"Operating_system\": \"Linux\"}, {\"Product_Name\": \"Adsun\", \"Stars\": 3.8, \"Ratings\": 6742, \"Reviews\": 930, \"Current_price\": 8699, \"Marked_price\": 21999, \"Operating_system\": \"Android\"}, {\"Product_Name\": \"MOTOROLA\", \"Stars\": 4.3, \"Ratings\": 22486, \"Reviews\": 3538, \"Current_price\": 27999, \"Marked_price\": 35500, \"Operating_system\": \"Android\"}, {\"Product_Name\": \"LG\", \"Stars\": 5.0, \"Ratings\": 0, \"Reviews\": 0, \"Current_price\": 149999, \"Marked_price\": 219990, \"Operating_system\": \"WebOS\"}, {\"Product_Name\": \"LG\", \"Stars\": 0.0, \"Ratings\": 0, \"Reviews\": 0, \"Current_price\": 124900, \"Marked_price\": 234990, \"Operating_system\": \"WebOS\"}, {\"Product_Name\": \"Croma\", \"Stars\": 4.2, \"Ratings\": 0, \"Reviews\": 0, \"Current_price\": 11990, \"Marked_price\": 25000, \"Operating_system\": \"Android\"}, {\"Product_Name\": \"kinger\", \"Stars\": 0.0, \"Ratings\": 0, \"Reviews\": 0, \"Current_price\": 12999, \"Marked_price\": 22490, \"Operating_system\": \"Android\"}, {\"Product_Name\": \"Panasonic\", \"Stars\": 4.3, \"Ratings\": 8389, \"Reviews\": 1179, \"Current_price\": 24990, \"Marked_price\": 24990, \"Operating_system\": \"Android\"}, {\"Product_Name\": \"TCL\", \"Stars\": 4.3, \"Ratings\": 0, \"Reviews\": 0, \"Current_price\": 69990, \"Marked_price\": 159990, \"Operating_system\": \"Android\"}, {\"Product_Name\": \"Adsun\", \"Stars\": 3.8, \"Ratings\": 6742, \"Reviews\": 930, \"Current_price\": 8999, \"Marked_price\": 29999, \"Operating_system\": \"Android\"}, {\"Product_Name\": \"SAMSUNG\", \"Stars\": 4.5, \"Ratings\": 0, \"Reviews\": 0, \"Current_price\": 89999, \"Marked_price\": 149900, \"Operating_system\": \"Tizen\"}, {\"Product_Name\": \"kinger\", \"Stars\": 0.0, \"Ratings\": 0, \"Reviews\": 0, \"Current_price\": 12999, \"Marked_price\": 22490, \"Operating_system\": \"Android\"}, {\"Product_Name\": \"Croma\", \"Stars\": 4.0, \"Ratings\": 0, \"Reviews\": 0, \"Current_price\": 13990, \"Marked_price\": 25000, \"Operating_system\": \"FireTv OS 6\"}, {\"Product_Name\": \"Adsun\", \"Stars\": 3.8, \"Ratings\": 6742, \"Reviews\": 930, \"Current_price\": 6199, \"Marked_price\": 12999, \"Operating_system\": \"Linux\"}, {\"Product_Name\": \"Yuwa\", \"Stars\": 3.7, \"Ratings\": 0, \"Reviews\": 0, \"Current_price\": 8449, \"Marked_price\": 21990, \"Operating_system\": \"Android\"}, {\"Product_Name\": \"SAMSUNG\", \"Stars\": 4.4, \"Ratings\": 0, \"Reviews\": 0, \"Current_price\": 50900, \"Marked_price\": 50900, \"Operating_system\": \"Linux\"}, {\"Product_Name\": \"SAMSUNG\", \"Stars\": 4.3, \"Ratings\": 0, \"Reviews\": 0, \"Current_price\": 121999, \"Marked_price\": 143900, \"Operating_system\": \"Tizen\"}, {\"Product_Name\": \"Adsun\", \"Stars\": 3.8, \"Ratings\": 6742, \"Reviews\": 930, \"Current_price\": 16999, \"Marked_price\": 39999, \"Operating_system\": \"Android\"}, {\"Product_Name\": \"Yuwa\", \"Stars\": 3.8, \"Ratings\": 0, \"Reviews\": 0, \"Current_price\": 12499, \"Marked_price\": 22500, \"Operating_system\": \"Android\"}, {\"Product_Name\": \"JVC\", \"Stars\": 0.0, \"Ratings\": 0, \"Reviews\": 0, \"Current_price\": 13990, \"Marked_price\": 15990, \"Operating_system\": \"Android\"}, {\"Product_Name\": \"Adsun\", \"Stars\": 3.8, \"Ratings\": 6742, \"Reviews\": 930, \"Current_price\": 8999, \"Marked_price\": 29999, \"Operating_system\": \"Android\"}, {\"Product_Name\": \"Croma\", \"Stars\": 4.2, \"Ratings\": 1773, \"Reviews\": 217, \"Current_price\": 7990, \"Marked_price\": 20000, \"Operating_system\": \"Android\"}, {\"Product_Name\": \"kinger\", \"Stars\": 0.0, \"Ratings\": 0, \"Reviews\": 0, \"Current_price\": 12999, \"Marked_price\": 22490, \"Operating_system\": \"Android\"}, {\"Product_Name\": \"Onix\", \"Stars\": 4.8, \"Ratings\": 0, \"Reviews\": 0, \"Current_price\": 32222, \"Marked_price\": 38790, \"Operating_system\": \"Linux\"}, {\"Product_Name\": \"CORNEA\", \"Stars\": 0.0, \"Ratings\": 0, \"Reviews\": 0, \"Current_price\": 36999, \"Marked_price\": 49999, \"Operating_system\": \"Android\"}, {\"Product_Name\": \"Adsun\", \"Stars\": 3.8, \"Ratings\": 6742, \"Reviews\": 930, \"Current_price\": 8699, \"Marked_price\": 21999, \"Operating_system\": \"Android\"}, {\"Product_Name\": \"KODAK\", \"Stars\": 4.4, \"Ratings\": 31763, \"Reviews\": 7301, \"Current_price\": 21490, \"Marked_price\": 24999, \"Operating_system\": \"Android\"}, {\"Product_Name\": \"Compaq\", \"Stars\": 3.9, \"Ratings\": 0, \"Reviews\": 0, \"Current_price\": 26999, \"Marked_price\": 45999, \"Operating_system\": \"Android\"}, {\"Product_Name\": \"kinger\", \"Stars\": 0.0, \"Ratings\": 0, \"Reviews\": 0, \"Current_price\": 12999, \"Marked_price\": 22490, \"Operating_system\": \"Android\"}, {\"Product_Name\": \"Croma\", \"Stars\": 4.2, \"Ratings\": 0, \"Reviews\": 0, \"Current_price\": 11990, \"Marked_price\": 25000, \"Operating_system\": \"Android\"}, {\"Product_Name\": \"kinger\", \"Stars\": 0.0, \"Ratings\": 0, \"Reviews\": 0, \"Current_price\": 12999, \"Marked_price\": 22490, \"Operating_system\": \"Android\"}, {\"Product_Name\": \"SAMSUNG\", \"Stars\": 4.8, \"Ratings\": 0, \"Reviews\": 0, \"Current_price\": 145900, \"Marked_price\": 145900, \"Operating_system\": \"Tizen\"}, {\"Product_Name\": \"SAMSUNG\", \"Stars\": 4.6, \"Ratings\": 0, \"Reviews\": 0, \"Current_price\": 93999, \"Marked_price\": 101900, \"Operating_system\": \"Tizen\"}, {\"Product_Name\": \"Croma\", \"Stars\": 3.9, \"Ratings\": 0, \"Reviews\": 0, \"Current_price\": 18990, \"Marked_price\": 30000, \"Operating_system\": \"Android\"}, {\"Product_Name\": \"MOTOROLA\", \"Stars\": 4.3, \"Ratings\": 13623, \"Reviews\": 2223, \"Current_price\": 57999, \"Marked_price\": 115399, \"Operating_system\": \"Android\"}, {\"Product_Name\": \"Oxygen\", \"Stars\": 0.0, \"Ratings\": 0, \"Reviews\": 0, \"Current_price\": 69990, \"Marked_price\": 124990, \"Operating_system\": \"Android\"}, {\"Product_Name\": \"LG\", \"Stars\": 4.3, \"Ratings\": 0, \"Reviews\": 0, \"Current_price\": 74999, \"Marked_price\": 90990, \"Operating_system\": \"WebOS\"}, {\"Product_Name\": \"Adsun\", \"Stars\": 3.8, \"Ratings\": 6742, \"Reviews\": 930, \"Current_price\": 6199, \"Marked_price\": 12999, \"Operating_system\": \"Linux\"}, {\"Product_Name\": \"Candes\", \"Stars\": 4.0, \"Ratings\": 0, \"Reviews\": 0, \"Current_price\": 9599, \"Marked_price\": 24490, \"Operating_system\": \"Android\"}, {\"Product_Name\": \"Adsun\", \"Stars\": 3.8, \"Ratings\": 6742, \"Reviews\": 930, \"Current_price\": 16999, \"Marked_price\": 39999, \"Operating_system\": \"Android\"}, {\"Product_Name\": \"LG\", \"Stars\": 4.0, \"Ratings\": 0, \"Reviews\": 0, \"Current_price\": 35999, \"Marked_price\": 47990, \"Operating_system\": \"Linux\"}, {\"Product_Name\": \"Adsun\", \"Stars\": 3.8, \"Ratings\": 6742, \"Reviews\": 930, \"Current_price\": 7999, \"Marked_price\": 16999, \"Operating_system\": \"Linux\"}, {\"Product_Name\": \"kinger\", \"Stars\": 0.0, \"Ratings\": 0, \"Reviews\": 0, \"Current_price\": 12999, \"Marked_price\": 22490, \"Operating_system\": \"Android\"}, {\"Product_Name\": \"HUIDI\", \"Stars\": 4.0, \"Ratings\": 4864, \"Reviews\": 558, \"Current_price\": 8999, \"Marked_price\": 18599, \"Operating_system\": \"Android\"}, {\"Product_Name\": \"Mi\", \"Stars\": 4.4, \"Ratings\": 57944, \"Reviews\": 6362, \"Current_price\": 28999, \"Marked_price\": 28999, \"Operating_system\": \"Android\"}, {\"Product_Name\": \"Croma\", \"Stars\": 4.2, \"Ratings\": 1773, \"Reviews\": 217, \"Current_price\": 7990, \"Marked_price\": 20000, \"Operating_system\": \"Android\"}, {\"Product_Name\": \"TCL\", \"Stars\": 4.0, \"Ratings\": 0, \"Reviews\": 0, \"Current_price\": 79999, \"Marked_price\": 149900, \"Operating_system\": \"Linux\"}, {\"Product_Name\": \"SAMSUNG\", \"Stars\": 2.8, \"Ratings\": 0, \"Reviews\": 0, \"Current_price\": 145900, \"Marked_price\": 145900, \"Operating_system\": \"Tizen\"}, {\"Product_Name\": \"SAMSUNG\", \"Stars\": 0.0, \"Ratings\": 0, \"Reviews\": 0, \"Current_price\": 149900, \"Marked_price\": 149900, \"Operating_system\": \"Tizen\"}, {\"Product_Name\": \"Adsun\", \"Stars\": 3.8, \"Ratings\": 6742, \"Reviews\": 930, \"Current_price\": 8699, \"Marked_price\": 21999, \"Operating_system\": \"Android\"}, {\"Product_Name\": \"iMEE\", \"Stars\": 0.0, \"Ratings\": 0, \"Reviews\": 0, \"Current_price\": 10399, \"Marked_price\": 19999, \"Operating_system\": \"Android\"}, {\"Product_Name\": \"Sansui\", \"Stars\": 4.2, \"Ratings\": 0, \"Reviews\": 0, \"Current_price\": 12499, \"Marked_price\": 14990, \"Operating_system\": \"Linux\"}, {\"Product_Name\": \"LG\", \"Stars\": 4.3, \"Ratings\": 0, \"Reviews\": 0, \"Current_price\": 78499, \"Marked_price\": 110990, \"Operating_system\": \"WebOS\"}, {\"Product_Name\": \"Croma\", \"Stars\": 4.2, \"Ratings\": 0, \"Reviews\": 0, \"Current_price\": 11990, \"Marked_price\": 25000, \"Operating_system\": \"Android\"}, {\"Product_Name\": \"kinger\", \"Stars\": 0.0, \"Ratings\": 0, \"Reviews\": 0, \"Current_price\": 12999, \"Marked_price\": 22490, \"Operating_system\": \"Android\"}, {\"Product_Name\": \"LG\", \"Stars\": 4.8, \"Ratings\": 0, \"Reviews\": 0, \"Current_price\": 104990, \"Marked_price\": 104990, \"Operating_system\": \"WebOS\"}, {\"Product_Name\": \"TCL\", \"Stars\": 4.5, \"Ratings\": 0, \"Reviews\": 0, \"Current_price\": 89999, \"Marked_price\": 179990, \"Operating_system\": \"Linux\"}, {\"Product_Name\": \"Adsun\", \"Stars\": 3.8, \"Ratings\": 6742, \"Reviews\": 930, \"Current_price\": 8999, \"Marked_price\": 29999, \"Operating_system\": \"Android\"}, {\"Product_Name\": \"Haier\", \"Stars\": 0.0, \"Ratings\": 0, \"Reviews\": 0, \"Current_price\": 19499, \"Marked_price\": 31590, \"Operating_system\": \"Linux\"}, {\"Product_Name\": \"Haier\", \"Stars\": 4.1, \"Ratings\": 0, \"Reviews\": 0, \"Current_price\": 34999, \"Marked_price\": 43990, \"Operating_system\": \"Android\"}, {\"Product_Name\": \"Hyundai\", \"Stars\": 4.1, \"Ratings\": 0, \"Reviews\": 0, \"Current_price\": 30990, \"Marked_price\": 71990, \"Operating_system\": \"Android\"}, {\"Product_Name\": \"Adsun\", \"Stars\": 3.8, \"Ratings\": 6742, \"Reviews\": 930, \"Current_price\": 6199, \"Marked_price\": 12999, \"Operating_system\": \"Linux\"}, {\"Product_Name\": \"Adsun\", \"Stars\": 3.8, \"Ratings\": 6742, \"Reviews\": 930, \"Current_price\": 12999, \"Marked_price\": 22999, \"Operating_system\": \"Android\"}, {\"Product_Name\": \"kinger\", \"Stars\": 0.0, \"Ratings\": 0, \"Reviews\": 0, \"Current_price\": 12999, \"Marked_price\": 22490, \"Operating_system\": \"Android\"}, {\"Product_Name\": \"LG\", \"Stars\": 4.5, \"Ratings\": 0, \"Reviews\": 0, \"Current_price\": 67990, \"Marked_price\": 67990, \"Operating_system\": \"WebOS\"}, {\"Product_Name\": \"Adsun\", \"Stars\": 3.8, \"Ratings\": 6742, \"Reviews\": 930, \"Current_price\": 7999, \"Marked_price\": 16999, \"Operating_system\": \"Linux\"}, {\"Product_Name\": \"Nokia\", \"Stars\": 0.0, \"Ratings\": 0, \"Reviews\": 0, \"Current_price\": 41999, \"Marked_price\": 59999, \"Operating_system\": \"Android\"}, {\"Product_Name\": \"kinger\", \"Stars\": 0.0, \"Ratings\": 0, \"Reviews\": 0, \"Current_price\": 12999, \"Marked_price\": 22490, \"Operating_system\": \"Android\"}, {\"Product_Name\": \"iMEE\", \"Stars\": 0.0, \"Ratings\": 0, \"Reviews\": 0, \"Current_price\": 17399, \"Marked_price\": 29999, \"Operating_system\": \"Android\"}, {\"Product_Name\": \"Croma\", \"Stars\": 4.2, \"Ratings\": 1773, \"Reviews\": 217, \"Current_price\": 7990, \"Marked_price\": 20000, \"Operating_system\": \"Android\"}, {\"Product_Name\": \"kinger\", \"Stars\": 0.0, \"Ratings\": 0, \"Reviews\": 0, \"Current_price\": 12999, \"Marked_price\": 22490, \"Operating_system\": \"Android\"}, {\"Product_Name\": \"LG\", \"Stars\": 4.4, \"Ratings\": 0, \"Reviews\": 0, \"Current_price\": 124999, \"Marked_price\": 177990, \"Operating_system\": \"WebOS\"}, {\"Product_Name\": \"PHILIPS\", \"Stars\": 0.0, \"Ratings\": 0, \"Reviews\": 0, \"Current_price\": 41999, \"Marked_price\": 119990, \"Operating_system\": \"Linux\"}, {\"Product_Name\": \"Adsun\", \"Stars\": 3.8, \"Ratings\": 6730, \"Reviews\": 929, \"Current_price\": 8699, \"Marked_price\": 21999, \"Operating_system\": \"Android\"}, {\"Product_Name\": \"Dyanora\", \"Stars\": 4.4, \"Ratings\": 0, \"Reviews\": 0, \"Current_price\": 27999, \"Marked_price\": 40999, \"Operating_system\": \"Android\"}, {\"Product_Name\": \"kinger\", \"Stars\": 0.0, \"Ratings\": 0, \"Reviews\": 0, \"Current_price\": 12999, \"Marked_price\": 22490, \"Operating_system\": \"Android\"}, {\"Product_Name\": \"Candes\", \"Stars\": 4.0, \"Ratings\": 0, \"Reviews\": 0, \"Current_price\": 14599, \"Marked_price\": 29990, \"Operating_system\": \"Android\"}, {\"Product_Name\": \"Croma\", \"Stars\": 4.3, \"Ratings\": 0, \"Reviews\": 0, \"Current_price\": 11990, \"Marked_price\": 25000, \"Operating_system\": \"Android\"}, {\"Product_Name\": \"iMEE\", \"Stars\": 0.0, \"Ratings\": 0, \"Reviews\": 0, \"Current_price\": 9899, \"Marked_price\": 18999, \"Operating_system\": \"Android\"}, {\"Product_Name\": \"TCL\", \"Stars\": 4.3, \"Ratings\": 0, \"Reviews\": 0, \"Current_price\": 82990, \"Marked_price\": 159990, \"Operating_system\": \"Android\"}, {\"Product_Name\": \"Onix\", \"Stars\": 3.7, \"Ratings\": 0, \"Reviews\": 0, \"Current_price\": 26339, \"Marked_price\": 26349, \"Operating_system\": \"Linux\"}, {\"Product_Name\": \"Adsun\", \"Stars\": 3.8, \"Ratings\": 6730, \"Reviews\": 929, \"Current_price\": 8999, \"Marked_price\": 29999, \"Operating_system\": \"Android\"}, {\"Product_Name\": \"Candes\", \"Stars\": 4.0, \"Ratings\": 0, \"Reviews\": 0, \"Current_price\": 8499, \"Marked_price\": 17990, \"Operating_system\": \"Android\"}, {\"Product_Name\": \"Haier\", \"Stars\": 4.1, \"Ratings\": 0, \"Reviews\": 0, \"Current_price\": 15490, \"Marked_price\": 20990, \"Operating_system\": \"Android\"}, {\"Product_Name\": \"JVC\", \"Stars\": 4.1, \"Ratings\": 789, \"Reviews\": 165, \"Current_price\": 16990, \"Marked_price\": 21000, \"Operating_system\": \"Android\"}, {\"Product_Name\": \"Croma\", \"Stars\": 3.9, \"Ratings\": 0, \"Reviews\": 0, \"Current_price\": 18990, \"Marked_price\": 30000, \"Operating_system\": \"Android\"}, {\"Product_Name\": \"Thomson\", \"Stars\": 4.1, \"Ratings\": 7953, \"Reviews\": 2017, \"Current_price\": 29999, \"Marked_price\": 49999, \"Operating_system\": \"Android\"}, {\"Product_Name\": \"CORNEA\", \"Stars\": 0.0, \"Ratings\": 0, \"Reviews\": 0, \"Current_price\": 54999, \"Marked_price\": 74999, \"Operating_system\": \"Android\"}, {\"Product_Name\": \"Vu\", \"Stars\": 4.2, \"Ratings\": 0, \"Reviews\": 0, \"Current_price\": 259999, \"Marked_price\": 350000, \"Operating_system\": \"Android\"}, {\"Product_Name\": \"Adsun\", \"Stars\": 3.8, \"Ratings\": 6730, \"Reviews\": 929, \"Current_price\": 16999, \"Marked_price\": 39999, \"Operating_system\": \"Android\"}, {\"Product_Name\": \"Thomson\", \"Stars\": 4.1, \"Ratings\": 8625, \"Reviews\": 2685, \"Current_price\": 16999, \"Marked_price\": 16999, \"Operating_system\": \"Android\"}, {\"Product_Name\": \"Nokia\", \"Stars\": 4.1, \"Ratings\": 5891, \"Reviews\": 1031, \"Current_price\": 28999, \"Marked_price\": 39999, \"Operating_system\": \"Android\"}, {\"Product_Name\": \"iMEE\", \"Stars\": 0.0, \"Ratings\": 0, \"Reviews\": 0, \"Current_price\": 19399, \"Marked_price\": 29999, \"Operating_system\": \"Android\"}, {\"Product_Name\": \"Croma\", \"Stars\": 4.2, \"Ratings\": 1773, \"Reviews\": 217, \"Current_price\": 7990, \"Marked_price\": 20000, \"Operating_system\": \"Android\"}, {\"Product_Name\": \"LG\", \"Stars\": 3.7, \"Ratings\": 0, \"Reviews\": 0, \"Current_price\": 164990, \"Marked_price\": 299990, \"Operating_system\": \"WebOS\"}, {\"Product_Name\": \"LG\", \"Stars\": 4.2, \"Ratings\": 0, \"Reviews\": 0, \"Current_price\": 39990, \"Marked_price\": 59490, \"Operating_system\": \"Linux\"}, {\"Product_Name\": \"Haier\", \"Stars\": 4.1, \"Ratings\": 0, \"Reviews\": 0, \"Current_price\": 17990, \"Marked_price\": 22990, \"Operating_system\": \"Android\"}, {\"Product_Name\": \"Adsun\", \"Stars\": 3.8, \"Ratings\": 6742, \"Reviews\": 930, \"Current_price\": 8699, \"Marked_price\": 21999, \"Operating_system\": \"Android\"}, {\"Product_Name\": \"SAMSUNG\", \"Stars\": 4.1, \"Ratings\": 0, \"Reviews\": 0, \"Current_price\": 48400, \"Marked_price\": 62900, \"Operating_system\": \"Tizen\"}, {\"Product_Name\": \"Yuwa\", \"Stars\": 0.0, \"Ratings\": 0, \"Reviews\": 0, \"Current_price\": 7899, \"Marked_price\": 13799, \"Operating_system\": \"Linux\"}, {\"Product_Name\": \"kinger\", \"Stars\": 0.0, \"Ratings\": 0, \"Reviews\": 0, \"Current_price\": 12999, \"Marked_price\": 22490, \"Operating_system\": \"Android\"}, {\"Product_Name\": \"Croma\", \"Stars\": 4.2, \"Ratings\": 0, \"Reviews\": 0, \"Current_price\": 11990, \"Marked_price\": 25000, \"Operating_system\": \"Android\"}, {\"Product_Name\": \"JVC\", \"Stars\": 0.0, \"Ratings\": 0, \"Reviews\": 0, \"Current_price\": 15990, \"Marked_price\": 18890, \"Operating_system\": \"Android\"}, {\"Product_Name\": \"Bush\", \"Stars\": 0.0, \"Ratings\": 0, \"Reviews\": 0, \"Current_price\": 7999, \"Marked_price\": 11999, \"Operating_system\": \"Linux\"}, {\"Product_Name\": \"Haier\", \"Stars\": 4.3, \"Ratings\": 0, \"Reviews\": 0, \"Current_price\": 18999, \"Marked_price\": 31999, \"Operating_system\": \"Android\"}, {\"Product_Name\": \"Adsun\", \"Stars\": 3.8, \"Ratings\": 6742, \"Reviews\": 930, \"Current_price\": 8999, \"Marked_price\": 29999, \"Operating_system\": \"Android\"}, {\"Product_Name\": \"Bush\", \"Stars\": 0.0, \"Ratings\": 0, \"Reviews\": 0, \"Current_price\": 14999, \"Marked_price\": 16999, \"Operating_system\": \"Android\"}, {\"Product_Name\": \"LG\", \"Stars\": 4.4, \"Ratings\": 0, \"Reviews\": 0, \"Current_price\": 199999, \"Marked_price\": 349990, \"Operating_system\": \"WebOS\"}, {\"Product_Name\": \"Croma\", \"Stars\": 0.0, \"Ratings\": 0, \"Reviews\": 0, \"Current_price\": 36990, \"Marked_price\": 75000, \"Operating_system\": \"WebOS\"}, {\"Product_Name\": \"Adsun\", \"Stars\": 3.8, \"Ratings\": 6742, \"Reviews\": 930, \"Current_price\": 6199, \"Marked_price\": 12999, \"Operating_system\": \"Linux\"}, {\"Product_Name\": \"LG\", \"Stars\": 4.4, \"Ratings\": 12910, \"Reviews\": 1465, \"Current_price\": 83999, \"Marked_price\": 139990, \"Operating_system\": \"WebOS\"}, {\"Product_Name\": \"LG\", \"Stars\": 2.5, \"Ratings\": 0, \"Reviews\": 0, \"Current_price\": 189999, \"Marked_price\": 284990, \"Operating_system\": \"WebOS\"}, {\"Product_Name\": \"SAMSUNG\", \"Stars\": 0.0, \"Ratings\": 0, \"Reviews\": 0, \"Current_price\": 124999, \"Marked_price\": 184900, \"Operating_system\": \"Tizen\"}, {\"Product_Name\": \"Croma\", \"Stars\": 3.9, \"Ratings\": 0, \"Reviews\": 0, \"Current_price\": 18990, \"Marked_price\": 30000, \"Operating_system\": \"Android\"}, {\"Product_Name\": \"Mi\", \"Stars\": 4.4, \"Ratings\": 19383, \"Reviews\": 1738, \"Current_price\": 41250, \"Marked_price\": 42350, \"Operating_system\": \"Android\"}, {\"Product_Name\": \"Haier\", \"Stars\": 4.0, \"Ratings\": 0, \"Reviews\": 0, \"Current_price\": 43999, \"Marked_price\": 54990, \"Operating_system\": \"Android\"}, {\"Product_Name\": \"Haier\", \"Stars\": 0.0, \"Ratings\": 0, \"Reviews\": 0, \"Current_price\": 64646, \"Marked_price\": 106990, \"Operating_system\": \"Android\"}, {\"Product_Name\": \"Croma\", \"Stars\": 4.2, \"Ratings\": 1773, \"Reviews\": 217, \"Current_price\": 7990, \"Marked_price\": 20000, \"Operating_system\": \"Android\"}, {\"Product_Name\": \"Panasonic\", \"Stars\": 4.0, \"Ratings\": 0, \"Reviews\": 0, \"Current_price\": 37945, \"Marked_price\": 50990, \"Operating_system\": \"Android\"}, {\"Product_Name\": \"SAMSUNG\", \"Stars\": 3.9, \"Ratings\": 0, \"Reviews\": 0, \"Current_price\": 66990, \"Marked_price\": 86900, \"Operating_system\": \"Tizen\"}, {\"Product_Name\": \"LG\", \"Stars\": 3.7, \"Ratings\": 0, \"Reviews\": 0, \"Current_price\": 35670, \"Marked_price\": 44990, \"Operating_system\": \"WebOS\"}, {\"Product_Name\": \"Adsun\", \"Stars\": 3.8, \"Ratings\": 6730, \"Reviews\": 929, \"Current_price\": 8699, \"Marked_price\": 21999, \"Operating_system\": \"Android\"}, {\"Product_Name\": \"Oxygen\", \"Stars\": 0.0, \"Ratings\": 0, \"Reviews\": 0, \"Current_price\": 39990, \"Marked_price\": 52990, \"Operating_system\": \"Android\"}, {\"Product_Name\": \"BPL\", \"Stars\": 4.3, \"Ratings\": 0, \"Reviews\": 0, \"Current_price\": 15490, \"Marked_price\": 27000, \"Operating_system\": \"Android\"}, {\"Product_Name\": \"LG\", \"Stars\": 4.4, \"Ratings\": 5235, \"Reviews\": 586, \"Current_price\": 34490, \"Marked_price\": 41990, \"Operating_system\": \"WebOS\"}, {\"Product_Name\": \"Croma\", \"Stars\": 4.3, \"Ratings\": 0, \"Reviews\": 0, \"Current_price\": 11990, \"Marked_price\": 25000, \"Operating_system\": \"Android\"}, {\"Product_Name\": \"BPL\", \"Stars\": 0.0, \"Ratings\": 0, \"Reviews\": 0, \"Current_price\": 25999, \"Marked_price\": 35999, \"Operating_system\": \"Linux\"}, {\"Product_Name\": \"SAMSUNG\", \"Stars\": 4.3, \"Ratings\": 24838, \"Reviews\": 4257, \"Current_price\": 14999, \"Marked_price\": 28890, \"Operating_system\": \"Linux\"}, {\"Product_Name\": \"Haier\", \"Stars\": 4.7, \"Ratings\": 0, \"Reviews\": 0, \"Current_price\": 33390, \"Marked_price\": 38650, \"Operating_system\": \"Android\"}, {\"Product_Name\": \"Adsun\", \"Stars\": 3.8, \"Ratings\": 6730, \"Reviews\": 929, \"Current_price\": 8999, \"Marked_price\": 29999, \"Operating_system\": \"Android\"}, {\"Product_Name\": \"Panasonic\", \"Stars\": 0.0, \"Ratings\": 0, \"Reviews\": 0, \"Current_price\": 34614, \"Marked_price\": 42990, \"Operating_system\": \"Android\"}, {\"Product_Name\": \"kinger\", \"Stars\": 0.0, \"Ratings\": 0, \"Reviews\": 0, \"Current_price\": 12999, \"Marked_price\": 22490, \"Operating_system\": \"Android\"}, {\"Product_Name\": \"SAMSUNG\", \"Stars\": 0.0, \"Ratings\": 0, \"Reviews\": 0, \"Current_price\": 110900, \"Marked_price\": 110900, \"Operating_system\": \"Tizen\"}, {\"Product_Name\": \"Croma\", \"Stars\": 3.9, \"Ratings\": 0, \"Reviews\": 0, \"Current_price\": 18990, \"Marked_price\": 30000, \"Operating_system\": \"Android\"}, {\"Product_Name\": \"Akai\", \"Stars\": 0.0, \"Ratings\": 0, \"Reviews\": 0, \"Current_price\": 9489, \"Marked_price\": 15990, \"Operating_system\": \"Linux\"}, {\"Product_Name\": \"kinger\", \"Stars\": 0.0, \"Ratings\": 0, \"Reviews\": 0, \"Current_price\": 12999, \"Marked_price\": 22490, \"Operating_system\": \"Android\"}, {\"Product_Name\": \"kinger\", \"Stars\": 0.0, \"Ratings\": 0, \"Reviews\": 0, \"Current_price\": 12999, \"Marked_price\": 22490, \"Operating_system\": \"Android\"}, {\"Product_Name\": \"Adsun\", \"Stars\": 3.8, \"Ratings\": 6730, \"Reviews\": 929, \"Current_price\": 16999, \"Marked_price\": 39999, \"Operating_system\": \"Android\"}, {\"Product_Name\": \"Akai\", \"Stars\": 0.0, \"Ratings\": 0, \"Reviews\": 0, \"Current_price\": 9489, \"Marked_price\": 15990, \"Operating_system\": \"Linux\"}, {\"Product_Name\": \"kinger\", \"Stars\": 0.0, \"Ratings\": 0, \"Reviews\": 0, \"Current_price\": 12999, \"Marked_price\": 22490, \"Operating_system\": \"Android\"}, {\"Product_Name\": \"kinger\", \"Stars\": 0.0, \"Ratings\": 0, \"Reviews\": 0, \"Current_price\": 12999, \"Marked_price\": 22490, \"Operating_system\": \"Android\"}, {\"Product_Name\": \"Croma\", \"Stars\": 4.2, \"Ratings\": 1773, \"Reviews\": 217, \"Current_price\": 7990, \"Marked_price\": 20000, \"Operating_system\": \"Android\"}, {\"Product_Name\": \"kinger\", \"Stars\": 0.0, \"Ratings\": 0, \"Reviews\": 0, \"Current_price\": 12999, \"Marked_price\": 22490, \"Operating_system\": \"Android\"}, {\"Product_Name\": \"kinger\", \"Stars\": 0.0, \"Ratings\": 0, \"Reviews\": 0, \"Current_price\": 12999, \"Marked_price\": 22490, \"Operating_system\": \"Android\"}, {\"Product_Name\": \"kinger\", \"Stars\": 0.0, \"Ratings\": 0, \"Reviews\": 0, \"Current_price\": 12999, \"Marked_price\": 22490, \"Operating_system\": \"Android\"}, {\"Product_Name\": \"Adsun\", \"Stars\": 3.8, \"Ratings\": 6730, \"Reviews\": 929, \"Current_price\": 8699, \"Marked_price\": 21999, \"Operating_system\": \"Android\"}, {\"Product_Name\": \"kinger\", \"Stars\": 0.0, \"Ratings\": 0, \"Reviews\": 0, \"Current_price\": 12999, \"Marked_price\": 22490, \"Operating_system\": \"Android\"}, {\"Product_Name\": \"kinger\", \"Stars\": 0.0, \"Ratings\": 0, \"Reviews\": 0, \"Current_price\": 12999, \"Marked_price\": 22490, \"Operating_system\": \"Android\"}, {\"Product_Name\": \"kinger\", \"Stars\": 0.0, \"Ratings\": 0, \"Reviews\": 0, \"Current_price\": 12999, \"Marked_price\": 22490, \"Operating_system\": \"Android\"}, {\"Product_Name\": \"Croma\", \"Stars\": 4.3, \"Ratings\": 0, \"Reviews\": 0, \"Current_price\": 11990, \"Marked_price\": 25000, \"Operating_system\": \"Android\"}, {\"Product_Name\": \"kinger\", \"Stars\": 0.0, \"Ratings\": 0, \"Reviews\": 0, \"Current_price\": 12999, \"Marked_price\": 22490, \"Operating_system\": \"Android\"}, {\"Product_Name\": \"kinger\", \"Stars\": 0.0, \"Ratings\": 0, \"Reviews\": 0, \"Current_price\": 12999, \"Marked_price\": 22490, \"Operating_system\": \"Android\"}, {\"Product_Name\": \"kinger\", \"Stars\": 0.0, \"Ratings\": 0, \"Reviews\": 0, \"Current_price\": 12999, \"Marked_price\": 22490, \"Operating_system\": \"Android\"}, {\"Product_Name\": \"Adsun\", \"Stars\": 3.8, \"Ratings\": 6730, \"Reviews\": 929, \"Current_price\": 8999, \"Marked_price\": 29999, \"Operating_system\": \"Android\"}, {\"Product_Name\": \"kinger\", \"Stars\": 0.0, \"Ratings\": 0, \"Reviews\": 0, \"Current_price\": 12999, \"Marked_price\": 22490, \"Operating_system\": \"Android\"}, {\"Product_Name\": \"kinger\", \"Stars\": 0.0, \"Ratings\": 0, \"Reviews\": 0, \"Current_price\": 12999, \"Marked_price\": 22490, \"Operating_system\": \"Android\"}, {\"Product_Name\": \"kinger\", \"Stars\": 0.0, \"Ratings\": 0, \"Reviews\": 0, \"Current_price\": 12999, \"Marked_price\": 22490, \"Operating_system\": \"Android\"}, {\"Product_Name\": \"Adsun\", \"Stars\": 3.8, \"Ratings\": 6730, \"Reviews\": 929, \"Current_price\": 6199, \"Marked_price\": 12999, \"Operating_system\": \"Linux\"}, {\"Product_Name\": \"kinger\", \"Stars\": 0.0, \"Ratings\": 0, \"Reviews\": 0, \"Current_price\": 12999, \"Marked_price\": 22490, \"Operating_system\": \"Android\"}, {\"Product_Name\": \"iMEE\", \"Stars\": 0.0, \"Ratings\": 0, \"Reviews\": 0, \"Current_price\": 19499, \"Marked_price\": 29999, \"Operating_system\": \"Android\"}, {\"Product_Name\": \"LG\", \"Stars\": 4.2, \"Ratings\": 0, \"Reviews\": 0, \"Current_price\": 22990, \"Marked_price\": 23990, \"Operating_system\": \"Linux\"}, {\"Product_Name\": \"Adsun\", \"Stars\": 3.8, \"Ratings\": 6730, \"Reviews\": 929, \"Current_price\": 7999, \"Marked_price\": 16999, \"Operating_system\": \"Linux\"}, {\"Product_Name\": \"Panasonic\", \"Stars\": 0.0, \"Ratings\": 0, \"Reviews\": 0, \"Current_price\": 16803, \"Marked_price\": 19990, \"Operating_system\": \"Linux\"}, {\"Product_Name\": \"Lloyd\", \"Stars\": 0.0, \"Ratings\": 0, \"Reviews\": 0, \"Current_price\": 60990, \"Marked_price\": 60990, \"Operating_system\": \"Android\"}, {\"Product_Name\": \"SAMSUNG\", \"Stars\": 4.5, \"Ratings\": 0, \"Reviews\": 0, \"Current_price\": 64499, \"Marked_price\": 99900, \"Operating_system\": \"Tizen\"}, {\"Product_Name\": \"Croma\", \"Stars\": 4.2, \"Ratings\": 1773, \"Reviews\": 217, \"Current_price\": 7990, \"Marked_price\": 20000, \"Operating_system\": \"Android\"}, {\"Product_Name\": \"Haier\", \"Stars\": 4.5, \"Ratings\": 0, \"Reviews\": 0, \"Current_price\": 30900, \"Marked_price\": 38990, \"Operating_system\": \"Android\"}, {\"Product_Name\": \"Lloyd\", \"Stars\": 4.4, \"Ratings\": 0, \"Reviews\": 0, \"Current_price\": 44999, \"Marked_price\": 84990, \"Operating_system\": \"Linux\"}, {\"Product_Name\": \"Lloyd\", \"Stars\": 0.0, \"Ratings\": 0, \"Reviews\": 0, \"Current_price\": 18990, \"Marked_price\": 26890, \"Operating_system\": \"Linux\"}, {\"Product_Name\": \"Adsun\", \"Stars\": 3.8, \"Ratings\": 6730, \"Reviews\": 929, \"Current_price\": 8699, \"Marked_price\": 21999, \"Operating_system\": \"Android\"}, {\"Product_Name\": \"Lloyd\", \"Stars\": 0.0, \"Ratings\": 0, \"Reviews\": 0, \"Current_price\": 18290, \"Marked_price\": 29990, \"Operating_system\": \"Android\"}, {\"Product_Name\": \"Lloyd\", \"Stars\": 0.0, \"Ratings\": 0, \"Reviews\": 0, \"Current_price\": 99990, \"Marked_price\": 99990, \"Operating_system\": \"Android\"}, {\"Product_Name\": \"LG\", \"Stars\": 4.3, \"Ratings\": 0, \"Reviews\": 0, \"Current_price\": 58900, \"Marked_price\": 58900, \"Operating_system\": \"Linux\"}, {\"Product_Name\": \"Croma\", \"Stars\": 4.3, \"Ratings\": 0, \"Reviews\": 0, \"Current_price\": 11990, \"Marked_price\": 25000, \"Operating_system\": \"Android\"}, {\"Product_Name\": \"SAMSUNG\", \"Stars\": 3.8, \"Ratings\": 0, \"Reviews\": 0, \"Current_price\": 29900, \"Marked_price\": 29900, \"Operating_system\": \"Linux\"}, {\"Product_Name\": \"SAMSUNG\", \"Stars\": 4.2, \"Ratings\": 0, \"Reviews\": 0, \"Current_price\": 42990, \"Marked_price\": 66900, \"Operating_system\": \"Linux\"}, {\"Product_Name\": \"Candes\", \"Stars\": 4.0, \"Ratings\": 0, \"Reviews\": 0, \"Current_price\": 17999, \"Marked_price\": 38490, \"Operating_system\": \"Android\"}, {\"Product_Name\": \"Adsun\", \"Stars\": 0.0, \"Ratings\": 0, \"Reviews\": 0, \"Current_price\": 8999, \"Marked_price\": 29999, \"Operating_system\": \"Android\"}, {\"Product_Name\": \"SAMSUNG\", \"Stars\": 4.2, \"Ratings\": 11881, \"Reviews\": 1983, \"Current_price\": 15200, \"Marked_price\": 15200, \"Operating_system\": \"Linux\"}, {\"Product_Name\": \"Lloyd\", \"Stars\": 4.8, \"Ratings\": 0, \"Reviews\": 0, \"Current_price\": 74999, \"Marked_price\": 153990, \"Operating_system\": \"Linux\"}, {\"Product_Name\": \"Oxygen\", \"Stars\": 0.0, \"Ratings\": 0, \"Reviews\": 0, \"Current_price\": 32990, \"Marked_price\": 42990, \"Operating_system\": \"Android\"}, {\"Product_Name\": \"Croma\", \"Stars\": 3.9, \"Ratings\": 0, \"Reviews\": 0, \"Current_price\": 18990, \"Marked_price\": 30000, \"Operating_system\": \"Android\"}, {\"Product_Name\": \"Haier\", \"Stars\": 4.0, \"Ratings\": 0, \"Reviews\": 0, \"Current_price\": 36990, \"Marked_price\": 36990, \"Operating_system\": \"Linux\"}, {\"Product_Name\": \"Hyundai\", \"Stars\": 3.3, \"Ratings\": 0, \"Reviews\": 0, \"Current_price\": 25999, \"Marked_price\": 57990, \"Operating_system\": \"WebOS\"}, {\"Product_Name\": \"Lloyd\", \"Stars\": 3.9, \"Ratings\": 0, \"Reviews\": 0, \"Current_price\": 30000, \"Marked_price\": 32990, \"Operating_system\": \"Linux\"}, {\"Product_Name\": \"Adsun\", \"Stars\": 0.0, \"Ratings\": 0, \"Reviews\": 0, \"Current_price\": 6199, \"Marked_price\": 12999, \"Operating_system\": \"Linux\"}, {\"Product_Name\": \"Lloyd\", \"Stars\": 4.1, \"Ratings\": 0, \"Reviews\": 0, \"Current_price\": 18500, \"Marked_price\": 22990, \"Operating_system\": \"Linux\"}, {\"Product_Name\": \"Nacson\", \"Stars\": 3.6, \"Ratings\": 0, \"Reviews\": 0, \"Current_price\": 15990, \"Marked_price\": 34990, \"Operating_system\": \"Android\"}, {\"Product_Name\": \"Nacson\", \"Stars\": 4.2, \"Ratings\": 0, \"Reviews\": 0, \"Current_price\": 10990, \"Marked_price\": 24990, \"Operating_system\": \"Android\"}, {\"Product_Name\": \"Croma\", \"Stars\": 4.2, \"Ratings\": 1773, \"Reviews\": 217, \"Current_price\": 7990, \"Marked_price\": 20000, \"Operating_system\": \"Android\"}, {\"Product_Name\": \"Nacson\", \"Stars\": 4.3, \"Ratings\": 0, \"Reviews\": 0, \"Current_price\": 12990, \"Marked_price\": 25990, \"Operating_system\": \"Android\"}, {\"Product_Name\": \"LumX\", \"Stars\": 3.9, \"Ratings\": 0, \"Reviews\": 0, \"Current_price\": 7549, \"Marked_price\": 17900, \"Operating_system\": \"Linux\"}, {\"Product_Name\": \"Lloyd\", \"Stars\": 0.0, \"Ratings\": 0, \"Reviews\": 0, \"Current_price\": 59974, \"Marked_price\": 89990, \"Operating_system\": \"Android\"}, {\"Product_Name\": \"Adsun\", \"Stars\": 3.8, \"Ratings\": 6742, \"Reviews\": 930, \"Current_price\": 8699, \"Marked_price\": 21999, \"Operating_system\": \"Android\"}, {\"Product_Name\": \"SAMSUNG\", \"Stars\": 4.1, \"Ratings\": 0, \"Reviews\": 0, \"Current_price\": 92500, \"Marked_price\": 92500, \"Operating_system\": \"Tizen\"}, {\"Product_Name\": \"LG\", \"Stars\": 3.3, \"Ratings\": 0, \"Reviews\": 0, \"Current_price\": 100500, \"Marked_price\": 189990, \"Operating_system\": \"WebOS\"}, {\"Product_Name\": \"VG\", \"Stars\": 0.0, \"Ratings\": 0, \"Reviews\": 0, \"Current_price\": 18990, \"Marked_price\": 26000, \"Operating_system\": \"Linux\"}, {\"Product_Name\": \"Croma\", \"Stars\": 4.2, \"Ratings\": 0, \"Reviews\": 0, \"Current_price\": 11990, \"Marked_price\": 25000, \"Operating_system\": \"Android\"}, {\"Product_Name\": \"SAMSUNG\", \"Stars\": 3.8, \"Ratings\": 0, \"Reviews\": 0, \"Current_price\": 25900, \"Marked_price\": 25900, \"Operating_system\": \"Linux\"}, {\"Product_Name\": \"Lloyd\", \"Stars\": 0.0, \"Ratings\": 0, \"Reviews\": 0, \"Current_price\": 55990, \"Marked_price\": 60990, \"Operating_system\": \"Android\"}, {\"Product_Name\": \"Akai\", \"Stars\": 0.0, \"Ratings\": 0, \"Reviews\": 0, \"Current_price\": 55947, \"Marked_price\": 99990, \"Operating_system\": \"Linux\"}, {\"Product_Name\": \"Adsun\", \"Stars\": 3.8, \"Ratings\": 6742, \"Reviews\": 930, \"Current_price\": 8999, \"Marked_price\": 29999, \"Operating_system\": \"Android\"}, {\"Product_Name\": \"HUIDI\", \"Stars\": 4.0, \"Ratings\": 4864, \"Reviews\": 558, \"Current_price\": 7699, \"Marked_price\": 17599, \"Operating_system\": \"Linux\"}, {\"Product_Name\": \"MOTOROLA\", \"Stars\": 4.3, \"Ratings\": 20879, \"Reviews\": 3410, \"Current_price\": 32999, \"Marked_price\": 47999, \"Operating_system\": \"Android\"}, {\"Product_Name\": \"Croma\", \"Stars\": 3.3, \"Ratings\": 0, \"Reviews\": 0, \"Current_price\": 27990, \"Marked_price\": 60000, \"Operating_system\": \"WebOS\"}, {\"Product_Name\": \"Croma\", \"Stars\": 3.9, \"Ratings\": 0, \"Reviews\": 0, \"Current_price\": 18990, \"Marked_price\": 30000, \"Operating_system\": \"Android\"}, {\"Product_Name\": \"Thomson\", \"Stars\": 4.4, \"Ratings\": 67598, \"Reviews\": 14655, \"Current_price\": 20000, \"Marked_price\": 25999, \"Operating_system\": \"Android\"}, {\"Product_Name\": \"MOTOROLA\", \"Stars\": 4.3, \"Ratings\": 20879, \"Reviews\": 3410, \"Current_price\": 41999, \"Marked_price\": 54999, \"Operating_system\": \"Android\"}, {\"Product_Name\": \"SONY\", \"Stars\": 5.0, \"Ratings\": 0, \"Reviews\": 0, \"Current_price\": 469999, \"Marked_price\": 529900, \"Operating_system\": \"Android\"}, {\"Product_Name\": \"Adsun\", \"Stars\": 3.8, \"Ratings\": 6742, \"Reviews\": 930, \"Current_price\": 6199, \"Marked_price\": 12999, \"Operating_system\": \"Linux\"}, {\"Product_Name\": \"acer\", \"Stars\": 4.4, \"Ratings\": 5449, \"Reviews\": 897, \"Current_price\": 34999, \"Marked_price\": 54990, \"Operating_system\": \"Android\"}, {\"Product_Name\": \"Croma\", \"Stars\": 0.0, \"Ratings\": 0, \"Reviews\": 0, \"Current_price\": 17994, \"Marked_price\": 40000, \"Operating_system\": \"Android\"}, {\"Product_Name\": \"Vu\", \"Stars\": 4.4, \"Ratings\": 2878, \"Reviews\": 411, \"Current_price\": 45999, \"Marked_price\": 85000, \"Operating_system\": \"Android\"}, {\"Product_Name\": \"Croma\", \"Stars\": 4.2, \"Ratings\": 1773, \"Reviews\": 217, \"Current_price\": 7990, \"Marked_price\": 20000, \"Operating_system\": \"Android\"}, {\"Product_Name\": \"acer\", \"Stars\": 4.4, \"Ratings\": 5449, \"Reviews\": 897, \"Current_price\": 29999, \"Marked_price\": 44990, \"Operating_system\": \"Android\"}, {\"Product_Name\": \"SAMSUNG\", \"Stars\": 4.3, \"Ratings\": 0, \"Reviews\": 0, \"Current_price\": 125900, \"Marked_price\": 125900, \"Operating_system\": \"Linux\"}, {\"Product_Name\": \"SAMSUNG\", \"Stars\": 4.3, \"Ratings\": 43685, \"Reviews\": 5448, \"Current_price\": 14499, \"Marked_price\": 22500, \"Operating_system\": \"Tizen\"}, {\"Product_Name\": \"Adsun\", \"Stars\": 3.8, \"Ratings\": 6575, \"Reviews\": 904, \"Current_price\": 8699, \"Marked_price\": 21999, \"Operating_system\": \"Android\"}, {\"Product_Name\": \"TCL\", \"Stars\": 3.5, \"Ratings\": 0, \"Reviews\": 0, \"Current_price\": 12999, \"Marked_price\": 22990, \"Operating_system\": \"Linux\"}, {\"Product_Name\": \"Croma\", \"Stars\": 0.0, \"Ratings\": 0, \"Reviews\": 0, \"Current_price\": 43994, \"Marked_price\": 75000, \"Operating_system\": \"FireTv OS 7\"}, {\"Product_Name\": \"Sansui\", \"Stars\": 4.0, \"Ratings\": 0, \"Reviews\": 0, \"Current_price\": 13499, \"Marked_price\": 20990, \"Operating_system\": \"Android\"}, {\"Product_Name\": \"Croma\", \"Stars\": 4.2, \"Ratings\": 0, \"Reviews\": 0, \"Current_price\": 11990, \"Marked_price\": 25000, \"Operating_system\": \"Android\"}, {\"Product_Name\": \"SAMSUNG\", \"Stars\": 4.0, \"Ratings\": 0, \"Reviews\": 0, \"Current_price\": 14990, \"Marked_price\": 23484, \"Operating_system\": \"Linux\"}, {\"Product_Name\": \"Vu\", \"Stars\": 4.4, \"Ratings\": 23628, \"Reviews\": 4873, \"Current_price\": 16012, \"Marked_price\": 26500, \"Operating_system\": \"Linux\"}, {\"Product_Name\": \"Micromax\", \"Stars\": 4.2, \"Ratings\": 3790, \"Reviews\": 602, \"Current_price\": 11999, \"Marked_price\": 22990, \"Operating_system\": \"Android\"}, {\"Product_Name\": \"Adsun\", \"Stars\": 3.8, \"Ratings\": 6575, \"Reviews\": 904, \"Current_price\": 8999, \"Marked_price\": 29999, \"Operating_system\": \"Android\"}, {\"Product_Name\": \"LumX\", \"Stars\": 4.4, \"Ratings\": 0, \"Reviews\": 0, \"Current_price\": 8999, \"Marked_price\": 23900, \"Operating_system\": \"Linux\"}, {\"Product_Name\": \"TCL\", \"Stars\": 4.4, \"Ratings\": 0, \"Reviews\": 0, \"Current_price\": 14990, \"Marked_price\": 22990, \"Operating_system\": \"Android\"}, {\"Product_Name\": \"RGL\", \"Stars\": 4.0, \"Ratings\": 2068, \"Reviews\": 328, \"Current_price\": 13490, \"Marked_price\": 19500, \"Operating_system\": \"Android\"}, {\"Product_Name\": \"Croma\", \"Stars\": 3.9, \"Ratings\": 0, \"Reviews\": 0, \"Current_price\": 18990, \"Marked_price\": 30000, \"Operating_system\": \"Android\"}, {\"Product_Name\": \"SAMSUNG\", \"Stars\": 4.2, \"Ratings\": 0, \"Reviews\": 0, \"Current_price\": 12700, \"Marked_price\": 15900, \"Operating_system\": \"Linux\"}, {\"Product_Name\": \"Hisense\", \"Stars\": 4.4, \"Ratings\": 2756, \"Reviews\": 489, \"Current_price\": 36990, \"Marked_price\": 43990, \"Operating_system\": \"Android\"}, {\"Product_Name\": \"Onix\", \"Stars\": 0.0, \"Ratings\": 0, \"Reviews\": 0, \"Current_price\": 17999, \"Marked_price\": 19790, \"Operating_system\": \"Android\"}, {\"Product_Name\": \"Adsun\", \"Stars\": 3.8, \"Ratings\": 6575, \"Reviews\": 904, \"Current_price\": 6199, \"Marked_price\": 12999, \"Operating_system\": \"Linux\"}, {\"Product_Name\": \"RGL\", \"Stars\": 4.0, \"Ratings\": 2068, \"Reviews\": 328, \"Current_price\": 9490, \"Marked_price\": 12990, \"Operating_system\": \"Linux\"}, {\"Product_Name\": \"MarQ\", \"Stars\": 4.2, \"Ratings\": 0, \"Reviews\": 0, \"Current_price\": 6978, \"Marked_price\": 10499, \"Operating_system\": \"Linux\"}, {\"Product_Name\": \"LG\", \"Stars\": 4.4, \"Ratings\": 0, \"Reviews\": 0, \"Current_price\": 15868, \"Marked_price\": 17990, \"Operating_system\": \"Linux\"}, {\"Product_Name\": \"Croma\", \"Stars\": 4.2, \"Ratings\": 1773, \"Reviews\": 217, \"Current_price\": 7990, \"Marked_price\": 20000, \"Operating_system\": \"Android\"}, {\"Product_Name\": \"RGL\", \"Stars\": 4.0, \"Ratings\": 2068, \"Reviews\": 328, \"Current_price\": 5490, \"Marked_price\": 9990, \"Operating_system\": \"Linux\"}, {\"Product_Name\": \"Micromax\", \"Stars\": 4.2, \"Ratings\": 0, \"Reviews\": 0, \"Current_price\": 71990, \"Marked_price\": 71990, \"Operating_system\": \"Linux\"}, {\"Product_Name\": \"SONY\", \"Stars\": 4.4, \"Ratings\": 1558, \"Reviews\": 228, \"Current_price\": 22999, \"Marked_price\": 27990, \"Operating_system\": \"Linux\"}, {\"Product_Name\": \"Adsun\", \"Stars\": 3.8, \"Ratings\": 6742, \"Reviews\": 930, \"Current_price\": 8699, \"Marked_price\": 21999, \"Operating_system\": \"Android\"}, {\"Product_Name\": \"Micromax\", \"Stars\": 4.1, \"Ratings\": 0, \"Reviews\": 0, \"Current_price\": 49999, \"Marked_price\": 69990, \"Operating_system\": \"Android\"}, {\"Product_Name\": \"SONY\", \"Stars\": 4.4, \"Ratings\": 2044, \"Reviews\": 441, \"Current_price\": 27449, \"Marked_price\": 31900, \"Operating_system\": \"Linux\"}, {\"Product_Name\": \"Maser\", \"Stars\": 3.8, \"Ratings\": 0, \"Reviews\": 0, \"Current_price\": 7499, \"Marked_price\": 7999, \"Operating_system\": \"Linux\"}, {\"Product_Name\": \"Croma\", \"Stars\": 4.2, \"Ratings\": 0, \"Reviews\": 0, \"Current_price\": 11990, \"Marked_price\": 25000, \"Operating_system\": \"Android\"}, {\"Product_Name\": \"Micromax\", \"Stars\": 4.2, \"Ratings\": 2540, \"Reviews\": 484, \"Current_price\": 18990, \"Marked_price\": 36663, \"Operating_system\": \"Linux\"}, {\"Product_Name\": \"Sansui\", \"Stars\": 4.3, \"Ratings\": 2207, \"Reviews\": 321, \"Current_price\": 6999, \"Marked_price\": 9999, \"Operating_system\": \"Linux\"}, {\"Product_Name\": \"SONY\", \"Stars\": 4.6, \"Ratings\": 0, \"Reviews\": 0, \"Current_price\": 59999, \"Marked_price\": 94900, \"Operating_system\": \"Linux\"}, {\"Product_Name\": \"Adsun\", \"Stars\": 3.8, \"Ratings\": 6742, \"Reviews\": 930, \"Current_price\": 8999, \"Marked_price\": 29999, \"Operating_system\": \"Android\"}, {\"Product_Name\": \"SONY\", \"Stars\": 4.5, \"Ratings\": 6056, \"Reviews\": 1082, \"Current_price\": 34184, \"Marked_price\": 68400, \"Operating_system\": \"Linux\"}, {\"Product_Name\": \"Croma\", \"Stars\": 0.0, \"Ratings\": 0, \"Reviews\": 0, \"Current_price\": 9194, \"Marked_price\": 20000, \"Operating_system\": \"Android\"}, {\"Product_Name\": \"T-Series\", \"Stars\": 0.0, \"Ratings\": 0, \"Reviews\": 0, \"Current_price\": 26999, \"Marked_price\": 33990, \"Operating_system\": \"Linux\"}, {\"Product_Name\": \"Adsun\", \"Stars\": 3.8, \"Ratings\": 6742, \"Reviews\": 930, \"Current_price\": 6199, \"Marked_price\": 12999, \"Operating_system\": \"Linux\"}, {\"Product_Name\": \"SONY\", \"Stars\": 4.4, \"Ratings\": 0, \"Reviews\": 0, \"Current_price\": 52949, \"Marked_price\": 72990, \"Operating_system\": \"Linux\"}]}}, {\"actions\": false, \"mode\": \"vega-lite\"});\n</script>",
      "text/plain": "alt.Chart(...)"
     },
     "metadata": {}
    }
   ],
   "execution_count": null
  },
  {
   "cell_type": "code",
   "source": "_deepnote_run_altair(df_3, \"\"\"{\"$schema\":\"https://vega.github.io/schema/vega-lite/v4.json\",\"mark\":{\"type\":\"bar\",\"tooltip\":true},\"height\":220,\"autosize\":{\"type\":\"fit\"},\"data\":{\"name\":\"placeholder\"},\"encoding\":{\"x\":{\"field\":\"Product_Name\",\"type\":\"nominal\",\"sort\":null,\"scale\":{\"type\":\"linear\",\"zero\":false}},\"y\":{\"field\":\"Current_price\",\"type\":\"quantitative\",\"sort\":null,\"scale\":{\"type\":\"linear\",\"zero\":true}},\"color\":{\"field\":\"Marked_price\",\"type\":\"quantitative\",\"sort\":null,\"scale\":{\"type\":\"linear\",\"zero\":false}}}}\"\"\")",
   "metadata": {
    "cell_id": "7eb959d8e75f4047874481c170d8edc2",
    "deepnote_variable_name": "df_3",
    "deepnote_visualization_spec": {
     "$schema": "https://vega.github.io/schema/vega-lite/v4.json",
     "mark": {
      "type": "bar",
      "tooltip": true
     },
     "height": 220,
     "autosize": {
      "type": "fit"
     },
     "data": {
      "name": "placeholder"
     },
     "encoding": {
      "x": {
       "field": "Product_Name",
       "type": "nominal",
       "sort": null,
       "scale": {
        "type": "linear",
        "zero": false
       }
      },
      "y": {
       "field": "Current_price",
       "type": "quantitative",
       "sort": null,
       "scale": {
        "type": "linear",
        "zero": true
       }
      },
      "color": {
       "field": "Marked_price",
       "type": "quantitative",
       "sort": null,
       "scale": {
        "type": "linear",
        "zero": false
       }
      }
     }
    },
    "deepnote_to_be_reexecuted": false,
    "source_hash": "3137cf46",
    "execution_start": 1660822406763,
    "execution_millis": 92,
    "deepnote_cell_type": "visualization"
   },
   "outputs": [
    {
     "output_type": "execute_result",
     "execution_count": 30,
     "data": {
      "text/html": "\n<div id=\"altair-viz-c2bf452f308247c3bc51014805cd553d\"></div>\n<script type=\"text/javascript\">\n  (function(spec, embedOpt){\n    let outputDiv = document.currentScript.previousElementSibling;\n    if (outputDiv.id !== \"altair-viz-c2bf452f308247c3bc51014805cd553d\") {\n      outputDiv = document.getElementById(\"altair-viz-c2bf452f308247c3bc51014805cd553d\");\n    }\n    const paths = {\n      \"vega\": \"https://cdn.jsdelivr.net/npm//vega@5?noext\",\n      \"vega-lib\": \"https://cdn.jsdelivr.net/npm//vega-lib?noext\",\n      \"vega-lite\": \"https://cdn.jsdelivr.net/npm//vega-lite@4.8.1?noext\",\n      \"vega-embed\": \"https://cdn.jsdelivr.net/npm//vega-embed@6?noext\",\n    };\n\n    function loadScript(lib) {\n      return new Promise(function(resolve, reject) {\n        var s = document.createElement('script');\n        s.src = paths[lib];\n        s.async = true;\n        s.onload = () => resolve(paths[lib]);\n        s.onerror = () => reject(`Error loading script: ${paths[lib]}`);\n        document.getElementsByTagName(\"head\")[0].appendChild(s);\n      });\n    }\n\n    function showError(err) {\n      outputDiv.innerHTML = `<div class=\"error\" style=\"color:red;\">${err}</div>`;\n      throw err;\n    }\n\n    function displayChart(vegaEmbed) {\n      vegaEmbed(outputDiv, spec, embedOpt)\n        .catch(err => showError(`Javascript Error: ${err.message}<br>This usually means there's a typo in your chart specification. See the javascript console for the full traceback.`));\n    }\n\n    if(typeof define === \"function\" && define.amd) {\n      requirejs.config({paths});\n      require([\"vega-embed\"], displayChart, err => showError(`Error loading script: ${err.message}`));\n    } else if (typeof vegaEmbed === \"function\") {\n      displayChart(vegaEmbed);\n    } else {\n      loadScript(\"vega\")\n        .then(() => loadScript(\"vega-lite\"))\n        .then(() => loadScript(\"vega-embed\"))\n        .catch(showError)\n        .then(() => displayChart(vegaEmbed));\n    }\n  })({\"config\": {\"view\": {\"continuousWidth\": 400, \"continuousHeight\": 300}, \"area\": {\"fill\": \"#51C0E9\"}, \"axis\": {\"labelFont\": \"Inter, sans-serif\", \"labelFontSize\": 12, \"labelFontWeight\": \"normal\", \"labelLimit\": 60, \"labelOverlap\": \"greedy\", \"titleFont\": \"Inter, sans-serif\", \"titleFontSize\": 12, \"titleFontWeight\": \"bold\"}, \"background\": \"#ffffff\", \"legend\": {\"labelFont\": \"Inter, sans-serif\", \"labelFontSize\": 12, \"titleFont\": \"Inter, sans-serif\", \"titleFontSize\": 12, \"titleFontWeight\": \"bold\"}, \"line\": {\"stroke\": \"#51C0E9\", \"strokeWidth\": 2}, \"rect\": {\"fill\": \"#51C0E9\"}, \"title\": {\"anchor\": \"start\", \"color\": \"#000000\", \"font\": \"Inter, sans-serif\", \"fontSize\": 22, \"fontWeight\": \"normal\"}}, \"data\": {\"name\": \"data-666df74709079a082d13fb621687179f\"}, \"mark\": {\"type\": \"bar\", \"tooltip\": true}, \"autosize\": {\"type\": \"fit\"}, \"encoding\": {\"color\": {\"type\": \"quantitative\", \"field\": \"Marked_price\", \"scale\": {\"type\": \"linear\", \"zero\": false}, \"sort\": null}, \"x\": {\"type\": \"nominal\", \"field\": \"Product_Name\", \"scale\": {\"type\": \"linear\", \"zero\": false}, \"sort\": null}, \"y\": {\"type\": \"quantitative\", \"field\": \"Current_price\", \"scale\": {\"type\": \"linear\", \"zero\": true}, \"sort\": null}}, \"height\": 300, \"width\": \"container\", \"$schema\": \"https://vega.github.io/schema/vega-lite/v4.json\", \"datasets\": {\"data-666df74709079a082d13fb621687179f\": [{\"Product_Name\": \"Croma\", \"Stars\": 4.2, \"Ratings\": 1773, \"Reviews\": 217, \"Current_price\": 7990, \"Marked_price\": 20000, \"Operating_system\": \"Android\"}, {\"Product_Name\": \"Adsun\", \"Stars\": 3.8, \"Ratings\": 6742, \"Reviews\": 930, \"Current_price\": 8699, \"Marked_price\": 21999, \"Operating_system\": \"Android\"}, {\"Product_Name\": \"LG\", \"Stars\": 4.4, \"Ratings\": 38870, \"Reviews\": 3443, \"Current_price\": 16499, \"Marked_price\": 21990, \"Operating_system\": \"WebOS\"}, {\"Product_Name\": \"OnePlus\", \"Stars\": 4.3, \"Ratings\": 101256, \"Reviews\": 9189, \"Current_price\": 16499, \"Marked_price\": 21999, \"Operating_system\": \"Android\"}, {\"Product_Name\": \"Xiaomi\", \"Stars\": 4.3, \"Ratings\": 3120, \"Reviews\": 305, \"Current_price\": 15499, \"Marked_price\": 24999, \"Operating_system\": \"Android\"}, {\"Product_Name\": \"SAMSUNG\", \"Stars\": 4.4, \"Ratings\": 53639, \"Reviews\": 4811, \"Current_price\": 15999, \"Marked_price\": 22900, \"Operating_system\": \"Tizen\"}, {\"Product_Name\": \"OnePlus\", \"Stars\": 4.3, \"Ratings\": 101256, \"Reviews\": 9189, \"Current_price\": 15499, \"Marked_price\": 19999, \"Operating_system\": \"Android\"}, {\"Product_Name\": \"Croma\", \"Stars\": 4.2, \"Ratings\": 0, \"Reviews\": 0, \"Current_price\": 11990, \"Marked_price\": 25000, \"Operating_system\": \"Android\"}, {\"Product_Name\": \"LG\", \"Stars\": 4.4, \"Ratings\": 5830, \"Reviews\": 698, \"Current_price\": 32990, \"Marked_price\": 59990, \"Operating_system\": \"WebOS\"}, {\"Product_Name\": \"OnePlus\", \"Stars\": 4.3, \"Ratings\": 101256, \"Reviews\": 9189, \"Current_price\": 25999, \"Marked_price\": 31999, \"Operating_system\": \"Android\"}, {\"Product_Name\": \"Vu\", \"Stars\": 4.4, \"Ratings\": 32043, \"Reviews\": 4978, \"Current_price\": 30990, \"Marked_price\": 45000, \"Operating_system\": \"Android\"}, {\"Product_Name\": \"Adsun\", \"Stars\": 3.8, \"Ratings\": 6742, \"Reviews\": 930, \"Current_price\": 8999, \"Marked_price\": 29999, \"Operating_system\": \"Android\"}, {\"Product_Name\": \"OnePlus\", \"Stars\": 4.3, \"Ratings\": 101256, \"Reviews\": 9189, \"Current_price\": 22999, \"Marked_price\": 27999, \"Operating_system\": \"Android\"}, {\"Product_Name\": \"MarQ\", \"Stars\": 4.2, \"Ratings\": 6251, \"Reviews\": 764, \"Current_price\": 8999, \"Marked_price\": 19999, \"Operating_system\": \"Linux\"}, {\"Product_Name\": \"OnePlus\", \"Stars\": 4.3, \"Ratings\": 101256, \"Reviews\": 9189, \"Current_price\": 24999, \"Marked_price\": 29999, \"Operating_system\": \"Android\"}, {\"Product_Name\": \"Croma\", \"Stars\": 3.9, \"Ratings\": 0, \"Reviews\": 0, \"Current_price\": 18990, \"Marked_price\": 30000, \"Operating_system\": \"Android\"}, {\"Product_Name\": \"Xiaomi\", \"Stars\": 4.3, \"Ratings\": 3120, \"Reviews\": 305, \"Current_price\": 22999, \"Marked_price\": 29999, \"Operating_system\": \"Android\"}, {\"Product_Name\": \"Vu\", \"Stars\": 4.2, \"Ratings\": 5635, \"Reviews\": 632, \"Current_price\": 12999, \"Marked_price\": 20000, \"Operating_system\": \"Linux\"}, {\"Product_Name\": \"Mi\", \"Stars\": 4.3, \"Ratings\": 40877, \"Reviews\": 3658, \"Current_price\": 31999, \"Marked_price\": 49999, \"Operating_system\": \"Android\"}, {\"Product_Name\": \"Adsun\", \"Stars\": 3.8, \"Ratings\": 6742, \"Reviews\": 930, \"Current_price\": 16999, \"Marked_price\": 39999, \"Operating_system\": \"Android\"}, {\"Product_Name\": \"realme\", \"Stars\": 4.3, \"Ratings\": 26103, \"Reviews\": 2299, \"Current_price\": 13499, \"Marked_price\": 21999, \"Operating_system\": \"Linux\"}, {\"Product_Name\": \"realme\", \"Stars\": 4.3, \"Ratings\": 197035, \"Reviews\": 22679, \"Current_price\": 15499, \"Marked_price\": 17999, \"Operating_system\": \"Android\"}, {\"Product_Name\": \"acer\", \"Stars\": 4.4, \"Ratings\": 5449, \"Reviews\": 897, \"Current_price\": 13999, \"Marked_price\": 22990, \"Operating_system\": \"Android\"}, {\"Product_Name\": \"SAMSUNG\", \"Stars\": 4.4, \"Ratings\": 7344, \"Reviews\": 883, \"Current_price\": 35999, \"Marked_price\": 47900, \"Operating_system\": \"Tizen\"}, {\"Product_Name\": \"Thomson\", \"Stars\": 4.4, \"Ratings\": 67598, \"Reviews\": 14655, \"Current_price\": 20999, \"Marked_price\": 27999, \"Operating_system\": \"Android\"}, {\"Product_Name\": \"iFFALCON\", \"Stars\": 4.3, \"Ratings\": 18688, \"Reviews\": 2568, \"Current_price\": 33999, \"Marked_price\": 70990, \"Operating_system\": \"Android\"}, {\"Product_Name\": \"Mi\", \"Stars\": 4.3, \"Ratings\": 34983, \"Reviews\": 3067, \"Current_price\": 21999, \"Marked_price\": 29999, \"Operating_system\": \"Android\"}, {\"Product_Name\": \"Adsun\", \"Stars\": 3.8, \"Ratings\": 6742, \"Reviews\": 930, \"Current_price\": 8699, \"Marked_price\": 21999, \"Operating_system\": \"Android\"}, {\"Product_Name\": \"Vu\", \"Stars\": 4.4, \"Ratings\": 32043, \"Reviews\": 4978, \"Current_price\": 27999, \"Marked_price\": 45000, \"Operating_system\": \"Android\"}, {\"Product_Name\": \"OnePlus\", \"Stars\": 4.4, \"Ratings\": 8883, \"Reviews\": 989, \"Current_price\": 40990, \"Marked_price\": 49999, \"Operating_system\": \"Android\"}, {\"Product_Name\": \"Xiaomi\", \"Stars\": 4.3, \"Ratings\": 3120, \"Reviews\": 305, \"Current_price\": 25999, \"Marked_price\": 35999, \"Operating_system\": \"Android\"}, {\"Product_Name\": \"Croma\", \"Stars\": 4.2, \"Ratings\": 0, \"Reviews\": 0, \"Current_price\": 11990, \"Marked_price\": 25000, \"Operating_system\": \"Android\"}, {\"Product_Name\": \"Thomson\", \"Stars\": 4.2, \"Ratings\": 0, \"Reviews\": 0, \"Current_price\": 9999, \"Marked_price\": 14999, \"Operating_system\": \"Linux\"}, {\"Product_Name\": \"iFFALCON\", \"Stars\": 4.3, \"Ratings\": 15277, \"Reviews\": 2435, \"Current_price\": 18999, \"Marked_price\": 36990, \"Operating_system\": \"Android\"}, {\"Product_Name\": \"Croma\", \"Stars\": 4.2, \"Ratings\": 1773, \"Reviews\": 217, \"Current_price\": 7990, \"Marked_price\": 20000, \"Operating_system\": \"Android\"}, {\"Product_Name\": \"Adsun\", \"Stars\": 3.8, \"Ratings\": 6742, \"Reviews\": 930, \"Current_price\": 8999, \"Marked_price\": 29999, \"Operating_system\": \"Android\"}, {\"Product_Name\": \"Yuwa\", \"Stars\": 0.0, \"Ratings\": 0, \"Reviews\": 0, \"Current_price\": 8449, \"Marked_price\": 21990, \"Operating_system\": \"Android\"}, {\"Product_Name\": \"acer\", \"Stars\": 4.4, \"Ratings\": 5449, \"Reviews\": 897, \"Current_price\": 25999, \"Marked_price\": 31990, \"Operating_system\": \"Android\"}, {\"Product_Name\": \"Mi\", \"Stars\": 4.3, \"Ratings\": 34983, \"Reviews\": 3067, \"Current_price\": 16499, \"Marked_price\": 19999, \"Operating_system\": \"Android\"}, {\"Product_Name\": \"Croma\", \"Stars\": 3.9, \"Ratings\": 0, \"Reviews\": 0, \"Current_price\": 18990, \"Marked_price\": 30000, \"Operating_system\": \"Android\"}, {\"Product_Name\": \"realme\", \"Stars\": 4.3, \"Ratings\": 197035, \"Reviews\": 22679, \"Current_price\": 21999, \"Marked_price\": 31999, \"Operating_system\": \"Android\"}, {\"Product_Name\": \"SONY\", \"Stars\": 4.6, \"Ratings\": 844, \"Reviews\": 174, \"Current_price\": 23990, \"Marked_price\": 34900, \"Operating_system\": \"Android\"}, {\"Product_Name\": \"realme\", \"Stars\": 4.2, \"Ratings\": 7279, \"Reviews\": 982, \"Current_price\": 17999, \"Marked_price\": 23999, \"Operating_system\": \"Android\"}, {\"Product_Name\": \"Adsun\", \"Stars\": 3.8, \"Ratings\": 6742, \"Reviews\": 930, \"Current_price\": 16999, \"Marked_price\": 39999, \"Operating_system\": \"Android\"}, {\"Product_Name\": \"Mi\", \"Stars\": 4.3, \"Ratings\": 40877, \"Reviews\": 3658, \"Current_price\": 40999, \"Marked_price\": 59999, \"Operating_system\": \"Android\"}, {\"Product_Name\": \"SAMSUNG\", \"Stars\": 4.4, \"Ratings\": 7344, \"Reviews\": 883, \"Current_price\": 55490, \"Marked_price\": 80900, \"Operating_system\": \"Tizen\"}, {\"Product_Name\": \"MarQ\", \"Stars\": 4.2, \"Ratings\": 6251, \"Reviews\": 764, \"Current_price\": 6999, \"Marked_price\": 14999, \"Operating_system\": \"Linux\"}, {\"Product_Name\": \"SAMSUNG\", \"Stars\": 4.4, \"Ratings\": 7344, \"Reviews\": 883, \"Current_price\": 35999, \"Marked_price\": 47900, \"Operating_system\": \"Tizen\"}, {\"Product_Name\": \"Mi\", \"Stars\": 4.3, \"Ratings\": 40871, \"Reviews\": 3658, \"Current_price\": 35999, \"Marked_price\": 41999, \"Operating_system\": \"Android\"}, {\"Product_Name\": \"SAMSUNG\", \"Stars\": 4.3, \"Ratings\": 6698, \"Reviews\": 705, \"Current_price\": 49990, \"Marked_price\": 69900, \"Operating_system\": \"Tizen\"}, {\"Product_Name\": \"LG\", \"Stars\": 4.4, \"Ratings\": 7541, \"Reviews\": 658, \"Current_price\": 29999, \"Marked_price\": 40990, \"Operating_system\": \"WebOS\"}, {\"Product_Name\": \"Croma\", \"Stars\": 4.2, \"Ratings\": 1773, \"Reviews\": 217, \"Current_price\": 7990, \"Marked_price\": 20000, \"Operating_system\": \"Android\"}, {\"Product_Name\": \"acer\", \"Stars\": 4.4, \"Ratings\": 5445, \"Reviews\": 897, \"Current_price\": 25999, \"Marked_price\": 34990, \"Operating_system\": \"Android\"}, {\"Product_Name\": \"realme\", \"Stars\": 4.3, \"Ratings\": 25089, \"Reviews\": 2931, \"Current_price\": 29999, \"Marked_price\": 32999, \"Operating_system\": \"Android\"}, {\"Product_Name\": \"SAMSUNG\", \"Stars\": 4.3, \"Ratings\": 7540, \"Reviews\": 798, \"Current_price\": 17490, \"Marked_price\": 20900, \"Operating_system\": \"Tizen\"}, {\"Product_Name\": \"Adsun\", \"Stars\": 3.8, \"Ratings\": 6730, \"Reviews\": 929, \"Current_price\": 8699, \"Marked_price\": 21999, \"Operating_system\": \"Android\"}, {\"Product_Name\": \"Coocaa\", \"Stars\": 4.2, \"Ratings\": 14815, \"Reviews\": 2326, \"Current_price\": 10499, \"Marked_price\": 36990, \"Operating_system\": \"Coolita\"}, {\"Product_Name\": \"realme\", \"Stars\": 4.3, \"Ratings\": 197032, \"Reviews\": 22678, \"Current_price\": 24999, \"Marked_price\": 35999, \"Operating_system\": \"Android\"}, {\"Product_Name\": \"SAMSUNG\", \"Stars\": 4.4, \"Ratings\": 7341, \"Reviews\": 883, \"Current_price\": 35999, \"Marked_price\": 47900, \"Operating_system\": \"Tizen\"}, {\"Product_Name\": \"Croma\", \"Stars\": 4.3, \"Ratings\": 0, \"Reviews\": 0, \"Current_price\": 11990, \"Marked_price\": 25000, \"Operating_system\": \"Android\"}, {\"Product_Name\": \"OnePlus\", \"Stars\": 4.4, \"Ratings\": 8883, \"Reviews\": 989, \"Current_price\": 63990, \"Marked_price\": 69999, \"Operating_system\": \"Android\"}, {\"Product_Name\": \"SAMSUNG\", \"Stars\": 4.4, \"Ratings\": 7341, \"Reviews\": 883, \"Current_price\": 47990, \"Marked_price\": 71400, \"Operating_system\": \"Tizen\"}, {\"Product_Name\": \"TOSHIBA\", \"Stars\": 4.6, \"Ratings\": 0, \"Reviews\": 0, \"Current_price\": 22990, \"Marked_price\": 34990, \"Operating_system\": \"Android\"}, {\"Product_Name\": \"Adsun\", \"Stars\": 3.8, \"Ratings\": 6730, \"Reviews\": 929, \"Current_price\": 8999, \"Marked_price\": 29999, \"Operating_system\": \"Android\"}, {\"Product_Name\": \"Mi\", \"Stars\": 4.4, \"Ratings\": 663035, \"Reviews\": 67204, \"Current_price\": 14999, \"Marked_price\": 19999, \"Operating_system\": \"Android\"}, {\"Product_Name\": \"Sansui\", \"Stars\": 0.0, \"Ratings\": 0, \"Reviews\": 0, \"Current_price\": 10999, \"Marked_price\": 17990, \"Operating_system\": \"Linux\"}, {\"Product_Name\": \"Hisense\", \"Stars\": 4.2, \"Ratings\": 0, \"Reviews\": 0, \"Current_price\": 13990, \"Marked_price\": 24990, \"Operating_system\": \"Android\"}, {\"Product_Name\": \"Croma\", \"Stars\": 3.9, \"Ratings\": 0, \"Reviews\": 0, \"Current_price\": 18990, \"Marked_price\": 30000, \"Operating_system\": \"Android\"}, {\"Product_Name\": \"MOTOROLA\", \"Stars\": 0.0, \"Ratings\": 0, \"Reviews\": 0, \"Current_price\": 54999, \"Marked_price\": 63999, \"Operating_system\": \"Android\"}, {\"Product_Name\": \"InnoQ\", \"Stars\": 4.1, \"Ratings\": 0, \"Reviews\": 0, \"Current_price\": 7690, \"Marked_price\": 21990, \"Operating_system\": \"Linux\"}, {\"Product_Name\": \"SAMSUNG\", \"Stars\": 4.3, \"Ratings\": 6698, \"Reviews\": 705, \"Current_price\": 45990, \"Marked_price\": 68400, \"Operating_system\": \"Tizen\"}, {\"Product_Name\": \"Adsun\", \"Stars\": 3.8, \"Ratings\": 6730, \"Reviews\": 929, \"Current_price\": 16999, \"Marked_price\": 39999, \"Operating_system\": \"Android\"}, {\"Product_Name\": \"Vu\", \"Stars\": 4.2, \"Ratings\": 5635, \"Reviews\": 632, \"Current_price\": 22999, \"Marked_price\": 35000, \"Operating_system\": \"Android\"}, {\"Product_Name\": \"Mi\", \"Stars\": 4.3, \"Ratings\": 5490, \"Reviews\": 400, \"Current_price\": 14999, \"Marked_price\": 19999, \"Operating_system\": \"Android\"}, {\"Product_Name\": \"MOTOROLA\", \"Stars\": 4.4, \"Ratings\": 9687, \"Reviews\": 1532, \"Current_price\": 22499, \"Marked_price\": 30000, \"Operating_system\": \"Android\"}, {\"Product_Name\": \"Croma\", \"Stars\": 4.2, \"Ratings\": 1773, \"Reviews\": 217, \"Current_price\": 7990, \"Marked_price\": 20000, \"Operating_system\": \"Android\"}, {\"Product_Name\": \"Thomson\", \"Stars\": 4.1, \"Ratings\": 54251, \"Reviews\": 7937, \"Current_price\": 9999, \"Marked_price\": 14990, \"Operating_system\": \"Linux\"}, {\"Product_Name\": \"Coocaa\", \"Stars\": 4.3, \"Ratings\": 2662, \"Reviews\": 600, \"Current_price\": 32999, \"Marked_price\": 73990, \"Operating_system\": \"Android\"}, {\"Product_Name\": \"Coocaa\", \"Stars\": 4.4, \"Ratings\": 0, \"Reviews\": 0, \"Current_price\": 11999, \"Marked_price\": 25999, \"Operating_system\": \"Android\"}, {\"Product_Name\": \"Adsun\", \"Stars\": 3.8, \"Ratings\": 6742, \"Reviews\": 930, \"Current_price\": 8699, \"Marked_price\": 21999, \"Operating_system\": \"Android\"}, {\"Product_Name\": \"Thomson\", \"Stars\": 4.6, \"Ratings\": 2427, \"Reviews\": 585, \"Current_price\": 37999, \"Marked_price\": 54999, \"Operating_system\": \"Android\"}, {\"Product_Name\": \"Mi\", \"Stars\": 4.3, \"Ratings\": 40877, \"Reviews\": 3658, \"Current_price\": 42999, \"Marked_price\": 49999, \"Operating_system\": \"Android\"}, {\"Product_Name\": \"Thomson\", \"Stars\": 4.1, \"Ratings\": 54251, \"Reviews\": 7937, \"Current_price\": 7999, \"Marked_price\": 10499, \"Operating_system\": \"Linux\"}, {\"Product_Name\": \"Adsun\", \"Stars\": 3.8, \"Ratings\": 6742, \"Reviews\": 930, \"Current_price\": 8999, \"Marked_price\": 29999, \"Operating_system\": \"Android\"}, {\"Product_Name\": \"Nokia\", \"Stars\": 4.3, \"Ratings\": 23271, \"Reviews\": 3975, \"Current_price\": 49999, \"Marked_price\": 59999, \"Operating_system\": \"Android\"}, {\"Product_Name\": \"Hisense\", \"Stars\": 4.4, \"Ratings\": 0, \"Reviews\": 0, \"Current_price\": 31999, \"Marked_price\": 54990, \"Operating_system\": \"Android\"}, {\"Product_Name\": \"Hyundai\", \"Stars\": 4.2, \"Ratings\": 0, \"Reviews\": 0, \"Current_price\": 11999, \"Marked_price\": 22990, \"Operating_system\": \"Android\"}, {\"Product_Name\": \"Croma\", \"Stars\": 3.9, \"Ratings\": 0, \"Reviews\": 0, \"Current_price\": 18990, \"Marked_price\": 30000, \"Operating_system\": \"Android\"}, {\"Product_Name\": \"Thomson\", \"Stars\": 4.4, \"Ratings\": 22032, \"Reviews\": 5954, \"Current_price\": 32999, \"Marked_price\": 40999, \"Operating_system\": \"Android\"}, {\"Product_Name\": \"KODAK\", \"Stars\": 4.1, \"Ratings\": 14221, \"Reviews\": 2269, \"Current_price\": 8990, \"Marked_price\": 15999, \"Operating_system\": \"Linux\"}, {\"Product_Name\": \"Nokia\", \"Stars\": 4.3, \"Ratings\": 11336, \"Reviews\": 1966, \"Current_price\": 33999, \"Marked_price\": 45999, \"Operating_system\": \"Android\"}, {\"Product_Name\": \"Adsun\", \"Stars\": 3.8, \"Ratings\": 6742, \"Reviews\": 930, \"Current_price\": 16999, \"Marked_price\": 39999, \"Operating_system\": \"Android\"}, {\"Product_Name\": \"Croma\", \"Stars\": 4.2, \"Ratings\": 0, \"Reviews\": 0, \"Current_price\": 11990, \"Marked_price\": 25000, \"Operating_system\": \"Android\"}, {\"Product_Name\": \"Blaupunkt\", \"Stars\": 4.4, \"Ratings\": 6977, \"Reviews\": 1601, \"Current_price\": 15999, \"Marked_price\": 23999, \"Operating_system\": \"Android\"}, {\"Product_Name\": \"SONY\", \"Stars\": 4.7, \"Ratings\": 621, \"Reviews\": 131, \"Current_price\": 46999, \"Marked_price\": 66900, \"Operating_system\": \"Android\"}, {\"Product_Name\": \"SAMSUNG\", \"Stars\": 4.4, \"Ratings\": 7344, \"Reviews\": 883, \"Current_price\": 35999, \"Marked_price\": 47900, \"Operating_system\": \"Tizen\"}, {\"Product_Name\": \"Sansui\", \"Stars\": 4.2, \"Ratings\": 0, \"Reviews\": 0, \"Current_price\": 13999, \"Marked_price\": 20990, \"Operating_system\": \"Android\"}, {\"Product_Name\": \"LG\", \"Stars\": 4.4, \"Ratings\": 0, \"Reviews\": 0, \"Current_price\": 59999, \"Marked_price\": 109990, \"Operating_system\": \"WebOS\"}, {\"Product_Name\": \"LG\", \"Stars\": 4.5, \"Ratings\": 801, \"Reviews\": 121, \"Current_price\": 39999, \"Marked_price\": 59990, \"Operating_system\": \"WebOS\"}, {\"Product_Name\": \"Croma\", \"Stars\": 4.2, \"Ratings\": 1773, \"Reviews\": 217, \"Current_price\": 7990, \"Marked_price\": 20000, \"Operating_system\": \"Android\"}, {\"Product_Name\": \"MOTOROLA\", \"Stars\": 4.4, \"Ratings\": 0, \"Reviews\": 0, \"Current_price\": 28999, \"Marked_price\": 39000, \"Operating_system\": \"Android\"}, {\"Product_Name\": \"Yuwa\", \"Stars\": 1.8, \"Ratings\": 0, \"Reviews\": 0, \"Current_price\": 8449, \"Marked_price\": 20999, \"Operating_system\": \"Android\"}, {\"Product_Name\": \"Coocaa\", \"Stars\": 4.4, \"Ratings\": 0, \"Reviews\": 0, \"Current_price\": 20999, \"Marked_price\": 35999, \"Operating_system\": \"Android\"}, {\"Product_Name\": \"Adsun\", \"Stars\": 3.8, \"Ratings\": 6742, \"Reviews\": 930, \"Current_price\": 8699, \"Marked_price\": 21999, \"Operating_system\": \"Android\"}, {\"Product_Name\": \"Thomson\", \"Stars\": 4.4, \"Ratings\": 4207, \"Reviews\": 868, \"Current_price\": 33999, \"Marked_price\": 46999, \"Operating_system\": \"Android\"}, {\"Product_Name\": \"SONY\", \"Stars\": 4.6, \"Ratings\": 838, \"Reviews\": 147, \"Current_price\": 35999, \"Marked_price\": 44900, \"Operating_system\": \"Linux\"}, {\"Product_Name\": \"Croma\", \"Stars\": 4.2, \"Ratings\": 0, \"Reviews\": 0, \"Current_price\": 6990, \"Marked_price\": 15000, \"Operating_system\": \"Linux\"}, {\"Product_Name\": \"Croma\", \"Stars\": 4.2, \"Ratings\": 0, \"Reviews\": 0, \"Current_price\": 11990, \"Marked_price\": 25000, \"Operating_system\": \"Android\"}, {\"Product_Name\": \"KODAK\", \"Stars\": 4.4, \"Ratings\": 31763, \"Reviews\": 7301, \"Current_price\": 17999, \"Marked_price\": 20999, \"Operating_system\": \"Android\"}, {\"Product_Name\": \"Dyanora\", \"Stars\": 4.1, \"Ratings\": 0, \"Reviews\": 0, \"Current_price\": 6399, \"Marked_price\": 10999, \"Operating_system\": \"Linux\"}, {\"Product_Name\": \"HUIDI\", \"Stars\": 4.0, \"Ratings\": 4864, \"Reviews\": 558, \"Current_price\": 9299, \"Marked_price\": 15599, \"Operating_system\": \"Android\"}, {\"Product_Name\": \"Adsun\", \"Stars\": 3.8, \"Ratings\": 6742, \"Reviews\": 930, \"Current_price\": 8999, \"Marked_price\": 29999, \"Operating_system\": \"Android\"}, {\"Product_Name\": \"SONY\", \"Stars\": 4.8, \"Ratings\": 0, \"Reviews\": 0, \"Current_price\": 72990, \"Marked_price\": 109900, \"Operating_system\": \"Google TV\"}, {\"Product_Name\": \"Blaupunkt\", \"Stars\": 4.6, \"Ratings\": 3380, \"Reviews\": 928, \"Current_price\": 28999, \"Marked_price\": 41999, \"Operating_system\": \"Android\"}, {\"Product_Name\": \"KODAK\", \"Stars\": 4.4, \"Ratings\": 31763, \"Reviews\": 7301, \"Current_price\": 20499, \"Marked_price\": 27999, \"Operating_system\": \"Android\"}, {\"Product_Name\": \"Croma\", \"Stars\": 3.9, \"Ratings\": 0, \"Reviews\": 0, \"Current_price\": 18990, \"Marked_price\": 30000, \"Operating_system\": \"Android\"}, {\"Product_Name\": \"SAMSUNG\", \"Stars\": 4.3, \"Ratings\": 6717, \"Reviews\": 707, \"Current_price\": 81990, \"Marked_price\": 116900, \"Operating_system\": \"Tizen\"}, {\"Product_Name\": \"Hyundai\", \"Stars\": 4.8, \"Ratings\": 0, \"Reviews\": 0, \"Current_price\": 13999, \"Marked_price\": 26990, \"Operating_system\": \"WebOS\"}, {\"Product_Name\": \"Hisense\", \"Stars\": 4.3, \"Ratings\": 913, \"Reviews\": 147, \"Current_price\": 27990, \"Marked_price\": 36990, \"Operating_system\": \"Android\"}, {\"Product_Name\": \"Adsun\", \"Stars\": 3.8, \"Ratings\": 6742, \"Reviews\": 930, \"Current_price\": 16999, \"Marked_price\": 39999, \"Operating_system\": \"Android\"}, {\"Product_Name\": \"SAMSUNG\", \"Stars\": 4.6, \"Ratings\": 0, \"Reviews\": 0, \"Current_price\": 75999, \"Marked_price\": 134900, \"Operating_system\": \"Tizen\"}, {\"Product_Name\": \"ONIDA\", \"Stars\": 4.4, \"Ratings\": 591, \"Reviews\": 102, \"Current_price\": 26999, \"Marked_price\": 41990, \"Operating_system\": \"VIDAA\"}, {\"Product_Name\": \"SONY\", \"Stars\": 4.8, \"Ratings\": 0, \"Reviews\": 0, \"Current_price\": 72990, \"Marked_price\": 109900, \"Operating_system\": \"Google TV\"}, {\"Product_Name\": \"Croma\", \"Stars\": 4.2, \"Ratings\": 1773, \"Reviews\": 217, \"Current_price\": 7990, \"Marked_price\": 20000, \"Operating_system\": \"Android\"}, {\"Product_Name\": \"Hyundai\", \"Stars\": 4.2, \"Ratings\": 0, \"Reviews\": 0, \"Current_price\": 11999, \"Marked_price\": 22990, \"Operating_system\": \"Android\"}, {\"Product_Name\": \"iFFALCON\", \"Stars\": 4.3, \"Ratings\": 18688, \"Reviews\": 2568, \"Current_price\": 49990, \"Marked_price\": 106990, \"Operating_system\": \"Android\"}, {\"Product_Name\": \"KODAK\", \"Stars\": 4.6, \"Ratings\": 597, \"Reviews\": 160, \"Current_price\": 32999, \"Marked_price\": 46499, \"Operating_system\": \"Android\"}, {\"Product_Name\": \"Adsun\", \"Stars\": 3.8, \"Ratings\": 6742, \"Reviews\": 930, \"Current_price\": 8699, \"Marked_price\": 21999, \"Operating_system\": \"Android\"}, {\"Product_Name\": \"InnoQ\", \"Stars\": 4.1, \"Ratings\": 0, \"Reviews\": 0, \"Current_price\": 6190, \"Marked_price\": 17990, \"Operating_system\": \"Linux\"}, {\"Product_Name\": \"SONY\", \"Stars\": 4.6, \"Ratings\": 4341, \"Reviews\": 738, \"Current_price\": 23999, \"Marked_price\": 29900, \"Operating_system\": \"Linux\"}, {\"Product_Name\": \"Nokia\", \"Stars\": 4.3, \"Ratings\": 23271, \"Reviews\": 3975, \"Current_price\": 15499, \"Marked_price\": 20000, \"Operating_system\": \"Android\"}, {\"Product_Name\": \"Croma\", \"Stars\": 4.2, \"Ratings\": 0, \"Reviews\": 0, \"Current_price\": 11990, \"Marked_price\": 25000, \"Operating_system\": \"Android\"}, {\"Product_Name\": \"MOTOROLA\", \"Stars\": 4.4, \"Ratings\": 9687, \"Reviews\": 1532, \"Current_price\": 26999, \"Marked_price\": 39999, \"Operating_system\": \"Android\"}, {\"Product_Name\": \"Candes\", \"Stars\": 4.1, \"Ratings\": 0, \"Reviews\": 0, \"Current_price\": 8299, \"Marked_price\": 22690, \"Operating_system\": \"Android\"}, {\"Product_Name\": \"Croma\", \"Stars\": 0.0, \"Ratings\": 0, \"Reviews\": 0, \"Current_price\": 21990, \"Marked_price\": 40000, \"Operating_system\": \"Android\"}, {\"Product_Name\": \"Adsun\", \"Stars\": 3.8, \"Ratings\": 6742, \"Reviews\": 930, \"Current_price\": 8999, \"Marked_price\": 29999, \"Operating_system\": \"Android\"}, {\"Product_Name\": \"TCL\", \"Stars\": 4.3, \"Ratings\": 0, \"Reviews\": 0, \"Current_price\": 31990, \"Marked_price\": 59990, \"Operating_system\": \"Android\"}, {\"Product_Name\": \"iFFALCON\", \"Stars\": 4.3, \"Ratings\": 18688, \"Reviews\": 2568, \"Current_price\": 30999, \"Marked_price\": 58990, \"Operating_system\": \"Android\"}, {\"Product_Name\": \"Thomson\", \"Stars\": 4.6, \"Ratings\": 2427, \"Reviews\": 585, \"Current_price\": 33999, \"Marked_price\": 46999, \"Operating_system\": \"Android\"}, {\"Product_Name\": \"Croma\", \"Stars\": 3.9, \"Ratings\": 0, \"Reviews\": 0, \"Current_price\": 18990, \"Marked_price\": 30000, \"Operating_system\": \"Android\"}, {\"Product_Name\": \"Sansui\", \"Stars\": 4.1, \"Ratings\": 0, \"Reviews\": 0, \"Current_price\": 26999, \"Marked_price\": 35390, \"Operating_system\": \"Android\"}, {\"Product_Name\": \"TCL\", \"Stars\": 4.3, \"Ratings\": 0, \"Reviews\": 0, \"Current_price\": 15990, \"Marked_price\": 29990, \"Operating_system\": \"Android\"}, {\"Product_Name\": \"Nokia\", \"Stars\": 4.3, \"Ratings\": 11336, \"Reviews\": 1966, \"Current_price\": 37999, \"Marked_price\": 54999, \"Operating_system\": \"Android\"}, {\"Product_Name\": \"Adsun\", \"Stars\": 3.8, \"Ratings\": 6742, \"Reviews\": 930, \"Current_price\": 16999, \"Marked_price\": 39999, \"Operating_system\": \"Android\"}, {\"Product_Name\": \"Nokia\", \"Stars\": 4.3, \"Ratings\": 23243, \"Reviews\": 3975, \"Current_price\": 32999, \"Marked_price\": 45999, \"Operating_system\": \"Android\"}, {\"Product_Name\": \"MOTOROLA\", \"Stars\": 4.3, \"Ratings\": 20879, \"Reviews\": 3410, \"Current_price\": 45999, \"Marked_price\": 60999, \"Operating_system\": \"Android\"}, {\"Product_Name\": \"Mi\", \"Stars\": 4.3, \"Ratings\": 34983, \"Reviews\": 3067, \"Current_price\": 26999, \"Marked_price\": 31999, \"Operating_system\": \"Android\"}, {\"Product_Name\": \"Croma\", \"Stars\": 4.2, \"Ratings\": 1773, \"Reviews\": 217, \"Current_price\": 7990, \"Marked_price\": 20000, \"Operating_system\": \"Android\"}, {\"Product_Name\": \"SAMSUNG\", \"Stars\": 4.4, \"Ratings\": 4261, \"Reviews\": 460, \"Current_price\": 29990, \"Marked_price\": 38900, \"Operating_system\": \"Tizen\"}, {\"Product_Name\": \"Thomson\", \"Stars\": 4.4, \"Ratings\": 22022, \"Reviews\": 5952, \"Current_price\": 36999, \"Marked_price\": 49999, \"Operating_system\": \"Android\"}, {\"Product_Name\": \"Mi\", \"Stars\": 4.4, \"Ratings\": 4600, \"Reviews\": 619, \"Current_price\": 59999, \"Marked_price\": 59999, \"Operating_system\": \"Android\"}, {\"Product_Name\": \"Adsun\", \"Stars\": 3.8, \"Ratings\": 6730, \"Reviews\": 929, \"Current_price\": 8699, \"Marked_price\": 21999, \"Operating_system\": \"Android\"}, {\"Product_Name\": \"Nokia\", \"Stars\": 4.3, \"Ratings\": 2900, \"Reviews\": 500, \"Current_price\": 33999, \"Marked_price\": 48999, \"Operating_system\": \"Android\"}, {\"Product_Name\": \"Dyanora\", \"Stars\": 0.0, \"Ratings\": 0, \"Reviews\": 0, \"Current_price\": 7299, \"Marked_price\": 12499, \"Operating_system\": \"Android\"}, {\"Product_Name\": \"SAMSUNG\", \"Stars\": 0.0, \"Ratings\": 0, \"Reviews\": 0, \"Current_price\": 15230, \"Marked_price\": 16400, \"Operating_system\": \"Linux\"}, {\"Product_Name\": \"Croma\", \"Stars\": 4.3, \"Ratings\": 0, \"Reviews\": 0, \"Current_price\": 11990, \"Marked_price\": 25000, \"Operating_system\": \"Android\"}, {\"Product_Name\": \"Blaupunkt\", \"Stars\": 4.6, \"Ratings\": 3381, \"Reviews\": 929, \"Current_price\": 39999, \"Marked_price\": 55999, \"Operating_system\": \"Android\"}, {\"Product_Name\": \"Vu\", \"Stars\": 4.4, \"Ratings\": 31993, \"Reviews\": 4975, \"Current_price\": 54999, \"Marked_price\": 75000, \"Operating_system\": \"Android\"}, {\"Product_Name\": \"Hyundai\", \"Stars\": 4.4, \"Ratings\": 0, \"Reviews\": 0, \"Current_price\": 11990, \"Marked_price\": 18990, \"Operating_system\": \"Linux\"}, {\"Product_Name\": \"Adsun\", \"Stars\": 3.8, \"Ratings\": 6730, \"Reviews\": 929, \"Current_price\": 8999, \"Marked_price\": 29999, \"Operating_system\": \"Android\"}, {\"Product_Name\": \"TCL\", \"Stars\": 0.0, \"Ratings\": 0, \"Reviews\": 0, \"Current_price\": 15990, \"Marked_price\": 29990, \"Operating_system\": \"Android\"}, {\"Product_Name\": \"Adsun\", \"Stars\": 3.8, \"Ratings\": 6730, \"Reviews\": 929, \"Current_price\": 6199, \"Marked_price\": 12999, \"Operating_system\": \"Linux\"}, {\"Product_Name\": \"PHILIPS\", \"Stars\": 4.1, \"Ratings\": 0, \"Reviews\": 0, \"Current_price\": 43999, \"Marked_price\": 89990, \"Operating_system\": \"Linux\"}, {\"Product_Name\": \"Croma\", \"Stars\": 3.9, \"Ratings\": 0, \"Reviews\": 0, \"Current_price\": 18990, \"Marked_price\": 30000, \"Operating_system\": \"Android\"}, {\"Product_Name\": \"SONY\", \"Stars\": 4.7, \"Ratings\": 0, \"Reviews\": 0, \"Current_price\": 97900, \"Marked_price\": 179900, \"Operating_system\": \"Google TV\"}, {\"Product_Name\": \"TCL\", \"Stars\": 0.0, \"Ratings\": 0, \"Reviews\": 0, \"Current_price\": 41349, \"Marked_price\": 75990, \"Operating_system\": \"Android\"}, {\"Product_Name\": \"Vu\", \"Stars\": 4.4, \"Ratings\": 31993, \"Reviews\": 4975, \"Current_price\": 36999, \"Marked_price\": 75000, \"Operating_system\": \"Android\"}, {\"Product_Name\": \"Adsun\", \"Stars\": 3.8, \"Ratings\": 6730, \"Reviews\": 929, \"Current_price\": 16999, \"Marked_price\": 39999, \"Operating_system\": \"Android\"}, {\"Product_Name\": \"iFFALCON\", \"Stars\": 4.3, \"Ratings\": 18688, \"Reviews\": 2568, \"Current_price\": 49990, \"Marked_price\": 106990, \"Operating_system\": \"Android\"}, {\"Product_Name\": \"TOSHIBA\", \"Stars\": 4.3, \"Ratings\": 1090, \"Reviews\": 164, \"Current_price\": 33999, \"Marked_price\": 46990, \"Operating_system\": \"VIDAA\"}, {\"Product_Name\": \"MOTOROLA\", \"Stars\": 4.3, \"Ratings\": 796, \"Reviews\": 148, \"Current_price\": 49999, \"Marked_price\": 59999, \"Operating_system\": \"Android\"}, {\"Product_Name\": \"Croma\", \"Stars\": 4.2, \"Ratings\": 1773, \"Reviews\": 217, \"Current_price\": 7990, \"Marked_price\": 20000, \"Operating_system\": \"Android\"}, {\"Product_Name\": \"Thomson\", \"Stars\": 4.3, \"Ratings\": 6421, \"Reviews\": 1797, \"Current_price\": 34999, \"Marked_price\": 46999, \"Operating_system\": \"Android\"}, {\"Product_Name\": \"realme\", \"Stars\": 4.3, \"Ratings\": 2104, \"Reviews\": 291, \"Current_price\": 48999, \"Marked_price\": 69999, \"Operating_system\": \"Android\"}, {\"Product_Name\": \"MOTOROLA\", \"Stars\": 4.4, \"Ratings\": 9687, \"Reviews\": 1532, \"Current_price\": 14999, \"Marked_price\": 20000, \"Operating_system\": \"Android\"}, {\"Product_Name\": \"Adsun\", \"Stars\": 3.8, \"Ratings\": 6742, \"Reviews\": 930, \"Current_price\": 8699, \"Marked_price\": 21999, \"Operating_system\": \"Android\"}, {\"Product_Name\": \"MOTOROLA\", \"Stars\": 4.4, \"Ratings\": 0, \"Reviews\": 0, \"Current_price\": 41999, \"Marked_price\": 72000, \"Operating_system\": \"Android\"}, {\"Product_Name\": \"MOTOROLA\", \"Stars\": 4.3, \"Ratings\": 20879, \"Reviews\": 3410, \"Current_price\": 45999, \"Marked_price\": 61999, \"Operating_system\": \"Android\"}, {\"Product_Name\": \"Hyundai\", \"Stars\": 4.9, \"Ratings\": 0, \"Reviews\": 0, \"Current_price\": 13499, \"Marked_price\": 23990, \"Operating_system\": \"Android\"}, {\"Product_Name\": \"Croma\", \"Stars\": 4.2, \"Ratings\": 0, \"Reviews\": 0, \"Current_price\": 11990, \"Marked_price\": 25000, \"Operating_system\": \"Android\"}, {\"Product_Name\": \"MOTOROLA\", \"Stars\": 4.4, \"Ratings\": 9687, \"Reviews\": 1532, \"Current_price\": 19999, \"Marked_price\": 29999, \"Operating_system\": \"Android\"}, {\"Product_Name\": \"MOTOROLA\", \"Stars\": 4.5, \"Ratings\": 0, \"Reviews\": 0, \"Current_price\": 25499, \"Marked_price\": 33000, \"Operating_system\": \"Android\"}, {\"Product_Name\": \"Vu\", \"Stars\": 4.3, \"Ratings\": 34845, \"Reviews\": 4762, \"Current_price\": 23999, \"Marked_price\": 40000, \"Operating_system\": \"Android\"}, {\"Product_Name\": \"Adsun\", \"Stars\": 3.8, \"Ratings\": 6742, \"Reviews\": 930, \"Current_price\": 8999, \"Marked_price\": 29999, \"Operating_system\": \"Android\"}, {\"Product_Name\": \"MOTOROLA\", \"Stars\": 4.4, \"Ratings\": 9687, \"Reviews\": 1532, \"Current_price\": 62999, \"Marked_price\": 79999, \"Operating_system\": \"Android\"}, {\"Product_Name\": \"Yuwa\", \"Stars\": 3.5, \"Ratings\": 0, \"Reviews\": 0, \"Current_price\": 5999, \"Marked_price\": 10192, \"Operating_system\": \"Linux\"}, {\"Product_Name\": \"Blaupunkt\", \"Stars\": 4.6, \"Ratings\": 3380, \"Reviews\": 928, \"Current_price\": 35999, \"Marked_price\": 47999, \"Operating_system\": \"Android\"}, {\"Product_Name\": \"Croma\", \"Stars\": 3.9, \"Ratings\": 0, \"Reviews\": 0, \"Current_price\": 18990, \"Marked_price\": 30000, \"Operating_system\": \"Android\"}, {\"Product_Name\": \"KODAK\", \"Stars\": 4.5, \"Ratings\": 17462, \"Reviews\": 5306, \"Current_price\": 31999, \"Marked_price\": 42999, \"Operating_system\": \"Android\"}, {\"Product_Name\": \"LG\", \"Stars\": 4.4, \"Ratings\": 5830, \"Reviews\": 698, \"Current_price\": 44990, \"Marked_price\": 64990, \"Operating_system\": \"WebOS\"}, {\"Product_Name\": \"Thomson\", \"Stars\": 4.3, \"Ratings\": 6421, \"Reviews\": 1797, \"Current_price\": 23999, \"Marked_price\": 29999, \"Operating_system\": \"Android\"}, {\"Product_Name\": \"Adsun\", \"Stars\": 3.8, \"Ratings\": 6742, \"Reviews\": 930, \"Current_price\": 16999, \"Marked_price\": 39999, \"Operating_system\": \"Android\"}, {\"Product_Name\": \"Nokia\", \"Stars\": 4.3, \"Ratings\": 11336, \"Reviews\": 1966, \"Current_price\": 42999, \"Marked_price\": 70000, \"Operating_system\": \"Android\"}, {\"Product_Name\": \"Blaupunkt\", \"Stars\": 4.4, \"Ratings\": 6977, \"Reviews\": 1601, \"Current_price\": 13499, \"Marked_price\": 19499, \"Operating_system\": \"Android\"}, {\"Product_Name\": \"ONIDA\", \"Stars\": 4.4, \"Ratings\": 591, \"Reviews\": 102, \"Current_price\": 13999, \"Marked_price\": 23490, \"Operating_system\": \"VIDAA\"}, {\"Product_Name\": \"Croma\", \"Stars\": 4.2, \"Ratings\": 1773, \"Reviews\": 217, \"Current_price\": 7990, \"Marked_price\": 20000, \"Operating_system\": \"Android\"}, {\"Product_Name\": \"KODAK\", \"Stars\": 4.3, \"Ratings\": 3192, \"Reviews\": 770, \"Current_price\": 32999, \"Marked_price\": 39990, \"Operating_system\": \"Android\"}, {\"Product_Name\": \"CORNEA\", \"Stars\": 0.0, \"Ratings\": 0, \"Reviews\": 0, \"Current_price\": 10999, \"Marked_price\": 19999, \"Operating_system\": \"Android\"}, {\"Product_Name\": \"Xiaomi\", \"Stars\": 4.7, \"Ratings\": 0, \"Reviews\": 0, \"Current_price\": 89999, \"Marked_price\": 199999, \"Operating_system\": \"Android\"}, {\"Product_Name\": \"Adsun\", \"Stars\": 3.8, \"Ratings\": 6742, \"Reviews\": 930, \"Current_price\": 8699, \"Marked_price\": 21999, \"Operating_system\": \"Android\"}, {\"Product_Name\": \"LG\", \"Stars\": 4.4, \"Ratings\": 0, \"Reviews\": 0, \"Current_price\": 39990, \"Marked_price\": 59990, \"Operating_system\": \"WebOS\"}, {\"Product_Name\": \"Vu\", \"Stars\": 4.3, \"Ratings\": 0, \"Reviews\": 0, \"Current_price\": 35999, \"Marked_price\": 60000, \"Operating_system\": \"Android\"}, {\"Product_Name\": \"acer\", \"Stars\": 4.4, \"Ratings\": 1722, \"Reviews\": 265, \"Current_price\": 13999, \"Marked_price\": 19990, \"Operating_system\": \"Android\"}, {\"Product_Name\": \"Croma\", \"Stars\": 4.2, \"Ratings\": 0, \"Reviews\": 0, \"Current_price\": 11990, \"Marked_price\": 25000, \"Operating_system\": \"Android\"}, {\"Product_Name\": \"TCL\", \"Stars\": 4.4, \"Ratings\": 0, \"Reviews\": 0, \"Current_price\": 34990, \"Marked_price\": 62990, \"Operating_system\": \"Linux\"}, {\"Product_Name\": \"LG\", \"Stars\": 4.5, \"Ratings\": 799, \"Reviews\": 121, \"Current_price\": 55990, \"Marked_price\": 89990, \"Operating_system\": \"WebOS\"}, {\"Product_Name\": \"TCL\", \"Stars\": 4.9, \"Ratings\": 0, \"Reviews\": 0, \"Current_price\": 36990, \"Marked_price\": 50990, \"Operating_system\": \"Android\"}, {\"Product_Name\": \"Adsun\", \"Stars\": 3.8, \"Ratings\": 6742, \"Reviews\": 930, \"Current_price\": 8999, \"Marked_price\": 29999, \"Operating_system\": \"Android\"}, {\"Product_Name\": \"Coocaa\", \"Stars\": 4.2, \"Ratings\": 14827, \"Reviews\": 2328, \"Current_price\": 39999, \"Marked_price\": 39999, \"Operating_system\": \"Coolita\"}, {\"Product_Name\": \"Nokia\", \"Stars\": 4.3, \"Ratings\": 23271, \"Reviews\": 3975, \"Current_price\": 22999, \"Marked_price\": 29000, \"Operating_system\": \"Android\"}, {\"Product_Name\": \"TCL\", \"Stars\": 4.7, \"Ratings\": 0, \"Reviews\": 0, \"Current_price\": 25390, \"Marked_price\": 47990, \"Operating_system\": \"Android\"}, {\"Product_Name\": \"Croma\", \"Stars\": 3.9, \"Ratings\": 0, \"Reviews\": 0, \"Current_price\": 18990, \"Marked_price\": 30000, \"Operating_system\": \"Android\"}, {\"Product_Name\": \"Sansui\", \"Stars\": 0.0, \"Ratings\": 0, \"Reviews\": 0, \"Current_price\": 13479, \"Marked_price\": 19990, \"Operating_system\": \"Android\"}, {\"Product_Name\": \"Blaupunkt\", \"Stars\": 4.6, \"Ratings\": 3380, \"Reviews\": 928, \"Current_price\": 55999, \"Marked_price\": 75999, \"Operating_system\": \"Android\"}, {\"Product_Name\": \"ONIDA\", \"Stars\": 4.4, \"Ratings\": 591, \"Reviews\": 102, \"Current_price\": 35999, \"Marked_price\": 68990, \"Operating_system\": \"VIDAA\"}, {\"Product_Name\": \"Adsun\", \"Stars\": 3.8, \"Ratings\": 6742, \"Reviews\": 930, \"Current_price\": 16999, \"Marked_price\": 39999, \"Operating_system\": \"Android\"}, {\"Product_Name\": \"Nokia\", \"Stars\": 4.3, \"Ratings\": 11336, \"Reviews\": 1966, \"Current_price\": 36999, \"Marked_price\": 50000, \"Operating_system\": \"Android\"}, {\"Product_Name\": \"SAMSUNG\", \"Stars\": 4.2, \"Ratings\": 1035, \"Reviews\": 144, \"Current_price\": 69990, \"Marked_price\": 119900, \"Operating_system\": \"Tizen\"}, {\"Product_Name\": \"SONY\", \"Stars\": 0.0, \"Ratings\": 0, \"Reviews\": 0, \"Current_price\": 70990, \"Marked_price\": 99900, \"Operating_system\": \"Google TV\"}, {\"Product_Name\": \"Croma\", \"Stars\": 4.2, \"Ratings\": 1773, \"Reviews\": 217, \"Current_price\": 7990, \"Marked_price\": 20000, \"Operating_system\": \"Android\"}, {\"Product_Name\": \"KODAK\", \"Stars\": 4.5, \"Ratings\": 17462, \"Reviews\": 5306, \"Current_price\": 54999, \"Marked_price\": 69999, \"Operating_system\": \"Android\"}, {\"Product_Name\": \"realme\", \"Stars\": 4.3, \"Ratings\": 25107, \"Reviews\": 2932, \"Current_price\": 41999, \"Marked_price\": 42999, \"Operating_system\": \"Android\"}, {\"Product_Name\": \"Nokia\", \"Stars\": 4.3, \"Ratings\": 23271, \"Reviews\": 3975, \"Current_price\": 42999, \"Marked_price\": 54990, \"Operating_system\": \"Android\"}, {\"Product_Name\": \"Adsun\", \"Stars\": 3.8, \"Ratings\": 6742, \"Reviews\": 930, \"Current_price\": 8699, \"Marked_price\": 21999, \"Operating_system\": \"Android\"}, {\"Product_Name\": \"Yuwa\", \"Stars\": 0.0, \"Ratings\": 0, \"Reviews\": 0, \"Current_price\": 30499, \"Marked_price\": 47448, \"Operating_system\": \"Android\"}, {\"Product_Name\": \"SAMSUNG\", \"Stars\": 4.2, \"Ratings\": 1035, \"Reviews\": 144, \"Current_price\": 82990, \"Marked_price\": 144900, \"Operating_system\": \"Tizen\"}, {\"Product_Name\": \"Compaq\", \"Stars\": 4.4, \"Ratings\": 0, \"Reviews\": 0, \"Current_price\": 14499, \"Marked_price\": 21999, \"Operating_system\": \"Android\"}, {\"Product_Name\": \"Croma\", \"Stars\": 4.2, \"Ratings\": 0, \"Reviews\": 0, \"Current_price\": 11990, \"Marked_price\": 25000, \"Operating_system\": \"Android\"}, {\"Product_Name\": \"SAMSUNG\", \"Stars\": 4.3, \"Ratings\": 0, \"Reviews\": 0, \"Current_price\": 19590, \"Marked_price\": 26490, \"Operating_system\": \"Tizen\"}, {\"Product_Name\": \"Infinix\", \"Stars\": 4.2, \"Ratings\": 14818, \"Reviews\": 2281, \"Current_price\": 15999, \"Marked_price\": 17999, \"Operating_system\": \"Android\"}, {\"Product_Name\": \"Hisense\", \"Stars\": 4.3, \"Ratings\": 0, \"Reviews\": 0, \"Current_price\": 77990, \"Marked_price\": 119990, \"Operating_system\": \"Android\"}, {\"Product_Name\": \"Adsun\", \"Stars\": 3.8, \"Ratings\": 6742, \"Reviews\": 930, \"Current_price\": 8999, \"Marked_price\": 29999, \"Operating_system\": \"Android\"}, {\"Product_Name\": \"Thomson\", \"Stars\": 4.3, \"Ratings\": 8779, \"Reviews\": 2004, \"Current_price\": 21999, \"Marked_price\": 29999, \"Operating_system\": \"Android\"}, {\"Product_Name\": \"Infinix\", \"Stars\": 4.2, \"Ratings\": 14818, \"Reviews\": 2281, \"Current_price\": 24999, \"Marked_price\": 24999, \"Operating_system\": \"Android\"}, {\"Product_Name\": \"iFFALCON\", \"Stars\": 4.2, \"Ratings\": 1198, \"Reviews\": 115, \"Current_price\": 11999, \"Marked_price\": 18990, \"Operating_system\": \"Linux\"}, {\"Product_Name\": \"Croma\", \"Stars\": 3.9, \"Ratings\": 0, \"Reviews\": 0, \"Current_price\": 18990, \"Marked_price\": 30000, \"Operating_system\": \"Android\"}, {\"Product_Name\": \"KODAK\", \"Stars\": 4.5, \"Ratings\": 17462, \"Reviews\": 5306, \"Current_price\": 25999, \"Marked_price\": 37999, \"Operating_system\": \"Android\"}, {\"Product_Name\": \"Nokia\", \"Stars\": 4.3, \"Ratings\": 2900, \"Reviews\": 500, \"Current_price\": 42999, \"Marked_price\": 59999, \"Operating_system\": \"Android\"}, {\"Product_Name\": \"LG\", \"Stars\": 4.4, \"Ratings\": 5830, \"Reviews\": 698, \"Current_price\": 74990, \"Marked_price\": 119990, \"Operating_system\": \"WebOS\"}, {\"Product_Name\": \"Adsun\", \"Stars\": 3.8, \"Ratings\": 6742, \"Reviews\": 930, \"Current_price\": 16999, \"Marked_price\": 39999, \"Operating_system\": \"Android\"}, {\"Product_Name\": \"TCL\", \"Stars\": 4.4, \"Ratings\": 0, \"Reviews\": 0, \"Current_price\": 66490, \"Marked_price\": 189990, \"Operating_system\": \"Android\"}, {\"Product_Name\": \"SONY\", \"Stars\": 4.7, \"Ratings\": 1424, \"Reviews\": 290, \"Current_price\": 62999, \"Marked_price\": 84900, \"Operating_system\": \"Android\"}, {\"Product_Name\": \"Nokia\", \"Stars\": 4.4, \"Ratings\": 1378, \"Reviews\": 252, \"Current_price\": 49999, \"Marked_price\": 69999, \"Operating_system\": \"Android\"}, {\"Product_Name\": \"iFFALCON\", \"Stars\": 4.5, \"Ratings\": 0, \"Reviews\": 0, \"Current_price\": 79999, \"Marked_price\": 156990, \"Operating_system\": \"Android\"}, {\"Product_Name\": \"MarQ\", \"Stars\": 4.3, \"Ratings\": 5279, \"Reviews\": 988, \"Current_price\": 28999, \"Marked_price\": 34999, \"Operating_system\": \"Android\"}, {\"Product_Name\": \"MOTOROLA\", \"Stars\": 4.3, \"Ratings\": 20879, \"Reviews\": 3410, \"Current_price\": 30999, \"Marked_price\": 46050, \"Operating_system\": \"Android\"}, {\"Product_Name\": \"SONY\", \"Stars\": 4.6, \"Ratings\": 0, \"Reviews\": 0, \"Current_price\": 53999, \"Marked_price\": 66900, \"Operating_system\": \"Android\"}, {\"Product_Name\": \"KODAK\", \"Stars\": 4.5, \"Ratings\": 17462, \"Reviews\": 5306, \"Current_price\": 25999, \"Marked_price\": 37999, \"Operating_system\": \"Android\"}, {\"Product_Name\": \"Yuwa\", \"Stars\": 0.0, \"Ratings\": 0, \"Reviews\": 0, \"Current_price\": 24899, \"Marked_price\": 52990, \"Operating_system\": \"Android\"}, {\"Product_Name\": \"Coocaa\", \"Stars\": 4.3, \"Ratings\": 2662, \"Reviews\": 600, \"Current_price\": 31999, \"Marked_price\": 64990, \"Operating_system\": \"Android\"}, {\"Product_Name\": \"TCL\", \"Stars\": 4.6, \"Ratings\": 0, \"Reviews\": 0, \"Current_price\": 15990, \"Marked_price\": 29990, \"Operating_system\": \"Android\"}, {\"Product_Name\": \"Sansui\", \"Stars\": 0.0, \"Ratings\": 0, \"Reviews\": 0, \"Current_price\": 13479, \"Marked_price\": 19990, \"Operating_system\": \"Android\"}, {\"Product_Name\": \"PHILIPS\", \"Stars\": 4.2, \"Ratings\": 0, \"Reviews\": 0, \"Current_price\": 42999, \"Marked_price\": 79990, \"Operating_system\": \"Android\"}, {\"Product_Name\": \"TCL\", \"Stars\": 4.4, \"Ratings\": 0, \"Reviews\": 0, \"Current_price\": 28215, \"Marked_price\": 51990, \"Operating_system\": \"Linux\"}, {\"Product_Name\": \"Hisense\", \"Stars\": 4.5, \"Ratings\": 2252, \"Reviews\": 458, \"Current_price\": 45990, \"Marked_price\": 59990, \"Operating_system\": \"Android\"}, {\"Product_Name\": \"LG\", \"Stars\": 4.6, \"Ratings\": 0, \"Reviews\": 0, \"Current_price\": 55500, \"Marked_price\": 89990, \"Operating_system\": \"WebOS\"}, {\"Product_Name\": \"iFFALCON\", \"Stars\": 4.8, \"Ratings\": 0, \"Reviews\": 0, \"Current_price\": 23999, \"Marked_price\": 44900, \"Operating_system\": \"Android\"}, {\"Product_Name\": \"ONIDA\", \"Stars\": 4.4, \"Ratings\": 591, \"Reviews\": 102, \"Current_price\": 23999, \"Marked_price\": 37990, \"Operating_system\": \"VIDAA\"}, {\"Product_Name\": \"Vu\", \"Stars\": 4.4, \"Ratings\": 0, \"Reviews\": 0, \"Current_price\": 119999, \"Marked_price\": 150000, \"Operating_system\": \"Android\"}, {\"Product_Name\": \"SAMSUNG\", \"Stars\": 4.2, \"Ratings\": 0, \"Reviews\": 0, \"Current_price\": 38990, \"Marked_price\": 49990, \"Operating_system\": \"Tizen\"}, {\"Product_Name\": \"LG\", \"Stars\": 4.6, \"Ratings\": 0, \"Reviews\": 0, \"Current_price\": 36200, \"Marked_price\": 57990, \"Operating_system\": \"WebOS\"}, {\"Product_Name\": \"iFFALCON\", \"Stars\": 4.5, \"Ratings\": 0, \"Reviews\": 0, \"Current_price\": 56999, \"Marked_price\": 113990, \"Operating_system\": \"Android\"}, {\"Product_Name\": \"TOSHIBA\", \"Stars\": 4.2, \"Ratings\": 1110, \"Reviews\": 177, \"Current_price\": 28490, \"Marked_price\": 39990, \"Operating_system\": \"VIDAA\"}, {\"Product_Name\": \"LG\", \"Stars\": 4.1, \"Ratings\": 0, \"Reviews\": 0, \"Current_price\": 42750, \"Marked_price\": 64990, \"Operating_system\": \"Linux\"}, {\"Product_Name\": \"Vu\", \"Stars\": 4.2, \"Ratings\": 3275, \"Reviews\": 467, \"Current_price\": 39999, \"Marked_price\": 57000, \"Operating_system\": \"Android\"}, {\"Product_Name\": \"Hyundai\", \"Stars\": 0.0, \"Ratings\": 0, \"Reviews\": 0, \"Current_price\": 32990, \"Marked_price\": 77990, \"Operating_system\": \"WebOS\"}, {\"Product_Name\": \"LG\", \"Stars\": 0.0, \"Ratings\": 0, \"Reviews\": 0, \"Current_price\": 98780, \"Marked_price\": 149990, \"Operating_system\": \"WebOS\"}, {\"Product_Name\": \"Croma\", \"Stars\": 4.2, \"Ratings\": 1773, \"Reviews\": 217, \"Current_price\": 7990, \"Marked_price\": 20000, \"Operating_system\": \"Android\"}, {\"Product_Name\": \"SAMSUNG\", \"Stars\": 4.3, \"Ratings\": 0, \"Reviews\": 0, \"Current_price\": 42990, \"Marked_price\": 54900, \"Operating_system\": \"Tizen\"}, {\"Product_Name\": \"Micromax\", \"Stars\": 4.0, \"Ratings\": 0, \"Reviews\": 0, \"Current_price\": 21999, \"Marked_price\": 26990, \"Operating_system\": \"Android\"}, {\"Product_Name\": \"SAMSUNG\", \"Stars\": 4.5, \"Ratings\": 0, \"Reviews\": 0, \"Current_price\": 84990, \"Marked_price\": 119900, \"Operating_system\": \"Tizen\"}, {\"Product_Name\": \"Adsun\", \"Stars\": 3.8, \"Ratings\": 6730, \"Reviews\": 929, \"Current_price\": 8699, \"Marked_price\": 21999, \"Operating_system\": \"Android\"}, {\"Product_Name\": \"LG\", \"Stars\": 4.1, \"Ratings\": 0, \"Reviews\": 0, \"Current_price\": 146300, \"Marked_price\": 269990, \"Operating_system\": \"Linux\"}, {\"Product_Name\": \"SAMSUNG\", \"Stars\": 0.0, \"Ratings\": 0, \"Reviews\": 0, \"Current_price\": 54990, \"Marked_price\": 89900, \"Operating_system\": \"Tizen\"}, {\"Product_Name\": \"Croma\", \"Stars\": 4.3, \"Ratings\": 0, \"Reviews\": 0, \"Current_price\": 11990, \"Marked_price\": 25000, \"Operating_system\": \"Android\"}, {\"Product_Name\": \"KODAK\", \"Stars\": 0.0, \"Ratings\": 0, \"Reviews\": 0, \"Current_price\": 23999, \"Marked_price\": 28999, \"Operating_system\": \"Android\"}, {\"Product_Name\": \"Hyundai\", \"Stars\": 4.8, \"Ratings\": 0, \"Reviews\": 0, \"Current_price\": 8999, \"Marked_price\": 15000, \"Operating_system\": \"Linux\"}, {\"Product_Name\": \"Thomson\", \"Stars\": 4.4, \"Ratings\": 22022, \"Reviews\": 5952, \"Current_price\": 27999, \"Marked_price\": 37999, \"Operating_system\": \"Android\"}, {\"Product_Name\": \"Adsun\", \"Stars\": 3.8, \"Ratings\": 6730, \"Reviews\": 929, \"Current_price\": 8999, \"Marked_price\": 29999, \"Operating_system\": \"Android\"}, {\"Product_Name\": \"Mi\", \"Stars\": 0.0, \"Ratings\": 0, \"Reviews\": 0, \"Current_price\": 18499, \"Marked_price\": 18999, \"Operating_system\": \"Android\"}, {\"Product_Name\": \"LG\", \"Stars\": 5.0, \"Ratings\": 0, \"Reviews\": 0, \"Current_price\": 61990, \"Marked_price\": 94990, \"Operating_system\": \"WebOS\"}, {\"Product_Name\": \"Dyanora\", \"Stars\": 4.1, \"Ratings\": 0, \"Reviews\": 0, \"Current_price\": 14399, \"Marked_price\": 23999, \"Operating_system\": \"Android\"}, {\"Product_Name\": \"Croma\", \"Stars\": 3.9, \"Ratings\": 0, \"Reviews\": 0, \"Current_price\": 18990, \"Marked_price\": 30000, \"Operating_system\": \"Android\"}, {\"Product_Name\": \"Compaq\", \"Stars\": 4.4, \"Ratings\": 0, \"Reviews\": 0, \"Current_price\": 31999, \"Marked_price\": 54999, \"Operating_system\": \"Android\"}, {\"Product_Name\": \"SAMSUNG\", \"Stars\": 4.2, \"Ratings\": 0, \"Reviews\": 0, \"Current_price\": 19590, \"Marked_price\": 26490, \"Operating_system\": \"Tizen\"}, {\"Product_Name\": \"MarQ\", \"Stars\": 4.1, \"Ratings\": 6765, \"Reviews\": 896, \"Current_price\": 16999, \"Marked_price\": 19999, \"Operating_system\": \"Android\"}, {\"Product_Name\": \"Adsun\", \"Stars\": 3.8, \"Ratings\": 6730, \"Reviews\": 929, \"Current_price\": 16999, \"Marked_price\": 39999, \"Operating_system\": \"Android\"}, {\"Product_Name\": \"TCL\", \"Stars\": 4.4, \"Ratings\": 0, \"Reviews\": 0, \"Current_price\": 86990, \"Marked_price\": 269990, \"Operating_system\": \"Android\"}, {\"Product_Name\": \"TCL\", \"Stars\": 4.3, \"Ratings\": 0, \"Reviews\": 0, \"Current_price\": 12990, \"Marked_price\": 22990, \"Operating_system\": \"Linux\"}, {\"Product_Name\": \"Vu\", \"Stars\": 4.4, \"Ratings\": 2881, \"Reviews\": 411, \"Current_price\": 39999, \"Marked_price\": 65000, \"Operating_system\": \"Android\"}, {\"Product_Name\": \"Croma\", \"Stars\": 4.2, \"Ratings\": 1773, \"Reviews\": 217, \"Current_price\": 7990, \"Marked_price\": 20000, \"Operating_system\": \"Android\"}, {\"Product_Name\": \"Vu\", \"Stars\": 4.3, \"Ratings\": 0, \"Reviews\": 0, \"Current_price\": 28999, \"Marked_price\": 50000, \"Operating_system\": \"Android\"}, {\"Product_Name\": \"Bush\", \"Stars\": 4.1, \"Ratings\": 0, \"Reviews\": 0, \"Current_price\": 6499, \"Marked_price\": 8999, \"Operating_system\": \"Linux\"}, {\"Product_Name\": \"LG\", \"Stars\": 0.0, \"Ratings\": 0, \"Reviews\": 0, \"Current_price\": 45253, \"Marked_price\": 69990, \"Operating_system\": \"WebOS\"}, {\"Product_Name\": \"Adsun\", \"Stars\": 3.8, \"Ratings\": 6742, \"Reviews\": 930, \"Current_price\": 8699, \"Marked_price\": 21999, \"Operating_system\": \"Android\"}, {\"Product_Name\": \"LG\", \"Stars\": 4.3, \"Ratings\": 865, \"Reviews\": 123, \"Current_price\": 22990, \"Marked_price\": 24990, \"Operating_system\": \"WebOS\"}, {\"Product_Name\": \"Croma\", \"Stars\": 0.0, \"Ratings\": 0, \"Reviews\": 0, \"Current_price\": 27990, \"Marked_price\": 50000, \"Operating_system\": \"Android\"}, {\"Product_Name\": \"SONY\", \"Stars\": 0.0, \"Ratings\": 0, \"Reviews\": 0, \"Current_price\": 28990, \"Marked_price\": 34900, \"Operating_system\": \"Google TV\"}, {\"Product_Name\": \"Croma\", \"Stars\": 4.2, \"Ratings\": 0, \"Reviews\": 0, \"Current_price\": 11990, \"Marked_price\": 25000, \"Operating_system\": \"Android\"}, {\"Product_Name\": \"SAMSUNG\", \"Stars\": 0.0, \"Ratings\": 0, \"Reviews\": 0, \"Current_price\": 149990, \"Marked_price\": 254900, \"Operating_system\": \"Tizen\"}, {\"Product_Name\": \"LG\", \"Stars\": 3.7, \"Ratings\": 0, \"Reviews\": 0, \"Current_price\": 99999, \"Marked_price\": 189990, \"Operating_system\": \"WebOS\"}, {\"Product_Name\": \"acer\", \"Stars\": 4.4, \"Ratings\": 1722, \"Reviews\": 265, \"Current_price\": 21999, \"Marked_price\": 29990, \"Operating_system\": \"Android\"}, {\"Product_Name\": \"Adsun\", \"Stars\": 3.8, \"Ratings\": 6742, \"Reviews\": 930, \"Current_price\": 8999, \"Marked_price\": 29999, \"Operating_system\": \"Android\"}, {\"Product_Name\": \"MOTOROLA\", \"Stars\": 4.3, \"Ratings\": 20879, \"Reviews\": 3410, \"Current_price\": 33999, \"Marked_price\": 46999, \"Operating_system\": \"Android\"}, {\"Product_Name\": \"LG\", \"Stars\": 3.7, \"Ratings\": 0, \"Reviews\": 0, \"Current_price\": 74990, \"Marked_price\": 169990, \"Operating_system\": \"WebOS\"}, {\"Product_Name\": \"SAMSUNG\", \"Stars\": 4.4, \"Ratings\": 7344, \"Reviews\": 883, \"Current_price\": 87990, \"Marked_price\": 125900, \"Operating_system\": \"Tizen\"}, {\"Product_Name\": \"Croma\", \"Stars\": 3.9, \"Ratings\": 0, \"Reviews\": 0, \"Current_price\": 18990, \"Marked_price\": 30000, \"Operating_system\": \"Android\"}, {\"Product_Name\": \"LG\", \"Stars\": 0.0, \"Ratings\": 0, \"Reviews\": 0, \"Current_price\": 44000, \"Marked_price\": 74990, \"Operating_system\": \"WebOS\"}, {\"Product_Name\": \"SONY\", \"Stars\": 5.0, \"Ratings\": 0, \"Reviews\": 0, \"Current_price\": 62990, \"Marked_price\": 84990, \"Operating_system\": \"Linux\"}, {\"Product_Name\": \"Hyundai\", \"Stars\": 4.2, \"Ratings\": 0, \"Reviews\": 0, \"Current_price\": 35999, \"Marked_price\": 97990, \"Operating_system\": \"WebOS\"}, {\"Product_Name\": \"Adsun\", \"Stars\": 3.8, \"Ratings\": 6742, \"Reviews\": 930, \"Current_price\": 16999, \"Marked_price\": 39999, \"Operating_system\": \"Android\"}, {\"Product_Name\": \"LG\", \"Stars\": 4.3, \"Ratings\": 1124, \"Reviews\": 111, \"Current_price\": 18999, \"Marked_price\": 20490, \"Operating_system\": \"Linux\"}, {\"Product_Name\": \"Thomson\", \"Stars\": 0.0, \"Ratings\": 0, \"Reviews\": 0, \"Current_price\": 18499, \"Marked_price\": 21499, \"Operating_system\": \"Android\"}, {\"Product_Name\": \"LG\", \"Stars\": 4.6, \"Ratings\": 0, \"Reviews\": 0, \"Current_price\": 99999, \"Marked_price\": 219990, \"Operating_system\": \"WebOS\"}, {\"Product_Name\": \"Croma\", \"Stars\": 4.2, \"Ratings\": 1773, \"Reviews\": 217, \"Current_price\": 7990, \"Marked_price\": 20000, \"Operating_system\": \"Android\"}, {\"Product_Name\": \"TCL\", \"Stars\": 4.3, \"Ratings\": 0, \"Reviews\": 0, \"Current_price\": 43990, \"Marked_price\": 109990, \"Operating_system\": \"Android\"}, {\"Product_Name\": \"SONY\", \"Stars\": 0.0, \"Ratings\": 0, \"Reviews\": 0, \"Current_price\": 98960, \"Marked_price\": 139900, \"Operating_system\": \"Google TV\"}, {\"Product_Name\": \"Hisense\", \"Stars\": 4.5, \"Ratings\": 0, \"Reviews\": 0, \"Current_price\": 77990, \"Marked_price\": 109990, \"Operating_system\": \"Android\"}, {\"Product_Name\": \"Adsun\", \"Stars\": 3.8, \"Ratings\": 6730, \"Reviews\": 929, \"Current_price\": 8699, \"Marked_price\": 21999, \"Operating_system\": \"Android\"}, {\"Product_Name\": \"Infinix\", \"Stars\": 4.2, \"Ratings\": 14811, \"Reviews\": 2279, \"Current_price\": 13499, \"Marked_price\": 17999, \"Operating_system\": \"Android\"}, {\"Product_Name\": \"LG\", \"Stars\": 4.3, \"Ratings\": 865, \"Reviews\": 123, \"Current_price\": 22990, \"Marked_price\": 24990, \"Operating_system\": \"WebOS\"}, {\"Product_Name\": \"PHILIPS\", \"Stars\": 4.5, \"Ratings\": 0, \"Reviews\": 0, \"Current_price\": 19659, \"Marked_price\": 22990, \"Operating_system\": \"Android\"}, {\"Product_Name\": \"Croma\", \"Stars\": 4.3, \"Ratings\": 0, \"Reviews\": 0, \"Current_price\": 11990, \"Marked_price\": 25000, \"Operating_system\": \"Android\"}, {\"Product_Name\": \"Vu\", \"Stars\": 0.0, \"Ratings\": 0, \"Reviews\": 0, \"Current_price\": 104990, \"Marked_price\": 120000, \"Operating_system\": \"Android\"}, {\"Product_Name\": \"TCL\", \"Stars\": 4.3, \"Ratings\": 0, \"Reviews\": 0, \"Current_price\": 49990, \"Marked_price\": 110990, \"Operating_system\": \"Android\"}, {\"Product_Name\": \"SAMSUNG\", \"Stars\": 0.0, \"Ratings\": 0, \"Reviews\": 0, \"Current_price\": 74990, \"Marked_price\": 129900, \"Operating_system\": \"Tizen\"}, {\"Product_Name\": \"Adsun\", \"Stars\": 3.8, \"Ratings\": 6730, \"Reviews\": 929, \"Current_price\": 8999, \"Marked_price\": 29999, \"Operating_system\": \"Android\"}, {\"Product_Name\": \"SAMSUNG\", \"Stars\": 4.4, \"Ratings\": 0, \"Reviews\": 0, \"Current_price\": 63990, \"Marked_price\": 86900, \"Operating_system\": \"Tizen\"}, {\"Product_Name\": \"Vu\", \"Stars\": 0.0, \"Ratings\": 0, \"Reviews\": 0, \"Current_price\": 74990, \"Marked_price\": 80000, \"Operating_system\": \"Android\"}, {\"Product_Name\": \"SONY\", \"Stars\": 0.0, \"Ratings\": 0, \"Reviews\": 0, \"Current_price\": 77390, \"Marked_price\": 109900, \"Operating_system\": \"Google TV\"}, {\"Product_Name\": \"Croma\", \"Stars\": 3.9, \"Ratings\": 0, \"Reviews\": 0, \"Current_price\": 18990, \"Marked_price\": 30000, \"Operating_system\": \"Android\"}, {\"Product_Name\": \"Dyanora\", \"Stars\": 4.1, \"Ratings\": 0, \"Reviews\": 0, \"Current_price\": 28499, \"Marked_price\": 43999, \"Operating_system\": \"Android\"}, {\"Product_Name\": \"LG\", \"Stars\": 0.0, \"Ratings\": 0, \"Reviews\": 0, \"Current_price\": 499990, \"Marked_price\": 499990, \"Operating_system\": \"WebOS\"}, {\"Product_Name\": \"Coocaa\", \"Stars\": 4.2, \"Ratings\": 14815, \"Reviews\": 2326, \"Current_price\": 12499, \"Marked_price\": 25990, \"Operating_system\": \"Linux\"}, {\"Product_Name\": \"Adsun\", \"Stars\": 3.8, \"Ratings\": 6730, \"Reviews\": 929, \"Current_price\": 16999, \"Marked_price\": 39999, \"Operating_system\": \"Android\"}, {\"Product_Name\": \"Sansui\", \"Stars\": 0.0, \"Ratings\": 0, \"Reviews\": 0, \"Current_price\": 13999, \"Marked_price\": 19999, \"Operating_system\": \"Android\"}, {\"Product_Name\": \"TOSHIBA\", \"Stars\": 4.3, \"Ratings\": 0, \"Reviews\": 0, \"Current_price\": 22499, \"Marked_price\": 26990, \"Operating_system\": \"VIDAA\"}, {\"Product_Name\": \"SONY\", \"Stars\": 3.7, \"Ratings\": 0, \"Reviews\": 0, \"Current_price\": 107990, \"Marked_price\": 159990, \"Operating_system\": \"Google TV\"}, {\"Product_Name\": \"Croma\", \"Stars\": 4.2, \"Ratings\": 1773, \"Reviews\": 217, \"Current_price\": 7990, \"Marked_price\": 20000, \"Operating_system\": \"Android\"}, {\"Product_Name\": \"KODAK\", \"Stars\": 4.5, \"Ratings\": 17459, \"Reviews\": 5305, \"Current_price\": 99999, \"Marked_price\": 149999, \"Operating_system\": \"Android\"}, {\"Product_Name\": \"SONY\", \"Stars\": 3.7, \"Ratings\": 0, \"Reviews\": 0, \"Current_price\": 259999, \"Marked_price\": 499900, \"Operating_system\": \"Android\"}, {\"Product_Name\": \"TCL\", \"Stars\": 4.4, \"Ratings\": 0, \"Reviews\": 0, \"Current_price\": 51990, \"Marked_price\": 129990, \"Operating_system\": \"Android\"}, {\"Product_Name\": \"Adsun\", \"Stars\": 3.8, \"Ratings\": 6730, \"Reviews\": 929, \"Current_price\": 8699, \"Marked_price\": 21999, \"Operating_system\": \"Android\"}, {\"Product_Name\": \"SAMSUNG\", \"Stars\": 4.5, \"Ratings\": 4501, \"Reviews\": 661, \"Current_price\": 73999, \"Marked_price\": 129900, \"Operating_system\": \"Tizen\"}, {\"Product_Name\": \"Croma\", \"Stars\": 4.0, \"Ratings\": 0, \"Reviews\": 0, \"Current_price\": 34990, \"Marked_price\": 60000, \"Operating_system\": \"FireTv OS 6\"}, {\"Product_Name\": \"Coocaa\", \"Stars\": 4.2, \"Ratings\": 0, \"Reviews\": 0, \"Current_price\": 27999, \"Marked_price\": 53990, \"Operating_system\": \"Linux\"}, {\"Product_Name\": \"Croma\", \"Stars\": 4.3, \"Ratings\": 0, \"Reviews\": 0, \"Current_price\": 11990, \"Marked_price\": 25000, \"Operating_system\": \"Android\"}, {\"Product_Name\": \"SONY\", \"Stars\": 0.0, \"Ratings\": 0, \"Reviews\": 0, \"Current_price\": 151900, \"Marked_price\": 239900, \"Operating_system\": \"Google TV\"}, {\"Product_Name\": \"KODAK\", \"Stars\": 4.5, \"Ratings\": 17459, \"Reviews\": 5305, \"Current_price\": 36999, \"Marked_price\": 47999, \"Operating_system\": \"Android\"}, {\"Product_Name\": \"SAMSUNG\", \"Stars\": 3.0, \"Ratings\": 0, \"Reviews\": 0, \"Current_price\": 57980, \"Marked_price\": 79400, \"Operating_system\": \"Tizen\"}, {\"Product_Name\": \"Adsun\", \"Stars\": 3.8, \"Ratings\": 6730, \"Reviews\": 929, \"Current_price\": 8999, \"Marked_price\": 29999, \"Operating_system\": \"Android\"}, {\"Product_Name\": \"Vu\", \"Stars\": 4.4, \"Ratings\": 2879, \"Reviews\": 411, \"Current_price\": 59999, \"Marked_price\": 100000, \"Operating_system\": \"Android\"}, {\"Product_Name\": \"iFFALCON\", \"Stars\": 4.4, \"Ratings\": 5287, \"Reviews\": 822, \"Current_price\": 24999, \"Marked_price\": 76990, \"Operating_system\": \"Android\"}, {\"Product_Name\": \"LG\", \"Stars\": 4.6, \"Ratings\": 0, \"Reviews\": 0, \"Current_price\": 87999, \"Marked_price\": 149990, \"Operating_system\": \"WebOS\"}, {\"Product_Name\": \"Croma\", \"Stars\": 0.0, \"Ratings\": 0, \"Reviews\": 0, \"Current_price\": 18990, \"Marked_price\": 30000, \"Operating_system\": \"Android\"}, {\"Product_Name\": \"LG\", \"Stars\": 4.5, \"Ratings\": 801, \"Reviews\": 121, \"Current_price\": 84990, \"Marked_price\": 129990, \"Operating_system\": \"WebOS\"}, {\"Product_Name\": \"Hyundai\", \"Stars\": 0.0, \"Ratings\": 0, \"Reviews\": 0, \"Current_price\": 23990, \"Marked_price\": 46490, \"Operating_system\": \"Android\"}, {\"Product_Name\": \"Mi\", \"Stars\": 5.0, \"Ratings\": 0, \"Reviews\": 0, \"Current_price\": 47214, \"Marked_price\": 49990, \"Operating_system\": \"Android\"}, {\"Product_Name\": \"Adsun\", \"Stars\": 3.8, \"Ratings\": 6730, \"Reviews\": 929, \"Current_price\": 6199, \"Marked_price\": 12999, \"Operating_system\": \"Linux\"}, {\"Product_Name\": \"LG\", \"Stars\": 4.6, \"Ratings\": 0, \"Reviews\": 0, \"Current_price\": 87999, \"Marked_price\": 149990, \"Operating_system\": \"WebOS\"}, {\"Product_Name\": \"Compaq\", \"Stars\": 4.5, \"Ratings\": 0, \"Reviews\": 0, \"Current_price\": 40999, \"Marked_price\": 64999, \"Operating_system\": \"Android\"}, {\"Product_Name\": \"TOSHIBA\", \"Stars\": 4.3, \"Ratings\": 1073, \"Reviews\": 139, \"Current_price\": 38990, \"Marked_price\": 54990, \"Operating_system\": \"VIDAA\"}, {\"Product_Name\": \"Croma\", \"Stars\": 4.2, \"Ratings\": 1773, \"Reviews\": 217, \"Current_price\": 7990, \"Marked_price\": 20000, \"Operating_system\": \"Android\"}, {\"Product_Name\": \"Sansui\", \"Stars\": 4.3, \"Ratings\": 0, \"Reviews\": 0, \"Current_price\": 34999, \"Marked_price\": 34999, \"Operating_system\": \"Android\"}, {\"Product_Name\": \"SONY\", \"Stars\": 4.4, \"Ratings\": 1495, \"Reviews\": 394, \"Current_price\": 21299, \"Marked_price\": 36900, \"Operating_system\": \"Linux\"}, {\"Product_Name\": \"Adsun\", \"Stars\": 3.8, \"Ratings\": 6742, \"Reviews\": 930, \"Current_price\": 8699, \"Marked_price\": 21999, \"Operating_system\": \"Android\"}, {\"Product_Name\": \"SONY\", \"Stars\": 4.7, \"Ratings\": 0, \"Reviews\": 0, \"Current_price\": 164999, \"Marked_price\": 329900, \"Operating_system\": \"Android\"}, {\"Product_Name\": \"LG\", \"Stars\": 3.6, \"Ratings\": 0, \"Reviews\": 0, \"Current_price\": 27399, \"Marked_price\": 34499, \"Operating_system\": \"WebOS\"}, {\"Product_Name\": \"LG\", \"Stars\": 0.0, \"Ratings\": 0, \"Reviews\": 0, \"Current_price\": 399564, \"Marked_price\": 529990, \"Operating_system\": \"WebOS\"}, {\"Product_Name\": \"Croma\", \"Stars\": 4.2, \"Ratings\": 0, \"Reviews\": 0, \"Current_price\": 11990, \"Marked_price\": 25000, \"Operating_system\": \"Android\"}, {\"Product_Name\": \"SONY\", \"Stars\": 4.9, \"Ratings\": 0, \"Reviews\": 0, \"Current_price\": 179999, \"Marked_price\": 224900, \"Operating_system\": \"Android\"}, {\"Product_Name\": \"LG\", \"Stars\": 4.2, \"Ratings\": 0, \"Reviews\": 0, \"Current_price\": 35690, \"Marked_price\": 49990, \"Operating_system\": \"WebOS\"}, {\"Product_Name\": \"iFFALCON\", \"Stars\": 4.5, \"Ratings\": 0, \"Reviews\": 0, \"Current_price\": 84999, \"Marked_price\": 186990, \"Operating_system\": \"Android\"}, {\"Product_Name\": \"Adsun\", \"Stars\": 3.8, \"Ratings\": 6742, \"Reviews\": 930, \"Current_price\": 8999, \"Marked_price\": 29999, \"Operating_system\": \"Android\"}, {\"Product_Name\": \"LG\", \"Stars\": 0.0, \"Ratings\": 0, \"Reviews\": 0, \"Current_price\": 104999, \"Marked_price\": 169990, \"Operating_system\": \"WebOS\"}, {\"Product_Name\": \"SAMSUNG\", \"Stars\": 4.5, \"Ratings\": 6879, \"Reviews\": 1027, \"Current_price\": 36999, \"Marked_price\": 52990, \"Operating_system\": \"Tizen\"}, {\"Product_Name\": \"TOSHIBA\", \"Stars\": 4.3, \"Ratings\": 1983, \"Reviews\": 315, \"Current_price\": 17499, \"Marked_price\": 18990, \"Operating_system\": \"VIDAA\"}, {\"Product_Name\": \"Croma\", \"Stars\": 3.9, \"Ratings\": 0, \"Reviews\": 0, \"Current_price\": 18990, \"Marked_price\": 30000, \"Operating_system\": \"Android\"}, {\"Product_Name\": \"SONY\", \"Stars\": 0.0, \"Ratings\": 0, \"Reviews\": 0, \"Current_price\": 90205, \"Marked_price\": 139990, \"Operating_system\": \"Linux\"}, {\"Product_Name\": \"TCL\", \"Stars\": 4.3, \"Ratings\": 0, \"Reviews\": 0, \"Current_price\": 39990, \"Marked_price\": 89990, \"Operating_system\": \"Android\"}, {\"Product_Name\": \"PHILIPS\", \"Stars\": 4.0, \"Ratings\": 0, \"Reviews\": 0, \"Current_price\": 28999, \"Marked_price\": 35990, \"Operating_system\": \"Linux\"}, {\"Product_Name\": \"Adsun\", \"Stars\": 3.8, \"Ratings\": 6742, \"Reviews\": 930, \"Current_price\": 16999, \"Marked_price\": 39999, \"Operating_system\": \"Android\"}, {\"Product_Name\": \"SAMSUNG\", \"Stars\": 0.0, \"Ratings\": 0, \"Reviews\": 0, \"Current_price\": 239999, \"Marked_price\": 394900, \"Operating_system\": \"Tizen\"}, {\"Product_Name\": \"SAMSUNG\", \"Stars\": 0.0, \"Ratings\": 0, \"Reviews\": 0, \"Current_price\": 599900, \"Marked_price\": 599900, \"Operating_system\": \"Tizen\"}, {\"Product_Name\": \"TCL\", \"Stars\": 5.0, \"Ratings\": 0, \"Reviews\": 0, \"Current_price\": 109990, \"Marked_price\": 239990, \"Operating_system\": \"Android\"}, {\"Product_Name\": \"Croma\", \"Stars\": 4.2, \"Ratings\": 1773, \"Reviews\": 217, \"Current_price\": 7990, \"Marked_price\": 20000, \"Operating_system\": \"Android\"}, {\"Product_Name\": \"TCL\", \"Stars\": 4.2, \"Ratings\": 0, \"Reviews\": 0, \"Current_price\": 55499, \"Marked_price\": 89900, \"Operating_system\": \"Linux\"}, {\"Product_Name\": \"SAMSUNG\", \"Stars\": 4.3, \"Ratings\": 0, \"Reviews\": 0, \"Current_price\": 39490, \"Marked_price\": 54900, \"Operating_system\": \"Tizen\"}, {\"Product_Name\": \"Micromax\", \"Stars\": 4.0, \"Ratings\": 0, \"Reviews\": 0, \"Current_price\": 21999, \"Marked_price\": 26990, \"Operating_system\": \"Android\"}, {\"Product_Name\": \"Adsun\", \"Stars\": 3.8, \"Ratings\": 6742, \"Reviews\": 930, \"Current_price\": 8699, \"Marked_price\": 21999, \"Operating_system\": \"Android\"}, {\"Product_Name\": \"LG\", \"Stars\": 4.6, \"Ratings\": 0, \"Reviews\": 0, \"Current_price\": 39490, \"Marked_price\": 59990, \"Operating_system\": \"Linux\"}, {\"Product_Name\": \"Vu\", \"Stars\": 0.0, \"Ratings\": 0, \"Reviews\": 0, \"Current_price\": 184990, \"Marked_price\": 200000, \"Operating_system\": \"Android\"}, {\"Product_Name\": \"SAMSUNG\", \"Stars\": 4.3, \"Ratings\": 0, \"Reviews\": 0, \"Current_price\": 19599, \"Marked_price\": 25900, \"Operating_system\": \"Linux\"}, {\"Product_Name\": \"Croma\", \"Stars\": 4.2, \"Ratings\": 0, \"Reviews\": 0, \"Current_price\": 11990, \"Marked_price\": 25000, \"Operating_system\": \"Android\"}, {\"Product_Name\": \"PHILIPS\", \"Stars\": 4.0, \"Ratings\": 0, \"Reviews\": 0, \"Current_price\": 18999, \"Marked_price\": 20990, \"Operating_system\": \"Linux\"}, {\"Product_Name\": \"SONY\", \"Stars\": 4.7, \"Ratings\": 0, \"Reviews\": 0, \"Current_price\": 169768, \"Marked_price\": 299900, \"Operating_system\": \"Google TV\"}, {\"Product_Name\": \"SAMSUNG\", \"Stars\": 4.4, \"Ratings\": 0, \"Reviews\": 0, \"Current_price\": 39699, \"Marked_price\": 53900, \"Operating_system\": \"Linux\"}, {\"Product_Name\": \"Adsun\", \"Stars\": 3.8, \"Ratings\": 6742, \"Reviews\": 930, \"Current_price\": 8999, \"Marked_price\": 29999, \"Operating_system\": \"Android\"}, {\"Product_Name\": \"SAMSUNG\", \"Stars\": 0.0, \"Ratings\": 0, \"Reviews\": 0, \"Current_price\": 57989, \"Marked_price\": 88990, \"Operating_system\": \"Tizen\"}, {\"Product_Name\": \"iFFALCON\", \"Stars\": 4.2, \"Ratings\": 0, \"Reviews\": 0, \"Current_price\": 149999, \"Marked_price\": 239999, \"Operating_system\": \"Android\"}, {\"Product_Name\": \"PHILIPS\", \"Stars\": 4.2, \"Ratings\": 0, \"Reviews\": 0, \"Current_price\": 38999, \"Marked_price\": 105990, \"Operating_system\": \"Linux\"}, {\"Product_Name\": \"Croma\", \"Stars\": 3.9, \"Ratings\": 0, \"Reviews\": 0, \"Current_price\": 18990, \"Marked_price\": 30000, \"Operating_system\": \"Android\"}, {\"Product_Name\": \"SONY\", \"Stars\": 4.6, \"Ratings\": 0, \"Reviews\": 0, \"Current_price\": 29000, \"Marked_price\": 37990, \"Operating_system\": \"Android\"}, {\"Product_Name\": \"SAMSUNG\", \"Stars\": 4.5, \"Ratings\": 6879, \"Reviews\": 1027, \"Current_price\": 81999, \"Marked_price\": 129900, \"Operating_system\": \"Tizen\"}, {\"Product_Name\": \"MarQ\", \"Stars\": 4.4, \"Ratings\": 22778, \"Reviews\": 4027, \"Current_price\": 64999, \"Marked_price\": 89499, \"Operating_system\": \"Linux\"}, {\"Product_Name\": \"Adsun\", \"Stars\": 3.8, \"Ratings\": 6742, \"Reviews\": 930, \"Current_price\": 6199, \"Marked_price\": 12999, \"Operating_system\": \"Linux\"}, {\"Product_Name\": \"SAMSUNG\", \"Stars\": 0.0, \"Ratings\": 0, \"Reviews\": 0, \"Current_price\": 470900, \"Marked_price\": 470900, \"Operating_system\": \"Tizen\"}, {\"Product_Name\": \"SONY\", \"Stars\": 3.6, \"Ratings\": 0, \"Reviews\": 0, \"Current_price\": 109999, \"Marked_price\": 164900, \"Operating_system\": \"Linux\"}, {\"Product_Name\": \"SAMSUNG\", \"Stars\": 5.0, \"Ratings\": 0, \"Reviews\": 0, \"Current_price\": 34450, \"Marked_price\": 57720, \"Operating_system\": \"Tizen\"}, {\"Product_Name\": \"Croma\", \"Stars\": 4.2, \"Ratings\": 1773, \"Reviews\": 217, \"Current_price\": 7990, \"Marked_price\": 20000, \"Operating_system\": \"Android\"}, {\"Product_Name\": \"LG\", \"Stars\": 4.3, \"Ratings\": 0, \"Reviews\": 0, \"Current_price\": 64999, \"Marked_price\": 93990, \"Operating_system\": \"Linux\"}, {\"Product_Name\": \"SAMSUNG\", \"Stars\": 4.7, \"Ratings\": 0, \"Reviews\": 0, \"Current_price\": 294900, \"Marked_price\": 294900, \"Operating_system\": \"Tizen\"}, {\"Product_Name\": \"LG\", \"Stars\": 5.0, \"Ratings\": 0, \"Reviews\": 0, \"Current_price\": 194990, \"Marked_price\": 379990, \"Operating_system\": \"WebOS\"}, {\"Product_Name\": \"Adsun\", \"Stars\": 3.8, \"Ratings\": 6730, \"Reviews\": 929, \"Current_price\": 8699, \"Marked_price\": 21999, \"Operating_system\": \"Android\"}, {\"Product_Name\": \"SONY\", \"Stars\": 0.0, \"Ratings\": 0, \"Reviews\": 0, \"Current_price\": 77500, \"Marked_price\": 99900, \"Operating_system\": \"Google TV\"}, {\"Product_Name\": \"SONY\", \"Stars\": 4.6, \"Ratings\": 0, \"Reviews\": 0, \"Current_price\": 60999, \"Marked_price\": 76900, \"Operating_system\": \"Android\"}, {\"Product_Name\": \"TCL\", \"Stars\": 5.0, \"Ratings\": 0, \"Reviews\": 0, \"Current_price\": 157490, \"Marked_price\": 299990, \"Operating_system\": \"Android\"}, {\"Product_Name\": \"Croma\", \"Stars\": 4.3, \"Ratings\": 0, \"Reviews\": 0, \"Current_price\": 11990, \"Marked_price\": 25000, \"Operating_system\": \"Android\"}, {\"Product_Name\": \"SONY\", \"Stars\": 4.7, \"Ratings\": 0, \"Reviews\": 0, \"Current_price\": 149999, \"Marked_price\": 244900, \"Operating_system\": \"Android\"}, {\"Product_Name\": \"Croma\", \"Stars\": 0.0, \"Ratings\": 0, \"Reviews\": 0, \"Current_price\": 59990, \"Marked_price\": 150000, \"Operating_system\": \"Android\"}, {\"Product_Name\": \"Haier\", \"Stars\": 4.7, \"Ratings\": 0, \"Reviews\": 0, \"Current_price\": 28590, \"Marked_price\": 46990, \"Operating_system\": \"Android\"}, {\"Product_Name\": \"Adsun\", \"Stars\": 3.8, \"Ratings\": 6730, \"Reviews\": 929, \"Current_price\": 8999, \"Marked_price\": 29999, \"Operating_system\": \"Android\"}, {\"Product_Name\": \"SONY\", \"Stars\": 4.3, \"Ratings\": 0, \"Reviews\": 0, \"Current_price\": 259999, \"Marked_price\": 449900, \"Operating_system\": \"Android\"}, {\"Product_Name\": \"Lloyd\", \"Stars\": 0.0, \"Ratings\": 0, \"Reviews\": 0, \"Current_price\": 48900, \"Marked_price\": 70490, \"Operating_system\": \"Android\"}, {\"Product_Name\": \"SAMSUNG\", \"Stars\": 0.0, \"Ratings\": 0, \"Reviews\": 0, \"Current_price\": 314900, \"Marked_price\": 314900, \"Operating_system\": \"Tizen\"}, {\"Product_Name\": \"Croma\", \"Stars\": 3.9, \"Ratings\": 0, \"Reviews\": 0, \"Current_price\": 18990, \"Marked_price\": 30000, \"Operating_system\": \"Android\"}, {\"Product_Name\": \"SAMSUNG\", \"Stars\": 4.1, \"Ratings\": 0, \"Reviews\": 0, \"Current_price\": 37490, \"Marked_price\": 40400, \"Operating_system\": \"Tizen\"}, {\"Product_Name\": \"SAMSUNG\", \"Stars\": 0.0, \"Ratings\": 0, \"Reviews\": 0, \"Current_price\": 167199, \"Marked_price\": 269900, \"Operating_system\": \"Tizen\"}, {\"Product_Name\": \"SAMSUNG\", \"Stars\": 0.0, \"Ratings\": 0, \"Reviews\": 0, \"Current_price\": 198599, \"Marked_price\": 219900, \"Operating_system\": \"Tizen\"}, {\"Product_Name\": \"Adsun\", \"Stars\": 3.8, \"Ratings\": 6730, \"Reviews\": 929, \"Current_price\": 16999, \"Marked_price\": 39999, \"Operating_system\": \"Android\"}, {\"Product_Name\": \"SAMSUNG\", \"Stars\": 4.3, \"Ratings\": 0, \"Reviews\": 0, \"Current_price\": 22499, \"Marked_price\": 24900, \"Operating_system\": \"Tizen\"}, {\"Product_Name\": \"LG\", \"Stars\": 0.0, \"Ratings\": 0, \"Reviews\": 0, \"Current_price\": 139990, \"Marked_price\": 269900, \"Operating_system\": \"WebOS\"}, {\"Product_Name\": \"IMPEX\", \"Stars\": 0.0, \"Ratings\": 0, \"Reviews\": 0, \"Current_price\": 22222, \"Marked_price\": 29790, \"Operating_system\": \"Linux\"}, {\"Product_Name\": \"Croma\", \"Stars\": 4.2, \"Ratings\": 1773, \"Reviews\": 217, \"Current_price\": 7990, \"Marked_price\": 20000, \"Operating_system\": \"Android\"}, {\"Product_Name\": \"KODAK\", \"Stars\": 4.4, \"Ratings\": 1693, \"Reviews\": 368, \"Current_price\": 23999, \"Marked_price\": 33999, \"Operating_system\": \"Android\"}, {\"Product_Name\": \"LG\", \"Stars\": 0.0, \"Ratings\": 0, \"Reviews\": 0, \"Current_price\": 91564, \"Marked_price\": 139990, \"Operating_system\": \"WebOS\"}, {\"Product_Name\": \"SAMSUNG\", \"Stars\": 3.9, \"Ratings\": 0, \"Reviews\": 0, \"Current_price\": 241900, \"Marked_price\": 241900, \"Operating_system\": \"Linux\"}, {\"Product_Name\": \"Adsun\", \"Stars\": 3.8, \"Ratings\": 6742, \"Reviews\": 930, \"Current_price\": 8699, \"Marked_price\": 21999, \"Operating_system\": \"Android\"}, {\"Product_Name\": \"LG\", \"Stars\": 4.3, \"Ratings\": 0, \"Reviews\": 0, \"Current_price\": 57500, \"Marked_price\": 84990, \"Operating_system\": \"WebOS\"}, {\"Product_Name\": \"LG\", \"Stars\": 0.0, \"Ratings\": 0, \"Reviews\": 0, \"Current_price\": 296474, \"Marked_price\": 549990, \"Operating_system\": \"WebOS\"}, {\"Product_Name\": \"MarQ\", \"Stars\": 4.4, \"Ratings\": 0, \"Reviews\": 0, \"Current_price\": 64999, \"Marked_price\": 94499, \"Operating_system\": \"Android\"}, {\"Product_Name\": \"Croma\", \"Stars\": 4.2, \"Ratings\": 0, \"Reviews\": 0, \"Current_price\": 11990, \"Marked_price\": 25000, \"Operating_system\": \"Android\"}, {\"Product_Name\": \"Croma\", \"Stars\": 4.3, \"Ratings\": 0, \"Reviews\": 0, \"Current_price\": 29990, \"Marked_price\": 50000, \"Operating_system\": \"FireTv OS 6\"}, {\"Product_Name\": \"Micromax\", \"Stars\": 4.0, \"Ratings\": 2677, \"Reviews\": 763, \"Current_price\": 91990, \"Marked_price\": 91990, \"Operating_system\": \"Linux\"}, {\"Product_Name\": \"LG\", \"Stars\": 0.0, \"Ratings\": 0, \"Reviews\": 0, \"Current_price\": 349999, \"Marked_price\": 499990, \"Operating_system\": \"WebOS\"}, {\"Product_Name\": \"Adsun\", \"Stars\": 3.8, \"Ratings\": 6742, \"Reviews\": 930, \"Current_price\": 8999, \"Marked_price\": 29999, \"Operating_system\": \"Android\"}, {\"Product_Name\": \"LG\", \"Stars\": 4.8, \"Ratings\": 0, \"Reviews\": 0, \"Current_price\": 249999, \"Marked_price\": 409990, \"Operating_system\": \"WebOS\"}, {\"Product_Name\": \"Croma\", \"Stars\": 2.3, \"Ratings\": 0, \"Reviews\": 0, \"Current_price\": 25990, \"Marked_price\": 40000, \"Operating_system\": \"FireTv OS 6\"}, {\"Product_Name\": \"LG\", \"Stars\": 5.0, \"Ratings\": 0, \"Reviews\": 0, \"Current_price\": 356990, \"Marked_price\": 356990, \"Operating_system\": \"Linux\"}, {\"Product_Name\": \"Croma\", \"Stars\": 3.9, \"Ratings\": 0, \"Reviews\": 0, \"Current_price\": 18990, \"Marked_price\": 30000, \"Operating_system\": \"Android\"}, {\"Product_Name\": \"SONY\", \"Stars\": 4.4, \"Ratings\": 0, \"Reviews\": 0, \"Current_price\": 75099, \"Marked_price\": 89900, \"Operating_system\": \"Android\"}, {\"Product_Name\": \"LG\", \"Stars\": 0.0, \"Ratings\": 0, \"Reviews\": 0, \"Current_price\": 86559, \"Marked_price\": 149990, \"Operating_system\": \"WebOS\"}, {\"Product_Name\": \"Micromax\", \"Stars\": 3.9, \"Ratings\": 0, \"Reviews\": 0, \"Current_price\": 12999, \"Marked_price\": 24990, \"Operating_system\": \"Android\"}, {\"Product_Name\": \"Adsun\", \"Stars\": 3.8, \"Ratings\": 6742, \"Reviews\": 930, \"Current_price\": 6199, \"Marked_price\": 12999, \"Operating_system\": \"Linux\"}, {\"Product_Name\": \"TOSHIBA\", \"Stars\": 4.3, \"Ratings\": 0, \"Reviews\": 0, \"Current_price\": 25999, \"Marked_price\": 31990, \"Operating_system\": \"VIDAA\"}, {\"Product_Name\": \"IGO\", \"Stars\": 4.1, \"Ratings\": 0, \"Reviews\": 0, \"Current_price\": 17999, \"Marked_price\": 29990, \"Operating_system\": \"Android\"}, {\"Product_Name\": \"MOTOROLA\", \"Stars\": 4.3, \"Ratings\": 2857, \"Reviews\": 482, \"Current_price\": 32999, \"Marked_price\": 35999, \"Operating_system\": \"Android\"}, {\"Product_Name\": \"Croma\", \"Stars\": 4.2, \"Ratings\": 1773, \"Reviews\": 217, \"Current_price\": 7990, \"Marked_price\": 20000, \"Operating_system\": \"Android\"}, {\"Product_Name\": \"SAMSUNG\", \"Stars\": 0.0, \"Ratings\": 0, \"Reviews\": 0, \"Current_price\": 45785, \"Marked_price\": 45900, \"Operating_system\": \"Tizen\"}, {\"Product_Name\": \"SONY\", \"Stars\": 4.7, \"Ratings\": 0, \"Reviews\": 0, \"Current_price\": 46799, \"Marked_price\": 52900, \"Operating_system\": \"Android\"}, {\"Product_Name\": \"SAMSUNG\", \"Stars\": 0.0, \"Ratings\": 0, \"Reviews\": 0, \"Current_price\": 93899, \"Marked_price\": 135900, \"Operating_system\": \"Tizen\"}, {\"Product_Name\": \"Adsun\", \"Stars\": 3.8, \"Ratings\": 6742, \"Reviews\": 930, \"Current_price\": 8699, \"Marked_price\": 21999, \"Operating_system\": \"Android\"}, {\"Product_Name\": \"LG\", \"Stars\": 0.0, \"Ratings\": 0, \"Reviews\": 0, \"Current_price\": 141520, \"Marked_price\": 166990, \"Operating_system\": \"WebOS\"}, {\"Product_Name\": \"SAMSUNG\", \"Stars\": 5.0, \"Ratings\": 0, \"Reviews\": 0, \"Current_price\": 58990, \"Marked_price\": 82400, \"Operating_system\": \"Tizen\"}, {\"Product_Name\": \"SAMSUNG\", \"Stars\": 0.0, \"Ratings\": 0, \"Reviews\": 0, \"Current_price\": 81990, \"Marked_price\": 115999, \"Operating_system\": \"Tizen\"}, {\"Product_Name\": \"Croma\", \"Stars\": 4.2, \"Ratings\": 0, \"Reviews\": 0, \"Current_price\": 11990, \"Marked_price\": 25000, \"Operating_system\": \"Android\"}, {\"Product_Name\": \"Hisense\", \"Stars\": 4.3, \"Ratings\": 0, \"Reviews\": 0, \"Current_price\": 40990, \"Marked_price\": 59990, \"Operating_system\": \"Android\"}, {\"Product_Name\": \"SAMSUNG\", \"Stars\": 0.0, \"Ratings\": 0, \"Reviews\": 0, \"Current_price\": 109990, \"Marked_price\": 169990, \"Operating_system\": \"Tizen\"}, {\"Product_Name\": \"SAMSUNG\", \"Stars\": 3.0, \"Ratings\": 0, \"Reviews\": 0, \"Current_price\": 258999, \"Marked_price\": 419900, \"Operating_system\": \"Tizen\"}, {\"Product_Name\": \"Adsun\", \"Stars\": 3.8, \"Ratings\": 6742, \"Reviews\": 930, \"Current_price\": 8999, \"Marked_price\": 29999, \"Operating_system\": \"Android\"}, {\"Product_Name\": \"LG\", \"Stars\": 4.7, \"Ratings\": 0, \"Reviews\": 0, \"Current_price\": 60990, \"Marked_price\": 91990, \"Operating_system\": \"WebOS\"}, {\"Product_Name\": \"Sansui\", \"Stars\": 3.7, \"Ratings\": 0, \"Reviews\": 0, \"Current_price\": 69200, \"Marked_price\": 69200, \"Operating_system\": \"Linux\"}, {\"Product_Name\": \"Hisense\", \"Stars\": 4.2, \"Ratings\": 3884, \"Reviews\": 735, \"Current_price\": 17499, \"Marked_price\": 17990, \"Operating_system\": \"Android\"}, {\"Product_Name\": \"Croma\", \"Stars\": 3.9, \"Ratings\": 0, \"Reviews\": 0, \"Current_price\": 18990, \"Marked_price\": 30000, \"Operating_system\": \"Android\"}, {\"Product_Name\": \"SAMSUNG\", \"Stars\": 3.0, \"Ratings\": 0, \"Reviews\": 0, \"Current_price\": 204900, \"Marked_price\": 204900, \"Operating_system\": \"Tizen\"}, {\"Product_Name\": \"LG\", \"Stars\": 4.8, \"Ratings\": 0, \"Reviews\": 0, \"Current_price\": 146620, \"Marked_price\": 209990, \"Operating_system\": \"WebOS\"}, {\"Product_Name\": \"LG\", \"Stars\": 4.6, \"Ratings\": 0, \"Reviews\": 0, \"Current_price\": 324990, \"Marked_price\": 324990, \"Operating_system\": \"WebOS\"}, {\"Product_Name\": \"Adsun\", \"Stars\": 3.8, \"Ratings\": 6742, \"Reviews\": 930, \"Current_price\": 16999, \"Marked_price\": 39999, \"Operating_system\": \"Android\"}, {\"Product_Name\": \"IMPEX\", \"Stars\": 0.0, \"Ratings\": 0, \"Reviews\": 0, \"Current_price\": 49679, \"Marked_price\": 49690, \"Operating_system\": \"Linux\"}, {\"Product_Name\": \"MarQ\", \"Stars\": 4.1, \"Ratings\": 6767, \"Reviews\": 896, \"Current_price\": 23999, \"Marked_price\": 28999, \"Operating_system\": \"Android\"}, {\"Product_Name\": \"SAMSUNG\", \"Stars\": 0.0, \"Ratings\": 0, \"Reviews\": 0, \"Current_price\": 56450, \"Marked_price\": 80000, \"Operating_system\": \"Tizen\"}, {\"Product_Name\": \"Croma\", \"Stars\": 4.2, \"Ratings\": 1773, \"Reviews\": 217, \"Current_price\": 7990, \"Marked_price\": 20000, \"Operating_system\": \"Android\"}, {\"Product_Name\": \"Croma\", \"Stars\": 5.0, \"Ratings\": 0, \"Reviews\": 0, \"Current_price\": 16990, \"Marked_price\": 25000, \"Operating_system\": \"FireTv OS 6\"}, {\"Product_Name\": \"LG\", \"Stars\": 0.0, \"Ratings\": 0, \"Reviews\": 0, \"Current_price\": 125390, \"Marked_price\": 209990, \"Operating_system\": \"WebOS\"}, {\"Product_Name\": \"LG\", \"Stars\": 4.7, \"Ratings\": 0, \"Reviews\": 0, \"Current_price\": 159999, \"Marked_price\": 214990, \"Operating_system\": \"WebOS\"}, {\"Product_Name\": \"Adsun\", \"Stars\": 3.8, \"Ratings\": 6742, \"Reviews\": 930, \"Current_price\": 8699, \"Marked_price\": 21999, \"Operating_system\": \"Android\"}, {\"Product_Name\": \"LG\", \"Stars\": 4.5, \"Ratings\": 0, \"Reviews\": 0, \"Current_price\": 64999, \"Marked_price\": 99990, \"Operating_system\": \"WebOS\"}, {\"Product_Name\": \"LG\", \"Stars\": 4.2, \"Ratings\": 0, \"Reviews\": 0, \"Current_price\": 19900, \"Marked_price\": 21900, \"Operating_system\": \"Linux\"}, {\"Product_Name\": \"LG\", \"Stars\": 0.0, \"Ratings\": 0, \"Reviews\": 0, \"Current_price\": 56440, \"Marked_price\": 84990, \"Operating_system\": \"WebOS\"}, {\"Product_Name\": \"Croma\", \"Stars\": 4.2, \"Ratings\": 0, \"Reviews\": 0, \"Current_price\": 11990, \"Marked_price\": 25000, \"Operating_system\": \"Android\"}, {\"Product_Name\": \"SAMSUNG\", \"Stars\": 4.5, \"Ratings\": 0, \"Reviews\": 0, \"Current_price\": 144990, \"Marked_price\": 211900, \"Operating_system\": \"Linux\"}, {\"Product_Name\": \"SAMSUNG\", \"Stars\": 0.0, \"Ratings\": 0, \"Reviews\": 0, \"Current_price\": 318700, \"Marked_price\": 399900, \"Operating_system\": \"Tizen\"}, {\"Product_Name\": \"Vu\", \"Stars\": 4.2, \"Ratings\": 0, \"Reviews\": 0, \"Current_price\": 116000, \"Marked_price\": 116000, \"Operating_system\": \"Android\"}, {\"Product_Name\": \"Adsun\", \"Stars\": 3.8, \"Ratings\": 6742, \"Reviews\": 930, \"Current_price\": 8999, \"Marked_price\": 29999, \"Operating_system\": \"Android\"}, {\"Product_Name\": \"ONIDA\", \"Stars\": 0.0, \"Ratings\": 0, \"Reviews\": 0, \"Current_price\": 28999, \"Marked_price\": 33490, \"Operating_system\": \"Linux\"}, {\"Product_Name\": \"SAMSUNG\", \"Stars\": 4.4, \"Ratings\": 0, \"Reviews\": 0, \"Current_price\": 129900, \"Marked_price\": 129900, \"Operating_system\": \"Tizen\"}, {\"Product_Name\": \"Adsun\", \"Stars\": 3.8, \"Ratings\": 6742, \"Reviews\": 930, \"Current_price\": 6999, \"Marked_price\": 18999, \"Operating_system\": \"Android\"}, {\"Product_Name\": \"Croma\", \"Stars\": 3.9, \"Ratings\": 0, \"Reviews\": 0, \"Current_price\": 18990, \"Marked_price\": 30000, \"Operating_system\": \"Android\"}, {\"Product_Name\": \"SAMSUNG\", \"Stars\": 4.7, \"Ratings\": 0, \"Reviews\": 0, \"Current_price\": 122299, \"Marked_price\": 209900, \"Operating_system\": \"Tizen\"}, {\"Product_Name\": \"SONY\", \"Stars\": 4.7, \"Ratings\": 0, \"Reviews\": 0, \"Current_price\": 63500, \"Marked_price\": 82900, \"Operating_system\": \"Google TV\"}, {\"Product_Name\": \"SAMSUNG\", \"Stars\": 4.0, \"Ratings\": 0, \"Reviews\": 0, \"Current_price\": 18740, \"Marked_price\": 21900, \"Operating_system\": \"Tizen\"}, {\"Product_Name\": \"Adsun\", \"Stars\": 3.8, \"Ratings\": 6742, \"Reviews\": 930, \"Current_price\": 6199, \"Marked_price\": 12999, \"Operating_system\": \"Linux\"}, {\"Product_Name\": \"Panasonic\", \"Stars\": 0.0, \"Ratings\": 0, \"Reviews\": 0, \"Current_price\": 87439, \"Marked_price\": 119990, \"Operating_system\": \"Android\"}, {\"Product_Name\": \"SAMSUNG\", \"Stars\": 2.3, \"Ratings\": 0, \"Reviews\": 0, \"Current_price\": 341900, \"Marked_price\": 399900, \"Operating_system\": \"Tizen\"}, {\"Product_Name\": \"LG\", \"Stars\": 0.0, \"Ratings\": 0, \"Reviews\": 0, \"Current_price\": 217000, \"Marked_price\": 254990, \"Operating_system\": \"WebOS\"}, {\"Product_Name\": \"Croma\", \"Stars\": 4.2, \"Ratings\": 1773, \"Reviews\": 217, \"Current_price\": 7990, \"Marked_price\": 20000, \"Operating_system\": \"Android\"}, {\"Product_Name\": \"kinger\", \"Stars\": 0.0, \"Ratings\": 0, \"Reviews\": 0, \"Current_price\": 12999, \"Marked_price\": 22490, \"Operating_system\": \"Android\"}, {\"Product_Name\": \"LG\", \"Stars\": 0.0, \"Ratings\": 0, \"Reviews\": 0, \"Current_price\": 269999, \"Marked_price\": 339990, \"Operating_system\": \"WebOS\"}, {\"Product_Name\": \"SAMSUNG\", \"Stars\": 0.0, \"Ratings\": 0, \"Reviews\": 0, \"Current_price\": 341990, \"Marked_price\": 441900, \"Operating_system\": \"Tizen\"}, {\"Product_Name\": \"Adsun\", \"Stars\": 3.8, \"Ratings\": 6730, \"Reviews\": 929, \"Current_price\": 8699, \"Marked_price\": 21999, \"Operating_system\": \"Android\"}, {\"Product_Name\": \"LG\", \"Stars\": 0.0, \"Ratings\": 0, \"Reviews\": 0, \"Current_price\": 174999, \"Marked_price\": 209990, \"Operating_system\": \"WebOS\"}, {\"Product_Name\": \"SAMSUNG\", \"Stars\": 5.0, \"Ratings\": 0, \"Reviews\": 0, \"Current_price\": 154900, \"Marked_price\": 154900, \"Operating_system\": \"Tizen\"}, {\"Product_Name\": \"BPL\", \"Stars\": 0.0, \"Ratings\": 0, \"Reviews\": 0, \"Current_price\": 34990, \"Marked_price\": 60000, \"Operating_system\": \"Linux\"}, {\"Product_Name\": \"Croma\", \"Stars\": 4.3, \"Ratings\": 0, \"Reviews\": 0, \"Current_price\": 11990, \"Marked_price\": 25000, \"Operating_system\": \"Android\"}, {\"Product_Name\": \"SAMSUNG\", \"Stars\": 4.4, \"Ratings\": 0, \"Reviews\": 0, \"Current_price\": 179900, \"Marked_price\": 179900, \"Operating_system\": \"Linux\"}, {\"Product_Name\": \"SAMSUNG\", \"Stars\": 3.4, \"Ratings\": 0, \"Reviews\": 0, \"Current_price\": 129900, \"Marked_price\": 129900, \"Operating_system\": \"Tizen\"}, {\"Product_Name\": \"SAMSUNG\", \"Stars\": 0.0, \"Ratings\": 0, \"Reviews\": 0, \"Current_price\": 440900, \"Marked_price\": 440900, \"Operating_system\": \"Tizen\"}, {\"Product_Name\": \"Adsun\", \"Stars\": 3.8, \"Ratings\": 6730, \"Reviews\": 929, \"Current_price\": 8999, \"Marked_price\": 29999, \"Operating_system\": \"Android\"}, {\"Product_Name\": \"MOTOROLA\", \"Stars\": 4.4, \"Ratings\": 2762, \"Reviews\": 508, \"Current_price\": 44999, \"Marked_price\": 49999, \"Operating_system\": \"Android\"}, {\"Product_Name\": \"Adsun\", \"Stars\": 0.0, \"Ratings\": 0, \"Reviews\": 0, \"Current_price\": 27999, \"Marked_price\": 43999, \"Operating_system\": \"Android\"}, {\"Product_Name\": \"TCL\", \"Stars\": 3.9, \"Ratings\": 0, \"Reviews\": 0, \"Current_price\": 47499, \"Marked_price\": 79990, \"Operating_system\": \"Linux\"}, {\"Product_Name\": \"Croma\", \"Stars\": 3.9, \"Ratings\": 0, \"Reviews\": 0, \"Current_price\": 18990, \"Marked_price\": 30000, \"Operating_system\": \"Android\"}, {\"Product_Name\": \"SAMSUNG\", \"Stars\": 0.0, \"Ratings\": 0, \"Reviews\": 0, \"Current_price\": 50990, \"Marked_price\": 64900, \"Operating_system\": \"Tizen\"}, {\"Product_Name\": \"LG\", \"Stars\": 4.4, \"Ratings\": 0, \"Reviews\": 0, \"Current_price\": 54990, \"Marked_price\": 54990, \"Operating_system\": \"WebOS\"}, {\"Product_Name\": \"Nokia\", \"Stars\": 4.3, \"Ratings\": 23243, \"Reviews\": 3975, \"Current_price\": 16999, \"Marked_price\": 19999, \"Operating_system\": \"Android\"}, {\"Product_Name\": \"Adsun\", \"Stars\": 3.8, \"Ratings\": 6730, \"Reviews\": 929, \"Current_price\": 16999, \"Marked_price\": 39999, \"Operating_system\": \"Android\"}, {\"Product_Name\": \"SONY\", \"Stars\": 0.0, \"Ratings\": 0, \"Reviews\": 0, \"Current_price\": 122000, \"Marked_price\": 199990, \"Operating_system\": \"Linux\"}, {\"Product_Name\": \"Sansui\", \"Stars\": 4.3, \"Ratings\": 0, \"Reviews\": 0, \"Current_price\": 119990, \"Marked_price\": 119990, \"Operating_system\": \"Linux\"}, {\"Product_Name\": \"Croma\", \"Stars\": 0.0, \"Ratings\": 0, \"Reviews\": 0, \"Current_price\": 32990, \"Marked_price\": 60000, \"Operating_system\": \"Android\"}, {\"Product_Name\": \"Vu\", \"Stars\": 4.1, \"Ratings\": 0, \"Reviews\": 0, \"Current_price\": 50851, \"Marked_price\": 51000, \"Operating_system\": \"Android\"}, {\"Product_Name\": \"SAMSUNG\", \"Stars\": 0.0, \"Ratings\": 0, \"Reviews\": 0, \"Current_price\": 149990, \"Marked_price\": 257900, \"Operating_system\": \"Tizen\"}, {\"Product_Name\": \"SAMSUNG\", \"Stars\": 0.0, \"Ratings\": 0, \"Reviews\": 0, \"Current_price\": 119990, \"Marked_price\": 192990, \"Operating_system\": \"Linux\"}, {\"Product_Name\": \"SAMSUNG\", \"Stars\": 3.9, \"Ratings\": 0, \"Reviews\": 0, \"Current_price\": 62900, \"Marked_price\": 62900, \"Operating_system\": \"Tizen\"}, {\"Product_Name\": \"LG\", \"Stars\": 4.7, \"Ratings\": 0, \"Reviews\": 0, \"Current_price\": 164999, \"Marked_price\": 264990, \"Operating_system\": \"WebOS\"}, {\"Product_Name\": \"LG\", \"Stars\": 4.6, \"Ratings\": 0, \"Reviews\": 0, \"Current_price\": 149999, \"Marked_price\": 229990, \"Operating_system\": \"WebOS\"}, {\"Product_Name\": \"LG\", \"Stars\": 4.6, \"Ratings\": 0, \"Reviews\": 0, \"Current_price\": 49990, \"Marked_price\": 74990, \"Operating_system\": \"WebOS\"}, {\"Product_Name\": \"SAMSUNG\", \"Stars\": 4.0, \"Ratings\": 0, \"Reviews\": 0, \"Current_price\": 26900, \"Marked_price\": 26900, \"Operating_system\": \"Linux\"}, {\"Product_Name\": \"SAMSUNG\", \"Stars\": 4.6, \"Ratings\": 0, \"Reviews\": 0, \"Current_price\": 85000, \"Marked_price\": 134900, \"Operating_system\": \"Tizen\"}, {\"Product_Name\": \"Adsun\", \"Stars\": 3.8, \"Ratings\": 6730, \"Reviews\": 929, \"Current_price\": 7999, \"Marked_price\": 16999, \"Operating_system\": \"Linux\"}, {\"Product_Name\": \"SAMSUNG\", \"Stars\": 5.0, \"Ratings\": 0, \"Reviews\": 0, \"Current_price\": 179999, \"Marked_price\": 374900, \"Operating_system\": \"Tizen\"}, {\"Product_Name\": \"Panasonic\", \"Stars\": 0.0, \"Ratings\": 0, \"Reviews\": 0, \"Current_price\": 55915, \"Marked_price\": 73990, \"Operating_system\": \"Android\"}, {\"Product_Name\": \"LG\", \"Stars\": 4.4, \"Ratings\": 0, \"Reviews\": 0, \"Current_price\": 89990, \"Marked_price\": 159990, \"Operating_system\": \"WebOS\"}, {\"Product_Name\": \"Compaq\", \"Stars\": 4.3, \"Ratings\": 0, \"Reviews\": 0, \"Current_price\": 99999, \"Marked_price\": 229990, \"Operating_system\": \"Android\"}, {\"Product_Name\": \"LG\", \"Stars\": 4.5, \"Ratings\": 0, \"Reviews\": 0, \"Current_price\": 80990, \"Marked_price\": 80990, \"Operating_system\": \"Linux\"}, {\"Product_Name\": \"TCL\", \"Stars\": 0.0, \"Ratings\": 0, \"Reviews\": 0, \"Current_price\": 58999, \"Marked_price\": 119900, \"Operating_system\": \"Android\"}, {\"Product_Name\": \"InnoQ\", \"Stars\": 4.1, \"Ratings\": 0, \"Reviews\": 0, \"Current_price\": 13790, \"Marked_price\": 35990, \"Operating_system\": \"Android\"}, {\"Product_Name\": \"SONY\", \"Stars\": 4.3, \"Ratings\": 0, \"Reviews\": 0, \"Current_price\": 27489, \"Marked_price\": 29900, \"Operating_system\": \"Linux\"}, {\"Product_Name\": \"Blaupunkt\", \"Stars\": 4.4, \"Ratings\": 6977, \"Reviews\": 1601, \"Current_price\": 19999, \"Marked_price\": 28999, \"Operating_system\": \"Android\"}, {\"Product_Name\": \"SAMSUNG\", \"Stars\": 4.3, \"Ratings\": 0, \"Reviews\": 0, \"Current_price\": 69500, \"Marked_price\": 69500, \"Operating_system\": \"Linux\"}, {\"Product_Name\": \"LG\", \"Stars\": 4.8, \"Ratings\": 0, \"Reviews\": 0, \"Current_price\": 77990, \"Marked_price\": 77990, \"Operating_system\": \"Linux\"}, {\"Product_Name\": \"SONY\", \"Stars\": 4.3, \"Ratings\": 0, \"Reviews\": 0, \"Current_price\": 27489, \"Marked_price\": 29900, \"Operating_system\": \"Linux\"}, {\"Product_Name\": \"SAMSUNG\", \"Stars\": 4.3, \"Ratings\": 0, \"Reviews\": 0, \"Current_price\": 69500, \"Marked_price\": 69500, \"Operating_system\": \"Linux\"}, {\"Product_Name\": \"SAMSUNG\", \"Stars\": 0.0, \"Ratings\": 0, \"Reviews\": 0, \"Current_price\": 109990, \"Marked_price\": 145900, \"Operating_system\": \"Tizen\"}, {\"Product_Name\": \"Croma\", \"Stars\": 4.2, \"Ratings\": 1773, \"Reviews\": 217, \"Current_price\": 7990, \"Marked_price\": 20000, \"Operating_system\": \"Android\"}, {\"Product_Name\": \"SAMSUNG\", \"Stars\": 3.6, \"Ratings\": 0, \"Reviews\": 0, \"Current_price\": 284900, \"Marked_price\": 284900, \"Operating_system\": \"Tizen\"}, {\"Product_Name\": \"LG\", \"Stars\": 4.4, \"Ratings\": 0, \"Reviews\": 0, \"Current_price\": 68990, \"Marked_price\": 68990, \"Operating_system\": \"WebOS\"}, {\"Product_Name\": \"PHILIPS\", \"Stars\": 4.2, \"Ratings\": 0, \"Reviews\": 0, \"Current_price\": 48999, \"Marked_price\": 89900, \"Operating_system\": \"Android\"}, {\"Product_Name\": \"Adsun\", \"Stars\": 3.8, \"Ratings\": 6742, \"Reviews\": 930, \"Current_price\": 8699, \"Marked_price\": 21999, \"Operating_system\": \"Android\"}, {\"Product_Name\": \"SAMSUNG\", \"Stars\": 4.2, \"Ratings\": 625, \"Reviews\": 131, \"Current_price\": 48900, \"Marked_price\": 48900, \"Operating_system\": \"Linux\"}, {\"Product_Name\": \"Dyanora\", \"Stars\": 3.8, \"Ratings\": 0, \"Reviews\": 0, \"Current_price\": 9499, \"Marked_price\": 18999, \"Operating_system\": \"Android\"}, {\"Product_Name\": \"kinger\", \"Stars\": 0.0, \"Ratings\": 0, \"Reviews\": 0, \"Current_price\": 12999, \"Marked_price\": 22490, \"Operating_system\": \"Android\"}, {\"Product_Name\": \"Croma\", \"Stars\": 4.2, \"Ratings\": 0, \"Reviews\": 0, \"Current_price\": 11990, \"Marked_price\": 25000, \"Operating_system\": \"Android\"}, {\"Product_Name\": \"LG\", \"Stars\": 4.3, \"Ratings\": 0, \"Reviews\": 0, \"Current_price\": 64990, \"Marked_price\": 102990, \"Operating_system\": \"WebOS\"}, {\"Product_Name\": \"LG\", \"Stars\": 4.2, \"Ratings\": 0, \"Reviews\": 0, \"Current_price\": 103990, \"Marked_price\": 103990, \"Operating_system\": \"WebOS\"}, {\"Product_Name\": \"SAMSUNG\", \"Stars\": 0.0, \"Ratings\": 0, \"Reviews\": 0, \"Current_price\": 229900, \"Marked_price\": 229900, \"Operating_system\": \"Tizen\"}, {\"Product_Name\": \"Adsun\", \"Stars\": 3.8, \"Ratings\": 6742, \"Reviews\": 930, \"Current_price\": 8999, \"Marked_price\": 29999, \"Operating_system\": \"Android\"}, {\"Product_Name\": \"Sansui\", \"Stars\": 0.0, \"Ratings\": 0, \"Reviews\": 0, \"Current_price\": 13290, \"Marked_price\": 17990, \"Operating_system\": \"Linux\"}, {\"Product_Name\": \"IMPEX\", \"Stars\": 0.0, \"Ratings\": 0, \"Reviews\": 0, \"Current_price\": 21549, \"Marked_price\": 33990, \"Operating_system\": \"Android\"}, {\"Product_Name\": \"SAMSUNG\", \"Stars\": 0.0, \"Ratings\": 0, \"Reviews\": 0, \"Current_price\": 104950, \"Marked_price\": 209900, \"Operating_system\": \"Tizen\"}, {\"Product_Name\": \"Croma\", \"Stars\": 3.9, \"Ratings\": 0, \"Reviews\": 0, \"Current_price\": 18990, \"Marked_price\": 30000, \"Operating_system\": \"Android\"}, {\"Product_Name\": \"LG\", \"Stars\": 0.0, \"Ratings\": 0, \"Reviews\": 0, \"Current_price\": 74990, \"Marked_price\": 149990, \"Operating_system\": \"WebOS\"}, {\"Product_Name\": \"kinger\", \"Stars\": 0.0, \"Ratings\": 0, \"Reviews\": 0, \"Current_price\": 12999, \"Marked_price\": 22490, \"Operating_system\": \"Android\"}, {\"Product_Name\": \"Thomson\", \"Stars\": 4.4, \"Ratings\": 4207, \"Reviews\": 868, \"Current_price\": 23999, \"Marked_price\": 33999, \"Operating_system\": \"Android\"}, {\"Product_Name\": \"Adsun\", \"Stars\": 3.8, \"Ratings\": 6742, \"Reviews\": 930, \"Current_price\": 16999, \"Marked_price\": 39999, \"Operating_system\": \"Android\"}, {\"Product_Name\": \"LG\", \"Stars\": 0.0, \"Ratings\": 0, \"Reviews\": 0, \"Current_price\": 189990, \"Marked_price\": 379990, \"Operating_system\": \"WebOS\"}, {\"Product_Name\": \"SAMSUNG\", \"Stars\": 3.7, \"Ratings\": 0, \"Reviews\": 0, \"Current_price\": 155900, \"Marked_price\": 155900, \"Operating_system\": \"Tizen\"}, {\"Product_Name\": \"SAMSUNG\", \"Stars\": 0.0, \"Ratings\": 0, \"Reviews\": 0, \"Current_price\": 295900, \"Marked_price\": 295900, \"Operating_system\": \"Linux\"}, {\"Product_Name\": \"Croma\", \"Stars\": 4.2, \"Ratings\": 1773, \"Reviews\": 217, \"Current_price\": 7990, \"Marked_price\": 20000, \"Operating_system\": \"Android\"}, {\"Product_Name\": \"SAMSUNG\", \"Stars\": 4.5, \"Ratings\": 0, \"Reviews\": 0, \"Current_price\": 104900, \"Marked_price\": 104900, \"Operating_system\": \"Tizen\"}, {\"Product_Name\": \"PHILIPS\", \"Stars\": 0.0, \"Ratings\": 0, \"Reviews\": 0, \"Current_price\": 48900, \"Marked_price\": 89990, \"Operating_system\": \"Android\"}, {\"Product_Name\": \"SAMSUNG\", \"Stars\": 4.0, \"Ratings\": 0, \"Reviews\": 0, \"Current_price\": 53999, \"Marked_price\": 70900, \"Operating_system\": \"Tizen\"}, {\"Product_Name\": \"Croma\", \"Stars\": 4.3, \"Ratings\": 0, \"Reviews\": 0, \"Current_price\": 11990, \"Marked_price\": 25000, \"Operating_system\": \"Android\"}, {\"Product_Name\": \"Panasonic\", \"Stars\": 4.4, \"Ratings\": 0, \"Reviews\": 0, \"Current_price\": 69999, \"Marked_price\": 139900, \"Operating_system\": \"Linux\"}, {\"Product_Name\": \"LG\", \"Stars\": 4.4, \"Ratings\": 0, \"Reviews\": 0, \"Current_price\": 79990, \"Marked_price\": 79990, \"Operating_system\": \"Linux\"}, {\"Product_Name\": \"CORNEA\", \"Stars\": 0.0, \"Ratings\": 0, \"Reviews\": 0, \"Current_price\": 228999, \"Marked_price\": 299999, \"Operating_system\": \"Android\"}, {\"Product_Name\": \"Adsun\", \"Stars\": 3.8, \"Ratings\": 6730, \"Reviews\": 929, \"Current_price\": 8999, \"Marked_price\": 29999, \"Operating_system\": \"Android\"}, {\"Product_Name\": \"LG\", \"Stars\": 0.0, \"Ratings\": 0, \"Reviews\": 0, \"Current_price\": 170400, \"Marked_price\": 299990, \"Operating_system\": \"WebOS\"}, {\"Product_Name\": \"Adsun\", \"Stars\": 3.8, \"Ratings\": 6730, \"Reviews\": 929, \"Current_price\": 8699, \"Marked_price\": 21999, \"Operating_system\": \"Android\"}, {\"Product_Name\": \"SAMSUNG\", \"Stars\": 4.5, \"Ratings\": 0, \"Reviews\": 0, \"Current_price\": 146900, \"Marked_price\": 146900, \"Operating_system\": \"Linux\"}, {\"Product_Name\": \"Croma\", \"Stars\": 3.9, \"Ratings\": 0, \"Reviews\": 0, \"Current_price\": 18990, \"Marked_price\": 30000, \"Operating_system\": \"Android\"}, {\"Product_Name\": \"iMEE\", \"Stars\": 0.0, \"Ratings\": 0, \"Reviews\": 0, \"Current_price\": 9899, \"Marked_price\": 18999, \"Operating_system\": \"Android\"}, {\"Product_Name\": \"kinger\", \"Stars\": 0.0, \"Ratings\": 0, \"Reviews\": 0, \"Current_price\": 12999, \"Marked_price\": 22490, \"Operating_system\": \"Android\"}, {\"Product_Name\": \"Adsun\", \"Stars\": 3.8, \"Ratings\": 6730, \"Reviews\": 929, \"Current_price\": 6199, \"Marked_price\": 12999, \"Operating_system\": \"Linux\"}, {\"Product_Name\": \"Panasonic\", \"Stars\": 0.0, \"Ratings\": 0, \"Reviews\": 0, \"Current_price\": 56990, \"Marked_price\": 69990, \"Operating_system\": \"Android\"}, {\"Product_Name\": \"Panasonic\", \"Stars\": 0.0, \"Ratings\": 0, \"Reviews\": 0, \"Current_price\": 62990, \"Marked_price\": 82990, \"Operating_system\": \"Linux\"}, {\"Product_Name\": \"iMEE\", \"Stars\": 0.0, \"Ratings\": 0, \"Reviews\": 0, \"Current_price\": 9899, \"Marked_price\": 18999, \"Operating_system\": \"Android\"}, {\"Product_Name\": \"Adsun\", \"Stars\": 3.8, \"Ratings\": 6730, \"Reviews\": 929, \"Current_price\": 16999, \"Marked_price\": 39999, \"Operating_system\": \"Android\"}, {\"Product_Name\": \"Panasonic\", \"Stars\": 3.7, \"Ratings\": 0, \"Reviews\": 0, \"Current_price\": 43805, \"Marked_price\": 56990, \"Operating_system\": \"Android\"}, {\"Product_Name\": \"HUIDI\", \"Stars\": 0.0, \"Ratings\": 0, \"Reviews\": 0, \"Current_price\": 7399, \"Marked_price\": 16599, \"Operating_system\": \"Linux\"}, {\"Product_Name\": \"LumX\", \"Stars\": 4.1, \"Ratings\": 0, \"Reviews\": 0, \"Current_price\": 7349, \"Marked_price\": 16890, \"Operating_system\": \"Linux\"}, {\"Product_Name\": \"Croma\", \"Stars\": 4.2, \"Ratings\": 1773, \"Reviews\": 217, \"Current_price\": 7990, \"Marked_price\": 20000, \"Operating_system\": \"Android\"}, {\"Product_Name\": \"CloudWalker\", \"Stars\": 4.3, \"Ratings\": 1706, \"Reviews\": 466, \"Current_price\": 17999, \"Marked_price\": 32990, \"Operating_system\": \"Linux\"}, {\"Product_Name\": \"iMEE\", \"Stars\": 0.0, \"Ratings\": 0, \"Reviews\": 0, \"Current_price\": 10399, \"Marked_price\": 19999, \"Operating_system\": \"Android\"}, {\"Product_Name\": \"DETEL\", \"Stars\": 4.1, \"Ratings\": 0, \"Reviews\": 0, \"Current_price\": 23499, \"Marked_price\": 44900, \"Operating_system\": \"Android\"}, {\"Product_Name\": \"Adsun\", \"Stars\": 3.8, \"Ratings\": 6730, \"Reviews\": 929, \"Current_price\": 8699, \"Marked_price\": 21999, \"Operating_system\": \"Android\"}, {\"Product_Name\": \"Nokia\", \"Stars\": 0.0, \"Ratings\": 0, \"Reviews\": 0, \"Current_price\": 49999, \"Marked_price\": 79999, \"Operating_system\": \"Android\"}, {\"Product_Name\": \"Nokia\", \"Stars\": 4.1, \"Ratings\": 5890, \"Reviews\": 1028, \"Current_price\": 29999, \"Marked_price\": 41999, \"Operating_system\": \"Android\"}, {\"Product_Name\": \"CloudWalker\", \"Stars\": 3.9, \"Ratings\": 2746, \"Reviews\": 952, \"Current_price\": 24999, \"Marked_price\": 37990, \"Operating_system\": \"Android\"}, {\"Product_Name\": \"Croma\", \"Stars\": 4.3, \"Ratings\": 0, \"Reviews\": 0, \"Current_price\": 11990, \"Marked_price\": 25000, \"Operating_system\": \"Android\"}, {\"Product_Name\": \"IMPEX\", \"Stars\": 0.0, \"Ratings\": 0, \"Reviews\": 0, \"Current_price\": 19999, \"Marked_price\": 28690, \"Operating_system\": \"Linux\"}, {\"Product_Name\": \"SAMSUNG\", \"Stars\": 0.0, \"Ratings\": 0, \"Reviews\": 0, \"Current_price\": 222999, \"Marked_price\": 264900, \"Operating_system\": \"Tizen\"}, {\"Product_Name\": \"kinger\", \"Stars\": 0.0, \"Ratings\": 0, \"Reviews\": 0, \"Current_price\": 12999, \"Marked_price\": 22490, \"Operating_system\": \"Android\"}, {\"Product_Name\": \"Adsun\", \"Stars\": 3.8, \"Ratings\": 6730, \"Reviews\": 929, \"Current_price\": 8999, \"Marked_price\": 29999, \"Operating_system\": \"Android\"}, {\"Product_Name\": \"Panasonic\", \"Stars\": 4.4, \"Ratings\": 0, \"Reviews\": 0, \"Current_price\": 41999, \"Marked_price\": 84900, \"Operating_system\": \"Linux\"}, {\"Product_Name\": \"kinger\", \"Stars\": 0.0, \"Ratings\": 0, \"Reviews\": 0, \"Current_price\": 12999, \"Marked_price\": 22490, \"Operating_system\": \"Android\"}, {\"Product_Name\": \"kinger\", \"Stars\": 0.0, \"Ratings\": 0, \"Reviews\": 0, \"Current_price\": 12999, \"Marked_price\": 22490, \"Operating_system\": \"Android\"}, {\"Product_Name\": \"Croma\", \"Stars\": 3.9, \"Ratings\": 0, \"Reviews\": 0, \"Current_price\": 18990, \"Marked_price\": 30000, \"Operating_system\": \"Android\"}, {\"Product_Name\": \"LG\", \"Stars\": 0.0, \"Ratings\": 0, \"Reviews\": 0, \"Current_price\": 317480, \"Marked_price\": 399990, \"Operating_system\": \"WebOS\"}, {\"Product_Name\": \"KODAK\", \"Stars\": 0.0, \"Ratings\": 0, \"Reviews\": 0, \"Current_price\": 29999, \"Marked_price\": 33999, \"Operating_system\": \"Android\"}, {\"Product_Name\": \"MOTOROLA\", \"Stars\": 4.4, \"Ratings\": 9686, \"Reviews\": 1532, \"Current_price\": 48999, \"Marked_price\": 59999, \"Operating_system\": \"Android\"}, {\"Product_Name\": \"Adsun\", \"Stars\": 3.8, \"Ratings\": 6730, \"Reviews\": 929, \"Current_price\": 6199, \"Marked_price\": 12999, \"Operating_system\": \"Linux\"}, {\"Product_Name\": \"HUIDI\", \"Stars\": 4.0, \"Ratings\": 4864, \"Reviews\": 558, \"Current_price\": 5999, \"Marked_price\": 10999, \"Operating_system\": \"Linux\"}, {\"Product_Name\": \"iMEE\", \"Stars\": 0.0, \"Ratings\": 0, \"Reviews\": 0, \"Current_price\": 14499, \"Marked_price\": 19999, \"Operating_system\": \"Android\"}, {\"Product_Name\": \"JVC\", \"Stars\": 4.1, \"Ratings\": 799, \"Reviews\": 210, \"Current_price\": 37999, \"Marked_price\": 59999, \"Operating_system\": \"Android\"}, {\"Product_Name\": \"Croma\", \"Stars\": 4.2, \"Ratings\": 1773, \"Reviews\": 217, \"Current_price\": 7990, \"Marked_price\": 20000, \"Operating_system\": \"Android\"}, {\"Product_Name\": \"JVC\", \"Stars\": 0.0, \"Ratings\": 0, \"Reviews\": 0, \"Current_price\": 24990, \"Marked_price\": 27990, \"Operating_system\": \"Android\"}, {\"Product_Name\": \"MOTOROLA\", \"Stars\": 4.4, \"Ratings\": 9687, \"Reviews\": 1532, \"Current_price\": 48999, \"Marked_price\": 59999, \"Operating_system\": \"Android\"}, {\"Product_Name\": \"LG\", \"Stars\": 4.1, \"Ratings\": 0, \"Reviews\": 0, \"Current_price\": 77900, \"Marked_price\": 77900, \"Operating_system\": \"Linux\"}, {\"Product_Name\": \"Adsun\", \"Stars\": 3.8, \"Ratings\": 6742, \"Reviews\": 930, \"Current_price\": 8699, \"Marked_price\": 21999, \"Operating_system\": \"Android\"}, {\"Product_Name\": \"MOTOROLA\", \"Stars\": 4.3, \"Ratings\": 22486, \"Reviews\": 3538, \"Current_price\": 27999, \"Marked_price\": 35500, \"Operating_system\": \"Android\"}, {\"Product_Name\": \"LG\", \"Stars\": 5.0, \"Ratings\": 0, \"Reviews\": 0, \"Current_price\": 149999, \"Marked_price\": 219990, \"Operating_system\": \"WebOS\"}, {\"Product_Name\": \"LG\", \"Stars\": 0.0, \"Ratings\": 0, \"Reviews\": 0, \"Current_price\": 124900, \"Marked_price\": 234990, \"Operating_system\": \"WebOS\"}, {\"Product_Name\": \"Croma\", \"Stars\": 4.2, \"Ratings\": 0, \"Reviews\": 0, \"Current_price\": 11990, \"Marked_price\": 25000, \"Operating_system\": \"Android\"}, {\"Product_Name\": \"kinger\", \"Stars\": 0.0, \"Ratings\": 0, \"Reviews\": 0, \"Current_price\": 12999, \"Marked_price\": 22490, \"Operating_system\": \"Android\"}, {\"Product_Name\": \"Panasonic\", \"Stars\": 4.3, \"Ratings\": 8389, \"Reviews\": 1179, \"Current_price\": 24990, \"Marked_price\": 24990, \"Operating_system\": \"Android\"}, {\"Product_Name\": \"TCL\", \"Stars\": 4.3, \"Ratings\": 0, \"Reviews\": 0, \"Current_price\": 69990, \"Marked_price\": 159990, \"Operating_system\": \"Android\"}, {\"Product_Name\": \"Adsun\", \"Stars\": 3.8, \"Ratings\": 6742, \"Reviews\": 930, \"Current_price\": 8999, \"Marked_price\": 29999, \"Operating_system\": \"Android\"}, {\"Product_Name\": \"SAMSUNG\", \"Stars\": 4.5, \"Ratings\": 0, \"Reviews\": 0, \"Current_price\": 89999, \"Marked_price\": 149900, \"Operating_system\": \"Tizen\"}, {\"Product_Name\": \"kinger\", \"Stars\": 0.0, \"Ratings\": 0, \"Reviews\": 0, \"Current_price\": 12999, \"Marked_price\": 22490, \"Operating_system\": \"Android\"}, {\"Product_Name\": \"Croma\", \"Stars\": 4.0, \"Ratings\": 0, \"Reviews\": 0, \"Current_price\": 13990, \"Marked_price\": 25000, \"Operating_system\": \"FireTv OS 6\"}, {\"Product_Name\": \"Adsun\", \"Stars\": 3.8, \"Ratings\": 6742, \"Reviews\": 930, \"Current_price\": 6199, \"Marked_price\": 12999, \"Operating_system\": \"Linux\"}, {\"Product_Name\": \"Yuwa\", \"Stars\": 3.7, \"Ratings\": 0, \"Reviews\": 0, \"Current_price\": 8449, \"Marked_price\": 21990, \"Operating_system\": \"Android\"}, {\"Product_Name\": \"SAMSUNG\", \"Stars\": 4.4, \"Ratings\": 0, \"Reviews\": 0, \"Current_price\": 50900, \"Marked_price\": 50900, \"Operating_system\": \"Linux\"}, {\"Product_Name\": \"SAMSUNG\", \"Stars\": 4.3, \"Ratings\": 0, \"Reviews\": 0, \"Current_price\": 121999, \"Marked_price\": 143900, \"Operating_system\": \"Tizen\"}, {\"Product_Name\": \"Adsun\", \"Stars\": 3.8, \"Ratings\": 6742, \"Reviews\": 930, \"Current_price\": 16999, \"Marked_price\": 39999, \"Operating_system\": \"Android\"}, {\"Product_Name\": \"Yuwa\", \"Stars\": 3.8, \"Ratings\": 0, \"Reviews\": 0, \"Current_price\": 12499, \"Marked_price\": 22500, \"Operating_system\": \"Android\"}, {\"Product_Name\": \"JVC\", \"Stars\": 0.0, \"Ratings\": 0, \"Reviews\": 0, \"Current_price\": 13990, \"Marked_price\": 15990, \"Operating_system\": \"Android\"}, {\"Product_Name\": \"Adsun\", \"Stars\": 3.8, \"Ratings\": 6742, \"Reviews\": 930, \"Current_price\": 8999, \"Marked_price\": 29999, \"Operating_system\": \"Android\"}, {\"Product_Name\": \"Croma\", \"Stars\": 4.2, \"Ratings\": 1773, \"Reviews\": 217, \"Current_price\": 7990, \"Marked_price\": 20000, \"Operating_system\": \"Android\"}, {\"Product_Name\": \"kinger\", \"Stars\": 0.0, \"Ratings\": 0, \"Reviews\": 0, \"Current_price\": 12999, \"Marked_price\": 22490, \"Operating_system\": \"Android\"}, {\"Product_Name\": \"Onix\", \"Stars\": 4.8, \"Ratings\": 0, \"Reviews\": 0, \"Current_price\": 32222, \"Marked_price\": 38790, \"Operating_system\": \"Linux\"}, {\"Product_Name\": \"CORNEA\", \"Stars\": 0.0, \"Ratings\": 0, \"Reviews\": 0, \"Current_price\": 36999, \"Marked_price\": 49999, \"Operating_system\": \"Android\"}, {\"Product_Name\": \"Adsun\", \"Stars\": 3.8, \"Ratings\": 6742, \"Reviews\": 930, \"Current_price\": 8699, \"Marked_price\": 21999, \"Operating_system\": \"Android\"}, {\"Product_Name\": \"KODAK\", \"Stars\": 4.4, \"Ratings\": 31763, \"Reviews\": 7301, \"Current_price\": 21490, \"Marked_price\": 24999, \"Operating_system\": \"Android\"}, {\"Product_Name\": \"Compaq\", \"Stars\": 3.9, \"Ratings\": 0, \"Reviews\": 0, \"Current_price\": 26999, \"Marked_price\": 45999, \"Operating_system\": \"Android\"}, {\"Product_Name\": \"kinger\", \"Stars\": 0.0, \"Ratings\": 0, \"Reviews\": 0, \"Current_price\": 12999, \"Marked_price\": 22490, \"Operating_system\": \"Android\"}, {\"Product_Name\": \"Croma\", \"Stars\": 4.2, \"Ratings\": 0, \"Reviews\": 0, \"Current_price\": 11990, \"Marked_price\": 25000, \"Operating_system\": \"Android\"}, {\"Product_Name\": \"kinger\", \"Stars\": 0.0, \"Ratings\": 0, \"Reviews\": 0, \"Current_price\": 12999, \"Marked_price\": 22490, \"Operating_system\": \"Android\"}, {\"Product_Name\": \"SAMSUNG\", \"Stars\": 4.8, \"Ratings\": 0, \"Reviews\": 0, \"Current_price\": 145900, \"Marked_price\": 145900, \"Operating_system\": \"Tizen\"}, {\"Product_Name\": \"SAMSUNG\", \"Stars\": 4.6, \"Ratings\": 0, \"Reviews\": 0, \"Current_price\": 93999, \"Marked_price\": 101900, \"Operating_system\": \"Tizen\"}, {\"Product_Name\": \"Croma\", \"Stars\": 3.9, \"Ratings\": 0, \"Reviews\": 0, \"Current_price\": 18990, \"Marked_price\": 30000, \"Operating_system\": \"Android\"}, {\"Product_Name\": \"MOTOROLA\", \"Stars\": 4.3, \"Ratings\": 13623, \"Reviews\": 2223, \"Current_price\": 57999, \"Marked_price\": 115399, \"Operating_system\": \"Android\"}, {\"Product_Name\": \"Oxygen\", \"Stars\": 0.0, \"Ratings\": 0, \"Reviews\": 0, \"Current_price\": 69990, \"Marked_price\": 124990, \"Operating_system\": \"Android\"}, {\"Product_Name\": \"LG\", \"Stars\": 4.3, \"Ratings\": 0, \"Reviews\": 0, \"Current_price\": 74999, \"Marked_price\": 90990, \"Operating_system\": \"WebOS\"}, {\"Product_Name\": \"Adsun\", \"Stars\": 3.8, \"Ratings\": 6742, \"Reviews\": 930, \"Current_price\": 6199, \"Marked_price\": 12999, \"Operating_system\": \"Linux\"}, {\"Product_Name\": \"Candes\", \"Stars\": 4.0, \"Ratings\": 0, \"Reviews\": 0, \"Current_price\": 9599, \"Marked_price\": 24490, \"Operating_system\": \"Android\"}, {\"Product_Name\": \"Adsun\", \"Stars\": 3.8, \"Ratings\": 6742, \"Reviews\": 930, \"Current_price\": 16999, \"Marked_price\": 39999, \"Operating_system\": \"Android\"}, {\"Product_Name\": \"LG\", \"Stars\": 4.0, \"Ratings\": 0, \"Reviews\": 0, \"Current_price\": 35999, \"Marked_price\": 47990, \"Operating_system\": \"Linux\"}, {\"Product_Name\": \"Adsun\", \"Stars\": 3.8, \"Ratings\": 6742, \"Reviews\": 930, \"Current_price\": 7999, \"Marked_price\": 16999, \"Operating_system\": \"Linux\"}, {\"Product_Name\": \"kinger\", \"Stars\": 0.0, \"Ratings\": 0, \"Reviews\": 0, \"Current_price\": 12999, \"Marked_price\": 22490, \"Operating_system\": \"Android\"}, {\"Product_Name\": \"HUIDI\", \"Stars\": 4.0, \"Ratings\": 4864, \"Reviews\": 558, \"Current_price\": 8999, \"Marked_price\": 18599, \"Operating_system\": \"Android\"}, {\"Product_Name\": \"Mi\", \"Stars\": 4.4, \"Ratings\": 57944, \"Reviews\": 6362, \"Current_price\": 28999, \"Marked_price\": 28999, \"Operating_system\": \"Android\"}, {\"Product_Name\": \"Croma\", \"Stars\": 4.2, \"Ratings\": 1773, \"Reviews\": 217, \"Current_price\": 7990, \"Marked_price\": 20000, \"Operating_system\": \"Android\"}, {\"Product_Name\": \"TCL\", \"Stars\": 4.0, \"Ratings\": 0, \"Reviews\": 0, \"Current_price\": 79999, \"Marked_price\": 149900, \"Operating_system\": \"Linux\"}, {\"Product_Name\": \"SAMSUNG\", \"Stars\": 2.8, \"Ratings\": 0, \"Reviews\": 0, \"Current_price\": 145900, \"Marked_price\": 145900, \"Operating_system\": \"Tizen\"}, {\"Product_Name\": \"SAMSUNG\", \"Stars\": 0.0, \"Ratings\": 0, \"Reviews\": 0, \"Current_price\": 149900, \"Marked_price\": 149900, \"Operating_system\": \"Tizen\"}, {\"Product_Name\": \"Adsun\", \"Stars\": 3.8, \"Ratings\": 6742, \"Reviews\": 930, \"Current_price\": 8699, \"Marked_price\": 21999, \"Operating_system\": \"Android\"}, {\"Product_Name\": \"iMEE\", \"Stars\": 0.0, \"Ratings\": 0, \"Reviews\": 0, \"Current_price\": 10399, \"Marked_price\": 19999, \"Operating_system\": \"Android\"}, {\"Product_Name\": \"Sansui\", \"Stars\": 4.2, \"Ratings\": 0, \"Reviews\": 0, \"Current_price\": 12499, \"Marked_price\": 14990, \"Operating_system\": \"Linux\"}, {\"Product_Name\": \"LG\", \"Stars\": 4.3, \"Ratings\": 0, \"Reviews\": 0, \"Current_price\": 78499, \"Marked_price\": 110990, \"Operating_system\": \"WebOS\"}, {\"Product_Name\": \"Croma\", \"Stars\": 4.2, \"Ratings\": 0, \"Reviews\": 0, \"Current_price\": 11990, \"Marked_price\": 25000, \"Operating_system\": \"Android\"}, {\"Product_Name\": \"kinger\", \"Stars\": 0.0, \"Ratings\": 0, \"Reviews\": 0, \"Current_price\": 12999, \"Marked_price\": 22490, \"Operating_system\": \"Android\"}, {\"Product_Name\": \"LG\", \"Stars\": 4.8, \"Ratings\": 0, \"Reviews\": 0, \"Current_price\": 104990, \"Marked_price\": 104990, \"Operating_system\": \"WebOS\"}, {\"Product_Name\": \"TCL\", \"Stars\": 4.5, \"Ratings\": 0, \"Reviews\": 0, \"Current_price\": 89999, \"Marked_price\": 179990, \"Operating_system\": \"Linux\"}, {\"Product_Name\": \"Adsun\", \"Stars\": 3.8, \"Ratings\": 6742, \"Reviews\": 930, \"Current_price\": 8999, \"Marked_price\": 29999, \"Operating_system\": \"Android\"}, {\"Product_Name\": \"Haier\", \"Stars\": 0.0, \"Ratings\": 0, \"Reviews\": 0, \"Current_price\": 19499, \"Marked_price\": 31590, \"Operating_system\": \"Linux\"}, {\"Product_Name\": \"Haier\", \"Stars\": 4.1, \"Ratings\": 0, \"Reviews\": 0, \"Current_price\": 34999, \"Marked_price\": 43990, \"Operating_system\": \"Android\"}, {\"Product_Name\": \"Hyundai\", \"Stars\": 4.1, \"Ratings\": 0, \"Reviews\": 0, \"Current_price\": 30990, \"Marked_price\": 71990, \"Operating_system\": \"Android\"}, {\"Product_Name\": \"Adsun\", \"Stars\": 3.8, \"Ratings\": 6742, \"Reviews\": 930, \"Current_price\": 6199, \"Marked_price\": 12999, \"Operating_system\": \"Linux\"}, {\"Product_Name\": \"Adsun\", \"Stars\": 3.8, \"Ratings\": 6742, \"Reviews\": 930, \"Current_price\": 12999, \"Marked_price\": 22999, \"Operating_system\": \"Android\"}, {\"Product_Name\": \"kinger\", \"Stars\": 0.0, \"Ratings\": 0, \"Reviews\": 0, \"Current_price\": 12999, \"Marked_price\": 22490, \"Operating_system\": \"Android\"}, {\"Product_Name\": \"LG\", \"Stars\": 4.5, \"Ratings\": 0, \"Reviews\": 0, \"Current_price\": 67990, \"Marked_price\": 67990, \"Operating_system\": \"WebOS\"}, {\"Product_Name\": \"Adsun\", \"Stars\": 3.8, \"Ratings\": 6742, \"Reviews\": 930, \"Current_price\": 7999, \"Marked_price\": 16999, \"Operating_system\": \"Linux\"}, {\"Product_Name\": \"Nokia\", \"Stars\": 0.0, \"Ratings\": 0, \"Reviews\": 0, \"Current_price\": 41999, \"Marked_price\": 59999, \"Operating_system\": \"Android\"}, {\"Product_Name\": \"kinger\", \"Stars\": 0.0, \"Ratings\": 0, \"Reviews\": 0, \"Current_price\": 12999, \"Marked_price\": 22490, \"Operating_system\": \"Android\"}, {\"Product_Name\": \"iMEE\", \"Stars\": 0.0, \"Ratings\": 0, \"Reviews\": 0, \"Current_price\": 17399, \"Marked_price\": 29999, \"Operating_system\": \"Android\"}, {\"Product_Name\": \"Croma\", \"Stars\": 4.2, \"Ratings\": 1773, \"Reviews\": 217, \"Current_price\": 7990, \"Marked_price\": 20000, \"Operating_system\": \"Android\"}, {\"Product_Name\": \"kinger\", \"Stars\": 0.0, \"Ratings\": 0, \"Reviews\": 0, \"Current_price\": 12999, \"Marked_price\": 22490, \"Operating_system\": \"Android\"}, {\"Product_Name\": \"LG\", \"Stars\": 4.4, \"Ratings\": 0, \"Reviews\": 0, \"Current_price\": 124999, \"Marked_price\": 177990, \"Operating_system\": \"WebOS\"}, {\"Product_Name\": \"PHILIPS\", \"Stars\": 0.0, \"Ratings\": 0, \"Reviews\": 0, \"Current_price\": 41999, \"Marked_price\": 119990, \"Operating_system\": \"Linux\"}, {\"Product_Name\": \"Adsun\", \"Stars\": 3.8, \"Ratings\": 6730, \"Reviews\": 929, \"Current_price\": 8699, \"Marked_price\": 21999, \"Operating_system\": \"Android\"}, {\"Product_Name\": \"Dyanora\", \"Stars\": 4.4, \"Ratings\": 0, \"Reviews\": 0, \"Current_price\": 27999, \"Marked_price\": 40999, \"Operating_system\": \"Android\"}, {\"Product_Name\": \"kinger\", \"Stars\": 0.0, \"Ratings\": 0, \"Reviews\": 0, \"Current_price\": 12999, \"Marked_price\": 22490, \"Operating_system\": \"Android\"}, {\"Product_Name\": \"Candes\", \"Stars\": 4.0, \"Ratings\": 0, \"Reviews\": 0, \"Current_price\": 14599, \"Marked_price\": 29990, \"Operating_system\": \"Android\"}, {\"Product_Name\": \"Croma\", \"Stars\": 4.3, \"Ratings\": 0, \"Reviews\": 0, \"Current_price\": 11990, \"Marked_price\": 25000, \"Operating_system\": \"Android\"}, {\"Product_Name\": \"iMEE\", \"Stars\": 0.0, \"Ratings\": 0, \"Reviews\": 0, \"Current_price\": 9899, \"Marked_price\": 18999, \"Operating_system\": \"Android\"}, {\"Product_Name\": \"TCL\", \"Stars\": 4.3, \"Ratings\": 0, \"Reviews\": 0, \"Current_price\": 82990, \"Marked_price\": 159990, \"Operating_system\": \"Android\"}, {\"Product_Name\": \"Onix\", \"Stars\": 3.7, \"Ratings\": 0, \"Reviews\": 0, \"Current_price\": 26339, \"Marked_price\": 26349, \"Operating_system\": \"Linux\"}, {\"Product_Name\": \"Adsun\", \"Stars\": 3.8, \"Ratings\": 6730, \"Reviews\": 929, \"Current_price\": 8999, \"Marked_price\": 29999, \"Operating_system\": \"Android\"}, {\"Product_Name\": \"Candes\", \"Stars\": 4.0, \"Ratings\": 0, \"Reviews\": 0, \"Current_price\": 8499, \"Marked_price\": 17990, \"Operating_system\": \"Android\"}, {\"Product_Name\": \"Haier\", \"Stars\": 4.1, \"Ratings\": 0, \"Reviews\": 0, \"Current_price\": 15490, \"Marked_price\": 20990, \"Operating_system\": \"Android\"}, {\"Product_Name\": \"JVC\", \"Stars\": 4.1, \"Ratings\": 789, \"Reviews\": 165, \"Current_price\": 16990, \"Marked_price\": 21000, \"Operating_system\": \"Android\"}, {\"Product_Name\": \"Croma\", \"Stars\": 3.9, \"Ratings\": 0, \"Reviews\": 0, \"Current_price\": 18990, \"Marked_price\": 30000, \"Operating_system\": \"Android\"}, {\"Product_Name\": \"Thomson\", \"Stars\": 4.1, \"Ratings\": 7953, \"Reviews\": 2017, \"Current_price\": 29999, \"Marked_price\": 49999, \"Operating_system\": \"Android\"}, {\"Product_Name\": \"CORNEA\", \"Stars\": 0.0, \"Ratings\": 0, \"Reviews\": 0, \"Current_price\": 54999, \"Marked_price\": 74999, \"Operating_system\": \"Android\"}, {\"Product_Name\": \"Vu\", \"Stars\": 4.2, \"Ratings\": 0, \"Reviews\": 0, \"Current_price\": 259999, \"Marked_price\": 350000, \"Operating_system\": \"Android\"}, {\"Product_Name\": \"Adsun\", \"Stars\": 3.8, \"Ratings\": 6730, \"Reviews\": 929, \"Current_price\": 16999, \"Marked_price\": 39999, \"Operating_system\": \"Android\"}, {\"Product_Name\": \"Thomson\", \"Stars\": 4.1, \"Ratings\": 8625, \"Reviews\": 2685, \"Current_price\": 16999, \"Marked_price\": 16999, \"Operating_system\": \"Android\"}, {\"Product_Name\": \"Nokia\", \"Stars\": 4.1, \"Ratings\": 5891, \"Reviews\": 1031, \"Current_price\": 28999, \"Marked_price\": 39999, \"Operating_system\": \"Android\"}, {\"Product_Name\": \"iMEE\", \"Stars\": 0.0, \"Ratings\": 0, \"Reviews\": 0, \"Current_price\": 19399, \"Marked_price\": 29999, \"Operating_system\": \"Android\"}, {\"Product_Name\": \"Croma\", \"Stars\": 4.2, \"Ratings\": 1773, \"Reviews\": 217, \"Current_price\": 7990, \"Marked_price\": 20000, \"Operating_system\": \"Android\"}, {\"Product_Name\": \"LG\", \"Stars\": 3.7, \"Ratings\": 0, \"Reviews\": 0, \"Current_price\": 164990, \"Marked_price\": 299990, \"Operating_system\": \"WebOS\"}, {\"Product_Name\": \"LG\", \"Stars\": 4.2, \"Ratings\": 0, \"Reviews\": 0, \"Current_price\": 39990, \"Marked_price\": 59490, \"Operating_system\": \"Linux\"}, {\"Product_Name\": \"Haier\", \"Stars\": 4.1, \"Ratings\": 0, \"Reviews\": 0, \"Current_price\": 17990, \"Marked_price\": 22990, \"Operating_system\": \"Android\"}, {\"Product_Name\": \"Adsun\", \"Stars\": 3.8, \"Ratings\": 6742, \"Reviews\": 930, \"Current_price\": 8699, \"Marked_price\": 21999, \"Operating_system\": \"Android\"}, {\"Product_Name\": \"SAMSUNG\", \"Stars\": 4.1, \"Ratings\": 0, \"Reviews\": 0, \"Current_price\": 48400, \"Marked_price\": 62900, \"Operating_system\": \"Tizen\"}, {\"Product_Name\": \"Yuwa\", \"Stars\": 0.0, \"Ratings\": 0, \"Reviews\": 0, \"Current_price\": 7899, \"Marked_price\": 13799, \"Operating_system\": \"Linux\"}, {\"Product_Name\": \"kinger\", \"Stars\": 0.0, \"Ratings\": 0, \"Reviews\": 0, \"Current_price\": 12999, \"Marked_price\": 22490, \"Operating_system\": \"Android\"}, {\"Product_Name\": \"Croma\", \"Stars\": 4.2, \"Ratings\": 0, \"Reviews\": 0, \"Current_price\": 11990, \"Marked_price\": 25000, \"Operating_system\": \"Android\"}, {\"Product_Name\": \"JVC\", \"Stars\": 0.0, \"Ratings\": 0, \"Reviews\": 0, \"Current_price\": 15990, \"Marked_price\": 18890, \"Operating_system\": \"Android\"}, {\"Product_Name\": \"Bush\", \"Stars\": 0.0, \"Ratings\": 0, \"Reviews\": 0, \"Current_price\": 7999, \"Marked_price\": 11999, \"Operating_system\": \"Linux\"}, {\"Product_Name\": \"Haier\", \"Stars\": 4.3, \"Ratings\": 0, \"Reviews\": 0, \"Current_price\": 18999, \"Marked_price\": 31999, \"Operating_system\": \"Android\"}, {\"Product_Name\": \"Adsun\", \"Stars\": 3.8, \"Ratings\": 6742, \"Reviews\": 930, \"Current_price\": 8999, \"Marked_price\": 29999, \"Operating_system\": \"Android\"}, {\"Product_Name\": \"Bush\", \"Stars\": 0.0, \"Ratings\": 0, \"Reviews\": 0, \"Current_price\": 14999, \"Marked_price\": 16999, \"Operating_system\": \"Android\"}, {\"Product_Name\": \"LG\", \"Stars\": 4.4, \"Ratings\": 0, \"Reviews\": 0, \"Current_price\": 199999, \"Marked_price\": 349990, \"Operating_system\": \"WebOS\"}, {\"Product_Name\": \"Croma\", \"Stars\": 0.0, \"Ratings\": 0, \"Reviews\": 0, \"Current_price\": 36990, \"Marked_price\": 75000, \"Operating_system\": \"WebOS\"}, {\"Product_Name\": \"Adsun\", \"Stars\": 3.8, \"Ratings\": 6742, \"Reviews\": 930, \"Current_price\": 6199, \"Marked_price\": 12999, \"Operating_system\": \"Linux\"}, {\"Product_Name\": \"LG\", \"Stars\": 4.4, \"Ratings\": 12910, \"Reviews\": 1465, \"Current_price\": 83999, \"Marked_price\": 139990, \"Operating_system\": \"WebOS\"}, {\"Product_Name\": \"LG\", \"Stars\": 2.5, \"Ratings\": 0, \"Reviews\": 0, \"Current_price\": 189999, \"Marked_price\": 284990, \"Operating_system\": \"WebOS\"}, {\"Product_Name\": \"SAMSUNG\", \"Stars\": 0.0, \"Ratings\": 0, \"Reviews\": 0, \"Current_price\": 124999, \"Marked_price\": 184900, \"Operating_system\": \"Tizen\"}, {\"Product_Name\": \"Croma\", \"Stars\": 3.9, \"Ratings\": 0, \"Reviews\": 0, \"Current_price\": 18990, \"Marked_price\": 30000, \"Operating_system\": \"Android\"}, {\"Product_Name\": \"Mi\", \"Stars\": 4.4, \"Ratings\": 19383, \"Reviews\": 1738, \"Current_price\": 41250, \"Marked_price\": 42350, \"Operating_system\": \"Android\"}, {\"Product_Name\": \"Haier\", \"Stars\": 4.0, \"Ratings\": 0, \"Reviews\": 0, \"Current_price\": 43999, \"Marked_price\": 54990, \"Operating_system\": \"Android\"}, {\"Product_Name\": \"Haier\", \"Stars\": 0.0, \"Ratings\": 0, \"Reviews\": 0, \"Current_price\": 64646, \"Marked_price\": 106990, \"Operating_system\": \"Android\"}, {\"Product_Name\": \"Croma\", \"Stars\": 4.2, \"Ratings\": 1773, \"Reviews\": 217, \"Current_price\": 7990, \"Marked_price\": 20000, \"Operating_system\": \"Android\"}, {\"Product_Name\": \"Panasonic\", \"Stars\": 4.0, \"Ratings\": 0, \"Reviews\": 0, \"Current_price\": 37945, \"Marked_price\": 50990, \"Operating_system\": \"Android\"}, {\"Product_Name\": \"SAMSUNG\", \"Stars\": 3.9, \"Ratings\": 0, \"Reviews\": 0, \"Current_price\": 66990, \"Marked_price\": 86900, \"Operating_system\": \"Tizen\"}, {\"Product_Name\": \"LG\", \"Stars\": 3.7, \"Ratings\": 0, \"Reviews\": 0, \"Current_price\": 35670, \"Marked_price\": 44990, \"Operating_system\": \"WebOS\"}, {\"Product_Name\": \"Adsun\", \"Stars\": 3.8, \"Ratings\": 6730, \"Reviews\": 929, \"Current_price\": 8699, \"Marked_price\": 21999, \"Operating_system\": \"Android\"}, {\"Product_Name\": \"Oxygen\", \"Stars\": 0.0, \"Ratings\": 0, \"Reviews\": 0, \"Current_price\": 39990, \"Marked_price\": 52990, \"Operating_system\": \"Android\"}, {\"Product_Name\": \"BPL\", \"Stars\": 4.3, \"Ratings\": 0, \"Reviews\": 0, \"Current_price\": 15490, \"Marked_price\": 27000, \"Operating_system\": \"Android\"}, {\"Product_Name\": \"LG\", \"Stars\": 4.4, \"Ratings\": 5235, \"Reviews\": 586, \"Current_price\": 34490, \"Marked_price\": 41990, \"Operating_system\": \"WebOS\"}, {\"Product_Name\": \"Croma\", \"Stars\": 4.3, \"Ratings\": 0, \"Reviews\": 0, \"Current_price\": 11990, \"Marked_price\": 25000, \"Operating_system\": \"Android\"}, {\"Product_Name\": \"BPL\", \"Stars\": 0.0, \"Ratings\": 0, \"Reviews\": 0, \"Current_price\": 25999, \"Marked_price\": 35999, \"Operating_system\": \"Linux\"}, {\"Product_Name\": \"SAMSUNG\", \"Stars\": 4.3, \"Ratings\": 24838, \"Reviews\": 4257, \"Current_price\": 14999, \"Marked_price\": 28890, \"Operating_system\": \"Linux\"}, {\"Product_Name\": \"Haier\", \"Stars\": 4.7, \"Ratings\": 0, \"Reviews\": 0, \"Current_price\": 33390, \"Marked_price\": 38650, \"Operating_system\": \"Android\"}, {\"Product_Name\": \"Adsun\", \"Stars\": 3.8, \"Ratings\": 6730, \"Reviews\": 929, \"Current_price\": 8999, \"Marked_price\": 29999, \"Operating_system\": \"Android\"}, {\"Product_Name\": \"Panasonic\", \"Stars\": 0.0, \"Ratings\": 0, \"Reviews\": 0, \"Current_price\": 34614, \"Marked_price\": 42990, \"Operating_system\": \"Android\"}, {\"Product_Name\": \"kinger\", \"Stars\": 0.0, \"Ratings\": 0, \"Reviews\": 0, \"Current_price\": 12999, \"Marked_price\": 22490, \"Operating_system\": \"Android\"}, {\"Product_Name\": \"SAMSUNG\", \"Stars\": 0.0, \"Ratings\": 0, \"Reviews\": 0, \"Current_price\": 110900, \"Marked_price\": 110900, \"Operating_system\": \"Tizen\"}, {\"Product_Name\": \"Croma\", \"Stars\": 3.9, \"Ratings\": 0, \"Reviews\": 0, \"Current_price\": 18990, \"Marked_price\": 30000, \"Operating_system\": \"Android\"}, {\"Product_Name\": \"Akai\", \"Stars\": 0.0, \"Ratings\": 0, \"Reviews\": 0, \"Current_price\": 9489, \"Marked_price\": 15990, \"Operating_system\": \"Linux\"}, {\"Product_Name\": \"kinger\", \"Stars\": 0.0, \"Ratings\": 0, \"Reviews\": 0, \"Current_price\": 12999, \"Marked_price\": 22490, \"Operating_system\": \"Android\"}, {\"Product_Name\": \"kinger\", \"Stars\": 0.0, \"Ratings\": 0, \"Reviews\": 0, \"Current_price\": 12999, \"Marked_price\": 22490, \"Operating_system\": \"Android\"}, {\"Product_Name\": \"Adsun\", \"Stars\": 3.8, \"Ratings\": 6730, \"Reviews\": 929, \"Current_price\": 16999, \"Marked_price\": 39999, \"Operating_system\": \"Android\"}, {\"Product_Name\": \"Akai\", \"Stars\": 0.0, \"Ratings\": 0, \"Reviews\": 0, \"Current_price\": 9489, \"Marked_price\": 15990, \"Operating_system\": \"Linux\"}, {\"Product_Name\": \"kinger\", \"Stars\": 0.0, \"Ratings\": 0, \"Reviews\": 0, \"Current_price\": 12999, \"Marked_price\": 22490, \"Operating_system\": \"Android\"}, {\"Product_Name\": \"kinger\", \"Stars\": 0.0, \"Ratings\": 0, \"Reviews\": 0, \"Current_price\": 12999, \"Marked_price\": 22490, \"Operating_system\": \"Android\"}, {\"Product_Name\": \"Croma\", \"Stars\": 4.2, \"Ratings\": 1773, \"Reviews\": 217, \"Current_price\": 7990, \"Marked_price\": 20000, \"Operating_system\": \"Android\"}, {\"Product_Name\": \"kinger\", \"Stars\": 0.0, \"Ratings\": 0, \"Reviews\": 0, \"Current_price\": 12999, \"Marked_price\": 22490, \"Operating_system\": \"Android\"}, {\"Product_Name\": \"kinger\", \"Stars\": 0.0, \"Ratings\": 0, \"Reviews\": 0, \"Current_price\": 12999, \"Marked_price\": 22490, \"Operating_system\": \"Android\"}, {\"Product_Name\": \"kinger\", \"Stars\": 0.0, \"Ratings\": 0, \"Reviews\": 0, \"Current_price\": 12999, \"Marked_price\": 22490, \"Operating_system\": \"Android\"}, {\"Product_Name\": \"Adsun\", \"Stars\": 3.8, \"Ratings\": 6730, \"Reviews\": 929, \"Current_price\": 8699, \"Marked_price\": 21999, \"Operating_system\": \"Android\"}, {\"Product_Name\": \"kinger\", \"Stars\": 0.0, \"Ratings\": 0, \"Reviews\": 0, \"Current_price\": 12999, \"Marked_price\": 22490, \"Operating_system\": \"Android\"}, {\"Product_Name\": \"kinger\", \"Stars\": 0.0, \"Ratings\": 0, \"Reviews\": 0, \"Current_price\": 12999, \"Marked_price\": 22490, \"Operating_system\": \"Android\"}, {\"Product_Name\": \"kinger\", \"Stars\": 0.0, \"Ratings\": 0, \"Reviews\": 0, \"Current_price\": 12999, \"Marked_price\": 22490, \"Operating_system\": \"Android\"}, {\"Product_Name\": \"Croma\", \"Stars\": 4.3, \"Ratings\": 0, \"Reviews\": 0, \"Current_price\": 11990, \"Marked_price\": 25000, \"Operating_system\": \"Android\"}, {\"Product_Name\": \"kinger\", \"Stars\": 0.0, \"Ratings\": 0, \"Reviews\": 0, \"Current_price\": 12999, \"Marked_price\": 22490, \"Operating_system\": \"Android\"}, {\"Product_Name\": \"kinger\", \"Stars\": 0.0, \"Ratings\": 0, \"Reviews\": 0, \"Current_price\": 12999, \"Marked_price\": 22490, \"Operating_system\": \"Android\"}, {\"Product_Name\": \"kinger\", \"Stars\": 0.0, \"Ratings\": 0, \"Reviews\": 0, \"Current_price\": 12999, \"Marked_price\": 22490, \"Operating_system\": \"Android\"}, {\"Product_Name\": \"Adsun\", \"Stars\": 3.8, \"Ratings\": 6730, \"Reviews\": 929, \"Current_price\": 8999, \"Marked_price\": 29999, \"Operating_system\": \"Android\"}, {\"Product_Name\": \"kinger\", \"Stars\": 0.0, \"Ratings\": 0, \"Reviews\": 0, \"Current_price\": 12999, \"Marked_price\": 22490, \"Operating_system\": \"Android\"}, {\"Product_Name\": \"kinger\", \"Stars\": 0.0, \"Ratings\": 0, \"Reviews\": 0, \"Current_price\": 12999, \"Marked_price\": 22490, \"Operating_system\": \"Android\"}, {\"Product_Name\": \"kinger\", \"Stars\": 0.0, \"Ratings\": 0, \"Reviews\": 0, \"Current_price\": 12999, \"Marked_price\": 22490, \"Operating_system\": \"Android\"}, {\"Product_Name\": \"Adsun\", \"Stars\": 3.8, \"Ratings\": 6730, \"Reviews\": 929, \"Current_price\": 6199, \"Marked_price\": 12999, \"Operating_system\": \"Linux\"}, {\"Product_Name\": \"kinger\", \"Stars\": 0.0, \"Ratings\": 0, \"Reviews\": 0, \"Current_price\": 12999, \"Marked_price\": 22490, \"Operating_system\": \"Android\"}, {\"Product_Name\": \"iMEE\", \"Stars\": 0.0, \"Ratings\": 0, \"Reviews\": 0, \"Current_price\": 19499, \"Marked_price\": 29999, \"Operating_system\": \"Android\"}, {\"Product_Name\": \"LG\", \"Stars\": 4.2, \"Ratings\": 0, \"Reviews\": 0, \"Current_price\": 22990, \"Marked_price\": 23990, \"Operating_system\": \"Linux\"}, {\"Product_Name\": \"Adsun\", \"Stars\": 3.8, \"Ratings\": 6730, \"Reviews\": 929, \"Current_price\": 7999, \"Marked_price\": 16999, \"Operating_system\": \"Linux\"}, {\"Product_Name\": \"Panasonic\", \"Stars\": 0.0, \"Ratings\": 0, \"Reviews\": 0, \"Current_price\": 16803, \"Marked_price\": 19990, \"Operating_system\": \"Linux\"}, {\"Product_Name\": \"Lloyd\", \"Stars\": 0.0, \"Ratings\": 0, \"Reviews\": 0, \"Current_price\": 60990, \"Marked_price\": 60990, \"Operating_system\": \"Android\"}, {\"Product_Name\": \"SAMSUNG\", \"Stars\": 4.5, \"Ratings\": 0, \"Reviews\": 0, \"Current_price\": 64499, \"Marked_price\": 99900, \"Operating_system\": \"Tizen\"}, {\"Product_Name\": \"Croma\", \"Stars\": 4.2, \"Ratings\": 1773, \"Reviews\": 217, \"Current_price\": 7990, \"Marked_price\": 20000, \"Operating_system\": \"Android\"}, {\"Product_Name\": \"Haier\", \"Stars\": 4.5, \"Ratings\": 0, \"Reviews\": 0, \"Current_price\": 30900, \"Marked_price\": 38990, \"Operating_system\": \"Android\"}, {\"Product_Name\": \"Lloyd\", \"Stars\": 4.4, \"Ratings\": 0, \"Reviews\": 0, \"Current_price\": 44999, \"Marked_price\": 84990, \"Operating_system\": \"Linux\"}, {\"Product_Name\": \"Lloyd\", \"Stars\": 0.0, \"Ratings\": 0, \"Reviews\": 0, \"Current_price\": 18990, \"Marked_price\": 26890, \"Operating_system\": \"Linux\"}, {\"Product_Name\": \"Adsun\", \"Stars\": 3.8, \"Ratings\": 6730, \"Reviews\": 929, \"Current_price\": 8699, \"Marked_price\": 21999, \"Operating_system\": \"Android\"}, {\"Product_Name\": \"Lloyd\", \"Stars\": 0.0, \"Ratings\": 0, \"Reviews\": 0, \"Current_price\": 18290, \"Marked_price\": 29990, \"Operating_system\": \"Android\"}, {\"Product_Name\": \"Lloyd\", \"Stars\": 0.0, \"Ratings\": 0, \"Reviews\": 0, \"Current_price\": 99990, \"Marked_price\": 99990, \"Operating_system\": \"Android\"}, {\"Product_Name\": \"LG\", \"Stars\": 4.3, \"Ratings\": 0, \"Reviews\": 0, \"Current_price\": 58900, \"Marked_price\": 58900, \"Operating_system\": \"Linux\"}, {\"Product_Name\": \"Croma\", \"Stars\": 4.3, \"Ratings\": 0, \"Reviews\": 0, \"Current_price\": 11990, \"Marked_price\": 25000, \"Operating_system\": \"Android\"}, {\"Product_Name\": \"SAMSUNG\", \"Stars\": 3.8, \"Ratings\": 0, \"Reviews\": 0, \"Current_price\": 29900, \"Marked_price\": 29900, \"Operating_system\": \"Linux\"}, {\"Product_Name\": \"SAMSUNG\", \"Stars\": 4.2, \"Ratings\": 0, \"Reviews\": 0, \"Current_price\": 42990, \"Marked_price\": 66900, \"Operating_system\": \"Linux\"}, {\"Product_Name\": \"Candes\", \"Stars\": 4.0, \"Ratings\": 0, \"Reviews\": 0, \"Current_price\": 17999, \"Marked_price\": 38490, \"Operating_system\": \"Android\"}, {\"Product_Name\": \"Adsun\", \"Stars\": 0.0, \"Ratings\": 0, \"Reviews\": 0, \"Current_price\": 8999, \"Marked_price\": 29999, \"Operating_system\": \"Android\"}, {\"Product_Name\": \"SAMSUNG\", \"Stars\": 4.2, \"Ratings\": 11881, \"Reviews\": 1983, \"Current_price\": 15200, \"Marked_price\": 15200, \"Operating_system\": \"Linux\"}, {\"Product_Name\": \"Lloyd\", \"Stars\": 4.8, \"Ratings\": 0, \"Reviews\": 0, \"Current_price\": 74999, \"Marked_price\": 153990, \"Operating_system\": \"Linux\"}, {\"Product_Name\": \"Oxygen\", \"Stars\": 0.0, \"Ratings\": 0, \"Reviews\": 0, \"Current_price\": 32990, \"Marked_price\": 42990, \"Operating_system\": \"Android\"}, {\"Product_Name\": \"Croma\", \"Stars\": 3.9, \"Ratings\": 0, \"Reviews\": 0, \"Current_price\": 18990, \"Marked_price\": 30000, \"Operating_system\": \"Android\"}, {\"Product_Name\": \"Haier\", \"Stars\": 4.0, \"Ratings\": 0, \"Reviews\": 0, \"Current_price\": 36990, \"Marked_price\": 36990, \"Operating_system\": \"Linux\"}, {\"Product_Name\": \"Hyundai\", \"Stars\": 3.3, \"Ratings\": 0, \"Reviews\": 0, \"Current_price\": 25999, \"Marked_price\": 57990, \"Operating_system\": \"WebOS\"}, {\"Product_Name\": \"Lloyd\", \"Stars\": 3.9, \"Ratings\": 0, \"Reviews\": 0, \"Current_price\": 30000, \"Marked_price\": 32990, \"Operating_system\": \"Linux\"}, {\"Product_Name\": \"Adsun\", \"Stars\": 0.0, \"Ratings\": 0, \"Reviews\": 0, \"Current_price\": 6199, \"Marked_price\": 12999, \"Operating_system\": \"Linux\"}, {\"Product_Name\": \"Lloyd\", \"Stars\": 4.1, \"Ratings\": 0, \"Reviews\": 0, \"Current_price\": 18500, \"Marked_price\": 22990, \"Operating_system\": \"Linux\"}, {\"Product_Name\": \"Nacson\", \"Stars\": 3.6, \"Ratings\": 0, \"Reviews\": 0, \"Current_price\": 15990, \"Marked_price\": 34990, \"Operating_system\": \"Android\"}, {\"Product_Name\": \"Nacson\", \"Stars\": 4.2, \"Ratings\": 0, \"Reviews\": 0, \"Current_price\": 10990, \"Marked_price\": 24990, \"Operating_system\": \"Android\"}, {\"Product_Name\": \"Croma\", \"Stars\": 4.2, \"Ratings\": 1773, \"Reviews\": 217, \"Current_price\": 7990, \"Marked_price\": 20000, \"Operating_system\": \"Android\"}, {\"Product_Name\": \"Nacson\", \"Stars\": 4.3, \"Ratings\": 0, \"Reviews\": 0, \"Current_price\": 12990, \"Marked_price\": 25990, \"Operating_system\": \"Android\"}, {\"Product_Name\": \"LumX\", \"Stars\": 3.9, \"Ratings\": 0, \"Reviews\": 0, \"Current_price\": 7549, \"Marked_price\": 17900, \"Operating_system\": \"Linux\"}, {\"Product_Name\": \"Lloyd\", \"Stars\": 0.0, \"Ratings\": 0, \"Reviews\": 0, \"Current_price\": 59974, \"Marked_price\": 89990, \"Operating_system\": \"Android\"}, {\"Product_Name\": \"Adsun\", \"Stars\": 3.8, \"Ratings\": 6742, \"Reviews\": 930, \"Current_price\": 8699, \"Marked_price\": 21999, \"Operating_system\": \"Android\"}, {\"Product_Name\": \"SAMSUNG\", \"Stars\": 4.1, \"Ratings\": 0, \"Reviews\": 0, \"Current_price\": 92500, \"Marked_price\": 92500, \"Operating_system\": \"Tizen\"}, {\"Product_Name\": \"LG\", \"Stars\": 3.3, \"Ratings\": 0, \"Reviews\": 0, \"Current_price\": 100500, \"Marked_price\": 189990, \"Operating_system\": \"WebOS\"}, {\"Product_Name\": \"VG\", \"Stars\": 0.0, \"Ratings\": 0, \"Reviews\": 0, \"Current_price\": 18990, \"Marked_price\": 26000, \"Operating_system\": \"Linux\"}, {\"Product_Name\": \"Croma\", \"Stars\": 4.2, \"Ratings\": 0, \"Reviews\": 0, \"Current_price\": 11990, \"Marked_price\": 25000, \"Operating_system\": \"Android\"}, {\"Product_Name\": \"SAMSUNG\", \"Stars\": 3.8, \"Ratings\": 0, \"Reviews\": 0, \"Current_price\": 25900, \"Marked_price\": 25900, \"Operating_system\": \"Linux\"}, {\"Product_Name\": \"Lloyd\", \"Stars\": 0.0, \"Ratings\": 0, \"Reviews\": 0, \"Current_price\": 55990, \"Marked_price\": 60990, \"Operating_system\": \"Android\"}, {\"Product_Name\": \"Akai\", \"Stars\": 0.0, \"Ratings\": 0, \"Reviews\": 0, \"Current_price\": 55947, \"Marked_price\": 99990, \"Operating_system\": \"Linux\"}, {\"Product_Name\": \"Adsun\", \"Stars\": 3.8, \"Ratings\": 6742, \"Reviews\": 930, \"Current_price\": 8999, \"Marked_price\": 29999, \"Operating_system\": \"Android\"}, {\"Product_Name\": \"HUIDI\", \"Stars\": 4.0, \"Ratings\": 4864, \"Reviews\": 558, \"Current_price\": 7699, \"Marked_price\": 17599, \"Operating_system\": \"Linux\"}, {\"Product_Name\": \"MOTOROLA\", \"Stars\": 4.3, \"Ratings\": 20879, \"Reviews\": 3410, \"Current_price\": 32999, \"Marked_price\": 47999, \"Operating_system\": \"Android\"}, {\"Product_Name\": \"Croma\", \"Stars\": 3.3, \"Ratings\": 0, \"Reviews\": 0, \"Current_price\": 27990, \"Marked_price\": 60000, \"Operating_system\": \"WebOS\"}, {\"Product_Name\": \"Croma\", \"Stars\": 3.9, \"Ratings\": 0, \"Reviews\": 0, \"Current_price\": 18990, \"Marked_price\": 30000, \"Operating_system\": \"Android\"}, {\"Product_Name\": \"Thomson\", \"Stars\": 4.4, \"Ratings\": 67598, \"Reviews\": 14655, \"Current_price\": 20000, \"Marked_price\": 25999, \"Operating_system\": \"Android\"}, {\"Product_Name\": \"MOTOROLA\", \"Stars\": 4.3, \"Ratings\": 20879, \"Reviews\": 3410, \"Current_price\": 41999, \"Marked_price\": 54999, \"Operating_system\": \"Android\"}, {\"Product_Name\": \"SONY\", \"Stars\": 5.0, \"Ratings\": 0, \"Reviews\": 0, \"Current_price\": 469999, \"Marked_price\": 529900, \"Operating_system\": \"Android\"}, {\"Product_Name\": \"Adsun\", \"Stars\": 3.8, \"Ratings\": 6742, \"Reviews\": 930, \"Current_price\": 6199, \"Marked_price\": 12999, \"Operating_system\": \"Linux\"}, {\"Product_Name\": \"acer\", \"Stars\": 4.4, \"Ratings\": 5449, \"Reviews\": 897, \"Current_price\": 34999, \"Marked_price\": 54990, \"Operating_system\": \"Android\"}, {\"Product_Name\": \"Croma\", \"Stars\": 0.0, \"Ratings\": 0, \"Reviews\": 0, \"Current_price\": 17994, \"Marked_price\": 40000, \"Operating_system\": \"Android\"}, {\"Product_Name\": \"Vu\", \"Stars\": 4.4, \"Ratings\": 2878, \"Reviews\": 411, \"Current_price\": 45999, \"Marked_price\": 85000, \"Operating_system\": \"Android\"}, {\"Product_Name\": \"Croma\", \"Stars\": 4.2, \"Ratings\": 1773, \"Reviews\": 217, \"Current_price\": 7990, \"Marked_price\": 20000, \"Operating_system\": \"Android\"}, {\"Product_Name\": \"acer\", \"Stars\": 4.4, \"Ratings\": 5449, \"Reviews\": 897, \"Current_price\": 29999, \"Marked_price\": 44990, \"Operating_system\": \"Android\"}, {\"Product_Name\": \"SAMSUNG\", \"Stars\": 4.3, \"Ratings\": 0, \"Reviews\": 0, \"Current_price\": 125900, \"Marked_price\": 125900, \"Operating_system\": \"Linux\"}, {\"Product_Name\": \"SAMSUNG\", \"Stars\": 4.3, \"Ratings\": 43685, \"Reviews\": 5448, \"Current_price\": 14499, \"Marked_price\": 22500, \"Operating_system\": \"Tizen\"}, {\"Product_Name\": \"Adsun\", \"Stars\": 3.8, \"Ratings\": 6575, \"Reviews\": 904, \"Current_price\": 8699, \"Marked_price\": 21999, \"Operating_system\": \"Android\"}, {\"Product_Name\": \"TCL\", \"Stars\": 3.5, \"Ratings\": 0, \"Reviews\": 0, \"Current_price\": 12999, \"Marked_price\": 22990, \"Operating_system\": \"Linux\"}, {\"Product_Name\": \"Croma\", \"Stars\": 0.0, \"Ratings\": 0, \"Reviews\": 0, \"Current_price\": 43994, \"Marked_price\": 75000, \"Operating_system\": \"FireTv OS 7\"}, {\"Product_Name\": \"Sansui\", \"Stars\": 4.0, \"Ratings\": 0, \"Reviews\": 0, \"Current_price\": 13499, \"Marked_price\": 20990, \"Operating_system\": \"Android\"}, {\"Product_Name\": \"Croma\", \"Stars\": 4.2, \"Ratings\": 0, \"Reviews\": 0, \"Current_price\": 11990, \"Marked_price\": 25000, \"Operating_system\": \"Android\"}, {\"Product_Name\": \"SAMSUNG\", \"Stars\": 4.0, \"Ratings\": 0, \"Reviews\": 0, \"Current_price\": 14990, \"Marked_price\": 23484, \"Operating_system\": \"Linux\"}, {\"Product_Name\": \"Vu\", \"Stars\": 4.4, \"Ratings\": 23628, \"Reviews\": 4873, \"Current_price\": 16012, \"Marked_price\": 26500, \"Operating_system\": \"Linux\"}, {\"Product_Name\": \"Micromax\", \"Stars\": 4.2, \"Ratings\": 3790, \"Reviews\": 602, \"Current_price\": 11999, \"Marked_price\": 22990, \"Operating_system\": \"Android\"}, {\"Product_Name\": \"Adsun\", \"Stars\": 3.8, \"Ratings\": 6575, \"Reviews\": 904, \"Current_price\": 8999, \"Marked_price\": 29999, \"Operating_system\": \"Android\"}, {\"Product_Name\": \"LumX\", \"Stars\": 4.4, \"Ratings\": 0, \"Reviews\": 0, \"Current_price\": 8999, \"Marked_price\": 23900, \"Operating_system\": \"Linux\"}, {\"Product_Name\": \"TCL\", \"Stars\": 4.4, \"Ratings\": 0, \"Reviews\": 0, \"Current_price\": 14990, \"Marked_price\": 22990, \"Operating_system\": \"Android\"}, {\"Product_Name\": \"RGL\", \"Stars\": 4.0, \"Ratings\": 2068, \"Reviews\": 328, \"Current_price\": 13490, \"Marked_price\": 19500, \"Operating_system\": \"Android\"}, {\"Product_Name\": \"Croma\", \"Stars\": 3.9, \"Ratings\": 0, \"Reviews\": 0, \"Current_price\": 18990, \"Marked_price\": 30000, \"Operating_system\": \"Android\"}, {\"Product_Name\": \"SAMSUNG\", \"Stars\": 4.2, \"Ratings\": 0, \"Reviews\": 0, \"Current_price\": 12700, \"Marked_price\": 15900, \"Operating_system\": \"Linux\"}, {\"Product_Name\": \"Hisense\", \"Stars\": 4.4, \"Ratings\": 2756, \"Reviews\": 489, \"Current_price\": 36990, \"Marked_price\": 43990, \"Operating_system\": \"Android\"}, {\"Product_Name\": \"Onix\", \"Stars\": 0.0, \"Ratings\": 0, \"Reviews\": 0, \"Current_price\": 17999, \"Marked_price\": 19790, \"Operating_system\": \"Android\"}, {\"Product_Name\": \"Adsun\", \"Stars\": 3.8, \"Ratings\": 6575, \"Reviews\": 904, \"Current_price\": 6199, \"Marked_price\": 12999, \"Operating_system\": \"Linux\"}, {\"Product_Name\": \"RGL\", \"Stars\": 4.0, \"Ratings\": 2068, \"Reviews\": 328, \"Current_price\": 9490, \"Marked_price\": 12990, \"Operating_system\": \"Linux\"}, {\"Product_Name\": \"MarQ\", \"Stars\": 4.2, \"Ratings\": 0, \"Reviews\": 0, \"Current_price\": 6978, \"Marked_price\": 10499, \"Operating_system\": \"Linux\"}, {\"Product_Name\": \"LG\", \"Stars\": 4.4, \"Ratings\": 0, \"Reviews\": 0, \"Current_price\": 15868, \"Marked_price\": 17990, \"Operating_system\": \"Linux\"}, {\"Product_Name\": \"Croma\", \"Stars\": 4.2, \"Ratings\": 1773, \"Reviews\": 217, \"Current_price\": 7990, \"Marked_price\": 20000, \"Operating_system\": \"Android\"}, {\"Product_Name\": \"RGL\", \"Stars\": 4.0, \"Ratings\": 2068, \"Reviews\": 328, \"Current_price\": 5490, \"Marked_price\": 9990, \"Operating_system\": \"Linux\"}, {\"Product_Name\": \"Micromax\", \"Stars\": 4.2, \"Ratings\": 0, \"Reviews\": 0, \"Current_price\": 71990, \"Marked_price\": 71990, \"Operating_system\": \"Linux\"}, {\"Product_Name\": \"SONY\", \"Stars\": 4.4, \"Ratings\": 1558, \"Reviews\": 228, \"Current_price\": 22999, \"Marked_price\": 27990, \"Operating_system\": \"Linux\"}, {\"Product_Name\": \"Adsun\", \"Stars\": 3.8, \"Ratings\": 6742, \"Reviews\": 930, \"Current_price\": 8699, \"Marked_price\": 21999, \"Operating_system\": \"Android\"}, {\"Product_Name\": \"Micromax\", \"Stars\": 4.1, \"Ratings\": 0, \"Reviews\": 0, \"Current_price\": 49999, \"Marked_price\": 69990, \"Operating_system\": \"Android\"}, {\"Product_Name\": \"SONY\", \"Stars\": 4.4, \"Ratings\": 2044, \"Reviews\": 441, \"Current_price\": 27449, \"Marked_price\": 31900, \"Operating_system\": \"Linux\"}, {\"Product_Name\": \"Maser\", \"Stars\": 3.8, \"Ratings\": 0, \"Reviews\": 0, \"Current_price\": 7499, \"Marked_price\": 7999, \"Operating_system\": \"Linux\"}, {\"Product_Name\": \"Croma\", \"Stars\": 4.2, \"Ratings\": 0, \"Reviews\": 0, \"Current_price\": 11990, \"Marked_price\": 25000, \"Operating_system\": \"Android\"}, {\"Product_Name\": \"Micromax\", \"Stars\": 4.2, \"Ratings\": 2540, \"Reviews\": 484, \"Current_price\": 18990, \"Marked_price\": 36663, \"Operating_system\": \"Linux\"}, {\"Product_Name\": \"Sansui\", \"Stars\": 4.3, \"Ratings\": 2207, \"Reviews\": 321, \"Current_price\": 6999, \"Marked_price\": 9999, \"Operating_system\": \"Linux\"}, {\"Product_Name\": \"SONY\", \"Stars\": 4.6, \"Ratings\": 0, \"Reviews\": 0, \"Current_price\": 59999, \"Marked_price\": 94900, \"Operating_system\": \"Linux\"}, {\"Product_Name\": \"Adsun\", \"Stars\": 3.8, \"Ratings\": 6742, \"Reviews\": 930, \"Current_price\": 8999, \"Marked_price\": 29999, \"Operating_system\": \"Android\"}, {\"Product_Name\": \"SONY\", \"Stars\": 4.5, \"Ratings\": 6056, \"Reviews\": 1082, \"Current_price\": 34184, \"Marked_price\": 68400, \"Operating_system\": \"Linux\"}, {\"Product_Name\": \"Croma\", \"Stars\": 0.0, \"Ratings\": 0, \"Reviews\": 0, \"Current_price\": 9194, \"Marked_price\": 20000, \"Operating_system\": \"Android\"}, {\"Product_Name\": \"T-Series\", \"Stars\": 0.0, \"Ratings\": 0, \"Reviews\": 0, \"Current_price\": 26999, \"Marked_price\": 33990, \"Operating_system\": \"Linux\"}, {\"Product_Name\": \"Adsun\", \"Stars\": 3.8, \"Ratings\": 6742, \"Reviews\": 930, \"Current_price\": 6199, \"Marked_price\": 12999, \"Operating_system\": \"Linux\"}, {\"Product_Name\": \"SONY\", \"Stars\": 4.4, \"Ratings\": 0, \"Reviews\": 0, \"Current_price\": 52949, \"Marked_price\": 72990, \"Operating_system\": \"Linux\"}]}}, {\"actions\": false, \"mode\": \"vega-lite\"});\n</script>",
      "text/plain": "alt.Chart(...)"
     },
     "metadata": {}
    }
   ],
   "execution_count": null
  },
  {
   "cell_type": "code",
   "source": "_deepnote_run_altair(df_3, \"\"\"{\"$schema\":\"https://vega.github.io/schema/vega-lite/v4.json\",\"mark\":{\"type\":\"point\",\"tooltip\":true},\"height\":220,\"autosize\":{\"type\":\"fit\"},\"data\":{\"name\":\"placeholder\"},\"encoding\":{\"x\":{\"field\":\"Product_Name\",\"type\":\"nominal\",\"sort\":null,\"scale\":{\"type\":\"linear\",\"zero\":false}},\"y\":{\"field\":\"Stars\",\"type\":\"quantitative\",\"sort\":null,\"scale\":{\"type\":\"linear\",\"zero\":false}},\"color\":{\"field\":\"COUNT(*)\",\"type\":\"quantitative\",\"sort\":null,\"aggregate\":\"count\",\"scale\":{\"type\":\"linear\",\"zero\":false}}}}\"\"\")",
   "metadata": {
    "cell_id": "5577e25f70724426898792fbb080c030",
    "deepnote_variable_name": "df_3",
    "deepnote_visualization_spec": {
     "$schema": "https://vega.github.io/schema/vega-lite/v4.json",
     "mark": {
      "type": "point",
      "tooltip": true
     },
     "height": 220,
     "autosize": {
      "type": "fit"
     },
     "data": {
      "name": "placeholder"
     },
     "encoding": {
      "x": {
       "field": "Product_Name",
       "type": "nominal",
       "sort": null,
       "scale": {
        "type": "linear",
        "zero": false
       }
      },
      "y": {
       "field": "Stars",
       "type": "quantitative",
       "sort": null,
       "scale": {
        "type": "linear",
        "zero": false
       }
      },
      "color": {
       "field": "COUNT(*)",
       "type": "quantitative",
       "sort": null,
       "aggregate": "count",
       "scale": {
        "type": "linear",
        "zero": false
       }
      }
     }
    },
    "deepnote_to_be_reexecuted": false,
    "source_hash": "5e38a009",
    "execution_start": 1660822406856,
    "execution_millis": 80,
    "deepnote_cell_type": "visualization"
   },
   "outputs": [
    {
     "output_type": "execute_result",
     "execution_count": 31,
     "data": {
      "text/html": "\n<div id=\"altair-viz-6ca84d10d049409093e31701f17220bf\"></div>\n<script type=\"text/javascript\">\n  (function(spec, embedOpt){\n    let outputDiv = document.currentScript.previousElementSibling;\n    if (outputDiv.id !== \"altair-viz-6ca84d10d049409093e31701f17220bf\") {\n      outputDiv = document.getElementById(\"altair-viz-6ca84d10d049409093e31701f17220bf\");\n    }\n    const paths = {\n      \"vega\": \"https://cdn.jsdelivr.net/npm//vega@5?noext\",\n      \"vega-lib\": \"https://cdn.jsdelivr.net/npm//vega-lib?noext\",\n      \"vega-lite\": \"https://cdn.jsdelivr.net/npm//vega-lite@4.8.1?noext\",\n      \"vega-embed\": \"https://cdn.jsdelivr.net/npm//vega-embed@6?noext\",\n    };\n\n    function loadScript(lib) {\n      return new Promise(function(resolve, reject) {\n        var s = document.createElement('script');\n        s.src = paths[lib];\n        s.async = true;\n        s.onload = () => resolve(paths[lib]);\n        s.onerror = () => reject(`Error loading script: ${paths[lib]}`);\n        document.getElementsByTagName(\"head\")[0].appendChild(s);\n      });\n    }\n\n    function showError(err) {\n      outputDiv.innerHTML = `<div class=\"error\" style=\"color:red;\">${err}</div>`;\n      throw err;\n    }\n\n    function displayChart(vegaEmbed) {\n      vegaEmbed(outputDiv, spec, embedOpt)\n        .catch(err => showError(`Javascript Error: ${err.message}<br>This usually means there's a typo in your chart specification. See the javascript console for the full traceback.`));\n    }\n\n    if(typeof define === \"function\" && define.amd) {\n      requirejs.config({paths});\n      require([\"vega-embed\"], displayChart, err => showError(`Error loading script: ${err.message}`));\n    } else if (typeof vegaEmbed === \"function\") {\n      displayChart(vegaEmbed);\n    } else {\n      loadScript(\"vega\")\n        .then(() => loadScript(\"vega-lite\"))\n        .then(() => loadScript(\"vega-embed\"))\n        .catch(showError)\n        .then(() => displayChart(vegaEmbed));\n    }\n  })({\"config\": {\"view\": {\"continuousWidth\": 400, \"continuousHeight\": 300}, \"area\": {\"fill\": \"#51C0E9\"}, \"axis\": {\"labelFont\": \"Inter, sans-serif\", \"labelFontSize\": 12, \"labelFontWeight\": \"normal\", \"labelLimit\": 60, \"labelOverlap\": \"greedy\", \"titleFont\": \"Inter, sans-serif\", \"titleFontSize\": 12, \"titleFontWeight\": \"bold\"}, \"background\": \"#ffffff\", \"legend\": {\"labelFont\": \"Inter, sans-serif\", \"labelFontSize\": 12, \"titleFont\": \"Inter, sans-serif\", \"titleFontSize\": 12, \"titleFontWeight\": \"bold\"}, \"line\": {\"stroke\": \"#51C0E9\", \"strokeWidth\": 2}, \"rect\": {\"fill\": \"#51C0E9\"}, \"title\": {\"anchor\": \"start\", \"color\": \"#000000\", \"font\": \"Inter, sans-serif\", \"fontSize\": 22, \"fontWeight\": \"normal\"}}, \"data\": {\"name\": \"data-666df74709079a082d13fb621687179f\"}, \"mark\": {\"type\": \"point\", \"tooltip\": true}, \"autosize\": {\"type\": \"fit\"}, \"encoding\": {\"color\": {\"type\": \"quantitative\", \"aggregate\": \"count\", \"field\": \"COUNT(*)\", \"scale\": {\"type\": \"linear\", \"zero\": false}, \"sort\": null}, \"x\": {\"type\": \"nominal\", \"field\": \"Product_Name\", \"scale\": {\"type\": \"linear\", \"zero\": false}, \"sort\": null}, \"y\": {\"type\": \"quantitative\", \"field\": \"Stars\", \"scale\": {\"type\": \"linear\", \"zero\": false}, \"sort\": null}}, \"height\": 300, \"width\": \"container\", \"$schema\": \"https://vega.github.io/schema/vega-lite/v4.json\", \"datasets\": {\"data-666df74709079a082d13fb621687179f\": [{\"Product_Name\": \"Croma\", \"Stars\": 4.2, \"Ratings\": 1773, \"Reviews\": 217, \"Current_price\": 7990, \"Marked_price\": 20000, \"Operating_system\": \"Android\"}, {\"Product_Name\": \"Adsun\", \"Stars\": 3.8, \"Ratings\": 6742, \"Reviews\": 930, \"Current_price\": 8699, \"Marked_price\": 21999, \"Operating_system\": \"Android\"}, {\"Product_Name\": \"LG\", \"Stars\": 4.4, \"Ratings\": 38870, \"Reviews\": 3443, \"Current_price\": 16499, \"Marked_price\": 21990, \"Operating_system\": \"WebOS\"}, {\"Product_Name\": \"OnePlus\", \"Stars\": 4.3, \"Ratings\": 101256, \"Reviews\": 9189, \"Current_price\": 16499, \"Marked_price\": 21999, \"Operating_system\": \"Android\"}, {\"Product_Name\": \"Xiaomi\", \"Stars\": 4.3, \"Ratings\": 3120, \"Reviews\": 305, \"Current_price\": 15499, \"Marked_price\": 24999, \"Operating_system\": \"Android\"}, {\"Product_Name\": \"SAMSUNG\", \"Stars\": 4.4, \"Ratings\": 53639, \"Reviews\": 4811, \"Current_price\": 15999, \"Marked_price\": 22900, \"Operating_system\": \"Tizen\"}, {\"Product_Name\": \"OnePlus\", \"Stars\": 4.3, \"Ratings\": 101256, \"Reviews\": 9189, \"Current_price\": 15499, \"Marked_price\": 19999, \"Operating_system\": \"Android\"}, {\"Product_Name\": \"Croma\", \"Stars\": 4.2, \"Ratings\": 0, \"Reviews\": 0, \"Current_price\": 11990, \"Marked_price\": 25000, \"Operating_system\": \"Android\"}, {\"Product_Name\": \"LG\", \"Stars\": 4.4, \"Ratings\": 5830, \"Reviews\": 698, \"Current_price\": 32990, \"Marked_price\": 59990, \"Operating_system\": \"WebOS\"}, {\"Product_Name\": \"OnePlus\", \"Stars\": 4.3, \"Ratings\": 101256, \"Reviews\": 9189, \"Current_price\": 25999, \"Marked_price\": 31999, \"Operating_system\": \"Android\"}, {\"Product_Name\": \"Vu\", \"Stars\": 4.4, \"Ratings\": 32043, \"Reviews\": 4978, \"Current_price\": 30990, \"Marked_price\": 45000, \"Operating_system\": \"Android\"}, {\"Product_Name\": \"Adsun\", \"Stars\": 3.8, \"Ratings\": 6742, \"Reviews\": 930, \"Current_price\": 8999, \"Marked_price\": 29999, \"Operating_system\": \"Android\"}, {\"Product_Name\": \"OnePlus\", \"Stars\": 4.3, \"Ratings\": 101256, \"Reviews\": 9189, \"Current_price\": 22999, \"Marked_price\": 27999, \"Operating_system\": \"Android\"}, {\"Product_Name\": \"MarQ\", \"Stars\": 4.2, \"Ratings\": 6251, \"Reviews\": 764, \"Current_price\": 8999, \"Marked_price\": 19999, \"Operating_system\": \"Linux\"}, {\"Product_Name\": \"OnePlus\", \"Stars\": 4.3, \"Ratings\": 101256, \"Reviews\": 9189, \"Current_price\": 24999, \"Marked_price\": 29999, \"Operating_system\": \"Android\"}, {\"Product_Name\": \"Croma\", \"Stars\": 3.9, \"Ratings\": 0, \"Reviews\": 0, \"Current_price\": 18990, \"Marked_price\": 30000, \"Operating_system\": \"Android\"}, {\"Product_Name\": \"Xiaomi\", \"Stars\": 4.3, \"Ratings\": 3120, \"Reviews\": 305, \"Current_price\": 22999, \"Marked_price\": 29999, \"Operating_system\": \"Android\"}, {\"Product_Name\": \"Vu\", \"Stars\": 4.2, \"Ratings\": 5635, \"Reviews\": 632, \"Current_price\": 12999, \"Marked_price\": 20000, \"Operating_system\": \"Linux\"}, {\"Product_Name\": \"Mi\", \"Stars\": 4.3, \"Ratings\": 40877, \"Reviews\": 3658, \"Current_price\": 31999, \"Marked_price\": 49999, \"Operating_system\": \"Android\"}, {\"Product_Name\": \"Adsun\", \"Stars\": 3.8, \"Ratings\": 6742, \"Reviews\": 930, \"Current_price\": 16999, \"Marked_price\": 39999, \"Operating_system\": \"Android\"}, {\"Product_Name\": \"realme\", \"Stars\": 4.3, \"Ratings\": 26103, \"Reviews\": 2299, \"Current_price\": 13499, \"Marked_price\": 21999, \"Operating_system\": \"Linux\"}, {\"Product_Name\": \"realme\", \"Stars\": 4.3, \"Ratings\": 197035, \"Reviews\": 22679, \"Current_price\": 15499, \"Marked_price\": 17999, \"Operating_system\": \"Android\"}, {\"Product_Name\": \"acer\", \"Stars\": 4.4, \"Ratings\": 5449, \"Reviews\": 897, \"Current_price\": 13999, \"Marked_price\": 22990, \"Operating_system\": \"Android\"}, {\"Product_Name\": \"SAMSUNG\", \"Stars\": 4.4, \"Ratings\": 7344, \"Reviews\": 883, \"Current_price\": 35999, \"Marked_price\": 47900, \"Operating_system\": \"Tizen\"}, {\"Product_Name\": \"Thomson\", \"Stars\": 4.4, \"Ratings\": 67598, \"Reviews\": 14655, \"Current_price\": 20999, \"Marked_price\": 27999, \"Operating_system\": \"Android\"}, {\"Product_Name\": \"iFFALCON\", \"Stars\": 4.3, \"Ratings\": 18688, \"Reviews\": 2568, \"Current_price\": 33999, \"Marked_price\": 70990, \"Operating_system\": \"Android\"}, {\"Product_Name\": \"Mi\", \"Stars\": 4.3, \"Ratings\": 34983, \"Reviews\": 3067, \"Current_price\": 21999, \"Marked_price\": 29999, \"Operating_system\": \"Android\"}, {\"Product_Name\": \"Adsun\", \"Stars\": 3.8, \"Ratings\": 6742, \"Reviews\": 930, \"Current_price\": 8699, \"Marked_price\": 21999, \"Operating_system\": \"Android\"}, {\"Product_Name\": \"Vu\", \"Stars\": 4.4, \"Ratings\": 32043, \"Reviews\": 4978, \"Current_price\": 27999, \"Marked_price\": 45000, \"Operating_system\": \"Android\"}, {\"Product_Name\": \"OnePlus\", \"Stars\": 4.4, \"Ratings\": 8883, \"Reviews\": 989, \"Current_price\": 40990, \"Marked_price\": 49999, \"Operating_system\": \"Android\"}, {\"Product_Name\": \"Xiaomi\", \"Stars\": 4.3, \"Ratings\": 3120, \"Reviews\": 305, \"Current_price\": 25999, \"Marked_price\": 35999, \"Operating_system\": \"Android\"}, {\"Product_Name\": \"Croma\", \"Stars\": 4.2, \"Ratings\": 0, \"Reviews\": 0, \"Current_price\": 11990, \"Marked_price\": 25000, \"Operating_system\": \"Android\"}, {\"Product_Name\": \"Thomson\", \"Stars\": 4.2, \"Ratings\": 0, \"Reviews\": 0, \"Current_price\": 9999, \"Marked_price\": 14999, \"Operating_system\": \"Linux\"}, {\"Product_Name\": \"iFFALCON\", \"Stars\": 4.3, \"Ratings\": 15277, \"Reviews\": 2435, \"Current_price\": 18999, \"Marked_price\": 36990, \"Operating_system\": \"Android\"}, {\"Product_Name\": \"Croma\", \"Stars\": 4.2, \"Ratings\": 1773, \"Reviews\": 217, \"Current_price\": 7990, \"Marked_price\": 20000, \"Operating_system\": \"Android\"}, {\"Product_Name\": \"Adsun\", \"Stars\": 3.8, \"Ratings\": 6742, \"Reviews\": 930, \"Current_price\": 8999, \"Marked_price\": 29999, \"Operating_system\": \"Android\"}, {\"Product_Name\": \"Yuwa\", \"Stars\": 0.0, \"Ratings\": 0, \"Reviews\": 0, \"Current_price\": 8449, \"Marked_price\": 21990, \"Operating_system\": \"Android\"}, {\"Product_Name\": \"acer\", \"Stars\": 4.4, \"Ratings\": 5449, \"Reviews\": 897, \"Current_price\": 25999, \"Marked_price\": 31990, \"Operating_system\": \"Android\"}, {\"Product_Name\": \"Mi\", \"Stars\": 4.3, \"Ratings\": 34983, \"Reviews\": 3067, \"Current_price\": 16499, \"Marked_price\": 19999, \"Operating_system\": \"Android\"}, {\"Product_Name\": \"Croma\", \"Stars\": 3.9, \"Ratings\": 0, \"Reviews\": 0, \"Current_price\": 18990, \"Marked_price\": 30000, \"Operating_system\": \"Android\"}, {\"Product_Name\": \"realme\", \"Stars\": 4.3, \"Ratings\": 197035, \"Reviews\": 22679, \"Current_price\": 21999, \"Marked_price\": 31999, \"Operating_system\": \"Android\"}, {\"Product_Name\": \"SONY\", \"Stars\": 4.6, \"Ratings\": 844, \"Reviews\": 174, \"Current_price\": 23990, \"Marked_price\": 34900, \"Operating_system\": \"Android\"}, {\"Product_Name\": \"realme\", \"Stars\": 4.2, \"Ratings\": 7279, \"Reviews\": 982, \"Current_price\": 17999, \"Marked_price\": 23999, \"Operating_system\": \"Android\"}, {\"Product_Name\": \"Adsun\", \"Stars\": 3.8, \"Ratings\": 6742, \"Reviews\": 930, \"Current_price\": 16999, \"Marked_price\": 39999, \"Operating_system\": \"Android\"}, {\"Product_Name\": \"Mi\", \"Stars\": 4.3, \"Ratings\": 40877, \"Reviews\": 3658, \"Current_price\": 40999, \"Marked_price\": 59999, \"Operating_system\": \"Android\"}, {\"Product_Name\": \"SAMSUNG\", \"Stars\": 4.4, \"Ratings\": 7344, \"Reviews\": 883, \"Current_price\": 55490, \"Marked_price\": 80900, \"Operating_system\": \"Tizen\"}, {\"Product_Name\": \"MarQ\", \"Stars\": 4.2, \"Ratings\": 6251, \"Reviews\": 764, \"Current_price\": 6999, \"Marked_price\": 14999, \"Operating_system\": \"Linux\"}, {\"Product_Name\": \"SAMSUNG\", \"Stars\": 4.4, \"Ratings\": 7344, \"Reviews\": 883, \"Current_price\": 35999, \"Marked_price\": 47900, \"Operating_system\": \"Tizen\"}, {\"Product_Name\": \"Mi\", \"Stars\": 4.3, \"Ratings\": 40871, \"Reviews\": 3658, \"Current_price\": 35999, \"Marked_price\": 41999, \"Operating_system\": \"Android\"}, {\"Product_Name\": \"SAMSUNG\", \"Stars\": 4.3, \"Ratings\": 6698, \"Reviews\": 705, \"Current_price\": 49990, \"Marked_price\": 69900, \"Operating_system\": \"Tizen\"}, {\"Product_Name\": \"LG\", \"Stars\": 4.4, \"Ratings\": 7541, \"Reviews\": 658, \"Current_price\": 29999, \"Marked_price\": 40990, \"Operating_system\": \"WebOS\"}, {\"Product_Name\": \"Croma\", \"Stars\": 4.2, \"Ratings\": 1773, \"Reviews\": 217, \"Current_price\": 7990, \"Marked_price\": 20000, \"Operating_system\": \"Android\"}, {\"Product_Name\": \"acer\", \"Stars\": 4.4, \"Ratings\": 5445, \"Reviews\": 897, \"Current_price\": 25999, \"Marked_price\": 34990, \"Operating_system\": \"Android\"}, {\"Product_Name\": \"realme\", \"Stars\": 4.3, \"Ratings\": 25089, \"Reviews\": 2931, \"Current_price\": 29999, \"Marked_price\": 32999, \"Operating_system\": \"Android\"}, {\"Product_Name\": \"SAMSUNG\", \"Stars\": 4.3, \"Ratings\": 7540, \"Reviews\": 798, \"Current_price\": 17490, \"Marked_price\": 20900, \"Operating_system\": \"Tizen\"}, {\"Product_Name\": \"Adsun\", \"Stars\": 3.8, \"Ratings\": 6730, \"Reviews\": 929, \"Current_price\": 8699, \"Marked_price\": 21999, \"Operating_system\": \"Android\"}, {\"Product_Name\": \"Coocaa\", \"Stars\": 4.2, \"Ratings\": 14815, \"Reviews\": 2326, \"Current_price\": 10499, \"Marked_price\": 36990, \"Operating_system\": \"Coolita\"}, {\"Product_Name\": \"realme\", \"Stars\": 4.3, \"Ratings\": 197032, \"Reviews\": 22678, \"Current_price\": 24999, \"Marked_price\": 35999, \"Operating_system\": \"Android\"}, {\"Product_Name\": \"SAMSUNG\", \"Stars\": 4.4, \"Ratings\": 7341, \"Reviews\": 883, \"Current_price\": 35999, \"Marked_price\": 47900, \"Operating_system\": \"Tizen\"}, {\"Product_Name\": \"Croma\", \"Stars\": 4.3, \"Ratings\": 0, \"Reviews\": 0, \"Current_price\": 11990, \"Marked_price\": 25000, \"Operating_system\": \"Android\"}, {\"Product_Name\": \"OnePlus\", \"Stars\": 4.4, \"Ratings\": 8883, \"Reviews\": 989, \"Current_price\": 63990, \"Marked_price\": 69999, \"Operating_system\": \"Android\"}, {\"Product_Name\": \"SAMSUNG\", \"Stars\": 4.4, \"Ratings\": 7341, \"Reviews\": 883, \"Current_price\": 47990, \"Marked_price\": 71400, \"Operating_system\": \"Tizen\"}, {\"Product_Name\": \"TOSHIBA\", \"Stars\": 4.6, \"Ratings\": 0, \"Reviews\": 0, \"Current_price\": 22990, \"Marked_price\": 34990, \"Operating_system\": \"Android\"}, {\"Product_Name\": \"Adsun\", \"Stars\": 3.8, \"Ratings\": 6730, \"Reviews\": 929, \"Current_price\": 8999, \"Marked_price\": 29999, \"Operating_system\": \"Android\"}, {\"Product_Name\": \"Mi\", \"Stars\": 4.4, \"Ratings\": 663035, \"Reviews\": 67204, \"Current_price\": 14999, \"Marked_price\": 19999, \"Operating_system\": \"Android\"}, {\"Product_Name\": \"Sansui\", \"Stars\": 0.0, \"Ratings\": 0, \"Reviews\": 0, \"Current_price\": 10999, \"Marked_price\": 17990, \"Operating_system\": \"Linux\"}, {\"Product_Name\": \"Hisense\", \"Stars\": 4.2, \"Ratings\": 0, \"Reviews\": 0, \"Current_price\": 13990, \"Marked_price\": 24990, \"Operating_system\": \"Android\"}, {\"Product_Name\": \"Croma\", \"Stars\": 3.9, \"Ratings\": 0, \"Reviews\": 0, \"Current_price\": 18990, \"Marked_price\": 30000, \"Operating_system\": \"Android\"}, {\"Product_Name\": \"MOTOROLA\", \"Stars\": 0.0, \"Ratings\": 0, \"Reviews\": 0, \"Current_price\": 54999, \"Marked_price\": 63999, \"Operating_system\": \"Android\"}, {\"Product_Name\": \"InnoQ\", \"Stars\": 4.1, \"Ratings\": 0, \"Reviews\": 0, \"Current_price\": 7690, \"Marked_price\": 21990, \"Operating_system\": \"Linux\"}, {\"Product_Name\": \"SAMSUNG\", \"Stars\": 4.3, \"Ratings\": 6698, \"Reviews\": 705, \"Current_price\": 45990, \"Marked_price\": 68400, \"Operating_system\": \"Tizen\"}, {\"Product_Name\": \"Adsun\", \"Stars\": 3.8, \"Ratings\": 6730, \"Reviews\": 929, \"Current_price\": 16999, \"Marked_price\": 39999, \"Operating_system\": \"Android\"}, {\"Product_Name\": \"Vu\", \"Stars\": 4.2, \"Ratings\": 5635, \"Reviews\": 632, \"Current_price\": 22999, \"Marked_price\": 35000, \"Operating_system\": \"Android\"}, {\"Product_Name\": \"Mi\", \"Stars\": 4.3, \"Ratings\": 5490, \"Reviews\": 400, \"Current_price\": 14999, \"Marked_price\": 19999, \"Operating_system\": \"Android\"}, {\"Product_Name\": \"MOTOROLA\", \"Stars\": 4.4, \"Ratings\": 9687, \"Reviews\": 1532, \"Current_price\": 22499, \"Marked_price\": 30000, \"Operating_system\": \"Android\"}, {\"Product_Name\": \"Croma\", \"Stars\": 4.2, \"Ratings\": 1773, \"Reviews\": 217, \"Current_price\": 7990, \"Marked_price\": 20000, \"Operating_system\": \"Android\"}, {\"Product_Name\": \"Thomson\", \"Stars\": 4.1, \"Ratings\": 54251, \"Reviews\": 7937, \"Current_price\": 9999, \"Marked_price\": 14990, \"Operating_system\": \"Linux\"}, {\"Product_Name\": \"Coocaa\", \"Stars\": 4.3, \"Ratings\": 2662, \"Reviews\": 600, \"Current_price\": 32999, \"Marked_price\": 73990, \"Operating_system\": \"Android\"}, {\"Product_Name\": \"Coocaa\", \"Stars\": 4.4, \"Ratings\": 0, \"Reviews\": 0, \"Current_price\": 11999, \"Marked_price\": 25999, \"Operating_system\": \"Android\"}, {\"Product_Name\": \"Adsun\", \"Stars\": 3.8, \"Ratings\": 6742, \"Reviews\": 930, \"Current_price\": 8699, \"Marked_price\": 21999, \"Operating_system\": \"Android\"}, {\"Product_Name\": \"Thomson\", \"Stars\": 4.6, \"Ratings\": 2427, \"Reviews\": 585, \"Current_price\": 37999, \"Marked_price\": 54999, \"Operating_system\": \"Android\"}, {\"Product_Name\": \"Mi\", \"Stars\": 4.3, \"Ratings\": 40877, \"Reviews\": 3658, \"Current_price\": 42999, \"Marked_price\": 49999, \"Operating_system\": \"Android\"}, {\"Product_Name\": \"Thomson\", \"Stars\": 4.1, \"Ratings\": 54251, \"Reviews\": 7937, \"Current_price\": 7999, \"Marked_price\": 10499, \"Operating_system\": \"Linux\"}, {\"Product_Name\": \"Adsun\", \"Stars\": 3.8, \"Ratings\": 6742, \"Reviews\": 930, \"Current_price\": 8999, \"Marked_price\": 29999, \"Operating_system\": \"Android\"}, {\"Product_Name\": \"Nokia\", \"Stars\": 4.3, \"Ratings\": 23271, \"Reviews\": 3975, \"Current_price\": 49999, \"Marked_price\": 59999, \"Operating_system\": \"Android\"}, {\"Product_Name\": \"Hisense\", \"Stars\": 4.4, \"Ratings\": 0, \"Reviews\": 0, \"Current_price\": 31999, \"Marked_price\": 54990, \"Operating_system\": \"Android\"}, {\"Product_Name\": \"Hyundai\", \"Stars\": 4.2, \"Ratings\": 0, \"Reviews\": 0, \"Current_price\": 11999, \"Marked_price\": 22990, \"Operating_system\": \"Android\"}, {\"Product_Name\": \"Croma\", \"Stars\": 3.9, \"Ratings\": 0, \"Reviews\": 0, \"Current_price\": 18990, \"Marked_price\": 30000, \"Operating_system\": \"Android\"}, {\"Product_Name\": \"Thomson\", \"Stars\": 4.4, \"Ratings\": 22032, \"Reviews\": 5954, \"Current_price\": 32999, \"Marked_price\": 40999, \"Operating_system\": \"Android\"}, {\"Product_Name\": \"KODAK\", \"Stars\": 4.1, \"Ratings\": 14221, \"Reviews\": 2269, \"Current_price\": 8990, \"Marked_price\": 15999, \"Operating_system\": \"Linux\"}, {\"Product_Name\": \"Nokia\", \"Stars\": 4.3, \"Ratings\": 11336, \"Reviews\": 1966, \"Current_price\": 33999, \"Marked_price\": 45999, \"Operating_system\": \"Android\"}, {\"Product_Name\": \"Adsun\", \"Stars\": 3.8, \"Ratings\": 6742, \"Reviews\": 930, \"Current_price\": 16999, \"Marked_price\": 39999, \"Operating_system\": \"Android\"}, {\"Product_Name\": \"Croma\", \"Stars\": 4.2, \"Ratings\": 0, \"Reviews\": 0, \"Current_price\": 11990, \"Marked_price\": 25000, \"Operating_system\": \"Android\"}, {\"Product_Name\": \"Blaupunkt\", \"Stars\": 4.4, \"Ratings\": 6977, \"Reviews\": 1601, \"Current_price\": 15999, \"Marked_price\": 23999, \"Operating_system\": \"Android\"}, {\"Product_Name\": \"SONY\", \"Stars\": 4.7, \"Ratings\": 621, \"Reviews\": 131, \"Current_price\": 46999, \"Marked_price\": 66900, \"Operating_system\": \"Android\"}, {\"Product_Name\": \"SAMSUNG\", \"Stars\": 4.4, \"Ratings\": 7344, \"Reviews\": 883, \"Current_price\": 35999, \"Marked_price\": 47900, \"Operating_system\": \"Tizen\"}, {\"Product_Name\": \"Sansui\", \"Stars\": 4.2, \"Ratings\": 0, \"Reviews\": 0, \"Current_price\": 13999, \"Marked_price\": 20990, \"Operating_system\": \"Android\"}, {\"Product_Name\": \"LG\", \"Stars\": 4.4, \"Ratings\": 0, \"Reviews\": 0, \"Current_price\": 59999, \"Marked_price\": 109990, \"Operating_system\": \"WebOS\"}, {\"Product_Name\": \"LG\", \"Stars\": 4.5, \"Ratings\": 801, \"Reviews\": 121, \"Current_price\": 39999, \"Marked_price\": 59990, \"Operating_system\": \"WebOS\"}, {\"Product_Name\": \"Croma\", \"Stars\": 4.2, \"Ratings\": 1773, \"Reviews\": 217, \"Current_price\": 7990, \"Marked_price\": 20000, \"Operating_system\": \"Android\"}, {\"Product_Name\": \"MOTOROLA\", \"Stars\": 4.4, \"Ratings\": 0, \"Reviews\": 0, \"Current_price\": 28999, \"Marked_price\": 39000, \"Operating_system\": \"Android\"}, {\"Product_Name\": \"Yuwa\", \"Stars\": 1.8, \"Ratings\": 0, \"Reviews\": 0, \"Current_price\": 8449, \"Marked_price\": 20999, \"Operating_system\": \"Android\"}, {\"Product_Name\": \"Coocaa\", \"Stars\": 4.4, \"Ratings\": 0, \"Reviews\": 0, \"Current_price\": 20999, \"Marked_price\": 35999, \"Operating_system\": \"Android\"}, {\"Product_Name\": \"Adsun\", \"Stars\": 3.8, \"Ratings\": 6742, \"Reviews\": 930, \"Current_price\": 8699, \"Marked_price\": 21999, \"Operating_system\": \"Android\"}, {\"Product_Name\": \"Thomson\", \"Stars\": 4.4, \"Ratings\": 4207, \"Reviews\": 868, \"Current_price\": 33999, \"Marked_price\": 46999, \"Operating_system\": \"Android\"}, {\"Product_Name\": \"SONY\", \"Stars\": 4.6, \"Ratings\": 838, \"Reviews\": 147, \"Current_price\": 35999, \"Marked_price\": 44900, \"Operating_system\": \"Linux\"}, {\"Product_Name\": \"Croma\", \"Stars\": 4.2, \"Ratings\": 0, \"Reviews\": 0, \"Current_price\": 6990, \"Marked_price\": 15000, \"Operating_system\": \"Linux\"}, {\"Product_Name\": \"Croma\", \"Stars\": 4.2, \"Ratings\": 0, \"Reviews\": 0, \"Current_price\": 11990, \"Marked_price\": 25000, \"Operating_system\": \"Android\"}, {\"Product_Name\": \"KODAK\", \"Stars\": 4.4, \"Ratings\": 31763, \"Reviews\": 7301, \"Current_price\": 17999, \"Marked_price\": 20999, \"Operating_system\": \"Android\"}, {\"Product_Name\": \"Dyanora\", \"Stars\": 4.1, \"Ratings\": 0, \"Reviews\": 0, \"Current_price\": 6399, \"Marked_price\": 10999, \"Operating_system\": \"Linux\"}, {\"Product_Name\": \"HUIDI\", \"Stars\": 4.0, \"Ratings\": 4864, \"Reviews\": 558, \"Current_price\": 9299, \"Marked_price\": 15599, \"Operating_system\": \"Android\"}, {\"Product_Name\": \"Adsun\", \"Stars\": 3.8, \"Ratings\": 6742, \"Reviews\": 930, \"Current_price\": 8999, \"Marked_price\": 29999, \"Operating_system\": \"Android\"}, {\"Product_Name\": \"SONY\", \"Stars\": 4.8, \"Ratings\": 0, \"Reviews\": 0, \"Current_price\": 72990, \"Marked_price\": 109900, \"Operating_system\": \"Google TV\"}, {\"Product_Name\": \"Blaupunkt\", \"Stars\": 4.6, \"Ratings\": 3380, \"Reviews\": 928, \"Current_price\": 28999, \"Marked_price\": 41999, \"Operating_system\": \"Android\"}, {\"Product_Name\": \"KODAK\", \"Stars\": 4.4, \"Ratings\": 31763, \"Reviews\": 7301, \"Current_price\": 20499, \"Marked_price\": 27999, \"Operating_system\": \"Android\"}, {\"Product_Name\": \"Croma\", \"Stars\": 3.9, \"Ratings\": 0, \"Reviews\": 0, \"Current_price\": 18990, \"Marked_price\": 30000, \"Operating_system\": \"Android\"}, {\"Product_Name\": \"SAMSUNG\", \"Stars\": 4.3, \"Ratings\": 6717, \"Reviews\": 707, \"Current_price\": 81990, \"Marked_price\": 116900, \"Operating_system\": \"Tizen\"}, {\"Product_Name\": \"Hyundai\", \"Stars\": 4.8, \"Ratings\": 0, \"Reviews\": 0, \"Current_price\": 13999, \"Marked_price\": 26990, \"Operating_system\": \"WebOS\"}, {\"Product_Name\": \"Hisense\", \"Stars\": 4.3, \"Ratings\": 913, \"Reviews\": 147, \"Current_price\": 27990, \"Marked_price\": 36990, \"Operating_system\": \"Android\"}, {\"Product_Name\": \"Adsun\", \"Stars\": 3.8, \"Ratings\": 6742, \"Reviews\": 930, \"Current_price\": 16999, \"Marked_price\": 39999, \"Operating_system\": \"Android\"}, {\"Product_Name\": \"SAMSUNG\", \"Stars\": 4.6, \"Ratings\": 0, \"Reviews\": 0, \"Current_price\": 75999, \"Marked_price\": 134900, \"Operating_system\": \"Tizen\"}, {\"Product_Name\": \"ONIDA\", \"Stars\": 4.4, \"Ratings\": 591, \"Reviews\": 102, \"Current_price\": 26999, \"Marked_price\": 41990, \"Operating_system\": \"VIDAA\"}, {\"Product_Name\": \"SONY\", \"Stars\": 4.8, \"Ratings\": 0, \"Reviews\": 0, \"Current_price\": 72990, \"Marked_price\": 109900, \"Operating_system\": \"Google TV\"}, {\"Product_Name\": \"Croma\", \"Stars\": 4.2, \"Ratings\": 1773, \"Reviews\": 217, \"Current_price\": 7990, \"Marked_price\": 20000, \"Operating_system\": \"Android\"}, {\"Product_Name\": \"Hyundai\", \"Stars\": 4.2, \"Ratings\": 0, \"Reviews\": 0, \"Current_price\": 11999, \"Marked_price\": 22990, \"Operating_system\": \"Android\"}, {\"Product_Name\": \"iFFALCON\", \"Stars\": 4.3, \"Ratings\": 18688, \"Reviews\": 2568, \"Current_price\": 49990, \"Marked_price\": 106990, \"Operating_system\": \"Android\"}, {\"Product_Name\": \"KODAK\", \"Stars\": 4.6, \"Ratings\": 597, \"Reviews\": 160, \"Current_price\": 32999, \"Marked_price\": 46499, \"Operating_system\": \"Android\"}, {\"Product_Name\": \"Adsun\", \"Stars\": 3.8, \"Ratings\": 6742, \"Reviews\": 930, \"Current_price\": 8699, \"Marked_price\": 21999, \"Operating_system\": \"Android\"}, {\"Product_Name\": \"InnoQ\", \"Stars\": 4.1, \"Ratings\": 0, \"Reviews\": 0, \"Current_price\": 6190, \"Marked_price\": 17990, \"Operating_system\": \"Linux\"}, {\"Product_Name\": \"SONY\", \"Stars\": 4.6, \"Ratings\": 4341, \"Reviews\": 738, \"Current_price\": 23999, \"Marked_price\": 29900, \"Operating_system\": \"Linux\"}, {\"Product_Name\": \"Nokia\", \"Stars\": 4.3, \"Ratings\": 23271, \"Reviews\": 3975, \"Current_price\": 15499, \"Marked_price\": 20000, \"Operating_system\": \"Android\"}, {\"Product_Name\": \"Croma\", \"Stars\": 4.2, \"Ratings\": 0, \"Reviews\": 0, \"Current_price\": 11990, \"Marked_price\": 25000, \"Operating_system\": \"Android\"}, {\"Product_Name\": \"MOTOROLA\", \"Stars\": 4.4, \"Ratings\": 9687, \"Reviews\": 1532, \"Current_price\": 26999, \"Marked_price\": 39999, \"Operating_system\": \"Android\"}, {\"Product_Name\": \"Candes\", \"Stars\": 4.1, \"Ratings\": 0, \"Reviews\": 0, \"Current_price\": 8299, \"Marked_price\": 22690, \"Operating_system\": \"Android\"}, {\"Product_Name\": \"Croma\", \"Stars\": 0.0, \"Ratings\": 0, \"Reviews\": 0, \"Current_price\": 21990, \"Marked_price\": 40000, \"Operating_system\": \"Android\"}, {\"Product_Name\": \"Adsun\", \"Stars\": 3.8, \"Ratings\": 6742, \"Reviews\": 930, \"Current_price\": 8999, \"Marked_price\": 29999, \"Operating_system\": \"Android\"}, {\"Product_Name\": \"TCL\", \"Stars\": 4.3, \"Ratings\": 0, \"Reviews\": 0, \"Current_price\": 31990, \"Marked_price\": 59990, \"Operating_system\": \"Android\"}, {\"Product_Name\": \"iFFALCON\", \"Stars\": 4.3, \"Ratings\": 18688, \"Reviews\": 2568, \"Current_price\": 30999, \"Marked_price\": 58990, \"Operating_system\": \"Android\"}, {\"Product_Name\": \"Thomson\", \"Stars\": 4.6, \"Ratings\": 2427, \"Reviews\": 585, \"Current_price\": 33999, \"Marked_price\": 46999, \"Operating_system\": \"Android\"}, {\"Product_Name\": \"Croma\", \"Stars\": 3.9, \"Ratings\": 0, \"Reviews\": 0, \"Current_price\": 18990, \"Marked_price\": 30000, \"Operating_system\": \"Android\"}, {\"Product_Name\": \"Sansui\", \"Stars\": 4.1, \"Ratings\": 0, \"Reviews\": 0, \"Current_price\": 26999, \"Marked_price\": 35390, \"Operating_system\": \"Android\"}, {\"Product_Name\": \"TCL\", \"Stars\": 4.3, \"Ratings\": 0, \"Reviews\": 0, \"Current_price\": 15990, \"Marked_price\": 29990, \"Operating_system\": \"Android\"}, {\"Product_Name\": \"Nokia\", \"Stars\": 4.3, \"Ratings\": 11336, \"Reviews\": 1966, \"Current_price\": 37999, \"Marked_price\": 54999, \"Operating_system\": \"Android\"}, {\"Product_Name\": \"Adsun\", \"Stars\": 3.8, \"Ratings\": 6742, \"Reviews\": 930, \"Current_price\": 16999, \"Marked_price\": 39999, \"Operating_system\": \"Android\"}, {\"Product_Name\": \"Nokia\", \"Stars\": 4.3, \"Ratings\": 23243, \"Reviews\": 3975, \"Current_price\": 32999, \"Marked_price\": 45999, \"Operating_system\": \"Android\"}, {\"Product_Name\": \"MOTOROLA\", \"Stars\": 4.3, \"Ratings\": 20879, \"Reviews\": 3410, \"Current_price\": 45999, \"Marked_price\": 60999, \"Operating_system\": \"Android\"}, {\"Product_Name\": \"Mi\", \"Stars\": 4.3, \"Ratings\": 34983, \"Reviews\": 3067, \"Current_price\": 26999, \"Marked_price\": 31999, \"Operating_system\": \"Android\"}, {\"Product_Name\": \"Croma\", \"Stars\": 4.2, \"Ratings\": 1773, \"Reviews\": 217, \"Current_price\": 7990, \"Marked_price\": 20000, \"Operating_system\": \"Android\"}, {\"Product_Name\": \"SAMSUNG\", \"Stars\": 4.4, \"Ratings\": 4261, \"Reviews\": 460, \"Current_price\": 29990, \"Marked_price\": 38900, \"Operating_system\": \"Tizen\"}, {\"Product_Name\": \"Thomson\", \"Stars\": 4.4, \"Ratings\": 22022, \"Reviews\": 5952, \"Current_price\": 36999, \"Marked_price\": 49999, \"Operating_system\": \"Android\"}, {\"Product_Name\": \"Mi\", \"Stars\": 4.4, \"Ratings\": 4600, \"Reviews\": 619, \"Current_price\": 59999, \"Marked_price\": 59999, \"Operating_system\": \"Android\"}, {\"Product_Name\": \"Adsun\", \"Stars\": 3.8, \"Ratings\": 6730, \"Reviews\": 929, \"Current_price\": 8699, \"Marked_price\": 21999, \"Operating_system\": \"Android\"}, {\"Product_Name\": \"Nokia\", \"Stars\": 4.3, \"Ratings\": 2900, \"Reviews\": 500, \"Current_price\": 33999, \"Marked_price\": 48999, \"Operating_system\": \"Android\"}, {\"Product_Name\": \"Dyanora\", \"Stars\": 0.0, \"Ratings\": 0, \"Reviews\": 0, \"Current_price\": 7299, \"Marked_price\": 12499, \"Operating_system\": \"Android\"}, {\"Product_Name\": \"SAMSUNG\", \"Stars\": 0.0, \"Ratings\": 0, \"Reviews\": 0, \"Current_price\": 15230, \"Marked_price\": 16400, \"Operating_system\": \"Linux\"}, {\"Product_Name\": \"Croma\", \"Stars\": 4.3, \"Ratings\": 0, \"Reviews\": 0, \"Current_price\": 11990, \"Marked_price\": 25000, \"Operating_system\": \"Android\"}, {\"Product_Name\": \"Blaupunkt\", \"Stars\": 4.6, \"Ratings\": 3381, \"Reviews\": 929, \"Current_price\": 39999, \"Marked_price\": 55999, \"Operating_system\": \"Android\"}, {\"Product_Name\": \"Vu\", \"Stars\": 4.4, \"Ratings\": 31993, \"Reviews\": 4975, \"Current_price\": 54999, \"Marked_price\": 75000, \"Operating_system\": \"Android\"}, {\"Product_Name\": \"Hyundai\", \"Stars\": 4.4, \"Ratings\": 0, \"Reviews\": 0, \"Current_price\": 11990, \"Marked_price\": 18990, \"Operating_system\": \"Linux\"}, {\"Product_Name\": \"Adsun\", \"Stars\": 3.8, \"Ratings\": 6730, \"Reviews\": 929, \"Current_price\": 8999, \"Marked_price\": 29999, \"Operating_system\": \"Android\"}, {\"Product_Name\": \"TCL\", \"Stars\": 0.0, \"Ratings\": 0, \"Reviews\": 0, \"Current_price\": 15990, \"Marked_price\": 29990, \"Operating_system\": \"Android\"}, {\"Product_Name\": \"Adsun\", \"Stars\": 3.8, \"Ratings\": 6730, \"Reviews\": 929, \"Current_price\": 6199, \"Marked_price\": 12999, \"Operating_system\": \"Linux\"}, {\"Product_Name\": \"PHILIPS\", \"Stars\": 4.1, \"Ratings\": 0, \"Reviews\": 0, \"Current_price\": 43999, \"Marked_price\": 89990, \"Operating_system\": \"Linux\"}, {\"Product_Name\": \"Croma\", \"Stars\": 3.9, \"Ratings\": 0, \"Reviews\": 0, \"Current_price\": 18990, \"Marked_price\": 30000, \"Operating_system\": \"Android\"}, {\"Product_Name\": \"SONY\", \"Stars\": 4.7, \"Ratings\": 0, \"Reviews\": 0, \"Current_price\": 97900, \"Marked_price\": 179900, \"Operating_system\": \"Google TV\"}, {\"Product_Name\": \"TCL\", \"Stars\": 0.0, \"Ratings\": 0, \"Reviews\": 0, \"Current_price\": 41349, \"Marked_price\": 75990, \"Operating_system\": \"Android\"}, {\"Product_Name\": \"Vu\", \"Stars\": 4.4, \"Ratings\": 31993, \"Reviews\": 4975, \"Current_price\": 36999, \"Marked_price\": 75000, \"Operating_system\": \"Android\"}, {\"Product_Name\": \"Adsun\", \"Stars\": 3.8, \"Ratings\": 6730, \"Reviews\": 929, \"Current_price\": 16999, \"Marked_price\": 39999, \"Operating_system\": \"Android\"}, {\"Product_Name\": \"iFFALCON\", \"Stars\": 4.3, \"Ratings\": 18688, \"Reviews\": 2568, \"Current_price\": 49990, \"Marked_price\": 106990, \"Operating_system\": \"Android\"}, {\"Product_Name\": \"TOSHIBA\", \"Stars\": 4.3, \"Ratings\": 1090, \"Reviews\": 164, \"Current_price\": 33999, \"Marked_price\": 46990, \"Operating_system\": \"VIDAA\"}, {\"Product_Name\": \"MOTOROLA\", \"Stars\": 4.3, \"Ratings\": 796, \"Reviews\": 148, \"Current_price\": 49999, \"Marked_price\": 59999, \"Operating_system\": \"Android\"}, {\"Product_Name\": \"Croma\", \"Stars\": 4.2, \"Ratings\": 1773, \"Reviews\": 217, \"Current_price\": 7990, \"Marked_price\": 20000, \"Operating_system\": \"Android\"}, {\"Product_Name\": \"Thomson\", \"Stars\": 4.3, \"Ratings\": 6421, \"Reviews\": 1797, \"Current_price\": 34999, \"Marked_price\": 46999, \"Operating_system\": \"Android\"}, {\"Product_Name\": \"realme\", \"Stars\": 4.3, \"Ratings\": 2104, \"Reviews\": 291, \"Current_price\": 48999, \"Marked_price\": 69999, \"Operating_system\": \"Android\"}, {\"Product_Name\": \"MOTOROLA\", \"Stars\": 4.4, \"Ratings\": 9687, \"Reviews\": 1532, \"Current_price\": 14999, \"Marked_price\": 20000, \"Operating_system\": \"Android\"}, {\"Product_Name\": \"Adsun\", \"Stars\": 3.8, \"Ratings\": 6742, \"Reviews\": 930, \"Current_price\": 8699, \"Marked_price\": 21999, \"Operating_system\": \"Android\"}, {\"Product_Name\": \"MOTOROLA\", \"Stars\": 4.4, \"Ratings\": 0, \"Reviews\": 0, \"Current_price\": 41999, \"Marked_price\": 72000, \"Operating_system\": \"Android\"}, {\"Product_Name\": \"MOTOROLA\", \"Stars\": 4.3, \"Ratings\": 20879, \"Reviews\": 3410, \"Current_price\": 45999, \"Marked_price\": 61999, \"Operating_system\": \"Android\"}, {\"Product_Name\": \"Hyundai\", \"Stars\": 4.9, \"Ratings\": 0, \"Reviews\": 0, \"Current_price\": 13499, \"Marked_price\": 23990, \"Operating_system\": \"Android\"}, {\"Product_Name\": \"Croma\", \"Stars\": 4.2, \"Ratings\": 0, \"Reviews\": 0, \"Current_price\": 11990, \"Marked_price\": 25000, \"Operating_system\": \"Android\"}, {\"Product_Name\": \"MOTOROLA\", \"Stars\": 4.4, \"Ratings\": 9687, \"Reviews\": 1532, \"Current_price\": 19999, \"Marked_price\": 29999, \"Operating_system\": \"Android\"}, {\"Product_Name\": \"MOTOROLA\", \"Stars\": 4.5, \"Ratings\": 0, \"Reviews\": 0, \"Current_price\": 25499, \"Marked_price\": 33000, \"Operating_system\": \"Android\"}, {\"Product_Name\": \"Vu\", \"Stars\": 4.3, \"Ratings\": 34845, \"Reviews\": 4762, \"Current_price\": 23999, \"Marked_price\": 40000, \"Operating_system\": \"Android\"}, {\"Product_Name\": \"Adsun\", \"Stars\": 3.8, \"Ratings\": 6742, \"Reviews\": 930, \"Current_price\": 8999, \"Marked_price\": 29999, \"Operating_system\": \"Android\"}, {\"Product_Name\": \"MOTOROLA\", \"Stars\": 4.4, \"Ratings\": 9687, \"Reviews\": 1532, \"Current_price\": 62999, \"Marked_price\": 79999, \"Operating_system\": \"Android\"}, {\"Product_Name\": \"Yuwa\", \"Stars\": 3.5, \"Ratings\": 0, \"Reviews\": 0, \"Current_price\": 5999, \"Marked_price\": 10192, \"Operating_system\": \"Linux\"}, {\"Product_Name\": \"Blaupunkt\", \"Stars\": 4.6, \"Ratings\": 3380, \"Reviews\": 928, \"Current_price\": 35999, \"Marked_price\": 47999, \"Operating_system\": \"Android\"}, {\"Product_Name\": \"Croma\", \"Stars\": 3.9, \"Ratings\": 0, \"Reviews\": 0, \"Current_price\": 18990, \"Marked_price\": 30000, \"Operating_system\": \"Android\"}, {\"Product_Name\": \"KODAK\", \"Stars\": 4.5, \"Ratings\": 17462, \"Reviews\": 5306, \"Current_price\": 31999, \"Marked_price\": 42999, \"Operating_system\": \"Android\"}, {\"Product_Name\": \"LG\", \"Stars\": 4.4, \"Ratings\": 5830, \"Reviews\": 698, \"Current_price\": 44990, \"Marked_price\": 64990, \"Operating_system\": \"WebOS\"}, {\"Product_Name\": \"Thomson\", \"Stars\": 4.3, \"Ratings\": 6421, \"Reviews\": 1797, \"Current_price\": 23999, \"Marked_price\": 29999, \"Operating_system\": \"Android\"}, {\"Product_Name\": \"Adsun\", \"Stars\": 3.8, \"Ratings\": 6742, \"Reviews\": 930, \"Current_price\": 16999, \"Marked_price\": 39999, \"Operating_system\": \"Android\"}, {\"Product_Name\": \"Nokia\", \"Stars\": 4.3, \"Ratings\": 11336, \"Reviews\": 1966, \"Current_price\": 42999, \"Marked_price\": 70000, \"Operating_system\": \"Android\"}, {\"Product_Name\": \"Blaupunkt\", \"Stars\": 4.4, \"Ratings\": 6977, \"Reviews\": 1601, \"Current_price\": 13499, \"Marked_price\": 19499, \"Operating_system\": \"Android\"}, {\"Product_Name\": \"ONIDA\", \"Stars\": 4.4, \"Ratings\": 591, \"Reviews\": 102, \"Current_price\": 13999, \"Marked_price\": 23490, \"Operating_system\": \"VIDAA\"}, {\"Product_Name\": \"Croma\", \"Stars\": 4.2, \"Ratings\": 1773, \"Reviews\": 217, \"Current_price\": 7990, \"Marked_price\": 20000, \"Operating_system\": \"Android\"}, {\"Product_Name\": \"KODAK\", \"Stars\": 4.3, \"Ratings\": 3192, \"Reviews\": 770, \"Current_price\": 32999, \"Marked_price\": 39990, \"Operating_system\": \"Android\"}, {\"Product_Name\": \"CORNEA\", \"Stars\": 0.0, \"Ratings\": 0, \"Reviews\": 0, \"Current_price\": 10999, \"Marked_price\": 19999, \"Operating_system\": \"Android\"}, {\"Product_Name\": \"Xiaomi\", \"Stars\": 4.7, \"Ratings\": 0, \"Reviews\": 0, \"Current_price\": 89999, \"Marked_price\": 199999, \"Operating_system\": \"Android\"}, {\"Product_Name\": \"Adsun\", \"Stars\": 3.8, \"Ratings\": 6742, \"Reviews\": 930, \"Current_price\": 8699, \"Marked_price\": 21999, \"Operating_system\": \"Android\"}, {\"Product_Name\": \"LG\", \"Stars\": 4.4, \"Ratings\": 0, \"Reviews\": 0, \"Current_price\": 39990, \"Marked_price\": 59990, \"Operating_system\": \"WebOS\"}, {\"Product_Name\": \"Vu\", \"Stars\": 4.3, \"Ratings\": 0, \"Reviews\": 0, \"Current_price\": 35999, \"Marked_price\": 60000, \"Operating_system\": \"Android\"}, {\"Product_Name\": \"acer\", \"Stars\": 4.4, \"Ratings\": 1722, \"Reviews\": 265, \"Current_price\": 13999, \"Marked_price\": 19990, \"Operating_system\": \"Android\"}, {\"Product_Name\": \"Croma\", \"Stars\": 4.2, \"Ratings\": 0, \"Reviews\": 0, \"Current_price\": 11990, \"Marked_price\": 25000, \"Operating_system\": \"Android\"}, {\"Product_Name\": \"TCL\", \"Stars\": 4.4, \"Ratings\": 0, \"Reviews\": 0, \"Current_price\": 34990, \"Marked_price\": 62990, \"Operating_system\": \"Linux\"}, {\"Product_Name\": \"LG\", \"Stars\": 4.5, \"Ratings\": 799, \"Reviews\": 121, \"Current_price\": 55990, \"Marked_price\": 89990, \"Operating_system\": \"WebOS\"}, {\"Product_Name\": \"TCL\", \"Stars\": 4.9, \"Ratings\": 0, \"Reviews\": 0, \"Current_price\": 36990, \"Marked_price\": 50990, \"Operating_system\": \"Android\"}, {\"Product_Name\": \"Adsun\", \"Stars\": 3.8, \"Ratings\": 6742, \"Reviews\": 930, \"Current_price\": 8999, \"Marked_price\": 29999, \"Operating_system\": \"Android\"}, {\"Product_Name\": \"Coocaa\", \"Stars\": 4.2, \"Ratings\": 14827, \"Reviews\": 2328, \"Current_price\": 39999, \"Marked_price\": 39999, \"Operating_system\": \"Coolita\"}, {\"Product_Name\": \"Nokia\", \"Stars\": 4.3, \"Ratings\": 23271, \"Reviews\": 3975, \"Current_price\": 22999, \"Marked_price\": 29000, \"Operating_system\": \"Android\"}, {\"Product_Name\": \"TCL\", \"Stars\": 4.7, \"Ratings\": 0, \"Reviews\": 0, \"Current_price\": 25390, \"Marked_price\": 47990, \"Operating_system\": \"Android\"}, {\"Product_Name\": \"Croma\", \"Stars\": 3.9, \"Ratings\": 0, \"Reviews\": 0, \"Current_price\": 18990, \"Marked_price\": 30000, \"Operating_system\": \"Android\"}, {\"Product_Name\": \"Sansui\", \"Stars\": 0.0, \"Ratings\": 0, \"Reviews\": 0, \"Current_price\": 13479, \"Marked_price\": 19990, \"Operating_system\": \"Android\"}, {\"Product_Name\": \"Blaupunkt\", \"Stars\": 4.6, \"Ratings\": 3380, \"Reviews\": 928, \"Current_price\": 55999, \"Marked_price\": 75999, \"Operating_system\": \"Android\"}, {\"Product_Name\": \"ONIDA\", \"Stars\": 4.4, \"Ratings\": 591, \"Reviews\": 102, \"Current_price\": 35999, \"Marked_price\": 68990, \"Operating_system\": \"VIDAA\"}, {\"Product_Name\": \"Adsun\", \"Stars\": 3.8, \"Ratings\": 6742, \"Reviews\": 930, \"Current_price\": 16999, \"Marked_price\": 39999, \"Operating_system\": \"Android\"}, {\"Product_Name\": \"Nokia\", \"Stars\": 4.3, \"Ratings\": 11336, \"Reviews\": 1966, \"Current_price\": 36999, \"Marked_price\": 50000, \"Operating_system\": \"Android\"}, {\"Product_Name\": \"SAMSUNG\", \"Stars\": 4.2, \"Ratings\": 1035, \"Reviews\": 144, \"Current_price\": 69990, \"Marked_price\": 119900, \"Operating_system\": \"Tizen\"}, {\"Product_Name\": \"SONY\", \"Stars\": 0.0, \"Ratings\": 0, \"Reviews\": 0, \"Current_price\": 70990, \"Marked_price\": 99900, \"Operating_system\": \"Google TV\"}, {\"Product_Name\": \"Croma\", \"Stars\": 4.2, \"Ratings\": 1773, \"Reviews\": 217, \"Current_price\": 7990, \"Marked_price\": 20000, \"Operating_system\": \"Android\"}, {\"Product_Name\": \"KODAK\", \"Stars\": 4.5, \"Ratings\": 17462, \"Reviews\": 5306, \"Current_price\": 54999, \"Marked_price\": 69999, \"Operating_system\": \"Android\"}, {\"Product_Name\": \"realme\", \"Stars\": 4.3, \"Ratings\": 25107, \"Reviews\": 2932, \"Current_price\": 41999, \"Marked_price\": 42999, \"Operating_system\": \"Android\"}, {\"Product_Name\": \"Nokia\", \"Stars\": 4.3, \"Ratings\": 23271, \"Reviews\": 3975, \"Current_price\": 42999, \"Marked_price\": 54990, \"Operating_system\": \"Android\"}, {\"Product_Name\": \"Adsun\", \"Stars\": 3.8, \"Ratings\": 6742, \"Reviews\": 930, \"Current_price\": 8699, \"Marked_price\": 21999, \"Operating_system\": \"Android\"}, {\"Product_Name\": \"Yuwa\", \"Stars\": 0.0, \"Ratings\": 0, \"Reviews\": 0, \"Current_price\": 30499, \"Marked_price\": 47448, \"Operating_system\": \"Android\"}, {\"Product_Name\": \"SAMSUNG\", \"Stars\": 4.2, \"Ratings\": 1035, \"Reviews\": 144, \"Current_price\": 82990, \"Marked_price\": 144900, \"Operating_system\": \"Tizen\"}, {\"Product_Name\": \"Compaq\", \"Stars\": 4.4, \"Ratings\": 0, \"Reviews\": 0, \"Current_price\": 14499, \"Marked_price\": 21999, \"Operating_system\": \"Android\"}, {\"Product_Name\": \"Croma\", \"Stars\": 4.2, \"Ratings\": 0, \"Reviews\": 0, \"Current_price\": 11990, \"Marked_price\": 25000, \"Operating_system\": \"Android\"}, {\"Product_Name\": \"SAMSUNG\", \"Stars\": 4.3, \"Ratings\": 0, \"Reviews\": 0, \"Current_price\": 19590, \"Marked_price\": 26490, \"Operating_system\": \"Tizen\"}, {\"Product_Name\": \"Infinix\", \"Stars\": 4.2, \"Ratings\": 14818, \"Reviews\": 2281, \"Current_price\": 15999, \"Marked_price\": 17999, \"Operating_system\": \"Android\"}, {\"Product_Name\": \"Hisense\", \"Stars\": 4.3, \"Ratings\": 0, \"Reviews\": 0, \"Current_price\": 77990, \"Marked_price\": 119990, \"Operating_system\": \"Android\"}, {\"Product_Name\": \"Adsun\", \"Stars\": 3.8, \"Ratings\": 6742, \"Reviews\": 930, \"Current_price\": 8999, \"Marked_price\": 29999, \"Operating_system\": \"Android\"}, {\"Product_Name\": \"Thomson\", \"Stars\": 4.3, \"Ratings\": 8779, \"Reviews\": 2004, \"Current_price\": 21999, \"Marked_price\": 29999, \"Operating_system\": \"Android\"}, {\"Product_Name\": \"Infinix\", \"Stars\": 4.2, \"Ratings\": 14818, \"Reviews\": 2281, \"Current_price\": 24999, \"Marked_price\": 24999, \"Operating_system\": \"Android\"}, {\"Product_Name\": \"iFFALCON\", \"Stars\": 4.2, \"Ratings\": 1198, \"Reviews\": 115, \"Current_price\": 11999, \"Marked_price\": 18990, \"Operating_system\": \"Linux\"}, {\"Product_Name\": \"Croma\", \"Stars\": 3.9, \"Ratings\": 0, \"Reviews\": 0, \"Current_price\": 18990, \"Marked_price\": 30000, \"Operating_system\": \"Android\"}, {\"Product_Name\": \"KODAK\", \"Stars\": 4.5, \"Ratings\": 17462, \"Reviews\": 5306, \"Current_price\": 25999, \"Marked_price\": 37999, \"Operating_system\": \"Android\"}, {\"Product_Name\": \"Nokia\", \"Stars\": 4.3, \"Ratings\": 2900, \"Reviews\": 500, \"Current_price\": 42999, \"Marked_price\": 59999, \"Operating_system\": \"Android\"}, {\"Product_Name\": \"LG\", \"Stars\": 4.4, \"Ratings\": 5830, \"Reviews\": 698, \"Current_price\": 74990, \"Marked_price\": 119990, \"Operating_system\": \"WebOS\"}, {\"Product_Name\": \"Adsun\", \"Stars\": 3.8, \"Ratings\": 6742, \"Reviews\": 930, \"Current_price\": 16999, \"Marked_price\": 39999, \"Operating_system\": \"Android\"}, {\"Product_Name\": \"TCL\", \"Stars\": 4.4, \"Ratings\": 0, \"Reviews\": 0, \"Current_price\": 66490, \"Marked_price\": 189990, \"Operating_system\": \"Android\"}, {\"Product_Name\": \"SONY\", \"Stars\": 4.7, \"Ratings\": 1424, \"Reviews\": 290, \"Current_price\": 62999, \"Marked_price\": 84900, \"Operating_system\": \"Android\"}, {\"Product_Name\": \"Nokia\", \"Stars\": 4.4, \"Ratings\": 1378, \"Reviews\": 252, \"Current_price\": 49999, \"Marked_price\": 69999, \"Operating_system\": \"Android\"}, {\"Product_Name\": \"iFFALCON\", \"Stars\": 4.5, \"Ratings\": 0, \"Reviews\": 0, \"Current_price\": 79999, \"Marked_price\": 156990, \"Operating_system\": \"Android\"}, {\"Product_Name\": \"MarQ\", \"Stars\": 4.3, \"Ratings\": 5279, \"Reviews\": 988, \"Current_price\": 28999, \"Marked_price\": 34999, \"Operating_system\": \"Android\"}, {\"Product_Name\": \"MOTOROLA\", \"Stars\": 4.3, \"Ratings\": 20879, \"Reviews\": 3410, \"Current_price\": 30999, \"Marked_price\": 46050, \"Operating_system\": \"Android\"}, {\"Product_Name\": \"SONY\", \"Stars\": 4.6, \"Ratings\": 0, \"Reviews\": 0, \"Current_price\": 53999, \"Marked_price\": 66900, \"Operating_system\": \"Android\"}, {\"Product_Name\": \"KODAK\", \"Stars\": 4.5, \"Ratings\": 17462, \"Reviews\": 5306, \"Current_price\": 25999, \"Marked_price\": 37999, \"Operating_system\": \"Android\"}, {\"Product_Name\": \"Yuwa\", \"Stars\": 0.0, \"Ratings\": 0, \"Reviews\": 0, \"Current_price\": 24899, \"Marked_price\": 52990, \"Operating_system\": \"Android\"}, {\"Product_Name\": \"Coocaa\", \"Stars\": 4.3, \"Ratings\": 2662, \"Reviews\": 600, \"Current_price\": 31999, \"Marked_price\": 64990, \"Operating_system\": \"Android\"}, {\"Product_Name\": \"TCL\", \"Stars\": 4.6, \"Ratings\": 0, \"Reviews\": 0, \"Current_price\": 15990, \"Marked_price\": 29990, \"Operating_system\": \"Android\"}, {\"Product_Name\": \"Sansui\", \"Stars\": 0.0, \"Ratings\": 0, \"Reviews\": 0, \"Current_price\": 13479, \"Marked_price\": 19990, \"Operating_system\": \"Android\"}, {\"Product_Name\": \"PHILIPS\", \"Stars\": 4.2, \"Ratings\": 0, \"Reviews\": 0, \"Current_price\": 42999, \"Marked_price\": 79990, \"Operating_system\": \"Android\"}, {\"Product_Name\": \"TCL\", \"Stars\": 4.4, \"Ratings\": 0, \"Reviews\": 0, \"Current_price\": 28215, \"Marked_price\": 51990, \"Operating_system\": \"Linux\"}, {\"Product_Name\": \"Hisense\", \"Stars\": 4.5, \"Ratings\": 2252, \"Reviews\": 458, \"Current_price\": 45990, \"Marked_price\": 59990, \"Operating_system\": \"Android\"}, {\"Product_Name\": \"LG\", \"Stars\": 4.6, \"Ratings\": 0, \"Reviews\": 0, \"Current_price\": 55500, \"Marked_price\": 89990, \"Operating_system\": \"WebOS\"}, {\"Product_Name\": \"iFFALCON\", \"Stars\": 4.8, \"Ratings\": 0, \"Reviews\": 0, \"Current_price\": 23999, \"Marked_price\": 44900, \"Operating_system\": \"Android\"}, {\"Product_Name\": \"ONIDA\", \"Stars\": 4.4, \"Ratings\": 591, \"Reviews\": 102, \"Current_price\": 23999, \"Marked_price\": 37990, \"Operating_system\": \"VIDAA\"}, {\"Product_Name\": \"Vu\", \"Stars\": 4.4, \"Ratings\": 0, \"Reviews\": 0, \"Current_price\": 119999, \"Marked_price\": 150000, \"Operating_system\": \"Android\"}, {\"Product_Name\": \"SAMSUNG\", \"Stars\": 4.2, \"Ratings\": 0, \"Reviews\": 0, \"Current_price\": 38990, \"Marked_price\": 49990, \"Operating_system\": \"Tizen\"}, {\"Product_Name\": \"LG\", \"Stars\": 4.6, \"Ratings\": 0, \"Reviews\": 0, \"Current_price\": 36200, \"Marked_price\": 57990, \"Operating_system\": \"WebOS\"}, {\"Product_Name\": \"iFFALCON\", \"Stars\": 4.5, \"Ratings\": 0, \"Reviews\": 0, \"Current_price\": 56999, \"Marked_price\": 113990, \"Operating_system\": \"Android\"}, {\"Product_Name\": \"TOSHIBA\", \"Stars\": 4.2, \"Ratings\": 1110, \"Reviews\": 177, \"Current_price\": 28490, \"Marked_price\": 39990, \"Operating_system\": \"VIDAA\"}, {\"Product_Name\": \"LG\", \"Stars\": 4.1, \"Ratings\": 0, \"Reviews\": 0, \"Current_price\": 42750, \"Marked_price\": 64990, \"Operating_system\": \"Linux\"}, {\"Product_Name\": \"Vu\", \"Stars\": 4.2, \"Ratings\": 3275, \"Reviews\": 467, \"Current_price\": 39999, \"Marked_price\": 57000, \"Operating_system\": \"Android\"}, {\"Product_Name\": \"Hyundai\", \"Stars\": 0.0, \"Ratings\": 0, \"Reviews\": 0, \"Current_price\": 32990, \"Marked_price\": 77990, \"Operating_system\": \"WebOS\"}, {\"Product_Name\": \"LG\", \"Stars\": 0.0, \"Ratings\": 0, \"Reviews\": 0, \"Current_price\": 98780, \"Marked_price\": 149990, \"Operating_system\": \"WebOS\"}, {\"Product_Name\": \"Croma\", \"Stars\": 4.2, \"Ratings\": 1773, \"Reviews\": 217, \"Current_price\": 7990, \"Marked_price\": 20000, \"Operating_system\": \"Android\"}, {\"Product_Name\": \"SAMSUNG\", \"Stars\": 4.3, \"Ratings\": 0, \"Reviews\": 0, \"Current_price\": 42990, \"Marked_price\": 54900, \"Operating_system\": \"Tizen\"}, {\"Product_Name\": \"Micromax\", \"Stars\": 4.0, \"Ratings\": 0, \"Reviews\": 0, \"Current_price\": 21999, \"Marked_price\": 26990, \"Operating_system\": \"Android\"}, {\"Product_Name\": \"SAMSUNG\", \"Stars\": 4.5, \"Ratings\": 0, \"Reviews\": 0, \"Current_price\": 84990, \"Marked_price\": 119900, \"Operating_system\": \"Tizen\"}, {\"Product_Name\": \"Adsun\", \"Stars\": 3.8, \"Ratings\": 6730, \"Reviews\": 929, \"Current_price\": 8699, \"Marked_price\": 21999, \"Operating_system\": \"Android\"}, {\"Product_Name\": \"LG\", \"Stars\": 4.1, \"Ratings\": 0, \"Reviews\": 0, \"Current_price\": 146300, \"Marked_price\": 269990, \"Operating_system\": \"Linux\"}, {\"Product_Name\": \"SAMSUNG\", \"Stars\": 0.0, \"Ratings\": 0, \"Reviews\": 0, \"Current_price\": 54990, \"Marked_price\": 89900, \"Operating_system\": \"Tizen\"}, {\"Product_Name\": \"Croma\", \"Stars\": 4.3, \"Ratings\": 0, \"Reviews\": 0, \"Current_price\": 11990, \"Marked_price\": 25000, \"Operating_system\": \"Android\"}, {\"Product_Name\": \"KODAK\", \"Stars\": 0.0, \"Ratings\": 0, \"Reviews\": 0, \"Current_price\": 23999, \"Marked_price\": 28999, \"Operating_system\": \"Android\"}, {\"Product_Name\": \"Hyundai\", \"Stars\": 4.8, \"Ratings\": 0, \"Reviews\": 0, \"Current_price\": 8999, \"Marked_price\": 15000, \"Operating_system\": \"Linux\"}, {\"Product_Name\": \"Thomson\", \"Stars\": 4.4, \"Ratings\": 22022, \"Reviews\": 5952, \"Current_price\": 27999, \"Marked_price\": 37999, \"Operating_system\": \"Android\"}, {\"Product_Name\": \"Adsun\", \"Stars\": 3.8, \"Ratings\": 6730, \"Reviews\": 929, \"Current_price\": 8999, \"Marked_price\": 29999, \"Operating_system\": \"Android\"}, {\"Product_Name\": \"Mi\", \"Stars\": 0.0, \"Ratings\": 0, \"Reviews\": 0, \"Current_price\": 18499, \"Marked_price\": 18999, \"Operating_system\": \"Android\"}, {\"Product_Name\": \"LG\", \"Stars\": 5.0, \"Ratings\": 0, \"Reviews\": 0, \"Current_price\": 61990, \"Marked_price\": 94990, \"Operating_system\": \"WebOS\"}, {\"Product_Name\": \"Dyanora\", \"Stars\": 4.1, \"Ratings\": 0, \"Reviews\": 0, \"Current_price\": 14399, \"Marked_price\": 23999, \"Operating_system\": \"Android\"}, {\"Product_Name\": \"Croma\", \"Stars\": 3.9, \"Ratings\": 0, \"Reviews\": 0, \"Current_price\": 18990, \"Marked_price\": 30000, \"Operating_system\": \"Android\"}, {\"Product_Name\": \"Compaq\", \"Stars\": 4.4, \"Ratings\": 0, \"Reviews\": 0, \"Current_price\": 31999, \"Marked_price\": 54999, \"Operating_system\": \"Android\"}, {\"Product_Name\": \"SAMSUNG\", \"Stars\": 4.2, \"Ratings\": 0, \"Reviews\": 0, \"Current_price\": 19590, \"Marked_price\": 26490, \"Operating_system\": \"Tizen\"}, {\"Product_Name\": \"MarQ\", \"Stars\": 4.1, \"Ratings\": 6765, \"Reviews\": 896, \"Current_price\": 16999, \"Marked_price\": 19999, \"Operating_system\": \"Android\"}, {\"Product_Name\": \"Adsun\", \"Stars\": 3.8, \"Ratings\": 6730, \"Reviews\": 929, \"Current_price\": 16999, \"Marked_price\": 39999, \"Operating_system\": \"Android\"}, {\"Product_Name\": \"TCL\", \"Stars\": 4.4, \"Ratings\": 0, \"Reviews\": 0, \"Current_price\": 86990, \"Marked_price\": 269990, \"Operating_system\": \"Android\"}, {\"Product_Name\": \"TCL\", \"Stars\": 4.3, \"Ratings\": 0, \"Reviews\": 0, \"Current_price\": 12990, \"Marked_price\": 22990, \"Operating_system\": \"Linux\"}, {\"Product_Name\": \"Vu\", \"Stars\": 4.4, \"Ratings\": 2881, \"Reviews\": 411, \"Current_price\": 39999, \"Marked_price\": 65000, \"Operating_system\": \"Android\"}, {\"Product_Name\": \"Croma\", \"Stars\": 4.2, \"Ratings\": 1773, \"Reviews\": 217, \"Current_price\": 7990, \"Marked_price\": 20000, \"Operating_system\": \"Android\"}, {\"Product_Name\": \"Vu\", \"Stars\": 4.3, \"Ratings\": 0, \"Reviews\": 0, \"Current_price\": 28999, \"Marked_price\": 50000, \"Operating_system\": \"Android\"}, {\"Product_Name\": \"Bush\", \"Stars\": 4.1, \"Ratings\": 0, \"Reviews\": 0, \"Current_price\": 6499, \"Marked_price\": 8999, \"Operating_system\": \"Linux\"}, {\"Product_Name\": \"LG\", \"Stars\": 0.0, \"Ratings\": 0, \"Reviews\": 0, \"Current_price\": 45253, \"Marked_price\": 69990, \"Operating_system\": \"WebOS\"}, {\"Product_Name\": \"Adsun\", \"Stars\": 3.8, \"Ratings\": 6742, \"Reviews\": 930, \"Current_price\": 8699, \"Marked_price\": 21999, \"Operating_system\": \"Android\"}, {\"Product_Name\": \"LG\", \"Stars\": 4.3, \"Ratings\": 865, \"Reviews\": 123, \"Current_price\": 22990, \"Marked_price\": 24990, \"Operating_system\": \"WebOS\"}, {\"Product_Name\": \"Croma\", \"Stars\": 0.0, \"Ratings\": 0, \"Reviews\": 0, \"Current_price\": 27990, \"Marked_price\": 50000, \"Operating_system\": \"Android\"}, {\"Product_Name\": \"SONY\", \"Stars\": 0.0, \"Ratings\": 0, \"Reviews\": 0, \"Current_price\": 28990, \"Marked_price\": 34900, \"Operating_system\": \"Google TV\"}, {\"Product_Name\": \"Croma\", \"Stars\": 4.2, \"Ratings\": 0, \"Reviews\": 0, \"Current_price\": 11990, \"Marked_price\": 25000, \"Operating_system\": \"Android\"}, {\"Product_Name\": \"SAMSUNG\", \"Stars\": 0.0, \"Ratings\": 0, \"Reviews\": 0, \"Current_price\": 149990, \"Marked_price\": 254900, \"Operating_system\": \"Tizen\"}, {\"Product_Name\": \"LG\", \"Stars\": 3.7, \"Ratings\": 0, \"Reviews\": 0, \"Current_price\": 99999, \"Marked_price\": 189990, \"Operating_system\": \"WebOS\"}, {\"Product_Name\": \"acer\", \"Stars\": 4.4, \"Ratings\": 1722, \"Reviews\": 265, \"Current_price\": 21999, \"Marked_price\": 29990, \"Operating_system\": \"Android\"}, {\"Product_Name\": \"Adsun\", \"Stars\": 3.8, \"Ratings\": 6742, \"Reviews\": 930, \"Current_price\": 8999, \"Marked_price\": 29999, \"Operating_system\": \"Android\"}, {\"Product_Name\": \"MOTOROLA\", \"Stars\": 4.3, \"Ratings\": 20879, \"Reviews\": 3410, \"Current_price\": 33999, \"Marked_price\": 46999, \"Operating_system\": \"Android\"}, {\"Product_Name\": \"LG\", \"Stars\": 3.7, \"Ratings\": 0, \"Reviews\": 0, \"Current_price\": 74990, \"Marked_price\": 169990, \"Operating_system\": \"WebOS\"}, {\"Product_Name\": \"SAMSUNG\", \"Stars\": 4.4, \"Ratings\": 7344, \"Reviews\": 883, \"Current_price\": 87990, \"Marked_price\": 125900, \"Operating_system\": \"Tizen\"}, {\"Product_Name\": \"Croma\", \"Stars\": 3.9, \"Ratings\": 0, \"Reviews\": 0, \"Current_price\": 18990, \"Marked_price\": 30000, \"Operating_system\": \"Android\"}, {\"Product_Name\": \"LG\", \"Stars\": 0.0, \"Ratings\": 0, \"Reviews\": 0, \"Current_price\": 44000, \"Marked_price\": 74990, \"Operating_system\": \"WebOS\"}, {\"Product_Name\": \"SONY\", \"Stars\": 5.0, \"Ratings\": 0, \"Reviews\": 0, \"Current_price\": 62990, \"Marked_price\": 84990, \"Operating_system\": \"Linux\"}, {\"Product_Name\": \"Hyundai\", \"Stars\": 4.2, \"Ratings\": 0, \"Reviews\": 0, \"Current_price\": 35999, \"Marked_price\": 97990, \"Operating_system\": \"WebOS\"}, {\"Product_Name\": \"Adsun\", \"Stars\": 3.8, \"Ratings\": 6742, \"Reviews\": 930, \"Current_price\": 16999, \"Marked_price\": 39999, \"Operating_system\": \"Android\"}, {\"Product_Name\": \"LG\", \"Stars\": 4.3, \"Ratings\": 1124, \"Reviews\": 111, \"Current_price\": 18999, \"Marked_price\": 20490, \"Operating_system\": \"Linux\"}, {\"Product_Name\": \"Thomson\", \"Stars\": 0.0, \"Ratings\": 0, \"Reviews\": 0, \"Current_price\": 18499, \"Marked_price\": 21499, \"Operating_system\": \"Android\"}, {\"Product_Name\": \"LG\", \"Stars\": 4.6, \"Ratings\": 0, \"Reviews\": 0, \"Current_price\": 99999, \"Marked_price\": 219990, \"Operating_system\": \"WebOS\"}, {\"Product_Name\": \"Croma\", \"Stars\": 4.2, \"Ratings\": 1773, \"Reviews\": 217, \"Current_price\": 7990, \"Marked_price\": 20000, \"Operating_system\": \"Android\"}, {\"Product_Name\": \"TCL\", \"Stars\": 4.3, \"Ratings\": 0, \"Reviews\": 0, \"Current_price\": 43990, \"Marked_price\": 109990, \"Operating_system\": \"Android\"}, {\"Product_Name\": \"SONY\", \"Stars\": 0.0, \"Ratings\": 0, \"Reviews\": 0, \"Current_price\": 98960, \"Marked_price\": 139900, \"Operating_system\": \"Google TV\"}, {\"Product_Name\": \"Hisense\", \"Stars\": 4.5, \"Ratings\": 0, \"Reviews\": 0, \"Current_price\": 77990, \"Marked_price\": 109990, \"Operating_system\": \"Android\"}, {\"Product_Name\": \"Adsun\", \"Stars\": 3.8, \"Ratings\": 6730, \"Reviews\": 929, \"Current_price\": 8699, \"Marked_price\": 21999, \"Operating_system\": \"Android\"}, {\"Product_Name\": \"Infinix\", \"Stars\": 4.2, \"Ratings\": 14811, \"Reviews\": 2279, \"Current_price\": 13499, \"Marked_price\": 17999, \"Operating_system\": \"Android\"}, {\"Product_Name\": \"LG\", \"Stars\": 4.3, \"Ratings\": 865, \"Reviews\": 123, \"Current_price\": 22990, \"Marked_price\": 24990, \"Operating_system\": \"WebOS\"}, {\"Product_Name\": \"PHILIPS\", \"Stars\": 4.5, \"Ratings\": 0, \"Reviews\": 0, \"Current_price\": 19659, \"Marked_price\": 22990, \"Operating_system\": \"Android\"}, {\"Product_Name\": \"Croma\", \"Stars\": 4.3, \"Ratings\": 0, \"Reviews\": 0, \"Current_price\": 11990, \"Marked_price\": 25000, \"Operating_system\": \"Android\"}, {\"Product_Name\": \"Vu\", \"Stars\": 0.0, \"Ratings\": 0, \"Reviews\": 0, \"Current_price\": 104990, \"Marked_price\": 120000, \"Operating_system\": \"Android\"}, {\"Product_Name\": \"TCL\", \"Stars\": 4.3, \"Ratings\": 0, \"Reviews\": 0, \"Current_price\": 49990, \"Marked_price\": 110990, \"Operating_system\": \"Android\"}, {\"Product_Name\": \"SAMSUNG\", \"Stars\": 0.0, \"Ratings\": 0, \"Reviews\": 0, \"Current_price\": 74990, \"Marked_price\": 129900, \"Operating_system\": \"Tizen\"}, {\"Product_Name\": \"Adsun\", \"Stars\": 3.8, \"Ratings\": 6730, \"Reviews\": 929, \"Current_price\": 8999, \"Marked_price\": 29999, \"Operating_system\": \"Android\"}, {\"Product_Name\": \"SAMSUNG\", \"Stars\": 4.4, \"Ratings\": 0, \"Reviews\": 0, \"Current_price\": 63990, \"Marked_price\": 86900, \"Operating_system\": \"Tizen\"}, {\"Product_Name\": \"Vu\", \"Stars\": 0.0, \"Ratings\": 0, \"Reviews\": 0, \"Current_price\": 74990, \"Marked_price\": 80000, \"Operating_system\": \"Android\"}, {\"Product_Name\": \"SONY\", \"Stars\": 0.0, \"Ratings\": 0, \"Reviews\": 0, \"Current_price\": 77390, \"Marked_price\": 109900, \"Operating_system\": \"Google TV\"}, {\"Product_Name\": \"Croma\", \"Stars\": 3.9, \"Ratings\": 0, \"Reviews\": 0, \"Current_price\": 18990, \"Marked_price\": 30000, \"Operating_system\": \"Android\"}, {\"Product_Name\": \"Dyanora\", \"Stars\": 4.1, \"Ratings\": 0, \"Reviews\": 0, \"Current_price\": 28499, \"Marked_price\": 43999, \"Operating_system\": \"Android\"}, {\"Product_Name\": \"LG\", \"Stars\": 0.0, \"Ratings\": 0, \"Reviews\": 0, \"Current_price\": 499990, \"Marked_price\": 499990, \"Operating_system\": \"WebOS\"}, {\"Product_Name\": \"Coocaa\", \"Stars\": 4.2, \"Ratings\": 14815, \"Reviews\": 2326, \"Current_price\": 12499, \"Marked_price\": 25990, \"Operating_system\": \"Linux\"}, {\"Product_Name\": \"Adsun\", \"Stars\": 3.8, \"Ratings\": 6730, \"Reviews\": 929, \"Current_price\": 16999, \"Marked_price\": 39999, \"Operating_system\": \"Android\"}, {\"Product_Name\": \"Sansui\", \"Stars\": 0.0, \"Ratings\": 0, \"Reviews\": 0, \"Current_price\": 13999, \"Marked_price\": 19999, \"Operating_system\": \"Android\"}, {\"Product_Name\": \"TOSHIBA\", \"Stars\": 4.3, \"Ratings\": 0, \"Reviews\": 0, \"Current_price\": 22499, \"Marked_price\": 26990, \"Operating_system\": \"VIDAA\"}, {\"Product_Name\": \"SONY\", \"Stars\": 3.7, \"Ratings\": 0, \"Reviews\": 0, \"Current_price\": 107990, \"Marked_price\": 159990, \"Operating_system\": \"Google TV\"}, {\"Product_Name\": \"Croma\", \"Stars\": 4.2, \"Ratings\": 1773, \"Reviews\": 217, \"Current_price\": 7990, \"Marked_price\": 20000, \"Operating_system\": \"Android\"}, {\"Product_Name\": \"KODAK\", \"Stars\": 4.5, \"Ratings\": 17459, \"Reviews\": 5305, \"Current_price\": 99999, \"Marked_price\": 149999, \"Operating_system\": \"Android\"}, {\"Product_Name\": \"SONY\", \"Stars\": 3.7, \"Ratings\": 0, \"Reviews\": 0, \"Current_price\": 259999, \"Marked_price\": 499900, \"Operating_system\": \"Android\"}, {\"Product_Name\": \"TCL\", \"Stars\": 4.4, \"Ratings\": 0, \"Reviews\": 0, \"Current_price\": 51990, \"Marked_price\": 129990, \"Operating_system\": \"Android\"}, {\"Product_Name\": \"Adsun\", \"Stars\": 3.8, \"Ratings\": 6730, \"Reviews\": 929, \"Current_price\": 8699, \"Marked_price\": 21999, \"Operating_system\": \"Android\"}, {\"Product_Name\": \"SAMSUNG\", \"Stars\": 4.5, \"Ratings\": 4501, \"Reviews\": 661, \"Current_price\": 73999, \"Marked_price\": 129900, \"Operating_system\": \"Tizen\"}, {\"Product_Name\": \"Croma\", \"Stars\": 4.0, \"Ratings\": 0, \"Reviews\": 0, \"Current_price\": 34990, \"Marked_price\": 60000, \"Operating_system\": \"FireTv OS 6\"}, {\"Product_Name\": \"Coocaa\", \"Stars\": 4.2, \"Ratings\": 0, \"Reviews\": 0, \"Current_price\": 27999, \"Marked_price\": 53990, \"Operating_system\": \"Linux\"}, {\"Product_Name\": \"Croma\", \"Stars\": 4.3, \"Ratings\": 0, \"Reviews\": 0, \"Current_price\": 11990, \"Marked_price\": 25000, \"Operating_system\": \"Android\"}, {\"Product_Name\": \"SONY\", \"Stars\": 0.0, \"Ratings\": 0, \"Reviews\": 0, \"Current_price\": 151900, \"Marked_price\": 239900, \"Operating_system\": \"Google TV\"}, {\"Product_Name\": \"KODAK\", \"Stars\": 4.5, \"Ratings\": 17459, \"Reviews\": 5305, \"Current_price\": 36999, \"Marked_price\": 47999, \"Operating_system\": \"Android\"}, {\"Product_Name\": \"SAMSUNG\", \"Stars\": 3.0, \"Ratings\": 0, \"Reviews\": 0, \"Current_price\": 57980, \"Marked_price\": 79400, \"Operating_system\": \"Tizen\"}, {\"Product_Name\": \"Adsun\", \"Stars\": 3.8, \"Ratings\": 6730, \"Reviews\": 929, \"Current_price\": 8999, \"Marked_price\": 29999, \"Operating_system\": \"Android\"}, {\"Product_Name\": \"Vu\", \"Stars\": 4.4, \"Ratings\": 2879, \"Reviews\": 411, \"Current_price\": 59999, \"Marked_price\": 100000, \"Operating_system\": \"Android\"}, {\"Product_Name\": \"iFFALCON\", \"Stars\": 4.4, \"Ratings\": 5287, \"Reviews\": 822, \"Current_price\": 24999, \"Marked_price\": 76990, \"Operating_system\": \"Android\"}, {\"Product_Name\": \"LG\", \"Stars\": 4.6, \"Ratings\": 0, \"Reviews\": 0, \"Current_price\": 87999, \"Marked_price\": 149990, \"Operating_system\": \"WebOS\"}, {\"Product_Name\": \"Croma\", \"Stars\": 0.0, \"Ratings\": 0, \"Reviews\": 0, \"Current_price\": 18990, \"Marked_price\": 30000, \"Operating_system\": \"Android\"}, {\"Product_Name\": \"LG\", \"Stars\": 4.5, \"Ratings\": 801, \"Reviews\": 121, \"Current_price\": 84990, \"Marked_price\": 129990, \"Operating_system\": \"WebOS\"}, {\"Product_Name\": \"Hyundai\", \"Stars\": 0.0, \"Ratings\": 0, \"Reviews\": 0, \"Current_price\": 23990, \"Marked_price\": 46490, \"Operating_system\": \"Android\"}, {\"Product_Name\": \"Mi\", \"Stars\": 5.0, \"Ratings\": 0, \"Reviews\": 0, \"Current_price\": 47214, \"Marked_price\": 49990, \"Operating_system\": \"Android\"}, {\"Product_Name\": \"Adsun\", \"Stars\": 3.8, \"Ratings\": 6730, \"Reviews\": 929, \"Current_price\": 6199, \"Marked_price\": 12999, \"Operating_system\": \"Linux\"}, {\"Product_Name\": \"LG\", \"Stars\": 4.6, \"Ratings\": 0, \"Reviews\": 0, \"Current_price\": 87999, \"Marked_price\": 149990, \"Operating_system\": \"WebOS\"}, {\"Product_Name\": \"Compaq\", \"Stars\": 4.5, \"Ratings\": 0, \"Reviews\": 0, \"Current_price\": 40999, \"Marked_price\": 64999, \"Operating_system\": \"Android\"}, {\"Product_Name\": \"TOSHIBA\", \"Stars\": 4.3, \"Ratings\": 1073, \"Reviews\": 139, \"Current_price\": 38990, \"Marked_price\": 54990, \"Operating_system\": \"VIDAA\"}, {\"Product_Name\": \"Croma\", \"Stars\": 4.2, \"Ratings\": 1773, \"Reviews\": 217, \"Current_price\": 7990, \"Marked_price\": 20000, \"Operating_system\": \"Android\"}, {\"Product_Name\": \"Sansui\", \"Stars\": 4.3, \"Ratings\": 0, \"Reviews\": 0, \"Current_price\": 34999, \"Marked_price\": 34999, \"Operating_system\": \"Android\"}, {\"Product_Name\": \"SONY\", \"Stars\": 4.4, \"Ratings\": 1495, \"Reviews\": 394, \"Current_price\": 21299, \"Marked_price\": 36900, \"Operating_system\": \"Linux\"}, {\"Product_Name\": \"Adsun\", \"Stars\": 3.8, \"Ratings\": 6742, \"Reviews\": 930, \"Current_price\": 8699, \"Marked_price\": 21999, \"Operating_system\": \"Android\"}, {\"Product_Name\": \"SONY\", \"Stars\": 4.7, \"Ratings\": 0, \"Reviews\": 0, \"Current_price\": 164999, \"Marked_price\": 329900, \"Operating_system\": \"Android\"}, {\"Product_Name\": \"LG\", \"Stars\": 3.6, \"Ratings\": 0, \"Reviews\": 0, \"Current_price\": 27399, \"Marked_price\": 34499, \"Operating_system\": \"WebOS\"}, {\"Product_Name\": \"LG\", \"Stars\": 0.0, \"Ratings\": 0, \"Reviews\": 0, \"Current_price\": 399564, \"Marked_price\": 529990, \"Operating_system\": \"WebOS\"}, {\"Product_Name\": \"Croma\", \"Stars\": 4.2, \"Ratings\": 0, \"Reviews\": 0, \"Current_price\": 11990, \"Marked_price\": 25000, \"Operating_system\": \"Android\"}, {\"Product_Name\": \"SONY\", \"Stars\": 4.9, \"Ratings\": 0, \"Reviews\": 0, \"Current_price\": 179999, \"Marked_price\": 224900, \"Operating_system\": \"Android\"}, {\"Product_Name\": \"LG\", \"Stars\": 4.2, \"Ratings\": 0, \"Reviews\": 0, \"Current_price\": 35690, \"Marked_price\": 49990, \"Operating_system\": \"WebOS\"}, {\"Product_Name\": \"iFFALCON\", \"Stars\": 4.5, \"Ratings\": 0, \"Reviews\": 0, \"Current_price\": 84999, \"Marked_price\": 186990, \"Operating_system\": \"Android\"}, {\"Product_Name\": \"Adsun\", \"Stars\": 3.8, \"Ratings\": 6742, \"Reviews\": 930, \"Current_price\": 8999, \"Marked_price\": 29999, \"Operating_system\": \"Android\"}, {\"Product_Name\": \"LG\", \"Stars\": 0.0, \"Ratings\": 0, \"Reviews\": 0, \"Current_price\": 104999, \"Marked_price\": 169990, \"Operating_system\": \"WebOS\"}, {\"Product_Name\": \"SAMSUNG\", \"Stars\": 4.5, \"Ratings\": 6879, \"Reviews\": 1027, \"Current_price\": 36999, \"Marked_price\": 52990, \"Operating_system\": \"Tizen\"}, {\"Product_Name\": \"TOSHIBA\", \"Stars\": 4.3, \"Ratings\": 1983, \"Reviews\": 315, \"Current_price\": 17499, \"Marked_price\": 18990, \"Operating_system\": \"VIDAA\"}, {\"Product_Name\": \"Croma\", \"Stars\": 3.9, \"Ratings\": 0, \"Reviews\": 0, \"Current_price\": 18990, \"Marked_price\": 30000, \"Operating_system\": \"Android\"}, {\"Product_Name\": \"SONY\", \"Stars\": 0.0, \"Ratings\": 0, \"Reviews\": 0, \"Current_price\": 90205, \"Marked_price\": 139990, \"Operating_system\": \"Linux\"}, {\"Product_Name\": \"TCL\", \"Stars\": 4.3, \"Ratings\": 0, \"Reviews\": 0, \"Current_price\": 39990, \"Marked_price\": 89990, \"Operating_system\": \"Android\"}, {\"Product_Name\": \"PHILIPS\", \"Stars\": 4.0, \"Ratings\": 0, \"Reviews\": 0, \"Current_price\": 28999, \"Marked_price\": 35990, \"Operating_system\": \"Linux\"}, {\"Product_Name\": \"Adsun\", \"Stars\": 3.8, \"Ratings\": 6742, \"Reviews\": 930, \"Current_price\": 16999, \"Marked_price\": 39999, \"Operating_system\": \"Android\"}, {\"Product_Name\": \"SAMSUNG\", \"Stars\": 0.0, \"Ratings\": 0, \"Reviews\": 0, \"Current_price\": 239999, \"Marked_price\": 394900, \"Operating_system\": \"Tizen\"}, {\"Product_Name\": \"SAMSUNG\", \"Stars\": 0.0, \"Ratings\": 0, \"Reviews\": 0, \"Current_price\": 599900, \"Marked_price\": 599900, \"Operating_system\": \"Tizen\"}, {\"Product_Name\": \"TCL\", \"Stars\": 5.0, \"Ratings\": 0, \"Reviews\": 0, \"Current_price\": 109990, \"Marked_price\": 239990, \"Operating_system\": \"Android\"}, {\"Product_Name\": \"Croma\", \"Stars\": 4.2, \"Ratings\": 1773, \"Reviews\": 217, \"Current_price\": 7990, \"Marked_price\": 20000, \"Operating_system\": \"Android\"}, {\"Product_Name\": \"TCL\", \"Stars\": 4.2, \"Ratings\": 0, \"Reviews\": 0, \"Current_price\": 55499, \"Marked_price\": 89900, \"Operating_system\": \"Linux\"}, {\"Product_Name\": \"SAMSUNG\", \"Stars\": 4.3, \"Ratings\": 0, \"Reviews\": 0, \"Current_price\": 39490, \"Marked_price\": 54900, \"Operating_system\": \"Tizen\"}, {\"Product_Name\": \"Micromax\", \"Stars\": 4.0, \"Ratings\": 0, \"Reviews\": 0, \"Current_price\": 21999, \"Marked_price\": 26990, \"Operating_system\": \"Android\"}, {\"Product_Name\": \"Adsun\", \"Stars\": 3.8, \"Ratings\": 6742, \"Reviews\": 930, \"Current_price\": 8699, \"Marked_price\": 21999, \"Operating_system\": \"Android\"}, {\"Product_Name\": \"LG\", \"Stars\": 4.6, \"Ratings\": 0, \"Reviews\": 0, \"Current_price\": 39490, \"Marked_price\": 59990, \"Operating_system\": \"Linux\"}, {\"Product_Name\": \"Vu\", \"Stars\": 0.0, \"Ratings\": 0, \"Reviews\": 0, \"Current_price\": 184990, \"Marked_price\": 200000, \"Operating_system\": \"Android\"}, {\"Product_Name\": \"SAMSUNG\", \"Stars\": 4.3, \"Ratings\": 0, \"Reviews\": 0, \"Current_price\": 19599, \"Marked_price\": 25900, \"Operating_system\": \"Linux\"}, {\"Product_Name\": \"Croma\", \"Stars\": 4.2, \"Ratings\": 0, \"Reviews\": 0, \"Current_price\": 11990, \"Marked_price\": 25000, \"Operating_system\": \"Android\"}, {\"Product_Name\": \"PHILIPS\", \"Stars\": 4.0, \"Ratings\": 0, \"Reviews\": 0, \"Current_price\": 18999, \"Marked_price\": 20990, \"Operating_system\": \"Linux\"}, {\"Product_Name\": \"SONY\", \"Stars\": 4.7, \"Ratings\": 0, \"Reviews\": 0, \"Current_price\": 169768, \"Marked_price\": 299900, \"Operating_system\": \"Google TV\"}, {\"Product_Name\": \"SAMSUNG\", \"Stars\": 4.4, \"Ratings\": 0, \"Reviews\": 0, \"Current_price\": 39699, \"Marked_price\": 53900, \"Operating_system\": \"Linux\"}, {\"Product_Name\": \"Adsun\", \"Stars\": 3.8, \"Ratings\": 6742, \"Reviews\": 930, \"Current_price\": 8999, \"Marked_price\": 29999, \"Operating_system\": \"Android\"}, {\"Product_Name\": \"SAMSUNG\", \"Stars\": 0.0, \"Ratings\": 0, \"Reviews\": 0, \"Current_price\": 57989, \"Marked_price\": 88990, \"Operating_system\": \"Tizen\"}, {\"Product_Name\": \"iFFALCON\", \"Stars\": 4.2, \"Ratings\": 0, \"Reviews\": 0, \"Current_price\": 149999, \"Marked_price\": 239999, \"Operating_system\": \"Android\"}, {\"Product_Name\": \"PHILIPS\", \"Stars\": 4.2, \"Ratings\": 0, \"Reviews\": 0, \"Current_price\": 38999, \"Marked_price\": 105990, \"Operating_system\": \"Linux\"}, {\"Product_Name\": \"Croma\", \"Stars\": 3.9, \"Ratings\": 0, \"Reviews\": 0, \"Current_price\": 18990, \"Marked_price\": 30000, \"Operating_system\": \"Android\"}, {\"Product_Name\": \"SONY\", \"Stars\": 4.6, \"Ratings\": 0, \"Reviews\": 0, \"Current_price\": 29000, \"Marked_price\": 37990, \"Operating_system\": \"Android\"}, {\"Product_Name\": \"SAMSUNG\", \"Stars\": 4.5, \"Ratings\": 6879, \"Reviews\": 1027, \"Current_price\": 81999, \"Marked_price\": 129900, \"Operating_system\": \"Tizen\"}, {\"Product_Name\": \"MarQ\", \"Stars\": 4.4, \"Ratings\": 22778, \"Reviews\": 4027, \"Current_price\": 64999, \"Marked_price\": 89499, \"Operating_system\": \"Linux\"}, {\"Product_Name\": \"Adsun\", \"Stars\": 3.8, \"Ratings\": 6742, \"Reviews\": 930, \"Current_price\": 6199, \"Marked_price\": 12999, \"Operating_system\": \"Linux\"}, {\"Product_Name\": \"SAMSUNG\", \"Stars\": 0.0, \"Ratings\": 0, \"Reviews\": 0, \"Current_price\": 470900, \"Marked_price\": 470900, \"Operating_system\": \"Tizen\"}, {\"Product_Name\": \"SONY\", \"Stars\": 3.6, \"Ratings\": 0, \"Reviews\": 0, \"Current_price\": 109999, \"Marked_price\": 164900, \"Operating_system\": \"Linux\"}, {\"Product_Name\": \"SAMSUNG\", \"Stars\": 5.0, \"Ratings\": 0, \"Reviews\": 0, \"Current_price\": 34450, \"Marked_price\": 57720, \"Operating_system\": \"Tizen\"}, {\"Product_Name\": \"Croma\", \"Stars\": 4.2, \"Ratings\": 1773, \"Reviews\": 217, \"Current_price\": 7990, \"Marked_price\": 20000, \"Operating_system\": \"Android\"}, {\"Product_Name\": \"LG\", \"Stars\": 4.3, \"Ratings\": 0, \"Reviews\": 0, \"Current_price\": 64999, \"Marked_price\": 93990, \"Operating_system\": \"Linux\"}, {\"Product_Name\": \"SAMSUNG\", \"Stars\": 4.7, \"Ratings\": 0, \"Reviews\": 0, \"Current_price\": 294900, \"Marked_price\": 294900, \"Operating_system\": \"Tizen\"}, {\"Product_Name\": \"LG\", \"Stars\": 5.0, \"Ratings\": 0, \"Reviews\": 0, \"Current_price\": 194990, \"Marked_price\": 379990, \"Operating_system\": \"WebOS\"}, {\"Product_Name\": \"Adsun\", \"Stars\": 3.8, \"Ratings\": 6730, \"Reviews\": 929, \"Current_price\": 8699, \"Marked_price\": 21999, \"Operating_system\": \"Android\"}, {\"Product_Name\": \"SONY\", \"Stars\": 0.0, \"Ratings\": 0, \"Reviews\": 0, \"Current_price\": 77500, \"Marked_price\": 99900, \"Operating_system\": \"Google TV\"}, {\"Product_Name\": \"SONY\", \"Stars\": 4.6, \"Ratings\": 0, \"Reviews\": 0, \"Current_price\": 60999, \"Marked_price\": 76900, \"Operating_system\": \"Android\"}, {\"Product_Name\": \"TCL\", \"Stars\": 5.0, \"Ratings\": 0, \"Reviews\": 0, \"Current_price\": 157490, \"Marked_price\": 299990, \"Operating_system\": \"Android\"}, {\"Product_Name\": \"Croma\", \"Stars\": 4.3, \"Ratings\": 0, \"Reviews\": 0, \"Current_price\": 11990, \"Marked_price\": 25000, \"Operating_system\": \"Android\"}, {\"Product_Name\": \"SONY\", \"Stars\": 4.7, \"Ratings\": 0, \"Reviews\": 0, \"Current_price\": 149999, \"Marked_price\": 244900, \"Operating_system\": \"Android\"}, {\"Product_Name\": \"Croma\", \"Stars\": 0.0, \"Ratings\": 0, \"Reviews\": 0, \"Current_price\": 59990, \"Marked_price\": 150000, \"Operating_system\": \"Android\"}, {\"Product_Name\": \"Haier\", \"Stars\": 4.7, \"Ratings\": 0, \"Reviews\": 0, \"Current_price\": 28590, \"Marked_price\": 46990, \"Operating_system\": \"Android\"}, {\"Product_Name\": \"Adsun\", \"Stars\": 3.8, \"Ratings\": 6730, \"Reviews\": 929, \"Current_price\": 8999, \"Marked_price\": 29999, \"Operating_system\": \"Android\"}, {\"Product_Name\": \"SONY\", \"Stars\": 4.3, \"Ratings\": 0, \"Reviews\": 0, \"Current_price\": 259999, \"Marked_price\": 449900, \"Operating_system\": \"Android\"}, {\"Product_Name\": \"Lloyd\", \"Stars\": 0.0, \"Ratings\": 0, \"Reviews\": 0, \"Current_price\": 48900, \"Marked_price\": 70490, \"Operating_system\": \"Android\"}, {\"Product_Name\": \"SAMSUNG\", \"Stars\": 0.0, \"Ratings\": 0, \"Reviews\": 0, \"Current_price\": 314900, \"Marked_price\": 314900, \"Operating_system\": \"Tizen\"}, {\"Product_Name\": \"Croma\", \"Stars\": 3.9, \"Ratings\": 0, \"Reviews\": 0, \"Current_price\": 18990, \"Marked_price\": 30000, \"Operating_system\": \"Android\"}, {\"Product_Name\": \"SAMSUNG\", \"Stars\": 4.1, \"Ratings\": 0, \"Reviews\": 0, \"Current_price\": 37490, \"Marked_price\": 40400, \"Operating_system\": \"Tizen\"}, {\"Product_Name\": \"SAMSUNG\", \"Stars\": 0.0, \"Ratings\": 0, \"Reviews\": 0, \"Current_price\": 167199, \"Marked_price\": 269900, \"Operating_system\": \"Tizen\"}, {\"Product_Name\": \"SAMSUNG\", \"Stars\": 0.0, \"Ratings\": 0, \"Reviews\": 0, \"Current_price\": 198599, \"Marked_price\": 219900, \"Operating_system\": \"Tizen\"}, {\"Product_Name\": \"Adsun\", \"Stars\": 3.8, \"Ratings\": 6730, \"Reviews\": 929, \"Current_price\": 16999, \"Marked_price\": 39999, \"Operating_system\": \"Android\"}, {\"Product_Name\": \"SAMSUNG\", \"Stars\": 4.3, \"Ratings\": 0, \"Reviews\": 0, \"Current_price\": 22499, \"Marked_price\": 24900, \"Operating_system\": \"Tizen\"}, {\"Product_Name\": \"LG\", \"Stars\": 0.0, \"Ratings\": 0, \"Reviews\": 0, \"Current_price\": 139990, \"Marked_price\": 269900, \"Operating_system\": \"WebOS\"}, {\"Product_Name\": \"IMPEX\", \"Stars\": 0.0, \"Ratings\": 0, \"Reviews\": 0, \"Current_price\": 22222, \"Marked_price\": 29790, \"Operating_system\": \"Linux\"}, {\"Product_Name\": \"Croma\", \"Stars\": 4.2, \"Ratings\": 1773, \"Reviews\": 217, \"Current_price\": 7990, \"Marked_price\": 20000, \"Operating_system\": \"Android\"}, {\"Product_Name\": \"KODAK\", \"Stars\": 4.4, \"Ratings\": 1693, \"Reviews\": 368, \"Current_price\": 23999, \"Marked_price\": 33999, \"Operating_system\": \"Android\"}, {\"Product_Name\": \"LG\", \"Stars\": 0.0, \"Ratings\": 0, \"Reviews\": 0, \"Current_price\": 91564, \"Marked_price\": 139990, \"Operating_system\": \"WebOS\"}, {\"Product_Name\": \"SAMSUNG\", \"Stars\": 3.9, \"Ratings\": 0, \"Reviews\": 0, \"Current_price\": 241900, \"Marked_price\": 241900, \"Operating_system\": \"Linux\"}, {\"Product_Name\": \"Adsun\", \"Stars\": 3.8, \"Ratings\": 6742, \"Reviews\": 930, \"Current_price\": 8699, \"Marked_price\": 21999, \"Operating_system\": \"Android\"}, {\"Product_Name\": \"LG\", \"Stars\": 4.3, \"Ratings\": 0, \"Reviews\": 0, \"Current_price\": 57500, \"Marked_price\": 84990, \"Operating_system\": \"WebOS\"}, {\"Product_Name\": \"LG\", \"Stars\": 0.0, \"Ratings\": 0, \"Reviews\": 0, \"Current_price\": 296474, \"Marked_price\": 549990, \"Operating_system\": \"WebOS\"}, {\"Product_Name\": \"MarQ\", \"Stars\": 4.4, \"Ratings\": 0, \"Reviews\": 0, \"Current_price\": 64999, \"Marked_price\": 94499, \"Operating_system\": \"Android\"}, {\"Product_Name\": \"Croma\", \"Stars\": 4.2, \"Ratings\": 0, \"Reviews\": 0, \"Current_price\": 11990, \"Marked_price\": 25000, \"Operating_system\": \"Android\"}, {\"Product_Name\": \"Croma\", \"Stars\": 4.3, \"Ratings\": 0, \"Reviews\": 0, \"Current_price\": 29990, \"Marked_price\": 50000, \"Operating_system\": \"FireTv OS 6\"}, {\"Product_Name\": \"Micromax\", \"Stars\": 4.0, \"Ratings\": 2677, \"Reviews\": 763, \"Current_price\": 91990, \"Marked_price\": 91990, \"Operating_system\": \"Linux\"}, {\"Product_Name\": \"LG\", \"Stars\": 0.0, \"Ratings\": 0, \"Reviews\": 0, \"Current_price\": 349999, \"Marked_price\": 499990, \"Operating_system\": \"WebOS\"}, {\"Product_Name\": \"Adsun\", \"Stars\": 3.8, \"Ratings\": 6742, \"Reviews\": 930, \"Current_price\": 8999, \"Marked_price\": 29999, \"Operating_system\": \"Android\"}, {\"Product_Name\": \"LG\", \"Stars\": 4.8, \"Ratings\": 0, \"Reviews\": 0, \"Current_price\": 249999, \"Marked_price\": 409990, \"Operating_system\": \"WebOS\"}, {\"Product_Name\": \"Croma\", \"Stars\": 2.3, \"Ratings\": 0, \"Reviews\": 0, \"Current_price\": 25990, \"Marked_price\": 40000, \"Operating_system\": \"FireTv OS 6\"}, {\"Product_Name\": \"LG\", \"Stars\": 5.0, \"Ratings\": 0, \"Reviews\": 0, \"Current_price\": 356990, \"Marked_price\": 356990, \"Operating_system\": \"Linux\"}, {\"Product_Name\": \"Croma\", \"Stars\": 3.9, \"Ratings\": 0, \"Reviews\": 0, \"Current_price\": 18990, \"Marked_price\": 30000, \"Operating_system\": \"Android\"}, {\"Product_Name\": \"SONY\", \"Stars\": 4.4, \"Ratings\": 0, \"Reviews\": 0, \"Current_price\": 75099, \"Marked_price\": 89900, \"Operating_system\": \"Android\"}, {\"Product_Name\": \"LG\", \"Stars\": 0.0, \"Ratings\": 0, \"Reviews\": 0, \"Current_price\": 86559, \"Marked_price\": 149990, \"Operating_system\": \"WebOS\"}, {\"Product_Name\": \"Micromax\", \"Stars\": 3.9, \"Ratings\": 0, \"Reviews\": 0, \"Current_price\": 12999, \"Marked_price\": 24990, \"Operating_system\": \"Android\"}, {\"Product_Name\": \"Adsun\", \"Stars\": 3.8, \"Ratings\": 6742, \"Reviews\": 930, \"Current_price\": 6199, \"Marked_price\": 12999, \"Operating_system\": \"Linux\"}, {\"Product_Name\": \"TOSHIBA\", \"Stars\": 4.3, \"Ratings\": 0, \"Reviews\": 0, \"Current_price\": 25999, \"Marked_price\": 31990, \"Operating_system\": \"VIDAA\"}, {\"Product_Name\": \"IGO\", \"Stars\": 4.1, \"Ratings\": 0, \"Reviews\": 0, \"Current_price\": 17999, \"Marked_price\": 29990, \"Operating_system\": \"Android\"}, {\"Product_Name\": \"MOTOROLA\", \"Stars\": 4.3, \"Ratings\": 2857, \"Reviews\": 482, \"Current_price\": 32999, \"Marked_price\": 35999, \"Operating_system\": \"Android\"}, {\"Product_Name\": \"Croma\", \"Stars\": 4.2, \"Ratings\": 1773, \"Reviews\": 217, \"Current_price\": 7990, \"Marked_price\": 20000, \"Operating_system\": \"Android\"}, {\"Product_Name\": \"SAMSUNG\", \"Stars\": 0.0, \"Ratings\": 0, \"Reviews\": 0, \"Current_price\": 45785, \"Marked_price\": 45900, \"Operating_system\": \"Tizen\"}, {\"Product_Name\": \"SONY\", \"Stars\": 4.7, \"Ratings\": 0, \"Reviews\": 0, \"Current_price\": 46799, \"Marked_price\": 52900, \"Operating_system\": \"Android\"}, {\"Product_Name\": \"SAMSUNG\", \"Stars\": 0.0, \"Ratings\": 0, \"Reviews\": 0, \"Current_price\": 93899, \"Marked_price\": 135900, \"Operating_system\": \"Tizen\"}, {\"Product_Name\": \"Adsun\", \"Stars\": 3.8, \"Ratings\": 6742, \"Reviews\": 930, \"Current_price\": 8699, \"Marked_price\": 21999, \"Operating_system\": \"Android\"}, {\"Product_Name\": \"LG\", \"Stars\": 0.0, \"Ratings\": 0, \"Reviews\": 0, \"Current_price\": 141520, \"Marked_price\": 166990, \"Operating_system\": \"WebOS\"}, {\"Product_Name\": \"SAMSUNG\", \"Stars\": 5.0, \"Ratings\": 0, \"Reviews\": 0, \"Current_price\": 58990, \"Marked_price\": 82400, \"Operating_system\": \"Tizen\"}, {\"Product_Name\": \"SAMSUNG\", \"Stars\": 0.0, \"Ratings\": 0, \"Reviews\": 0, \"Current_price\": 81990, \"Marked_price\": 115999, \"Operating_system\": \"Tizen\"}, {\"Product_Name\": \"Croma\", \"Stars\": 4.2, \"Ratings\": 0, \"Reviews\": 0, \"Current_price\": 11990, \"Marked_price\": 25000, \"Operating_system\": \"Android\"}, {\"Product_Name\": \"Hisense\", \"Stars\": 4.3, \"Ratings\": 0, \"Reviews\": 0, \"Current_price\": 40990, \"Marked_price\": 59990, \"Operating_system\": \"Android\"}, {\"Product_Name\": \"SAMSUNG\", \"Stars\": 0.0, \"Ratings\": 0, \"Reviews\": 0, \"Current_price\": 109990, \"Marked_price\": 169990, \"Operating_system\": \"Tizen\"}, {\"Product_Name\": \"SAMSUNG\", \"Stars\": 3.0, \"Ratings\": 0, \"Reviews\": 0, \"Current_price\": 258999, \"Marked_price\": 419900, \"Operating_system\": \"Tizen\"}, {\"Product_Name\": \"Adsun\", \"Stars\": 3.8, \"Ratings\": 6742, \"Reviews\": 930, \"Current_price\": 8999, \"Marked_price\": 29999, \"Operating_system\": \"Android\"}, {\"Product_Name\": \"LG\", \"Stars\": 4.7, \"Ratings\": 0, \"Reviews\": 0, \"Current_price\": 60990, \"Marked_price\": 91990, \"Operating_system\": \"WebOS\"}, {\"Product_Name\": \"Sansui\", \"Stars\": 3.7, \"Ratings\": 0, \"Reviews\": 0, \"Current_price\": 69200, \"Marked_price\": 69200, \"Operating_system\": \"Linux\"}, {\"Product_Name\": \"Hisense\", \"Stars\": 4.2, \"Ratings\": 3884, \"Reviews\": 735, \"Current_price\": 17499, \"Marked_price\": 17990, \"Operating_system\": \"Android\"}, {\"Product_Name\": \"Croma\", \"Stars\": 3.9, \"Ratings\": 0, \"Reviews\": 0, \"Current_price\": 18990, \"Marked_price\": 30000, \"Operating_system\": \"Android\"}, {\"Product_Name\": \"SAMSUNG\", \"Stars\": 3.0, \"Ratings\": 0, \"Reviews\": 0, \"Current_price\": 204900, \"Marked_price\": 204900, \"Operating_system\": \"Tizen\"}, {\"Product_Name\": \"LG\", \"Stars\": 4.8, \"Ratings\": 0, \"Reviews\": 0, \"Current_price\": 146620, \"Marked_price\": 209990, \"Operating_system\": \"WebOS\"}, {\"Product_Name\": \"LG\", \"Stars\": 4.6, \"Ratings\": 0, \"Reviews\": 0, \"Current_price\": 324990, \"Marked_price\": 324990, \"Operating_system\": \"WebOS\"}, {\"Product_Name\": \"Adsun\", \"Stars\": 3.8, \"Ratings\": 6742, \"Reviews\": 930, \"Current_price\": 16999, \"Marked_price\": 39999, \"Operating_system\": \"Android\"}, {\"Product_Name\": \"IMPEX\", \"Stars\": 0.0, \"Ratings\": 0, \"Reviews\": 0, \"Current_price\": 49679, \"Marked_price\": 49690, \"Operating_system\": \"Linux\"}, {\"Product_Name\": \"MarQ\", \"Stars\": 4.1, \"Ratings\": 6767, \"Reviews\": 896, \"Current_price\": 23999, \"Marked_price\": 28999, \"Operating_system\": \"Android\"}, {\"Product_Name\": \"SAMSUNG\", \"Stars\": 0.0, \"Ratings\": 0, \"Reviews\": 0, \"Current_price\": 56450, \"Marked_price\": 80000, \"Operating_system\": \"Tizen\"}, {\"Product_Name\": \"Croma\", \"Stars\": 4.2, \"Ratings\": 1773, \"Reviews\": 217, \"Current_price\": 7990, \"Marked_price\": 20000, \"Operating_system\": \"Android\"}, {\"Product_Name\": \"Croma\", \"Stars\": 5.0, \"Ratings\": 0, \"Reviews\": 0, \"Current_price\": 16990, \"Marked_price\": 25000, \"Operating_system\": \"FireTv OS 6\"}, {\"Product_Name\": \"LG\", \"Stars\": 0.0, \"Ratings\": 0, \"Reviews\": 0, \"Current_price\": 125390, \"Marked_price\": 209990, \"Operating_system\": \"WebOS\"}, {\"Product_Name\": \"LG\", \"Stars\": 4.7, \"Ratings\": 0, \"Reviews\": 0, \"Current_price\": 159999, \"Marked_price\": 214990, \"Operating_system\": \"WebOS\"}, {\"Product_Name\": \"Adsun\", \"Stars\": 3.8, \"Ratings\": 6742, \"Reviews\": 930, \"Current_price\": 8699, \"Marked_price\": 21999, \"Operating_system\": \"Android\"}, {\"Product_Name\": \"LG\", \"Stars\": 4.5, \"Ratings\": 0, \"Reviews\": 0, \"Current_price\": 64999, \"Marked_price\": 99990, \"Operating_system\": \"WebOS\"}, {\"Product_Name\": \"LG\", \"Stars\": 4.2, \"Ratings\": 0, \"Reviews\": 0, \"Current_price\": 19900, \"Marked_price\": 21900, \"Operating_system\": \"Linux\"}, {\"Product_Name\": \"LG\", \"Stars\": 0.0, \"Ratings\": 0, \"Reviews\": 0, \"Current_price\": 56440, \"Marked_price\": 84990, \"Operating_system\": \"WebOS\"}, {\"Product_Name\": \"Croma\", \"Stars\": 4.2, \"Ratings\": 0, \"Reviews\": 0, \"Current_price\": 11990, \"Marked_price\": 25000, \"Operating_system\": \"Android\"}, {\"Product_Name\": \"SAMSUNG\", \"Stars\": 4.5, \"Ratings\": 0, \"Reviews\": 0, \"Current_price\": 144990, \"Marked_price\": 211900, \"Operating_system\": \"Linux\"}, {\"Product_Name\": \"SAMSUNG\", \"Stars\": 0.0, \"Ratings\": 0, \"Reviews\": 0, \"Current_price\": 318700, \"Marked_price\": 399900, \"Operating_system\": \"Tizen\"}, {\"Product_Name\": \"Vu\", \"Stars\": 4.2, \"Ratings\": 0, \"Reviews\": 0, \"Current_price\": 116000, \"Marked_price\": 116000, \"Operating_system\": \"Android\"}, {\"Product_Name\": \"Adsun\", \"Stars\": 3.8, \"Ratings\": 6742, \"Reviews\": 930, \"Current_price\": 8999, \"Marked_price\": 29999, \"Operating_system\": \"Android\"}, {\"Product_Name\": \"ONIDA\", \"Stars\": 0.0, \"Ratings\": 0, \"Reviews\": 0, \"Current_price\": 28999, \"Marked_price\": 33490, \"Operating_system\": \"Linux\"}, {\"Product_Name\": \"SAMSUNG\", \"Stars\": 4.4, \"Ratings\": 0, \"Reviews\": 0, \"Current_price\": 129900, \"Marked_price\": 129900, \"Operating_system\": \"Tizen\"}, {\"Product_Name\": \"Adsun\", \"Stars\": 3.8, \"Ratings\": 6742, \"Reviews\": 930, \"Current_price\": 6999, \"Marked_price\": 18999, \"Operating_system\": \"Android\"}, {\"Product_Name\": \"Croma\", \"Stars\": 3.9, \"Ratings\": 0, \"Reviews\": 0, \"Current_price\": 18990, \"Marked_price\": 30000, \"Operating_system\": \"Android\"}, {\"Product_Name\": \"SAMSUNG\", \"Stars\": 4.7, \"Ratings\": 0, \"Reviews\": 0, \"Current_price\": 122299, \"Marked_price\": 209900, \"Operating_system\": \"Tizen\"}, {\"Product_Name\": \"SONY\", \"Stars\": 4.7, \"Ratings\": 0, \"Reviews\": 0, \"Current_price\": 63500, \"Marked_price\": 82900, \"Operating_system\": \"Google TV\"}, {\"Product_Name\": \"SAMSUNG\", \"Stars\": 4.0, \"Ratings\": 0, \"Reviews\": 0, \"Current_price\": 18740, \"Marked_price\": 21900, \"Operating_system\": \"Tizen\"}, {\"Product_Name\": \"Adsun\", \"Stars\": 3.8, \"Ratings\": 6742, \"Reviews\": 930, \"Current_price\": 6199, \"Marked_price\": 12999, \"Operating_system\": \"Linux\"}, {\"Product_Name\": \"Panasonic\", \"Stars\": 0.0, \"Ratings\": 0, \"Reviews\": 0, \"Current_price\": 87439, \"Marked_price\": 119990, \"Operating_system\": \"Android\"}, {\"Product_Name\": \"SAMSUNG\", \"Stars\": 2.3, \"Ratings\": 0, \"Reviews\": 0, \"Current_price\": 341900, \"Marked_price\": 399900, \"Operating_system\": \"Tizen\"}, {\"Product_Name\": \"LG\", \"Stars\": 0.0, \"Ratings\": 0, \"Reviews\": 0, \"Current_price\": 217000, \"Marked_price\": 254990, \"Operating_system\": \"WebOS\"}, {\"Product_Name\": \"Croma\", \"Stars\": 4.2, \"Ratings\": 1773, \"Reviews\": 217, \"Current_price\": 7990, \"Marked_price\": 20000, \"Operating_system\": \"Android\"}, {\"Product_Name\": \"kinger\", \"Stars\": 0.0, \"Ratings\": 0, \"Reviews\": 0, \"Current_price\": 12999, \"Marked_price\": 22490, \"Operating_system\": \"Android\"}, {\"Product_Name\": \"LG\", \"Stars\": 0.0, \"Ratings\": 0, \"Reviews\": 0, \"Current_price\": 269999, \"Marked_price\": 339990, \"Operating_system\": \"WebOS\"}, {\"Product_Name\": \"SAMSUNG\", \"Stars\": 0.0, \"Ratings\": 0, \"Reviews\": 0, \"Current_price\": 341990, \"Marked_price\": 441900, \"Operating_system\": \"Tizen\"}, {\"Product_Name\": \"Adsun\", \"Stars\": 3.8, \"Ratings\": 6730, \"Reviews\": 929, \"Current_price\": 8699, \"Marked_price\": 21999, \"Operating_system\": \"Android\"}, {\"Product_Name\": \"LG\", \"Stars\": 0.0, \"Ratings\": 0, \"Reviews\": 0, \"Current_price\": 174999, \"Marked_price\": 209990, \"Operating_system\": \"WebOS\"}, {\"Product_Name\": \"SAMSUNG\", \"Stars\": 5.0, \"Ratings\": 0, \"Reviews\": 0, \"Current_price\": 154900, \"Marked_price\": 154900, \"Operating_system\": \"Tizen\"}, {\"Product_Name\": \"BPL\", \"Stars\": 0.0, \"Ratings\": 0, \"Reviews\": 0, \"Current_price\": 34990, \"Marked_price\": 60000, \"Operating_system\": \"Linux\"}, {\"Product_Name\": \"Croma\", \"Stars\": 4.3, \"Ratings\": 0, \"Reviews\": 0, \"Current_price\": 11990, \"Marked_price\": 25000, \"Operating_system\": \"Android\"}, {\"Product_Name\": \"SAMSUNG\", \"Stars\": 4.4, \"Ratings\": 0, \"Reviews\": 0, \"Current_price\": 179900, \"Marked_price\": 179900, \"Operating_system\": \"Linux\"}, {\"Product_Name\": \"SAMSUNG\", \"Stars\": 3.4, \"Ratings\": 0, \"Reviews\": 0, \"Current_price\": 129900, \"Marked_price\": 129900, \"Operating_system\": \"Tizen\"}, {\"Product_Name\": \"SAMSUNG\", \"Stars\": 0.0, \"Ratings\": 0, \"Reviews\": 0, \"Current_price\": 440900, \"Marked_price\": 440900, \"Operating_system\": \"Tizen\"}, {\"Product_Name\": \"Adsun\", \"Stars\": 3.8, \"Ratings\": 6730, \"Reviews\": 929, \"Current_price\": 8999, \"Marked_price\": 29999, \"Operating_system\": \"Android\"}, {\"Product_Name\": \"MOTOROLA\", \"Stars\": 4.4, \"Ratings\": 2762, \"Reviews\": 508, \"Current_price\": 44999, \"Marked_price\": 49999, \"Operating_system\": \"Android\"}, {\"Product_Name\": \"Adsun\", \"Stars\": 0.0, \"Ratings\": 0, \"Reviews\": 0, \"Current_price\": 27999, \"Marked_price\": 43999, \"Operating_system\": \"Android\"}, {\"Product_Name\": \"TCL\", \"Stars\": 3.9, \"Ratings\": 0, \"Reviews\": 0, \"Current_price\": 47499, \"Marked_price\": 79990, \"Operating_system\": \"Linux\"}, {\"Product_Name\": \"Croma\", \"Stars\": 3.9, \"Ratings\": 0, \"Reviews\": 0, \"Current_price\": 18990, \"Marked_price\": 30000, \"Operating_system\": \"Android\"}, {\"Product_Name\": \"SAMSUNG\", \"Stars\": 0.0, \"Ratings\": 0, \"Reviews\": 0, \"Current_price\": 50990, \"Marked_price\": 64900, \"Operating_system\": \"Tizen\"}, {\"Product_Name\": \"LG\", \"Stars\": 4.4, \"Ratings\": 0, \"Reviews\": 0, \"Current_price\": 54990, \"Marked_price\": 54990, \"Operating_system\": \"WebOS\"}, {\"Product_Name\": \"Nokia\", \"Stars\": 4.3, \"Ratings\": 23243, \"Reviews\": 3975, \"Current_price\": 16999, \"Marked_price\": 19999, \"Operating_system\": \"Android\"}, {\"Product_Name\": \"Adsun\", \"Stars\": 3.8, \"Ratings\": 6730, \"Reviews\": 929, \"Current_price\": 16999, \"Marked_price\": 39999, \"Operating_system\": \"Android\"}, {\"Product_Name\": \"SONY\", \"Stars\": 0.0, \"Ratings\": 0, \"Reviews\": 0, \"Current_price\": 122000, \"Marked_price\": 199990, \"Operating_system\": \"Linux\"}, {\"Product_Name\": \"Sansui\", \"Stars\": 4.3, \"Ratings\": 0, \"Reviews\": 0, \"Current_price\": 119990, \"Marked_price\": 119990, \"Operating_system\": \"Linux\"}, {\"Product_Name\": \"Croma\", \"Stars\": 0.0, \"Ratings\": 0, \"Reviews\": 0, \"Current_price\": 32990, \"Marked_price\": 60000, \"Operating_system\": \"Android\"}, {\"Product_Name\": \"Vu\", \"Stars\": 4.1, \"Ratings\": 0, \"Reviews\": 0, \"Current_price\": 50851, \"Marked_price\": 51000, \"Operating_system\": \"Android\"}, {\"Product_Name\": \"SAMSUNG\", \"Stars\": 0.0, \"Ratings\": 0, \"Reviews\": 0, \"Current_price\": 149990, \"Marked_price\": 257900, \"Operating_system\": \"Tizen\"}, {\"Product_Name\": \"SAMSUNG\", \"Stars\": 0.0, \"Ratings\": 0, \"Reviews\": 0, \"Current_price\": 119990, \"Marked_price\": 192990, \"Operating_system\": \"Linux\"}, {\"Product_Name\": \"SAMSUNG\", \"Stars\": 3.9, \"Ratings\": 0, \"Reviews\": 0, \"Current_price\": 62900, \"Marked_price\": 62900, \"Operating_system\": \"Tizen\"}, {\"Product_Name\": \"LG\", \"Stars\": 4.7, \"Ratings\": 0, \"Reviews\": 0, \"Current_price\": 164999, \"Marked_price\": 264990, \"Operating_system\": \"WebOS\"}, {\"Product_Name\": \"LG\", \"Stars\": 4.6, \"Ratings\": 0, \"Reviews\": 0, \"Current_price\": 149999, \"Marked_price\": 229990, \"Operating_system\": \"WebOS\"}, {\"Product_Name\": \"LG\", \"Stars\": 4.6, \"Ratings\": 0, \"Reviews\": 0, \"Current_price\": 49990, \"Marked_price\": 74990, \"Operating_system\": \"WebOS\"}, {\"Product_Name\": \"SAMSUNG\", \"Stars\": 4.0, \"Ratings\": 0, \"Reviews\": 0, \"Current_price\": 26900, \"Marked_price\": 26900, \"Operating_system\": \"Linux\"}, {\"Product_Name\": \"SAMSUNG\", \"Stars\": 4.6, \"Ratings\": 0, \"Reviews\": 0, \"Current_price\": 85000, \"Marked_price\": 134900, \"Operating_system\": \"Tizen\"}, {\"Product_Name\": \"Adsun\", \"Stars\": 3.8, \"Ratings\": 6730, \"Reviews\": 929, \"Current_price\": 7999, \"Marked_price\": 16999, \"Operating_system\": \"Linux\"}, {\"Product_Name\": \"SAMSUNG\", \"Stars\": 5.0, \"Ratings\": 0, \"Reviews\": 0, \"Current_price\": 179999, \"Marked_price\": 374900, \"Operating_system\": \"Tizen\"}, {\"Product_Name\": \"Panasonic\", \"Stars\": 0.0, \"Ratings\": 0, \"Reviews\": 0, \"Current_price\": 55915, \"Marked_price\": 73990, \"Operating_system\": \"Android\"}, {\"Product_Name\": \"LG\", \"Stars\": 4.4, \"Ratings\": 0, \"Reviews\": 0, \"Current_price\": 89990, \"Marked_price\": 159990, \"Operating_system\": \"WebOS\"}, {\"Product_Name\": \"Compaq\", \"Stars\": 4.3, \"Ratings\": 0, \"Reviews\": 0, \"Current_price\": 99999, \"Marked_price\": 229990, \"Operating_system\": \"Android\"}, {\"Product_Name\": \"LG\", \"Stars\": 4.5, \"Ratings\": 0, \"Reviews\": 0, \"Current_price\": 80990, \"Marked_price\": 80990, \"Operating_system\": \"Linux\"}, {\"Product_Name\": \"TCL\", \"Stars\": 0.0, \"Ratings\": 0, \"Reviews\": 0, \"Current_price\": 58999, \"Marked_price\": 119900, \"Operating_system\": \"Android\"}, {\"Product_Name\": \"InnoQ\", \"Stars\": 4.1, \"Ratings\": 0, \"Reviews\": 0, \"Current_price\": 13790, \"Marked_price\": 35990, \"Operating_system\": \"Android\"}, {\"Product_Name\": \"SONY\", \"Stars\": 4.3, \"Ratings\": 0, \"Reviews\": 0, \"Current_price\": 27489, \"Marked_price\": 29900, \"Operating_system\": \"Linux\"}, {\"Product_Name\": \"Blaupunkt\", \"Stars\": 4.4, \"Ratings\": 6977, \"Reviews\": 1601, \"Current_price\": 19999, \"Marked_price\": 28999, \"Operating_system\": \"Android\"}, {\"Product_Name\": \"SAMSUNG\", \"Stars\": 4.3, \"Ratings\": 0, \"Reviews\": 0, \"Current_price\": 69500, \"Marked_price\": 69500, \"Operating_system\": \"Linux\"}, {\"Product_Name\": \"LG\", \"Stars\": 4.8, \"Ratings\": 0, \"Reviews\": 0, \"Current_price\": 77990, \"Marked_price\": 77990, \"Operating_system\": \"Linux\"}, {\"Product_Name\": \"SONY\", \"Stars\": 4.3, \"Ratings\": 0, \"Reviews\": 0, \"Current_price\": 27489, \"Marked_price\": 29900, \"Operating_system\": \"Linux\"}, {\"Product_Name\": \"SAMSUNG\", \"Stars\": 4.3, \"Ratings\": 0, \"Reviews\": 0, \"Current_price\": 69500, \"Marked_price\": 69500, \"Operating_system\": \"Linux\"}, {\"Product_Name\": \"SAMSUNG\", \"Stars\": 0.0, \"Ratings\": 0, \"Reviews\": 0, \"Current_price\": 109990, \"Marked_price\": 145900, \"Operating_system\": \"Tizen\"}, {\"Product_Name\": \"Croma\", \"Stars\": 4.2, \"Ratings\": 1773, \"Reviews\": 217, \"Current_price\": 7990, \"Marked_price\": 20000, \"Operating_system\": \"Android\"}, {\"Product_Name\": \"SAMSUNG\", \"Stars\": 3.6, \"Ratings\": 0, \"Reviews\": 0, \"Current_price\": 284900, \"Marked_price\": 284900, \"Operating_system\": \"Tizen\"}, {\"Product_Name\": \"LG\", \"Stars\": 4.4, \"Ratings\": 0, \"Reviews\": 0, \"Current_price\": 68990, \"Marked_price\": 68990, \"Operating_system\": \"WebOS\"}, {\"Product_Name\": \"PHILIPS\", \"Stars\": 4.2, \"Ratings\": 0, \"Reviews\": 0, \"Current_price\": 48999, \"Marked_price\": 89900, \"Operating_system\": \"Android\"}, {\"Product_Name\": \"Adsun\", \"Stars\": 3.8, \"Ratings\": 6742, \"Reviews\": 930, \"Current_price\": 8699, \"Marked_price\": 21999, \"Operating_system\": \"Android\"}, {\"Product_Name\": \"SAMSUNG\", \"Stars\": 4.2, \"Ratings\": 625, \"Reviews\": 131, \"Current_price\": 48900, \"Marked_price\": 48900, \"Operating_system\": \"Linux\"}, {\"Product_Name\": \"Dyanora\", \"Stars\": 3.8, \"Ratings\": 0, \"Reviews\": 0, \"Current_price\": 9499, \"Marked_price\": 18999, \"Operating_system\": \"Android\"}, {\"Product_Name\": \"kinger\", \"Stars\": 0.0, \"Ratings\": 0, \"Reviews\": 0, \"Current_price\": 12999, \"Marked_price\": 22490, \"Operating_system\": \"Android\"}, {\"Product_Name\": \"Croma\", \"Stars\": 4.2, \"Ratings\": 0, \"Reviews\": 0, \"Current_price\": 11990, \"Marked_price\": 25000, \"Operating_system\": \"Android\"}, {\"Product_Name\": \"LG\", \"Stars\": 4.3, \"Ratings\": 0, \"Reviews\": 0, \"Current_price\": 64990, \"Marked_price\": 102990, \"Operating_system\": \"WebOS\"}, {\"Product_Name\": \"LG\", \"Stars\": 4.2, \"Ratings\": 0, \"Reviews\": 0, \"Current_price\": 103990, \"Marked_price\": 103990, \"Operating_system\": \"WebOS\"}, {\"Product_Name\": \"SAMSUNG\", \"Stars\": 0.0, \"Ratings\": 0, \"Reviews\": 0, \"Current_price\": 229900, \"Marked_price\": 229900, \"Operating_system\": \"Tizen\"}, {\"Product_Name\": \"Adsun\", \"Stars\": 3.8, \"Ratings\": 6742, \"Reviews\": 930, \"Current_price\": 8999, \"Marked_price\": 29999, \"Operating_system\": \"Android\"}, {\"Product_Name\": \"Sansui\", \"Stars\": 0.0, \"Ratings\": 0, \"Reviews\": 0, \"Current_price\": 13290, \"Marked_price\": 17990, \"Operating_system\": \"Linux\"}, {\"Product_Name\": \"IMPEX\", \"Stars\": 0.0, \"Ratings\": 0, \"Reviews\": 0, \"Current_price\": 21549, \"Marked_price\": 33990, \"Operating_system\": \"Android\"}, {\"Product_Name\": \"SAMSUNG\", \"Stars\": 0.0, \"Ratings\": 0, \"Reviews\": 0, \"Current_price\": 104950, \"Marked_price\": 209900, \"Operating_system\": \"Tizen\"}, {\"Product_Name\": \"Croma\", \"Stars\": 3.9, \"Ratings\": 0, \"Reviews\": 0, \"Current_price\": 18990, \"Marked_price\": 30000, \"Operating_system\": \"Android\"}, {\"Product_Name\": \"LG\", \"Stars\": 0.0, \"Ratings\": 0, \"Reviews\": 0, \"Current_price\": 74990, \"Marked_price\": 149990, \"Operating_system\": \"WebOS\"}, {\"Product_Name\": \"kinger\", \"Stars\": 0.0, \"Ratings\": 0, \"Reviews\": 0, \"Current_price\": 12999, \"Marked_price\": 22490, \"Operating_system\": \"Android\"}, {\"Product_Name\": \"Thomson\", \"Stars\": 4.4, \"Ratings\": 4207, \"Reviews\": 868, \"Current_price\": 23999, \"Marked_price\": 33999, \"Operating_system\": \"Android\"}, {\"Product_Name\": \"Adsun\", \"Stars\": 3.8, \"Ratings\": 6742, \"Reviews\": 930, \"Current_price\": 16999, \"Marked_price\": 39999, \"Operating_system\": \"Android\"}, {\"Product_Name\": \"LG\", \"Stars\": 0.0, \"Ratings\": 0, \"Reviews\": 0, \"Current_price\": 189990, \"Marked_price\": 379990, \"Operating_system\": \"WebOS\"}, {\"Product_Name\": \"SAMSUNG\", \"Stars\": 3.7, \"Ratings\": 0, \"Reviews\": 0, \"Current_price\": 155900, \"Marked_price\": 155900, \"Operating_system\": \"Tizen\"}, {\"Product_Name\": \"SAMSUNG\", \"Stars\": 0.0, \"Ratings\": 0, \"Reviews\": 0, \"Current_price\": 295900, \"Marked_price\": 295900, \"Operating_system\": \"Linux\"}, {\"Product_Name\": \"Croma\", \"Stars\": 4.2, \"Ratings\": 1773, \"Reviews\": 217, \"Current_price\": 7990, \"Marked_price\": 20000, \"Operating_system\": \"Android\"}, {\"Product_Name\": \"SAMSUNG\", \"Stars\": 4.5, \"Ratings\": 0, \"Reviews\": 0, \"Current_price\": 104900, \"Marked_price\": 104900, \"Operating_system\": \"Tizen\"}, {\"Product_Name\": \"PHILIPS\", \"Stars\": 0.0, \"Ratings\": 0, \"Reviews\": 0, \"Current_price\": 48900, \"Marked_price\": 89990, \"Operating_system\": \"Android\"}, {\"Product_Name\": \"SAMSUNG\", \"Stars\": 4.0, \"Ratings\": 0, \"Reviews\": 0, \"Current_price\": 53999, \"Marked_price\": 70900, \"Operating_system\": \"Tizen\"}, {\"Product_Name\": \"Croma\", \"Stars\": 4.3, \"Ratings\": 0, \"Reviews\": 0, \"Current_price\": 11990, \"Marked_price\": 25000, \"Operating_system\": \"Android\"}, {\"Product_Name\": \"Panasonic\", \"Stars\": 4.4, \"Ratings\": 0, \"Reviews\": 0, \"Current_price\": 69999, \"Marked_price\": 139900, \"Operating_system\": \"Linux\"}, {\"Product_Name\": \"LG\", \"Stars\": 4.4, \"Ratings\": 0, \"Reviews\": 0, \"Current_price\": 79990, \"Marked_price\": 79990, \"Operating_system\": \"Linux\"}, {\"Product_Name\": \"CORNEA\", \"Stars\": 0.0, \"Ratings\": 0, \"Reviews\": 0, \"Current_price\": 228999, \"Marked_price\": 299999, \"Operating_system\": \"Android\"}, {\"Product_Name\": \"Adsun\", \"Stars\": 3.8, \"Ratings\": 6730, \"Reviews\": 929, \"Current_price\": 8999, \"Marked_price\": 29999, \"Operating_system\": \"Android\"}, {\"Product_Name\": \"LG\", \"Stars\": 0.0, \"Ratings\": 0, \"Reviews\": 0, \"Current_price\": 170400, \"Marked_price\": 299990, \"Operating_system\": \"WebOS\"}, {\"Product_Name\": \"Adsun\", \"Stars\": 3.8, \"Ratings\": 6730, \"Reviews\": 929, \"Current_price\": 8699, \"Marked_price\": 21999, \"Operating_system\": \"Android\"}, {\"Product_Name\": \"SAMSUNG\", \"Stars\": 4.5, \"Ratings\": 0, \"Reviews\": 0, \"Current_price\": 146900, \"Marked_price\": 146900, \"Operating_system\": \"Linux\"}, {\"Product_Name\": \"Croma\", \"Stars\": 3.9, \"Ratings\": 0, \"Reviews\": 0, \"Current_price\": 18990, \"Marked_price\": 30000, \"Operating_system\": \"Android\"}, {\"Product_Name\": \"iMEE\", \"Stars\": 0.0, \"Ratings\": 0, \"Reviews\": 0, \"Current_price\": 9899, \"Marked_price\": 18999, \"Operating_system\": \"Android\"}, {\"Product_Name\": \"kinger\", \"Stars\": 0.0, \"Ratings\": 0, \"Reviews\": 0, \"Current_price\": 12999, \"Marked_price\": 22490, \"Operating_system\": \"Android\"}, {\"Product_Name\": \"Adsun\", \"Stars\": 3.8, \"Ratings\": 6730, \"Reviews\": 929, \"Current_price\": 6199, \"Marked_price\": 12999, \"Operating_system\": \"Linux\"}, {\"Product_Name\": \"Panasonic\", \"Stars\": 0.0, \"Ratings\": 0, \"Reviews\": 0, \"Current_price\": 56990, \"Marked_price\": 69990, \"Operating_system\": \"Android\"}, {\"Product_Name\": \"Panasonic\", \"Stars\": 0.0, \"Ratings\": 0, \"Reviews\": 0, \"Current_price\": 62990, \"Marked_price\": 82990, \"Operating_system\": \"Linux\"}, {\"Product_Name\": \"iMEE\", \"Stars\": 0.0, \"Ratings\": 0, \"Reviews\": 0, \"Current_price\": 9899, \"Marked_price\": 18999, \"Operating_system\": \"Android\"}, {\"Product_Name\": \"Adsun\", \"Stars\": 3.8, \"Ratings\": 6730, \"Reviews\": 929, \"Current_price\": 16999, \"Marked_price\": 39999, \"Operating_system\": \"Android\"}, {\"Product_Name\": \"Panasonic\", \"Stars\": 3.7, \"Ratings\": 0, \"Reviews\": 0, \"Current_price\": 43805, \"Marked_price\": 56990, \"Operating_system\": \"Android\"}, {\"Product_Name\": \"HUIDI\", \"Stars\": 0.0, \"Ratings\": 0, \"Reviews\": 0, \"Current_price\": 7399, \"Marked_price\": 16599, \"Operating_system\": \"Linux\"}, {\"Product_Name\": \"LumX\", \"Stars\": 4.1, \"Ratings\": 0, \"Reviews\": 0, \"Current_price\": 7349, \"Marked_price\": 16890, \"Operating_system\": \"Linux\"}, {\"Product_Name\": \"Croma\", \"Stars\": 4.2, \"Ratings\": 1773, \"Reviews\": 217, \"Current_price\": 7990, \"Marked_price\": 20000, \"Operating_system\": \"Android\"}, {\"Product_Name\": \"CloudWalker\", \"Stars\": 4.3, \"Ratings\": 1706, \"Reviews\": 466, \"Current_price\": 17999, \"Marked_price\": 32990, \"Operating_system\": \"Linux\"}, {\"Product_Name\": \"iMEE\", \"Stars\": 0.0, \"Ratings\": 0, \"Reviews\": 0, \"Current_price\": 10399, \"Marked_price\": 19999, \"Operating_system\": \"Android\"}, {\"Product_Name\": \"DETEL\", \"Stars\": 4.1, \"Ratings\": 0, \"Reviews\": 0, \"Current_price\": 23499, \"Marked_price\": 44900, \"Operating_system\": \"Android\"}, {\"Product_Name\": \"Adsun\", \"Stars\": 3.8, \"Ratings\": 6730, \"Reviews\": 929, \"Current_price\": 8699, \"Marked_price\": 21999, \"Operating_system\": \"Android\"}, {\"Product_Name\": \"Nokia\", \"Stars\": 0.0, \"Ratings\": 0, \"Reviews\": 0, \"Current_price\": 49999, \"Marked_price\": 79999, \"Operating_system\": \"Android\"}, {\"Product_Name\": \"Nokia\", \"Stars\": 4.1, \"Ratings\": 5890, \"Reviews\": 1028, \"Current_price\": 29999, \"Marked_price\": 41999, \"Operating_system\": \"Android\"}, {\"Product_Name\": \"CloudWalker\", \"Stars\": 3.9, \"Ratings\": 2746, \"Reviews\": 952, \"Current_price\": 24999, \"Marked_price\": 37990, \"Operating_system\": \"Android\"}, {\"Product_Name\": \"Croma\", \"Stars\": 4.3, \"Ratings\": 0, \"Reviews\": 0, \"Current_price\": 11990, \"Marked_price\": 25000, \"Operating_system\": \"Android\"}, {\"Product_Name\": \"IMPEX\", \"Stars\": 0.0, \"Ratings\": 0, \"Reviews\": 0, \"Current_price\": 19999, \"Marked_price\": 28690, \"Operating_system\": \"Linux\"}, {\"Product_Name\": \"SAMSUNG\", \"Stars\": 0.0, \"Ratings\": 0, \"Reviews\": 0, \"Current_price\": 222999, \"Marked_price\": 264900, \"Operating_system\": \"Tizen\"}, {\"Product_Name\": \"kinger\", \"Stars\": 0.0, \"Ratings\": 0, \"Reviews\": 0, \"Current_price\": 12999, \"Marked_price\": 22490, \"Operating_system\": \"Android\"}, {\"Product_Name\": \"Adsun\", \"Stars\": 3.8, \"Ratings\": 6730, \"Reviews\": 929, \"Current_price\": 8999, \"Marked_price\": 29999, \"Operating_system\": \"Android\"}, {\"Product_Name\": \"Panasonic\", \"Stars\": 4.4, \"Ratings\": 0, \"Reviews\": 0, \"Current_price\": 41999, \"Marked_price\": 84900, \"Operating_system\": \"Linux\"}, {\"Product_Name\": \"kinger\", \"Stars\": 0.0, \"Ratings\": 0, \"Reviews\": 0, \"Current_price\": 12999, \"Marked_price\": 22490, \"Operating_system\": \"Android\"}, {\"Product_Name\": \"kinger\", \"Stars\": 0.0, \"Ratings\": 0, \"Reviews\": 0, \"Current_price\": 12999, \"Marked_price\": 22490, \"Operating_system\": \"Android\"}, {\"Product_Name\": \"Croma\", \"Stars\": 3.9, \"Ratings\": 0, \"Reviews\": 0, \"Current_price\": 18990, \"Marked_price\": 30000, \"Operating_system\": \"Android\"}, {\"Product_Name\": \"LG\", \"Stars\": 0.0, \"Ratings\": 0, \"Reviews\": 0, \"Current_price\": 317480, \"Marked_price\": 399990, \"Operating_system\": \"WebOS\"}, {\"Product_Name\": \"KODAK\", \"Stars\": 0.0, \"Ratings\": 0, \"Reviews\": 0, \"Current_price\": 29999, \"Marked_price\": 33999, \"Operating_system\": \"Android\"}, {\"Product_Name\": \"MOTOROLA\", \"Stars\": 4.4, \"Ratings\": 9686, \"Reviews\": 1532, \"Current_price\": 48999, \"Marked_price\": 59999, \"Operating_system\": \"Android\"}, {\"Product_Name\": \"Adsun\", \"Stars\": 3.8, \"Ratings\": 6730, \"Reviews\": 929, \"Current_price\": 6199, \"Marked_price\": 12999, \"Operating_system\": \"Linux\"}, {\"Product_Name\": \"HUIDI\", \"Stars\": 4.0, \"Ratings\": 4864, \"Reviews\": 558, \"Current_price\": 5999, \"Marked_price\": 10999, \"Operating_system\": \"Linux\"}, {\"Product_Name\": \"iMEE\", \"Stars\": 0.0, \"Ratings\": 0, \"Reviews\": 0, \"Current_price\": 14499, \"Marked_price\": 19999, \"Operating_system\": \"Android\"}, {\"Product_Name\": \"JVC\", \"Stars\": 4.1, \"Ratings\": 799, \"Reviews\": 210, \"Current_price\": 37999, \"Marked_price\": 59999, \"Operating_system\": \"Android\"}, {\"Product_Name\": \"Croma\", \"Stars\": 4.2, \"Ratings\": 1773, \"Reviews\": 217, \"Current_price\": 7990, \"Marked_price\": 20000, \"Operating_system\": \"Android\"}, {\"Product_Name\": \"JVC\", \"Stars\": 0.0, \"Ratings\": 0, \"Reviews\": 0, \"Current_price\": 24990, \"Marked_price\": 27990, \"Operating_system\": \"Android\"}, {\"Product_Name\": \"MOTOROLA\", \"Stars\": 4.4, \"Ratings\": 9687, \"Reviews\": 1532, \"Current_price\": 48999, \"Marked_price\": 59999, \"Operating_system\": \"Android\"}, {\"Product_Name\": \"LG\", \"Stars\": 4.1, \"Ratings\": 0, \"Reviews\": 0, \"Current_price\": 77900, \"Marked_price\": 77900, \"Operating_system\": \"Linux\"}, {\"Product_Name\": \"Adsun\", \"Stars\": 3.8, \"Ratings\": 6742, \"Reviews\": 930, \"Current_price\": 8699, \"Marked_price\": 21999, \"Operating_system\": \"Android\"}, {\"Product_Name\": \"MOTOROLA\", \"Stars\": 4.3, \"Ratings\": 22486, \"Reviews\": 3538, \"Current_price\": 27999, \"Marked_price\": 35500, \"Operating_system\": \"Android\"}, {\"Product_Name\": \"LG\", \"Stars\": 5.0, \"Ratings\": 0, \"Reviews\": 0, \"Current_price\": 149999, \"Marked_price\": 219990, \"Operating_system\": \"WebOS\"}, {\"Product_Name\": \"LG\", \"Stars\": 0.0, \"Ratings\": 0, \"Reviews\": 0, \"Current_price\": 124900, \"Marked_price\": 234990, \"Operating_system\": \"WebOS\"}, {\"Product_Name\": \"Croma\", \"Stars\": 4.2, \"Ratings\": 0, \"Reviews\": 0, \"Current_price\": 11990, \"Marked_price\": 25000, \"Operating_system\": \"Android\"}, {\"Product_Name\": \"kinger\", \"Stars\": 0.0, \"Ratings\": 0, \"Reviews\": 0, \"Current_price\": 12999, \"Marked_price\": 22490, \"Operating_system\": \"Android\"}, {\"Product_Name\": \"Panasonic\", \"Stars\": 4.3, \"Ratings\": 8389, \"Reviews\": 1179, \"Current_price\": 24990, \"Marked_price\": 24990, \"Operating_system\": \"Android\"}, {\"Product_Name\": \"TCL\", \"Stars\": 4.3, \"Ratings\": 0, \"Reviews\": 0, \"Current_price\": 69990, \"Marked_price\": 159990, \"Operating_system\": \"Android\"}, {\"Product_Name\": \"Adsun\", \"Stars\": 3.8, \"Ratings\": 6742, \"Reviews\": 930, \"Current_price\": 8999, \"Marked_price\": 29999, \"Operating_system\": \"Android\"}, {\"Product_Name\": \"SAMSUNG\", \"Stars\": 4.5, \"Ratings\": 0, \"Reviews\": 0, \"Current_price\": 89999, \"Marked_price\": 149900, \"Operating_system\": \"Tizen\"}, {\"Product_Name\": \"kinger\", \"Stars\": 0.0, \"Ratings\": 0, \"Reviews\": 0, \"Current_price\": 12999, \"Marked_price\": 22490, \"Operating_system\": \"Android\"}, {\"Product_Name\": \"Croma\", \"Stars\": 4.0, \"Ratings\": 0, \"Reviews\": 0, \"Current_price\": 13990, \"Marked_price\": 25000, \"Operating_system\": \"FireTv OS 6\"}, {\"Product_Name\": \"Adsun\", \"Stars\": 3.8, \"Ratings\": 6742, \"Reviews\": 930, \"Current_price\": 6199, \"Marked_price\": 12999, \"Operating_system\": \"Linux\"}, {\"Product_Name\": \"Yuwa\", \"Stars\": 3.7, \"Ratings\": 0, \"Reviews\": 0, \"Current_price\": 8449, \"Marked_price\": 21990, \"Operating_system\": \"Android\"}, {\"Product_Name\": \"SAMSUNG\", \"Stars\": 4.4, \"Ratings\": 0, \"Reviews\": 0, \"Current_price\": 50900, \"Marked_price\": 50900, \"Operating_system\": \"Linux\"}, {\"Product_Name\": \"SAMSUNG\", \"Stars\": 4.3, \"Ratings\": 0, \"Reviews\": 0, \"Current_price\": 121999, \"Marked_price\": 143900, \"Operating_system\": \"Tizen\"}, {\"Product_Name\": \"Adsun\", \"Stars\": 3.8, \"Ratings\": 6742, \"Reviews\": 930, \"Current_price\": 16999, \"Marked_price\": 39999, \"Operating_system\": \"Android\"}, {\"Product_Name\": \"Yuwa\", \"Stars\": 3.8, \"Ratings\": 0, \"Reviews\": 0, \"Current_price\": 12499, \"Marked_price\": 22500, \"Operating_system\": \"Android\"}, {\"Product_Name\": \"JVC\", \"Stars\": 0.0, \"Ratings\": 0, \"Reviews\": 0, \"Current_price\": 13990, \"Marked_price\": 15990, \"Operating_system\": \"Android\"}, {\"Product_Name\": \"Adsun\", \"Stars\": 3.8, \"Ratings\": 6742, \"Reviews\": 930, \"Current_price\": 8999, \"Marked_price\": 29999, \"Operating_system\": \"Android\"}, {\"Product_Name\": \"Croma\", \"Stars\": 4.2, \"Ratings\": 1773, \"Reviews\": 217, \"Current_price\": 7990, \"Marked_price\": 20000, \"Operating_system\": \"Android\"}, {\"Product_Name\": \"kinger\", \"Stars\": 0.0, \"Ratings\": 0, \"Reviews\": 0, \"Current_price\": 12999, \"Marked_price\": 22490, \"Operating_system\": \"Android\"}, {\"Product_Name\": \"Onix\", \"Stars\": 4.8, \"Ratings\": 0, \"Reviews\": 0, \"Current_price\": 32222, \"Marked_price\": 38790, \"Operating_system\": \"Linux\"}, {\"Product_Name\": \"CORNEA\", \"Stars\": 0.0, \"Ratings\": 0, \"Reviews\": 0, \"Current_price\": 36999, \"Marked_price\": 49999, \"Operating_system\": \"Android\"}, {\"Product_Name\": \"Adsun\", \"Stars\": 3.8, \"Ratings\": 6742, \"Reviews\": 930, \"Current_price\": 8699, \"Marked_price\": 21999, \"Operating_system\": \"Android\"}, {\"Product_Name\": \"KODAK\", \"Stars\": 4.4, \"Ratings\": 31763, \"Reviews\": 7301, \"Current_price\": 21490, \"Marked_price\": 24999, \"Operating_system\": \"Android\"}, {\"Product_Name\": \"Compaq\", \"Stars\": 3.9, \"Ratings\": 0, \"Reviews\": 0, \"Current_price\": 26999, \"Marked_price\": 45999, \"Operating_system\": \"Android\"}, {\"Product_Name\": \"kinger\", \"Stars\": 0.0, \"Ratings\": 0, \"Reviews\": 0, \"Current_price\": 12999, \"Marked_price\": 22490, \"Operating_system\": \"Android\"}, {\"Product_Name\": \"Croma\", \"Stars\": 4.2, \"Ratings\": 0, \"Reviews\": 0, \"Current_price\": 11990, \"Marked_price\": 25000, \"Operating_system\": \"Android\"}, {\"Product_Name\": \"kinger\", \"Stars\": 0.0, \"Ratings\": 0, \"Reviews\": 0, \"Current_price\": 12999, \"Marked_price\": 22490, \"Operating_system\": \"Android\"}, {\"Product_Name\": \"SAMSUNG\", \"Stars\": 4.8, \"Ratings\": 0, \"Reviews\": 0, \"Current_price\": 145900, \"Marked_price\": 145900, \"Operating_system\": \"Tizen\"}, {\"Product_Name\": \"SAMSUNG\", \"Stars\": 4.6, \"Ratings\": 0, \"Reviews\": 0, \"Current_price\": 93999, \"Marked_price\": 101900, \"Operating_system\": \"Tizen\"}, {\"Product_Name\": \"Croma\", \"Stars\": 3.9, \"Ratings\": 0, \"Reviews\": 0, \"Current_price\": 18990, \"Marked_price\": 30000, \"Operating_system\": \"Android\"}, {\"Product_Name\": \"MOTOROLA\", \"Stars\": 4.3, \"Ratings\": 13623, \"Reviews\": 2223, \"Current_price\": 57999, \"Marked_price\": 115399, \"Operating_system\": \"Android\"}, {\"Product_Name\": \"Oxygen\", \"Stars\": 0.0, \"Ratings\": 0, \"Reviews\": 0, \"Current_price\": 69990, \"Marked_price\": 124990, \"Operating_system\": \"Android\"}, {\"Product_Name\": \"LG\", \"Stars\": 4.3, \"Ratings\": 0, \"Reviews\": 0, \"Current_price\": 74999, \"Marked_price\": 90990, \"Operating_system\": \"WebOS\"}, {\"Product_Name\": \"Adsun\", \"Stars\": 3.8, \"Ratings\": 6742, \"Reviews\": 930, \"Current_price\": 6199, \"Marked_price\": 12999, \"Operating_system\": \"Linux\"}, {\"Product_Name\": \"Candes\", \"Stars\": 4.0, \"Ratings\": 0, \"Reviews\": 0, \"Current_price\": 9599, \"Marked_price\": 24490, \"Operating_system\": \"Android\"}, {\"Product_Name\": \"Adsun\", \"Stars\": 3.8, \"Ratings\": 6742, \"Reviews\": 930, \"Current_price\": 16999, \"Marked_price\": 39999, \"Operating_system\": \"Android\"}, {\"Product_Name\": \"LG\", \"Stars\": 4.0, \"Ratings\": 0, \"Reviews\": 0, \"Current_price\": 35999, \"Marked_price\": 47990, \"Operating_system\": \"Linux\"}, {\"Product_Name\": \"Adsun\", \"Stars\": 3.8, \"Ratings\": 6742, \"Reviews\": 930, \"Current_price\": 7999, \"Marked_price\": 16999, \"Operating_system\": \"Linux\"}, {\"Product_Name\": \"kinger\", \"Stars\": 0.0, \"Ratings\": 0, \"Reviews\": 0, \"Current_price\": 12999, \"Marked_price\": 22490, \"Operating_system\": \"Android\"}, {\"Product_Name\": \"HUIDI\", \"Stars\": 4.0, \"Ratings\": 4864, \"Reviews\": 558, \"Current_price\": 8999, \"Marked_price\": 18599, \"Operating_system\": \"Android\"}, {\"Product_Name\": \"Mi\", \"Stars\": 4.4, \"Ratings\": 57944, \"Reviews\": 6362, \"Current_price\": 28999, \"Marked_price\": 28999, \"Operating_system\": \"Android\"}, {\"Product_Name\": \"Croma\", \"Stars\": 4.2, \"Ratings\": 1773, \"Reviews\": 217, \"Current_price\": 7990, \"Marked_price\": 20000, \"Operating_system\": \"Android\"}, {\"Product_Name\": \"TCL\", \"Stars\": 4.0, \"Ratings\": 0, \"Reviews\": 0, \"Current_price\": 79999, \"Marked_price\": 149900, \"Operating_system\": \"Linux\"}, {\"Product_Name\": \"SAMSUNG\", \"Stars\": 2.8, \"Ratings\": 0, \"Reviews\": 0, \"Current_price\": 145900, \"Marked_price\": 145900, \"Operating_system\": \"Tizen\"}, {\"Product_Name\": \"SAMSUNG\", \"Stars\": 0.0, \"Ratings\": 0, \"Reviews\": 0, \"Current_price\": 149900, \"Marked_price\": 149900, \"Operating_system\": \"Tizen\"}, {\"Product_Name\": \"Adsun\", \"Stars\": 3.8, \"Ratings\": 6742, \"Reviews\": 930, \"Current_price\": 8699, \"Marked_price\": 21999, \"Operating_system\": \"Android\"}, {\"Product_Name\": \"iMEE\", \"Stars\": 0.0, \"Ratings\": 0, \"Reviews\": 0, \"Current_price\": 10399, \"Marked_price\": 19999, \"Operating_system\": \"Android\"}, {\"Product_Name\": \"Sansui\", \"Stars\": 4.2, \"Ratings\": 0, \"Reviews\": 0, \"Current_price\": 12499, \"Marked_price\": 14990, \"Operating_system\": \"Linux\"}, {\"Product_Name\": \"LG\", \"Stars\": 4.3, \"Ratings\": 0, \"Reviews\": 0, \"Current_price\": 78499, \"Marked_price\": 110990, \"Operating_system\": \"WebOS\"}, {\"Product_Name\": \"Croma\", \"Stars\": 4.2, \"Ratings\": 0, \"Reviews\": 0, \"Current_price\": 11990, \"Marked_price\": 25000, \"Operating_system\": \"Android\"}, {\"Product_Name\": \"kinger\", \"Stars\": 0.0, \"Ratings\": 0, \"Reviews\": 0, \"Current_price\": 12999, \"Marked_price\": 22490, \"Operating_system\": \"Android\"}, {\"Product_Name\": \"LG\", \"Stars\": 4.8, \"Ratings\": 0, \"Reviews\": 0, \"Current_price\": 104990, \"Marked_price\": 104990, \"Operating_system\": \"WebOS\"}, {\"Product_Name\": \"TCL\", \"Stars\": 4.5, \"Ratings\": 0, \"Reviews\": 0, \"Current_price\": 89999, \"Marked_price\": 179990, \"Operating_system\": \"Linux\"}, {\"Product_Name\": \"Adsun\", \"Stars\": 3.8, \"Ratings\": 6742, \"Reviews\": 930, \"Current_price\": 8999, \"Marked_price\": 29999, \"Operating_system\": \"Android\"}, {\"Product_Name\": \"Haier\", \"Stars\": 0.0, \"Ratings\": 0, \"Reviews\": 0, \"Current_price\": 19499, \"Marked_price\": 31590, \"Operating_system\": \"Linux\"}, {\"Product_Name\": \"Haier\", \"Stars\": 4.1, \"Ratings\": 0, \"Reviews\": 0, \"Current_price\": 34999, \"Marked_price\": 43990, \"Operating_system\": \"Android\"}, {\"Product_Name\": \"Hyundai\", \"Stars\": 4.1, \"Ratings\": 0, \"Reviews\": 0, \"Current_price\": 30990, \"Marked_price\": 71990, \"Operating_system\": \"Android\"}, {\"Product_Name\": \"Adsun\", \"Stars\": 3.8, \"Ratings\": 6742, \"Reviews\": 930, \"Current_price\": 6199, \"Marked_price\": 12999, \"Operating_system\": \"Linux\"}, {\"Product_Name\": \"Adsun\", \"Stars\": 3.8, \"Ratings\": 6742, \"Reviews\": 930, \"Current_price\": 12999, \"Marked_price\": 22999, \"Operating_system\": \"Android\"}, {\"Product_Name\": \"kinger\", \"Stars\": 0.0, \"Ratings\": 0, \"Reviews\": 0, \"Current_price\": 12999, \"Marked_price\": 22490, \"Operating_system\": \"Android\"}, {\"Product_Name\": \"LG\", \"Stars\": 4.5, \"Ratings\": 0, \"Reviews\": 0, \"Current_price\": 67990, \"Marked_price\": 67990, \"Operating_system\": \"WebOS\"}, {\"Product_Name\": \"Adsun\", \"Stars\": 3.8, \"Ratings\": 6742, \"Reviews\": 930, \"Current_price\": 7999, \"Marked_price\": 16999, \"Operating_system\": \"Linux\"}, {\"Product_Name\": \"Nokia\", \"Stars\": 0.0, \"Ratings\": 0, \"Reviews\": 0, \"Current_price\": 41999, \"Marked_price\": 59999, \"Operating_system\": \"Android\"}, {\"Product_Name\": \"kinger\", \"Stars\": 0.0, \"Ratings\": 0, \"Reviews\": 0, \"Current_price\": 12999, \"Marked_price\": 22490, \"Operating_system\": \"Android\"}, {\"Product_Name\": \"iMEE\", \"Stars\": 0.0, \"Ratings\": 0, \"Reviews\": 0, \"Current_price\": 17399, \"Marked_price\": 29999, \"Operating_system\": \"Android\"}, {\"Product_Name\": \"Croma\", \"Stars\": 4.2, \"Ratings\": 1773, \"Reviews\": 217, \"Current_price\": 7990, \"Marked_price\": 20000, \"Operating_system\": \"Android\"}, {\"Product_Name\": \"kinger\", \"Stars\": 0.0, \"Ratings\": 0, \"Reviews\": 0, \"Current_price\": 12999, \"Marked_price\": 22490, \"Operating_system\": \"Android\"}, {\"Product_Name\": \"LG\", \"Stars\": 4.4, \"Ratings\": 0, \"Reviews\": 0, \"Current_price\": 124999, \"Marked_price\": 177990, \"Operating_system\": \"WebOS\"}, {\"Product_Name\": \"PHILIPS\", \"Stars\": 0.0, \"Ratings\": 0, \"Reviews\": 0, \"Current_price\": 41999, \"Marked_price\": 119990, \"Operating_system\": \"Linux\"}, {\"Product_Name\": \"Adsun\", \"Stars\": 3.8, \"Ratings\": 6730, \"Reviews\": 929, \"Current_price\": 8699, \"Marked_price\": 21999, \"Operating_system\": \"Android\"}, {\"Product_Name\": \"Dyanora\", \"Stars\": 4.4, \"Ratings\": 0, \"Reviews\": 0, \"Current_price\": 27999, \"Marked_price\": 40999, \"Operating_system\": \"Android\"}, {\"Product_Name\": \"kinger\", \"Stars\": 0.0, \"Ratings\": 0, \"Reviews\": 0, \"Current_price\": 12999, \"Marked_price\": 22490, \"Operating_system\": \"Android\"}, {\"Product_Name\": \"Candes\", \"Stars\": 4.0, \"Ratings\": 0, \"Reviews\": 0, \"Current_price\": 14599, \"Marked_price\": 29990, \"Operating_system\": \"Android\"}, {\"Product_Name\": \"Croma\", \"Stars\": 4.3, \"Ratings\": 0, \"Reviews\": 0, \"Current_price\": 11990, \"Marked_price\": 25000, \"Operating_system\": \"Android\"}, {\"Product_Name\": \"iMEE\", \"Stars\": 0.0, \"Ratings\": 0, \"Reviews\": 0, \"Current_price\": 9899, \"Marked_price\": 18999, \"Operating_system\": \"Android\"}, {\"Product_Name\": \"TCL\", \"Stars\": 4.3, \"Ratings\": 0, \"Reviews\": 0, \"Current_price\": 82990, \"Marked_price\": 159990, \"Operating_system\": \"Android\"}, {\"Product_Name\": \"Onix\", \"Stars\": 3.7, \"Ratings\": 0, \"Reviews\": 0, \"Current_price\": 26339, \"Marked_price\": 26349, \"Operating_system\": \"Linux\"}, {\"Product_Name\": \"Adsun\", \"Stars\": 3.8, \"Ratings\": 6730, \"Reviews\": 929, \"Current_price\": 8999, \"Marked_price\": 29999, \"Operating_system\": \"Android\"}, {\"Product_Name\": \"Candes\", \"Stars\": 4.0, \"Ratings\": 0, \"Reviews\": 0, \"Current_price\": 8499, \"Marked_price\": 17990, \"Operating_system\": \"Android\"}, {\"Product_Name\": \"Haier\", \"Stars\": 4.1, \"Ratings\": 0, \"Reviews\": 0, \"Current_price\": 15490, \"Marked_price\": 20990, \"Operating_system\": \"Android\"}, {\"Product_Name\": \"JVC\", \"Stars\": 4.1, \"Ratings\": 789, \"Reviews\": 165, \"Current_price\": 16990, \"Marked_price\": 21000, \"Operating_system\": \"Android\"}, {\"Product_Name\": \"Croma\", \"Stars\": 3.9, \"Ratings\": 0, \"Reviews\": 0, \"Current_price\": 18990, \"Marked_price\": 30000, \"Operating_system\": \"Android\"}, {\"Product_Name\": \"Thomson\", \"Stars\": 4.1, \"Ratings\": 7953, \"Reviews\": 2017, \"Current_price\": 29999, \"Marked_price\": 49999, \"Operating_system\": \"Android\"}, {\"Product_Name\": \"CORNEA\", \"Stars\": 0.0, \"Ratings\": 0, \"Reviews\": 0, \"Current_price\": 54999, \"Marked_price\": 74999, \"Operating_system\": \"Android\"}, {\"Product_Name\": \"Vu\", \"Stars\": 4.2, \"Ratings\": 0, \"Reviews\": 0, \"Current_price\": 259999, \"Marked_price\": 350000, \"Operating_system\": \"Android\"}, {\"Product_Name\": \"Adsun\", \"Stars\": 3.8, \"Ratings\": 6730, \"Reviews\": 929, \"Current_price\": 16999, \"Marked_price\": 39999, \"Operating_system\": \"Android\"}, {\"Product_Name\": \"Thomson\", \"Stars\": 4.1, \"Ratings\": 8625, \"Reviews\": 2685, \"Current_price\": 16999, \"Marked_price\": 16999, \"Operating_system\": \"Android\"}, {\"Product_Name\": \"Nokia\", \"Stars\": 4.1, \"Ratings\": 5891, \"Reviews\": 1031, \"Current_price\": 28999, \"Marked_price\": 39999, \"Operating_system\": \"Android\"}, {\"Product_Name\": \"iMEE\", \"Stars\": 0.0, \"Ratings\": 0, \"Reviews\": 0, \"Current_price\": 19399, \"Marked_price\": 29999, \"Operating_system\": \"Android\"}, {\"Product_Name\": \"Croma\", \"Stars\": 4.2, \"Ratings\": 1773, \"Reviews\": 217, \"Current_price\": 7990, \"Marked_price\": 20000, \"Operating_system\": \"Android\"}, {\"Product_Name\": \"LG\", \"Stars\": 3.7, \"Ratings\": 0, \"Reviews\": 0, \"Current_price\": 164990, \"Marked_price\": 299990, \"Operating_system\": \"WebOS\"}, {\"Product_Name\": \"LG\", \"Stars\": 4.2, \"Ratings\": 0, \"Reviews\": 0, \"Current_price\": 39990, \"Marked_price\": 59490, \"Operating_system\": \"Linux\"}, {\"Product_Name\": \"Haier\", \"Stars\": 4.1, \"Ratings\": 0, \"Reviews\": 0, \"Current_price\": 17990, \"Marked_price\": 22990, \"Operating_system\": \"Android\"}, {\"Product_Name\": \"Adsun\", \"Stars\": 3.8, \"Ratings\": 6742, \"Reviews\": 930, \"Current_price\": 8699, \"Marked_price\": 21999, \"Operating_system\": \"Android\"}, {\"Product_Name\": \"SAMSUNG\", \"Stars\": 4.1, \"Ratings\": 0, \"Reviews\": 0, \"Current_price\": 48400, \"Marked_price\": 62900, \"Operating_system\": \"Tizen\"}, {\"Product_Name\": \"Yuwa\", \"Stars\": 0.0, \"Ratings\": 0, \"Reviews\": 0, \"Current_price\": 7899, \"Marked_price\": 13799, \"Operating_system\": \"Linux\"}, {\"Product_Name\": \"kinger\", \"Stars\": 0.0, \"Ratings\": 0, \"Reviews\": 0, \"Current_price\": 12999, \"Marked_price\": 22490, \"Operating_system\": \"Android\"}, {\"Product_Name\": \"Croma\", \"Stars\": 4.2, \"Ratings\": 0, \"Reviews\": 0, \"Current_price\": 11990, \"Marked_price\": 25000, \"Operating_system\": \"Android\"}, {\"Product_Name\": \"JVC\", \"Stars\": 0.0, \"Ratings\": 0, \"Reviews\": 0, \"Current_price\": 15990, \"Marked_price\": 18890, \"Operating_system\": \"Android\"}, {\"Product_Name\": \"Bush\", \"Stars\": 0.0, \"Ratings\": 0, \"Reviews\": 0, \"Current_price\": 7999, \"Marked_price\": 11999, \"Operating_system\": \"Linux\"}, {\"Product_Name\": \"Haier\", \"Stars\": 4.3, \"Ratings\": 0, \"Reviews\": 0, \"Current_price\": 18999, \"Marked_price\": 31999, \"Operating_system\": \"Android\"}, {\"Product_Name\": \"Adsun\", \"Stars\": 3.8, \"Ratings\": 6742, \"Reviews\": 930, \"Current_price\": 8999, \"Marked_price\": 29999, \"Operating_system\": \"Android\"}, {\"Product_Name\": \"Bush\", \"Stars\": 0.0, \"Ratings\": 0, \"Reviews\": 0, \"Current_price\": 14999, \"Marked_price\": 16999, \"Operating_system\": \"Android\"}, {\"Product_Name\": \"LG\", \"Stars\": 4.4, \"Ratings\": 0, \"Reviews\": 0, \"Current_price\": 199999, \"Marked_price\": 349990, \"Operating_system\": \"WebOS\"}, {\"Product_Name\": \"Croma\", \"Stars\": 0.0, \"Ratings\": 0, \"Reviews\": 0, \"Current_price\": 36990, \"Marked_price\": 75000, \"Operating_system\": \"WebOS\"}, {\"Product_Name\": \"Adsun\", \"Stars\": 3.8, \"Ratings\": 6742, \"Reviews\": 930, \"Current_price\": 6199, \"Marked_price\": 12999, \"Operating_system\": \"Linux\"}, {\"Product_Name\": \"LG\", \"Stars\": 4.4, \"Ratings\": 12910, \"Reviews\": 1465, \"Current_price\": 83999, \"Marked_price\": 139990, \"Operating_system\": \"WebOS\"}, {\"Product_Name\": \"LG\", \"Stars\": 2.5, \"Ratings\": 0, \"Reviews\": 0, \"Current_price\": 189999, \"Marked_price\": 284990, \"Operating_system\": \"WebOS\"}, {\"Product_Name\": \"SAMSUNG\", \"Stars\": 0.0, \"Ratings\": 0, \"Reviews\": 0, \"Current_price\": 124999, \"Marked_price\": 184900, \"Operating_system\": \"Tizen\"}, {\"Product_Name\": \"Croma\", \"Stars\": 3.9, \"Ratings\": 0, \"Reviews\": 0, \"Current_price\": 18990, \"Marked_price\": 30000, \"Operating_system\": \"Android\"}, {\"Product_Name\": \"Mi\", \"Stars\": 4.4, \"Ratings\": 19383, \"Reviews\": 1738, \"Current_price\": 41250, \"Marked_price\": 42350, \"Operating_system\": \"Android\"}, {\"Product_Name\": \"Haier\", \"Stars\": 4.0, \"Ratings\": 0, \"Reviews\": 0, \"Current_price\": 43999, \"Marked_price\": 54990, \"Operating_system\": \"Android\"}, {\"Product_Name\": \"Haier\", \"Stars\": 0.0, \"Ratings\": 0, \"Reviews\": 0, \"Current_price\": 64646, \"Marked_price\": 106990, \"Operating_system\": \"Android\"}, {\"Product_Name\": \"Croma\", \"Stars\": 4.2, \"Ratings\": 1773, \"Reviews\": 217, \"Current_price\": 7990, \"Marked_price\": 20000, \"Operating_system\": \"Android\"}, {\"Product_Name\": \"Panasonic\", \"Stars\": 4.0, \"Ratings\": 0, \"Reviews\": 0, \"Current_price\": 37945, \"Marked_price\": 50990, \"Operating_system\": \"Android\"}, {\"Product_Name\": \"SAMSUNG\", \"Stars\": 3.9, \"Ratings\": 0, \"Reviews\": 0, \"Current_price\": 66990, \"Marked_price\": 86900, \"Operating_system\": \"Tizen\"}, {\"Product_Name\": \"LG\", \"Stars\": 3.7, \"Ratings\": 0, \"Reviews\": 0, \"Current_price\": 35670, \"Marked_price\": 44990, \"Operating_system\": \"WebOS\"}, {\"Product_Name\": \"Adsun\", \"Stars\": 3.8, \"Ratings\": 6730, \"Reviews\": 929, \"Current_price\": 8699, \"Marked_price\": 21999, \"Operating_system\": \"Android\"}, {\"Product_Name\": \"Oxygen\", \"Stars\": 0.0, \"Ratings\": 0, \"Reviews\": 0, \"Current_price\": 39990, \"Marked_price\": 52990, \"Operating_system\": \"Android\"}, {\"Product_Name\": \"BPL\", \"Stars\": 4.3, \"Ratings\": 0, \"Reviews\": 0, \"Current_price\": 15490, \"Marked_price\": 27000, \"Operating_system\": \"Android\"}, {\"Product_Name\": \"LG\", \"Stars\": 4.4, \"Ratings\": 5235, \"Reviews\": 586, \"Current_price\": 34490, \"Marked_price\": 41990, \"Operating_system\": \"WebOS\"}, {\"Product_Name\": \"Croma\", \"Stars\": 4.3, \"Ratings\": 0, \"Reviews\": 0, \"Current_price\": 11990, \"Marked_price\": 25000, \"Operating_system\": \"Android\"}, {\"Product_Name\": \"BPL\", \"Stars\": 0.0, \"Ratings\": 0, \"Reviews\": 0, \"Current_price\": 25999, \"Marked_price\": 35999, \"Operating_system\": \"Linux\"}, {\"Product_Name\": \"SAMSUNG\", \"Stars\": 4.3, \"Ratings\": 24838, \"Reviews\": 4257, \"Current_price\": 14999, \"Marked_price\": 28890, \"Operating_system\": \"Linux\"}, {\"Product_Name\": \"Haier\", \"Stars\": 4.7, \"Ratings\": 0, \"Reviews\": 0, \"Current_price\": 33390, \"Marked_price\": 38650, \"Operating_system\": \"Android\"}, {\"Product_Name\": \"Adsun\", \"Stars\": 3.8, \"Ratings\": 6730, \"Reviews\": 929, \"Current_price\": 8999, \"Marked_price\": 29999, \"Operating_system\": \"Android\"}, {\"Product_Name\": \"Panasonic\", \"Stars\": 0.0, \"Ratings\": 0, \"Reviews\": 0, \"Current_price\": 34614, \"Marked_price\": 42990, \"Operating_system\": \"Android\"}, {\"Product_Name\": \"kinger\", \"Stars\": 0.0, \"Ratings\": 0, \"Reviews\": 0, \"Current_price\": 12999, \"Marked_price\": 22490, \"Operating_system\": \"Android\"}, {\"Product_Name\": \"SAMSUNG\", \"Stars\": 0.0, \"Ratings\": 0, \"Reviews\": 0, \"Current_price\": 110900, \"Marked_price\": 110900, \"Operating_system\": \"Tizen\"}, {\"Product_Name\": \"Croma\", \"Stars\": 3.9, \"Ratings\": 0, \"Reviews\": 0, \"Current_price\": 18990, \"Marked_price\": 30000, \"Operating_system\": \"Android\"}, {\"Product_Name\": \"Akai\", \"Stars\": 0.0, \"Ratings\": 0, \"Reviews\": 0, \"Current_price\": 9489, \"Marked_price\": 15990, \"Operating_system\": \"Linux\"}, {\"Product_Name\": \"kinger\", \"Stars\": 0.0, \"Ratings\": 0, \"Reviews\": 0, \"Current_price\": 12999, \"Marked_price\": 22490, \"Operating_system\": \"Android\"}, {\"Product_Name\": \"kinger\", \"Stars\": 0.0, \"Ratings\": 0, \"Reviews\": 0, \"Current_price\": 12999, \"Marked_price\": 22490, \"Operating_system\": \"Android\"}, {\"Product_Name\": \"Adsun\", \"Stars\": 3.8, \"Ratings\": 6730, \"Reviews\": 929, \"Current_price\": 16999, \"Marked_price\": 39999, \"Operating_system\": \"Android\"}, {\"Product_Name\": \"Akai\", \"Stars\": 0.0, \"Ratings\": 0, \"Reviews\": 0, \"Current_price\": 9489, \"Marked_price\": 15990, \"Operating_system\": \"Linux\"}, {\"Product_Name\": \"kinger\", \"Stars\": 0.0, \"Ratings\": 0, \"Reviews\": 0, \"Current_price\": 12999, \"Marked_price\": 22490, \"Operating_system\": \"Android\"}, {\"Product_Name\": \"kinger\", \"Stars\": 0.0, \"Ratings\": 0, \"Reviews\": 0, \"Current_price\": 12999, \"Marked_price\": 22490, \"Operating_system\": \"Android\"}, {\"Product_Name\": \"Croma\", \"Stars\": 4.2, \"Ratings\": 1773, \"Reviews\": 217, \"Current_price\": 7990, \"Marked_price\": 20000, \"Operating_system\": \"Android\"}, {\"Product_Name\": \"kinger\", \"Stars\": 0.0, \"Ratings\": 0, \"Reviews\": 0, \"Current_price\": 12999, \"Marked_price\": 22490, \"Operating_system\": \"Android\"}, {\"Product_Name\": \"kinger\", \"Stars\": 0.0, \"Ratings\": 0, \"Reviews\": 0, \"Current_price\": 12999, \"Marked_price\": 22490, \"Operating_system\": \"Android\"}, {\"Product_Name\": \"kinger\", \"Stars\": 0.0, \"Ratings\": 0, \"Reviews\": 0, \"Current_price\": 12999, \"Marked_price\": 22490, \"Operating_system\": \"Android\"}, {\"Product_Name\": \"Adsun\", \"Stars\": 3.8, \"Ratings\": 6730, \"Reviews\": 929, \"Current_price\": 8699, \"Marked_price\": 21999, \"Operating_system\": \"Android\"}, {\"Product_Name\": \"kinger\", \"Stars\": 0.0, \"Ratings\": 0, \"Reviews\": 0, \"Current_price\": 12999, \"Marked_price\": 22490, \"Operating_system\": \"Android\"}, {\"Product_Name\": \"kinger\", \"Stars\": 0.0, \"Ratings\": 0, \"Reviews\": 0, \"Current_price\": 12999, \"Marked_price\": 22490, \"Operating_system\": \"Android\"}, {\"Product_Name\": \"kinger\", \"Stars\": 0.0, \"Ratings\": 0, \"Reviews\": 0, \"Current_price\": 12999, \"Marked_price\": 22490, \"Operating_system\": \"Android\"}, {\"Product_Name\": \"Croma\", \"Stars\": 4.3, \"Ratings\": 0, \"Reviews\": 0, \"Current_price\": 11990, \"Marked_price\": 25000, \"Operating_system\": \"Android\"}, {\"Product_Name\": \"kinger\", \"Stars\": 0.0, \"Ratings\": 0, \"Reviews\": 0, \"Current_price\": 12999, \"Marked_price\": 22490, \"Operating_system\": \"Android\"}, {\"Product_Name\": \"kinger\", \"Stars\": 0.0, \"Ratings\": 0, \"Reviews\": 0, \"Current_price\": 12999, \"Marked_price\": 22490, \"Operating_system\": \"Android\"}, {\"Product_Name\": \"kinger\", \"Stars\": 0.0, \"Ratings\": 0, \"Reviews\": 0, \"Current_price\": 12999, \"Marked_price\": 22490, \"Operating_system\": \"Android\"}, {\"Product_Name\": \"Adsun\", \"Stars\": 3.8, \"Ratings\": 6730, \"Reviews\": 929, \"Current_price\": 8999, \"Marked_price\": 29999, \"Operating_system\": \"Android\"}, {\"Product_Name\": \"kinger\", \"Stars\": 0.0, \"Ratings\": 0, \"Reviews\": 0, \"Current_price\": 12999, \"Marked_price\": 22490, \"Operating_system\": \"Android\"}, {\"Product_Name\": \"kinger\", \"Stars\": 0.0, \"Ratings\": 0, \"Reviews\": 0, \"Current_price\": 12999, \"Marked_price\": 22490, \"Operating_system\": \"Android\"}, {\"Product_Name\": \"kinger\", \"Stars\": 0.0, \"Ratings\": 0, \"Reviews\": 0, \"Current_price\": 12999, \"Marked_price\": 22490, \"Operating_system\": \"Android\"}, {\"Product_Name\": \"Adsun\", \"Stars\": 3.8, \"Ratings\": 6730, \"Reviews\": 929, \"Current_price\": 6199, \"Marked_price\": 12999, \"Operating_system\": \"Linux\"}, {\"Product_Name\": \"kinger\", \"Stars\": 0.0, \"Ratings\": 0, \"Reviews\": 0, \"Current_price\": 12999, \"Marked_price\": 22490, \"Operating_system\": \"Android\"}, {\"Product_Name\": \"iMEE\", \"Stars\": 0.0, \"Ratings\": 0, \"Reviews\": 0, \"Current_price\": 19499, \"Marked_price\": 29999, \"Operating_system\": \"Android\"}, {\"Product_Name\": \"LG\", \"Stars\": 4.2, \"Ratings\": 0, \"Reviews\": 0, \"Current_price\": 22990, \"Marked_price\": 23990, \"Operating_system\": \"Linux\"}, {\"Product_Name\": \"Adsun\", \"Stars\": 3.8, \"Ratings\": 6730, \"Reviews\": 929, \"Current_price\": 7999, \"Marked_price\": 16999, \"Operating_system\": \"Linux\"}, {\"Product_Name\": \"Panasonic\", \"Stars\": 0.0, \"Ratings\": 0, \"Reviews\": 0, \"Current_price\": 16803, \"Marked_price\": 19990, \"Operating_system\": \"Linux\"}, {\"Product_Name\": \"Lloyd\", \"Stars\": 0.0, \"Ratings\": 0, \"Reviews\": 0, \"Current_price\": 60990, \"Marked_price\": 60990, \"Operating_system\": \"Android\"}, {\"Product_Name\": \"SAMSUNG\", \"Stars\": 4.5, \"Ratings\": 0, \"Reviews\": 0, \"Current_price\": 64499, \"Marked_price\": 99900, \"Operating_system\": \"Tizen\"}, {\"Product_Name\": \"Croma\", \"Stars\": 4.2, \"Ratings\": 1773, \"Reviews\": 217, \"Current_price\": 7990, \"Marked_price\": 20000, \"Operating_system\": \"Android\"}, {\"Product_Name\": \"Haier\", \"Stars\": 4.5, \"Ratings\": 0, \"Reviews\": 0, \"Current_price\": 30900, \"Marked_price\": 38990, \"Operating_system\": \"Android\"}, {\"Product_Name\": \"Lloyd\", \"Stars\": 4.4, \"Ratings\": 0, \"Reviews\": 0, \"Current_price\": 44999, \"Marked_price\": 84990, \"Operating_system\": \"Linux\"}, {\"Product_Name\": \"Lloyd\", \"Stars\": 0.0, \"Ratings\": 0, \"Reviews\": 0, \"Current_price\": 18990, \"Marked_price\": 26890, \"Operating_system\": \"Linux\"}, {\"Product_Name\": \"Adsun\", \"Stars\": 3.8, \"Ratings\": 6730, \"Reviews\": 929, \"Current_price\": 8699, \"Marked_price\": 21999, \"Operating_system\": \"Android\"}, {\"Product_Name\": \"Lloyd\", \"Stars\": 0.0, \"Ratings\": 0, \"Reviews\": 0, \"Current_price\": 18290, \"Marked_price\": 29990, \"Operating_system\": \"Android\"}, {\"Product_Name\": \"Lloyd\", \"Stars\": 0.0, \"Ratings\": 0, \"Reviews\": 0, \"Current_price\": 99990, \"Marked_price\": 99990, \"Operating_system\": \"Android\"}, {\"Product_Name\": \"LG\", \"Stars\": 4.3, \"Ratings\": 0, \"Reviews\": 0, \"Current_price\": 58900, \"Marked_price\": 58900, \"Operating_system\": \"Linux\"}, {\"Product_Name\": \"Croma\", \"Stars\": 4.3, \"Ratings\": 0, \"Reviews\": 0, \"Current_price\": 11990, \"Marked_price\": 25000, \"Operating_system\": \"Android\"}, {\"Product_Name\": \"SAMSUNG\", \"Stars\": 3.8, \"Ratings\": 0, \"Reviews\": 0, \"Current_price\": 29900, \"Marked_price\": 29900, \"Operating_system\": \"Linux\"}, {\"Product_Name\": \"SAMSUNG\", \"Stars\": 4.2, \"Ratings\": 0, \"Reviews\": 0, \"Current_price\": 42990, \"Marked_price\": 66900, \"Operating_system\": \"Linux\"}, {\"Product_Name\": \"Candes\", \"Stars\": 4.0, \"Ratings\": 0, \"Reviews\": 0, \"Current_price\": 17999, \"Marked_price\": 38490, \"Operating_system\": \"Android\"}, {\"Product_Name\": \"Adsun\", \"Stars\": 0.0, \"Ratings\": 0, \"Reviews\": 0, \"Current_price\": 8999, \"Marked_price\": 29999, \"Operating_system\": \"Android\"}, {\"Product_Name\": \"SAMSUNG\", \"Stars\": 4.2, \"Ratings\": 11881, \"Reviews\": 1983, \"Current_price\": 15200, \"Marked_price\": 15200, \"Operating_system\": \"Linux\"}, {\"Product_Name\": \"Lloyd\", \"Stars\": 4.8, \"Ratings\": 0, \"Reviews\": 0, \"Current_price\": 74999, \"Marked_price\": 153990, \"Operating_system\": \"Linux\"}, {\"Product_Name\": \"Oxygen\", \"Stars\": 0.0, \"Ratings\": 0, \"Reviews\": 0, \"Current_price\": 32990, \"Marked_price\": 42990, \"Operating_system\": \"Android\"}, {\"Product_Name\": \"Croma\", \"Stars\": 3.9, \"Ratings\": 0, \"Reviews\": 0, \"Current_price\": 18990, \"Marked_price\": 30000, \"Operating_system\": \"Android\"}, {\"Product_Name\": \"Haier\", \"Stars\": 4.0, \"Ratings\": 0, \"Reviews\": 0, \"Current_price\": 36990, \"Marked_price\": 36990, \"Operating_system\": \"Linux\"}, {\"Product_Name\": \"Hyundai\", \"Stars\": 3.3, \"Ratings\": 0, \"Reviews\": 0, \"Current_price\": 25999, \"Marked_price\": 57990, \"Operating_system\": \"WebOS\"}, {\"Product_Name\": \"Lloyd\", \"Stars\": 3.9, \"Ratings\": 0, \"Reviews\": 0, \"Current_price\": 30000, \"Marked_price\": 32990, \"Operating_system\": \"Linux\"}, {\"Product_Name\": \"Adsun\", \"Stars\": 0.0, \"Ratings\": 0, \"Reviews\": 0, \"Current_price\": 6199, \"Marked_price\": 12999, \"Operating_system\": \"Linux\"}, {\"Product_Name\": \"Lloyd\", \"Stars\": 4.1, \"Ratings\": 0, \"Reviews\": 0, \"Current_price\": 18500, \"Marked_price\": 22990, \"Operating_system\": \"Linux\"}, {\"Product_Name\": \"Nacson\", \"Stars\": 3.6, \"Ratings\": 0, \"Reviews\": 0, \"Current_price\": 15990, \"Marked_price\": 34990, \"Operating_system\": \"Android\"}, {\"Product_Name\": \"Nacson\", \"Stars\": 4.2, \"Ratings\": 0, \"Reviews\": 0, \"Current_price\": 10990, \"Marked_price\": 24990, \"Operating_system\": \"Android\"}, {\"Product_Name\": \"Croma\", \"Stars\": 4.2, \"Ratings\": 1773, \"Reviews\": 217, \"Current_price\": 7990, \"Marked_price\": 20000, \"Operating_system\": \"Android\"}, {\"Product_Name\": \"Nacson\", \"Stars\": 4.3, \"Ratings\": 0, \"Reviews\": 0, \"Current_price\": 12990, \"Marked_price\": 25990, \"Operating_system\": \"Android\"}, {\"Product_Name\": \"LumX\", \"Stars\": 3.9, \"Ratings\": 0, \"Reviews\": 0, \"Current_price\": 7549, \"Marked_price\": 17900, \"Operating_system\": \"Linux\"}, {\"Product_Name\": \"Lloyd\", \"Stars\": 0.0, \"Ratings\": 0, \"Reviews\": 0, \"Current_price\": 59974, \"Marked_price\": 89990, \"Operating_system\": \"Android\"}, {\"Product_Name\": \"Adsun\", \"Stars\": 3.8, \"Ratings\": 6742, \"Reviews\": 930, \"Current_price\": 8699, \"Marked_price\": 21999, \"Operating_system\": \"Android\"}, {\"Product_Name\": \"SAMSUNG\", \"Stars\": 4.1, \"Ratings\": 0, \"Reviews\": 0, \"Current_price\": 92500, \"Marked_price\": 92500, \"Operating_system\": \"Tizen\"}, {\"Product_Name\": \"LG\", \"Stars\": 3.3, \"Ratings\": 0, \"Reviews\": 0, \"Current_price\": 100500, \"Marked_price\": 189990, \"Operating_system\": \"WebOS\"}, {\"Product_Name\": \"VG\", \"Stars\": 0.0, \"Ratings\": 0, \"Reviews\": 0, \"Current_price\": 18990, \"Marked_price\": 26000, \"Operating_system\": \"Linux\"}, {\"Product_Name\": \"Croma\", \"Stars\": 4.2, \"Ratings\": 0, \"Reviews\": 0, \"Current_price\": 11990, \"Marked_price\": 25000, \"Operating_system\": \"Android\"}, {\"Product_Name\": \"SAMSUNG\", \"Stars\": 3.8, \"Ratings\": 0, \"Reviews\": 0, \"Current_price\": 25900, \"Marked_price\": 25900, \"Operating_system\": \"Linux\"}, {\"Product_Name\": \"Lloyd\", \"Stars\": 0.0, \"Ratings\": 0, \"Reviews\": 0, \"Current_price\": 55990, \"Marked_price\": 60990, \"Operating_system\": \"Android\"}, {\"Product_Name\": \"Akai\", \"Stars\": 0.0, \"Ratings\": 0, \"Reviews\": 0, \"Current_price\": 55947, \"Marked_price\": 99990, \"Operating_system\": \"Linux\"}, {\"Product_Name\": \"Adsun\", \"Stars\": 3.8, \"Ratings\": 6742, \"Reviews\": 930, \"Current_price\": 8999, \"Marked_price\": 29999, \"Operating_system\": \"Android\"}, {\"Product_Name\": \"HUIDI\", \"Stars\": 4.0, \"Ratings\": 4864, \"Reviews\": 558, \"Current_price\": 7699, \"Marked_price\": 17599, \"Operating_system\": \"Linux\"}, {\"Product_Name\": \"MOTOROLA\", \"Stars\": 4.3, \"Ratings\": 20879, \"Reviews\": 3410, \"Current_price\": 32999, \"Marked_price\": 47999, \"Operating_system\": \"Android\"}, {\"Product_Name\": \"Croma\", \"Stars\": 3.3, \"Ratings\": 0, \"Reviews\": 0, \"Current_price\": 27990, \"Marked_price\": 60000, \"Operating_system\": \"WebOS\"}, {\"Product_Name\": \"Croma\", \"Stars\": 3.9, \"Ratings\": 0, \"Reviews\": 0, \"Current_price\": 18990, \"Marked_price\": 30000, \"Operating_system\": \"Android\"}, {\"Product_Name\": \"Thomson\", \"Stars\": 4.4, \"Ratings\": 67598, \"Reviews\": 14655, \"Current_price\": 20000, \"Marked_price\": 25999, \"Operating_system\": \"Android\"}, {\"Product_Name\": \"MOTOROLA\", \"Stars\": 4.3, \"Ratings\": 20879, \"Reviews\": 3410, \"Current_price\": 41999, \"Marked_price\": 54999, \"Operating_system\": \"Android\"}, {\"Product_Name\": \"SONY\", \"Stars\": 5.0, \"Ratings\": 0, \"Reviews\": 0, \"Current_price\": 469999, \"Marked_price\": 529900, \"Operating_system\": \"Android\"}, {\"Product_Name\": \"Adsun\", \"Stars\": 3.8, \"Ratings\": 6742, \"Reviews\": 930, \"Current_price\": 6199, \"Marked_price\": 12999, \"Operating_system\": \"Linux\"}, {\"Product_Name\": \"acer\", \"Stars\": 4.4, \"Ratings\": 5449, \"Reviews\": 897, \"Current_price\": 34999, \"Marked_price\": 54990, \"Operating_system\": \"Android\"}, {\"Product_Name\": \"Croma\", \"Stars\": 0.0, \"Ratings\": 0, \"Reviews\": 0, \"Current_price\": 17994, \"Marked_price\": 40000, \"Operating_system\": \"Android\"}, {\"Product_Name\": \"Vu\", \"Stars\": 4.4, \"Ratings\": 2878, \"Reviews\": 411, \"Current_price\": 45999, \"Marked_price\": 85000, \"Operating_system\": \"Android\"}, {\"Product_Name\": \"Croma\", \"Stars\": 4.2, \"Ratings\": 1773, \"Reviews\": 217, \"Current_price\": 7990, \"Marked_price\": 20000, \"Operating_system\": \"Android\"}, {\"Product_Name\": \"acer\", \"Stars\": 4.4, \"Ratings\": 5449, \"Reviews\": 897, \"Current_price\": 29999, \"Marked_price\": 44990, \"Operating_system\": \"Android\"}, {\"Product_Name\": \"SAMSUNG\", \"Stars\": 4.3, \"Ratings\": 0, \"Reviews\": 0, \"Current_price\": 125900, \"Marked_price\": 125900, \"Operating_system\": \"Linux\"}, {\"Product_Name\": \"SAMSUNG\", \"Stars\": 4.3, \"Ratings\": 43685, \"Reviews\": 5448, \"Current_price\": 14499, \"Marked_price\": 22500, \"Operating_system\": \"Tizen\"}, {\"Product_Name\": \"Adsun\", \"Stars\": 3.8, \"Ratings\": 6575, \"Reviews\": 904, \"Current_price\": 8699, \"Marked_price\": 21999, \"Operating_system\": \"Android\"}, {\"Product_Name\": \"TCL\", \"Stars\": 3.5, \"Ratings\": 0, \"Reviews\": 0, \"Current_price\": 12999, \"Marked_price\": 22990, \"Operating_system\": \"Linux\"}, {\"Product_Name\": \"Croma\", \"Stars\": 0.0, \"Ratings\": 0, \"Reviews\": 0, \"Current_price\": 43994, \"Marked_price\": 75000, \"Operating_system\": \"FireTv OS 7\"}, {\"Product_Name\": \"Sansui\", \"Stars\": 4.0, \"Ratings\": 0, \"Reviews\": 0, \"Current_price\": 13499, \"Marked_price\": 20990, \"Operating_system\": \"Android\"}, {\"Product_Name\": \"Croma\", \"Stars\": 4.2, \"Ratings\": 0, \"Reviews\": 0, \"Current_price\": 11990, \"Marked_price\": 25000, \"Operating_system\": \"Android\"}, {\"Product_Name\": \"SAMSUNG\", \"Stars\": 4.0, \"Ratings\": 0, \"Reviews\": 0, \"Current_price\": 14990, \"Marked_price\": 23484, \"Operating_system\": \"Linux\"}, {\"Product_Name\": \"Vu\", \"Stars\": 4.4, \"Ratings\": 23628, \"Reviews\": 4873, \"Current_price\": 16012, \"Marked_price\": 26500, \"Operating_system\": \"Linux\"}, {\"Product_Name\": \"Micromax\", \"Stars\": 4.2, \"Ratings\": 3790, \"Reviews\": 602, \"Current_price\": 11999, \"Marked_price\": 22990, \"Operating_system\": \"Android\"}, {\"Product_Name\": \"Adsun\", \"Stars\": 3.8, \"Ratings\": 6575, \"Reviews\": 904, \"Current_price\": 8999, \"Marked_price\": 29999, \"Operating_system\": \"Android\"}, {\"Product_Name\": \"LumX\", \"Stars\": 4.4, \"Ratings\": 0, \"Reviews\": 0, \"Current_price\": 8999, \"Marked_price\": 23900, \"Operating_system\": \"Linux\"}, {\"Product_Name\": \"TCL\", \"Stars\": 4.4, \"Ratings\": 0, \"Reviews\": 0, \"Current_price\": 14990, \"Marked_price\": 22990, \"Operating_system\": \"Android\"}, {\"Product_Name\": \"RGL\", \"Stars\": 4.0, \"Ratings\": 2068, \"Reviews\": 328, \"Current_price\": 13490, \"Marked_price\": 19500, \"Operating_system\": \"Android\"}, {\"Product_Name\": \"Croma\", \"Stars\": 3.9, \"Ratings\": 0, \"Reviews\": 0, \"Current_price\": 18990, \"Marked_price\": 30000, \"Operating_system\": \"Android\"}, {\"Product_Name\": \"SAMSUNG\", \"Stars\": 4.2, \"Ratings\": 0, \"Reviews\": 0, \"Current_price\": 12700, \"Marked_price\": 15900, \"Operating_system\": \"Linux\"}, {\"Product_Name\": \"Hisense\", \"Stars\": 4.4, \"Ratings\": 2756, \"Reviews\": 489, \"Current_price\": 36990, \"Marked_price\": 43990, \"Operating_system\": \"Android\"}, {\"Product_Name\": \"Onix\", \"Stars\": 0.0, \"Ratings\": 0, \"Reviews\": 0, \"Current_price\": 17999, \"Marked_price\": 19790, \"Operating_system\": \"Android\"}, {\"Product_Name\": \"Adsun\", \"Stars\": 3.8, \"Ratings\": 6575, \"Reviews\": 904, \"Current_price\": 6199, \"Marked_price\": 12999, \"Operating_system\": \"Linux\"}, {\"Product_Name\": \"RGL\", \"Stars\": 4.0, \"Ratings\": 2068, \"Reviews\": 328, \"Current_price\": 9490, \"Marked_price\": 12990, \"Operating_system\": \"Linux\"}, {\"Product_Name\": \"MarQ\", \"Stars\": 4.2, \"Ratings\": 0, \"Reviews\": 0, \"Current_price\": 6978, \"Marked_price\": 10499, \"Operating_system\": \"Linux\"}, {\"Product_Name\": \"LG\", \"Stars\": 4.4, \"Ratings\": 0, \"Reviews\": 0, \"Current_price\": 15868, \"Marked_price\": 17990, \"Operating_system\": \"Linux\"}, {\"Product_Name\": \"Croma\", \"Stars\": 4.2, \"Ratings\": 1773, \"Reviews\": 217, \"Current_price\": 7990, \"Marked_price\": 20000, \"Operating_system\": \"Android\"}, {\"Product_Name\": \"RGL\", \"Stars\": 4.0, \"Ratings\": 2068, \"Reviews\": 328, \"Current_price\": 5490, \"Marked_price\": 9990, \"Operating_system\": \"Linux\"}, {\"Product_Name\": \"Micromax\", \"Stars\": 4.2, \"Ratings\": 0, \"Reviews\": 0, \"Current_price\": 71990, \"Marked_price\": 71990, \"Operating_system\": \"Linux\"}, {\"Product_Name\": \"SONY\", \"Stars\": 4.4, \"Ratings\": 1558, \"Reviews\": 228, \"Current_price\": 22999, \"Marked_price\": 27990, \"Operating_system\": \"Linux\"}, {\"Product_Name\": \"Adsun\", \"Stars\": 3.8, \"Ratings\": 6742, \"Reviews\": 930, \"Current_price\": 8699, \"Marked_price\": 21999, \"Operating_system\": \"Android\"}, {\"Product_Name\": \"Micromax\", \"Stars\": 4.1, \"Ratings\": 0, \"Reviews\": 0, \"Current_price\": 49999, \"Marked_price\": 69990, \"Operating_system\": \"Android\"}, {\"Product_Name\": \"SONY\", \"Stars\": 4.4, \"Ratings\": 2044, \"Reviews\": 441, \"Current_price\": 27449, \"Marked_price\": 31900, \"Operating_system\": \"Linux\"}, {\"Product_Name\": \"Maser\", \"Stars\": 3.8, \"Ratings\": 0, \"Reviews\": 0, \"Current_price\": 7499, \"Marked_price\": 7999, \"Operating_system\": \"Linux\"}, {\"Product_Name\": \"Croma\", \"Stars\": 4.2, \"Ratings\": 0, \"Reviews\": 0, \"Current_price\": 11990, \"Marked_price\": 25000, \"Operating_system\": \"Android\"}, {\"Product_Name\": \"Micromax\", \"Stars\": 4.2, \"Ratings\": 2540, \"Reviews\": 484, \"Current_price\": 18990, \"Marked_price\": 36663, \"Operating_system\": \"Linux\"}, {\"Product_Name\": \"Sansui\", \"Stars\": 4.3, \"Ratings\": 2207, \"Reviews\": 321, \"Current_price\": 6999, \"Marked_price\": 9999, \"Operating_system\": \"Linux\"}, {\"Product_Name\": \"SONY\", \"Stars\": 4.6, \"Ratings\": 0, \"Reviews\": 0, \"Current_price\": 59999, \"Marked_price\": 94900, \"Operating_system\": \"Linux\"}, {\"Product_Name\": \"Adsun\", \"Stars\": 3.8, \"Ratings\": 6742, \"Reviews\": 930, \"Current_price\": 8999, \"Marked_price\": 29999, \"Operating_system\": \"Android\"}, {\"Product_Name\": \"SONY\", \"Stars\": 4.5, \"Ratings\": 6056, \"Reviews\": 1082, \"Current_price\": 34184, \"Marked_price\": 68400, \"Operating_system\": \"Linux\"}, {\"Product_Name\": \"Croma\", \"Stars\": 0.0, \"Ratings\": 0, \"Reviews\": 0, \"Current_price\": 9194, \"Marked_price\": 20000, \"Operating_system\": \"Android\"}, {\"Product_Name\": \"T-Series\", \"Stars\": 0.0, \"Ratings\": 0, \"Reviews\": 0, \"Current_price\": 26999, \"Marked_price\": 33990, \"Operating_system\": \"Linux\"}, {\"Product_Name\": \"Adsun\", \"Stars\": 3.8, \"Ratings\": 6742, \"Reviews\": 930, \"Current_price\": 6199, \"Marked_price\": 12999, \"Operating_system\": \"Linux\"}, {\"Product_Name\": \"SONY\", \"Stars\": 4.4, \"Ratings\": 0, \"Reviews\": 0, \"Current_price\": 52949, \"Marked_price\": 72990, \"Operating_system\": \"Linux\"}]}}, {\"actions\": false, \"mode\": \"vega-lite\"});\n</script>",
      "text/plain": "alt.Chart(...)"
     },
     "metadata": {}
    }
   ],
   "execution_count": null
  },
  {
   "cell_type": "code",
   "metadata": {
    "tags": [],
    "deepnote_variable_name": "df_4",
    "sql_integration_id": "deepnote-dataframe-sql",
    "cell_id": "c848283f994b4ff699589f98863ef74e",
    "deepnote_to_be_reexecuted": false,
    "source_hash": "5a2e4de5",
    "execution_start": 1660822406941,
    "execution_millis": 82,
    "deepnote_table_state": {
     "pageSize": 10,
     "pageIndex": 0,
     "filters": [],
     "sortBy": []
    },
    "deepnote_table_loading": false,
    "deepnote_sql_source": "SELECT DISTINCT Product_name,COUNT(DISTINCT Operating_system) * 100 / (SELECT COUNT(DISTINCT Operating_system) FROM df_tele) AS Percetage\nFROM df_tele\nGROUP BY Product_name\nORDER BY Percetage DESC, Product_name",
    "deepnote_cell_type": "sql",
    "deepnote_cell_height": 694
   },
   "source": "\n\ndf_4 = _deepnote_execute_sql(\"\"\"SELECT DISTINCT Product_name,COUNT(DISTINCT Operating_system) * 100 / (SELECT COUNT(DISTINCT Operating_system) FROM df_tele) AS Percetage\nFROM df_tele\nGROUP BY Product_name\nORDER BY Percetage DESC, Product_name\n\"\"\", 'SQL_DEEPNOTE_DATAFRAME_SQL')\ndf_4",
   "outputs": [
    {
     "output_type": "execute_result",
     "execution_count": 32,
     "data": {
      "application/vnd.deepnote.dataframe.v3+json": {
       "column_count": 2,
       "row_count": 56,
       "columns": [
        {
         "name": "Product_Name",
         "dtype": "object",
         "stats": {
          "unique_count": 56,
          "nan_count": 0,
          "categories": [
           {
            "name": "Croma",
            "count": 1
           },
           {
            "name": "Coocaa",
            "count": 1
           },
           {
            "name": "54 others",
            "count": 54
           }
          ]
         }
        },
        {
         "name": "Percetage",
         "dtype": "int64",
         "stats": {
          "unique_count": 4,
          "nan_count": 0,
          "min": "11",
          "max": "55",
          "histogram": [
           {
            "bin_start": 11,
            "bin_end": 15.4,
            "count": 24
           },
           {
            "bin_start": 15.4,
            "bin_end": 19.8,
            "count": 0
           },
           {
            "bin_start": 19.8,
            "bin_end": 24.200000000000003,
            "count": 28
           },
           {
            "bin_start": 24.200000000000003,
            "bin_end": 28.6,
            "count": 0
           },
           {
            "bin_start": 28.6,
            "bin_end": 33,
            "count": 0
           },
           {
            "bin_start": 33,
            "bin_end": 37.400000000000006,
            "count": 3
           },
           {
            "bin_start": 37.400000000000006,
            "bin_end": 41.800000000000004,
            "count": 0
           },
           {
            "bin_start": 41.800000000000004,
            "bin_end": 46.2,
            "count": 0
           },
           {
            "bin_start": 46.2,
            "bin_end": 50.6,
            "count": 0
           },
           {
            "bin_start": 50.6,
            "bin_end": 55,
            "count": 1
           }
          ]
         }
        },
        {
         "name": "_deepnote_index_column",
         "dtype": "int64"
        }
       ],
       "rows": [
        {
         "Product_Name": "Croma",
         "Percetage": 55,
         "_deepnote_index_column": 0
        },
        {
         "Product_Name": "Coocaa",
         "Percetage": 33,
         "_deepnote_index_column": 1
        },
        {
         "Product_Name": "Hyundai",
         "Percetage": 33,
         "_deepnote_index_column": 2
        },
        {
         "Product_Name": "SONY",
         "Percetage": 33,
         "_deepnote_index_column": 3
        },
        {
         "Product_Name": "Adsun",
         "Percetage": 22,
         "_deepnote_index_column": 4
        },
        {
         "Product_Name": "BPL",
         "Percetage": 22,
         "_deepnote_index_column": 5
        },
        {
         "Product_Name": "Bush",
         "Percetage": 22,
         "_deepnote_index_column": 6
        },
        {
         "Product_Name": "CloudWalker",
         "Percetage": 22,
         "_deepnote_index_column": 7
        },
        {
         "Product_Name": "Dyanora",
         "Percetage": 22,
         "_deepnote_index_column": 8
        },
        {
         "Product_Name": "HUIDI",
         "Percetage": 22,
         "_deepnote_index_column": 9
        }
       ]
      },
      "text/plain": "   Product_Name  Percetage\n0         Croma         55\n1        Coocaa         33\n2       Hyundai         33\n3          SONY         33\n4         Adsun         22\n5           BPL         22\n6          Bush         22\n7   CloudWalker         22\n8       Dyanora         22\n9         HUIDI         22\n10        Haier         22\n11        IMPEX         22\n12        InnoQ         22\n13        KODAK         22\n14           LG         22\n15        Lloyd         22\n16         MarQ         22\n17     Micromax         22\n18        ONIDA         22\n19         Onix         22\n20      PHILIPS         22\n21    Panasonic         22\n22          RGL         22\n23      SAMSUNG         22\n24       Sansui         22\n25          TCL         22\n26      TOSHIBA         22\n27      Thomson         22\n28           Vu         22\n29         Yuwa         22\n30     iFFALCON         22\n31       realme         22\n32         Akai         11\n33    Blaupunkt         11\n34       CORNEA         11\n35       Candes         11\n36       Compaq         11\n37        DETEL         11\n38      Hisense         11\n39          IGO         11\n40      Infinix         11\n41          JVC         11\n42         LumX         11\n43     MOTOROLA         11\n44        Maser         11\n45           Mi         11\n46       Nacson         11\n47        Nokia         11\n48      OnePlus         11\n49       Oxygen         11\n50     T-Series         11\n51           VG         11\n52       Xiaomi         11\n53         acer         11\n54         iMEE         11\n55       kinger         11",
      "text/html": "<div>\n<style scoped>\n    .dataframe tbody tr th:only-of-type {\n        vertical-align: middle;\n    }\n\n    .dataframe tbody tr th {\n        vertical-align: top;\n    }\n\n    .dataframe thead th {\n        text-align: right;\n    }\n</style>\n<table border=\"1\" class=\"dataframe\">\n  <thead>\n    <tr style=\"text-align: right;\">\n      <th></th>\n      <th>Product_Name</th>\n      <th>Percetage</th>\n    </tr>\n  </thead>\n  <tbody>\n    <tr>\n      <th>0</th>\n      <td>Croma</td>\n      <td>55</td>\n    </tr>\n    <tr>\n      <th>1</th>\n      <td>Coocaa</td>\n      <td>33</td>\n    </tr>\n    <tr>\n      <th>2</th>\n      <td>Hyundai</td>\n      <td>33</td>\n    </tr>\n    <tr>\n      <th>3</th>\n      <td>SONY</td>\n      <td>33</td>\n    </tr>\n    <tr>\n      <th>4</th>\n      <td>Adsun</td>\n      <td>22</td>\n    </tr>\n    <tr>\n      <th>5</th>\n      <td>BPL</td>\n      <td>22</td>\n    </tr>\n    <tr>\n      <th>6</th>\n      <td>Bush</td>\n      <td>22</td>\n    </tr>\n    <tr>\n      <th>7</th>\n      <td>CloudWalker</td>\n      <td>22</td>\n    </tr>\n    <tr>\n      <th>8</th>\n      <td>Dyanora</td>\n      <td>22</td>\n    </tr>\n    <tr>\n      <th>9</th>\n      <td>HUIDI</td>\n      <td>22</td>\n    </tr>\n    <tr>\n      <th>10</th>\n      <td>Haier</td>\n      <td>22</td>\n    </tr>\n    <tr>\n      <th>11</th>\n      <td>IMPEX</td>\n      <td>22</td>\n    </tr>\n    <tr>\n      <th>12</th>\n      <td>InnoQ</td>\n      <td>22</td>\n    </tr>\n    <tr>\n      <th>13</th>\n      <td>KODAK</td>\n      <td>22</td>\n    </tr>\n    <tr>\n      <th>14</th>\n      <td>LG</td>\n      <td>22</td>\n    </tr>\n    <tr>\n      <th>15</th>\n      <td>Lloyd</td>\n      <td>22</td>\n    </tr>\n    <tr>\n      <th>16</th>\n      <td>MarQ</td>\n      <td>22</td>\n    </tr>\n    <tr>\n      <th>17</th>\n      <td>Micromax</td>\n      <td>22</td>\n    </tr>\n    <tr>\n      <th>18</th>\n      <td>ONIDA</td>\n      <td>22</td>\n    </tr>\n    <tr>\n      <th>19</th>\n      <td>Onix</td>\n      <td>22</td>\n    </tr>\n    <tr>\n      <th>20</th>\n      <td>PHILIPS</td>\n      <td>22</td>\n    </tr>\n    <tr>\n      <th>21</th>\n      <td>Panasonic</td>\n      <td>22</td>\n    </tr>\n    <tr>\n      <th>22</th>\n      <td>RGL</td>\n      <td>22</td>\n    </tr>\n    <tr>\n      <th>23</th>\n      <td>SAMSUNG</td>\n      <td>22</td>\n    </tr>\n    <tr>\n      <th>24</th>\n      <td>Sansui</td>\n      <td>22</td>\n    </tr>\n    <tr>\n      <th>25</th>\n      <td>TCL</td>\n      <td>22</td>\n    </tr>\n    <tr>\n      <th>26</th>\n      <td>TOSHIBA</td>\n      <td>22</td>\n    </tr>\n    <tr>\n      <th>27</th>\n      <td>Thomson</td>\n      <td>22</td>\n    </tr>\n    <tr>\n      <th>28</th>\n      <td>Vu</td>\n      <td>22</td>\n    </tr>\n    <tr>\n      <th>29</th>\n      <td>Yuwa</td>\n      <td>22</td>\n    </tr>\n    <tr>\n      <th>30</th>\n      <td>iFFALCON</td>\n      <td>22</td>\n    </tr>\n    <tr>\n      <th>31</th>\n      <td>realme</td>\n      <td>22</td>\n    </tr>\n    <tr>\n      <th>32</th>\n      <td>Akai</td>\n      <td>11</td>\n    </tr>\n    <tr>\n      <th>33</th>\n      <td>Blaupunkt</td>\n      <td>11</td>\n    </tr>\n    <tr>\n      <th>34</th>\n      <td>CORNEA</td>\n      <td>11</td>\n    </tr>\n    <tr>\n      <th>35</th>\n      <td>Candes</td>\n      <td>11</td>\n    </tr>\n    <tr>\n      <th>36</th>\n      <td>Compaq</td>\n      <td>11</td>\n    </tr>\n    <tr>\n      <th>37</th>\n      <td>DETEL</td>\n      <td>11</td>\n    </tr>\n    <tr>\n      <th>38</th>\n      <td>Hisense</td>\n      <td>11</td>\n    </tr>\n    <tr>\n      <th>39</th>\n      <td>IGO</td>\n      <td>11</td>\n    </tr>\n    <tr>\n      <th>40</th>\n      <td>Infinix</td>\n      <td>11</td>\n    </tr>\n    <tr>\n      <th>41</th>\n      <td>JVC</td>\n      <td>11</td>\n    </tr>\n    <tr>\n      <th>42</th>\n      <td>LumX</td>\n      <td>11</td>\n    </tr>\n    <tr>\n      <th>43</th>\n      <td>MOTOROLA</td>\n      <td>11</td>\n    </tr>\n    <tr>\n      <th>44</th>\n      <td>Maser</td>\n      <td>11</td>\n    </tr>\n    <tr>\n      <th>45</th>\n      <td>Mi</td>\n      <td>11</td>\n    </tr>\n    <tr>\n      <th>46</th>\n      <td>Nacson</td>\n      <td>11</td>\n    </tr>\n    <tr>\n      <th>47</th>\n      <td>Nokia</td>\n      <td>11</td>\n    </tr>\n    <tr>\n      <th>48</th>\n      <td>OnePlus</td>\n      <td>11</td>\n    </tr>\n    <tr>\n      <th>49</th>\n      <td>Oxygen</td>\n      <td>11</td>\n    </tr>\n    <tr>\n      <th>50</th>\n      <td>T-Series</td>\n      <td>11</td>\n    </tr>\n    <tr>\n      <th>51</th>\n      <td>VG</td>\n      <td>11</td>\n    </tr>\n    <tr>\n      <th>52</th>\n      <td>Xiaomi</td>\n      <td>11</td>\n    </tr>\n    <tr>\n      <th>53</th>\n      <td>acer</td>\n      <td>11</td>\n    </tr>\n    <tr>\n      <th>54</th>\n      <td>iMEE</td>\n      <td>11</td>\n    </tr>\n    <tr>\n      <th>55</th>\n      <td>kinger</td>\n      <td>11</td>\n    </tr>\n  </tbody>\n</table>\n</div>"
     },
     "metadata": {}
    }
   ],
   "execution_count": null
  },
  {
   "cell_type": "code",
   "source": "_deepnote_run_altair(df_4, \"\"\"{\"$schema\":\"https://vega.github.io/schema/vega-lite/v4.json\",\"mark\":{\"type\":\"bar\",\"tooltip\":true},\"height\":220,\"autosize\":{\"type\":\"fit\"},\"data\":{\"name\":\"placeholder\"},\"encoding\":{\"x\":{\"field\":\"Product_Name\",\"type\":\"nominal\",\"sort\":null,\"scale\":{\"type\":\"linear\",\"zero\":false}},\"y\":{\"field\":\"Percetage\",\"type\":\"quantitative\",\"sort\":null,\"scale\":{\"type\":\"linear\",\"zero\":true}},\"color\":{\"field\":\"\",\"type\":\"nominal\",\"sort\":null,\"scale\":{\"type\":\"linear\",\"zero\":false}}}}\"\"\")",
   "metadata": {
    "cell_id": "f40510e973b94225b1bff172a08cec05",
    "deepnote_variable_name": "df_4",
    "deepnote_visualization_spec": {
     "$schema": "https://vega.github.io/schema/vega-lite/v4.json",
     "mark": {
      "type": "bar",
      "tooltip": true
     },
     "height": 220,
     "autosize": {
      "type": "fit"
     },
     "data": {
      "name": "placeholder"
     },
     "encoding": {
      "x": {
       "field": "Product_Name",
       "type": "nominal",
       "sort": null,
       "scale": {
        "type": "linear",
        "zero": false
       }
      },
      "y": {
       "field": "Percetage",
       "type": "quantitative",
       "sort": null,
       "scale": {
        "type": "linear",
        "zero": true
       }
      },
      "color": {
       "field": "",
       "type": "nominal",
       "sort": null,
       "scale": {
        "type": "linear",
        "zero": false
       }
      }
     }
    },
    "deepnote_to_be_reexecuted": false,
    "source_hash": "581e8617",
    "execution_start": 1660822407098,
    "execution_millis": 4,
    "deepnote_cell_type": "visualization"
   },
   "outputs": [
    {
     "output_type": "execute_result",
     "execution_count": 33,
     "data": {
      "text/html": "\n<div id=\"altair-viz-1f5c0d5f9bd8411081948860354e4fc0\"></div>\n<script type=\"text/javascript\">\n  (function(spec, embedOpt){\n    let outputDiv = document.currentScript.previousElementSibling;\n    if (outputDiv.id !== \"altair-viz-1f5c0d5f9bd8411081948860354e4fc0\") {\n      outputDiv = document.getElementById(\"altair-viz-1f5c0d5f9bd8411081948860354e4fc0\");\n    }\n    const paths = {\n      \"vega\": \"https://cdn.jsdelivr.net/npm//vega@5?noext\",\n      \"vega-lib\": \"https://cdn.jsdelivr.net/npm//vega-lib?noext\",\n      \"vega-lite\": \"https://cdn.jsdelivr.net/npm//vega-lite@4.8.1?noext\",\n      \"vega-embed\": \"https://cdn.jsdelivr.net/npm//vega-embed@6?noext\",\n    };\n\n    function loadScript(lib) {\n      return new Promise(function(resolve, reject) {\n        var s = document.createElement('script');\n        s.src = paths[lib];\n        s.async = true;\n        s.onload = () => resolve(paths[lib]);\n        s.onerror = () => reject(`Error loading script: ${paths[lib]}`);\n        document.getElementsByTagName(\"head\")[0].appendChild(s);\n      });\n    }\n\n    function showError(err) {\n      outputDiv.innerHTML = `<div class=\"error\" style=\"color:red;\">${err}</div>`;\n      throw err;\n    }\n\n    function displayChart(vegaEmbed) {\n      vegaEmbed(outputDiv, spec, embedOpt)\n        .catch(err => showError(`Javascript Error: ${err.message}<br>This usually means there's a typo in your chart specification. See the javascript console for the full traceback.`));\n    }\n\n    if(typeof define === \"function\" && define.amd) {\n      requirejs.config({paths});\n      require([\"vega-embed\"], displayChart, err => showError(`Error loading script: ${err.message}`));\n    } else if (typeof vegaEmbed === \"function\") {\n      displayChart(vegaEmbed);\n    } else {\n      loadScript(\"vega\")\n        .then(() => loadScript(\"vega-lite\"))\n        .then(() => loadScript(\"vega-embed\"))\n        .catch(showError)\n        .then(() => displayChart(vegaEmbed));\n    }\n  })({\"config\": {\"view\": {\"continuousWidth\": 400, \"continuousHeight\": 300}, \"area\": {\"fill\": \"#51C0E9\"}, \"axis\": {\"labelFont\": \"Inter, sans-serif\", \"labelFontSize\": 12, \"labelFontWeight\": \"normal\", \"labelLimit\": 60, \"labelOverlap\": \"greedy\", \"titleFont\": \"Inter, sans-serif\", \"titleFontSize\": 12, \"titleFontWeight\": \"bold\"}, \"background\": \"#ffffff\", \"legend\": {\"labelFont\": \"Inter, sans-serif\", \"labelFontSize\": 12, \"titleFont\": \"Inter, sans-serif\", \"titleFontSize\": 12, \"titleFontWeight\": \"bold\"}, \"line\": {\"stroke\": \"#51C0E9\", \"strokeWidth\": 2}, \"rect\": {\"fill\": \"#51C0E9\"}, \"title\": {\"anchor\": \"start\", \"color\": \"#000000\", \"font\": \"Inter, sans-serif\", \"fontSize\": 22, \"fontWeight\": \"normal\"}}, \"data\": {\"name\": \"data-b673ca263059e8fbf4f63273a20cc9aa\"}, \"mark\": {\"type\": \"bar\", \"tooltip\": true}, \"autosize\": {\"type\": \"fit\"}, \"encoding\": {\"color\": {\"type\": \"nominal\", \"field\": \"\", \"scale\": {\"type\": \"linear\", \"zero\": false}, \"sort\": null}, \"x\": {\"type\": \"nominal\", \"field\": \"Product_Name\", \"scale\": {\"type\": \"linear\", \"zero\": false}, \"sort\": null}, \"y\": {\"type\": \"quantitative\", \"field\": \"Percetage\", \"scale\": {\"type\": \"linear\", \"zero\": true}, \"sort\": null}}, \"height\": 300, \"width\": \"container\", \"$schema\": \"https://vega.github.io/schema/vega-lite/v4.json\", \"datasets\": {\"data-b673ca263059e8fbf4f63273a20cc9aa\": [{\"Product_Name\": \"Croma\", \"Percetage\": 55}, {\"Product_Name\": \"Coocaa\", \"Percetage\": 33}, {\"Product_Name\": \"Hyundai\", \"Percetage\": 33}, {\"Product_Name\": \"SONY\", \"Percetage\": 33}, {\"Product_Name\": \"Adsun\", \"Percetage\": 22}, {\"Product_Name\": \"BPL\", \"Percetage\": 22}, {\"Product_Name\": \"Bush\", \"Percetage\": 22}, {\"Product_Name\": \"CloudWalker\", \"Percetage\": 22}, {\"Product_Name\": \"Dyanora\", \"Percetage\": 22}, {\"Product_Name\": \"HUIDI\", \"Percetage\": 22}, {\"Product_Name\": \"Haier\", \"Percetage\": 22}, {\"Product_Name\": \"IMPEX\", \"Percetage\": 22}, {\"Product_Name\": \"InnoQ\", \"Percetage\": 22}, {\"Product_Name\": \"KODAK\", \"Percetage\": 22}, {\"Product_Name\": \"LG\", \"Percetage\": 22}, {\"Product_Name\": \"Lloyd\", \"Percetage\": 22}, {\"Product_Name\": \"MarQ\", \"Percetage\": 22}, {\"Product_Name\": \"Micromax\", \"Percetage\": 22}, {\"Product_Name\": \"ONIDA\", \"Percetage\": 22}, {\"Product_Name\": \"Onix\", \"Percetage\": 22}, {\"Product_Name\": \"PHILIPS\", \"Percetage\": 22}, {\"Product_Name\": \"Panasonic\", \"Percetage\": 22}, {\"Product_Name\": \"RGL\", \"Percetage\": 22}, {\"Product_Name\": \"SAMSUNG\", \"Percetage\": 22}, {\"Product_Name\": \"Sansui\", \"Percetage\": 22}, {\"Product_Name\": \"TCL\", \"Percetage\": 22}, {\"Product_Name\": \"TOSHIBA\", \"Percetage\": 22}, {\"Product_Name\": \"Thomson\", \"Percetage\": 22}, {\"Product_Name\": \"Vu\", \"Percetage\": 22}, {\"Product_Name\": \"Yuwa\", \"Percetage\": 22}, {\"Product_Name\": \"iFFALCON\", \"Percetage\": 22}, {\"Product_Name\": \"realme\", \"Percetage\": 22}, {\"Product_Name\": \"Akai\", \"Percetage\": 11}, {\"Product_Name\": \"Blaupunkt\", \"Percetage\": 11}, {\"Product_Name\": \"CORNEA\", \"Percetage\": 11}, {\"Product_Name\": \"Candes\", \"Percetage\": 11}, {\"Product_Name\": \"Compaq\", \"Percetage\": 11}, {\"Product_Name\": \"DETEL\", \"Percetage\": 11}, {\"Product_Name\": \"Hisense\", \"Percetage\": 11}, {\"Product_Name\": \"IGO\", \"Percetage\": 11}, {\"Product_Name\": \"Infinix\", \"Percetage\": 11}, {\"Product_Name\": \"JVC\", \"Percetage\": 11}, {\"Product_Name\": \"LumX\", \"Percetage\": 11}, {\"Product_Name\": \"MOTOROLA\", \"Percetage\": 11}, {\"Product_Name\": \"Maser\", \"Percetage\": 11}, {\"Product_Name\": \"Mi\", \"Percetage\": 11}, {\"Product_Name\": \"Nacson\", \"Percetage\": 11}, {\"Product_Name\": \"Nokia\", \"Percetage\": 11}, {\"Product_Name\": \"OnePlus\", \"Percetage\": 11}, {\"Product_Name\": \"Oxygen\", \"Percetage\": 11}, {\"Product_Name\": \"T-Series\", \"Percetage\": 11}, {\"Product_Name\": \"VG\", \"Percetage\": 11}, {\"Product_Name\": \"Xiaomi\", \"Percetage\": 11}, {\"Product_Name\": \"acer\", \"Percetage\": 11}, {\"Product_Name\": \"iMEE\", \"Percetage\": 11}, {\"Product_Name\": \"kinger\", \"Percetage\": 11}]}}, {\"actions\": false, \"mode\": \"vega-lite\"});\n</script>",
      "text/plain": "alt.Chart(...)"
     },
     "metadata": {}
    }
   ],
   "execution_count": null
  },
  {
   "cell_type": "code",
   "metadata": {
    "tags": [],
    "deepnote_variable_name": "df_5",
    "sql_integration_id": "deepnote-dataframe-sql",
    "cell_id": "91965aa0885743b0b3e239e312b6b9fe",
    "deepnote_to_be_reexecuted": false,
    "source_hash": "3af09c1b",
    "execution_start": 1660822407111,
    "execution_millis": 79,
    "deepnote_sql_source": "SELECT DISTINCT Product_name, COUNT(Stars) AS Count_star\nFROM df_tele\nGROUP BY Product_name, Stars\nHAVING Stars > 4.0\nORDER BY COUNT(Stars) DESC",
    "deepnote_cell_type": "sql",
    "deepnote_cell_height": 707
   },
   "source": "\n\ndf_5 = _deepnote_execute_sql(\"\"\"SELECT DISTINCT Product_name, COUNT(Stars) AS Count_star\nFROM df_tele\nGROUP BY Product_name, Stars\nHAVING Stars > 4.0\nORDER BY COUNT(Stars) DESC\n\"\"\", 'SQL_DEEPNOTE_DATAFRAME_SQL')\ndf_5",
   "outputs": [
    {
     "output_type": "execute_result",
     "execution_count": 34,
     "data": {
      "application/vnd.deepnote.dataframe.v3+json": {
       "column_count": 2,
       "row_count": 102,
       "columns": [
        {
         "name": "Product_Name",
         "dtype": "object",
         "stats": {
          "unique_count": 43,
          "nan_count": 0,
          "categories": [
           {
            "name": "SAMSUNG",
            "count": 8
           },
           {
            "name": "LG",
            "count": 6
           },
           {
            "name": "41 others",
            "count": 88
           }
          ]
         }
        },
        {
         "name": "Count_star",
         "dtype": "int64",
         "stats": {
          "unique_count": 15,
          "nan_count": 0,
          "min": "1",
          "max": "58",
          "histogram": [
           {
            "bin_start": 1,
            "bin_end": 6.7,
            "count": 84
           },
           {
            "bin_start": 6.7,
            "bin_end": 12.4,
            "count": 13
           },
           {
            "bin_start": 12.4,
            "bin_end": 18.1,
            "count": 4
           },
           {
            "bin_start": 18.1,
            "bin_end": 23.8,
            "count": 0
           },
           {
            "bin_start": 23.8,
            "bin_end": 29.5,
            "count": 0
           },
           {
            "bin_start": 29.5,
            "bin_end": 35.2,
            "count": 0
           },
           {
            "bin_start": 35.2,
            "bin_end": 40.9,
            "count": 0
           },
           {
            "bin_start": 40.9,
            "bin_end": 46.6,
            "count": 0
           },
           {
            "bin_start": 46.6,
            "bin_end": 52.300000000000004,
            "count": 0
           },
           {
            "bin_start": 52.300000000000004,
            "bin_end": 58,
            "count": 1
           }
          ]
         }
        },
        {
         "name": "_deepnote_index_column",
         "dtype": "int64"
        }
       ],
       "rows": [
        {
         "Product_Name": "Croma",
         "Count_star": 58,
         "_deepnote_index_column": 0
        },
        {
         "Product_Name": "LG",
         "Count_star": 16,
         "_deepnote_index_column": 1
        },
        {
         "Product_Name": "SAMSUNG",
         "Count_star": 15,
         "_deepnote_index_column": 2
        },
        {
         "Product_Name": "SAMSUNG",
         "Count_star": 14,
         "_deepnote_index_column": 3
        },
        {
         "Product_Name": "Croma",
         "Count_star": 14,
         "_deepnote_index_column": 4
        },
        {
         "Product_Name": "Nokia",
         "Count_star": 12,
         "_deepnote_index_column": 5
        },
        {
         "Product_Name": "MOTOROLA",
         "Count_star": 10,
         "_deepnote_index_column": 6
        },
        {
         "Product_Name": "Vu",
         "Count_star": 9,
         "_deepnote_index_column": 7
        },
        {
         "Product_Name": "SAMSUNG",
         "Count_star": 9,
         "_deepnote_index_column": 8
        },
        {
         "Product_Name": "LG",
         "Count_star": 9,
         "_deepnote_index_column": 9
        }
       ]
      },
      "text/plain": "    Product_Name  Count_star\n0          Croma          58\n1             LG          16\n2        SAMSUNG          15\n3        SAMSUNG          14\n4          Croma          14\n..           ...         ...\n97         Lloyd           1\n98        Nacson           1\n99      Micromax           1\n100          BPL           1\n101  CloudWalker           1\n\n[102 rows x 2 columns]",
      "text/html": "<div>\n<style scoped>\n    .dataframe tbody tr th:only-of-type {\n        vertical-align: middle;\n    }\n\n    .dataframe tbody tr th {\n        vertical-align: top;\n    }\n\n    .dataframe thead th {\n        text-align: right;\n    }\n</style>\n<table border=\"1\" class=\"dataframe\">\n  <thead>\n    <tr style=\"text-align: right;\">\n      <th></th>\n      <th>Product_Name</th>\n      <th>Count_star</th>\n    </tr>\n  </thead>\n  <tbody>\n    <tr>\n      <th>0</th>\n      <td>Croma</td>\n      <td>58</td>\n    </tr>\n    <tr>\n      <th>1</th>\n      <td>LG</td>\n      <td>16</td>\n    </tr>\n    <tr>\n      <th>2</th>\n      <td>SAMSUNG</td>\n      <td>15</td>\n    </tr>\n    <tr>\n      <th>3</th>\n      <td>SAMSUNG</td>\n      <td>14</td>\n    </tr>\n    <tr>\n      <th>4</th>\n      <td>Croma</td>\n      <td>14</td>\n    </tr>\n    <tr>\n      <th>...</th>\n      <td>...</td>\n      <td>...</td>\n    </tr>\n    <tr>\n      <th>97</th>\n      <td>Lloyd</td>\n      <td>1</td>\n    </tr>\n    <tr>\n      <th>98</th>\n      <td>Nacson</td>\n      <td>1</td>\n    </tr>\n    <tr>\n      <th>99</th>\n      <td>Micromax</td>\n      <td>1</td>\n    </tr>\n    <tr>\n      <th>100</th>\n      <td>BPL</td>\n      <td>1</td>\n    </tr>\n    <tr>\n      <th>101</th>\n      <td>CloudWalker</td>\n      <td>1</td>\n    </tr>\n  </tbody>\n</table>\n<p>102 rows × 2 columns</p>\n</div>"
     },
     "metadata": {}
    }
   ],
   "execution_count": null
  },
  {
   "cell_type": "code",
   "source": "_deepnote_run_altair(df_5, \"\"\"{\"$schema\":\"https://vega.github.io/schema/vega-lite/v4.json\",\"mark\":{\"type\":\"bar\",\"tooltip\":true},\"height\":220,\"autosize\":{\"type\":\"fit\"},\"data\":{\"name\":\"placeholder\"},\"encoding\":{\"x\":{\"field\":\"Count_star\",\"type\":\"quantitative\",\"sort\":null,\"scale\":{\"type\":\"linear\",\"zero\":false}},\"y\":{\"field\":\"Product_Name\",\"type\":\"nominal\",\"sort\":null,\"scale\":{\"type\":\"linear\",\"zero\":true}},\"color\":{\"field\":\"\",\"type\":\"nominal\",\"sort\":null,\"scale\":{\"type\":\"linear\",\"zero\":false}}}}\"\"\")",
   "metadata": {
    "cell_id": "5c787d6f859843758c9995b6ac80d3c4",
    "deepnote_variable_name": "df_5",
    "deepnote_visualization_spec": {
     "$schema": "https://vega.github.io/schema/vega-lite/v4.json",
     "mark": {
      "type": "bar",
      "tooltip": true
     },
     "height": 220,
     "autosize": {
      "type": "fit"
     },
     "data": {
      "name": "placeholder"
     },
     "encoding": {
      "x": {
       "field": "Count_star",
       "type": "quantitative",
       "sort": null,
       "scale": {
        "type": "linear",
        "zero": false
       }
      },
      "y": {
       "field": "Product_Name",
       "type": "nominal",
       "sort": null,
       "scale": {
        "type": "linear",
        "zero": true
       }
      },
      "color": {
       "field": "",
       "type": "nominal",
       "sort": null,
       "scale": {
        "type": "linear",
        "zero": false
       }
      }
     }
    },
    "deepnote_to_be_reexecuted": false,
    "source_hash": "1bb40b72",
    "execution_start": 1660822407190,
    "execution_millis": 62,
    "deepnote_cell_type": "visualization"
   },
   "outputs": [
    {
     "output_type": "execute_result",
     "execution_count": 35,
     "data": {
      "text/html": "\n<div id=\"altair-viz-bf6bc0cd16b843b3825adc49b743ee05\"></div>\n<script type=\"text/javascript\">\n  (function(spec, embedOpt){\n    let outputDiv = document.currentScript.previousElementSibling;\n    if (outputDiv.id !== \"altair-viz-bf6bc0cd16b843b3825adc49b743ee05\") {\n      outputDiv = document.getElementById(\"altair-viz-bf6bc0cd16b843b3825adc49b743ee05\");\n    }\n    const paths = {\n      \"vega\": \"https://cdn.jsdelivr.net/npm//vega@5?noext\",\n      \"vega-lib\": \"https://cdn.jsdelivr.net/npm//vega-lib?noext\",\n      \"vega-lite\": \"https://cdn.jsdelivr.net/npm//vega-lite@4.8.1?noext\",\n      \"vega-embed\": \"https://cdn.jsdelivr.net/npm//vega-embed@6?noext\",\n    };\n\n    function loadScript(lib) {\n      return new Promise(function(resolve, reject) {\n        var s = document.createElement('script');\n        s.src = paths[lib];\n        s.async = true;\n        s.onload = () => resolve(paths[lib]);\n        s.onerror = () => reject(`Error loading script: ${paths[lib]}`);\n        document.getElementsByTagName(\"head\")[0].appendChild(s);\n      });\n    }\n\n    function showError(err) {\n      outputDiv.innerHTML = `<div class=\"error\" style=\"color:red;\">${err}</div>`;\n      throw err;\n    }\n\n    function displayChart(vegaEmbed) {\n      vegaEmbed(outputDiv, spec, embedOpt)\n        .catch(err => showError(`Javascript Error: ${err.message}<br>This usually means there's a typo in your chart specification. See the javascript console for the full traceback.`));\n    }\n\n    if(typeof define === \"function\" && define.amd) {\n      requirejs.config({paths});\n      require([\"vega-embed\"], displayChart, err => showError(`Error loading script: ${err.message}`));\n    } else if (typeof vegaEmbed === \"function\") {\n      displayChart(vegaEmbed);\n    } else {\n      loadScript(\"vega\")\n        .then(() => loadScript(\"vega-lite\"))\n        .then(() => loadScript(\"vega-embed\"))\n        .catch(showError)\n        .then(() => displayChart(vegaEmbed));\n    }\n  })({\"config\": {\"view\": {\"continuousWidth\": 400, \"continuousHeight\": 300}, \"area\": {\"fill\": \"#51C0E9\"}, \"axis\": {\"labelFont\": \"Inter, sans-serif\", \"labelFontSize\": 12, \"labelFontWeight\": \"normal\", \"labelLimit\": 60, \"labelOverlap\": \"greedy\", \"titleFont\": \"Inter, sans-serif\", \"titleFontSize\": 12, \"titleFontWeight\": \"bold\"}, \"background\": \"#ffffff\", \"legend\": {\"labelFont\": \"Inter, sans-serif\", \"labelFontSize\": 12, \"titleFont\": \"Inter, sans-serif\", \"titleFontSize\": 12, \"titleFontWeight\": \"bold\"}, \"line\": {\"stroke\": \"#51C0E9\", \"strokeWidth\": 2}, \"rect\": {\"fill\": \"#51C0E9\"}, \"title\": {\"anchor\": \"start\", \"color\": \"#000000\", \"font\": \"Inter, sans-serif\", \"fontSize\": 22, \"fontWeight\": \"normal\"}}, \"data\": {\"name\": \"data-be4e26ba97219cd824aa7d22444577f2\"}, \"mark\": {\"type\": \"bar\", \"tooltip\": true}, \"autosize\": {\"type\": \"fit\"}, \"encoding\": {\"color\": {\"type\": \"nominal\", \"field\": \"\", \"scale\": {\"type\": \"linear\", \"zero\": false}, \"sort\": null}, \"x\": {\"type\": \"quantitative\", \"field\": \"Count_star\", \"scale\": {\"type\": \"linear\", \"zero\": false}, \"sort\": null}, \"y\": {\"type\": \"nominal\", \"field\": \"Product_Name\", \"scale\": {\"type\": \"linear\", \"zero\": true}, \"sort\": null}}, \"height\": 300, \"width\": \"container\", \"$schema\": \"https://vega.github.io/schema/vega-lite/v4.json\", \"datasets\": {\"data-be4e26ba97219cd824aa7d22444577f2\": [{\"Product_Name\": \"Croma\", \"Count_star\": 58}, {\"Product_Name\": \"LG\", \"Count_star\": 16}, {\"Product_Name\": \"SAMSUNG\", \"Count_star\": 15}, {\"Product_Name\": \"SAMSUNG\", \"Count_star\": 14}, {\"Product_Name\": \"Croma\", \"Count_star\": 14}, {\"Product_Name\": \"Nokia\", \"Count_star\": 12}, {\"Product_Name\": \"MOTOROLA\", \"Count_star\": 10}, {\"Product_Name\": \"Vu\", \"Count_star\": 9}, {\"Product_Name\": \"SAMSUNG\", \"Count_star\": 9}, {\"Product_Name\": \"LG\", \"Count_star\": 9}, {\"Product_Name\": \"Mi\", \"Count_star\": 8}, {\"Product_Name\": \"SONY\", \"Count_star\": 8}, {\"Product_Name\": \"TCL\", \"Count_star\": 8}, {\"Product_Name\": \"SAMSUNG\", \"Count_star\": 8}, {\"Product_Name\": \"realme\", \"Count_star\": 7}, {\"Product_Name\": \"acer\", \"Count_star\": 7}, {\"Product_Name\": \"Thomson\", \"Count_star\": 7}, {\"Product_Name\": \"SONY\", \"Count_star\": 7}, {\"Product_Name\": \"LG\", \"Count_star\": 6}, {\"Product_Name\": \"KODAK\", \"Count_star\": 6}, {\"Product_Name\": \"TCL\", \"Count_star\": 6}, {\"Product_Name\": \"OnePlus\", \"Count_star\": 5}, {\"Product_Name\": \"Vu\", \"Count_star\": 5}, {\"Product_Name\": \"iFFALCON\", \"Count_star\": 5}, {\"Product_Name\": \"TOSHIBA\", \"Count_star\": 5}, {\"Product_Name\": \"SONY\", \"Count_star\": 5}, {\"Product_Name\": \"LG\", \"Count_star\": 5}, {\"Product_Name\": \"Coocaa\", \"Count_star\": 4}, {\"Product_Name\": \"Mi\", \"Count_star\": 4}, {\"Product_Name\": \"Thomson\", \"Count_star\": 4}, {\"Product_Name\": \"KODAK\", \"Count_star\": 4}, {\"Product_Name\": \"Blaupunkt\", \"Count_star\": 4}, {\"Product_Name\": \"ONIDA\", \"Count_star\": 4}, {\"Product_Name\": \"LG\", \"Count_star\": 4}, {\"Product_Name\": \"SAMSUNG\", \"Count_star\": 4}, {\"Product_Name\": \"Xiaomi\", \"Count_star\": 3}, {\"Product_Name\": \"MarQ\", \"Count_star\": 3}, {\"Product_Name\": \"InnoQ\", \"Count_star\": 3}, {\"Product_Name\": \"Hyundai\", \"Count_star\": 3}, {\"Product_Name\": \"Blaupunkt\", \"Count_star\": 3}, {\"Product_Name\": \"Dyanora\", \"Count_star\": 3}, {\"Product_Name\": \"Hisense\", \"Count_star\": 3}, {\"Product_Name\": \"SAMSUNG\", \"Count_star\": 3}, {\"Product_Name\": \"Thomson\", \"Count_star\": 3}, {\"Product_Name\": \"Vu\", \"Count_star\": 3}, {\"Product_Name\": \"Infinix\", \"Count_star\": 3}, {\"Product_Name\": \"iFFALCON\", \"Count_star\": 3}, {\"Product_Name\": \"PHILIPS\", \"Count_star\": 3}, {\"Product_Name\": \"LG\", \"Count_star\": 3}, {\"Product_Name\": \"Sansui\", \"Count_star\": 3}, {\"Product_Name\": \"SONY\", \"Count_star\": 3}, {\"Product_Name\": \"Micromax\", \"Count_star\": 3}, {\"Product_Name\": \"Haier\", \"Count_star\": 3}, {\"Product_Name\": \"OnePlus\", \"Count_star\": 2}, {\"Product_Name\": \"Hisense\", \"Count_star\": 2}, {\"Product_Name\": \"Coocaa\", \"Count_star\": 2}, {\"Product_Name\": \"Thomson\", \"Count_star\": 2}, {\"Product_Name\": \"Sansui\", \"Count_star\": 2}, {\"Product_Name\": \"SONY\", \"Count_star\": 2}, {\"Product_Name\": \"Hyundai\", \"Count_star\": 2}, {\"Product_Name\": \"Compaq\", \"Count_star\": 2}, {\"Product_Name\": \"iFFALCON\", \"Count_star\": 2}, {\"Product_Name\": \"MarQ\", \"Count_star\": 2}, {\"Product_Name\": \"TCL\", \"Count_star\": 2}, {\"Product_Name\": \"Haier\", \"Count_star\": 2}, {\"Product_Name\": \"Panasonic\", \"Count_star\": 2}, {\"Product_Name\": \"Nokia\", \"Count_star\": 2}, {\"Product_Name\": \"JVC\", \"Count_star\": 2}, {\"Product_Name\": \"SAMSUNG\", \"Count_star\": 2}, {\"Product_Name\": \"Thomson\", \"Count_star\": 1}, {\"Product_Name\": \"realme\", \"Count_star\": 1}, {\"Product_Name\": \"TOSHIBA\", \"Count_star\": 1}, {\"Product_Name\": \"KODAK\", \"Count_star\": 1}, {\"Product_Name\": \"Candes\", \"Count_star\": 1}, {\"Product_Name\": \"Sansui\", \"Count_star\": 1}, {\"Product_Name\": \"Hyundai\", \"Count_star\": 1}, {\"Product_Name\": \"PHILIPS\", \"Count_star\": 1}, {\"Product_Name\": \"MOTOROLA\", \"Count_star\": 1}, {\"Product_Name\": \"Xiaomi\", \"Count_star\": 1}, {\"Product_Name\": \"TCL\", \"Count_star\": 1}, {\"Product_Name\": \"Nokia\", \"Count_star\": 1}, {\"Product_Name\": \"MarQ\", \"Count_star\": 1}, {\"Product_Name\": \"iFFALCON\", \"Count_star\": 1}, {\"Product_Name\": \"Bush\", \"Count_star\": 1}, {\"Product_Name\": \"Mi\", \"Count_star\": 1}, {\"Product_Name\": \"Compaq\", \"Count_star\": 1}, {\"Product_Name\": \"SONY\", \"Count_star\": 1}, {\"Product_Name\": \"IGO\", \"Count_star\": 1}, {\"Product_Name\": \"Croma\", \"Count_star\": 1}, {\"Product_Name\": \"Vu\", \"Count_star\": 1}, {\"Product_Name\": \"LumX\", \"Count_star\": 1}, {\"Product_Name\": \"DETEL\", \"Count_star\": 1}, {\"Product_Name\": \"Panasonic\", \"Count_star\": 1}, {\"Product_Name\": \"Onix\", \"Count_star\": 1}, {\"Product_Name\": \"SAMSUNG\", \"Count_star\": 1}, {\"Product_Name\": \"Dyanora\", \"Count_star\": 1}, {\"Product_Name\": \"Haier\", \"Count_star\": 1}, {\"Product_Name\": \"Lloyd\", \"Count_star\": 1}, {\"Product_Name\": \"Nacson\", \"Count_star\": 1}, {\"Product_Name\": \"Micromax\", \"Count_star\": 1}, {\"Product_Name\": \"BPL\", \"Count_star\": 1}, {\"Product_Name\": \"CloudWalker\", \"Count_star\": 1}]}}, {\"actions\": false, \"mode\": \"vega-lite\"});\n</script>",
      "text/plain": "alt.Chart(...)"
     },
     "metadata": {}
    }
   ],
   "execution_count": null
  },
  {
   "cell_type": "code",
   "source": "\n\ndf_6 = _deepnote_execute_sql(\"\"\"SELECT DISTINCT Product_name, MAX(Current_price) AS Highest\nfrom df_tele\nGROUP BY Product_name\norder by Highest DESC\n\n\"\"\", 'SQL_DEEPNOTE_DATAFRAME_SQL')\ndf_6",
   "metadata": {
    "tags": [],
    "deepnote_variable_name": "df_6",
    "sql_integration_id": "deepnote-dataframe-sql",
    "cell_id": "b9b5a712e8ec41b783ffa23c4ca91868",
    "deepnote_to_be_reexecuted": false,
    "source_hash": "6f71ca97",
    "execution_start": 1660822437321,
    "execution_millis": 44,
    "deepnote_cell_type": "sql",
    "deepnote_sql_source": "SELECT DISTINCT Product_name, MAX(Current_price) AS Highest\nfrom df_tele\nGROUP BY Product_name\norder by Highest DESC\n",
    "deepnote_cell_height": 707
   },
   "outputs": [
    {
     "output_type": "execute_result",
     "execution_count": 36,
     "data": {
      "application/vnd.deepnote.dataframe.v3+json": {
       "column_count": 2,
       "row_count": 56,
       "columns": [
        {
         "name": "Product_Name",
         "dtype": "object",
         "stats": {
          "unique_count": 56,
          "nan_count": 0,
          "categories": [
           {
            "name": "SAMSUNG",
            "count": 1
           },
           {
            "name": "LG",
            "count": 1
           },
           {
            "name": "54 others",
            "count": 54
           }
          ]
         }
        },
        {
         "name": "Highest",
         "dtype": "int64",
         "stats": {
          "unique_count": 50,
          "nan_count": 0,
          "min": "7499",
          "max": "599900",
          "histogram": [
           {
            "bin_start": 7499,
            "bin_end": 66739.1,
            "count": 40
           },
           {
            "bin_start": 66739.1,
            "bin_end": 125979.2,
            "count": 9
           },
           {
            "bin_start": 125979.2,
            "bin_end": 185219.3,
            "count": 2
           },
           {
            "bin_start": 185219.3,
            "bin_end": 244459.4,
            "count": 1
           },
           {
            "bin_start": 244459.4,
            "bin_end": 303699.5,
            "count": 1
           },
           {
            "bin_start": 303699.5,
            "bin_end": 362939.6,
            "count": 0
           },
           {
            "bin_start": 362939.6,
            "bin_end": 422179.7,
            "count": 0
           },
           {
            "bin_start": 422179.7,
            "bin_end": 481419.8,
            "count": 1
           },
           {
            "bin_start": 481419.8,
            "bin_end": 540659.9,
            "count": 1
           },
           {
            "bin_start": 540659.9,
            "bin_end": 599900,
            "count": 1
           }
          ]
         }
        },
        {
         "name": "_deepnote_index_column",
         "dtype": "int64"
        }
       ],
       "rows": [
        {
         "Product_Name": "SAMSUNG",
         "Highest": 599900,
         "_deepnote_index_column": 0
        },
        {
         "Product_Name": "LG",
         "Highest": 499990,
         "_deepnote_index_column": 1
        },
        {
         "Product_Name": "SONY",
         "Highest": 469999,
         "_deepnote_index_column": 2
        },
        {
         "Product_Name": "Vu",
         "Highest": 259999,
         "_deepnote_index_column": 3
        },
        {
         "Product_Name": "CORNEA",
         "Highest": 228999,
         "_deepnote_index_column": 4
        },
        {
         "Product_Name": "TCL",
         "Highest": 157490,
         "_deepnote_index_column": 5
        },
        {
         "Product_Name": "iFFALCON",
         "Highest": 149999,
         "_deepnote_index_column": 6
        },
        {
         "Product_Name": "Sansui",
         "Highest": 119990,
         "_deepnote_index_column": 7
        },
        {
         "Product_Name": "KODAK",
         "Highest": 99999,
         "_deepnote_index_column": 8
        },
        {
         "Product_Name": "Compaq",
         "Highest": 99999,
         "_deepnote_index_column": 9
        }
       ]
      },
      "text/plain": "   Product_Name  Highest\n0       SAMSUNG   599900\n1            LG   499990\n2          SONY   469999\n3            Vu   259999\n4        CORNEA   228999\n5           TCL   157490\n6      iFFALCON   149999\n7        Sansui   119990\n8         KODAK    99999\n9        Compaq    99999\n10        Lloyd    99990\n11     Micromax    91990\n12       Xiaomi    89999\n13    Panasonic    87439\n14      Hisense    77990\n15       Oxygen    69990\n16         MarQ    64999\n17        Haier    64646\n18      OnePlus    63990\n19     MOTOROLA    62999\n20           Mi    59999\n21        Croma    59990\n22    Blaupunkt    55999\n23         Akai    55947\n24        Nokia    49999\n25        IMPEX    49679\n26       realme    48999\n27      PHILIPS    48999\n28       Coocaa    39999\n29      TOSHIBA    38990\n30      Thomson    37999\n31          JVC    37999\n32      Hyundai    35999\n33        ONIDA    35999\n34         acer    34999\n35          BPL    34990\n36         Onix    32222\n37         Yuwa    30499\n38      Dyanora    28499\n39        Adsun    27999\n40     T-Series    26999\n41      Infinix    24999\n42  CloudWalker    24999\n43        DETEL    23499\n44         iMEE    19499\n45           VG    18990\n46       Candes    17999\n47          IGO    17999\n48       Nacson    15990\n49         Bush    14999\n50        InnoQ    13790\n51          RGL    13490\n52       kinger    12999\n53        HUIDI     9299\n54         LumX     8999\n55        Maser     7499",
      "text/html": "<div>\n<style scoped>\n    .dataframe tbody tr th:only-of-type {\n        vertical-align: middle;\n    }\n\n    .dataframe tbody tr th {\n        vertical-align: top;\n    }\n\n    .dataframe thead th {\n        text-align: right;\n    }\n</style>\n<table border=\"1\" class=\"dataframe\">\n  <thead>\n    <tr style=\"text-align: right;\">\n      <th></th>\n      <th>Product_Name</th>\n      <th>Highest</th>\n    </tr>\n  </thead>\n  <tbody>\n    <tr>\n      <th>0</th>\n      <td>SAMSUNG</td>\n      <td>599900</td>\n    </tr>\n    <tr>\n      <th>1</th>\n      <td>LG</td>\n      <td>499990</td>\n    </tr>\n    <tr>\n      <th>2</th>\n      <td>SONY</td>\n      <td>469999</td>\n    </tr>\n    <tr>\n      <th>3</th>\n      <td>Vu</td>\n      <td>259999</td>\n    </tr>\n    <tr>\n      <th>4</th>\n      <td>CORNEA</td>\n      <td>228999</td>\n    </tr>\n    <tr>\n      <th>5</th>\n      <td>TCL</td>\n      <td>157490</td>\n    </tr>\n    <tr>\n      <th>6</th>\n      <td>iFFALCON</td>\n      <td>149999</td>\n    </tr>\n    <tr>\n      <th>7</th>\n      <td>Sansui</td>\n      <td>119990</td>\n    </tr>\n    <tr>\n      <th>8</th>\n      <td>KODAK</td>\n      <td>99999</td>\n    </tr>\n    <tr>\n      <th>9</th>\n      <td>Compaq</td>\n      <td>99999</td>\n    </tr>\n    <tr>\n      <th>10</th>\n      <td>Lloyd</td>\n      <td>99990</td>\n    </tr>\n    <tr>\n      <th>11</th>\n      <td>Micromax</td>\n      <td>91990</td>\n    </tr>\n    <tr>\n      <th>12</th>\n      <td>Xiaomi</td>\n      <td>89999</td>\n    </tr>\n    <tr>\n      <th>13</th>\n      <td>Panasonic</td>\n      <td>87439</td>\n    </tr>\n    <tr>\n      <th>14</th>\n      <td>Hisense</td>\n      <td>77990</td>\n    </tr>\n    <tr>\n      <th>15</th>\n      <td>Oxygen</td>\n      <td>69990</td>\n    </tr>\n    <tr>\n      <th>16</th>\n      <td>MarQ</td>\n      <td>64999</td>\n    </tr>\n    <tr>\n      <th>17</th>\n      <td>Haier</td>\n      <td>64646</td>\n    </tr>\n    <tr>\n      <th>18</th>\n      <td>OnePlus</td>\n      <td>63990</td>\n    </tr>\n    <tr>\n      <th>19</th>\n      <td>MOTOROLA</td>\n      <td>62999</td>\n    </tr>\n    <tr>\n      <th>20</th>\n      <td>Mi</td>\n      <td>59999</td>\n    </tr>\n    <tr>\n      <th>21</th>\n      <td>Croma</td>\n      <td>59990</td>\n    </tr>\n    <tr>\n      <th>22</th>\n      <td>Blaupunkt</td>\n      <td>55999</td>\n    </tr>\n    <tr>\n      <th>23</th>\n      <td>Akai</td>\n      <td>55947</td>\n    </tr>\n    <tr>\n      <th>24</th>\n      <td>Nokia</td>\n      <td>49999</td>\n    </tr>\n    <tr>\n      <th>25</th>\n      <td>IMPEX</td>\n      <td>49679</td>\n    </tr>\n    <tr>\n      <th>26</th>\n      <td>realme</td>\n      <td>48999</td>\n    </tr>\n    <tr>\n      <th>27</th>\n      <td>PHILIPS</td>\n      <td>48999</td>\n    </tr>\n    <tr>\n      <th>28</th>\n      <td>Coocaa</td>\n      <td>39999</td>\n    </tr>\n    <tr>\n      <th>29</th>\n      <td>TOSHIBA</td>\n      <td>38990</td>\n    </tr>\n    <tr>\n      <th>30</th>\n      <td>Thomson</td>\n      <td>37999</td>\n    </tr>\n    <tr>\n      <th>31</th>\n      <td>JVC</td>\n      <td>37999</td>\n    </tr>\n    <tr>\n      <th>32</th>\n      <td>Hyundai</td>\n      <td>35999</td>\n    </tr>\n    <tr>\n      <th>33</th>\n      <td>ONIDA</td>\n      <td>35999</td>\n    </tr>\n    <tr>\n      <th>34</th>\n      <td>acer</td>\n      <td>34999</td>\n    </tr>\n    <tr>\n      <th>35</th>\n      <td>BPL</td>\n      <td>34990</td>\n    </tr>\n    <tr>\n      <th>36</th>\n      <td>Onix</td>\n      <td>32222</td>\n    </tr>\n    <tr>\n      <th>37</th>\n      <td>Yuwa</td>\n      <td>30499</td>\n    </tr>\n    <tr>\n      <th>38</th>\n      <td>Dyanora</td>\n      <td>28499</td>\n    </tr>\n    <tr>\n      <th>39</th>\n      <td>Adsun</td>\n      <td>27999</td>\n    </tr>\n    <tr>\n      <th>40</th>\n      <td>T-Series</td>\n      <td>26999</td>\n    </tr>\n    <tr>\n      <th>41</th>\n      <td>Infinix</td>\n      <td>24999</td>\n    </tr>\n    <tr>\n      <th>42</th>\n      <td>CloudWalker</td>\n      <td>24999</td>\n    </tr>\n    <tr>\n      <th>43</th>\n      <td>DETEL</td>\n      <td>23499</td>\n    </tr>\n    <tr>\n      <th>44</th>\n      <td>iMEE</td>\n      <td>19499</td>\n    </tr>\n    <tr>\n      <th>45</th>\n      <td>VG</td>\n      <td>18990</td>\n    </tr>\n    <tr>\n      <th>46</th>\n      <td>Candes</td>\n      <td>17999</td>\n    </tr>\n    <tr>\n      <th>47</th>\n      <td>IGO</td>\n      <td>17999</td>\n    </tr>\n    <tr>\n      <th>48</th>\n      <td>Nacson</td>\n      <td>15990</td>\n    </tr>\n    <tr>\n      <th>49</th>\n      <td>Bush</td>\n      <td>14999</td>\n    </tr>\n    <tr>\n      <th>50</th>\n      <td>InnoQ</td>\n      <td>13790</td>\n    </tr>\n    <tr>\n      <th>51</th>\n      <td>RGL</td>\n      <td>13490</td>\n    </tr>\n    <tr>\n      <th>52</th>\n      <td>kinger</td>\n      <td>12999</td>\n    </tr>\n    <tr>\n      <th>53</th>\n      <td>HUIDI</td>\n      <td>9299</td>\n    </tr>\n    <tr>\n      <th>54</th>\n      <td>LumX</td>\n      <td>8999</td>\n    </tr>\n    <tr>\n      <th>55</th>\n      <td>Maser</td>\n      <td>7499</td>\n    </tr>\n  </tbody>\n</table>\n</div>"
     },
     "metadata": {}
    }
   ],
   "execution_count": null
  },
  {
   "cell_type": "code",
   "metadata": {
    "cell_id": "8116f85cbe824a52a8e5b4eceb9f2fe6",
    "deepnote_variable_name": "df_6",
    "deepnote_visualization_spec": {
     "$schema": "https://vega.github.io/schema/vega-lite/v4.json",
     "mark": {
      "type": "bar",
      "tooltip": true
     },
     "height": 220,
     "autosize": {
      "type": "fit"
     },
     "data": {
      "name": "placeholder"
     },
     "encoding": {
      "x": {
       "field": "Product_Name",
       "type": "nominal",
       "sort": null,
       "scale": {
        "type": "linear",
        "zero": false
       }
      },
      "y": {
       "field": "Highest",
       "type": "quantitative",
       "sort": null,
       "scale": {
        "type": "linear",
        "zero": true
       }
      },
      "color": {
       "field": "",
       "type": "nominal",
       "sort": null,
       "scale": {
        "type": "linear",
        "zero": false
       }
      }
     }
    },
    "deepnote_to_be_reexecuted": false,
    "source_hash": "a89292e3",
    "execution_start": 1660822469647,
    "execution_millis": 75,
    "deepnote_cell_type": "visualization"
   },
   "outputs": [
    {
     "output_type": "execute_result",
     "execution_count": 37,
     "data": {
      "text/html": "\n<div id=\"altair-viz-79de8aa9aedb4cb1b26ef6ce08197340\"></div>\n<script type=\"text/javascript\">\n  (function(spec, embedOpt){\n    let outputDiv = document.currentScript.previousElementSibling;\n    if (outputDiv.id !== \"altair-viz-79de8aa9aedb4cb1b26ef6ce08197340\") {\n      outputDiv = document.getElementById(\"altair-viz-79de8aa9aedb4cb1b26ef6ce08197340\");\n    }\n    const paths = {\n      \"vega\": \"https://cdn.jsdelivr.net/npm//vega@5?noext\",\n      \"vega-lib\": \"https://cdn.jsdelivr.net/npm//vega-lib?noext\",\n      \"vega-lite\": \"https://cdn.jsdelivr.net/npm//vega-lite@4.8.1?noext\",\n      \"vega-embed\": \"https://cdn.jsdelivr.net/npm//vega-embed@6?noext\",\n    };\n\n    function loadScript(lib) {\n      return new Promise(function(resolve, reject) {\n        var s = document.createElement('script');\n        s.src = paths[lib];\n        s.async = true;\n        s.onload = () => resolve(paths[lib]);\n        s.onerror = () => reject(`Error loading script: ${paths[lib]}`);\n        document.getElementsByTagName(\"head\")[0].appendChild(s);\n      });\n    }\n\n    function showError(err) {\n      outputDiv.innerHTML = `<div class=\"error\" style=\"color:red;\">${err}</div>`;\n      throw err;\n    }\n\n    function displayChart(vegaEmbed) {\n      vegaEmbed(outputDiv, spec, embedOpt)\n        .catch(err => showError(`Javascript Error: ${err.message}<br>This usually means there's a typo in your chart specification. See the javascript console for the full traceback.`));\n    }\n\n    if(typeof define === \"function\" && define.amd) {\n      requirejs.config({paths});\n      require([\"vega-embed\"], displayChart, err => showError(`Error loading script: ${err.message}`));\n    } else if (typeof vegaEmbed === \"function\") {\n      displayChart(vegaEmbed);\n    } else {\n      loadScript(\"vega\")\n        .then(() => loadScript(\"vega-lite\"))\n        .then(() => loadScript(\"vega-embed\"))\n        .catch(showError)\n        .then(() => displayChart(vegaEmbed));\n    }\n  })({\"config\": {\"view\": {\"continuousWidth\": 400, \"continuousHeight\": 300}, \"area\": {\"fill\": \"#51C0E9\"}, \"axis\": {\"labelFont\": \"Inter, sans-serif\", \"labelFontSize\": 12, \"labelFontWeight\": \"normal\", \"labelLimit\": 60, \"labelOverlap\": \"greedy\", \"titleFont\": \"Inter, sans-serif\", \"titleFontSize\": 12, \"titleFontWeight\": \"bold\"}, \"background\": \"#ffffff\", \"legend\": {\"labelFont\": \"Inter, sans-serif\", \"labelFontSize\": 12, \"titleFont\": \"Inter, sans-serif\", \"titleFontSize\": 12, \"titleFontWeight\": \"bold\"}, \"line\": {\"stroke\": \"#51C0E9\", \"strokeWidth\": 2}, \"rect\": {\"fill\": \"#51C0E9\"}, \"title\": {\"anchor\": \"start\", \"color\": \"#000000\", \"font\": \"Inter, sans-serif\", \"fontSize\": 22, \"fontWeight\": \"normal\"}}, \"data\": {\"name\": \"data-b2cd6d2ebb345d83103afd7e58507cc8\"}, \"mark\": {\"type\": \"bar\", \"tooltip\": true}, \"autosize\": {\"type\": \"fit\"}, \"encoding\": {\"color\": {\"type\": \"nominal\", \"field\": \"\", \"scale\": {\"type\": \"linear\", \"zero\": false}, \"sort\": null}, \"x\": {\"type\": \"nominal\", \"field\": \"Product_Name\", \"scale\": {\"type\": \"linear\", \"zero\": false}, \"sort\": null}, \"y\": {\"type\": \"quantitative\", \"field\": \"Highest\", \"scale\": {\"type\": \"linear\", \"zero\": true}, \"sort\": null}}, \"height\": 300, \"width\": \"container\", \"$schema\": \"https://vega.github.io/schema/vega-lite/v4.json\", \"datasets\": {\"data-b2cd6d2ebb345d83103afd7e58507cc8\": [{\"Product_Name\": \"SAMSUNG\", \"Highest\": 599900}, {\"Product_Name\": \"LG\", \"Highest\": 499990}, {\"Product_Name\": \"SONY\", \"Highest\": 469999}, {\"Product_Name\": \"Vu\", \"Highest\": 259999}, {\"Product_Name\": \"CORNEA\", \"Highest\": 228999}, {\"Product_Name\": \"TCL\", \"Highest\": 157490}, {\"Product_Name\": \"iFFALCON\", \"Highest\": 149999}, {\"Product_Name\": \"Sansui\", \"Highest\": 119990}, {\"Product_Name\": \"KODAK\", \"Highest\": 99999}, {\"Product_Name\": \"Compaq\", \"Highest\": 99999}, {\"Product_Name\": \"Lloyd\", \"Highest\": 99990}, {\"Product_Name\": \"Micromax\", \"Highest\": 91990}, {\"Product_Name\": \"Xiaomi\", \"Highest\": 89999}, {\"Product_Name\": \"Panasonic\", \"Highest\": 87439}, {\"Product_Name\": \"Hisense\", \"Highest\": 77990}, {\"Product_Name\": \"Oxygen\", \"Highest\": 69990}, {\"Product_Name\": \"MarQ\", \"Highest\": 64999}, {\"Product_Name\": \"Haier\", \"Highest\": 64646}, {\"Product_Name\": \"OnePlus\", \"Highest\": 63990}, {\"Product_Name\": \"MOTOROLA\", \"Highest\": 62999}, {\"Product_Name\": \"Mi\", \"Highest\": 59999}, {\"Product_Name\": \"Croma\", \"Highest\": 59990}, {\"Product_Name\": \"Blaupunkt\", \"Highest\": 55999}, {\"Product_Name\": \"Akai\", \"Highest\": 55947}, {\"Product_Name\": \"Nokia\", \"Highest\": 49999}, {\"Product_Name\": \"IMPEX\", \"Highest\": 49679}, {\"Product_Name\": \"realme\", \"Highest\": 48999}, {\"Product_Name\": \"PHILIPS\", \"Highest\": 48999}, {\"Product_Name\": \"Coocaa\", \"Highest\": 39999}, {\"Product_Name\": \"TOSHIBA\", \"Highest\": 38990}, {\"Product_Name\": \"Thomson\", \"Highest\": 37999}, {\"Product_Name\": \"JVC\", \"Highest\": 37999}, {\"Product_Name\": \"Hyundai\", \"Highest\": 35999}, {\"Product_Name\": \"ONIDA\", \"Highest\": 35999}, {\"Product_Name\": \"acer\", \"Highest\": 34999}, {\"Product_Name\": \"BPL\", \"Highest\": 34990}, {\"Product_Name\": \"Onix\", \"Highest\": 32222}, {\"Product_Name\": \"Yuwa\", \"Highest\": 30499}, {\"Product_Name\": \"Dyanora\", \"Highest\": 28499}, {\"Product_Name\": \"Adsun\", \"Highest\": 27999}, {\"Product_Name\": \"T-Series\", \"Highest\": 26999}, {\"Product_Name\": \"Infinix\", \"Highest\": 24999}, {\"Product_Name\": \"CloudWalker\", \"Highest\": 24999}, {\"Product_Name\": \"DETEL\", \"Highest\": 23499}, {\"Product_Name\": \"iMEE\", \"Highest\": 19499}, {\"Product_Name\": \"VG\", \"Highest\": 18990}, {\"Product_Name\": \"Candes\", \"Highest\": 17999}, {\"Product_Name\": \"IGO\", \"Highest\": 17999}, {\"Product_Name\": \"Nacson\", \"Highest\": 15990}, {\"Product_Name\": \"Bush\", \"Highest\": 14999}, {\"Product_Name\": \"InnoQ\", \"Highest\": 13790}, {\"Product_Name\": \"RGL\", \"Highest\": 13490}, {\"Product_Name\": \"kinger\", \"Highest\": 12999}, {\"Product_Name\": \"HUIDI\", \"Highest\": 9299}, {\"Product_Name\": \"LumX\", \"Highest\": 8999}, {\"Product_Name\": \"Maser\", \"Highest\": 7499}]}}, {\"actions\": false, \"mode\": \"vega-lite\"});\n</script>",
      "text/plain": "alt.Chart(...)"
     },
     "metadata": {}
    }
   ],
   "source": "_deepnote_run_altair(df_6, \"\"\"{\"$schema\":\"https://vega.github.io/schema/vega-lite/v4.json\",\"mark\":{\"type\":\"bar\",\"tooltip\":true},\"height\":220,\"autosize\":{\"type\":\"fit\"},\"data\":{\"name\":\"placeholder\"},\"encoding\":{\"x\":{\"field\":\"Product_Name\",\"type\":\"nominal\",\"sort\":null,\"scale\":{\"type\":\"linear\",\"zero\":false}},\"y\":{\"field\":\"Highest\",\"type\":\"quantitative\",\"sort\":null,\"scale\":{\"type\":\"linear\",\"zero\":true}},\"color\":{\"field\":\"\",\"type\":\"nominal\",\"sort\":null,\"scale\":{\"type\":\"linear\",\"zero\":false}}}}\"\"\")",
   "execution_count": null
  },
  {
   "cell_type": "markdown",
   "source": "<a style='text-decoration:none;line-height:16px;display:flex;color:#5B5B62;padding:10px;justify-content:end;' href='https://deepnote.com?utm_source=created-in-deepnote-cell&projectId=585317d5-7bc7-4f88-ad8d-939523567c40' target=\"_blank\">\n<img alt='Created in deepnote.com' style='display:inline;max-height:16px;margin:0px;margin-right:7.5px;' src='data:image/svg+xml;base64,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' > </img>\nCreated in <span style='font-weight:600;margin-left:4px;'>Deepnote</span></a>",
   "metadata": {
    "tags": [],
    "created_in_deepnote_cell": true,
    "deepnote_cell_type": "markdown"
   }
  }
 ],
 "nbformat": 4,
 "nbformat_minor": 2,
 "metadata": {
  "orig_nbformat": 2,
  "deepnote": {},
  "deepnote_notebook_id": "ed6361cd-b636-4e43-b57a-57490ba5ca12",
  "deepnote_execution_queue": []
 }
}